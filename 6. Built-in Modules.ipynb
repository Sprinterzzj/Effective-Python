{
 "cells": [
  {
   "cell_type": "markdown",
   "metadata": {},
   "source": [
    "### functool.wraps 模块"
   ]
  },
  {
   "cell_type": "code",
   "execution_count": 2,
   "metadata": {},
   "outputs": [],
   "source": [
    "#定义函数装饰器\n",
    "#装饰器可以在被warp的函数call之前/之后，运行额外的代码\n",
    "#比如说,你想打印调用的函数名以及函数的返回值\n",
    "\n",
    "def trace(func):\n",
    "    def wrapper(*args, **kwargs):\n",
    "        result = func(*args, **kwargs)\n",
    "        #func.__name__获取函数名字\n",
    "        print('%s(%r, %r) -> %r' %\\\n",
    "              (func.__name__, args, kwargs, result))\n",
    "        return result\n",
    "    return wrapper"
   ]
  },
  {
   "cell_type": "code",
   "execution_count": 4,
   "metadata": {},
   "outputs": [],
   "source": [
    "#用 @symbol来使用装饰器\n",
    "#等价于 fibonacci = trace(fibonacci)\n",
    "@trace\n",
    "def fibonacci(n):\n",
    "    if n in (0, 1):\n",
    "        return n\n",
    "    return (fibonacci(n - 2) + fibonacci(n - 1))"
   ]
  },
  {
   "cell_type": "code",
   "execution_count": 5,
   "metadata": {},
   "outputs": [
    {
     "name": "stdout",
     "output_type": "stream",
     "text": [
      "fibonacci((1,), {}) -> 1\n",
      "fibonacci((0,), {}) -> 0\n",
      "fibonacci((1,), {}) -> 1\n",
      "fibonacci((2,), {}) -> 1\n",
      "fibonacci((3,), {}) -> 2\n"
     ]
    },
    {
     "data": {
      "text/plain": [
       "2"
      ]
     },
     "execution_count": 5,
     "metadata": {},
     "output_type": "execute_result"
    }
   ],
   "source": [
    "fibonacci(3)"
   ]
  },
  {
   "cell_type": "code",
   "execution_count": 6,
   "metadata": {},
   "outputs": [
    {
     "name": "stdout",
     "output_type": "stream",
     "text": [
      "<function trace.<locals>.wrapper at 0x7ff80c654510>\n"
     ]
    }
   ],
   "source": [
    "#上面的用法有一个副作用，就是 装饰了trace的函数fibonacci,\n",
    "#他的函数名不叫fibonacci:\n",
    "print(fibonacci)\n",
    "#这可以会给 debug和序列化 带来困难"
   ]
  },
  {
   "cell_type": "code",
   "execution_count": 7,
   "metadata": {},
   "outputs": [
    {
     "data": {
      "text/plain": [
       "'wrapper'"
      ]
     },
     "execution_count": 7,
     "metadata": {},
     "output_type": "execute_result"
    }
   ],
   "source": [
    "fibonacci.__name__"
   ]
  },
  {
   "cell_type": "code",
   "execution_count": 8,
   "metadata": {},
   "outputs": [
    {
     "name": "stdout",
     "output_type": "stream",
     "text": [
      "Help on function wrapper in module __main__:\n",
      "\n",
      "wrapper(*args, **kwargs)\n",
      "\n"
     ]
    }
   ],
   "source": [
    "#help函数也失效了\n",
    "help(fibonacci)"
   ]
  },
  {
   "cell_type": "code",
   "execution_count": 10,
   "metadata": {},
   "outputs": [],
   "source": [
    "#解决方案: functools\n",
    "from functools import wraps\n",
    "def trace(func):\n",
    "    @wraps(func)\n",
    "    def wrapper(*args, **kwargs):\n",
    "        result = func(*args, **kwargs)\n",
    "        print('%s(%r, %r) -> %r' %\\\n",
    "             (func.__name__, args, kwargs, result))\n",
    "        return result\n",
    "    return wrapper\n",
    "            "
   ]
  },
  {
   "cell_type": "code",
   "execution_count": 11,
   "metadata": {},
   "outputs": [],
   "source": [
    "@trace\n",
    "def fibonacci(n):\n",
    "    if n in (0, 1):\n",
    "        return n\n",
    "    return (fibonacci(n - 2) + fibonacci(n - 1))"
   ]
  },
  {
   "cell_type": "code",
   "execution_count": 12,
   "metadata": {},
   "outputs": [
    {
     "name": "stdout",
     "output_type": "stream",
     "text": [
      "Help on function fibonacci in module __main__:\n",
      "\n",
      "fibonacci(n)\n",
      "\n"
     ]
    }
   ],
   "source": [
    "help(fibonacci)"
   ]
  },
  {
   "cell_type": "code",
   "execution_count": 13,
   "metadata": {},
   "outputs": [
    {
     "data": {
      "text/plain": [
       "'fibonacci'"
      ]
     },
     "execution_count": 13,
     "metadata": {},
     "output_type": "execute_result"
    }
   ],
   "source": [
    "fibonacci.__name__"
   ]
  },
  {
   "cell_type": "markdown",
   "metadata": {},
   "source": [
    "### contextlib.contextmanager模块和with关键字"
   ]
  },
  {
   "cell_type": "code",
   "execution_count": 16,
   "metadata": {},
   "outputs": [
    {
     "name": "stdout",
     "output_type": "stream",
     "text": [
      "Lock is held\n",
      "Lock is held\n"
     ]
    }
   ],
   "source": [
    "#下面两个代码块是等价的\n",
    "#使用 with的代码块更加简洁\n",
    "from threading import Lock\n",
    "lock = Lock()\n",
    "with lock:\n",
    "    print('Lock is held')\n",
    "\n",
    "lock = Lock()\n",
    "lock.acquire()\n",
    "try:\n",
    "    print('Lock is held')\n",
    "finally:\n",
    "    lock.release()"
   ]
  },
  {
   "cell_type": "code",
   "execution_count": 18,
   "metadata": {},
   "outputs": [],
   "source": [
    "#使用contexlib模块中的contextmanager可以\n",
    "#是你的函数与 with联用\n",
    "from contextlib import contextmanager"
   ]
  },
  {
   "cell_type": "code",
   "execution_count": 25,
   "metadata": {},
   "outputs": [],
   "source": [
    "#假设你想要你的程序打印一些log\n",
    "import logging\n",
    "def my_function():\n",
    "    logging.debug('Some debug data')\n",
    "    logging.error('Error log here')\n",
    "    logging.debug('More debug data')"
   ]
  },
  {
   "cell_type": "code",
   "execution_count": 26,
   "metadata": {},
   "outputs": [
    {
     "name": "stderr",
     "output_type": "stream",
     "text": [
      "ERROR:root:Error log here\n"
     ]
    }
   ],
   "source": [
    "#默认的log level是WARNING,因此只会打印出error信息\n",
    "my_function()"
   ]
  },
  {
   "cell_type": "code",
   "execution_count": 27,
   "metadata": {},
   "outputs": [],
   "source": [
    "#我可以定义如下的helper_function，通过with语句，他可以暂时修改log level\n",
    "@contextmanager\n",
    "def debug_logging(level):\n",
    "    logger = logging.getLogger()\n",
    "    old_level = logger.getEffectiveLevel()\n",
    "    logger.setLevel(level)\n",
    "    try:\n",
    "        #这是关键。在with里面捕捉到的任何异常都会传递到helper里\n",
    "        yield\n",
    "    finally:\n",
    "        logger.setLevel(old_level)"
   ]
  },
  {
   "cell_type": "code",
   "execution_count": 28,
   "metadata": {},
   "outputs": [
    {
     "name": "stderr",
     "output_type": "stream",
     "text": [
      "DEBUG:root:Some debug data\n",
      "ERROR:root:Error log here\n",
      "DEBUG:root:More debug data\n",
      "ERROR:root:Error log here\n"
     ]
    },
    {
     "name": "stdout",
     "output_type": "stream",
     "text": [
      "Inside: \n",
      "After: \n"
     ]
    }
   ],
   "source": [
    "with debug_logging(logging.DEBUG):\n",
    "    print('Inside: ')\n",
    "    my_function()\n",
    "print('After: ')\n",
    "my_function()"
   ]
  },
  {
   "cell_type": "code",
   "execution_count": 31,
   "metadata": {},
   "outputs": [],
   "source": [
    "#用 as 来 管理 with返回的object\n",
    "#例如\n",
    "with open('my_text.txt', 'w') as handle:\n",
    "    handle.write('This is some data')\n",
    "#文件会在with语句结束后自动关闭。"
   ]
  },
  {
   "cell_type": "code",
   "execution_count": 32,
   "metadata": {},
   "outputs": [],
   "source": [
    "#我们可以更改我们的helper函数使它返回一个可以被 as 用的值\n",
    "@contextmanager\n",
    "def log_level(level, name):\n",
    "    logger = logging.getLogger(name)\n",
    "    old_level = logger.getEffectiveLevel()\n",
    "    logger.setLevel(level)\n",
    "    try:\n",
    "        yield logger\n",
    "    finally:\n",
    "        logger.setLevel(old_level)"
   ]
  },
  {
   "cell_type": "code",
   "execution_count": 34,
   "metadata": {},
   "outputs": [
    {
     "name": "stderr",
     "output_type": "stream",
     "text": [
      "DEBUG:my-log:This is my message!\n",
      "ERROR:my-log:Error will print\n"
     ]
    }
   ],
   "source": [
    "with log_level(logging.DEBUG, 'my-log') as logger:\n",
    "    logger.debug('This is my message!')\n",
    "    logging.debug('This will not print') #logging的默认等级是warning, 所以不会打印\n",
    "#在with语句结束后,’my-log‘ logger不会打印出 debug log,因为log level 已经回到默认等级\n",
    "logger = logging.getLogger('my-log')\n",
    "logger.debug('Debug will not print')\n",
    "logger.error('Error will print')"
   ]
  },
  {
   "cell_type": "markdown",
   "metadata": {},
   "source": [
    "### datatime 模块"
   ]
  },
  {
   "cell_type": "code",
   "execution_count": 56,
   "metadata": {},
   "outputs": [],
   "source": [
    "#datetime模块要比time模块好用"
   ]
  },
  {
   "cell_type": "markdown",
   "metadata": {},
   "source": [
    "### Built-in Algorithms & Data Structures"
   ]
  },
  {
   "cell_type": "code",
   "execution_count": 57,
   "metadata": {},
   "outputs": [],
   "source": [
    "#1. Double-ended Queue\n",
    "from collections import deque\n",
    "#常数时间内插入和删除元素\n",
    "fifo = deque()\n",
    "fifo.append(1) #Producer\n",
    "x = fifo.popleft() #Consumer"
   ]
  },
  {
   "cell_type": "code",
   "execution_count": 69,
   "metadata": {},
   "outputs": [
    {
     "name": "stdout",
     "output_type": "stream",
     "text": [
      "1 red\n",
      "2 blue\n"
     ]
    }
   ],
   "source": [
    "#2. Ordered Dictionary\n",
    "#默认的字典是无序的。\n",
    "#OrderedDict 保持了**value**插入的顺序:\n",
    "from collections import OrderedDict\n",
    "a = OrderedDict()\n",
    "a['foo'] = 1\n",
    "a['bar'] = 2\n",
    "b = OrderedDict()\n",
    "b['bar'] = 'red'\n",
    "b['foo'] = 'blue'\n",
    "\n",
    "for value1, value2 in zip(a.values(), b.values()):\n",
    "    print(value1, value2)\n"
   ]
  },
  {
   "cell_type": "code",
   "execution_count": 70,
   "metadata": {},
   "outputs": [],
   "source": [
    "#3. Default Dictionary\n",
    "#默认的字典的一个问题是,你不能假设 一个 key是已经存在的\n",
    "#defaultdict会在key不存在时引入默认的value\n",
    "from collections import defaultdict\n",
    "stats = defaultdict(int)\n",
    "stats['my_counter'] += 1"
   ]
  },
  {
   "cell_type": "code",
   "execution_count": 71,
   "metadata": {},
   "outputs": [
    {
     "data": {
      "text/plain": [
       "defaultdict(int, {'my_counter': 1})"
      ]
     },
     "execution_count": 71,
     "metadata": {},
     "output_type": "execute_result"
    }
   ],
   "source": [
    "stats"
   ]
  },
  {
   "cell_type": "code",
   "execution_count": 74,
   "metadata": {},
   "outputs": [],
   "source": [
    "#4. Heap Queue\n",
    "#维持一个优先队列\n",
    "from heapq import heappush, heappop, nsmallest, nlargest\n",
    "a = []\n",
    "#插入元素按任意顺序在a里排列,但最小值一定在对列头部\n",
    "heappush(a, 5)\n",
    "heappush(a, 3)\n",
    "heappush(a, 7)\n",
    "heappush(a, 4)"
   ]
  },
  {
   "cell_type": "code",
   "execution_count": 75,
   "metadata": {},
   "outputs": [
    {
     "data": {
      "text/plain": [
       "[3, 4, 7, 5]"
      ]
     },
     "execution_count": 75,
     "metadata": {},
     "output_type": "execute_result"
    }
   ],
   "source": [
    "a"
   ]
  },
  {
   "cell_type": "code",
   "execution_count": 76,
   "metadata": {},
   "outputs": [
    {
     "name": "stdout",
     "output_type": "stream",
     "text": [
      "3 4 5 7\n"
     ]
    }
   ],
   "source": [
    "#但是删除元素是按照最高优先级(最小元素)删除\n",
    "print(heappop(a), heappop(a), heappop(a), heappop(a))"
   ]
  },
  {
   "cell_type": "code",
   "execution_count": 77,
   "metadata": {},
   "outputs": [],
   "source": [
    "#头部元素一定是优先级最高的元素(最小元素)\n",
    "a = [] \n",
    "heappush(a, 5) \n",
    "heappush(a, 3) \n",
    "heappush(a, 7) \n",
    "heappush(a, 4) \n",
    "assert a[0] == nsmallest(1, a)[0] == 3"
   ]
  },
  {
   "cell_type": "code",
   "execution_count": 78,
   "metadata": {},
   "outputs": [
    {
     "name": "stdout",
     "output_type": "stream",
     "text": [
      "Before:  [3, 4, 7, 5]\n",
      "After:,  [3, 4, 5, 7]\n"
     ]
    }
   ],
   "source": [
    "#排序不改变头号元素\n",
    "print('Before: ', a)\n",
    "a.sort()\n",
    "print('After:, ', a)"
   ]
  },
  {
   "cell_type": "code",
   "execution_count": 79,
   "metadata": {},
   "outputs": [
    {
     "name": "stdout",
     "output_type": "stream",
     "text": [
      "CPU times: user 13.8 ms, sys: 30 µs, total: 13.9 ms\n",
      "Wall time: 13.7 ms\n"
     ]
    }
   ],
   "source": [
    "#4. Bisection\n",
    "#用来做对数线性时间查找\n",
    "x = list(range(10**6))\n",
    "%time i = x.index(991234)"
   ]
  },
  {
   "cell_type": "code",
   "execution_count": 80,
   "metadata": {},
   "outputs": [
    {
     "name": "stdout",
     "output_type": "stream",
     "text": [
      "CPU times: user 15 µs, sys: 1 µs, total: 16 µs\n",
      "Wall time: 19.1 µs\n"
     ]
    }
   ],
   "source": [
    "from bisect import bisect_left\n",
    "%time i = bisect_left(x, 991234)"
   ]
  },
  {
   "cell_type": "code",
   "execution_count": 81,
   "metadata": {},
   "outputs": [],
   "source": [
    "#5. Iterator tools\n",
    "#itertools 模块含有三类:\n",
    "##1. 链接两个迭代器:\n",
    "#### chain 将复数个迭代器拼接起来\n",
    "#### cycle 永远重复一个迭代器\n",
    "#### tee 讲一个迭代器分割成数个平行的迭代器\n",
    "#### zip_longest zip built-in模块的变种,处理两个迭代器长度不等的情形\n",
    "##2. 过滤一个迭代器:\n",
    "#### islice 切片一个迭代器,不返回拷贝\n",
    "#### takewhile, dropwhile\n",
    "#### filterfalse 当func返回 False时,return 这些元素。这与 filter built-in模块作用相反。\n",
    "##3. 将复数个迭代器的元素结合起来\n",
    "#### product 返回 一个迭代器的 Cartesian 乘积, 可以用来做 deep nested list comprehensions\n",
    "#### permutation  返回长度为N的排列\n",
    "#### combination 返回长度为N的无重复组合"
   ]
  },
  {
   "cell_type": "code",
   "execution_count": null,
   "metadata": {},
   "outputs": [],
   "source": []
  }
 ],
 "metadata": {
  "kernelspec": {
   "display_name": "Python 3",
   "language": "python",
   "name": "python3"
  },
  "language_info": {
   "codemirror_mode": {
    "name": "ipython",
    "version": 3
   },
   "file_extension": ".py",
   "mimetype": "text/x-python",
   "name": "python",
   "nbconvert_exporter": "python",
   "pygments_lexer": "ipython3",
   "version": "3.7.5"
  },
  "toc": {
   "base_numbering": 1,
   "nav_menu": {},
   "number_sections": true,
   "sideBar": true,
   "skip_h1_title": false,
   "title_cell": "Table of Contents",
   "title_sidebar": "Contents",
   "toc_cell": false,
   "toc_position": {},
   "toc_section_display": true,
   "toc_window_display": false
  }
 },
 "nbformat": 4,
 "nbformat_minor": 2
}
