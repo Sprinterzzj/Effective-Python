{
 "cells": [
  {
   "cell_type": "code",
   "execution_count": 2,
   "metadata": {},
   "outputs": [],
   "source": [
    "#我们首先来看看 decorator 解决哪些问题"
   ]
  },
  {
   "cell_type": "code",
   "execution_count": 3,
   "metadata": {},
   "outputs": [],
   "source": [
    "def add(x, y=10):\n",
    "    return x + y"
   ]
  },
  {
   "cell_type": "code",
   "execution_count": 4,
   "metadata": {},
   "outputs": [
    {
     "data": {
      "text/plain": [
       "30"
      ]
     },
     "execution_count": 4,
     "metadata": {},
     "output_type": "execute_result"
    }
   ],
   "source": [
    "add(10, 20)"
   ]
  },
  {
   "cell_type": "markdown",
   "metadata": {},
   "source": [
    "### 检查add函数"
   ]
  },
  {
   "cell_type": "code",
   "execution_count": 5,
   "metadata": {},
   "outputs": [
    {
     "data": {
      "text/plain": [
       "<function __main__.add(x, y=10)>"
      ]
     },
     "execution_count": 5,
     "metadata": {},
     "output_type": "execute_result"
    }
   ],
   "source": [
    "add"
   ]
  },
  {
   "cell_type": "code",
   "execution_count": 6,
   "metadata": {},
   "outputs": [
    {
     "data": {
      "text/plain": [
       "'add'"
      ]
     },
     "execution_count": 6,
     "metadata": {},
     "output_type": "execute_result"
    }
   ],
   "source": [
    "add.__name__"
   ]
  },
  {
   "cell_type": "code",
   "execution_count": 7,
   "metadata": {},
   "outputs": [
    {
     "data": {
      "text/plain": [
       "'__main__'"
      ]
     },
     "execution_count": 7,
     "metadata": {},
     "output_type": "execute_result"
    }
   ],
   "source": [
    "add.__module__"
   ]
  },
  {
   "cell_type": "code",
   "execution_count": 8,
   "metadata": {},
   "outputs": [
    {
     "data": {
      "text/plain": [
       "(10,)"
      ]
     },
     "execution_count": 8,
     "metadata": {},
     "output_type": "execute_result"
    }
   ],
   "source": [
    "add.__defaults__"
   ]
  },
  {
   "cell_type": "code",
   "execution_count": 9,
   "metadata": {},
   "outputs": [
    {
     "data": {
      "text/plain": [
       "('x', 'y')"
      ]
     },
     "execution_count": 9,
     "metadata": {},
     "output_type": "execute_result"
    }
   ],
   "source": [
    "add.__code__.co_varnames"
   ]
  },
  {
   "cell_type": "code",
   "execution_count": 11,
   "metadata": {},
   "outputs": [
    {
     "name": "stdout",
     "output_type": "stream",
     "text": [
      "def add(x, y=10):\n",
      "    return x + y\n",
      "\n"
     ]
    }
   ],
   "source": [
    "#你甚至可以查看 add的源代码\n",
    "from inspect import getsource\n",
    "print(getsource(add))"
   ]
  },
  {
   "cell_type": "code",
   "execution_count": 12,
   "metadata": {},
   "outputs": [],
   "source": [
    "#add函数执行加法运算。\n",
    "#现在你需要在add函数中执行“额外的功能”，比如timing"
   ]
  },
  {
   "cell_type": "code",
   "execution_count": 13,
   "metadata": {},
   "outputs": [],
   "source": [
    "from time import time\n",
    "def add(x, y=10):\n",
    "    before = time()\n",
    "    rv = x + y\n",
    "    after = time()\n",
    "    print('Time taken: ', after - before)\n",
    "    return rv"
   ]
  },
  {
   "cell_type": "code",
   "execution_count": 15,
   "metadata": {},
   "outputs": [
    {
     "name": "stdout",
     "output_type": "stream",
     "text": [
      "Time taken:  2.384185791015625e-07\n",
      "add(10): 20\n"
     ]
    }
   ],
   "source": [
    "print('add(10):', add(10))"
   ]
  },
  {
   "cell_type": "code",
   "execution_count": 17,
   "metadata": {},
   "outputs": [],
   "source": [
    "#但是上面的办法不具有普遍性: 如果你有其他的执行二元运算的函数也想timing，\n",
    "#你需要一个一个改写他们！！！\n",
    "#一个进阶的办法是用warp函数"
   ]
  },
  {
   "cell_type": "code",
   "execution_count": 18,
   "metadata": {},
   "outputs": [],
   "source": [
    "def timer(func):\n",
    "    def f(x, y=10):\n",
    "        before = time()\n",
    "        rv = func(x, y)\n",
    "        after = time()\n",
    "        print('Time Taken: ', after - before)\n",
    "        return rv\n",
    "    return f"
   ]
  },
  {
   "cell_type": "code",
   "execution_count": 20,
   "metadata": {},
   "outputs": [
    {
     "name": "stdout",
     "output_type": "stream",
     "text": [
      "Time Taken:  7.152557373046875e-07\n"
     ]
    },
    {
     "data": {
      "text/plain": [
       "8"
      ]
     },
     "execution_count": 20,
     "metadata": {},
     "output_type": "execute_result"
    }
   ],
   "source": [
    "def add(x, y=10):\n",
    "    return x + y\n",
    "add = timer(add)\n",
    "add(3, 5)"
   ]
  },
  {
   "cell_type": "code",
   "execution_count": 21,
   "metadata": {},
   "outputs": [],
   "source": [
    "#Decorator 简化了上面的写法"
   ]
  },
  {
   "cell_type": "code",
   "execution_count": 22,
   "metadata": {},
   "outputs": [],
   "source": [
    "@timer\n",
    "def add(x, y=10):\n",
    "    return x + y"
   ]
  },
  {
   "cell_type": "code",
   "execution_count": 24,
   "metadata": {},
   "outputs": [
    {
     "name": "stdout",
     "output_type": "stream",
     "text": [
      "Time Taken:  9.5367431640625e-07\n"
     ]
    },
    {
     "data": {
      "text/plain": [
       "8"
      ]
     },
     "execution_count": 24,
     "metadata": {},
     "output_type": "execute_result"
    }
   ],
   "source": [
    "add(3, 5)"
   ]
  },
  {
   "cell_type": "code",
   "execution_count": 25,
   "metadata": {},
   "outputs": [],
   "source": [
    "#一般情况下 decorator用来在函数调用之前和之后执行一些额外的操作"
   ]
  },
  {
   "cell_type": "code",
   "execution_count": 26,
   "metadata": {},
   "outputs": [],
   "source": [
    "def time(func):\n",
    "    def f(*args, **kwargs):\n",
    "        before = time()\n",
    "        rv = func(*args, **kwargs)\n",
    "        after = time()\n",
    "        print('Time taken: ', after - before)\n",
    "        return rv\n",
    "    return f"
   ]
  },
  {
   "cell_type": "code",
   "execution_count": 27,
   "metadata": {},
   "outputs": [],
   "source": [
    "#当然你也可以搞更高阶的decorator 但通常情况没有必要"
   ]
  },
  {
   "cell_type": "code",
   "execution_count": 28,
   "metadata": {},
   "outputs": [],
   "source": [
    "def ntimes(n):\n",
    "    def inner(f):\n",
    "        def wrapper(*args, **kwargs):\n",
    "            for _ in range(n):\n",
    "                rv = f(*args, **kwargs)\n",
    "            return rv\n",
    "        return wrapper\n",
    "    return inner"
   ]
  },
  {
   "cell_type": "markdown",
   "metadata": {},
   "source": [
    "### 摘自 scipy笔记"
   ]
  },
  {
   "cell_type": "markdown",
   "metadata": {},
   "source": [
    "#### 装饰器函数"
   ]
  },
  {
   "cell_type": "code",
   "execution_count": 40,
   "metadata": {},
   "outputs": [
    {
     "name": "stdout",
     "output_type": "stream",
     "text": [
      "Doing decoration\n"
     ]
    }
   ],
   "source": [
    "#简单装饰器, 返回原来的函数\n",
    "def simple_decorator(func):\n",
    "    print('Doing decoration')\n",
    "    return func\n",
    "\n",
    "#装饰器在定义函数的时候就\n",
    "#已经执行了, 因此可以被用来\n",
    "#在内部函数执行前后做一些\n",
    "#额外的工作\n",
    "@simple_decorator\n",
    "def func():\n",
    "    print('Inside function.')"
   ]
  },
  {
   "cell_type": "code",
   "execution_count": 41,
   "metadata": {},
   "outputs": [
    {
     "name": "stdout",
     "output_type": "stream",
     "text": [
      "Inside function.\n"
     ]
    }
   ],
   "source": [
    "func()"
   ]
  },
  {
   "cell_type": "code",
   "execution_count": 44,
   "metadata": {},
   "outputs": [],
   "source": [
    "#带参数的装饰器, 返回原来的函数\n",
    "def decorator_with_args(arg):\n",
    "    print('defining the decorator.')\n",
    "    def _decorator(func):\n",
    "        #内部函数中 args仍然可见\n",
    "        print('doing decoration, %r' % arg)\n",
    "        return func\n",
    "    return _decorator"
   ]
  },
  {
   "cell_type": "code",
   "execution_count": 45,
   "metadata": {},
   "outputs": [
    {
     "name": "stdout",
     "output_type": "stream",
     "text": [
      "defining the decorator.\n",
      "doing decoration, 'abc'\n"
     ]
    }
   ],
   "source": [
    "@decorator_with_args('abc')\n",
    "def func():\n",
    "    print('Inside function.')"
   ]
  },
  {
   "cell_type": "code",
   "execution_count": 47,
   "metadata": {},
   "outputs": [],
   "source": [
    "#简单装饰器, 返回新的函数 _wrapper\n",
    "def simple_decorator(func):\n",
    "    print('Defining the decorator.')\n",
    "    def _wrapper(*args, **kwargs):\n",
    "        print(\"Inside wrapper, %r %r\" % (args, kwargs))\n",
    "        return func(*args, **kwargs)\n",
    "    return _wrapper        "
   ]
  },
  {
   "cell_type": "code",
   "execution_count": 50,
   "metadata": {},
   "outputs": [
    {
     "name": "stdout",
     "output_type": "stream",
     "text": [
      "Defining the decorator.\n"
     ]
    }
   ],
   "source": [
    "@simple_decorator\n",
    "def func(*args, **kwargs):\n",
    "    print('Inside function, %r %r' % (args, kwargs))\n",
    "    return 14"
   ]
  },
  {
   "cell_type": "code",
   "execution_count": 51,
   "metadata": {},
   "outputs": [
    {
     "name": "stdout",
     "output_type": "stream",
     "text": [
      "Inside wrapper, (1, 2) {'a': 3}\n",
      "Inside function, (1, 2) {'a': 3}\n"
     ]
    },
    {
     "data": {
      "text/plain": [
       "14"
      ]
     },
     "execution_count": 51,
     "metadata": {},
     "output_type": "execute_result"
    }
   ],
   "source": [
    "func(1,2, a = 3)"
   ]
  },
  {
   "cell_type": "code",
   "execution_count": 58,
   "metadata": {},
   "outputs": [],
   "source": [
    "#带参数的装饰器, 返回新的函数 _wrapper\n",
    "def decorator_with_args(arg):\n",
    "    print('Defining the decorator.')\n",
    "    def _decorator(func):\n",
    "        print(\"Doing decoration, %r\" % arg)\n",
    "        def _wrapper(*args, **kwargs):\n",
    "            print(\"Inside wrapper, %r %r\" % (args, kwargs))\n",
    "            return func(*args, **kwargs)\n",
    "        print(\"Finish decoration, %r\" % arg)\n",
    "        return _wrapper\n",
    "    print('Finish the decorator.')\n",
    "    return _decorator"
   ]
  },
  {
   "cell_type": "code",
   "execution_count": 59,
   "metadata": {},
   "outputs": [
    {
     "name": "stdout",
     "output_type": "stream",
     "text": [
      "Defining the decorator.\n",
      "Finish the decorator.\n",
      "Doing decoration, 'abc'\n",
      "Finish decoration, 'abc'\n"
     ]
    }
   ],
   "source": [
    "@decorator_with_args('abc')\n",
    "def func(*args, **kwargs):\n",
    "    print('Inside function, %r %r' % (args, kwargs))\n",
    "    return 14"
   ]
  },
  {
   "cell_type": "code",
   "execution_count": 60,
   "metadata": {},
   "outputs": [
    {
     "name": "stdout",
     "output_type": "stream",
     "text": [
      "Inside wrapper, (11, 12) {'a': 3}\n",
      "Inside function, (11, 12) {'a': 3}\n"
     ]
    },
    {
     "data": {
      "text/plain": [
       "14"
      ]
     },
     "execution_count": 60,
     "metadata": {},
     "output_type": "execute_result"
    }
   ],
   "source": [
    "func(11, 12, a = 3)"
   ]
  },
  {
   "cell_type": "markdown",
   "metadata": {},
   "source": [
    "#### 装饰器类"
   ]
  },
  {
   "cell_type": "code",
   "execution_count": 70,
   "metadata": {},
   "outputs": [],
   "source": [
    "#返回原始函数的装饰器类\n",
    "class decorator_class(object):\n",
    "    def __init__(self, arg):\n",
    "        print(\"In decorator init, %s\"% arg)\n",
    "        self.arg = arg\n",
    "    def __call__(self, func):\n",
    "        print('In decorator call, %s' % self.arg)\n",
    "        return func"
   ]
  },
  {
   "cell_type": "code",
   "execution_count": 67,
   "metadata": {},
   "outputs": [
    {
     "name": "stdout",
     "output_type": "stream",
     "text": [
      "In decorator init, foo\n"
     ]
    }
   ],
   "source": [
    "deco_instance = decorator_class(arg = 'foo')"
   ]
  },
  {
   "cell_type": "code",
   "execution_count": 68,
   "metadata": {},
   "outputs": [
    {
     "name": "stdout",
     "output_type": "stream",
     "text": [
      "In decorator call, foo\n"
     ]
    }
   ],
   "source": [
    "@deco_instance\n",
    "def function(*args, **kwargs):\n",
    "    print('In function, %s %s' % (args, kwargs))"
   ]
  },
  {
   "cell_type": "code",
   "execution_count": 69,
   "metadata": {},
   "outputs": [
    {
     "name": "stdout",
     "output_type": "stream",
     "text": [
      "In function, () {}\n"
     ]
    }
   ],
   "source": [
    "function()"
   ]
  },
  {
   "cell_type": "markdown",
   "metadata": {},
   "source": [
    "#### 这段代码很重要"
   ]
  },
  {
   "cell_type": "code",
   "execution_count": 72,
   "metadata": {},
   "outputs": [],
   "source": [
    "#返回新的object的装饰器类\n",
    "class replacing_decorator_class(object):\n",
    "    def __init__(self, arg):\n",
    "        print('In decorator init, %s' % arg)\n",
    "        self.arg = arg\n",
    "    def __call__(self, func):\n",
    "        print('In decorator call, %s' % self.arg)\n",
    "        self.func = func\n",
    "        return self._wrapper\n",
    "    def _wrapper(self, *args, **kwargs):\n",
    "        print('In the wrapper, %s %s' % (args, kwargs))\n",
    "        return self.func(*args, **kwargs)"
   ]
  },
  {
   "cell_type": "code",
   "execution_count": 74,
   "metadata": {},
   "outputs": [
    {
     "name": "stdout",
     "output_type": "stream",
     "text": [
      "In decorator init, foo\n"
     ]
    }
   ],
   "source": [
    "#初始化函数在类的实例化时运行\n",
    "deco_instance = replacing_decorator_class(arg = 'foo')"
   ]
  },
  {
   "cell_type": "code",
   "execution_count": 76,
   "metadata": {},
   "outputs": [
    {
     "name": "stdout",
     "output_type": "stream",
     "text": [
      "In decorator call, foo\n"
     ]
    }
   ],
   "source": [
    "#__call__函数在装饰器装配时运行,\n",
    "#同时初始化func成员\n",
    "#然后返回wrapper, 一个新的对象。\n",
    "@deco_instance\n",
    "def func(*args, **kwargs):\n",
    "    print('In function, %s %s' % (args, kwargs))"
   ]
  },
  {
   "cell_type": "code",
   "execution_count": 78,
   "metadata": {},
   "outputs": [
    {
     "name": "stdout",
     "output_type": "stream",
     "text": [
      "In the wrapper, (0, 1) {'a': 3}\n",
      "In function, (0, 1) {'a': 3}\n"
     ]
    }
   ],
   "source": [
    "#在wrapper方法中运行func\n",
    "func(0,1, a = 3)"
   ]
  },
  {
   "cell_type": "code",
   "execution_count": null,
   "metadata": {},
   "outputs": [],
   "source": []
  }
 ],
 "metadata": {
  "kernelspec": {
   "display_name": "Python 3",
   "language": "python",
   "name": "python3"
  },
  "language_info": {
   "codemirror_mode": {
    "name": "ipython",
    "version": 3
   },
   "file_extension": ".py",
   "mimetype": "text/x-python",
   "name": "python",
   "nbconvert_exporter": "python",
   "pygments_lexer": "ipython3",
   "version": "3.6.7"
  }
 },
 "nbformat": 4,
 "nbformat_minor": 2
}
