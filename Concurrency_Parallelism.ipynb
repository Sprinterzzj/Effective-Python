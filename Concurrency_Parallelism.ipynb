{
 "cells": [
  {
   "cell_type": "code",
   "execution_count": 2,
   "metadata": {},
   "outputs": [],
   "source": [
    "#用 subprocess 模块管理子进程\n",
    "import subprocess"
   ]
  },
  {
   "cell_type": "code",
   "execution_count": 4,
   "metadata": {},
   "outputs": [
    {
     "name": "stdout",
     "output_type": "stream",
     "text": [
      "Hello from the child!\n",
      "\n"
     ]
    }
   ],
   "source": [
    "#Popen 开始进程\n",
    "proc = subprocess.Popen(\n",
    "    ['echo', 'Hello from the child!'],\n",
    "    stdout = subprocess.PIPE\n",
    ")\n",
    "out, err = proc.communicate()\n",
    "print(out.decode('utf-8'))"
   ]
  },
  {
   "cell_type": "code",
   "execution_count": 3,
   "metadata": {},
   "outputs": [],
   "source": [
    "#子进程的状态可以每隔一段时间被检测到, 通过poll函数\n",
    "proc = subprocess.Popen(['sleep', '0.3'])\n",
    "# while proc.poll() is None:\n",
    "#     print('Working ...')\n",
    "#     # Some time-consuming work here\n",
    "# print('Exist status', proc.poll())"
   ]
  },
  {
   "cell_type": "code",
   "execution_count": 14,
   "metadata": {},
   "outputs": [],
   "source": [
    "from time import time\n",
    "#父进程可以平行的运行多个子进程\n",
    "def run_sleep(period):\n",
    "    proc = subprocess.Popen(['sleep', str(period)])\n",
    "    return proc\n",
    "start = time()\n",
    "procs = []\n",
    "for _ in range(10):\n",
    "    proc = run_sleep(.1)\n",
    "    procs.append(proc)\n",
    "\n",
    "#通过 communicate方法终止这些进程\n",
    "for proc in procs:\n",
    "    proc.communicate()\n",
    "end = time()"
   ]
  },
  {
   "cell_type": "code",
   "execution_count": 16,
   "metadata": {},
   "outputs": [
    {
     "name": "stdout",
     "output_type": "stream",
     "text": [
      "Finished in 0.137 seconds\n"
     ]
    }
   ],
   "source": [
    "#如果这些进程是顺序执行的， 那么总运行时间大约是1s\n",
    "print('Finished in %.3f seconds' % (end - start))"
   ]
  },
  {
   "cell_type": "code",
   "execution_count": 17,
   "metadata": {},
   "outputs": [],
   "source": [
    "#你也可以接收子进程的返回值\n",
    "#假设你需要用 openssl 命令行工具 加密某些文件\n",
    "def run_openssl(data):\n",
    "    env = os.environ.copy()\n",
    "    env['password'] = b'\\xe24U\\n\\xd0Ql3S\\x11'\n",
    "    proc = subprocess.Popen(\n",
    "        ['openssl', 'enc', '-des3', '-pass', 'env:password'],\n",
    "        env = env,\n",
    "        stdin = subprocess.PIPE,\n",
    "        stdout = subprocess.PIPE\n",
    "    )\n",
    "    #这两行保证了子进程得到输入\n",
    "    proc.stdin.write(data)\n",
    "    proc.stdin.flush()\n",
    "    return proc"
   ]
  },
  {
   "cell_type": "code",
   "execution_count": 18,
   "metadata": {},
   "outputs": [],
   "source": [
    "import os\n",
    "procs = []\n",
    "for _ in range(3):\n",
    "    data = os.urandom(10)\n",
    "    proc = run_openssl(data)\n",
    "    procs.append(proc)"
   ]
  },
  {
   "cell_type": "code",
   "execution_count": 19,
   "metadata": {},
   "outputs": [
    {
     "name": "stdout",
     "output_type": "stream",
     "text": [
      "b'\\xb1\\xa0\\x95\\xae\\xa6C\\x07\\x7f\\xe2\\x0e'\n",
      "b'h\\x9b\\x13\\x8eB\\xf8\\x1a\\xaa~u'\n",
      "b'\\x9b\\xdcG\\x8cs\\xaf\\xd7\\x14_\\x0f'\n"
     ]
    }
   ],
   "source": [
    "for proc in procs:\n",
    "    out, err = proc.communicate()\n",
    "    print(out[-10 :])"
   ]
  },
  {
   "cell_type": "code",
   "execution_count": 24,
   "metadata": {},
   "outputs": [],
   "source": [
    "#from hashlib import md5\n",
    "#你也可以将两个子进程串联起来\n",
    "def run_md5(input_stdin):\n",
    "    proc = subprocess.Popen(\n",
    "        ['md5sum'],\n",
    "        stdin = input_stdin, #注意这里的标准输入来自于另一个子进程的输出\n",
    "        stdout = subprocess.PIPE\n",
    "    )\n",
    "    return proc\n",
    "input_procs = []\n",
    "hash_procs = []\n",
    "for _ in range(3):\n",
    "    data = os.urandom(10)\n",
    "    \n",
    "    proc = run_openssl(data)\n",
    "    input_procs.append(proc)\n",
    "    #用proc的标准化输出来作为has_proc的输入\n",
    "    hash_proc = run_md5(proc.stdout)\n",
    "    hash_procs.append(hash_proc)"
   ]
  },
  {
   "cell_type": "code",
   "execution_count": 25,
   "metadata": {},
   "outputs": [
    {
     "name": "stdout",
     "output_type": "stream",
     "text": [
      "b'd41d8cd98f00b204e9800998ecf8427e  -'\n",
      "b'd41d8cd98f00b204e9800998ecf8427e  -'\n",
      "b'211df522cb928f69369779a2f7e620ae  -'\n"
     ]
    }
   ],
   "source": [
    "for proc in input_procs:\n",
    "    proc.communicate()\n",
    "for proc in hash_procs:\n",
    "    out, err = proc.communicate()\n",
    "    print(out.strip())"
   ]
  },
  {
   "cell_type": "code",
   "execution_count": 26,
   "metadata": {},
   "outputs": [
    {
     "name": "stdout",
     "output_type": "stream",
     "text": [
      "Exit status -15\n"
     ]
    }
   ],
   "source": [
    "#如果你担心子进程可能不会终止, 那么给communicate()方法传递 timeout参数\n",
    "proc = run_sleep(.5)\n",
    "try:\n",
    "    proc.communicate(timeout = .1)\n",
    "except subprocess.TimeoutExpired:\n",
    "    proc.terminate()\n",
    "    proc.wait()\n",
    "print('Exit status', proc.poll())"
   ]
  },
  {
   "cell_type": "markdown",
   "metadata": {},
   "source": [
    "### Thread模块"
   ]
  },
  {
   "cell_type": "code",
   "execution_count": 30,
   "metadata": {},
   "outputs": [
    {
     "name": "stdout",
     "output_type": "stream",
     "text": [
      "Took 0.443 seconds\n"
     ]
    }
   ],
   "source": [
    "#Python的并行是伪并行, 因为GIL的存在\n",
    "#因数分解，串行版本\n",
    "def factorize(number):\n",
    "    for i in range(1, number + 1):\n",
    "        if number % i ==0:\n",
    "            yield i \n",
    "\n",
    "numbers = [2139079, 1214759, 1516637, 1852285]\n",
    "start = time()\n",
    "for number in numbers:\n",
    "    list(factorize(number))\n",
    "end = time()\n",
    "print('Took %.3f seconds' % (end - start))"
   ]
  },
  {
   "cell_type": "code",
   "execution_count": 29,
   "metadata": {},
   "outputs": [
    {
     "name": "stdout",
     "output_type": "stream",
     "text": [
      "Took 0.473 seconds\n"
     ]
    }
   ],
   "source": [
    "#下面用Thread 模块给出并行版本\n",
    "from threading import Thread\n",
    "class FactorizeThread(Thread):\n",
    "    def __init__(self, number):\n",
    "        super().__init__()\n",
    "        self.number = number\n",
    "    def run(self):\n",
    "        self.factors = list(factorize(self.number))\n",
    "\n",
    "start = time()\n",
    "threads = []\n",
    "for number in numbers:\n",
    "    thread = FactorizeThread(number)\n",
    "    thread.start()\n",
    "    threads.append(thread)\n",
    "for thread in threads:\n",
    "    thread.join()\n",
    "end = time()\n",
    "print('Took %.3f seconds' % (end - start))"
   ]
  },
  {
   "cell_type": "code",
   "execution_count": null,
   "metadata": {},
   "outputs": [],
   "source": [
    "#那么为什么Python要支持多线程呢?\n",
    "#1.多线程使你的程序 看上去 像是在干一件事。用多线程，你可以让Python来manage function in parallel\n",
    "#2.用多线程处理I/O中断"
   ]
  },
  {
   "cell_type": "code",
   "execution_count": 32,
   "metadata": {},
   "outputs": [
    {
     "name": "stdout",
     "output_type": "stream",
     "text": [
      "Took 0.503 seconds\n"
     ]
    }
   ],
   "source": [
    "#比如有如下的需求:我们需要请求操作系统中断.1, 然后回到程序的控制\n",
    "import select\n",
    "def slow_systemcall():\n",
    "    select.select([], [], [], .1)\n",
    "#slow_systemcall()串行调用将线性增加运行时间\n",
    "start = time()\n",
    "for _ in range(5):\n",
    "    slow_systemcall()\n",
    "end = time()\n",
    "print('Took %.3f seconds' % (end - start))"
   ]
  },
  {
   "cell_type": "code",
   "execution_count": 35,
   "metadata": {},
   "outputs": [
    {
     "name": "stdout",
     "output_type": "stream",
     "text": [
      "Took 0.102 seconds\n"
     ]
    }
   ],
   "source": [
    "#上面操作的问题是: 当 system_call运行时你的程序 cannot do anything, 因为你主线程被block了5s.\n",
    "#正因如此, 你需要多线程~~\n",
    "start = time()\n",
    "threads = []\n",
    "for _ in range(5):\n",
    "    thread = Thread(target = slow_systemcall)\n",
    "    thread.start()\n",
    "    threads.append(thread)\n",
    "#With the threads started, you can do other things you need\n",
    "for thread in threads:\n",
    "    thread.join()\n",
    "end = time()\n",
    "# 5x speed up!\n",
    "print('Took %.3f seconds' % (end - start))"
   ]
  },
  {
   "cell_type": "markdown",
   "metadata": {},
   "source": [
    "#### Lock模块"
   ]
  },
  {
   "cell_type": "code",
   "execution_count": 9,
   "metadata": {},
   "outputs": [],
   "source": [
    "#用锁来阻止 线程之间的竞争\n",
    "#注意,即使python有global interpreter lock，你的数据结构也不是线程安全的！！！\n",
    "from threading import Thread\n",
    "class Counter(object):\n",
    "    def __init__(self):\n",
    "        self.count = 0\n",
    "    def increment(self, offset):\n",
    "        self.count += offset"
   ]
  },
  {
   "cell_type": "code",
   "execution_count": 10,
   "metadata": {},
   "outputs": [],
   "source": [
    "def worker(senser_index, how_many, counter):\n",
    "    for _ in range(how_many):\n",
    "        #Do something\n",
    "        counter.increment(1)"
   ]
  },
  {
   "cell_type": "code",
   "execution_count": 13,
   "metadata": {},
   "outputs": [],
   "source": [
    "def run_threads(func, how_many, counter):\n",
    "    threads = []\n",
    "    for i in range(5):\n",
    "        args = (i, how_many, counter)\n",
    "        thread = Thread(target = func, args =args)\n",
    "        threads.append(thread)\n",
    "        thread.start()\n",
    "    for thread in threads:\n",
    "        thread.join()"
   ]
  },
  {
   "cell_type": "code",
   "execution_count": 14,
   "metadata": {},
   "outputs": [],
   "source": [
    "how_many = 10**5\n",
    "counter = Counter()\n",
    "#共5个线程, 它们访问相同的类的实例。调用increment函数 how_many次\n",
    "run_threads(worker, how_many, counter)"
   ]
  },
  {
   "cell_type": "code",
   "execution_count": 15,
   "metadata": {},
   "outputs": [
    {
     "name": "stdout",
     "output_type": "stream",
     "text": [
      "Counter should be 500000, found 377175\n"
     ]
    }
   ],
   "source": [
    "print('Counter should be %d, found %d' % (5 * how_many, counter.count))"
   ]
  },
  {
   "cell_type": "code",
   "execution_count": 16,
   "metadata": {},
   "outputs": [
    {
     "data": {
      "text/plain": [
       "\"\\nvalue = getattr(counter, 'count')\\nresult = value + offset\\nsetattr(counter, 'count', result)\\n\""
      ]
     },
     "execution_count": 16,
     "metadata": {},
     "output_type": "execute_result"
    }
   ],
   "source": [
    "# counter.count += offset 相当于三句话:\n",
    "\"\"\"\n",
    "value = getattr(counter, 'count')\n",
    "result = value + offset\n",
    "setattr(counter, 'count', result)\n",
    "\"\"\"\n",
    "#Python 的线程在执行上面三个语句时的任何时刻,都可能被挂起"
   ]
  },
  {
   "cell_type": "code",
   "execution_count": 21,
   "metadata": {},
   "outputs": [],
   "source": [
    "#竞争条件的解决方案: Lock\n",
    "from threading import Lock\n",
    "class LockingCounter(object):\n",
    "    def __init__(self):\n",
    "        self.lock = Lock()\n",
    "        self.count = 0\n",
    "    def increment(self, offset):\n",
    "        with self.lock:\n",
    "            self.count += offset"
   ]
  },
  {
   "cell_type": "code",
   "execution_count": 23,
   "metadata": {},
   "outputs": [
    {
     "name": "stdout",
     "output_type": "stream",
     "text": [
      "Counter should be 500000, found 500000\n"
     ]
    }
   ],
   "source": [
    "counter = LockingCounter()\n",
    "run_threads(worker, how_many, counter)\n",
    "print('Counter should be %d, found %d' % (5 * how_many, counter.count))"
   ]
  },
  {
   "cell_type": "markdown",
   "metadata": {},
   "source": [
    "### 用队列实现线程之间的协作"
   ]
  },
  {
   "cell_type": "code",
   "execution_count": 1,
   "metadata": {},
   "outputs": [],
   "source": [
    "#用 Queue来实现线程之间的协作\n",
    "#假设你要做这么一个系统:1. 用你的照相机照连续的相片，然后download到本地 2. 本地resize 照片 3. 把你的照片加进 online gallery里\n",
    "#你的程序有三个Pipeline: 1.download 2.resize 3. upload"
   ]
  },
  {
   "cell_type": "code",
   "execution_count": 1,
   "metadata": {},
   "outputs": [],
   "source": [
    "#可以用生产者-消费者 Queue\n",
    "from collections import deque\n",
    "class MyQueue(object):\n",
    "    def __init__(self):\n",
    "        self.items = deque()\n",
    "        self.lock = Lock()\n",
    "    #生产者, 你的相机, 在队列尾部添加元素\n",
    "    def put(self, item):\n",
    "        with self.lock:\n",
    "            self.items.append(item)\n",
    "    #消费者, 从队列头部取走元素\n",
    "    def get(self):\n",
    "        with self.lock:\n",
    "            return self.items.popleft()"
   ]
  },
  {
   "cell_type": "code",
   "execution_count": 8,
   "metadata": {},
   "outputs": [],
   "source": [
    "#下面把每个pipline用Python thread 表示\n",
    "from threading import Thread, Lock\n",
    "from time import sleep\n",
    "#Worker类, 负责链接管道，输入->工作->输出\n",
    "class Worker(Thread):\n",
    "    def __init__(self, func, in_queue, out_queue):\n",
    "        super().__init__()\n",
    "        self.func = func\n",
    "        self.in_queue = in_queue\n",
    "        self.out_queue = out_queue\n",
    "        self.polled_count = 0\n",
    "        self.work_done = 0\n",
    "    def run(self):\n",
    "        #每个worker不断的工作，这其实是一个副作用\n",
    "        while True:\n",
    "            self.polled_count += 1\n",
    "            try:\n",
    "                item = self.in_queue.get()\n",
    "            except IndexError:\n",
    "            #如果 in_queue是空\n",
    "                sleep(.01)\n",
    "            else:\n",
    "            #如果in_queue不空,那么取走队列头部的元素后,开始工作\n",
    "                result = self.func(item)\n",
    "                self.out_queue.put(result)\n",
    "                self.work_done +=1"
   ]
  },
  {
   "cell_type": "code",
   "execution_count": 9,
   "metadata": {},
   "outputs": [],
   "source": [
    "#下面可以将pipline的三个状态连接起来了\n",
    "download_queue = MyQueue()\n",
    "resize_queue = MyQueue()\n",
    "upload_queue = MyQueue()\n",
    "done_queue = MyQueue()\n",
    "def download(item):\n",
    "    return item\n",
    "def resize(item):\n",
    "    return item\n",
    "def upload(item):\n",
    "    return item\n",
    "threads = [\n",
    "    #downlaod 函数, 从保存照片的downloaded_queue取走照片, 放到resize_queue里\n",
    "    Worker(download, download_queue, resize_queue),\n",
    "    #resize 函数, 从保存照片的resize_queue取走照片, 放到upload_queue里\n",
    "    Worker(resize, resize_queue, upload_queue),\n",
    "    #upload 函数, 从保存照片的upload_queue取走照片, 放到done_queue里\n",
    "    Worker(upload, upload_queue, done_queue)\n",
    "]\n"
   ]
  },
  {
   "cell_type": "code",
   "execution_count": 10,
   "metadata": {},
   "outputs": [],
   "source": [
    "#下面可以开始线程了\n",
    "#向download_queue 放进1000张\"图片\", 模拟你的相机\n",
    "for _ in range(1000):\n",
    "    download_queue.put(object())"
   ]
  },
  {
   "cell_type": "code",
   "execution_count": 11,
   "metadata": {},
   "outputs": [],
   "source": [
    "for thread in threads:\n",
    "    thread.start()"
   ]
  },
  {
   "cell_type": "code",
   "execution_count": 12,
   "metadata": {},
   "outputs": [],
   "source": [
    "while len(done_queue.items) < 1000:\n",
    "    #Do something else\n",
    "    pass"
   ]
  },
  {
   "cell_type": "code",
   "execution_count": 18,
   "metadata": {},
   "outputs": [
    {
     "name": "stdout",
     "output_type": "stream",
     "text": [
      "Processed 1000 items after polling 49026 times\n"
     ]
    }
   ],
   "source": [
    "#上面的模式可以运行，但是有一个副作用: except的分支太多!!\n",
    "#因为每个worker function 的速度不尽相同\n",
    "#链接两个状态的queue太多， 如果数据很大的话程序可能会崩溃\n",
    "processed = len(done_queue.items)\n",
    "polled = sum(t.polled_count for t in threads)\n",
    "print('Processed', processed, 'items after polling', polled, 'times')"
   ]
  },
  {
   "cell_type": "code",
   "execution_count": 20,
   "metadata": {},
   "outputs": [
    {
     "name": "stdout",
     "output_type": "stream",
     "text": [
      "Comsumer waiting\n"
     ]
    }
   ],
   "source": [
    "#解决方案， 用Queue代替 Myqueue\n",
    "from queue import Queue\n",
    "###Queue的get方法会自动挂起, 当Queue为空时\n",
    "queue = Queue()\n",
    "def consumer():\n",
    "    print('Comsumer waiting')\n",
    "    queue.get()\n",
    "    print('Consumer done')\n",
    "thread = Thread(target = consumer)\n",
    "thread.start()"
   ]
  },
  {
   "cell_type": "code",
   "execution_count": 21,
   "metadata": {},
   "outputs": [
    {
     "name": "stdout",
     "output_type": "stream",
     "text": [
      "Producer putting\n",
      "Consumer done\n",
      "Producer done\n"
     ]
    }
   ],
   "source": [
    "print('Producer putting')\n",
    "queue.put(object())\n",
    "thread.join()\n",
    "print('Producer done')"
   ]
  },
  {
   "cell_type": "code",
   "execution_count": 28,
   "metadata": {},
   "outputs": [],
   "source": [
    "#为了解决管道的挂起问题, Queue可以指定两个管道之间最大等待的工作数\n",
    "#缓存大小为1, 这意味着producer往 空queue 投放了一个item后, 他必须等待item被取出才能放进下一个\n",
    "from time import sleep\n",
    "queue = Queue(1)\n",
    "def consumer():\n",
    "    sleep(.1)\n",
    "    #这一句会挂起直到空queue里放进第一个元素\n",
    "    queue.get()\n",
    "    print('Consumer got 1') # 2\n",
    "    queue.get()\n",
    "    print('consumer got 2') # 4\n",
    "\n",
    "thread = Thread(target = consumer)\n",
    "thread.start()\n",
    "\n",
    "queue.put(object()) \n",
    "print('Producer put 1') # 1\n",
    "queue.put(object()) \n",
    "print('Producer put 2') # 3\n",
    "thread.join() \n",
    "print('Producer done')"
   ]
  },
  {
   "cell_type": "code",
   "execution_count": 30,
   "metadata": {},
   "outputs": [],
   "source": [
    "#Queue也可以跟踪工作进程,通过task_done方法\n",
    "in_queue = Queue()\n",
    "def consumer():\n",
    "    print('Consumer waiting')\n",
    "    work = in_queue.get() #2\n",
    "    print('Consumer working')\n",
    "    #Doing work\n",
    "    print('Consumer done')\n",
    "    in_queue.task_done() #3\n",
    "Thread(target = consumer).start()\n",
    "\n",
    "in_queue.put(object())  #1\n",
    "print('Producer waiting') \n",
    "in_queue.join() #4\n",
    "print('Producer done')"
   ]
  },
  {
   "cell_type": "code",
   "execution_count": 62,
   "metadata": {},
   "outputs": [],
   "source": [
    "#ClosableQueue继承了Queue, 增加了队列尾部的Flag\n",
    "class ClosableQueue(Queue):\n",
    "    SENTINEL = object()\n",
    "    #子类增加一个close方法, 在尾部放入 SENTINEL元素, 这是你放入的最后一个元素, \n",
    "    #当get到这一个元素时, 说明Queue已经为空\n",
    "    def close(self):\n",
    "        self.put(self.SENTINEL)\n",
    "    def __iter__(self):\n",
    "        while True:\n",
    "            item = self.get()\n",
    "            try:\n",
    "                #如果迭代到最后一个元素,就 return 使得Thread终止\n",
    "                if item is self.SENTINEL:\n",
    "                    return\n",
    "                #别忘了这句\n",
    "                yield item\n",
    "            finally:\n",
    "                self.task_done()"
   ]
  },
  {
   "cell_type": "code",
   "execution_count": 63,
   "metadata": {},
   "outputs": [],
   "source": [
    "class StoppableWorker(Thread):\n",
    "    def __init__(self, func, in_queue, out_queue):\n",
    "        super().__init__()\n",
    "        self.func = func\n",
    "        self.in_queue = in_queue\n",
    "        self.out_queue = out_queue\n",
    "        self.polled_count = 0\n",
    "        self.work_done = 0\n",
    "    def run(self):\n",
    "        #ClosableQueue定义了 __iter__方法后,便能如此遍历queue了\n",
    "        #循环退出的标志是get到最后一个元素\n",
    "        for item in self.in_queue:\n",
    "            result = self.func(item)\n",
    "            self.out_queue.put(result)\n",
    "    \n",
    "        "
   ]
  },
  {
   "cell_type": "code",
   "execution_count": 64,
   "metadata": {},
   "outputs": [],
   "source": [
    "#Re-create pipelines\n",
    "download_queue = ClosableQueue()\n",
    "resize_queue = ClosableQueue()\n",
    "upload_queue = ClosableQueue()\n",
    "done_queue = ClosableQueue()\n",
    "def download(item):\n",
    "    return item\n",
    "def resize(item):\n",
    "    return item\n",
    "def upload(item):\n",
    "    return item\n",
    "threads = [\n",
    "    #downlaod 函数, 从保存照片的downloaded_queue取走照片, 放到resize_queue里\n",
    "    StoppableWorker(download, download_queue, resize_queue),\n",
    "    #resize 函数, 从保存照片的resize_queue取走照片, 放到upload_queue里\n",
    "    StoppableWorker(resize, resize_queue, upload_queue),\n",
    "    #upload 函数, 从保存照片的upload_queue取走照片, 放到done_queue里\n",
    "    StoppableWorker(upload, upload_queue, done_queue)\n",
    "]"
   ]
  },
  {
   "cell_type": "code",
   "execution_count": 65,
   "metadata": {},
   "outputs": [],
   "source": [
    "#启动线程\n",
    "for thread in threads:\n",
    "    thread.start()\n",
    "#模拟在线环境, 为download_queue填入元素, 然后关闭它\n",
    "for _ in range(1000):\n",
    "    download_queue.put(object())\n",
    "download_queue.close()"
   ]
  },
  {
   "cell_type": "code",
   "execution_count": 66,
   "metadata": {},
   "outputs": [],
   "source": [
    "#help(Queue.join)"
   ]
  },
  {
   "cell_type": "code",
   "execution_count": 67,
   "metadata": {},
   "outputs": [],
   "source": [
    "#如何掌握线程的进度?\n",
    "#Queue的 join方法, 程序暂停，直到queue里面所有的元素都被取出,程序继续运行\n",
    "download_queue.join() \n",
    "resize_queue.close() \n",
    "resize_queue.join() \n",
    "upload_queue.close() \n",
    "upload_queue.join()"
   ]
  },
  {
   "cell_type": "code",
   "execution_count": 68,
   "metadata": {},
   "outputs": [
    {
     "name": "stdout",
     "output_type": "stream",
     "text": [
      "1000 items finished\n"
     ]
    }
   ],
   "source": [
    "print(done_queue.qsize(), 'items finished')"
   ]
  },
  {
   "cell_type": "code",
   "execution_count": 69,
   "metadata": {},
   "outputs": [],
   "source": [
    "#在用Pipeline时需要注意三个点: busy waiting, stopping workers, memory explosion"
   ]
  },
  {
   "cell_type": "markdown",
   "metadata": {},
   "source": [
    "## 协程"
   ]
  },
  {
   "cell_type": "code",
   "execution_count": 70,
   "metadata": {},
   "outputs": [],
   "source": [
    "#用协程并发的跑若干函数\n",
    "#python的Thread模块有以下缺点:\n",
    "##1.Thread需要借助其他的工具来实现communicate, 如 Lock 和 Queue。增加了扩展和维护成本\n",
    "##2.每个Thread需要大概 8MB 内存，如果要并发运行大量函数，那么给每个函数分配一个线程显然不现实\n",
    "##3. 开启每个Thread耗费时间，要是你要并发运行大量函数那么线程的开启耗时是很可观的"
   ]
  },
  {
   "cell_type": "code",
   "execution_count": 71,
   "metadata": {},
   "outputs": [],
   "source": [
    "#下面展示routine的用法\n",
    "def my_coroutine():\n",
    "    while True:\n",
    "        received = yield\n",
    "        print('Received:', received)"
   ]
  },
  {
   "cell_type": "code",
   "execution_count": 73,
   "metadata": {},
   "outputs": [],
   "source": [
    "it = my_coroutine()\n",
    "#首次使用协程时需要调用next方法\n",
    "#这将使得生成器为 第一次接受 send() 函数的值做准备\n",
    "next(it)"
   ]
  },
  {
   "cell_type": "code",
   "execution_count": 74,
   "metadata": {},
   "outputs": [
    {
     "name": "stdout",
     "output_type": "stream",
     "text": [
      "Received: First\n",
      "Received: Second\n"
     ]
    }
   ],
   "source": [
    "it.send('First')\n",
    "it.send('Second')"
   ]
  },
  {
   "cell_type": "code",
   "execution_count": 78,
   "metadata": {},
   "outputs": [],
   "source": [
    "#下面展示一个具体的例子\n",
    "def minimize():\n",
    "    #接受第一次的send()\n",
    "    current = yield\n",
    "    while True:\n",
    "        value = yield current\n",
    "        print(current, value)\n",
    "        current = min(value, current)\n",
    "        "
   ]
  },
  {
   "cell_type": "code",
   "execution_count": 79,
   "metadata": {},
   "outputs": [
    {
     "name": "stdout",
     "output_type": "stream",
     "text": [
      "10\n"
     ]
    }
   ],
   "source": [
    "it = minimize()\n",
    "next(it)\n",
    "print(it.send(10))"
   ]
  },
  {
   "cell_type": "code",
   "execution_count": 80,
   "metadata": {},
   "outputs": [
    {
     "name": "stdout",
     "output_type": "stream",
     "text": [
      "10 4\n",
      "4\n"
     ]
    }
   ],
   "source": [
    "print(it.send(4))"
   ]
  },
  {
   "cell_type": "markdown",
   "metadata": {},
   "source": [
    "## 使用cocurrent.futures 实现真正的并行化"
   ]
  },
  {
   "cell_type": "code",
   "execution_count": 1,
   "metadata": {},
   "outputs": [],
   "source": [
    "#下面用最大公约数算法来模拟 计算密集型的应用\n",
    "#时间复杂度 O(n)\n",
    "def gcd(pair):\n",
    "    a, b = pair\n",
    "    low = min(a, b)\n",
    "    for i in range(low, 0, -1):\n",
    "        if a % i == 0 and b % i == 0 :\n",
    "            return i"
   ]
  },
  {
   "cell_type": "code",
   "execution_count": 2,
   "metadata": {},
   "outputs": [],
   "source": [
    "numbers = [(1963309, 2265973), (2030677, 3814172), \n",
    "           (1551645, 2229620), (2039045, 2020802)]"
   ]
  },
  {
   "cell_type": "code",
   "execution_count": 3,
   "metadata": {},
   "outputs": [
    {
     "name": "stdout",
     "output_type": "stream",
     "text": [
      "Took 0.488 seconds\n"
     ]
    }
   ],
   "source": [
    "from time import time\n",
    "start = time()\n",
    "results = list(map(gcd, numbers))\n",
    "end = time()\n",
    "print('Took %.3f seconds' % (end - start))"
   ]
  },
  {
   "cell_type": "code",
   "execution_count": 5,
   "metadata": {},
   "outputs": [],
   "source": [
    "#按照前面的结论, 用Thread模块不会加速, 因为GIL\n",
    "#解决方案: concurrent.futures"
   ]
  },
  {
   "cell_type": "code",
   "execution_count": 6,
   "metadata": {},
   "outputs": [],
   "source": [
    "from concurrent.futures import ThreadPoolExecutor"
   ]
  },
  {
   "cell_type": "code",
   "execution_count": 8,
   "metadata": {},
   "outputs": [
    {
     "name": "stdout",
     "output_type": "stream",
     "text": [
      "Took 0.506 seconds\n"
     ]
    }
   ],
   "source": [
    "#这样会更慢, 因为线程的启动和交流耗时\n",
    "start = time()\n",
    "pool = ThreadPoolExecutor(max_workers = 2)\n",
    "results = list(pool.map(gcd, numbers))\n",
    "end = time()\n",
    "print(\"Took %.3f seconds\" % (end - start))"
   ]
  },
  {
   "cell_type": "code",
   "execution_count": 9,
   "metadata": {},
   "outputs": [
    {
     "name": "stdout",
     "output_type": "stream",
     "text": [
      "Took 0.320 seconds\n"
     ]
    }
   ],
   "source": [
    "from concurrent.futures import ProcessPoolExecutor\n",
    "start = time()\n",
    "pool = ProcessPoolExecutor(max_workers = 2)\n",
    "results = list(pool.map(gcd, numbers))\n",
    "end = time()\n",
    "print(\"Took %.3f seconds\" % (end - start))"
   ]
  },
  {
   "cell_type": "code",
   "execution_count": 10,
   "metadata": {},
   "outputs": [],
   "source": [
    "#下面简单解释一下 ProcessPoolExecutor 是如何工作的\n",
    "##1. 从 numbers 将每个元素元素取到 map里\n",
    "##2. 将map的数据 序列化, 通过pickle模块\n",
    "##3. 将序列化的数据从主进程copy到子进程里\n",
    "##4. 子进程中用pickle模块 将数据解序列化\n",
    "##5. 子进程中将包含有 gcd函数的模块导入\n",
    "##6. 每个子进程gcd函数\n",
    "##7. 将结果序列化\n",
    "##8. 将序列化的结果 copy回 socket\n",
    "##9. 在主进程中将结果解序列化\n",
    "##10. 主进程中将这些结果合并成列表"
   ]
  },
  {
   "cell_type": "code",
   "execution_count": 19,
   "metadata": {},
   "outputs": [
    {
     "data": {
      "text/plain": [
       "datetime.datetime(2019, 3, 12, 8, 17, 7, 744726)"
      ]
     },
     "execution_count": 19,
     "metadata": {},
     "output_type": "execute_result"
    }
   ],
   "source": [
    "from datetime import datetime\n",
    "datetime.utcnow()"
   ]
  },
  {
   "cell_type": "code",
   "execution_count": 20,
   "metadata": {},
   "outputs": [
    {
     "name": "stdout",
     "output_type": "stream",
     "text": [
      "Help on built-in function utcnow:\n",
      "\n",
      "utcnow(...) method of builtins.type instance\n",
      "    Return a new datetime representing UTC day and time.\n",
      "\n"
     ]
    }
   ],
   "source": [
    "help(datetime.utcnow)"
   ]
  },
  {
   "cell_type": "code",
   "execution_count": null,
   "metadata": {},
   "outputs": [],
   "source": []
  }
 ],
 "metadata": {
  "kernelspec": {
   "display_name": "Python 3",
   "language": "python",
   "name": "python3"
  },
  "language_info": {
   "codemirror_mode": {
    "name": "ipython",
    "version": 3
   },
   "file_extension": ".py",
   "mimetype": "text/x-python",
   "name": "python",
   "nbconvert_exporter": "python",
   "pygments_lexer": "ipython3",
   "version": "3.6.7"
  }
 },
 "nbformat": 4,
 "nbformat_minor": 2
}
