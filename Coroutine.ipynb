{
 "cells": [
  {
   "cell_type": "markdown",
   "metadata": {},
   "source": [
    "### 生成器函数"
   ]
  },
  {
   "cell_type": "code",
   "execution_count": 1,
   "metadata": {
    "ExecuteTime": {
     "end_time": "2019-05-16T07:08:43.523269Z",
     "start_time": "2019-05-16T07:08:43.520550Z"
    }
   },
   "outputs": [],
   "source": [
    "def f():\n",
    "    print('---start---')\n",
    "    yield 1\n",
    "    print('---middle---')\n",
    "    yield 2\n",
    "    print('---finished---')"
   ]
  },
  {
   "cell_type": "code",
   "execution_count": 3,
   "metadata": {
    "ExecuteTime": {
     "end_time": "2019-05-16T07:11:23.746501Z",
     "start_time": "2019-05-16T07:11:23.744288Z"
    }
   },
   "outputs": [],
   "source": [
    "#和一般的函数不同, 调用生成器函数不会立刻运行\n",
    "gen = f()"
   ]
  },
  {
   "cell_type": "code",
   "execution_count": 4,
   "metadata": {
    "ExecuteTime": {
     "end_time": "2019-05-16T07:11:32.183984Z",
     "start_time": "2019-05-16T07:11:32.174655Z"
    }
   },
   "outputs": [
    {
     "name": "stdout",
     "output_type": "stream",
     "text": [
      "---start---\n"
     ]
    },
    {
     "data": {
      "text/plain": [
       "1"
      ]
     },
     "execution_count": 4,
     "metadata": {},
     "output_type": "execute_result"
    }
   ],
   "source": [
    "gen.__next__()"
   ]
  },
  {
   "cell_type": "code",
   "execution_count": 5,
   "metadata": {
    "ExecuteTime": {
     "end_time": "2019-05-16T07:11:42.155652Z",
     "start_time": "2019-05-16T07:11:42.151272Z"
    }
   },
   "outputs": [
    {
     "name": "stdout",
     "output_type": "stream",
     "text": [
      "---middle---\n"
     ]
    },
    {
     "data": {
      "text/plain": [
       "2"
      ]
     },
     "execution_count": 5,
     "metadata": {},
     "output_type": "execute_result"
    }
   ],
   "source": [
    "gen.__next__()"
   ]
  },
  {
   "cell_type": "code",
   "execution_count": 6,
   "metadata": {
    "ExecuteTime": {
     "end_time": "2019-05-16T07:11:49.879297Z",
     "start_time": "2019-05-16T07:11:49.798370Z"
    }
   },
   "outputs": [
    {
     "name": "stdout",
     "output_type": "stream",
     "text": [
      "---finished---\n"
     ]
    },
    {
     "ename": "StopIteration",
     "evalue": "",
     "output_type": "error",
     "traceback": [
      "\u001b[0;31m---------------------------------------------------------------------------\u001b[0m",
      "\u001b[0;31mStopIteration\u001b[0m                             Traceback (most recent call last)",
      "\u001b[0;32m<ipython-input-6-d5d004b357fe>\u001b[0m in \u001b[0;36m<module>\u001b[0;34m\u001b[0m\n\u001b[0;32m----> 1\u001b[0;31m \u001b[0mgen\u001b[0m\u001b[0;34m.\u001b[0m\u001b[0m__next__\u001b[0m\u001b[0;34m(\u001b[0m\u001b[0;34m)\u001b[0m\u001b[0;34m\u001b[0m\u001b[0;34m\u001b[0m\u001b[0m\n\u001b[0m",
      "\u001b[0;31mStopIteration\u001b[0m: "
     ]
    }
   ],
   "source": [
    "gen.__next__()"
   ]
  },
  {
   "cell_type": "markdown",
   "metadata": {},
   "source": [
    "### 生成器函数的实现原理"
   ]
  },
  {
   "cell_type": "markdown",
   "metadata": {},
   "source": [
    "### 双边交流\n",
    "\n",
    "1. send(value) (注意 next(g) 等价于 g.send(None))\n",
    "2. throw(type, value=None, traceback=None), 等价于 raise type, value, traceback\n",
    "3. close()"
   ]
  },
  {
   "cell_type": "code",
   "execution_count": 13,
   "metadata": {
    "ExecuteTime": {
     "end_time": "2019-05-16T08:05:44.231493Z",
     "start_time": "2019-05-16T08:05:44.227475Z"
    }
   },
   "outputs": [],
   "source": [
    "import itertools\n",
    "def g():\n",
    "    print('---start---')\n",
    "    for i in itertools.count():\n",
    "        print('---yielding %i---' % i)\n",
    "        try:\n",
    "            ans = yield i\n",
    "        except GeneratorExit:\n",
    "            print('---closing---')\n",
    "            raise\n",
    "        except Exception as e:\n",
    "            print('---yield raised %r---' % e)\n",
    "        else:\n",
    "            print('---yield returned %s' % ans)"
   ]
  },
  {
   "cell_type": "code",
   "execution_count": 14,
   "metadata": {
    "ExecuteTime": {
     "end_time": "2019-05-16T08:05:44.877065Z",
     "start_time": "2019-05-16T08:05:44.874131Z"
    }
   },
   "outputs": [],
   "source": [
    "it = g()"
   ]
  },
  {
   "cell_type": "code",
   "execution_count": 15,
   "metadata": {
    "ExecuteTime": {
     "end_time": "2019-05-16T08:05:46.296925Z",
     "start_time": "2019-05-16T08:05:46.292589Z"
    }
   },
   "outputs": [
    {
     "name": "stdout",
     "output_type": "stream",
     "text": [
      "---start---\n",
      "---yielding 0---\n"
     ]
    },
    {
     "data": {
      "text/plain": [
       "0"
      ]
     },
     "execution_count": 15,
     "metadata": {},
     "output_type": "execute_result"
    }
   ],
   "source": [
    "it.__next__()"
   ]
  },
  {
   "cell_type": "code",
   "execution_count": 16,
   "metadata": {
    "ExecuteTime": {
     "end_time": "2019-05-16T08:05:48.590831Z",
     "start_time": "2019-05-16T08:05:48.586322Z"
    }
   },
   "outputs": [
    {
     "name": "stdout",
     "output_type": "stream",
     "text": [
      "---yield returned None\n",
      "---yielding 1---\n"
     ]
    },
    {
     "data": {
      "text/plain": [
       "1"
      ]
     },
     "execution_count": 16,
     "metadata": {},
     "output_type": "execute_result"
    }
   ],
   "source": [
    "it.__next__()"
   ]
  },
  {
   "cell_type": "code",
   "execution_count": 17,
   "metadata": {
    "ExecuteTime": {
     "end_time": "2019-05-16T08:06:07.002542Z",
     "start_time": "2019-05-16T08:06:06.998328Z"
    }
   },
   "outputs": [
    {
     "name": "stdout",
     "output_type": "stream",
     "text": [
      "---yield returned 121\n",
      "---yielding 2---\n"
     ]
    },
    {
     "data": {
      "text/plain": [
       "2"
      ]
     },
     "execution_count": 17,
     "metadata": {},
     "output_type": "execute_result"
    }
   ],
   "source": [
    "#传入 121 给 ans\n",
    "it.send(121)"
   ]
  },
  {
   "cell_type": "code",
   "execution_count": 18,
   "metadata": {
    "ExecuteTime": {
     "end_time": "2019-05-16T08:06:41.274195Z",
     "start_time": "2019-05-16T08:06:41.270045Z"
    }
   },
   "outputs": [
    {
     "name": "stdout",
     "output_type": "stream",
     "text": [
      "---yield returned None\n",
      "---yielding 3---\n"
     ]
    },
    {
     "data": {
      "text/plain": [
       "3"
      ]
     },
     "execution_count": 18,
     "metadata": {},
     "output_type": "execute_result"
    }
   ],
   "source": [
    "#send(None) 相当于 i__next__()\n",
    "#会生成 i，但是不传进任何的值\n",
    "it.send(None)"
   ]
  },
  {
   "cell_type": "code",
   "execution_count": 19,
   "metadata": {
    "ExecuteTime": {
     "end_time": "2019-05-16T08:07:00.791413Z",
     "start_time": "2019-05-16T08:07:00.787402Z"
    }
   },
   "outputs": [
    {
     "name": "stdout",
     "output_type": "stream",
     "text": [
      "---yield raised IndexError()---\n",
      "---yielding 4---\n"
     ]
    },
    {
     "data": {
      "text/plain": [
       "4"
      ]
     },
     "execution_count": 19,
     "metadata": {},
     "output_type": "execute_result"
    }
   ],
   "source": [
    "#抛入的异常会被 except捕捉到\n",
    "it.throw(IndexError)"
   ]
  },
  {
   "cell_type": "code",
   "execution_count": 20,
   "metadata": {
    "ExecuteTime": {
     "end_time": "2019-05-16T08:07:09.619449Z",
     "start_time": "2019-05-16T08:07:09.616521Z"
    }
   },
   "outputs": [
    {
     "name": "stdout",
     "output_type": "stream",
     "text": [
      "---closing---\n"
     ]
    }
   ],
   "source": [
    "it.close()"
   ]
  },
  {
   "cell_type": "markdown",
   "metadata": {},
   "source": [
    "### 协程--一种针对有序数据的处理方式"
   ]
  },
  {
   "cell_type": "code",
   "execution_count": 1,
   "metadata": {},
   "outputs": [],
   "source": [
    "#与子进程不同, 协程都是平等的，它们 协作组成流水线，不带有任何上级函数来负责以特定顺序调用它们。"
   ]
  },
  {
   "cell_type": "code",
   "execution_count": 2,
   "metadata": {},
   "outputs": [],
   "source": [
    "#Python 的生成器函数可以使用 yield 语句接受一个值.\n",
    "#生成器对象上有两个额外的方法, send()和close(),\n",
    "#定义了这些对象的生成器叫做 协程"
   ]
  },
  {
   "cell_type": "code",
   "execution_count": 5,
   "metadata": {},
   "outputs": [
    {
     "data": {
      "text/plain": [
       "'\\ncoroutine.send(data)\\n'"
      ]
     },
     "execution_count": 5,
     "metadata": {},
     "output_type": "execute_result"
    }
   ],
   "source": [
    "#协程可以通过(yield)语句来消耗值,像下面这样:\n",
    "\"\"\"\n",
    "value = (yield)\n",
    "\"\"\"\n",
    "#使用上面的语法, 在使用send方法传递参数之前, 执行流会停在上面那句话上\n",
    "\"\"\"\n",
    "coroutine.send(data)\n",
    "\"\"\"\n",
    "#使用了send方法后, 执行会恢复, value会被赋予data的值。\n",
    "#通过close()方法来关闭协程,这会在协程内部产生 GeneratorExit异常。"
   ]
  },
  {
   "cell_type": "code",
   "execution_count": 8,
   "metadata": {},
   "outputs": [],
   "source": [
    "def match(pattern):\n",
    "    print(\"Looking for \" + pattern)\n",
    "    while True:\n",
    "        try:\n",
    "            s = (yield)\n",
    "        except GeneratorExit:\n",
    "            print(\"===Done===\")\n",
    "            break\n",
    "        else:\n",
    "            if pattern in s:\n",
    "                print(s)"
   ]
  },
  {
   "cell_type": "code",
   "execution_count": 10,
   "metadata": {},
   "outputs": [],
   "source": [
    "#我们可以使用一个字符串来初始化 match函数\n",
    "m = match(\"Jabberwock\")"
   ]
  },
  {
   "cell_type": "code",
   "execution_count": 11,
   "metadata": {},
   "outputs": [
    {
     "name": "stdout",
     "output_type": "stream",
     "text": [
      "Looking for Jabberwock\n"
     ]
    }
   ],
   "source": [
    "#然后调用__next__方法开始执行\n",
    "#语句会一直执行到 s = (yield) 处，然后暂停,等待一个发送给 m的值\n",
    "m.__next__()"
   ]
  },
  {
   "cell_type": "code",
   "execution_count": 12,
   "metadata": {},
   "outputs": [
    {
     "name": "stdout",
     "output_type": "stream",
     "text": [
      "the Jabberwock with eyes of flame\n"
     ]
    }
   ],
   "source": [
    "m.send(\"the Jabberwock with eyes of flame\")"
   ]
  },
  {
   "cell_type": "code",
   "execution_count": 13,
   "metadata": {},
   "outputs": [],
   "source": [
    "m.send(\"came whiffling through the tulgey wood\")"
   ]
  },
  {
   "cell_type": "code",
   "execution_count": 14,
   "metadata": {},
   "outputs": [
    {
     "name": "stdout",
     "output_type": "stream",
     "text": [
      "===Done===\n"
     ]
    }
   ],
   "source": [
    "m.close()"
   ]
  },
  {
   "cell_type": "code",
   "execution_count": 2,
   "metadata": {},
   "outputs": [],
   "source": [
    "#我们通过 yield 和 send函数 可以实现一些列复杂的行为\n",
    "def read(text, next_coroutine):\n",
    "    for line in text.split():\n",
    "        next_coroutine.send(line)\n",
    "    next_coroutine.close()"
   ]
  },
  {
   "cell_type": "code",
   "execution_count": 16,
   "metadata": {},
   "outputs": [],
   "source": [
    "#将read函数和match协程链到一起, 就可以创建出一个程序\n",
    "#只打印出匹配特定单词的单词\n",
    "text = 'Commending spending is offending to people pending lending!'\n",
    "matcher = match('ending')"
   ]
  },
  {
   "cell_type": "code",
   "execution_count": 18,
   "metadata": {},
   "outputs": [
    {
     "name": "stdout",
     "output_type": "stream",
     "text": [
      "Looking for ending\n"
     ]
    }
   ],
   "source": [
    "matcher.__next__()"
   ]
  },
  {
   "cell_type": "code",
   "execution_count": 19,
   "metadata": {},
   "outputs": [
    {
     "name": "stdout",
     "output_type": "stream",
     "text": [
      "Commending\n",
      "spending\n",
      "offending\n",
      "pending\n",
      "lending!\n",
      "===Done===\n"
     ]
    }
   ],
   "source": [
    "#matcher协程中, s = (yield)一行等待每个read函数发送进来的单词,匹配结束后将控制流归还给read\n",
    "read(text, matcher)"
   ]
  },
  {
   "cell_type": "markdown",
   "metadata": {},
   "source": [
    "### 基于协程的生产-过滤-消耗 模型"
   ]
  },
  {
   "cell_type": "code",
   "execution_count": 20,
   "metadata": {},
   "outputs": [],
   "source": [
    "#生产者创建序列中的物品, 使用send()传递给过滤者\n",
    "#过滤者通过(yield)来消耗物品并通过send()发送给消费者\n",
    "#消费者使用(yield)来消耗物品但是不发送"
   ]
  },
  {
   "cell_type": "code",
   "execution_count": 30,
   "metadata": {},
   "outputs": [],
   "source": [
    "#我们可以将 match拆分为过滤者和消费者\n",
    "def match_filter(pattern, next_coroutine):\n",
    "    print('Looking for ' + pattern)\n",
    "    while True:\n",
    "        try:\n",
    "            s = (yield)\n",
    "        except GeneratorExit:\n",
    "            next_coroutine.close()\n",
    "            break\n",
    "        else:\n",
    "            if pattern in s:\n",
    "                next_coroutine.send(s)\n",
    "def print_consumer():\n",
    "    print('Preparing to print')\n",
    "    while True:\n",
    "        try:\n",
    "            line = (yield)\n",
    "        except GeneratorExit:\n",
    "            print('===Done===')\n",
    "            break\n",
    "        else:\n",
    "            print(line)"
   ]
  },
  {
   "cell_type": "code",
   "execution_count": 31,
   "metadata": {},
   "outputs": [
    {
     "name": "stdout",
     "output_type": "stream",
     "text": [
      "Preparing to print\n"
     ]
    }
   ],
   "source": [
    "#当过滤者和消费者被构建时, 必须调用__next__方法开始执行\n",
    "printer = print_consumer()\n",
    "printer.__next__()"
   ]
  },
  {
   "cell_type": "code",
   "execution_count": 32,
   "metadata": {},
   "outputs": [
    {
     "name": "stdout",
     "output_type": "stream",
     "text": [
      "Looking for pend\n"
     ]
    }
   ],
   "source": [
    "matcher = match_filter('pend', printer)\n",
    "matcher.__next__()"
   ]
  },
  {
   "cell_type": "code",
   "execution_count": 33,
   "metadata": {},
   "outputs": [
    {
     "name": "stdout",
     "output_type": "stream",
     "text": [
      "spending\n",
      "pending\n",
      "===Done===\n"
     ]
    }
   ],
   "source": [
    "read(text, matcher)"
   ]
  },
  {
   "cell_type": "code",
   "execution_count": 4,
   "metadata": {},
   "outputs": [],
   "source": [
    "#过滤者filter不但可以移除元素, 也可以转换元素\n",
    "def counter_letters(next_coroutine):\n",
    "    while True:\n",
    "        try:\n",
    "            s = (yield)\n",
    "        except GeneratorExit as e:\n",
    "            next_coroutine.close()\n",
    "            break\n",
    "        else:\n",
    "            #统计文本中单词的频率\n",
    "            counts = {letter : s.count(letter) for letter in set(s)}\n",
    "            next_coroutine.send(counts)\n",
    "    return\n",
    "\n",
    "#下面再定义消费者\n",
    "def sum_dictionaries():\n",
    "    total = {}\n",
    "    while True:\n",
    "        try:\n",
    "            counts = (yield)\n",
    "        except GeneratorExit:\n",
    "            #找出频率最高的单词\n",
    "            max_letter = max(total.items(), key = lambda t : t[1])[0]\n",
    "            print(\"Most frequent letter: \" + max_letter)\n",
    "            break\n",
    "        else:\n",
    "            #下面的循环统计单词的总出现次数\n",
    "            for letter, count in counts.items():\n",
    "                total[letter] = count + total.get(letter, 0)"
   ]
  },
  {
   "cell_type": "code",
   "execution_count": 5,
   "metadata": {},
   "outputs": [
    {
     "name": "stdout",
     "output_type": "stream",
     "text": [
      "Most frequent letter: n\n"
     ]
    }
   ],
   "source": [
    "text = 'Commending spending is offending to people pending lending!'\n",
    "s = sum_dictionaries()\n",
    "s.__next__()\n",
    "c = counter_letters(s)\n",
    "c.__next__()\n",
    "read(text, c)"
   ]
  },
  {
   "cell_type": "code",
   "execution_count": 6,
   "metadata": {},
   "outputs": [],
   "source": [
    "#协程与多任务\n",
    "#生产者与过滤者可以向多个协程send数据"
   ]
  },
  {
   "cell_type": "code",
   "execution_count": 7,
   "metadata": {},
   "outputs": [],
   "source": [
    "def read2many(text, coroutines):\n",
    "    for word in text.split():\n",
    "        for coroutine in coroutines:\n",
    "            coroutine.send(word)\n",
    "    for coroutine in coroutines:\n",
    "        coroutine.close()"
   ]
  },
  {
   "cell_type": "code",
   "execution_count": 9,
   "metadata": {},
   "outputs": [
    {
     "name": "stdout",
     "output_type": "stream",
     "text": [
      "Looking for mend\n",
      "Looking for pe\n"
     ]
    }
   ],
   "source": [
    "#我们可以用 read2many 检测多个单词中的相同文本\n",
    "m = match('mend')\n",
    "p = match('pe')\n",
    "m.__next__()\n",
    "p.__next__()"
   ]
  },
  {
   "cell_type": "code",
   "execution_count": 10,
   "metadata": {},
   "outputs": [
    {
     "name": "stdout",
     "output_type": "stream",
     "text": [
      "Commending\n",
      "spending\n",
      "people\n",
      "pending\n",
      "===Done===\n",
      "===Done===\n"
     ]
    }
   ],
   "source": [
    "read2many(text, [m, p])"
   ]
  },
  {
   "cell_type": "markdown",
   "metadata": {},
   "source": [
    "### 一个小游戏"
   ]
  },
  {
   "cell_type": "code",
   "execution_count": null,
   "metadata": {},
   "outputs": [],
   "source": []
  }
 ],
 "metadata": {
  "kernelspec": {
   "display_name": "Python 3",
   "language": "python",
   "name": "python3"
  },
  "language_info": {
   "codemirror_mode": {
    "name": "ipython",
    "version": 3
   },
   "file_extension": ".py",
   "mimetype": "text/x-python",
   "name": "python",
   "nbconvert_exporter": "python",
   "pygments_lexer": "ipython3",
   "version": "3.6.7"
  },
  "toc": {
   "base_numbering": 1,
   "nav_menu": {},
   "number_sections": true,
   "sideBar": false,
   "skip_h1_title": false,
   "title_cell": "Table of Contents",
   "title_sidebar": "Contents",
   "toc_cell": false,
   "toc_position": {},
   "toc_section_display": true,
   "toc_window_display": false
  },
  "varInspector": {
   "cols": {
    "lenName": 16,
    "lenType": 16,
    "lenVar": 40
   },
   "kernels_config": {
    "python": {
     "delete_cmd_postfix": "",
     "delete_cmd_prefix": "del ",
     "library": "var_list.py",
     "varRefreshCmd": "print(var_dic_list())"
    },
    "r": {
     "delete_cmd_postfix": ") ",
     "delete_cmd_prefix": "rm(",
     "library": "var_list.r",
     "varRefreshCmd": "cat(var_dic_list()) "
    }
   },
   "types_to_exclude": [
    "module",
    "function",
    "builtin_function_or_method",
    "instance",
    "_Feature"
   ],
   "window_display": false
  }
 },
 "nbformat": 4,
 "nbformat_minor": 2
}
