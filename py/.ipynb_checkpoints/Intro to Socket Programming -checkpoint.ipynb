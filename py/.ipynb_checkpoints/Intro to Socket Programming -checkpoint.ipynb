{
 "cells": [
  {
   "cell_type": "markdown",
   "metadata": {
    "toc": true
   },
   "source": [
    "<h1>Table of Contents<span class=\"tocSkip\"></span></h1>\n",
    "<div class=\"toc\"><ul class=\"toc-item\"><li><span><a href=\"#client-和-server实现通信\" data-toc-modified-id=\"client-和-server实现通信-1\"><span class=\"toc-item-num\">1&nbsp;&nbsp;</span>client 和 server实现通信</a></span><ul class=\"toc-item\"><li><span><a href=\"#server端\" data-toc-modified-id=\"server端-1.1\"><span class=\"toc-item-num\">1.1&nbsp;&nbsp;</span>server端</a></span></li><li><span><a href=\"#client端\" data-toc-modified-id=\"client端-1.2\"><span class=\"toc-item-num\">1.2&nbsp;&nbsp;</span>client端</a></span></li></ul></li></ul></div>"
   ]
  },
  {
   "cell_type": "markdown",
   "metadata": {},
   "source": [
    "##### client 和 server实现通信\n",
    "\n",
    "![](img/Socket编程.png)"
   ]
  },
  {
   "cell_type": "markdown",
   "metadata": {},
   "source": [
    "###### server端\n",
    "\n",
    "* 必须随时处于监听状态"
   ]
  },
  {
   "cell_type": "code",
   "execution_count": 2,
   "metadata": {
    "ExecuteTime": {
     "end_time": "2019-05-22T06:52:05.469511Z",
     "start_time": "2019-05-22T06:52:05.466639Z"
    }
   },
   "outputs": [],
   "source": [
    "#socket_sever.py\n",
    "import socket\n",
    "\n",
    "#1.初始化 socket server实例\n",
    "#family: ipv4, type: TCP \n",
    "sever = socket.socket(family=socket.AF_INET, type=socket.SOCK_STREAM)\n",
    "\n",
    "#2. 绑定地址和端口\n",
    "sever.bind(('0.0.0.0', 8000))\n",
    "\n",
    "#3. 开始监听\n",
    "sever.listen()\n",
    "\n",
    "#4. accept\n",
    "sock, addr = sever.accept()\n",
    "\n",
    "#5. 获取从客户端发送的数据, 假设一次获取1024字节的数据\n",
    "data = sock.recv(1024)\n",
    "print(data.decode('utf8'))\n",
    "\n",
    "#6.如果不用了就关闭\n",
    "sock.close()\n",
    "\n",
    "#7.一般来讲我们不会关闭sever\n",
    "sever.close()"
   ]
  },
  {
   "cell_type": "markdown",
   "metadata": {},
   "source": [
    "###### client端"
   ]
  },
  {
   "cell_type": "code",
   "execution_count": null,
   "metadata": {},
   "outputs": [],
   "source": [
    "#socket_client.py\n",
    "import client\n",
    "\n",
    "#1.初始化 socket server实例\n",
    "client = socket.socket(family=socket.AF_INET, type=socket.SOCK_STREAM)\n",
    "\n",
    "#2.链接\n",
    "client.connect(('127.0.0.1', 8000))\n",
    "\n",
    "#3.发送数据\n",
    "client.send('bobby'.encode('uft8'))\n",
    "\n",
    "#4.如果不用了就关闭\n",
    "client.close()"
   ]
  }
 ],
 "metadata": {
  "kernelspec": {
   "display_name": "Python 3",
   "language": "python",
   "name": "python3"
  },
  "language_info": {
   "codemirror_mode": {
    "name": "ipython",
    "version": 3
   },
   "file_extension": ".py",
   "mimetype": "text/x-python",
   "name": "python",
   "nbconvert_exporter": "python",
   "pygments_lexer": "ipython3",
   "version": "3.6.7"
  },
  "toc": {
   "base_numbering": 1,
   "nav_menu": {},
   "number_sections": true,
   "sideBar": true,
   "skip_h1_title": true,
   "title_cell": "Table of Contents",
   "title_sidebar": "Contents",
   "toc_cell": true,
   "toc_position": {},
   "toc_section_display": true,
   "toc_window_display": false
  }
 },
 "nbformat": 4,
 "nbformat_minor": 2
}
