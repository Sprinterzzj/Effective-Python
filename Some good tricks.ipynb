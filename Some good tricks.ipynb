{
 "cells": [
  {
   "cell_type": "markdown",
   "metadata": {
    "toc": true
   },
   "source": [
    "<h1>Table of Contents<span class=\"tocSkip\"></span></h1>\n",
    "<div class=\"toc\"><ul class=\"toc-item\"><li><span><a href=\"#让函数返回结果的技巧\" data-toc-modified-id=\"让函数返回结果的技巧-1\"><span class=\"toc-item-num\">1&nbsp;&nbsp;</span>让函数返回结果的技巧</a></span><ul class=\"toc-item\"><li><span><a href=\"#单个函数不要返回多类型\" data-toc-modified-id=\"单个函数不要返回多类型-1.1\"><span class=\"toc-item-num\">1.1&nbsp;&nbsp;</span>单个函数不要返回多类型</a></span></li><li><span><a href=\"#使用partial来构造新的函数\" data-toc-modified-id=\"使用partial来构造新的函数-1.2\"><span class=\"toc-item-num\">1.2&nbsp;&nbsp;</span>使用partial来构造新的函数</a></span></li><li><span><a href=\"#让函数抛出异常而不是将结果和错误信息一起抛出\" data-toc-modified-id=\"让函数抛出异常而不是将结果和错误信息一起抛出-1.3\"><span class=\"toc-item-num\">1.3&nbsp;&nbsp;</span>让函数抛出异常而不是将结果和错误信息一起抛出</a></span></li><li><span><a href=\"#合理使用空对象模式来代替空值返回与抛出异常\" data-toc-modified-id=\"合理使用空对象模式来代替空值返回与抛出异常-1.4\"><span class=\"toc-item-num\">1.4&nbsp;&nbsp;</span>合理使用空对象模式来代替空值返回与抛出异常</a></span></li></ul></li><li><span><a href=\"#异常处理的好习惯\" data-toc-modified-id=\"异常处理的好习惯-2\"><span class=\"toc-item-num\">2&nbsp;&nbsp;</span>异常处理的好习惯</a></span><ul class=\"toc-item\"><li><span><a href=\"#只做最精准的异常处理\" data-toc-modified-id=\"只做最精准的异常处理-2.1\"><span class=\"toc-item-num\">2.1&nbsp;&nbsp;</span>只做最精准的异常处理</a></span></li><li><span><a href=\"#别让异常破坏抽象一致性\" data-toc-modified-id=\"别让异常破坏抽象一致性-2.2\"><span class=\"toc-item-num\">2.2&nbsp;&nbsp;</span>别让异常破坏抽象一致性</a></span></li><li><span><a href=\"#异常处理不应该喧宾夺主\" data-toc-modified-id=\"异常处理不应该喧宾夺主-2.3\"><span class=\"toc-item-num\">2.3&nbsp;&nbsp;</span>异常处理不应该喧宾夺主</a></span></li></ul></li><li><span><a href=\"#编写地道的循环\" data-toc-modified-id=\"编写地道的循环-3\"><span class=\"toc-item-num\">3&nbsp;&nbsp;</span>编写地道的循环</a></span><ul class=\"toc-item\"><li><span><a href=\"#使用函数修饰被迭代对象来优化循环\" data-toc-modified-id=\"使用函数修饰被迭代对象来优化循环-3.1\"><span class=\"toc-item-num\">3.1&nbsp;&nbsp;</span>使用函数修饰被迭代对象来优化循环</a></span></li><li><span><a href=\"#按职责拆解循环体内复杂代码块\" data-toc-modified-id=\"按职责拆解循环体内复杂代码块-3.2\"><span class=\"toc-item-num\">3.2&nbsp;&nbsp;</span>按职责拆解循环体内复杂代码块</a></span></li></ul></li></ul></div>"
   ]
  },
  {
   "cell_type": "markdown",
   "metadata": {},
   "source": [
    "##### 让函数返回结果的技巧"
   ]
  },
  {
   "cell_type": "markdown",
   "metadata": {},
   "source": [
    "###### 单个函数不要返回多类型"
   ]
  },
  {
   "cell_type": "markdown",
   "metadata": {},
   "source": [
    "###### 使用partial来构造新的函数"
   ]
  },
  {
   "cell_type": "code",
   "execution_count": 16,
   "metadata": {
    "ExecuteTime": {
     "end_time": "2019-05-09T05:59:08.537668Z",
     "start_time": "2019-05-09T05:59:08.533963Z"
    }
   },
   "outputs": [
    {
     "data": {
      "text/plain": [
       "6"
      ]
     },
     "execution_count": 16,
     "metadata": {},
     "output_type": "execute_result"
    }
   ],
   "source": [
    "def multiply(x, y):\n",
    "    return x * y\n",
    "\n",
    "from functools import partial\n",
    "#double = partial(multiply, 2)\n",
    "double = partial(multiply, x = 2)\n",
    "\n",
    "double(y = 3)"
   ]
  },
  {
   "cell_type": "markdown",
   "metadata": {},
   "source": [
    "###### 让函数抛出异常而不是将结果和错误信息一起抛出"
   ]
  },
  {
   "cell_type": "markdown",
   "metadata": {},
   "source": [
    "###### 合理使用空对象模式来代替空值返回与抛出异常"
   ]
  },
  {
   "cell_type": "code",
   "execution_count": 19,
   "metadata": {
    "ExecuteTime": {
     "end_time": "2019-05-09T06:25:48.070918Z",
     "start_time": "2019-05-09T06:25:48.065227Z"
    }
   },
   "outputs": [],
   "source": [
    "import decimal\n",
    "\n",
    "\n",
    "class CreateAccountError(Exception):\n",
    "    pass\n",
    "\n",
    "\n",
    "class NullAccount(object):\n",
    "    username = ''\n",
    "    balance = 0\n",
    "\n",
    "    @classmethod\n",
    "    def from_string(cls, s):\n",
    "        raise NotImplementedError\n",
    "\n",
    "\n",
    "class Account(object):\n",
    "\n",
    "    def __init__(self, username, balance):\n",
    "        self.username = username\n",
    "        self.balance = balance\n",
    "\n",
    "    @classmethod\n",
    "    def from_string(cls, s):\n",
    "        \"\"\"从字符串初始化一个账号\n",
    "        \"\"\"\n",
    "        try:\n",
    "            username, balance = s.split()\n",
    "            balance = decimal.Decimal(float(balance))\n",
    "        except ValueError:\n",
    "            raise CreateAccountError('input must follow pattern\\\n",
    "                                     \"{ACCOUNT_NAME} {BALANCE}\"')\n",
    "        if balance < 0:\n",
    "            #raise CreateAccountError('balance can not be negative')\n",
    "            return NullAccount()\n",
    "        return cls(username, balance)"
   ]
  },
  {
   "cell_type": "code",
   "execution_count": 20,
   "metadata": {
    "ExecuteTime": {
     "end_time": "2019-05-09T06:31:35.926581Z",
     "start_time": "2019-05-09T06:31:35.920986Z"
    }
   },
   "outputs": [],
   "source": [
    "#上面的代码中在判断balance为负数时没有抛出异常而是返回空对象.\n",
    "#这样下面的函数得以简化\n",
    "def calculate_total_balance(accounts_data):\n",
    "    \"\"\"计算所有账号的总的余额\n",
    "    \"\"\"\n",
    "    return sum(Account.from_string(s).balance for s in accounts_data)\n",
    "\n",
    "#否则在 calculate_total_balance里面你需要try/except:\n",
    "def caculate_total_balance_(accounts_data):\n",
    "    \"\"\"计算所有账号的总余额\n",
    "    \"\"\"\n",
    "    result = 0\n",
    "    for account_string in accounts_data:\n",
    "        try:\n",
    "            user = Account.from_string(account_string)\n",
    "        except CreateAccountError:\n",
    "            pass\n",
    "        else:\n",
    "            result += user.balance\n",
    "    return result"
   ]
  },
  {
   "cell_type": "markdown",
   "metadata": {},
   "source": [
    "##### 异常处理的好习惯"
   ]
  },
  {
   "cell_type": "markdown",
   "metadata": {},
   "source": [
    "###### 只做最精准的异常处理\n",
    "\n",
    "* 永远只捕获那些可能会抛出异常的语句块\n",
    "* 尽量只捕获精确的异常类型，而不是模糊的 Exception"
   ]
  },
  {
   "cell_type": "code",
   "execution_count": 21,
   "metadata": {
    "ExecuteTime": {
     "end_time": "2019-05-09T06:49:41.612664Z",
     "start_time": "2019-05-09T06:49:41.606410Z"
    }
   },
   "outputs": [],
   "source": [
    "from requests.exceptions import RequestException\n",
    "\n",
    "def save_website_title(url, filename):\n",
    "    try:\n",
    "        resp = requests.get(url)\n",
    "    except RequestException as e:\n",
    "        print(f'save failed: unable to get page content: {e}')\n",
    "        return False\n",
    "    # 这段正则操作本身就是不应该抛出异常的，所以我们没必要使用 try 语句块\n",
    "    # 假如 group 被误打成了 grop 也没关系，程序马上就会通过 AttributeError 来\n",
    "    # 告诉我们。\n",
    "    obj = re.search(r'<title>(.*)</title>', resp.text)\n",
    "    if not obj:\n",
    "        print('save failed: title tag not found in page content')\n",
    "        return False\n",
    "    title = obj.group(1)\n",
    "    \n",
    "    try:\n",
    "        with open(filename, 'w') as fp:\n",
    "            fp.write(title)\n",
    "    except IOError as e:\n",
    "        print(f'save failed: unable to write to file {filename}: {e}')\n",
    "        return False\n",
    "    else:\n",
    "        return True\n",
    "        "
   ]
  },
  {
   "cell_type": "markdown",
   "metadata": {},
   "source": [
    "###### 别让异常破坏抽象一致性\n",
    "\n",
    "* 让模块只抛出与当前抽象层级一致的异常\n",
    "* 在贴近高层抽象的地方, 将低级层面的异常包装成高级异常"
   ]
  },
  {
   "cell_type": "markdown",
   "metadata": {},
   "source": [
    "###### 异常处理不应该喧宾夺主\n",
    "\n",
    "* 异常处理的逻辑太多可能扰乱代码的核心逻辑"
   ]
  },
  {
   "cell_type": "code",
   "execution_count": 22,
   "metadata": {
    "ExecuteTime": {
     "end_time": "2019-05-09T07:04:10.960589Z",
     "start_time": "2019-05-09T07:04:10.956086Z"
    }
   },
   "outputs": [],
   "source": [
    "#过多的异常处理\n",
    "def upload_avatar(request):\n",
    "    \"\"\"用户上传新头像\"\"\"\n",
    "    try:\n",
    "        avatar_file = request.FILES['avatar']\n",
    "    except KeyError:\n",
    "        raise error_codes.AVATAR_FILE_NOT_PROVIDED\n",
    "\n",
    "    try:\n",
    "        resized_avatar_file = resize_avatar(avatar_file)\n",
    "    except FileTooLargeError as e:\n",
    "        raise error_codes.AVATAR_FILE_TOO_LARGE\n",
    "    except ResizeAvatarError as e:\n",
    "        raise error_codes.AVATAR_FILE_INVALID\n",
    "\n",
    "    try:\n",
    "        request.user.avatar = resized_avatar_file\n",
    "        request.user.save()\n",
    "    except Exception:\n",
    "        raise error_codes.INTERNAL_SERVER_ERROR\n",
    "    return HttpResponse({})"
   ]
  },
  {
   "cell_type": "code",
   "execution_count": 23,
   "metadata": {
    "ExecuteTime": {
     "end_time": "2019-05-09T07:16:25.758545Z",
     "start_time": "2019-05-09T07:16:25.754138Z"
    }
   },
   "outputs": [],
   "source": [
    "#解决方案: 上下文管理器简化 try/except\n",
    "\n",
    "#这里我们没有用 contextlib模块\n",
    "class raise_api_error(object):\n",
    "    \"\"\"捕捉特定的异常并且用error_code类来替代它.\n",
    "    \n",
    "    : raises: AttributeError if code_name is not valid\n",
    "    \"\"\"\n",
    "    def __init__(self, captures, code_name):\n",
    "        self.captures = captures\n",
    "        self.code = getattr(error_codes, code_name)\n",
    "        \n",
    "    def __enter__(self):\n",
    "        #该方法在进入上下文管理器时被调用\n",
    "        return self\n",
    "    def __exit__(self, exp_type, value, traceback):\n",
    "        #该方法在退出上下文时调用\n",
    "        #exp_type, value, traceback分别是该上下文抛出的\n",
    "        #异常类型, 异常值和错误栈\n",
    "        if exp_type is None:\n",
    "            return False\n",
    "        \n",
    "        if exp_type == self.captures:\n",
    "            raise self.code from value\n",
    "        return False"
   ]
  },
  {
   "cell_type": "code",
   "execution_count": null,
   "metadata": {},
   "outputs": [],
   "source": [
    "#在上面的代码里，我们定义了一个名为 raise_api_error 的上下文管理器，\n",
    "#它在进入上下文时什么也不做。但是在退出上下文时，\n",
    "#会判断当前上下文中是否抛出了类型为 self.captures 的异常，\n",
    "#如果有，就用 APIErrorCode 异常类替代它。\n",
    "\n",
    "def upload_avatar(request):\n",
    "    \"\"\"用户上传新头像\"\"\"\n",
    "    with raise_api_error(KeyError, 'AVATAR_FILE_NOT_PROVIDED'):\n",
    "        avatar_file = request.FILES['avatar']\n",
    "\n",
    "    with raise_api_error(ResizeAvatarError, 'AVATAR_FILE_INVALID'),\\\n",
    "            raise_api_error(FileTooLargeError, 'AVATAR_FILE_TOO_LARGE'):\n",
    "        resized_avatar_file = resize_avatar(avatar_file)\n",
    "\n",
    "    with raise_api_error(Exception, 'INTERNAL_SERVER_ERROR'):\n",
    "        request.user.avatar = resized_avatar_file\n",
    "        request.user.save()\n",
    "    return HttpResponse({})"
   ]
  },
  {
   "cell_type": "markdown",
   "metadata": {},
   "source": [
    "##### 编写地道的循环"
   ]
  },
  {
   "cell_type": "markdown",
   "metadata": {},
   "source": [
    "###### 使用函数修饰被迭代对象来优化循环"
   ]
  },
  {
   "cell_type": "code",
   "execution_count": 24,
   "metadata": {
    "ExecuteTime": {
     "end_time": "2019-05-09T07:30:06.586305Z",
     "start_time": "2019-05-09T07:30:06.582919Z"
    }
   },
   "outputs": [],
   "source": [
    "from itertools import product\n",
    "#利用product来避免循环嵌套\n",
    "def find_twelve(num_list1, num_list2, num_list3):\n",
    "    for num1, num2, num3 in product(num_list1, num_list2, num_list3):\n",
    "        if num1 + num2 + num3 == 12:\n",
    "            return (num1, num2, num3)"
   ]
  },
  {
   "cell_type": "code",
   "execution_count": null,
   "metadata": {},
   "outputs": [],
   "source": [
    "from itertools import islice\n",
    "#利用islice(seq, start, end, step)完成切片操作\n",
    "def parse_titles(filename):\n",
    "    with open(filename, 'r') as fp:\n",
    "        for line in islice(fp, 0, None, 2):\n",
    "            yield line.strip()"
   ]
  },
  {
   "cell_type": "code",
   "execution_count": 25,
   "metadata": {
    "ExecuteTime": {
     "end_time": "2019-05-09T07:39:34.773820Z",
     "start_time": "2019-05-09T07:39:34.771601Z"
    }
   },
   "outputs": [],
   "source": [
    "from itertools import takewhile\n",
    "#takewhile(predicate, iterable) 会在迭代 iterable 的过程中\n",
    "#不断使用当前对象作为参数调用 predicate 函数并测试返回结果，\n",
    "#如果函数返回值为真，则生成当前对象，循环继续。否则立即中断当前循环！！！\n",
    "#来代替break语句\n",
    "\n",
    "# for usr in takewhile(is_qualified, users):\n",
    "#     pass"
   ]
  },
  {
   "cell_type": "code",
   "execution_count": 26,
   "metadata": {
    "ExecuteTime": {
     "end_time": "2019-05-09T07:43:29.768430Z",
     "start_time": "2019-05-09T07:43:29.764537Z"
    }
   },
   "outputs": [],
   "source": [
    "def even_only(numbers):\n",
    "    return (num for num in numbers if num % 2 == 0)\n",
    "#使用生成器来简化循环\n",
    "def sum_even_only(numbers):\n",
    "    result = 0\n",
    "    for num in even_only(numbers):\n",
    "        result += num\n",
    "    return result"
   ]
  },
  {
   "cell_type": "markdown",
   "metadata": {},
   "source": [
    "###### 按职责拆解循环体内复杂代码块"
   ]
  },
  {
   "cell_type": "code",
   "execution_count": 27,
   "metadata": {
    "ExecuteTime": {
     "end_time": "2019-05-09T07:51:09.603222Z",
     "start_time": "2019-05-09T07:51:09.595192Z"
    }
   },
   "outputs": [],
   "source": [
    "import time\n",
    "import datetime\n",
    "\n",
    "#外循环: 挑选日期与准备时间戳\n",
    "#内循环: 发送奖励积分\n",
    "#两个逻辑耦合在一起了, 不利于后期代码复用\n",
    "def award_active_users_in_last_30days():\n",
    "    \"\"\"获取所有在过去 30 天周末晚上 8 点到 10 点登录过的用户，为其发送奖励积分\n",
    "    \"\"\"\n",
    "    days = 30\n",
    "    for days_delta in range(days):\n",
    "        dt = datetime.date.today() - datetime.timedelta(days=days_delta)\n",
    "        # 5: Saturday, 6: Sunday\n",
    "        if dt.weekday() not in (5, 6):\n",
    "            continue\n",
    "\n",
    "        time_start = datetime.datetime(dt.year, dt.month, dt.day, 20, 0)\n",
    "        time_end = datetime.datetime(dt.year, dt.month, dt.day, 23, 0)\n",
    "\n",
    "        # 转换为 unix 时间戳，之后的 ORM 查询需要\n",
    "        ts_start = time.mktime(time_start.timetuple())\n",
    "        ts_end = time.mktime(time_end.timetuple())\n",
    "\n",
    "        # 查询用户并挨个发送 1000 奖励积分\n",
    "        for record in LoginRecord.filter_by_range(ts_start, ts_end):\n",
    "            # 这里可以添加复杂逻辑\n",
    "            send_awarding_points(record.user_id, 1000)"
   ]
  },
  {
   "cell_type": "code",
   "execution_count": 28,
   "metadata": {
    "ExecuteTime": {
     "end_time": "2019-05-09T07:59:50.933602Z",
     "start_time": "2019-05-09T07:59:50.928628Z"
    }
   },
   "outputs": [],
   "source": [
    "#使用生成器函数解耦循环\n",
    "#外循环剥离出来\n",
    "def gen_weekend_ts_ranges(days_ago, hour_start, hour_end):\n",
    "    \"\"\"生成过去一段时间内周六日特定时间段范围，并以 UNIX 时间戳返回\n",
    "    \"\"\"\n",
    "    for days_delta in range(days_ago):\n",
    "        dt = datetime.date.today() - datetime.timedelta(days=days_delta)\n",
    "        if dt.weekday() not in (5, 6):\n",
    "            continue\n",
    "        \n",
    "        t_start = datetime.datetime(dt.year, dt.month,\n",
    "                                    dt.day, hour_start, 0)\n",
    "        t_end = datetime.datetime(dt.year, dt.month,\n",
    "                                  dt.day, hour_end, 0)\n",
    "        \n",
    "        #转换为UNIX时间戳, 为之后的ORM做准备\n",
    "        t_start = time.mktime(t_start.timetuple())\n",
    "        t_end = time.mktime(t_end.timetuple())\n",
    "        yield t_start, t_end"
   ]
  },
  {
   "cell_type": "code",
   "execution_count": 29,
   "metadata": {
    "ExecuteTime": {
     "end_time": "2019-05-09T08:04:24.974226Z",
     "start_time": "2019-05-09T08:04:24.971071Z"
    }
   },
   "outputs": [],
   "source": [
    "#有了上面的生成器之后, 需求“发送奖励积分”, 都可以再循环体内复用他来完成任务\n",
    "def award_active_users_in_last_30days():\n",
    "    for ts_start, ts_end in gen_weekend_ts_ranges(30, hour_start=20,\n",
    "                                                  hour_end=23):\n",
    "        for record in LoginRecord.filter_by_range(ts_start, ts_end):\n",
    "            send_award_points(record.user_id, 1000)"
   ]
  },
  {
   "cell_type": "code",
   "execution_count": null,
   "metadata": {},
   "outputs": [],
   "source": []
  }
 ],
 "metadata": {
  "kernelspec": {
   "display_name": "Python 3",
   "language": "python",
   "name": "python3"
  },
  "language_info": {
   "codemirror_mode": {
    "name": "ipython",
    "version": 3
   },
   "file_extension": ".py",
   "mimetype": "text/x-python",
   "name": "python",
   "nbconvert_exporter": "python",
   "pygments_lexer": "ipython3",
   "version": "3.6.8"
  },
  "toc": {
   "base_numbering": 1,
   "nav_menu": {},
   "number_sections": true,
   "sideBar": true,
   "skip_h1_title": true,
   "title_cell": "Table of Contents",
   "title_sidebar": "Contents",
   "toc_cell": true,
   "toc_position": {},
   "toc_section_display": true,
   "toc_window_display": false
  },
  "varInspector": {
   "cols": {
    "lenName": 16,
    "lenType": 16,
    "lenVar": 40
   },
   "kernels_config": {
    "python": {
     "delete_cmd_postfix": "",
     "delete_cmd_prefix": "del ",
     "library": "var_list.py",
     "varRefreshCmd": "print(var_dic_list())"
    },
    "r": {
     "delete_cmd_postfix": ") ",
     "delete_cmd_prefix": "rm(",
     "library": "var_list.r",
     "varRefreshCmd": "cat(var_dic_list()) "
    }
   },
   "types_to_exclude": [
    "module",
    "function",
    "builtin_function_or_method",
    "instance",
    "_Feature"
   ],
   "window_display": false
  }
 },
 "nbformat": 4,
 "nbformat_minor": 2
}
