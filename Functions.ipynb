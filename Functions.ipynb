{
 "cells": [
  {
   "cell_type": "markdown",
   "metadata": {},
   "source": [
    "### 能返回异常就不要返回None"
   ]
  },
  {
   "cell_type": "code",
   "execution_count": 2,
   "metadata": {},
   "outputs": [],
   "source": [
    "#看下面的例子:\n",
    "def divide(a, b):\n",
    "    try:\n",
    "        return a / b\n",
    "    except ZeroDivisionError:\n",
    "        return None"
   ]
  },
  {
   "cell_type": "code",
   "execution_count": 4,
   "metadata": {},
   "outputs": [],
   "source": [
    "#这个函数可以这样用\n",
    "x = 0\n",
    "y = 5\n",
    "result = divide(x, y)\n",
    "if result is None:\n",
    "    print('Invalid inputs')"
   ]
  },
  {
   "cell_type": "code",
   "execution_count": 5,
   "metadata": {},
   "outputs": [
    {
     "name": "stdout",
     "output_type": "stream",
     "text": [
      "Invalid inputs\n"
     ]
    }
   ],
   "source": [
    "#但是不能这样用！\n",
    "x = 0\n",
    "y = 5\n",
    "result = divide(x, y)\n",
    "#这是因为 0 会被判断为 False\n",
    "if not result:\n",
    "    print('Invalid inputs')"
   ]
  },
  {
   "cell_type": "code",
   "execution_count": 6,
   "metadata": {},
   "outputs": [],
   "source": [
    "#最好的解决方案是,尽可能不要返回 None！\n",
    "def divide(a, b):\n",
    "    try:\n",
    "        return a / b\n",
    "    except ZeroDivisionError as e:\n",
    "        raise ValueError('Invalid inputs!') from e"
   ]
  },
  {
   "cell_type": "markdown",
   "metadata": {},
   "source": [
    "### 闭包与变量作用域"
   ]
  },
  {
   "cell_type": "code",
   "execution_count": 2,
   "metadata": {},
   "outputs": [],
   "source": [
    "#你想排序一个列表, 并且动态的指定一些特殊元素的优先级\n",
    "def sort_priority(values, group):\n",
    "    def helper(x):\n",
    "        if x in group:\n",
    "            return (0, x)\n",
    "        return (1, x)\n",
    "    values.sort(key = helper)"
   ]
  },
  {
   "cell_type": "code",
   "execution_count": 3,
   "metadata": {},
   "outputs": [
    {
     "name": "stdout",
     "output_type": "stream",
     "text": [
      "[2, 3, 5, 7, 1, 4, 6, 8]\n"
     ]
    }
   ],
   "source": [
    "numbers = [8, 3, 1, 2, 5, 4, 7, 6] \n",
    "group = {2, 3, 5, 7} \n",
    "sort_priority(numbers, group) \n",
    "print(numbers)"
   ]
  },
  {
   "cell_type": "code",
   "execution_count": 9,
   "metadata": {},
   "outputs": [],
   "source": [
    "#sort_priority 表明了Python语言的三个特点:\n",
    "## 1. Python支持 闭包。函数可以引用在它定义范围内的变量\n",
    "## 2. 函数是Python的一等公民, 你可以传递函数作为参数\n",
    "## 3. Python按照字典序比较tuple类型的序"
   ]
  },
  {
   "cell_type": "code",
   "execution_count": 1,
   "metadata": {},
   "outputs": [],
   "source": [
    "#在用函数嵌套的时候,你需要注意变量的作用域\n",
    "def sort_priority2(numbers, group):\n",
    "    found = False\n",
    "    def helper(x):\n",
    "        if x in group:\n",
    "            #会在helper定义的范围内创建新的变量,\n",
    "            #而不是赋值原来的变量\n",
    "            found = True\n",
    "            return (0, x)\n",
    "        return (1, x)\n",
    "    numbers.sort(key = helper)\n",
    "    return found"
   ]
  },
  {
   "cell_type": "code",
   "execution_count": 4,
   "metadata": {},
   "outputs": [
    {
     "name": "stdout",
     "output_type": "stream",
     "text": [
      "Found: False\n",
      "[2, 3, 5, 7, 1, 4, 6, 8]\n"
     ]
    }
   ],
   "source": [
    "found = sort_priority2(numbers, group)\n",
    "print('Found:', found)\n",
    "print(numbers)"
   ]
  },
  {
   "cell_type": "code",
   "execution_count": 6,
   "metadata": {},
   "outputs": [],
   "source": [
    "#注意变量引用和赋值的区别！！！\n",
    "\n",
    "#当引用一个变量时:\n",
    "## ->. 首先查找当前函数的范围(如上例的helper)\n",
    "## -->. 其次查找上层函数的范围(sort_priority2)\n",
    "## --->. 接着查找全局作用域\n",
    "## ---->. 最后查找 built-in 作用域\n",
    "#赋值一个变量时:\n",
    "## ->. 如果在当前的范围内存在,就直接赋值\n",
    "## -->. 但如果不存在, Python会在当前作用域内创建一个新的变量！"
   ]
  },
  {
   "cell_type": "code",
   "execution_count": 7,
   "metadata": {},
   "outputs": [],
   "source": [
    "#解决方案 1. nonlocal关键字\n",
    "#但是最好不要用\n",
    "def sort_priority3(numbers, group):\n",
    "    found = False\n",
    "    def helper(x):\n",
    "        nonlocal found\n",
    "        if x in group:\n",
    "            found = True\n",
    "            return (0, x)\n",
    "        return (1, x)\n",
    "    numbers.sort(key = helper)\n",
    "    return found "
   ]
  },
  {
   "cell_type": "code",
   "execution_count": 8,
   "metadata": {},
   "outputs": [],
   "source": [
    "#解决方案 2. Move your helper func to helper cls\n",
    "class Sorter(object):\n",
    "    def __init__(self, group):\n",
    "        self.group = group\n",
    "        self.found = False\n",
    "    def __call__(self, x):\n",
    "        if x in self.group:\n",
    "            self.found = True\n",
    "            return (0, x)\n",
    "        return (1, x)\n",
    "sorter = Sorter(group)\n",
    "numbers.sort(key = sorter)\n",
    "assert sorter.found is True"
   ]
  },
  {
   "cell_type": "markdown",
   "metadata": {},
   "source": [
    "### 如果返回的列表太大, 那么考虑返回生成器"
   ]
  },
  {
   "cell_type": "code",
   "execution_count": 10,
   "metadata": {},
   "outputs": [],
   "source": [
    "#下面的函数统计了文本中每个单词的位置(索引)\n",
    "def index_words(text):\n",
    "    result = []\n",
    "    if text:\n",
    "        result.append(0)\n",
    "    for index, letter in enumerate(text):\n",
    "        if letter == ' ':\n",
    "            result.append(index + 1)\n",
    "    return result"
   ]
  },
  {
   "cell_type": "code",
   "execution_count": 11,
   "metadata": {},
   "outputs": [
    {
     "name": "stdout",
     "output_type": "stream",
     "text": [
      "[0, 5, 11]\n"
     ]
    }
   ],
   "source": [
    "address = 'Four score and seven years ago...'\n",
    "result = index_words(address)\n",
    "print(result[:3])"
   ]
  },
  {
   "cell_type": "code",
   "execution_count": 12,
   "metadata": {},
   "outputs": [],
   "source": [
    "#上面代码有两个问题\n",
    "##1. 代码过于dense和nosiy,核心代码只有一句\n",
    "\"\"\"\n",
    "result.append(index + 1)\n",
    "\"\"\"\n",
    "#解决第一个问题的方案: 用生成器\n",
    "def index_words_iter(text):\n",
    "    if text:\n",
    "        yield 0\n",
    "    for index, letter in enumerate(text):\n",
    "        if letter == ' ':\n",
    "            yield index + 1"
   ]
  },
  {
   "cell_type": "code",
   "execution_count": 13,
   "metadata": {},
   "outputs": [],
   "source": [
    "#index_words的第二个问题\n",
    "##2. result再返回之前都必须储存在list里, 对于大文本输入,这耗费内存\n",
    "#解决方案:下面的函数每次读取一行然后生成这一行单词的位置,\n",
    "#这样的好处是, 函数每次只需要读取一行,而不是一次性读取全部的文本。当然函数可以生成任意长度的文本的单词位置\n",
    "def index_file(handle):\n",
    "    #初始化index\n",
    "    offset = 0\n",
    "    #每次读取输入的每一行\n",
    "    for line in handle:\n",
    "        #生成行首单词的位置\n",
    "        if line:\n",
    "            yield offset\n",
    "        #遍历之后的单词,遇到空格就返回当前单词的位置\n",
    "        for letter in line:\n",
    "            offset += 1\n",
    "            if letter == ' ':\n",
    "                yield offset"
   ]
  },
  {
   "cell_type": "markdown",
   "metadata": {},
   "source": [
    "### 当你需要迭代参数时, 保持警惕,尤其当参数为生成器时"
   ]
  },
  {
   "cell_type": "code",
   "execution_count": 14,
   "metadata": {},
   "outputs": [],
   "source": [
    "#下面的函数将列表中的数字标准化\n",
    "def normalize(numbers):\n",
    "    total = sum(numbers)\n",
    "    result = []\n",
    "    for value in numbers:\n",
    "        percent = 100 * value / total\n",
    "        result.append(percent)\n",
    "    return result"
   ]
  },
  {
   "cell_type": "code",
   "execution_count": 16,
   "metadata": {},
   "outputs": [
    {
     "name": "stdout",
     "output_type": "stream",
     "text": [
      "[11.538461538461538, 26.923076923076923, 61.53846153846154]\n"
     ]
    }
   ],
   "source": [
    "visits = [15, 35, 80]\n",
    "percentages = normalize(visits)\n",
    "print(percentages)"
   ]
  },
  {
   "cell_type": "code",
   "execution_count": 17,
   "metadata": {},
   "outputs": [],
   "source": [
    "#下面假设numbers来自一个很大的文件, of course 我可以通过生成器:\n",
    "\n",
    "# def read_visits(data_path):\n",
    "#     with open(data_path) as f:\n",
    "#         for line in f:\n",
    "#             yield int(line)"
   ]
  },
  {
   "cell_type": "code",
   "execution_count": 18,
   "metadata": {},
   "outputs": [],
   "source": [
    "#让我们模拟一个 生成器输入\n",
    "numbers = (i for i in range(0, 1000))"
   ]
  },
  {
   "cell_type": "code",
   "execution_count": 19,
   "metadata": {},
   "outputs": [
    {
     "name": "stdout",
     "output_type": "stream",
     "text": [
      "[]\n"
     ]
    }
   ],
   "source": [
    "#percentage返回一个空表\n",
    "#这是因为当迭代器/生成器抛出 StopIteration 异常后, 它的状态就已经 over了。\n",
    "#normalize函数中的 total = sum(numbers)使得迭代器终止。\n",
    "percentages = normalize(numbers)\n",
    "print(percentages)\n",
    "#有简单的解决方案, 比如在normalize里copy the iterator,但这么做会消耗内存。"
   ]
  },
  {
   "cell_type": "code",
   "execution_count": 23,
   "metadata": {},
   "outputs": [],
   "source": [
    "#解决方案1.\n",
    "## 在函数内部新建迭代器\n",
    "\n",
    "#匿名函数numbers\n",
    "numbers = lambda : (i for i in range(0, 10))\n",
    "\n",
    "def normalize_func(get_iter):\n",
    "    total = sum(get_iter())\n",
    "    result = []\n",
    "    for value in get_iter():\n",
    "        percent = 100 * value / total\n",
    "        result.append(percent)\n",
    "    return result"
   ]
  },
  {
   "cell_type": "code",
   "execution_count": 24,
   "metadata": {},
   "outputs": [
    {
     "name": "stdout",
     "output_type": "stream",
     "text": [
      "[0.0, 2.2222222222222223, 4.444444444444445, 6.666666666666667, 8.88888888888889, 11.11111111111111, 13.333333333333334, 15.555555555555555, 17.77777777777778, 20.0]\n"
     ]
    }
   ],
   "source": [
    "percentages = normalize_func(numbers)\n",
    "print(percentages)"
   ]
  },
  {
   "cell_type": "code",
   "execution_count": null,
   "metadata": {},
   "outputs": [],
   "source": [
    "#上面的方法 works, 但是传递匿名函数显得冗余\n",
    "#解决方案2.\n",
    "## 构建自己的迭代器 class"
   ]
  },
  {
   "cell_type": "code",
   "execution_count": null,
   "metadata": {},
   "outputs": [],
   "source": [
    "#关于迭代器 class\n",
    "##需要提供 __iter__方法:\n",
    "### for x in foo 等价于 foo,__iter__\n",
    "### __iter__方法返回一个可迭代对象, 这个可迭代对象有自己的 __next__方法\n",
    "class ReadVisits(object):\n",
    "    def __init__(self, data_path):\n",
    "        self.data_path = data_path\n",
    "    def __iter__(self):\n",
    "        with open(self.data_path) as f:\n",
    "            for line in f:\n",
    "                yield int(line)"
   ]
  },
  {
   "cell_type": "code",
   "execution_count": null,
   "metadata": {},
   "outputs": [],
   "source": [
    "# PS: 你可以让你的normalize函数更加defensive:\n",
    "def normalize_defensive(numbers):\n",
    "    #如果是迭代器对象, 那么 __iter__方法将返回对象本身\n",
    "    #如果是容器对象, iter方法将返回新的可迭代对象\n",
    "    if iter(numbers) is iter(numbers):\n",
    "        raise TypeError('Must supply a container!')\n",
    "    pass"
   ]
  },
  {
   "cell_type": "markdown",
   "metadata": {},
   "source": [
    "### 用 *args来打包函数的参数"
   ]
  },
  {
   "cell_type": "code",
   "execution_count": 25,
   "metadata": {},
   "outputs": [],
   "source": [
    "def log(message, *values):\n",
    "    if not values:\n",
    "        print(message)\n",
    "    else:\n",
    "        values_str = ','.join([str(x) for x in values])\n",
    "        print('%s : %s' % (message, values_str))"
   ]
  },
  {
   "cell_type": "code",
   "execution_count": 26,
   "metadata": {},
   "outputs": [
    {
     "name": "stdout",
     "output_type": "stream",
     "text": [
      "My numbers are : 1,2\n",
      "Hi there\n",
      "Favorite colors : 1,2,3,4,5\n"
     ]
    }
   ],
   "source": [
    "#log函数使用起来很灵活\n",
    "log('My numbers are', 1, 2)\n",
    "log('Hi there')\n",
    "log('Favorite colors', *[1,2,3,4,5])"
   ]
  },
  {
   "cell_type": "code",
   "execution_count": 27,
   "metadata": {},
   "outputs": [],
   "source": [
    "# *args的两个问题:\n",
    "##1. *args 的变量参数在传递进函数之前会被打包成tuple。因此如果你传递了一个生成器, 他会迭代直到终止\n",
    "##2. *args 使用之后你无法在为你函数增加新的位置参数。\n",
    "\n",
    "#下面为log函数1增加新的位置参数 message\n",
    "def log(sequence, message, *values):\n",
    "    if not values:\n",
    "        print('%s : %s' % (sequence, message))\n",
    "    else:\n",
    "        values_str = ','.join([str(x) for x in values])\n",
    "        print('%s : %s : %s' % (sequence, message, values_str))"
   ]
  },
  {
   "cell_type": "code",
   "execution_count": 28,
   "metadata": {},
   "outputs": [
    {
     "name": "stdout",
     "output_type": "stream",
     "text": [
      "1 : Favorite : 7,33\n",
      "Favorite : 7 : 33\n"
     ]
    }
   ],
   "source": [
    "log(1, 'Favorite', 7, 33) #New usage is OK\n",
    "log('Favorite', 7, 33)#But old usage is not OK"
   ]
  },
  {
   "cell_type": "markdown",
   "metadata": {},
   "source": [
    "### 为关键字参数增加默认值"
   ]
  },
  {
   "cell_type": "code",
   "execution_count": 30,
   "metadata": {},
   "outputs": [],
   "source": [
    "#在函数调用时, 位置参数必须放在关键字参数前面。\n",
    "#在函数调用时, 使用关键字参数增加代码的可读性\n",
    "#你可以在函数定义时指定默认值,这会简化你的函数调用。如果你打算用默认值那么可以在调用时忽略他们,\n",
    "#否则使用关键字参数。"
   ]
  },
  {
   "cell_type": "markdown",
   "metadata": {},
   "source": [
    "### 用 None 来赋值\"动态默认参数\""
   ]
  },
  {
   "cell_type": "code",
   "execution_count": null,
   "metadata": {},
   "outputs": [],
   "source": [
    "#默认值只会执行一次,就是在函数定义的时候。因此对于动态的值比如{}和[],\n",
    "#这一行为会引发麻烦"
   ]
  },
  {
   "cell_type": "code",
   "execution_count": 9,
   "metadata": {},
   "outputs": [],
   "source": [
    "#来看下面的例子\n",
    "from datetime import datetime\n",
    "def log(message = 'haha', when = datetime.now()):\n",
    "    print('%s : %s' % (when, message))\n"
   ]
  },
  {
   "cell_type": "code",
   "execution_count": 10,
   "metadata": {},
   "outputs": [
    {
     "name": "stdout",
     "output_type": "stream",
     "text": [
      "2019-03-16 13:43:30.252374 : haha\n"
     ]
    }
   ],
   "source": [
    "log()"
   ]
  },
  {
   "cell_type": "code",
   "execution_count": 11,
   "metadata": {},
   "outputs": [
    {
     "name": "stdout",
     "output_type": "stream",
     "text": [
      "2019-03-16 13:43:30.252374 : haha\n"
     ]
    }
   ],
   "source": [
    "from time import sleep\n",
    "sleep(.5)\n",
    "log()"
   ]
  },
  {
   "cell_type": "code",
   "execution_count": 12,
   "metadata": {},
   "outputs": [
    {
     "name": "stdout",
     "output_type": "stream",
     "text": [
      "2019-03-16 13:43:30.252374 : lol\n"
     ]
    }
   ],
   "source": [
    "log('lol')"
   ]
  },
  {
   "cell_type": "code",
   "execution_count": 13,
   "metadata": {},
   "outputs": [],
   "source": [
    "#上面三次调用中, 时间戳是相通的.\n",
    "#因为when的值, datetime.now 只在函数定义的时候执行一次！！！\n",
    "#解决方案: 用 None\n",
    "def log(message, when = None):\n",
    "    when = datetime.now() if when is None else when\n",
    "    print('%s : %s' % (when, message))"
   ]
  },
  {
   "cell_type": "code",
   "execution_count": 14,
   "metadata": {},
   "outputs": [
    {
     "name": "stdout",
     "output_type": "stream",
     "text": [
      "2019-03-16 14:34:32.428303 : Hi there\n",
      "2019-03-16 14:34:32.931494 : Hi again\n"
     ]
    }
   ],
   "source": [
    "log('Hi there')\n",
    "sleep(.5)\n",
    "log('Hi again')"
   ]
  },
  {
   "cell_type": "code",
   "execution_count": 16,
   "metadata": {},
   "outputs": [],
   "source": [
    "#None 还有一个用处,当参数值是不可变的,你得用None做默认值\n",
    "import json\n",
    "def decode(data, default = {}):\n",
    "    try:\n",
    "        return json.loads(data)\n",
    "    except ValueError:\n",
    "        return default"
   ]
  },
  {
   "cell_type": "code",
   "execution_count": 17,
   "metadata": {},
   "outputs": [],
   "source": [
    "foo = decode('bad data')\n",
    "foo['stuff'] = 5\n",
    "bar = decode('also bad')\n",
    "bar['meep'] = 1"
   ]
  },
  {
   "cell_type": "code",
   "execution_count": 18,
   "metadata": {},
   "outputs": [
    {
     "name": "stdout",
     "output_type": "stream",
     "text": [
      "Foo : {'stuff': 5, 'meep': 1}\n",
      "Bar : {'stuff': 5, 'meep': 1}\n"
     ]
    }
   ],
   "source": [
    "print('Foo :', foo)\n",
    "print('Bar :', bar)"
   ]
  },
  {
   "cell_type": "code",
   "execution_count": 19,
   "metadata": {},
   "outputs": [],
   "source": [
    "#foo 和 bar 是同一个字典！！！！\n",
    "assert foo is bar"
   ]
  },
  {
   "cell_type": "code",
   "execution_count": 20,
   "metadata": {},
   "outputs": [],
   "source": [
    "#因此你得用 None 作为 default的默认值\n",
    "def decode(data, default = None):\n",
    "    try:\n",
    "        return json.loads(data)\n",
    "    except ValueError:\n",
    "        return default"
   ]
  },
  {
   "cell_type": "markdown",
   "metadata": {},
   "source": [
    "### 用强制关键字参数是你的代码更加清晰"
   ]
  },
  {
   "cell_type": "code",
   "execution_count": 21,
   "metadata": {},
   "outputs": [],
   "source": [
    "# * 之后的全部是强制关键字参数\n",
    "def safe_division(number, divisor, *,\n",
    "                  ignore_overflow = False,\n",
    "                  ignore_zero_division = False):\n",
    "    try:\n",
    "        return number / divisor\n",
    "    except OverflowError:\n",
    "        if ignore_overflow:\n",
    "            return 0\n",
    "        else:\n",
    "            raise\n",
    "    except ZeroDivisionError:\n",
    "        if ignore_zero_division:\n",
    "            return float('inf')\n",
    "        else:\n",
    "            raise"
   ]
  },
  {
   "cell_type": "code",
   "execution_count": 22,
   "metadata": {},
   "outputs": [
    {
     "ename": "TypeError",
     "evalue": "safe_division() takes 2 positional arguments but 4 were given",
     "output_type": "error",
     "traceback": [
      "\u001b[0;31m------------------------------------------------------------------\u001b[0m",
      "\u001b[0;31mTypeError\u001b[0m                        Traceback (most recent call last)",
      "\u001b[0;32m<ipython-input-22-92d02eaae09c>\u001b[0m in \u001b[0;36m<module>\u001b[0;34m()\u001b[0m\n\u001b[0;32m----> 1\u001b[0;31m \u001b[0msafe_division\u001b[0m\u001b[0;34m(\u001b[0m\u001b[0;36m1\u001b[0m\u001b[0;34m,\u001b[0m \u001b[0;36m10\u001b[0m\u001b[0;34m,\u001b[0m \u001b[0;32mTrue\u001b[0m\u001b[0;34m,\u001b[0m \u001b[0;32mFalse\u001b[0m\u001b[0;34m)\u001b[0m\u001b[0;34m\u001b[0m\u001b[0;34m\u001b[0m\u001b[0m\n\u001b[0m",
      "\u001b[0;31mTypeError\u001b[0m: safe_division() takes 2 positional arguments but 4 were given"
     ]
    }
   ],
   "source": [
    "#无法通过位置参数赋值\n",
    "safe_division(1, 10, True, False)"
   ]
  },
  {
   "cell_type": "code",
   "execution_count": 23,
   "metadata": {},
   "outputs": [
    {
     "data": {
      "text/plain": [
       "0.1"
      ]
     },
     "execution_count": 23,
     "metadata": {},
     "output_type": "execute_result"
    }
   ],
   "source": [
    "#但是可以使用默认值\n",
    "safe_division(1, 10)"
   ]
  },
  {
   "cell_type": "code",
   "execution_count": null,
   "metadata": {},
   "outputs": [],
   "source": []
  }
 ],
 "metadata": {
  "kernelspec": {
   "display_name": "Python 3",
   "language": "python",
   "name": "python3"
  },
  "language_info": {
   "codemirror_mode": {
    "name": "ipython",
    "version": 3
   },
   "file_extension": ".py",
   "mimetype": "text/x-python",
   "name": "python",
   "nbconvert_exporter": "python",
   "pygments_lexer": "ipython3",
   "version": "3.6.7"
  }
 },
 "nbformat": 4,
 "nbformat_minor": 2
}
