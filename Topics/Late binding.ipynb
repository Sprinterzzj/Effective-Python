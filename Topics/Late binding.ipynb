{
 "cells": [
  {
   "cell_type": "markdown",
   "metadata": {
    "toc": true
   },
   "source": [
    "<h1>Table of Contents<span class=\"tocSkip\"></span></h1>\n",
    "<div class=\"toc\"><ul class=\"toc-item\"><li><span><a href=\"#让我们仔细的看一看\" data-toc-modified-id=\"让我们仔细的看一看-1\"><span class=\"toc-item-num\">1&nbsp;&nbsp;</span>让我们仔细的看一看</a></span></li><li><span><a href=\"#问题出现了!!!!\" data-toc-modified-id=\"问题出现了!!!!-2\"><span class=\"toc-item-num\">2&nbsp;&nbsp;</span>问题出现了!!!!</a></span></li><li><span><a href=\"#为了方便理解,-我们把函数改成\" data-toc-modified-id=\"为了方便理解,-我们把函数改成-3\"><span class=\"toc-item-num\">3&nbsp;&nbsp;</span>为了方便理解, 我们把函数改成</a></span></li><li><span><a href=\"#解决方案\" data-toc-modified-id=\"解决方案-4\"><span class=\"toc-item-num\">4&nbsp;&nbsp;</span>解决方案</a></span></li><li><span><a href=\"#一个小例子\" data-toc-modified-id=\"一个小例子-5\"><span class=\"toc-item-num\">5&nbsp;&nbsp;</span>一个小例子</a></span></li></ul></div>"
   ]
  },
  {
   "cell_type": "code",
   "execution_count": 1,
   "metadata": {
    "ExecuteTime": {
     "end_time": "2019-06-06T11:01:05.840797Z",
     "start_time": "2019-06-06T11:01:05.837917Z"
    }
   },
   "outputs": [],
   "source": [
    "#首先定义如下的闭包函数\n",
    "def mul_func_gen(max):\n",
    "    for i in range(max):\n",
    "        yield lambda x: x*i"
   ]
  },
  {
   "cell_type": "code",
   "execution_count": 6,
   "metadata": {
    "ExecuteTime": {
     "end_time": "2019-06-06T11:04:55.860592Z",
     "start_time": "2019-06-06T11:04:55.857453Z"
    }
   },
   "outputs": [
    {
     "name": "stdout",
     "output_type": "stream",
     "text": [
      "[0, 3, 6]\n"
     ]
    }
   ],
   "source": [
    "mul_func = mul_func_gen(3)\n",
    "\n",
    "#0, 3, 6\n",
    "print([f(3) for f in mul_func])"
   ]
  },
  {
   "cell_type": "code",
   "execution_count": 7,
   "metadata": {
    "ExecuteTime": {
     "end_time": "2019-06-06T11:04:58.830191Z",
     "start_time": "2019-06-06T11:04:58.827150Z"
    }
   },
   "outputs": [
    {
     "name": "stdout",
     "output_type": "stream",
     "text": [
      "[6, 6, 6]\n"
     ]
    }
   ],
   "source": [
    "mul_func = list(mul_func_gen(3))\n",
    "\n",
    "#6, 6, 6\n",
    "print([f(3) for f in mul_func])"
   ]
  },
  {
   "cell_type": "markdown",
   "metadata": {},
   "source": [
    "###### 让我们仔细的看一看"
   ]
  },
  {
   "cell_type": "code",
   "execution_count": 8,
   "metadata": {
    "ExecuteTime": {
     "end_time": "2019-06-06T11:07:10.712959Z",
     "start_time": "2019-06-06T11:07:10.710617Z"
    }
   },
   "outputs": [],
   "source": [
    "mul_func = mul_func_gen(3)"
   ]
  },
  {
   "cell_type": "code",
   "execution_count": 9,
   "metadata": {
    "ExecuteTime": {
     "end_time": "2019-06-06T11:07:16.449174Z",
     "start_time": "2019-06-06T11:07:16.440322Z"
    }
   },
   "outputs": [
    {
     "data": {
      "text/plain": [
       "<generator object mul_func_gen at 0x7fc0485e3f68>"
      ]
     },
     "execution_count": 9,
     "metadata": {},
     "output_type": "execute_result"
    }
   ],
   "source": [
    "mul_func"
   ]
  },
  {
   "cell_type": "code",
   "execution_count": 10,
   "metadata": {
    "ExecuteTime": {
     "end_time": "2019-06-06T11:07:35.312733Z",
     "start_time": "2019-06-06T11:07:35.310289Z"
    }
   },
   "outputs": [],
   "source": [
    "mul_1 = next(mul_func)"
   ]
  },
  {
   "cell_type": "code",
   "execution_count": 11,
   "metadata": {
    "ExecuteTime": {
     "end_time": "2019-06-06T11:07:39.153485Z",
     "start_time": "2019-06-06T11:07:39.150167Z"
    }
   },
   "outputs": [
    {
     "data": {
      "text/plain": [
       "<function __main__.mul_func_gen.<locals>.<lambda>(x)>"
      ]
     },
     "execution_count": 11,
     "metadata": {},
     "output_type": "execute_result"
    }
   ],
   "source": [
    "mul_1"
   ]
  },
  {
   "cell_type": "code",
   "execution_count": 13,
   "metadata": {
    "ExecuteTime": {
     "end_time": "2019-06-06T11:08:25.832319Z",
     "start_time": "2019-06-06T11:08:25.829814Z"
    }
   },
   "outputs": [],
   "source": [
    "cell_1 = mul_1.__closure__[0]"
   ]
  },
  {
   "cell_type": "code",
   "execution_count": 15,
   "metadata": {
    "ExecuteTime": {
     "end_time": "2019-06-06T11:08:33.184352Z",
     "start_time": "2019-06-06T11:08:33.180891Z"
    }
   },
   "outputs": [
    {
     "data": {
      "text/plain": [
       "0"
      ]
     },
     "execution_count": 15,
     "metadata": {},
     "output_type": "execute_result"
    }
   ],
   "source": [
    "cell_1.cell_contents"
   ]
  },
  {
   "cell_type": "code",
   "execution_count": 16,
   "metadata": {
    "ExecuteTime": {
     "end_time": "2019-06-06T11:09:39.256172Z",
     "start_time": "2019-06-06T11:09:39.252610Z"
    }
   },
   "outputs": [
    {
     "data": {
      "text/plain": [
       "1"
      ]
     },
     "execution_count": 16,
     "metadata": {},
     "output_type": "execute_result"
    }
   ],
   "source": [
    "mul_2 = next(mul_func)\n",
    "cell_2 = mul_2.__closure__[0]\n",
    "cell_2.cell_contents"
   ]
  },
  {
   "cell_type": "markdown",
   "metadata": {},
   "source": [
    "###### 问题出现了!!!!"
   ]
  },
  {
   "cell_type": "code",
   "execution_count": 17,
   "metadata": {
    "ExecuteTime": {
     "end_time": "2019-06-06T11:10:39.888093Z",
     "start_time": "2019-06-06T11:10:39.884497Z"
    }
   },
   "outputs": [
    {
     "data": {
      "text/plain": [
       "1"
      ]
     },
     "execution_count": 17,
     "metadata": {},
     "output_type": "execute_result"
    }
   ],
   "source": [
    "#变成了1\n",
    "cell_1.cell_contents"
   ]
  },
  {
   "cell_type": "code",
   "execution_count": 18,
   "metadata": {
    "ExecuteTime": {
     "end_time": "2019-06-06T11:10:57.472059Z",
     "start_time": "2019-06-06T11:10:57.468725Z"
    }
   },
   "outputs": [
    {
     "data": {
      "text/plain": [
       "True"
      ]
     },
     "execution_count": 18,
     "metadata": {},
     "output_type": "execute_result"
    }
   ],
   "source": [
    "#延迟绑定: 调用了 next方法后 cell_1的 content也会跟着变\n",
    "cell_1 is cell_2"
   ]
  },
  {
   "cell_type": "markdown",
   "metadata": {},
   "source": [
    "###### 为了方便理解, 我们把函数改成\n",
    "简单来说，在python里，相对而言的局部变量绑定的是值，非局部变量绑定的是空间， 而不是值本身，所以，for循环生成的i，相对于函数lam来说，是全局变量，所以绑定的是i所在的内存地址，但i最后变成了3，lam绑定的是3。"
   ]
  },
  {
   "cell_type": "code",
   "execution_count": 20,
   "metadata": {
    "ExecuteTime": {
     "end_time": "2019-06-06T11:56:22.057027Z",
     "start_time": "2019-06-06T11:56:22.054135Z"
    }
   },
   "outputs": [],
   "source": [
    "def mul():\n",
    "    res_list = []\n",
    "    for i in range(4):\n",
    "        def lam(x):\n",
    "            return x * i\n",
    "        res_list.append(lam)\n",
    "    return res_list"
   ]
  },
  {
   "cell_type": "code",
   "execution_count": null,
   "metadata": {},
   "outputs": [],
   "source": []
  },
  {
   "cell_type": "markdown",
   "metadata": {},
   "source": [
    "###### 解决方案"
   ]
  },
  {
   "cell_type": "code",
   "execution_count": null,
   "metadata": {},
   "outputs": [],
   "source": [
    "def mul_func_gen(max):\n",
    "    for i in range(max):\n",
    "        #在函数定义的时候赋值参数\n",
    "        yield lambda x, i = i: x * i"
   ]
  },
  {
   "cell_type": "markdown",
   "metadata": {},
   "source": [
    "###### 一个小例子"
   ]
  },
  {
   "cell_type": "code",
   "execution_count": 19,
   "metadata": {
    "ExecuteTime": {
     "end_time": "2019-06-06T11:21:16.798510Z",
     "start_time": "2019-06-06T11:21:16.796230Z"
    }
   },
   "outputs": [],
   "source": [
    "from contextlib import contextmanager\n",
    "from time import perf_counter"
   ]
  },
  {
   "cell_type": "code",
   "execution_count": null,
   "metadata": {},
   "outputs": [],
   "source": [
    "@contextmanager\n",
    "def timing(label):\n",
    "    t0 = perf_counter()\n",
    "    yield lambda : (t1 - t0)\n",
    "    t1 = perf_counter()"
   ]
  }
 ],
 "metadata": {
  "kernelspec": {
   "display_name": "Python 3",
   "language": "python",
   "name": "python3"
  },
  "language_info": {
   "codemirror_mode": {
    "name": "ipython",
    "version": 3
   },
   "file_extension": ".py",
   "mimetype": "text/x-python",
   "name": "python",
   "nbconvert_exporter": "python",
   "pygments_lexer": "ipython3",
   "version": "3.6.7"
  },
  "toc": {
   "base_numbering": 1,
   "nav_menu": {},
   "number_sections": true,
   "sideBar": true,
   "skip_h1_title": true,
   "title_cell": "Table of Contents",
   "title_sidebar": "Contents",
   "toc_cell": true,
   "toc_position": {},
   "toc_section_display": true,
   "toc_window_display": false
  }
 },
 "nbformat": 4,
 "nbformat_minor": 2
}
