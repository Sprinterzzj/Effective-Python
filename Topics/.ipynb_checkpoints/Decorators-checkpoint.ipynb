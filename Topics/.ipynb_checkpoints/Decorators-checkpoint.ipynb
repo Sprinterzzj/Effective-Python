{
 "cells": [
  {
   "cell_type": "markdown",
   "metadata": {
    "toc": true
   },
   "source": [
    "<h1>Table of Contents<span class=\"tocSkip\"></span></h1>\n",
    "<div class=\"toc\"><ul class=\"toc-item\"><li><span><a href=\"#函数对象的属性\" data-toc-modified-id=\"函数对象的属性-1\"><span class=\"toc-item-num\">1&nbsp;&nbsp;</span>函数对象的属性</a></span><ul class=\"toc-item\"><li><ul class=\"toc-item\"><li><ul class=\"toc-item\"><li><span><a href=\"#检查add函数\" data-toc-modified-id=\"检查add函数-1.0.0.1\"><span class=\"toc-item-num\">1.0.0.1&nbsp;&nbsp;</span>检查add函数</a></span></li></ul></li></ul></li></ul></li><li><span><a href=\"#摘自-scipy笔记\" data-toc-modified-id=\"摘自-scipy笔记-2\"><span class=\"toc-item-num\">2&nbsp;&nbsp;</span>摘自 scipy笔记</a></span><ul class=\"toc-item\"><li><span><a href=\"#装饰器函数\" data-toc-modified-id=\"装饰器函数-2.1\"><span class=\"toc-item-num\">2.1&nbsp;&nbsp;</span>装饰器函数</a></span></li><li><span><a href=\"#装饰器类\" data-toc-modified-id=\"装饰器类-2.2\"><span class=\"toc-item-num\">2.2&nbsp;&nbsp;</span>装饰器类</a></span><ul class=\"toc-item\"><li><ul class=\"toc-item\"><li><span><a href=\"#这段代码很重要\" data-toc-modified-id=\"这段代码很重要-2.2.0.1\"><span class=\"toc-item-num\">2.2.0.1&nbsp;&nbsp;</span>这段代码很重要</a></span></li><li><span><a href=\"#copy原始函数的doc和attributes\" data-toc-modified-id=\"copy原始函数的doc和attributes-2.2.0.2\"><span class=\"toc-item-num\">2.2.0.2&nbsp;&nbsp;</span>copy原始函数的doc和attributes</a></span></li></ul></li></ul></li><li><span><a href=\"#使用装饰器的例子\" data-toc-modified-id=\"使用装饰器的例子-2.3\"><span class=\"toc-item-num\">2.3&nbsp;&nbsp;</span>使用装饰器的例子</a></span><ul class=\"toc-item\"><li><ul class=\"toc-item\"><li><span><a href=\"#classmethod\" data-toc-modified-id=\"classmethod-2.3.0.1\"><span class=\"toc-item-num\">2.3.0.1&nbsp;&nbsp;</span>classmethod</a></span></li><li><span><a href=\"#staticmethod\" data-toc-modified-id=\"staticmethod-2.3.0.2\"><span class=\"toc-item-num\">2.3.0.2&nbsp;&nbsp;</span>staticmethod</a></span></li><li><span><a href=\"#property\" data-toc-modified-id=\"property-2.3.0.3\"><span class=\"toc-item-num\">2.3.0.3&nbsp;&nbsp;</span>property</a></span></li><li><span><a href=\"#注意只实现了property的属性是-read-only的\" data-toc-modified-id=\"注意只实现了property的属性是-read-only的-2.3.0.4\"><span class=\"toc-item-num\">2.3.0.4&nbsp;&nbsp;</span>注意只实现了property的属性是 read-only的</a></span></li><li><span><a href=\"#你可以实现setter方法,-让它可以被赋值\" data-toc-modified-id=\"你可以实现setter方法,-让它可以被赋值-2.3.0.5\"><span class=\"toc-item-num\">2.3.0.5&nbsp;&nbsp;</span>你可以实现setter方法, 让它可以被赋值</a></span></li><li><span><a href=\"#deprecation-of-function\" data-toc-modified-id=\"deprecation-of-function-2.3.0.6\"><span class=\"toc-item-num\">2.3.0.6&nbsp;&nbsp;</span>deprecation of function</a></span></li><li><span><a href=\"#WHILE-loop-removing-decorator\" data-toc-modified-id=\"WHILE-loop-removing-decorator-2.3.0.7\"><span class=\"toc-item-num\">2.3.0.7&nbsp;&nbsp;</span>WHILE-loop removing decorator</a></span></li><li><span><a href=\"#plugin-registration-system\" data-toc-modified-id=\"plugin-registration-system-2.3.0.8\"><span class=\"toc-item-num\">2.3.0.8&nbsp;&nbsp;</span>plugin registration system</a></span></li></ul></li></ul></li></ul></li></ul></div>"
   ]
  },
  {
   "cell_type": "markdown",
   "metadata": {},
   "source": [
    "### 函数对象的属性"
   ]
  },
  {
   "cell_type": "code",
   "execution_count": 3,
   "metadata": {},
   "outputs": [],
   "source": [
    "def add(x, y=10):\n",
    "    return x + y"
   ]
  },
  {
   "cell_type": "code",
   "execution_count": 4,
   "metadata": {},
   "outputs": [
    {
     "data": {
      "text/plain": [
       "30"
      ]
     },
     "execution_count": 4,
     "metadata": {},
     "output_type": "execute_result"
    }
   ],
   "source": [
    "add(10, 20)"
   ]
  },
  {
   "cell_type": "markdown",
   "metadata": {},
   "source": [
    "###### 检查add函数"
   ]
  },
  {
   "cell_type": "code",
   "execution_count": 5,
   "metadata": {},
   "outputs": [
    {
     "data": {
      "text/plain": [
       "<function __main__.add(x, y=10)>"
      ]
     },
     "execution_count": 5,
     "metadata": {},
     "output_type": "execute_result"
    }
   ],
   "source": [
    "add"
   ]
  },
  {
   "cell_type": "code",
   "execution_count": 6,
   "metadata": {},
   "outputs": [
    {
     "data": {
      "text/plain": [
       "'add'"
      ]
     },
     "execution_count": 6,
     "metadata": {},
     "output_type": "execute_result"
    }
   ],
   "source": [
    "add.__name__"
   ]
  },
  {
   "cell_type": "code",
   "execution_count": 7,
   "metadata": {},
   "outputs": [
    {
     "data": {
      "text/plain": [
       "'__main__'"
      ]
     },
     "execution_count": 7,
     "metadata": {},
     "output_type": "execute_result"
    }
   ],
   "source": [
    "add.__module__"
   ]
  },
  {
   "cell_type": "code",
   "execution_count": 8,
   "metadata": {},
   "outputs": [
    {
     "data": {
      "text/plain": [
       "(10,)"
      ]
     },
     "execution_count": 8,
     "metadata": {},
     "output_type": "execute_result"
    }
   ],
   "source": [
    "add.__defaults__"
   ]
  },
  {
   "cell_type": "code",
   "execution_count": 9,
   "metadata": {},
   "outputs": [
    {
     "data": {
      "text/plain": [
       "('x', 'y')"
      ]
     },
     "execution_count": 9,
     "metadata": {},
     "output_type": "execute_result"
    }
   ],
   "source": [
    "add.__code__.co_varnames"
   ]
  },
  {
   "cell_type": "code",
   "execution_count": 11,
   "metadata": {},
   "outputs": [
    {
     "name": "stdout",
     "output_type": "stream",
     "text": [
      "def add(x, y=10):\n",
      "    return x + y\n",
      "\n"
     ]
    }
   ],
   "source": [
    "#你甚至可以查看 add的源代码\n",
    "from inspect import getsource\n",
    "print(getsource(add))"
   ]
  },
  {
   "cell_type": "code",
   "execution_count": 12,
   "metadata": {},
   "outputs": [],
   "source": [
    "#add函数执行加法运算。\n",
    "#现在你需要在add函数中执行“额外的功能”，比如timing"
   ]
  },
  {
   "cell_type": "code",
   "execution_count": 13,
   "metadata": {},
   "outputs": [],
   "source": [
    "from time import time\n",
    "def add(x, y=10):\n",
    "    before = time()\n",
    "    rv = x + y\n",
    "    after = time()\n",
    "    print('Time taken: ', after - before)\n",
    "    return rv"
   ]
  },
  {
   "cell_type": "code",
   "execution_count": 15,
   "metadata": {},
   "outputs": [
    {
     "name": "stdout",
     "output_type": "stream",
     "text": [
      "Time taken:  2.384185791015625e-07\n",
      "add(10): 20\n"
     ]
    }
   ],
   "source": [
    "print('add(10):', add(10))"
   ]
  },
  {
   "cell_type": "code",
   "execution_count": 17,
   "metadata": {},
   "outputs": [],
   "source": [
    "#但是上面的办法不具有普遍性: 如果你有其他的执行二元运算的函数也想timing，\n",
    "#你需要一个一个改写他们！！！\n",
    "#一个进阶的办法是用warp函数"
   ]
  },
  {
   "cell_type": "code",
   "execution_count": 18,
   "metadata": {},
   "outputs": [],
   "source": [
    "def timer(func):\n",
    "    def f(x, y=10):\n",
    "        before = time()\n",
    "        rv = func(x, y)\n",
    "        after = time()\n",
    "        print('Time Taken: ', after - before)\n",
    "        return rv\n",
    "    return f"
   ]
  },
  {
   "cell_type": "code",
   "execution_count": 20,
   "metadata": {},
   "outputs": [
    {
     "name": "stdout",
     "output_type": "stream",
     "text": [
      "Time Taken:  7.152557373046875e-07\n"
     ]
    },
    {
     "data": {
      "text/plain": [
       "8"
      ]
     },
     "execution_count": 20,
     "metadata": {},
     "output_type": "execute_result"
    }
   ],
   "source": [
    "def add(x, y=10):\n",
    "    return x + y\n",
    "add = timer(add)\n",
    "add(3, 5)"
   ]
  },
  {
   "cell_type": "code",
   "execution_count": 21,
   "metadata": {},
   "outputs": [],
   "source": [
    "#Decorator 简化了上面的写法"
   ]
  },
  {
   "cell_type": "code",
   "execution_count": 22,
   "metadata": {},
   "outputs": [],
   "source": [
    "@timer\n",
    "def add(x, y=10):\n",
    "    return x + y"
   ]
  },
  {
   "cell_type": "code",
   "execution_count": 24,
   "metadata": {},
   "outputs": [
    {
     "name": "stdout",
     "output_type": "stream",
     "text": [
      "Time Taken:  9.5367431640625e-07\n"
     ]
    },
    {
     "data": {
      "text/plain": [
       "8"
      ]
     },
     "execution_count": 24,
     "metadata": {},
     "output_type": "execute_result"
    }
   ],
   "source": [
    "add(3, 5)"
   ]
  },
  {
   "cell_type": "code",
   "execution_count": 25,
   "metadata": {},
   "outputs": [],
   "source": [
    "#一般情况下 decorator用来在函数调用之前和之后执行一些额外的操作"
   ]
  },
  {
   "cell_type": "code",
   "execution_count": 26,
   "metadata": {},
   "outputs": [],
   "source": [
    "def time(func):\n",
    "    def f(*args, **kwargs):\n",
    "        before = time()\n",
    "        rv = func(*args, **kwargs)\n",
    "        after = time()\n",
    "        print('Time taken: ', after - before)\n",
    "        return rv\n",
    "    return f"
   ]
  },
  {
   "cell_type": "code",
   "execution_count": 27,
   "metadata": {},
   "outputs": [],
   "source": [
    "#当然你也可以搞更高阶的decorator 但通常情况没有必要"
   ]
  },
  {
   "cell_type": "code",
   "execution_count": 28,
   "metadata": {},
   "outputs": [],
   "source": [
    "def ntimes(n):\n",
    "    def inner(f):\n",
    "        def wrapper(*args, **kwargs):\n",
    "            for _ in range(n):\n",
    "                rv = f(*args, **kwargs)\n",
    "            return rv\n",
    "        return wrapper\n",
    "    return inner"
   ]
  },
  {
   "cell_type": "markdown",
   "metadata": {},
   "source": [
    "### 摘自 scipy笔记"
   ]
  },
  {
   "cell_type": "markdown",
   "metadata": {},
   "source": [
    "#### 装饰器函数"
   ]
  },
  {
   "cell_type": "code",
   "execution_count": 40,
   "metadata": {},
   "outputs": [
    {
     "name": "stdout",
     "output_type": "stream",
     "text": [
      "Doing decoration\n"
     ]
    }
   ],
   "source": [
    "#简单装饰器, 返回原来的函数\n",
    "def simple_decorator(func):\n",
    "    print('Doing decoration')\n",
    "    return func\n",
    "\n",
    "#装饰器在定义函数的时候就\n",
    "#已经执行了, 因此可以被用来\n",
    "#在内部函数执行前后做一些\n",
    "#额外的工作\n",
    "@simple_decorator\n",
    "def func():\n",
    "    print('Inside function.')"
   ]
  },
  {
   "cell_type": "code",
   "execution_count": 41,
   "metadata": {},
   "outputs": [
    {
     "name": "stdout",
     "output_type": "stream",
     "text": [
      "Inside function.\n"
     ]
    }
   ],
   "source": [
    "func()"
   ]
  },
  {
   "cell_type": "code",
   "execution_count": 44,
   "metadata": {},
   "outputs": [],
   "source": [
    "#带参数的装饰器, 返回原来的函数\n",
    "def decorator_with_args(arg):\n",
    "    print('defining the decorator.')\n",
    "    def _decorator(func):\n",
    "        #内部函数中 args仍然可见\n",
    "        print('doing decoration, %r' % arg)\n",
    "        return func\n",
    "    return _decorator"
   ]
  },
  {
   "cell_type": "code",
   "execution_count": 45,
   "metadata": {},
   "outputs": [
    {
     "name": "stdout",
     "output_type": "stream",
     "text": [
      "defining the decorator.\n",
      "doing decoration, 'abc'\n"
     ]
    }
   ],
   "source": [
    "@decorator_with_args('abc')\n",
    "def func():\n",
    "    print('Inside function.')"
   ]
  },
  {
   "cell_type": "code",
   "execution_count": 47,
   "metadata": {},
   "outputs": [],
   "source": [
    "#简单装饰器, 返回新的函数 _wrapper\n",
    "def simple_decorator(func):\n",
    "    print('Defining the decorator.')\n",
    "    def _wrapper(*args, **kwargs):\n",
    "        print(\"Inside wrapper, %r %r\" % (args, kwargs))\n",
    "        return func(*args, **kwargs)\n",
    "    return _wrapper        "
   ]
  },
  {
   "cell_type": "code",
   "execution_count": 50,
   "metadata": {},
   "outputs": [
    {
     "name": "stdout",
     "output_type": "stream",
     "text": [
      "Defining the decorator.\n"
     ]
    }
   ],
   "source": [
    "@simple_decorator\n",
    "def func(*args, **kwargs):\n",
    "    print('Inside function, %r %r' % (args, kwargs))\n",
    "    return 14"
   ]
  },
  {
   "cell_type": "code",
   "execution_count": 51,
   "metadata": {},
   "outputs": [
    {
     "name": "stdout",
     "output_type": "stream",
     "text": [
      "Inside wrapper, (1, 2) {'a': 3}\n",
      "Inside function, (1, 2) {'a': 3}\n"
     ]
    },
    {
     "data": {
      "text/plain": [
       "14"
      ]
     },
     "execution_count": 51,
     "metadata": {},
     "output_type": "execute_result"
    }
   ],
   "source": [
    "func(1,2, a = 3)"
   ]
  },
  {
   "cell_type": "code",
   "execution_count": 58,
   "metadata": {},
   "outputs": [],
   "source": [
    "#带参数的装饰器, 返回新的函数 _wrapper\n",
    "def decorator_with_args(arg):\n",
    "    print('Defining the decorator.')\n",
    "    def _decorator(func):\n",
    "        print(\"Doing decoration, %r\" % arg)\n",
    "        def _wrapper(*args, **kwargs):\n",
    "            print(\"Inside wrapper, %r %r\" % (args, kwargs))\n",
    "            return func(*args, **kwargs)\n",
    "        print(\"Finish decoration, %r\" % arg)\n",
    "        return _wrapper\n",
    "    print('Finish the decorator.')\n",
    "    return _decorator"
   ]
  },
  {
   "cell_type": "code",
   "execution_count": 59,
   "metadata": {},
   "outputs": [
    {
     "name": "stdout",
     "output_type": "stream",
     "text": [
      "Defining the decorator.\n",
      "Finish the decorator.\n",
      "Doing decoration, 'abc'\n",
      "Finish decoration, 'abc'\n"
     ]
    }
   ],
   "source": [
    "@decorator_with_args('abc')\n",
    "def func(*args, **kwargs):\n",
    "    print('Inside function, %r %r' % (args, kwargs))\n",
    "    return 14"
   ]
  },
  {
   "cell_type": "code",
   "execution_count": 60,
   "metadata": {},
   "outputs": [
    {
     "name": "stdout",
     "output_type": "stream",
     "text": [
      "Inside wrapper, (11, 12) {'a': 3}\n",
      "Inside function, (11, 12) {'a': 3}\n"
     ]
    },
    {
     "data": {
      "text/plain": [
       "14"
      ]
     },
     "execution_count": 60,
     "metadata": {},
     "output_type": "execute_result"
    }
   ],
   "source": [
    "func(11, 12, a = 3)"
   ]
  },
  {
   "cell_type": "markdown",
   "metadata": {},
   "source": [
    "#### 装饰器类"
   ]
  },
  {
   "cell_type": "code",
   "execution_count": 70,
   "metadata": {},
   "outputs": [],
   "source": [
    "#返回原始函数的装饰器类\n",
    "class decorator_class(object):\n",
    "    def __init__(self, arg):\n",
    "        print(\"In decorator init, %s\"% arg)\n",
    "        self.arg = arg\n",
    "    def __call__(self, func):\n",
    "        print('In decorator call, %s' % self.arg)\n",
    "        return func"
   ]
  },
  {
   "cell_type": "code",
   "execution_count": 67,
   "metadata": {},
   "outputs": [
    {
     "name": "stdout",
     "output_type": "stream",
     "text": [
      "In decorator init, foo\n"
     ]
    }
   ],
   "source": [
    "deco_instance = decorator_class(arg = 'foo')"
   ]
  },
  {
   "cell_type": "code",
   "execution_count": 68,
   "metadata": {},
   "outputs": [
    {
     "name": "stdout",
     "output_type": "stream",
     "text": [
      "In decorator call, foo\n"
     ]
    }
   ],
   "source": [
    "@deco_instance\n",
    "def function(*args, **kwargs):\n",
    "    print('In function, %s %s' % (args, kwargs))"
   ]
  },
  {
   "cell_type": "code",
   "execution_count": 69,
   "metadata": {},
   "outputs": [
    {
     "name": "stdout",
     "output_type": "stream",
     "text": [
      "In function, () {}\n"
     ]
    }
   ],
   "source": [
    "function()"
   ]
  },
  {
   "cell_type": "markdown",
   "metadata": {},
   "source": [
    "###### 这段代码很重要"
   ]
  },
  {
   "cell_type": "code",
   "execution_count": 72,
   "metadata": {},
   "outputs": [],
   "source": [
    "#返回新的object的装饰器类\n",
    "class replacing_decorator_class(object):\n",
    "    def __init__(self, arg):\n",
    "        print('In decorator init, %s' % arg)\n",
    "        self.arg = arg\n",
    "    def __call__(self, func):\n",
    "        print('In decorator call, %s' % self.arg)\n",
    "        self.func = func\n",
    "        return self._wrapper\n",
    "    def _wrapper(self, *args, **kwargs):\n",
    "        print('In the wrapper, %s %s' % (args, kwargs))\n",
    "        return self.func(*args, **kwargs)"
   ]
  },
  {
   "cell_type": "code",
   "execution_count": 74,
   "metadata": {},
   "outputs": [
    {
     "name": "stdout",
     "output_type": "stream",
     "text": [
      "In decorator init, foo\n"
     ]
    }
   ],
   "source": [
    "#初始化函数在类的实例化时运行\n",
    "deco_instance = replacing_decorator_class(arg = 'foo')"
   ]
  },
  {
   "cell_type": "code",
   "execution_count": 76,
   "metadata": {},
   "outputs": [
    {
     "name": "stdout",
     "output_type": "stream",
     "text": [
      "In decorator call, foo\n"
     ]
    }
   ],
   "source": [
    "#__call__函数在装饰器装配时运行,\n",
    "#同时初始化func成员\n",
    "#然后返回wrapper, 一个新的对象。\n",
    "@deco_instance\n",
    "def func(*args, **kwargs):\n",
    "    print('In function, %s %s' % (args, kwargs))"
   ]
  },
  {
   "cell_type": "code",
   "execution_count": 78,
   "metadata": {},
   "outputs": [
    {
     "name": "stdout",
     "output_type": "stream",
     "text": [
      "In the wrapper, (0, 1) {'a': 3}\n",
      "In function, (0, 1) {'a': 3}\n"
     ]
    }
   ],
   "source": [
    "#在wrapper方法中运行func\n",
    "func(0,1, a = 3)"
   ]
  },
  {
   "cell_type": "markdown",
   "metadata": {},
   "source": [
    "###### copy原始函数的doc和attributes"
   ]
  },
  {
   "cell_type": "code",
   "execution_count": 13,
   "metadata": {
    "ExecuteTime": {
     "end_time": "2019-04-11T01:07:06.436254Z",
     "start_time": "2019-04-11T01:07:06.434205Z"
    }
   },
   "outputs": [],
   "source": [
    "#注意上面的 replacing_decorator_class会返回 _wrapper成员.\n",
    "#这么做的一个弊端是, 原始函数 func的名字, doc, 参数列表全部丢失。\n",
    "##解决方案: functools.update_wrapper或 functools.wraps"
   ]
  },
  {
   "cell_type": "code",
   "execution_count": 18,
   "metadata": {
    "ExecuteTime": {
     "end_time": "2019-04-11T01:11:19.771645Z",
     "start_time": "2019-04-11T01:11:19.766291Z"
    }
   },
   "outputs": [
    {
     "name": "stdout",
     "output_type": "stream",
     "text": [
      "defining the decorator\n",
      "doing decoration, 'abc'\n"
     ]
    }
   ],
   "source": [
    "from functools import update_wrapper, wraps\n",
    "#functools.update_wrapper\n",
    "def replacing_decorator_with_args(arg):\n",
    "    print('defining the decorator')\n",
    "    def _decorator(function):\n",
    "        print('doing decoration, %r' % arg)\n",
    "        def _wrapper(*args, **kwargs):\n",
    "            print('inside wrapper, %r %r' % (args, kwargs))\n",
    "            return function(*args, **kwargs)\n",
    "        return update_wrapper(_wrapper, function)\n",
    "    return  _decorator\n",
    "\n",
    "@replacing_decorator_with_args('abc')\n",
    "def function(a = 13):\n",
    "    \"\"\"\n",
    "    extensive documentation\n",
    "    \"\"\"\n",
    "    print('inside function')\n",
    "    return 14"
   ]
  },
  {
   "cell_type": "code",
   "execution_count": 19,
   "metadata": {
    "ExecuteTime": {
     "end_time": "2019-04-11T01:11:21.903239Z",
     "start_time": "2019-04-11T01:11:21.900118Z"
    }
   },
   "outputs": [
    {
     "name": "stdout",
     "output_type": "stream",
     "text": [
      "\n",
      "    extensive documentation\n",
      "    \n"
     ]
    }
   ],
   "source": [
    "print(function.__doc__)"
   ]
  },
  {
   "cell_type": "code",
   "execution_count": 20,
   "metadata": {
    "ExecuteTime": {
     "end_time": "2019-04-11T01:11:43.082326Z",
     "start_time": "2019-04-11T01:11:43.078676Z"
    }
   },
   "outputs": [
    {
     "data": {
      "text/plain": [
       "('args', 'kwargs')"
      ]
     },
     "execution_count": 20,
     "metadata": {},
     "output_type": "execute_result"
    }
   ],
   "source": [
    "#但是参数列表依然无法copy\n",
    "function.__code__.co_varnames"
   ]
  },
  {
   "cell_type": "code",
   "execution_count": 15,
   "metadata": {
    "ExecuteTime": {
     "end_time": "2019-04-11T01:11:04.538187Z",
     "start_time": "2019-04-11T01:11:04.533437Z"
    }
   },
   "outputs": [
    {
     "name": "stdout",
     "output_type": "stream",
     "text": [
      "defining the decorator\n",
      "doing decoration, 'abc'\n"
     ]
    }
   ],
   "source": [
    "#functools.wraps\n",
    "def replacing_decorator_with_args(arg):\n",
    "    print('defining the decorator')\n",
    "    def _decorator(function):\n",
    "        print('doing decoration, %r' % arg)\n",
    "        @wraps(function)\n",
    "        def _wrapper(*args, **kwargs):\n",
    "            print('inside wrapper, %r %r' % (args, kwargs))\n",
    "            return function(*args, **kwargs)\n",
    "        return _wrapper\n",
    "    return  _decorator\n",
    "\n",
    "@replacing_decorator_with_args('abc')\n",
    "def function(a = 13):\n",
    "    \"\"\"\n",
    "    extensive documentation\n",
    "    \"\"\"\n",
    "    print('inside function')\n",
    "    return 14"
   ]
  },
  {
   "cell_type": "code",
   "execution_count": 16,
   "metadata": {
    "ExecuteTime": {
     "end_time": "2019-04-11T01:11:05.335184Z",
     "start_time": "2019-04-11T01:11:05.332279Z"
    }
   },
   "outputs": [
    {
     "name": "stdout",
     "output_type": "stream",
     "text": [
      "\n",
      "    extensive documentation\n",
      "    \n"
     ]
    }
   ],
   "source": [
    "print(function.__doc__)"
   ]
  },
  {
   "cell_type": "code",
   "execution_count": 21,
   "metadata": {
    "ExecuteTime": {
     "end_time": "2019-04-11T01:12:28.025922Z",
     "start_time": "2019-04-11T01:12:28.022433Z"
    }
   },
   "outputs": [
    {
     "data": {
      "text/plain": [
       "('args', 'kwargs')"
      ]
     },
     "execution_count": 21,
     "metadata": {},
     "output_type": "execute_result"
    }
   ],
   "source": [
    "#同上, 参数列表无法被copy\n",
    "function.__code__.co_varnames"
   ]
  },
  {
   "cell_type": "markdown",
   "metadata": {},
   "source": [
    "#### 使用装饰器的例子"
   ]
  },
  {
   "cell_type": "markdown",
   "metadata": {},
   "source": [
    "###### classmethod"
   ]
  },
  {
   "cell_type": "code",
   "execution_count": 22,
   "metadata": {
    "ExecuteTime": {
     "end_time": "2019-04-11T01:16:05.718880Z",
     "start_time": "2019-04-11T01:16:05.596639Z"
    }
   },
   "outputs": [],
   "source": [
    "import numpy as np\n",
    "class Array(object):\n",
    "    def __init__(self, data):\n",
    "        self.data = data\n",
    "    #使用classmethod创建类的实例\n",
    "    @classmethod\n",
    "    def fromfile(cls, file):\n",
    "        data = np.load(file)\n",
    "        return cls(data)"
   ]
  },
  {
   "cell_type": "markdown",
   "metadata": {},
   "source": [
    "###### staticmethod"
   ]
  },
  {
   "cell_type": "code",
   "execution_count": 23,
   "metadata": {
    "ExecuteTime": {
     "end_time": "2019-04-11T01:20:54.328139Z",
     "start_time": "2019-04-11T01:20:54.325735Z"
    }
   },
   "outputs": [],
   "source": [
    "#在开发中，我们常常需要定义一些方法，这些方法跟类有关，但在实现时并不需要引用类或者实例，\n",
    "#例如，设置环境变量，修改另一个类的变量，等。这个时候，我们可以使用静态方法。 "
   ]
  },
  {
   "cell_type": "markdown",
   "metadata": {},
   "source": [
    "###### property"
   ]
  },
  {
   "cell_type": "markdown",
   "metadata": {},
   "source": [
    "###### 注意只实现了property的属性是 read-only的"
   ]
  },
  {
   "cell_type": "code",
   "execution_count": 24,
   "metadata": {
    "ExecuteTime": {
     "end_time": "2019-04-11T01:22:15.658502Z",
     "start_time": "2019-04-11T01:22:15.655688Z"
    }
   },
   "outputs": [],
   "source": [
    "class A(object):\n",
    "    @property\n",
    "    def a(self):\n",
    "        'an important attribute'\n",
    "        return 'a value'"
   ]
  },
  {
   "cell_type": "code",
   "execution_count": 25,
   "metadata": {
    "ExecuteTime": {
     "end_time": "2019-04-11T01:22:20.228424Z",
     "start_time": "2019-04-11T01:22:20.224700Z"
    }
   },
   "outputs": [
    {
     "data": {
      "text/plain": [
       "<property at 0x10a4e5d18>"
      ]
     },
     "execution_count": 25,
     "metadata": {},
     "output_type": "execute_result"
    }
   ],
   "source": [
    "A.a"
   ]
  },
  {
   "cell_type": "code",
   "execution_count": 26,
   "metadata": {
    "ExecuteTime": {
     "end_time": "2019-04-11T01:22:26.536619Z",
     "start_time": "2019-04-11T01:22:26.532808Z"
    }
   },
   "outputs": [
    {
     "data": {
      "text/plain": [
       "'a value'"
      ]
     },
     "execution_count": 26,
     "metadata": {},
     "output_type": "execute_result"
    }
   ],
   "source": [
    "A().a"
   ]
  },
  {
   "cell_type": "markdown",
   "metadata": {},
   "source": [
    "###### 你可以实现setter方法, 让它可以被赋值"
   ]
  },
  {
   "cell_type": "code",
   "execution_count": 28,
   "metadata": {
    "ExecuteTime": {
     "end_time": "2019-04-11T01:26:39.100202Z",
     "start_time": "2019-04-11T01:26:39.096304Z"
    }
   },
   "outputs": [],
   "source": [
    "class Rectangle(object):\n",
    "    def __init__(self, edge):\n",
    "        self.edge = edge\n",
    "    @property\n",
    "    def area(self):\n",
    "        return self.edge **2\n",
    "    @area.setter\n",
    "    def area(self, area):\n",
    "        self.edge = area ** .5"
   ]
  },
  {
   "cell_type": "markdown",
   "metadata": {},
   "source": [
    "###### deprecation of function"
   ]
  },
  {
   "cell_type": "code",
   "execution_count": 29,
   "metadata": {
    "ExecuteTime": {
     "end_time": "2019-04-11T01:45:00.083336Z",
     "start_time": "2019-04-11T01:45:00.079383Z"
    }
   },
   "outputs": [],
   "source": [
    "#我们要在某个函数第一次调用时打出 deprecation警告\n",
    "class deprecated(object):\n",
    "    def __call__(self, func):\n",
    "        self.func = func\n",
    "        self.count = 0\n",
    "        return self._wrapper\n",
    "    def _wrapper(self, *args, **kwrags):\n",
    "        self.count += 1\n",
    "        if self.count == 1:\n",
    "            print(self.func.__name__, 'is deprecated')\n",
    "        return self.func(*args, **kwargs)    "
   ]
  },
  {
   "cell_type": "code",
   "execution_count": 30,
   "metadata": {
    "ExecuteTime": {
     "end_time": "2019-04-11T01:48:49.139714Z",
     "start_time": "2019-04-11T01:48:49.135618Z"
    }
   },
   "outputs": [],
   "source": [
    "#你也可以用装饰器函数\n",
    "def deprecated(func):\n",
    "    count = [0]\n",
    "    def wrapper(*args, **kwargs):\n",
    "        count[0] += 1\n",
    "        if count[0] == 1:\n",
    "            print(func.__name__, 'is deprecated')\n",
    "        return func(*args, **kwargs)\n",
    "    return wrapper"
   ]
  },
  {
   "cell_type": "markdown",
   "metadata": {},
   "source": [
    "######  WHILE-loop removing decorator"
   ]
  },
  {
   "cell_type": "code",
   "execution_count": 31,
   "metadata": {
    "ExecuteTime": {
     "end_time": "2019-04-11T01:59:48.601590Z",
     "start_time": "2019-04-11T01:59:48.598187Z"
    }
   },
   "outputs": [],
   "source": [
    "#当然你也可以直接用 yield, 但是某些情况下 list()会比较丑\n",
    "def vectorized(gen_func):\n",
    "    def wrapper(*args, **kwargs):\n",
    "        return list(gen_func(*args, **kwargs))\n",
    "    return update_wrapper(wrapper, gen_func)"
   ]
  },
  {
   "cell_type": "code",
   "execution_count": 32,
   "metadata": {
    "ExecuteTime": {
     "end_time": "2019-04-11T02:00:18.845165Z",
     "start_time": "2019-04-11T02:00:18.842140Z"
    }
   },
   "outputs": [],
   "source": [
    "@vectorized\n",
    "def find_answers():\n",
    "    while True:\n",
    "        ans = look_for_next_answer()\n",
    "        if ans is None:\n",
    "            break\n",
    "        yield ans"
   ]
  },
  {
   "cell_type": "markdown",
   "metadata": {},
   "source": [
    "###### plugin registration system"
   ]
  },
  {
   "cell_type": "code",
   "execution_count": 36,
   "metadata": {
    "ExecuteTime": {
     "end_time": "2019-04-11T02:13:22.561930Z",
     "start_time": "2019-04-11T02:13:22.558244Z"
    }
   },
   "outputs": [],
   "source": [
    "#WordProcessor装饰器类不会更改他装饰的类, 而是把他加到PLUGINS中去\n",
    "class WordProcessor(object):\n",
    "    PLUGINS = []\n",
    "    #process方法实例化PLUGINS中的类,然后执行他们\n",
    "    def process(self, text):\n",
    "        for plugin in self.PLUGINS:\n",
    "            text = plugin().cleanup(text)\n",
    "        return text\n",
    "    @classmethod\n",
    "    def plugin(cls, plugin):\n",
    "        cls.PLUGINS.append(plugin)"
   ]
  },
  {
   "cell_type": "code",
   "execution_count": 37,
   "metadata": {
    "ExecuteTime": {
     "end_time": "2019-04-11T02:13:23.264041Z",
     "start_time": "2019-04-11T02:13:23.261120Z"
    }
   },
   "outputs": [],
   "source": [
    "@WordProcessor.plugin\n",
    "class CleanMdashesExtension(object):\n",
    "    def cleanup(self, text):\n",
    "        return text.replace('&mdash', u'\\N{em dash}')"
   ]
  },
  {
   "cell_type": "code",
   "execution_count": 38,
   "metadata": {
    "ExecuteTime": {
     "end_time": "2019-04-11T02:13:23.665145Z",
     "start_time": "2019-04-11T02:13:23.662061Z"
    }
   },
   "outputs": [
    {
     "data": {
      "text/plain": [
       "[__main__.CleanMdashesExtension]"
      ]
     },
     "execution_count": 38,
     "metadata": {},
     "output_type": "execute_result"
    }
   ],
   "source": [
    "WordProcessor.PLUGINS"
   ]
  }
 ],
 "metadata": {
  "kernelspec": {
   "display_name": "Python 3",
   "language": "python",
   "name": "python3"
  },
  "language_info": {
   "codemirror_mode": {
    "name": "ipython",
    "version": 3
   },
   "file_extension": ".py",
   "mimetype": "text/x-python",
   "name": "python",
   "nbconvert_exporter": "python",
   "pygments_lexer": "ipython3",
   "version": "3.6.7"
  },
  "toc": {
   "base_numbering": 1,
   "nav_menu": {},
   "number_sections": true,
   "sideBar": true,
   "skip_h1_title": true,
   "title_cell": "Table of Contents",
   "title_sidebar": "Contents",
   "toc_cell": true,
   "toc_position": {},
   "toc_section_display": true,
   "toc_window_display": true
  }
 },
 "nbformat": 4,
 "nbformat_minor": 2
}
