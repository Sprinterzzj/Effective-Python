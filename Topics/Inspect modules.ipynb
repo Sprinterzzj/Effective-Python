{
 "cells": [
  {
   "cell_type": "code",
   "execution_count": 21,
   "metadata": {
    "ExecuteTime": {
     "end_time": "2019-04-17T02:03:52.562911Z",
     "start_time": "2019-04-17T02:03:52.558942Z"
    }
   },
   "outputs": [],
   "source": [
    "def foo():\n",
    "    x = 3\n",
    "    return x + 1\n",
    "class Cat(object):\n",
    "    \"\"\"\n",
    "    喵喵喵\n",
    "    \"\"\"\n",
    "    def __init__(self, name = 'kitty'):\n",
    "        self.name = name\n",
    "    def Miao(self):\n",
    "        print(self.name + ' : MiaoMiao\\n')\n",
    "cat = Cat()"
   ]
  },
  {
   "cell_type": "markdown",
   "metadata": {},
   "source": [
    "<table border=\"1\"><thead><tr><th>Type</th>\n",
    "\t\t\t<th>Attribute</th>\n",
    "\t\t\t<th>Description</th>\n",
    "\t\t\t<th>Notes</th>\n",
    "\t\t</tr></thead><tbody><tr><td>module</td>\n",
    "\t\t\t<td>__doc__</td>\n",
    "\t\t\t<td>documentation string</td>\n",
    "\t\t\t<td> </td>\n",
    "\t\t</tr><tr><td> </td>\n",
    "\t\t\t<td>__file__</td>\n",
    "\t\t\t<td>filename (missing for built-in modules)</td>\n",
    "\t\t\t<td> </td>\n",
    "\t\t</tr><tr><td>class</td>\n",
    "\t\t\t<td>__doc__</td>\n",
    "\t\t\t<td>documentation string</td>\n",
    "\t\t\t<td> </td>\n",
    "\t\t</tr><tr><td> </td>\n",
    "\t\t\t<td>__module__</td>\n",
    "\t\t\t<td>name of module in which this class was defined</td>\n",
    "\t\t\t<td> </td>\n",
    "\t\t</tr><tr><td>method</td>\n",
    "\t\t\t<td>__doc__</td>\n",
    "\t\t\t<td>documentation string</td>\n",
    "\t\t\t<td> </td>\n",
    "\t\t</tr><tr><td> </td>\n",
    "\t\t\t<td>__name__</td>\n",
    "\t\t\t<td>name with which this method was defined</td>\n",
    "\t\t\t<td> </td>\n",
    "\t\t</tr><tr><td> </td>\n",
    "\t\t\t<td>im_class</td>\n",
    "\t\t\t<td>class object that asked for this method</td>\n",
    "\t\t\t<td>(1)</td>\n",
    "\t\t</tr><tr><td> </td>\n",
    "\t\t\t<td>im_func or __func__</td>\n",
    "\t\t\t<td>function object containing implementation of method</td>\n",
    "\t\t\t<td> </td>\n",
    "\t\t</tr><tr><td> </td>\n",
    "\t\t\t<td>im_self or __self__</td>\n",
    "\t\t\t<td>instance to which this method is bound, or None</td>\n",
    "\t\t\t<td> </td>\n",
    "\t\t</tr><tr><td>function</td>\n",
    "\t\t\t<td>__doc__</td>\n",
    "\t\t\t<td>documentation string</td>\n",
    "\t\t\t<td> </td>\n",
    "\t\t</tr><tr><td> </td>\n",
    "\t\t\t<td>__name__</td>\n",
    "\t\t\t<td>name with which this function was defined</td>\n",
    "\t\t\t<td> </td>\n",
    "\t\t</tr><tr><td> </td>\n",
    "\t\t\t<td>func_code</td>\n",
    "\t\t\t<td>code object containing compiled function <a href=\"https://docs.python.org/release/2.7.2/glossary.html#term-bytecode\" rel=\"nofollow\">bytecode</a></td>\n",
    "\t\t\t<td> </td>\n",
    "\t\t</tr><tr><td> </td>\n",
    "\t\t\t<td>func_defaults</td>\n",
    "\t\t\t<td>tuple of any default values for arguments</td>\n",
    "\t\t\t<td> </td>\n",
    "\t\t</tr><tr><td> </td>\n",
    "\t\t\t<td>func_doc</td>\n",
    "\t\t\t<td>(same as __doc__)</td>\n",
    "\t\t\t<td> </td>\n",
    "\t\t</tr><tr><td> </td>\n",
    "\t\t\t<td>func_globals</td>\n",
    "\t\t\t<td>global namespace in which this function was defined</td>\n",
    "\t\t\t<td> </td>\n",
    "\t\t</tr><tr><td> </td>\n",
    "\t\t\t<td>func_name</td>\n",
    "\t\t\t<td>(same as __name__)</td>\n",
    "\t\t\t<td> </td>\n",
    "\t\t</tr><tr><td>generator</td>\n",
    "\t\t\t<td>__iter__</td>\n",
    "\t\t\t<td>defined to support iteration over container</td>\n",
    "\t\t\t<td> </td>\n",
    "\t\t</tr><tr><td> </td>\n",
    "\t\t\t<td>close</td>\n",
    "\t\t\t<td>raises new GeneratorExit exception inside the generator to terminate the iteration</td>\n",
    "\t\t\t<td> </td>\n",
    "\t\t</tr><tr><td> </td>\n",
    "\t\t\t<td>gi_code</td>\n",
    "\t\t\t<td>code object</td>\n",
    "\t\t\t<td> </td>\n",
    "\t\t</tr><tr><td> </td>\n",
    "\t\t\t<td>gi_frame</td>\n",
    "\t\t\t<td>frame object or possibly None once the generator has been exhausted</td>\n",
    "\t\t\t<td> </td>\n",
    "\t\t</tr><tr><td> </td>\n",
    "\t\t\t<td>gi_running</td>\n",
    "\t\t\t<td>set to 1 when generator is executing, 0 otherwise</td>\n",
    "\t\t\t<td> </td>\n",
    "\t\t</tr><tr><td> </td>\n",
    "\t\t\t<td>next</td>\n",
    "\t\t\t<td>return the next item from the container</td>\n",
    "\t\t\t<td> </td>\n",
    "\t\t</tr><tr><td> </td>\n",
    "\t\t\t<td>send</td>\n",
    "\t\t\t<td>resumes the generator and “sends” a value that becomes the result of the current yield-expression</td>\n",
    "\t\t\t<td> </td>\n",
    "\t\t</tr><tr><td> </td>\n",
    "\t\t\t<td>throw</td>\n",
    "\t\t\t<td>used to raise an exception inside the generator</td>\n",
    "\t\t\t<td> </td>\n",
    "\t\t</tr><tr><td>traceback</td>\n",
    "\t\t\t<td>tb_frame</td>\n",
    "\t\t\t<td>frame object at this level</td>\n",
    "\t\t\t<td> </td>\n",
    "\t\t</tr><tr><td> </td>\n",
    "\t\t\t<td>tb_lasti</td>\n",
    "\t\t\t<td>index of last attempted instruction in bytecode</td>\n",
    "\t\t\t<td> </td>\n",
    "\t\t</tr><tr><td> </td>\n",
    "\t\t\t<td>tb_lineno</td>\n",
    "\t\t\t<td>current line number in Python source code</td>\n",
    "\t\t\t<td> </td>\n",
    "\t\t</tr><tr><td> </td>\n",
    "\t\t\t<td>tb_next</td>\n",
    "\t\t\t<td>next inner traceback object (called by this level)</td>\n",
    "\t\t\t<td> </td>\n",
    "\t\t</tr><tr><td>frame</td>\n",
    "\t\t\t<td>f_back</td>\n",
    "\t\t\t<td>next outer frame object (this frame’s caller)</td>\n",
    "\t\t\t<td> </td>\n",
    "\t\t</tr><tr><td> </td>\n",
    "\t\t\t<td>f_builtins</td>\n",
    "\t\t\t<td>builtins namespace seen by this frame</td>\n",
    "\t\t\t<td> </td>\n",
    "\t\t</tr><tr><td> </td>\n",
    "\t\t\t<td>f_code</td>\n",
    "\t\t\t<td>code object being executed in this frame</td>\n",
    "\t\t\t<td> </td>\n",
    "\t\t</tr><tr><td> </td>\n",
    "\t\t\t<td>f_exc_traceback</td>\n",
    "\t\t\t<td>traceback if raised in this frame, or None</td>\n",
    "\t\t\t<td> </td>\n",
    "\t\t</tr><tr><td> </td>\n",
    "\t\t\t<td>f_exc_type</td>\n",
    "\t\t\t<td>exception type if raised in this frame, or None</td>\n",
    "\t\t\t<td> </td>\n",
    "\t\t</tr><tr><td> </td>\n",
    "\t\t\t<td>f_exc_value</td>\n",
    "\t\t\t<td>exception value if raised in this frame, or None</td>\n",
    "\t\t\t<td> </td>\n",
    "\t\t</tr><tr><td> </td>\n",
    "\t\t\t<td>f_globals</td>\n",
    "\t\t\t<td>global namespace seen by this frame</td>\n",
    "\t\t\t<td> </td>\n",
    "\t\t</tr><tr><td> </td>\n",
    "\t\t\t<td>f_lasti</td>\n",
    "\t\t\t<td>index of last attempted instruction in bytecode</td>\n",
    "\t\t\t<td> </td>\n",
    "\t\t</tr><tr><td> </td>\n",
    "\t\t\t<td>f_lineno</td>\n",
    "\t\t\t<td>current line number in Python source code</td>\n",
    "\t\t\t<td> </td>\n",
    "\t\t</tr><tr><td> </td>\n",
    "\t\t\t<td>f_locals</td>\n",
    "\t\t\t<td>local namespace seen by this frame</td>\n",
    "\t\t\t<td> </td>\n",
    "\t\t</tr><tr><td> </td>\n",
    "\t\t\t<td>f_restricted</td>\n",
    "\t\t\t<td>0 or 1 if frame is in restricted execution mode</td>\n",
    "\t\t\t<td> </td>\n",
    "\t\t</tr><tr><td> </td>\n",
    "\t\t\t<td>f_trace</td>\n",
    "\t\t\t<td>tracing function for this frame, or None</td>\n",
    "\t\t\t<td> </td>\n",
    "\t\t</tr><tr><td>code</td>\n",
    "\t\t\t<td>co_argcount</td>\n",
    "\t\t\t<td>number of arguments (not including * or ** args)</td>\n",
    "\t\t\t<td> </td>\n",
    "\t\t</tr><tr><td> </td>\n",
    "\t\t\t<td>co_code</td>\n",
    "\t\t\t<td>string of raw compiled bytecode</td>\n",
    "\t\t\t<td> </td>\n",
    "\t\t</tr><tr><td> </td>\n",
    "\t\t\t<td>co_consts</td>\n",
    "\t\t\t<td>tuple of constants used in the bytecode</td>\n",
    "\t\t\t<td> </td>\n",
    "\t\t</tr><tr><td> </td>\n",
    "\t\t\t<td>co_filename</td>\n",
    "\t\t\t<td>name of file in which this code object was created</td>\n",
    "\t\t\t<td> </td>\n",
    "\t\t</tr><tr><td> </td>\n",
    "\t\t\t<td>co_firstlineno</td>\n",
    "\t\t\t<td>number of first line in Python source code</td>\n",
    "\t\t\t<td> </td>\n",
    "\t\t</tr><tr><td> </td>\n",
    "\t\t\t<td>co_flags</td>\n",
    "\t\t\t<td>bitmap: 1=optimized | 2=newlocals | 4=*arg |8=**arg</td>\n",
    "\t\t\t<td> </td>\n",
    "\t\t</tr><tr><td> </td>\n",
    "\t\t\t<td>co_lnotab</td>\n",
    "\t\t\t<td>encoded mapping of line numbers to bytecode indices</td>\n",
    "\t\t\t<td> </td>\n",
    "\t\t</tr><tr><td> </td>\n",
    "\t\t\t<td>co_name</td>\n",
    "\t\t\t<td>name with which this code object was defined</td>\n",
    "\t\t\t<td> </td>\n",
    "\t\t</tr><tr><td> </td>\n",
    "\t\t\t<td>co_names</td>\n",
    "\t\t\t<td>tuple of names of local variables</td>\n",
    "\t\t\t<td> </td>\n",
    "\t\t</tr><tr><td> </td>\n",
    "\t\t\t<td>co_nlocals</td>\n",
    "\t\t\t<td>number of local variables</td>\n",
    "\t\t\t<td> </td>\n",
    "\t\t</tr><tr><td> </td>\n",
    "\t\t\t<td>co_stacksize</td>\n",
    "\t\t\t<td>virtual machine stack space required</td>\n",
    "\t\t\t<td> </td>\n",
    "\t\t</tr><tr><td> </td>\n",
    "\t\t\t<td>co_varnames</td>\n",
    "\t\t\t<td>tuple of names of arguments and local variables</td>\n",
    "\t\t\t<td> </td>\n",
    "\t\t</tr><tr><td>builtin</td>\n",
    "\t\t\t<td>__doc__</td>\n",
    "\t\t\t<td>documentation string</td>\n",
    "\t\t\t<td> </td>\n",
    "\t\t</tr><tr><td> </td>\n",
    "\t\t\t<td>__name__</td>\n",
    "\t\t\t<td>original name of this function or method</td>\n",
    "\t\t\t<td> </td>\n",
    "\t\t</tr><tr><td> </td>\n",
    "\t\t\t<td>__self__</td>\n",
    "\t\t\t<td>instance to which a method is bound, or None</td>\n",
    "\t\t\t<td> </td>\n",
    "\t\t</tr></tbody></table><p> </p>"
   ]
  },
  {
   "cell_type": "markdown",
   "metadata": {},
   "source": [
    "###### 访问实例的元数据\n",
    "* \\_\\_dict__\n",
    "* \\_\\_class\\_\\_"
   ]
  },
  {
   "cell_type": "code",
   "execution_count": 3,
   "metadata": {
    "ExecuteTime": {
     "end_time": "2019-04-17T01:53:57.916964Z",
     "start_time": "2019-04-17T01:53:57.904708Z"
    }
   },
   "outputs": [
    {
     "data": {
      "text/plain": [
       "{'name': 'kitty'}"
      ]
     },
     "execution_count": 3,
     "metadata": {},
     "output_type": "execute_result"
    }
   ],
   "source": [
    "cat.__dict__"
   ]
  },
  {
   "cell_type": "code",
   "execution_count": 27,
   "metadata": {
    "ExecuteTime": {
     "end_time": "2019-04-17T02:11:12.442896Z",
     "start_time": "2019-04-17T02:11:12.438285Z"
    }
   },
   "outputs": [
    {
     "data": {
      "text/plain": [
       "__main__.Cat"
      ]
     },
     "execution_count": 27,
     "metadata": {},
     "output_type": "execute_result"
    }
   ],
   "source": [
    "cat.__class__"
   ]
  },
  {
   "cell_type": "markdown",
   "metadata": {},
   "source": [
    "###### 访问模块的原数据\n",
    "* \\_\\_doc\\_\\_\n",
    "* \\_\\_name\\_\\_\n",
    "* \\_\\_file\\_\\_\n",
    "* \\_\\_dict\\_\\_"
   ]
  },
  {
   "cell_type": "code",
   "execution_count": 4,
   "metadata": {
    "ExecuteTime": {
     "end_time": "2019-04-17T01:56:46.319028Z",
     "start_time": "2019-04-17T01:56:46.314349Z"
    }
   },
   "outputs": [],
   "source": [
    "import numpy as np"
   ]
  },
  {
   "cell_type": "code",
   "execution_count": 6,
   "metadata": {
    "ExecuteTime": {
     "end_time": "2019-04-17T01:57:31.705026Z",
     "start_time": "2019-04-17T01:57:31.700429Z"
    }
   },
   "outputs": [
    {
     "name": "stdout",
     "output_type": "stream",
     "text": [
      "['', 'NumPy', '=====']\n"
     ]
    }
   ],
   "source": [
    "print(np.__doc__.splitlines()[0:3])"
   ]
  },
  {
   "cell_type": "code",
   "execution_count": 7,
   "metadata": {
    "ExecuteTime": {
     "end_time": "2019-04-17T01:57:44.439056Z",
     "start_time": "2019-04-17T01:57:44.434482Z"
    }
   },
   "outputs": [
    {
     "name": "stdout",
     "output_type": "stream",
     "text": [
      "numpy\n"
     ]
    }
   ],
   "source": [
    "print(np.__name__)"
   ]
  },
  {
   "cell_type": "code",
   "execution_count": 8,
   "metadata": {
    "ExecuteTime": {
     "end_time": "2019-04-17T01:57:51.445017Z",
     "start_time": "2019-04-17T01:57:51.440366Z"
    }
   },
   "outputs": [
    {
     "name": "stdout",
     "output_type": "stream",
     "text": [
      "/home/zhangzijie_dlut/miniconda3/envs/zzj/lib/python3.6/site-packages/numpy/__init__.py\n"
     ]
    }
   ],
   "source": [
    "print(np.__file__)"
   ]
  },
  {
   "cell_type": "code",
   "execution_count": 18,
   "metadata": {
    "ExecuteTime": {
     "end_time": "2019-04-17T02:00:15.920621Z",
     "start_time": "2019-04-17T02:00:15.915615Z"
    }
   },
   "outputs": [
    {
     "name": "stdout",
     "output_type": "stream",
     "text": [
      "numpy\n",
      "/home/zhangzijie_dlut/miniconda3/envs/zzj/lib/python3.6/site-packages/numpy/__init__.py\n"
     ]
    }
   ],
   "source": [
    "#返回这个模块的全部信息\n",
    "print(np.__dict__['__name__'])\n",
    "print(np.__dict__['__file__'])"
   ]
  },
  {
   "cell_type": "markdown",
   "metadata": {},
   "source": [
    "###### 访问类的元数据\n",
    "* \\_\\_doc\\_\\_\n",
    "* \\_\\_name\\_\\_ **直接父类**对象的元组\n",
    "* \\_\\_module\\_\\_\n",
    "* \\_\\_bases\\_\\_\n",
    "* \\_\\_dict\\_\\_"
   ]
  },
  {
   "cell_type": "code",
   "execution_count": 22,
   "metadata": {
    "ExecuteTime": {
     "end_time": "2019-04-17T02:03:56.426400Z",
     "start_time": "2019-04-17T02:03:56.421949Z"
    }
   },
   "outputs": [
    {
     "name": "stdout",
     "output_type": "stream",
     "text": [
      "\n",
      "    喵喵喵\n",
      "    \n"
     ]
    }
   ],
   "source": [
    "print(Cat.__doc__)"
   ]
  },
  {
   "cell_type": "code",
   "execution_count": 23,
   "metadata": {
    "ExecuteTime": {
     "end_time": "2019-04-17T02:04:15.886122Z",
     "start_time": "2019-04-17T02:04:15.881909Z"
    }
   },
   "outputs": [
    {
     "name": "stdout",
     "output_type": "stream",
     "text": [
      "Cat\n"
     ]
    }
   ],
   "source": [
    "print(Cat.__name__)"
   ]
  },
  {
   "cell_type": "code",
   "execution_count": 24,
   "metadata": {
    "ExecuteTime": {
     "end_time": "2019-04-17T02:04:35.390262Z",
     "start_time": "2019-04-17T02:04:35.386174Z"
    }
   },
   "outputs": [
    {
     "name": "stdout",
     "output_type": "stream",
     "text": [
      "__main__\n"
     ]
    }
   ],
   "source": [
    "print(Cat.__module__)"
   ]
  },
  {
   "cell_type": "code",
   "execution_count": 25,
   "metadata": {
    "ExecuteTime": {
     "end_time": "2019-04-17T02:04:45.942515Z",
     "start_time": "2019-04-17T02:04:45.935782Z"
    }
   },
   "outputs": [
    {
     "name": "stdout",
     "output_type": "stream",
     "text": [
      "(<class 'object'>,)\n"
     ]
    }
   ],
   "source": [
    "print(Cat.__bases__)"
   ]
  },
  {
   "cell_type": "code",
   "execution_count": 26,
   "metadata": {
    "ExecuteTime": {
     "end_time": "2019-04-17T02:04:58.432074Z",
     "start_time": "2019-04-17T02:04:58.427255Z"
    }
   },
   "outputs": [
    {
     "name": "stdout",
     "output_type": "stream",
     "text": [
      "{'__module__': '__main__', '__doc__': '\\n    喵喵喵\\n    ', '__init__': <function Cat.__init__ at 0x7f1855284158>, 'Miao': <function Cat.Miao at 0x7f1855284ea0>, '__dict__': <attribute '__dict__' of 'Cat' objects>, '__weakref__': <attribute '__weakref__' of 'Cat' objects>}\n"
     ]
    }
   ],
   "source": [
    "print(Cat.__dict__)"
   ]
  },
  {
   "cell_type": "markdown",
   "metadata": {},
   "source": [
    "###### 访问内建函数和方法的元数据\n",
    "* \\_\\_doc\\_\\_\n",
    "* \\_\\_name\\_\\_\n",
    "* \\_\\_self\\_\\_ 仅方法可用，如果是绑定的(bound)，则指向调用该方法的类（如果是类方法）或实例（如果是实例方法），否则为None。\n",
    "* \\_\\_module\\_\\_"
   ]
  },
  {
   "cell_type": "code",
   "execution_count": 28,
   "metadata": {
    "ExecuteTime": {
     "end_time": "2019-04-17T02:18:38.542390Z",
     "start_time": "2019-04-17T02:18:38.538912Z"
    }
   },
   "outputs": [],
   "source": [
    "import sys"
   ]
  },
  {
   "cell_type": "code",
   "execution_count": 31,
   "metadata": {
    "ExecuteTime": {
     "end_time": "2019-04-17T02:19:40.344289Z",
     "start_time": "2019-04-17T02:19:40.340083Z"
    }
   },
   "outputs": [
    {
     "name": "stdout",
     "output_type": "stream",
     "text": [
      "_ast\n"
     ]
    }
   ],
   "source": [
    "#用 sys的 builtin_modules_names字段查看所有的内建函数\n",
    "print(sys.builtin_module_names[0])"
   ]
  },
  {
   "cell_type": "code",
   "execution_count": 32,
   "metadata": {
    "ExecuteTime": {
     "end_time": "2019-04-17T02:19:54.639218Z",
     "start_time": "2019-04-17T02:19:54.635126Z"
    }
   },
   "outputs": [],
   "source": [
    "from functools import wraps"
   ]
  },
  {
   "cell_type": "code",
   "execution_count": 35,
   "metadata": {
    "ExecuteTime": {
     "end_time": "2019-04-17T02:20:14.181455Z",
     "start_time": "2019-04-17T02:20:14.176806Z"
    }
   },
   "outputs": [
    {
     "name": "stdout",
     "output_type": "stream",
     "text": [
      "Decorator factory to apply update_wrapper() to a wrapper function\n",
      "\n",
      "       Returns a decorator that invokes update_wrapper() with the decorated\n",
      "       function as the wrapper argument and the arguments to wraps() as the\n",
      "       remaining arguments. Default arguments are as for update_wrapper().\n",
      "       This is a convenience function to simplify applying partial() to\n",
      "       update_wrapper().\n",
      "    \n"
     ]
    }
   ],
   "source": [
    "print(wraps.__doc__)"
   ]
  },
  {
   "cell_type": "code",
   "execution_count": 37,
   "metadata": {
    "ExecuteTime": {
     "end_time": "2019-04-17T02:20:30.312307Z",
     "start_time": "2019-04-17T02:20:30.307714Z"
    }
   },
   "outputs": [
    {
     "name": "stdout",
     "output_type": "stream",
     "text": [
      "wraps\n"
     ]
    }
   ],
   "source": [
    "print(wraps.__name__)"
   ]
  },
  {
   "cell_type": "code",
   "execution_count": 39,
   "metadata": {
    "ExecuteTime": {
     "end_time": "2019-04-17T02:21:03.387225Z",
     "start_time": "2019-04-17T02:21:03.382504Z"
    }
   },
   "outputs": [
    {
     "name": "stdout",
     "output_type": "stream",
     "text": [
      "functools\n"
     ]
    }
   ],
   "source": [
    "print(wraps.__module__)"
   ]
  },
  {
   "cell_type": "code",
   "execution_count": 40,
   "metadata": {
    "ExecuteTime": {
     "end_time": "2019-04-17T02:21:28.280390Z",
     "start_time": "2019-04-17T02:21:28.277237Z"
    }
   },
   "outputs": [],
   "source": [
    "from collections import Iterable"
   ]
  },
  {
   "cell_type": "code",
   "execution_count": 41,
   "metadata": {
    "ExecuteTime": {
     "end_time": "2019-04-17T02:21:57.407641Z",
     "start_time": "2019-04-17T02:21:57.403089Z"
    }
   },
   "outputs": [
    {
     "name": "stdout",
     "output_type": "stream",
     "text": [
      "<class 'collections.abc.Iterable'>\n"
     ]
    }
   ],
   "source": [
    "print(Iterable.mro.__self__)"
   ]
  },
  {
   "cell_type": "markdown",
   "metadata": {},
   "source": [
    "###### 查看函数的元数据\n",
    "* \\_\\_doc\\_\\_\n",
    "* \\_\\_name\\_\\_\n",
    "* \\_\\_file\\_\\_\n",
    "* \\_\\_dict\\_\\_\n",
    "* \\_\\_defaults\\_\\_\n",
    "* \\_\\_code\\_\\_ 这个属性指向一个该函数对应的code对象，code对象中定义了其他的一些特殊属性\n",
    "* \\_\\_globals\\_\\_  这个属性指向当前的全局命名空间而不是定义函数时的全局命名空间\n",
    "* \\_\\_closure\\_\\_ 这个属性仅当函数是一个闭包时有效, 指向一个保存了所引用到的外部函数的变量cell的元组"
   ]
  },
  {
   "cell_type": "code",
   "execution_count": 44,
   "metadata": {
    "ExecuteTime": {
     "end_time": "2019-04-17T02:29:30.565761Z",
     "start_time": "2019-04-17T02:29:30.562054Z"
    }
   },
   "outputs": [],
   "source": [
    "def func(a=3, b=4):\n",
    "    return a + b"
   ]
  },
  {
   "cell_type": "code",
   "execution_count": 47,
   "metadata": {
    "ExecuteTime": {
     "end_time": "2019-04-17T02:30:49.452584Z",
     "start_time": "2019-04-17T02:30:49.448186Z"
    }
   },
   "outputs": [
    {
     "name": "stdout",
     "output_type": "stream",
     "text": [
      "(3, 4)\n"
     ]
    }
   ],
   "source": [
    "print(func.__defaults__)"
   ]
  },
  {
   "cell_type": "code",
   "execution_count": 51,
   "metadata": {
    "ExecuteTime": {
     "end_time": "2019-04-17T02:32:00.770709Z",
     "start_time": "2019-04-17T02:32:00.766597Z"
    }
   },
   "outputs": [
    {
     "name": "stdout",
     "output_type": "stream",
     "text": [
      "<module 'builtins' (built-in)>\n"
     ]
    }
   ],
   "source": [
    "print(func.__globals__['__builtins__'])"
   ]
  },
  {
   "cell_type": "code",
   "execution_count": 53,
   "metadata": {
    "ExecuteTime": {
     "end_time": "2019-04-17T02:32:37.715666Z",
     "start_time": "2019-04-17T02:32:37.710858Z"
    }
   },
   "outputs": [
    {
     "name": "stdout",
     "output_type": "stream",
     "text": [
      "<code object func at 0x7f18541a2150, file \"<ipython-input-44-07500a68f189>\", line 1>\n"
     ]
    }
   ],
   "source": [
    "print(func.__code__)"
   ]
  },
  {
   "cell_type": "code",
   "execution_count": 58,
   "metadata": {
    "ExecuteTime": {
     "end_time": "2019-04-17T02:35:26.217283Z",
     "start_time": "2019-04-17T02:35:26.213775Z"
    }
   },
   "outputs": [],
   "source": [
    "def func(a = 3):\n",
    "    def f():\n",
    "        return a + 3\n",
    "    return f    "
   ]
  },
  {
   "cell_type": "code",
   "execution_count": 64,
   "metadata": {
    "ExecuteTime": {
     "end_time": "2019-04-17T02:37:34.662156Z",
     "start_time": "2019-04-17T02:37:34.656519Z"
    }
   },
   "outputs": [
    {
     "data": {
      "text/plain": [
       "(<cell at 0x7f185415a498: int object at 0x562b076a4a60>,)"
      ]
     },
     "execution_count": 64,
     "metadata": {},
     "output_type": "execute_result"
    }
   ],
   "source": [
    "func().__closure__"
   ]
  },
  {
   "cell_type": "markdown",
   "metadata": {},
   "source": [
    "###### 查看方法的元数据\n",
    "* \\_\\_doc\\_\\_\n",
    "* \\_\\_name\\_\\_ \n",
    "* \\_\\_module\\_\\_\n",
    "* \\_\\_func\\_\\_ 使用这个属性可以拿到方法里实际的函数对象的引用\n",
    "* \\_\\_class\\_\\_ 如果是绑定的(bound)，则指向调用该方法的类（如果是类方法）或实例（如果是实例方法），否则为None\n",
    "* \\_\\_self\\_\\_"
   ]
  },
  {
   "cell_type": "code",
   "execution_count": 65,
   "metadata": {
    "ExecuteTime": {
     "end_time": "2019-04-17T02:39:43.462617Z",
     "start_time": "2019-04-17T02:39:43.459417Z"
    }
   },
   "outputs": [],
   "source": [
    "method = cat.Miao"
   ]
  },
  {
   "cell_type": "code",
   "execution_count": 66,
   "metadata": {
    "ExecuteTime": {
     "end_time": "2019-04-17T02:39:56.351049Z",
     "start_time": "2019-04-17T02:39:56.344168Z"
    }
   },
   "outputs": [
    {
     "name": "stdout",
     "output_type": "stream",
     "text": [
      "<function Cat.Miao at 0x7f1855284ea0>\n"
     ]
    }
   ],
   "source": [
    "print(method.__func__)"
   ]
  },
  {
   "cell_type": "code",
   "execution_count": 67,
   "metadata": {
    "ExecuteTime": {
     "end_time": "2019-04-17T02:40:09.866664Z",
     "start_time": "2019-04-17T02:40:09.862729Z"
    }
   },
   "outputs": [
    {
     "name": "stdout",
     "output_type": "stream",
     "text": [
      "<class 'method'>\n"
     ]
    }
   ],
   "source": [
    "print(method.__class__)"
   ]
  },
  {
   "cell_type": "code",
   "execution_count": 69,
   "metadata": {
    "ExecuteTime": {
     "end_time": "2019-04-17T02:40:56.977434Z",
     "start_time": "2019-04-17T02:40:56.973380Z"
    }
   },
   "outputs": [
    {
     "name": "stdout",
     "output_type": "stream",
     "text": [
      "<__main__.Cat object at 0x7f18541a14a8>\n"
     ]
    }
   ],
   "source": [
    "print(method.__self__)"
   ]
  },
  {
   "cell_type": "markdown",
   "metadata": {},
   "source": [
    "###### 查看生成器的元数据\n",
    "* \\_\\_class\\_\\_ 返回generator\n",
    "* \\_\\_iter\\_\\_\n",
    "* gi_code 生成器对应的code对象\n",
    "* gi_frame 生成器对应的frame对象\n",
    "* gi_running 生成器函数是否在执行。生成器函数在yield以后、执行yield的下一行代码前处于frozen状态，此时这个属性的值为0。"
   ]
  },
  {
   "cell_type": "code",
   "execution_count": 70,
   "metadata": {
    "ExecuteTime": {
     "end_time": "2019-04-17T02:44:06.335579Z",
     "start_time": "2019-04-17T02:44:06.332195Z"
    }
   },
   "outputs": [],
   "source": [
    "g = (n for n in range(10))"
   ]
  },
  {
   "cell_type": "code",
   "execution_count": 72,
   "metadata": {
    "ExecuteTime": {
     "end_time": "2019-04-17T02:44:19.232471Z",
     "start_time": "2019-04-17T02:44:19.228293Z"
    }
   },
   "outputs": [
    {
     "name": "stdout",
     "output_type": "stream",
     "text": [
      "<class 'generator'>\n"
     ]
    }
   ],
   "source": [
    "print(g.__class__)"
   ]
  },
  {
   "cell_type": "code",
   "execution_count": 79,
   "metadata": {
    "ExecuteTime": {
     "end_time": "2019-04-17T02:46:13.607331Z",
     "start_time": "2019-04-17T02:46:13.603787Z"
    }
   },
   "outputs": [
    {
     "name": "stdout",
     "output_type": "stream",
     "text": [
      "<method-wrapper '__iter__' of generator object at 0x7f185414dbf8>\n"
     ]
    }
   ],
   "source": [
    "print(g.__iter__)"
   ]
  },
  {
   "cell_type": "code",
   "execution_count": 82,
   "metadata": {
    "ExecuteTime": {
     "end_time": "2019-04-17T02:47:12.212844Z",
     "start_time": "2019-04-17T02:47:12.209165Z"
    }
   },
   "outputs": [
    {
     "name": "stdout",
     "output_type": "stream",
     "text": [
      "<code object <genexpr> at 0x7f18541a24b0, file \"<ipython-input-70-86f1a6625a46>\", line 1>\n"
     ]
    }
   ],
   "source": [
    "print(g.gi_code)"
   ]
  },
  {
   "cell_type": "code",
   "execution_count": 83,
   "metadata": {
    "ExecuteTime": {
     "end_time": "2019-04-17T02:47:56.661252Z",
     "start_time": "2019-04-17T02:47:56.657617Z"
    }
   },
   "outputs": [
    {
     "name": "stdout",
     "output_type": "stream",
     "text": [
      "<frame object at 0x562b08527e68>\n"
     ]
    }
   ],
   "source": [
    "print(g.gi_frame)"
   ]
  },
  {
   "cell_type": "code",
   "execution_count": 84,
   "metadata": {
    "ExecuteTime": {
     "end_time": "2019-04-17T02:48:40.845572Z",
     "start_time": "2019-04-17T02:48:40.841275Z"
    }
   },
   "outputs": [
    {
     "name": "stdout",
     "output_type": "stream",
     "text": [
      "False\n"
     ]
    }
   ],
   "source": [
    "print(g.gi_running)"
   ]
  },
  {
   "cell_type": "markdown",
   "metadata": {},
   "source": [
    "###### 查看代码块的元数据\n",
    "* co_argcount 通参数的总数，不包括\\*参数和\\*\\*参数。\n",
    "* co_names 所有的参数名（包括\\*参数和\\*\\*参数）和局部变量名的元组。\n",
    "* co_varnames 所有的局部变量名的元组。\n",
    "* co_filename 源代码所在的文件名。\n",
    "* co_flags  这是一个数值，每一个二进制位都包含了特定信息。较关注的是0b100(0x4)和0b1000(0x8)，如果co_flags & 0b100 != 0，说明使用了\\*args参数；如果co_flags & 0b1000 != 0，说明使用了\\*\\*kwargs参数。另外，如果co_flags & 0b100000(0x20) != 0，则说明这是一个生成器函数(generator function)"
   ]
  },
  {
   "cell_type": "code",
   "execution_count": 85,
   "metadata": {
    "ExecuteTime": {
     "end_time": "2019-04-17T02:54:25.688453Z",
     "start_time": "2019-04-17T02:54:25.685409Z"
    }
   },
   "outputs": [],
   "source": [
    "#获取函数的code对象\n",
    "code = cat.Miao.__code__"
   ]
  },
  {
   "cell_type": "code",
   "execution_count": 86,
   "metadata": {
    "ExecuteTime": {
     "end_time": "2019-04-17T02:54:36.940942Z",
     "start_time": "2019-04-17T02:54:36.936662Z"
    }
   },
   "outputs": [
    {
     "name": "stdout",
     "output_type": "stream",
     "text": [
      "1\n"
     ]
    }
   ],
   "source": [
    "print(code.co_argcount)"
   ]
  },
  {
   "cell_type": "code",
   "execution_count": 87,
   "metadata": {
    "ExecuteTime": {
     "end_time": "2019-04-17T02:55:03.858871Z",
     "start_time": "2019-04-17T02:55:03.853958Z"
    }
   },
   "outputs": [
    {
     "name": "stdout",
     "output_type": "stream",
     "text": [
      "('print', 'name')\n"
     ]
    }
   ],
   "source": [
    "print(code.co_names)"
   ]
  },
  {
   "cell_type": "code",
   "execution_count": 88,
   "metadata": {
    "ExecuteTime": {
     "end_time": "2019-04-17T02:55:56.944649Z",
     "start_time": "2019-04-17T02:55:56.939843Z"
    }
   },
   "outputs": [
    {
     "name": "stdout",
     "output_type": "stream",
     "text": [
      "('self',)\n"
     ]
    }
   ],
   "source": [
    "print(code.co_varnames)"
   ]
  },
  {
   "cell_type": "code",
   "execution_count": 89,
   "metadata": {
    "ExecuteTime": {
     "end_time": "2019-04-17T02:56:36.295291Z",
     "start_time": "2019-04-17T02:56:36.288426Z"
    }
   },
   "outputs": [
    {
     "name": "stdout",
     "output_type": "stream",
     "text": [
      "<ipython-input-21-b57ed93d8c03>\n"
     ]
    }
   ],
   "source": [
    "print(code.co_filename)"
   ]
  },
  {
   "cell_type": "code",
   "execution_count": 90,
   "metadata": {
    "ExecuteTime": {
     "end_time": "2019-04-17T02:57:02.563693Z",
     "start_time": "2019-04-17T02:57:02.559163Z"
    }
   },
   "outputs": [
    {
     "name": "stdout",
     "output_type": "stream",
     "text": [
      "67\n"
     ]
    }
   ],
   "source": [
    "print(code.co_flags)"
   ]
  },
  {
   "cell_type": "code",
   "execution_count": 91,
   "metadata": {
    "ExecuteTime": {
     "end_time": "2019-04-17T02:58:15.010973Z",
     "start_time": "2019-04-17T02:58:15.006263Z"
    }
   },
   "outputs": [
    {
     "name": "stdout",
     "output_type": "stream",
     "text": [
      "b't\\x00|\\x00j\\x01d\\x01\\x17\\x00\\x83\\x01\\x01\\x00d\\x00S\\x00'\n"
     ]
    }
   ],
   "source": [
    "print(code.co_code)"
   ]
  },
  {
   "cell_type": "markdown",
   "metadata": {},
   "source": [
    "###### 查看栈帧(frame)的元数据\n",
    "栈帧表示程序运行时函数调用栈中的某一帧。函数没有属性可以获取它，因为它在函数调用时才会产生，而生成器则是由函数调用返回的，所以有属性指向栈帧。想要获得某个函数相关的栈帧，则<u>必须在调用这个函数且这个函数尚未返回时获取</u>。你可以使用sys模块的_getframe()函数、或inspect模块的currentframe()函数获取当前栈帧。这里列出来的属性全部是只读的。\n",
    "* f_back 调用栈的前一帧。\n",
    "* f_code 栈帧对应的code对象。\n",
    "* f_locals 用在当前栈帧时与内建函数locals()相同，但你可以先获取其他帧然后使用这个属性获取那个帧的locals()。\n",
    "* f_globals 用在当前栈帧时与内建函数globals()相同。"
   ]
  },
  {
   "cell_type": "code",
   "execution_count": 100,
   "metadata": {
    "ExecuteTime": {
     "end_time": "2019-04-17T03:07:02.530636Z",
     "start_time": "2019-04-17T03:07:02.526645Z"
    }
   },
   "outputs": [],
   "source": [
    "from inspect import currentframe\n",
    "def add(x, y = 1):\n",
    "    f = currentframe()\n",
    "    print(f.f_locals)\n",
    "    print(f.f_back)\n",
    "    a = x + y + 3\n",
    "    print(f.f_locals)\n",
    "    print(f.f_back)\n",
    "    print(f.f_code)\n",
    "    return a"
   ]
  },
  {
   "cell_type": "code",
   "execution_count": 101,
   "metadata": {
    "ExecuteTime": {
     "end_time": "2019-04-17T03:07:02.925016Z",
     "start_time": "2019-04-17T03:07:02.918568Z"
    }
   },
   "outputs": [
    {
     "name": "stdout",
     "output_type": "stream",
     "text": [
      "{'f': <frame object at 0x562b084eced8>, 'y': 1, 'x': 2}\n",
      "<frame object at 0x7f1858034228>\n",
      "{'f': <frame object at 0x562b084eced8>, 'y': 1, 'x': 2, 'a': 6}\n",
      "<frame object at 0x7f1858034228>\n",
      "<code object add at 0x7f1855f0ded0, file \"<ipython-input-100-6e3aaf50821f>\", line 2>\n"
     ]
    },
    {
     "data": {
      "text/plain": [
       "6"
      ]
     },
     "execution_count": 101,
     "metadata": {},
     "output_type": "execute_result"
    }
   ],
   "source": [
    "add(2)"
   ]
  },
  {
   "cell_type": "markdown",
   "metadata": {},
   "source": [
    "###### 查看追踪(traceback)的元数据\n",
    "追踪是在出现异常时用于回溯的对象，与栈帧相反。由于异常时才会构建，而异常未捕获时会一直向外层栈帧抛出，所以需要使用try才能见到这个对象。你可以使用sys模块的exc_info()函数获得它，这个函数返回一个元组，元素分别是异常类型、异常对象、追踪。traceback的属性全部是只读的。\n",
    "* tb_next: 追踪的下一个追踪对象。\n",
    "* tb_frame: 当前追踪对应的栈帧。\n",
    "* tb_lineno: 当前追踪的行号。"
   ]
  },
  {
   "cell_type": "code",
   "execution_count": 1,
   "metadata": {
    "ExecuteTime": {
     "end_time": "2019-04-17T04:34:05.665739Z",
     "start_time": "2019-04-17T04:34:05.661609Z"
    }
   },
   "outputs": [],
   "source": [
    "import sys\n",
    "def div(x, y):\n",
    "    try:\n",
    "        return x / y\n",
    "    except:\n",
    "        tb = sys.exc_info()\n",
    "        print(tb)\n",
    "        print(tb[2].tb_lineno)\n",
    "        print(tb[2].tb_next)\n",
    "        print(tb[2].tb_frame.f_locals)\n",
    "        print(tb[2].tb_frame.f_back)"
   ]
  },
  {
   "cell_type": "code",
   "execution_count": 2,
   "metadata": {
    "ExecuteTime": {
     "end_time": "2019-04-17T04:34:06.336563Z",
     "start_time": "2019-04-17T04:34:06.331289Z"
    }
   },
   "outputs": [
    {
     "name": "stdout",
     "output_type": "stream",
     "text": [
      "(<class 'ZeroDivisionError'>, ZeroDivisionError('division by zero',), <traceback object at 0x7f35ea4f3108>)\n",
      "4\n",
      "None\n",
      "{'tb': (<class 'ZeroDivisionError'>, ZeroDivisionError('division by zero',), <traceback object at 0x7f35ea4f3108>), 'y': 0, 'x': 1}\n",
      "<frame object at 0x7f35ea4fd048>\n"
     ]
    }
   ],
   "source": [
    "div(1, 0)"
   ]
  },
  {
   "cell_type": "markdown",
   "metadata": {},
   "source": [
    "##### 使用 inspect模块\n",
    "inspect模块主要提供了四种用途, 用于自省:\n",
    "1. 对是否是模块, 框架, 函数等进行类型检查\n",
    "2. 获取源码\n",
    "3. 获取类或函数的参数信息\n",
    "4. 解析堆栈"
   ]
  },
  {
   "cell_type": "markdown",
   "metadata": {},
   "source": [
    "###### 查看对象类型\n",
    "* is{module|class|function|method|builtin}"
   ]
  },
  {
   "cell_type": "code",
   "execution_count": 110,
   "metadata": {
    "ExecuteTime": {
     "end_time": "2019-04-17T03:20:18.821992Z",
     "start_time": "2019-04-17T03:20:18.817744Z"
    }
   },
   "outputs": [
    {
     "name": "stdout",
     "output_type": "stream",
     "text": [
      "True\n"
     ]
    }
   ],
   "source": [
    "from inspect import isroutine\n",
    "print(isroutine(cat.Miao))"
   ]
  },
  {
   "cell_type": "markdown",
   "metadata": {},
   "source": [
    "###### 获取code信息\n",
    "1. inspect.getdoc(object)： 获取object的documentation信息\n",
    "\n",
    "2. inspect.getcomments(object)\n",
    "\n",
    "3. inspect.getfile(object): 返回对象的文件名\n",
    "\n",
    "4. inspect.getmodule(object)：返回object所属的模块名\n",
    "\n",
    "5. inspect.getsourcefile(object)： 返回object的python源文件名；object不能使built-in的module, class, mothod\n",
    "\n",
    "6. inspect.getsourcelines(object)：返回object的python源文件代码的内容，行号+代码行\n",
    "\n",
    "7. inspect.getsource(object)：以string形式返回object的源代码"
   ]
  },
  {
   "cell_type": "code",
   "execution_count": 111,
   "metadata": {
    "ExecuteTime": {
     "end_time": "2019-04-17T03:26:18.249474Z",
     "start_time": "2019-04-17T03:26:18.237525Z"
    }
   },
   "outputs": [
    {
     "data": {
      "text/plain": [
       "\"    def Miao(self):\\n        print(self.name + ' : MiaoMiao\\\\n')\\n\""
      ]
     },
     "execution_count": 111,
     "metadata": {},
     "output_type": "execute_result"
    }
   ],
   "source": [
    "from inspect import getsource\n",
    "getsource(cat.Miao)"
   ]
  },
  {
   "cell_type": "code",
   "execution_count": 112,
   "metadata": {
    "ExecuteTime": {
     "end_time": "2019-04-17T03:26:49.669717Z",
     "start_time": "2019-04-17T03:26:49.664600Z"
    }
   },
   "outputs": [
    {
     "data": {
      "text/plain": [
       "<module '__main__'>"
      ]
     },
     "execution_count": 112,
     "metadata": {},
     "output_type": "execute_result"
    }
   ],
   "source": [
    "from inspect import getmodule\n",
    "getmodule(cat.Miao)"
   ]
  },
  {
   "cell_type": "markdown",
   "metadata": {},
   "source": [
    "###### 获取类和函数的信息\n",
    "1. inspect.getclasstree(classes[, unique])\n",
    "\n",
    "2. inspect.getargspec(func)\n",
    "\n",
    "3. inspect.getargvalues(frame)\n",
    "\n",
    "4. inspect.formatargspec(args[, varargs, varkw, defaults, formatarg, formatvarargs, formatvarkw, formatvalue, join])\n",
    "\n",
    "5. inspect.formatargvalues(args[, varargs, varkw, locals, formatarg, formatvarargs, formatvarkw, formatvalue, join])\n",
    "\n",
    "6. inspect.getmro(cls)： 元组形式返回cls类的基类（包括cls类），以method resolution顺序;通常cls类为元素的第一个元素\n",
    "\n",
    "7. inspect.getcallargs(func[, *args][, **kwds])：将args和kwds参数到绑定到为func的参数名；对bound方法，也绑定第一个参数（通常为self）到相应的实例；返回字典，对应参数名及其值"
   ]
  },
  {
   "cell_type": "code",
   "execution_count": 115,
   "metadata": {
    "ExecuteTime": {
     "end_time": "2019-04-17T03:29:30.319937Z",
     "start_time": "2019-04-17T03:29:30.314862Z"
    }
   },
   "outputs": [
    {
     "data": {
      "text/plain": [
       "[(object, ()), [(__main__.Cat, (object,))]]"
      ]
     },
     "execution_count": 115,
     "metadata": {},
     "output_type": "execute_result"
    }
   ],
   "source": [
    "from inspect import getclasstree\n",
    "getclasstree([Cat])"
   ]
  },
  {
   "cell_type": "code",
   "execution_count": 116,
   "metadata": {
    "ExecuteTime": {
     "end_time": "2019-04-17T03:30:08.674278Z",
     "start_time": "2019-04-17T03:30:08.652777Z"
    }
   },
   "outputs": [
    {
     "name": "stderr",
     "output_type": "stream",
     "text": [
      "/home/zhangzijie_dlut/miniconda3/envs/zzj/lib/python3.6/site-packages/ipykernel_launcher.py:2: DeprecationWarning: inspect.getargspec() is deprecated, use inspect.signature() or inspect.getfullargspec()\n",
      "  \n"
     ]
    },
    {
     "data": {
      "text/plain": [
       "ArgSpec(args=['self'], varargs=None, keywords=None, defaults=None)"
      ]
     },
     "execution_count": 116,
     "metadata": {},
     "output_type": "execute_result"
    }
   ],
   "source": [
    "from inspect import getargspec\n",
    "getargspec(Cat.Miao)"
   ]
  },
  {
   "cell_type": "code",
   "execution_count": 118,
   "metadata": {
    "ExecuteTime": {
     "end_time": "2019-04-17T03:31:33.953324Z",
     "start_time": "2019-04-17T03:31:33.947530Z"
    }
   },
   "outputs": [
    {
     "data": {
      "text/plain": [
       "ArgInfo(args=['.0'], varargs=None, keywords=None, locals={'.0': <range_iterator object at 0x7f1854163db0>})"
      ]
     },
     "execution_count": 118,
     "metadata": {},
     "output_type": "execute_result"
    }
   ],
   "source": [
    "from inspect import getargvalues\n",
    "g = (i for i in range(10))\n",
    "getargvalues(g.gi_frame)"
   ]
  },
  {
   "cell_type": "code",
   "execution_count": 128,
   "metadata": {
    "ExecuteTime": {
     "end_time": "2019-04-17T03:37:09.694620Z",
     "start_time": "2019-04-17T03:37:09.689105Z"
    }
   },
   "outputs": [
    {
     "data": {
      "text/plain": [
       "FullArgSpec(args=['self'], varargs=None, varkw=None, defaults=None, kwonlyargs=[], kwonlydefaults=None, annotations={})"
      ]
     },
     "execution_count": 128,
     "metadata": {},
     "output_type": "execute_result"
    }
   ],
   "source": [
    "from inspect import formatargspec, getfullargspec\n",
    "getfullargspec(Cat.Miao)"
   ]
  },
  {
   "cell_type": "code",
   "execution_count": 134,
   "metadata": {
    "ExecuteTime": {
     "end_time": "2019-04-17T03:39:38.146508Z",
     "start_time": "2019-04-17T03:39:38.142123Z"
    }
   },
   "outputs": [],
   "source": [
    "#formatargspec(getfullargspec(Cat.Miao))"
   ]
  },
  {
   "cell_type": "markdown",
   "metadata": {},
   "source": [
    "###### 获取堆栈的信息"
   ]
  },
  {
   "cell_type": "code",
   "execution_count": 147,
   "metadata": {
    "ExecuteTime": {
     "end_time": "2019-04-17T03:44:35.076833Z",
     "start_time": "2019-04-17T03:44:35.073452Z"
    }
   },
   "outputs": [],
   "source": [
    "from inspect import stack\n",
    "def func():\n",
    "    print(stack()[1])\n",
    "    print(stack()[1][0].f_locals['__name__'])\n",
    "    return\n",
    "    "
   ]
  },
  {
   "cell_type": "code",
   "execution_count": 148,
   "metadata": {
    "ExecuteTime": {
     "end_time": "2019-04-17T03:44:35.624301Z",
     "start_time": "2019-04-17T03:44:35.606760Z"
    }
   },
   "outputs": [
    {
     "name": "stdout",
     "output_type": "stream",
     "text": [
      "FrameInfo(frame=<frame object at 0x7f18540f3408>, filename='<ipython-input-148-bd1982955a12>', lineno=1, function='<module>', code_context=['func()\\n'], index=0)\n",
      "__main__\n"
     ]
    }
   ],
   "source": [
    "func()"
   ]
  },
  {
   "cell_type": "code",
   "execution_count": 155,
   "metadata": {
    "ExecuteTime": {
     "end_time": "2019-04-17T03:47:06.862847Z",
     "start_time": "2019-04-17T03:47:06.858050Z"
    }
   },
   "outputs": [],
   "source": [
    "#获取堆栈信息 + 装饰器\n",
    "def main(func):\n",
    "\n",
    "    if stack()[1][0].f_locals['__name__'] == '__main__':\n",
    "        # Discard the script name from command line.\n",
    "        #args = sys.argv[1: ]\n",
    "        # Call the main function\n",
    "        func()\n",
    "    return func"
   ]
  },
  {
   "cell_type": "code",
   "execution_count": 156,
   "metadata": {
    "ExecuteTime": {
     "end_time": "2019-04-17T03:47:07.470166Z",
     "start_time": "2019-04-17T03:47:07.458486Z"
    }
   },
   "outputs": [
    {
     "name": "stdout",
     "output_type": "stream",
     "text": [
      "haha\n"
     ]
    }
   ],
   "source": [
    "@main\n",
    "def f():\n",
    "    print('haha')  "
   ]
  },
  {
   "cell_type": "code",
   "execution_count": null,
   "metadata": {},
   "outputs": [],
   "source": []
  }
 ],
 "metadata": {
  "kernelspec": {
   "display_name": "Python 3",
   "language": "python",
   "name": "python3"
  },
  "language_info": {
   "codemirror_mode": {
    "name": "ipython",
    "version": 3
   },
   "file_extension": ".py",
   "mimetype": "text/x-python",
   "name": "python",
   "nbconvert_exporter": "python",
   "pygments_lexer": "ipython3",
   "version": "3.6.8"
  },
  "toc": {
   "base_numbering": 1,
   "nav_menu": {},
   "number_sections": true,
   "sideBar": false,
   "skip_h1_title": false,
   "title_cell": "Table of Contents",
   "title_sidebar": "Contents",
   "toc_cell": false,
   "toc_position": {},
   "toc_section_display": true,
   "toc_window_display": false
  },
  "varInspector": {
   "cols": {
    "lenName": 16,
    "lenType": 16,
    "lenVar": 40
   },
   "kernels_config": {
    "python": {
     "delete_cmd_postfix": "",
     "delete_cmd_prefix": "del ",
     "library": "var_list.py",
     "varRefreshCmd": "print(var_dic_list())"
    },
    "r": {
     "delete_cmd_postfix": ") ",
     "delete_cmd_prefix": "rm(",
     "library": "var_list.r",
     "varRefreshCmd": "cat(var_dic_list()) "
    }
   },
   "types_to_exclude": [
    "module",
    "function",
    "builtin_function_or_method",
    "instance",
    "_Feature"
   ],
   "window_display": false
  }
 },
 "nbformat": 4,
 "nbformat_minor": 2
}
