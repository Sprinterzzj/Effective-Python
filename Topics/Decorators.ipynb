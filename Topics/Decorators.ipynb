{
 "cells": [
  {
   "cell_type": "markdown",
   "metadata": {
    "toc": true
   },
   "source": [
    "<h1>Table of Contents<span class=\"tocSkip\"></span></h1>\n",
    "<div class=\"toc\"><ul class=\"toc-item\"><li><span><a href=\"#装饰器函数与装饰器类\" data-toc-modified-id=\"装饰器函数与装饰器类-1\"><span class=\"toc-item-num\">1&nbsp;&nbsp;</span>装饰器函数与装饰器类</a></span><ul class=\"toc-item\"><li><span><a href=\"#装饰器函数\" data-toc-modified-id=\"装饰器函数-1.1\"><span class=\"toc-item-num\">1.1&nbsp;&nbsp;</span>装饰器函数</a></span></li><li><span><a href=\"#装饰器类\" data-toc-modified-id=\"装饰器类-1.2\"><span class=\"toc-item-num\">1.2&nbsp;&nbsp;</span>装饰器类</a></span></li></ul></li><li><span><a href=\"#使用装饰器的例子\" data-toc-modified-id=\"使用装饰器的例子-2\"><span class=\"toc-item-num\">2&nbsp;&nbsp;</span>使用装饰器的例子</a></span><ul class=\"toc-item\"><li><span><a href=\"#classmethod\" data-toc-modified-id=\"classmethod-2.1\"><span class=\"toc-item-num\">2.1&nbsp;&nbsp;</span>classmethod</a></span></li><li><span><a href=\"#staticmethod\" data-toc-modified-id=\"staticmethod-2.2\"><span class=\"toc-item-num\">2.2&nbsp;&nbsp;</span>staticmethod</a></span></li><li><span><a href=\"#property\" data-toc-modified-id=\"property-2.3\"><span class=\"toc-item-num\">2.3&nbsp;&nbsp;</span>property</a></span></li><li><span><a href=\"#deprecation-of-function\" data-toc-modified-id=\"deprecation-of-function-2.4\"><span class=\"toc-item-num\">2.4&nbsp;&nbsp;</span>deprecation of function</a></span></li><li><span><a href=\"#WHILE-loop-removing-decorator\" data-toc-modified-id=\"WHILE-loop-removing-decorator-2.5\"><span class=\"toc-item-num\">2.5&nbsp;&nbsp;</span>WHILE-loop removing decorator</a></span></li><li><span><a href=\"#plugin-registration-system\" data-toc-modified-id=\"plugin-registration-system-2.6\"><span class=\"toc-item-num\">2.6&nbsp;&nbsp;</span>plugin registration system</a></span></li></ul></li><li><span><a href=\"#摘自-https://wiki.python.org/moin/PythonDecoratorLibrary\" data-toc-modified-id=\"摘自-https://wiki.python.org/moin/PythonDecoratorLibrary-3\"><span class=\"toc-item-num\">3&nbsp;&nbsp;</span>摘自 <a href=\"https://wiki.python.org/moin/PythonDecoratorLibrary\" target=\"_blank\">https://wiki.python.org/moin/PythonDecoratorLibrary</a></a></span><ul class=\"toc-item\"><li><span><a href=\"#不使用-@wraps来保持原始函数的信息\" data-toc-modified-id=\"不使用-@wraps来保持原始函数的信息-3.1\"><span class=\"toc-item-num\">3.1&nbsp;&nbsp;</span>不使用 @wraps来保持原始函数的信息</a></span></li><li><span><a href=\"#利用装饰器定义属性\" data-toc-modified-id=\"利用装饰器定义属性-3.2\"><span class=\"toc-item-num\">3.2&nbsp;&nbsp;</span>利用装饰器定义属性</a></span></li><li><span><a href=\"#Memorize\" data-toc-modified-id=\"Memorize-3.3\"><span class=\"toc-item-num\">3.3&nbsp;&nbsp;</span>Memorize</a></span></li><li><span><a href=\"#Alternate-memoize-as-nested-functions\" data-toc-modified-id=\"Alternate-memoize-as-nested-functions-3.4\"><span class=\"toc-item-num\">3.4&nbsp;&nbsp;</span>Alternate memoize as nested functions</a></span></li><li><span><a href=\"#Alternate-memoize-as-dict-subclass\" data-toc-modified-id=\"Alternate-memoize-as-dict-subclass-3.5\"><span class=\"toc-item-num\">3.5&nbsp;&nbsp;</span>Alternate memoize as dict subclass</a></span></li><li><span><a href=\"#Alternate-memoize-that-stores-cache-between-executions\" data-toc-modified-id=\"Alternate-memoize-that-stores-cache-between-executions-3.6\"><span class=\"toc-item-num\">3.6&nbsp;&nbsp;</span>Alternate memoize that stores cache between executions</a></span></li><li><span><a href=\"#Cached-Properties\" data-toc-modified-id=\"Cached-Properties-3.7\"><span class=\"toc-item-num\">3.7&nbsp;&nbsp;</span>Cached Properties</a></span></li><li><span><a href=\"#Retry\" data-toc-modified-id=\"Retry-3.8\"><span class=\"toc-item-num\">3.8&nbsp;&nbsp;</span>Retry</a></span></li></ul></li></ul></div>"
   ]
  },
  {
   "cell_type": "markdown",
   "metadata": {},
   "source": [
    "##### 装饰器函数与装饰器类\n",
    "###### 装饰器函数"
   ]
  },
  {
   "cell_type": "markdown",
   "metadata": {},
   "source": [
    "简单装饰器, 返回原来的函数"
   ]
  },
  {
   "cell_type": "code",
   "execution_count": 2,
   "metadata": {
    "ExecuteTime": {
     "end_time": "2019-07-08T06:27:24.483762Z",
     "start_time": "2019-07-08T06:27:24.478484Z"
    }
   },
   "outputs": [
    {
     "name": "stdout",
     "output_type": "stream",
     "text": [
      "Doing decoration\n"
     ]
    }
   ],
   "source": [
    "def simple_decorator(func):\n",
    "    print('Doing decoration')\n",
    "    return func\n",
    "\n",
    "#装饰器在定义函数的时候就\n",
    "#已经执行了, 因此可以被用来\n",
    "#在内部函数执行前后做一些\n",
    "#额外的工作\n",
    "@simple_decorator\n",
    "def func():\n",
    "    print('Inside function.')"
   ]
  },
  {
   "cell_type": "markdown",
   "metadata": {},
   "source": [
    "带参数的装饰器, 返回原来的函数"
   ]
  },
  {
   "cell_type": "code",
   "execution_count": 3,
   "metadata": {
    "ExecuteTime": {
     "end_time": "2019-07-08T06:27:40.004461Z",
     "start_time": "2019-07-08T06:27:40.000335Z"
    }
   },
   "outputs": [],
   "source": [
    "def decorator_with_args(arg):\n",
    "    print('defining the decorator.')\n",
    "    def _decorator(func):\n",
    "        #内部函数中 args仍然可见\n",
    "        print('doing decoration, %r' % arg)\n",
    "        return func\n",
    "    return _decorator\n",
    "\n",
    "@decorator_with_args('abc')\n",
    "def func():\n",
    "    print('Inside function.')"
   ]
  },
  {
   "cell_type": "markdown",
   "metadata": {},
   "source": [
    "简单装饰器, 返回新的函数 _wrapper"
   ]
  },
  {
   "cell_type": "code",
   "execution_count": 47,
   "metadata": {},
   "outputs": [],
   "source": [
    "\n",
    "def simple_decorator(func):\n",
    "    print('Defining the decorator.')\n",
    "    def _wrapper(*args, **kwargs):\n",
    "        print(\"Inside wrapper, %r %r\" % (args, kwargs))\n",
    "        return func(*args, **kwargs)\n",
    "    return _wrapper        \n",
    "\n",
    "@simple_decorator\n",
    "def func(*args, **kwargs):\n",
    "    print('Inside function, %r %r' % (args, kwargs))\n",
    "    return 14"
   ]
  },
  {
   "cell_type": "markdown",
   "metadata": {},
   "source": [
    "带参数的装饰器, 返回新的函数 \\_wrapper"
   ]
  },
  {
   "cell_type": "code",
   "execution_count": 4,
   "metadata": {
    "ExecuteTime": {
     "end_time": "2019-07-08T06:28:17.988932Z",
     "start_time": "2019-07-08T06:28:17.984106Z"
    }
   },
   "outputs": [],
   "source": [
    "def decorator_with_args(arg):\n",
    "    print('Defining the decorator.')\n",
    "    def _decorator(func):\n",
    "        print(\"Doing decoration, %r\" % arg)\n",
    "        def _wrapper(*args, **kwargs):\n",
    "            print(\"Inside wrapper, %r %r\" % (args, kwargs))\n",
    "            return func(*args, **kwargs)\n",
    "        print(\"Finish decoration, %r\" % arg)\n",
    "        return _wrapper\n",
    "    print('Finish the decorator.')\n",
    "    return _decorator\n",
    "\n",
    "@decorator_with_args('abc')\n",
    "def func(*args, **kwargs):\n",
    "    print('Inside function, %r %r' % (args, kwargs))\n",
    "    return 14"
   ]
  },
  {
   "cell_type": "markdown",
   "metadata": {},
   "source": [
    "###### 装饰器类"
   ]
  },
  {
   "cell_type": "markdown",
   "metadata": {},
   "source": [
    "返回原始函数的装饰器类"
   ]
  },
  {
   "cell_type": "code",
   "execution_count": 5,
   "metadata": {
    "ExecuteTime": {
     "end_time": "2019-07-08T06:30:38.576112Z",
     "start_time": "2019-07-08T06:30:38.570170Z"
    }
   },
   "outputs": [
    {
     "name": "stdout",
     "output_type": "stream",
     "text": [
      "In decorator init, foo\n",
      "In decorator call, foo\n"
     ]
    }
   ],
   "source": [
    "class decorator_class(object):\n",
    "    def __init__(self, arg):\n",
    "        print(\"In decorator init, %s\"% arg)\n",
    "        self.arg = arg\n",
    "    def __call__(self, func):\n",
    "        print('In decorator call, %s' % self.arg)\n",
    "        return func\n",
    "\n",
    "deco_instance = decorator_class(arg = 'foo')\n",
    "@deco_instance\n",
    "def function(*args, **kwargs):\n",
    "    print('In function, %s %s' % (args, kwargs))"
   ]
  },
  {
   "cell_type": "markdown",
   "metadata": {},
   "source": [
    "**返回新对象的装饰器类**"
   ]
  },
  {
   "cell_type": "code",
   "execution_count": 8,
   "metadata": {
    "ExecuteTime": {
     "end_time": "2019-07-08T06:32:30.229667Z",
     "start_time": "2019-07-08T06:32:30.221895Z"
    }
   },
   "outputs": [
    {
     "name": "stdout",
     "output_type": "stream",
     "text": [
      "In decorator init, foo\n",
      "In decorator call, foo\n",
      "In the wrapper, (0, 1) {'a': 3}\n",
      "In function, (0, 1) {'a': 3}\n"
     ]
    }
   ],
   "source": [
    "class replacing_decorator_class(object):\n",
    "    def __init__(self, arg):\n",
    "        print('In decorator init, %s' % arg)\n",
    "        self.arg = arg\n",
    "    def __call__(self, func):\n",
    "        print('In decorator call, %s' % self.arg)\n",
    "        self.func = func\n",
    "        return self._wrapper\n",
    "    def _wrapper(self, *args, **kwargs):\n",
    "        print('In the wrapper, %s %s' % (args, kwargs))\n",
    "        return self.func(*args, **kwargs)\n",
    "\n",
    "#初始化函数在类的实例化时运行\n",
    "deco_instance = replacing_decorator_class(arg = 'foo')\n",
    "\n",
    "#__call__函数在装饰器装配时运行,\n",
    "#同时初始化func成员\n",
    "#然后返回wrapper, 一个新的对象。\n",
    "@deco_instance\n",
    "def func(*args, **kwargs):\n",
    "    print('In function, %s %s' % (args, kwargs))\n",
    "\n",
    "#在wrapper方法中运行func\n",
    "func(0,1, a = 3)"
   ]
  },
  {
   "cell_type": "markdown",
   "metadata": {
    "ExecuteTime": {
     "end_time": "2019-04-11T01:07:06.436254Z",
     "start_time": "2019-04-11T01:07:06.434205Z"
    }
   },
   "source": [
    "注意上面的 replacing_decorator_class 会返回 \\_wrapper成员.<br>\n",
    "这么做的一个弊端是: 原始函数 func的名字, doc, 参数列表全部丢失.<br>\n",
    "**解决方案: functools.update_wrapper 或 functools.wraps**"
   ]
  },
  {
   "cell_type": "code",
   "execution_count": 14,
   "metadata": {
    "ExecuteTime": {
     "end_time": "2019-07-08T06:38:17.355589Z",
     "start_time": "2019-07-08T06:38:17.339943Z"
    }
   },
   "outputs": [
    {
     "name": "stdout",
     "output_type": "stream",
     "text": [
      "defining the decorator\n",
      "doing decoration, 'abc'\n",
      "function \n",
      "    extensive documentation\n",
      "    \n"
     ]
    },
    {
     "data": {
      "text/plain": [
       "('args', 'kwargs')"
      ]
     },
     "execution_count": 14,
     "metadata": {},
     "output_type": "execute_result"
    }
   ],
   "source": [
    "from functools import update_wrapper, wraps\n",
    "#functools.update_wrapper\n",
    "def replacing_decorator_with_args(arg):\n",
    "    print('defining the decorator')\n",
    "    def _decorator(function):\n",
    "        print('doing decoration, %r' % arg)\n",
    "        def _wrapper(*args, **kwargs):\n",
    "            print('inside wrapper, %r %r' % (args, kwargs))\n",
    "            return function(*args, **kwargs)\n",
    "        return update_wrapper(_wrapper, function)\n",
    "    return  _decorator\n",
    "\n",
    "@replacing_decorator_with_args('abc')\n",
    "def function(a = 13):\n",
    "    \"\"\"\n",
    "    extensive documentation\n",
    "    \"\"\"\n",
    "    print('inside function')\n",
    "    return 14\n",
    "\n",
    "#原始函数的名字和doc都可以拷贝过来\n",
    "print(function.__name__, function.__doc__)\n",
    "\n",
    "#但是参数列表依然无法copy\n",
    "function.__code__.co_varnames"
   ]
  },
  {
   "cell_type": "code",
   "execution_count": 16,
   "metadata": {
    "ExecuteTime": {
     "end_time": "2019-07-08T06:39:08.567050Z",
     "start_time": "2019-07-08T06:39:08.558143Z"
    }
   },
   "outputs": [
    {
     "name": "stdout",
     "output_type": "stream",
     "text": [
      "defining the decorator\n",
      "doing decoration, 'abc'\n",
      "function \n",
      "    extensive documentation\n",
      "    \n"
     ]
    },
    {
     "data": {
      "text/plain": [
       "('args', 'kwargs')"
      ]
     },
     "execution_count": 16,
     "metadata": {},
     "output_type": "execute_result"
    }
   ],
   "source": [
    "#functools.wraps\n",
    "def replacing_decorator_with_args(arg):\n",
    "    print('defining the decorator')\n",
    "    def _decorator(function):\n",
    "        print('doing decoration, %r' % arg)\n",
    "        @wraps(function)\n",
    "        def _wrapper(*args, **kwargs):\n",
    "            print('inside wrapper, %r %r' % (args, kwargs))\n",
    "            return function(*args, **kwargs)\n",
    "        return _wrapper\n",
    "    return  _decorator\n",
    "\n",
    "@replacing_decorator_with_args('abc')\n",
    "def function(a = 13):\n",
    "    \"\"\"\n",
    "    extensive documentation\n",
    "    \"\"\"\n",
    "    print('inside function')\n",
    "    return 14\n",
    "\n",
    "#原始函数的名字和doc都可以拷贝过来\n",
    "print(function.__name__, function.__doc__)\n",
    "\n",
    "#同上, 参数列表无法被copy\n",
    "function.__code__.co_varnames"
   ]
  },
  {
   "cell_type": "markdown",
   "metadata": {},
   "source": [
    "##### 使用装饰器的例子"
   ]
  },
  {
   "cell_type": "markdown",
   "metadata": {},
   "source": [
    "###### classmethod"
   ]
  },
  {
   "cell_type": "code",
   "execution_count": 17,
   "metadata": {
    "ExecuteTime": {
     "end_time": "2019-07-08T06:40:39.188663Z",
     "start_time": "2019-07-08T06:40:38.081658Z"
    }
   },
   "outputs": [],
   "source": [
    "import numpy as np\n",
    "class Array(object):\n",
    "    def __init__(self, data):\n",
    "        self.data = data\n",
    "    \n",
    "    #classmethod作为工厂方法, 创建类的实例\n",
    "    @classmethod\n",
    "    def fromfile(cls, file):\n",
    "        data = np.load(file)\n",
    "        return cls(data)"
   ]
  },
  {
   "cell_type": "markdown",
   "metadata": {},
   "source": [
    "###### staticmethod"
   ]
  },
  {
   "cell_type": "code",
   "execution_count": 23,
   "metadata": {
    "ExecuteTime": {
     "end_time": "2019-04-11T01:20:54.328139Z",
     "start_time": "2019-04-11T01:20:54.325735Z"
    }
   },
   "outputs": [],
   "source": [
    "#在开发中，我们常常需要定义一些方法，这些方法跟类有关，但在实现时并不需要引用类或者实例，\n",
    "#例如，设置环境变量，修改另一个类的变量，等。这个时候，我们可以使用静态方法。 "
   ]
  },
  {
   "cell_type": "markdown",
   "metadata": {},
   "source": [
    "###### property"
   ]
  },
  {
   "cell_type": "markdown",
   "metadata": {},
   "source": [
    "注意只实现了property的属性是 read-only的"
   ]
  },
  {
   "cell_type": "code",
   "execution_count": 21,
   "metadata": {
    "ExecuteTime": {
     "end_time": "2019-07-08T06:43:14.911230Z",
     "start_time": "2019-07-08T06:43:14.905526Z"
    }
   },
   "outputs": [
    {
     "name": "stdout",
     "output_type": "stream",
     "text": [
      "a value\n",
      "没有实现setter方法.\n"
     ]
    }
   ],
   "source": [
    "class A(object):\n",
    "    @property\n",
    "    def a(self):\n",
    "        \"\"\"an important attribute\n",
    "        \"\"\"\n",
    "        return 'a value'\n",
    "\n",
    "print(A().a)\n",
    "\n",
    "try:\n",
    "    A().a = 3\n",
    "except AttributeError:\n",
    "    print('没有实现setter方法.')"
   ]
  },
  {
   "cell_type": "markdown",
   "metadata": {},
   "source": [
    "你可以实现setter方法, 让它可以被赋值"
   ]
  },
  {
   "cell_type": "code",
   "execution_count": 22,
   "metadata": {
    "ExecuteTime": {
     "end_time": "2019-07-08T06:43:26.059790Z",
     "start_time": "2019-07-08T06:43:26.055332Z"
    }
   },
   "outputs": [],
   "source": [
    "class Rectangle(object):\n",
    "    def __init__(self, edge):\n",
    "        self.edge = edge\n",
    "    @property\n",
    "    def area(self):\n",
    "        return self.edge **2\n",
    "    @area.setter\n",
    "    def area(self, area):\n",
    "        self.edge = area ** .5"
   ]
  },
  {
   "cell_type": "markdown",
   "metadata": {},
   "source": [
    "###### deprecation of function"
   ]
  },
  {
   "cell_type": "code",
   "execution_count": 29,
   "metadata": {
    "ExecuteTime": {
     "end_time": "2019-04-11T01:45:00.083336Z",
     "start_time": "2019-04-11T01:45:00.079383Z"
    }
   },
   "outputs": [],
   "source": [
    "#我们要在某个函数第一次调用时打出 deprecation警告\n",
    "class deprecated(object):\n",
    "    def __call__(self, func):\n",
    "        self.func = func\n",
    "        self.count = 0\n",
    "        return self._wrapper\n",
    "    def _wrapper(self, *args, **kwrags):\n",
    "        self.count += 1\n",
    "        if self.count == 1:\n",
    "            print(self.func.__name__, 'is deprecated')\n",
    "        return self.func(*args, **kwargs)    \n",
    "\n",
    "#你也可以用装饰器函数\n",
    "def deprecated(func):\n",
    "    count = [0]\n",
    "    def wrapper(*args, **kwargs):\n",
    "        count[0] += 1\n",
    "        if count[0] == 1:\n",
    "            print(func.__name__, 'is deprecated')\n",
    "        return func(*args, **kwargs)\n",
    "    return wrapper"
   ]
  },
  {
   "cell_type": "markdown",
   "metadata": {},
   "source": [
    "######  WHILE-loop removing decorator"
   ]
  },
  {
   "cell_type": "code",
   "execution_count": 23,
   "metadata": {
    "ExecuteTime": {
     "end_time": "2019-07-08T06:47:01.029455Z",
     "start_time": "2019-07-08T06:47:01.025253Z"
    }
   },
   "outputs": [],
   "source": [
    "#当然你也可以直接用 yield, 但是某些情况下 list(EXPR) 会比较丑\n",
    "def vectorized(gen_func):\n",
    "    \"\"\"\n",
    "    Parameters\n",
    "    ----------\n",
    "    gen_func: 生成器函数\n",
    "    \"\"\"\n",
    "    def wrapper(*args, **kwargs):\n",
    "        return list(gen_func(*args, **kwargs))\n",
    "    return update_wrapper(wrapper, gen_func)\n",
    "\n",
    "@vectorized\n",
    "def find_answers():\n",
    "    while True:\n",
    "        ans = look_for_next_answer()\n",
    "        if ans is None:\n",
    "            break\n",
    "        yield ans"
   ]
  },
  {
   "cell_type": "markdown",
   "metadata": {},
   "source": [
    "###### plugin registration system"
   ]
  },
  {
   "cell_type": "code",
   "execution_count": null,
   "metadata": {
    "ExecuteTime": {
     "end_time": "2019-07-08T06:48:04.456047Z",
     "start_time": "2019-07-08T06:48:04.450199Z"
    }
   },
   "outputs": [],
   "source": [
    "#WordProcessor装饰器类不会更改他装饰的类, 而是把他加到PLUGINS中去\n",
    "class WordProcessor(object):\n",
    "    PLUGINS = []\n",
    "    #process方法实例化PLUGINS中的类,然后执行他们\n",
    "    def process(self, text):\n",
    "        for plugin in self.PLUGINS:\n",
    "            text = plugin().cleanup(text)\n",
    "        return text\n",
    "    @classmethod\n",
    "    def plugin(cls, plugin):\n",
    "        cls.PLUGINS.append(plugin)\n",
    "\n",
    "@WordProcessor.plugin\n",
    "class CleanMdashesExtension(object):\n",
    "    def cleanup(self, text):\n",
    "        return text.replace('&mdash', u'\\N{em dash}')"
   ]
  },
  {
   "cell_type": "markdown",
   "metadata": {},
   "source": [
    "##### 摘自 https://wiki.python.org/moin/PythonDecoratorLibrary"
   ]
  },
  {
   "cell_type": "markdown",
   "metadata": {},
   "source": [
    "###### 不使用 @wraps来保持原始函数的信息"
   ]
  },
  {
   "cell_type": "code",
   "execution_count": 41,
   "metadata": {
    "ExecuteTime": {
     "end_time": "2019-07-08T07:17:19.616874Z",
     "start_time": "2019-07-08T07:17:19.604137Z"
    }
   },
   "outputs": [
    {
     "name": "stdout",
     "output_type": "stream",
     "text": [
      "装饰之前:\n",
      "add\n",
      "两数相加\n",
      "{}\n",
      "使用了 demo_logging_decorator:\n",
      "wrapper\n",
      "None\n",
      "{}\n",
      "使用了 better_demo_logging_decorator:\n",
      "add_with_log_v2\n",
      "两数相加\n",
      "{}\n"
     ]
    }
   ],
   "source": [
    "def simple_decorator(decorator):\n",
    "    \"\"\"\n",
    "    你的装饰器函数 `decorator`必须足够简单:\n",
    "    1. 接受一个函数, 返回一个函数\n",
    "    2. 不修改函数的属性和文档\n",
    "    \"\"\"\n",
    "    def new_decorator(f):\n",
    "        g = decorator(f)\n",
    "        g.__name__ = f.__name__\n",
    "        g.__doc__ = f.__doc__\n",
    "        g.__dict__.update(f.__dict__)\n",
    "        return g\n",
    "    # 下面要修改 new_decorator, 使得它和原装饰器函数一致\n",
    "    # print(new_decorator.__name__)\n",
    "    new_decorator.__name__ = decorator.__name__\n",
    "    # print(new_decorator.__name__)\n",
    "    new_decorator.__doc__ = decorator.__doc__\n",
    "    new_decorator.__dict__.update(decorator.__dict__)\n",
    "    return new_decorator\n",
    "\n",
    "def demo_logging_decorator(func):\n",
    "    def wrapper(*args, **kwargs):\n",
    "        print('calling {}'.format(func.__name__))\n",
    "        return func(*args, **kwargs)\n",
    "    return wrapper\n",
    "\n",
    "@simple_decorator\n",
    "def better_demo_logging_decorator(func):\n",
    "    def wrapper(*args, **kwargs):\n",
    "        print('calling {}'.format(func.__name__))\n",
    "        return func(*args, **kwargs)\n",
    "    return wrapper\n",
    "\n",
    "def add(x, y):\n",
    "    '两数相加'\n",
    "    return x + y\n",
    "\n",
    "@demo_logging_decorator\n",
    "def add_with_log(x, y):\n",
    "    '两数相加'\n",
    "    return x + y\n",
    "\n",
    "@better_demo_logging_decorator\n",
    "def add_with_log_v2(x, y):\n",
    "    '两数相加'\n",
    "    return x + y\n",
    "\n",
    "\n",
    "print('装饰之前:')\n",
    "print(add.__name__)\n",
    "print(add.__doc__)\n",
    "print(add.__dict__)\n",
    "print('使用了 demo_logging_decorator:')\n",
    "print(add_with_log.__name__)\n",
    "print(add_with_log.__doc__)\n",
    "print(add_with_log.__dict__)\n",
    "print('使用了 better_demo_logging_decorator:')\n",
    "print(add_with_log_v2.__name__)\n",
    "print(add_with_log_v2.__doc__)\n",
    "print(add_with_log_v2.__dict__)"
   ]
  },
  {
   "cell_type": "markdown",
   "metadata": {},
   "source": [
    "###### 利用装饰器定义属性"
   ]
  },
  {
   "cell_type": "code",
   "execution_count": 3,
   "metadata": {
    "ExecuteTime": {
     "end_time": "2019-07-17T12:20:14.177488Z",
     "start_time": "2019-07-17T12:20:14.173266Z"
    }
   },
   "outputs": [],
   "source": [
    "import sys\n",
    "def test(a, b):\n",
    "    #获取当前函数的局部变量\n",
    "    print(sys._getframe(0).f_locals)\n",
    "    #获取main的全部变量, 这里面包括:\n",
    "    #1. 导入的模块\n",
    "    #2. 用户定义的函数(def)\n",
    "    print(sys._getframe(1).f_locals.keys())\n",
    "\n",
    "\n",
    "# test(1, 3)"
   ]
  },
  {
   "cell_type": "code",
   "execution_count": 9,
   "metadata": {
    "ExecuteTime": {
     "end_time": "2019-07-18T13:18:26.991143Z",
     "start_time": "2019-07-18T13:18:26.983648Z"
    }
   },
   "outputs": [],
   "source": [
    "import sys\n",
    "\n",
    "\n",
    "def proget(func):\n",
    "    locals_ = sys._getframe(1).f_locals\n",
    "    print('\\nIn proget:')\n",
    "    print('locals: ', locals_)\n",
    "    name = func.__name__\n",
    "    prop = locals_.get(name)\n",
    "    print('before set property: ', prop)\n",
    "    if not isinstance(prop, property):\n",
    "        prop = property(fget=func, doc=func.__doc__)\n",
    "    else:\n",
    "        doc = prop.__doc__ or func.__doc__\n",
    "        prop = property(func, prop.fset, prop.fdel, doc)\n",
    "    print('after set property: ', prop)\n",
    "    return prop\n",
    "\n",
    "\n",
    "def propset(func):\n",
    "    locals_ = sys._getframe(1).f_locals\n",
    "    print('\\nIn proset:')\n",
    "    print('locals: ', locals_)\n",
    "    name = func.__name__\n",
    "    prop = locals_.get(name)\n",
    "    print('before set property: ', prop)\n",
    "    if not isinstance(prop, property):\n",
    "        prop = property(None, func, doc=func.__doc__)\n",
    "    else:\n",
    "        doc = prop.__doc__ or func.__doc__\n",
    "        prop = property(prop.fget, func, prop.fdel, doc)\n",
    "    print('after set property: ', prop)\n",
    "    return prop"
   ]
  },
  {
   "cell_type": "code",
   "execution_count": 10,
   "metadata": {
    "ExecuteTime": {
     "end_time": "2019-07-18T13:18:27.933497Z",
     "start_time": "2019-07-18T13:18:27.927595Z"
    }
   },
   "outputs": [
    {
     "name": "stdout",
     "output_type": "stream",
     "text": [
      "\n",
      "In proget:\n",
      "locals:  {'__module__': '__main__', '__qualname__': 'Example'}\n",
      "before set property:  None\n",
      "after set property:  <property object at 0x7f18d6dbaa48>\n",
      "\n",
      "In proset:\n",
      "locals:  {'__module__': '__main__', '__qualname__': 'Example', 'myattr': <property object at 0x7f18d6dbaa48>}\n",
      "before set property:  <property object at 0x7f18d6dbaa48>\n",
      "after set property:  <property object at 0x7f18d6dba4f8>\n"
     ]
    }
   ],
   "source": [
    "#This canbe used like this.\n",
    "\n",
    "class Example(object):\n",
    "    \n",
    "    @proget\n",
    "    def myattr(self):\n",
    "        return self._half * 2\n",
    "    \n",
    "    @propset\n",
    "    def myattr(self, value):\n",
    "        self._half = value / 2"
   ]
  },
  {
   "cell_type": "markdown",
   "metadata": {},
   "source": [
    "也可以不用生成器--灵活运用 locals()"
   ]
  },
  {
   "cell_type": "code",
   "execution_count": 11,
   "metadata": {
    "ExecuteTime": {
     "end_time": "2019-07-18T13:24:23.858104Z",
     "start_time": "2019-07-18T13:24:23.852570Z"
    }
   },
   "outputs": [],
   "source": [
    "class Example(object):\n",
    "    def myattr():\n",
    "        doc = \"\"\"This is  the doc string.\"\"\"     \n",
    "        def fget(self):\n",
    "            return self._half / 2\n",
    "        def fset(self, value):\n",
    "            self._half = value\n",
    "        def fdel(self):\n",
    "            del self._half\n",
    "        \n",
    "        return property(**locals())\n",
    "    myattr = myattr()\n",
    "        "
   ]
  },
  {
   "cell_type": "code",
   "execution_count": 12,
   "metadata": {
    "ExecuteTime": {
     "end_time": "2019-07-18T13:24:31.792909Z",
     "start_time": "2019-07-18T13:24:31.787455Z"
    }
   },
   "outputs": [
    {
     "data": {
      "text/plain": [
       "mappingproxy({'__module__': '__main__',\n",
       "              'myattr': <property at 0x7f18d7277ae8>,\n",
       "              '__dict__': <attribute '__dict__' of 'Example' objects>,\n",
       "              '__weakref__': <attribute '__weakref__' of 'Example' objects>,\n",
       "              '__doc__': None})"
      ]
     },
     "execution_count": 12,
     "metadata": {},
     "output_type": "execute_result"
    }
   ],
   "source": [
    "Example.__dict__"
   ]
  },
  {
   "cell_type": "markdown",
   "metadata": {},
   "source": [
    "另一个装饰器的实现"
   ]
  },
  {
   "cell_type": "code",
   "execution_count": null,
   "metadata": {},
   "outputs": [],
   "source": []
  },
  {
   "cell_type": "markdown",
   "metadata": {},
   "source": [
    "###### Memorize"
   ]
  },
  {
   "cell_type": "code",
   "execution_count": 19,
   "metadata": {
    "ExecuteTime": {
     "end_time": "2019-07-18T14:08:16.005332Z",
     "start_time": "2019-07-18T14:08:15.998245Z"
    }
   },
   "outputs": [],
   "source": [
    "import collections\n",
    "import functools\n",
    "\n",
    "class memorized(object):\n",
    "    \n",
    "    def __init__(self, func):\n",
    "        self.func = func\n",
    "        self.cache = {}\n",
    "    \n",
    "    def __call__(self, *args):\n",
    "        if not isinstance(args, collections.Hashable):\n",
    "            # uncacheable. a list, for instance\n",
    "            # better to not cache than blow up\n",
    "            return self.func(*args)\n",
    "        if args in self.cache:\n",
    "            print(f'{args} in cache.')\n",
    "            return self.cache[args]\n",
    "        else:\n",
    "            print(f'{args} cached.')\n",
    "            value = self.func(*args)\n",
    "            self.cache[args] = value\n",
    "            return value\n",
    "    \n",
    "    def __repr__(self):\n",
    "        \"\"\"Return the function's docstring\"\"\"\n",
    "        return self.func.__doc__\n",
    "    def __get__(self, instance, owner):\n",
    "        print('calling __get__.')\n",
    "        return functools.partial(self.__call__, instance)\n",
    "        "
   ]
  },
  {
   "cell_type": "code",
   "execution_count": 20,
   "metadata": {
    "ExecuteTime": {
     "end_time": "2019-07-18T14:08:17.144535Z",
     "start_time": "2019-07-18T14:08:17.140165Z"
    }
   },
   "outputs": [],
   "source": [
    "@memorized\n",
    "def fib(n):\n",
    "    if n in (0,1):\n",
    "        return n\n",
    "    return fib(n-1) + fib(n-2)"
   ]
  },
  {
   "cell_type": "code",
   "execution_count": 21,
   "metadata": {
    "ExecuteTime": {
     "end_time": "2019-07-18T14:08:18.390520Z",
     "start_time": "2019-07-18T14:08:18.384863Z"
    }
   },
   "outputs": [
    {
     "name": "stdout",
     "output_type": "stream",
     "text": [
      "(12,) cached.\n",
      "(11,) cached.\n",
      "(10,) cached.\n",
      "(9,) cached.\n",
      "(8,) cached.\n",
      "(7,) cached.\n",
      "(6,) cached.\n",
      "(5,) cached.\n",
      "(4,) cached.\n",
      "(3,) cached.\n",
      "(2,) cached.\n",
      "(1,) cached.\n",
      "(0,) cached.\n",
      "(1,) in cache.\n",
      "(2,) in cache.\n",
      "(3,) in cache.\n",
      "(4,) in cache.\n",
      "(5,) in cache.\n",
      "(6,) in cache.\n",
      "(7,) in cache.\n",
      "(8,) in cache.\n",
      "(9,) in cache.\n",
      "(10,) in cache.\n",
      "144\n"
     ]
    }
   ],
   "source": [
    "print(fib(12))"
   ]
  },
  {
   "cell_type": "markdown",
   "metadata": {},
   "source": [
    "###### Alternate memoize as nested functions"
   ]
  },
  {
   "cell_type": "code",
   "execution_count": 22,
   "metadata": {
    "ExecuteTime": {
     "end_time": "2019-07-18T14:12:25.804219Z",
     "start_time": "2019-07-18T14:12:25.799156Z"
    }
   },
   "outputs": [],
   "source": [
    "def memorized(obj):\n",
    "    cache = {}\n",
    "    obj.cache = {}\n",
    "    @functools.warps(obj)\n",
    "    def memorizer(*args, **kwargs):\n",
    "        key = str(args) + str(kwargs)\n",
    "        if key not in cache:\n",
    "            cache[key] = obj(*args, **kwargs)\n",
    "        return cache[key]\n",
    "    return memorizer"
   ]
  },
  {
   "cell_type": "markdown",
   "metadata": {},
   "source": [
    "###### Alternate memoize as dict subclass"
   ]
  },
  {
   "cell_type": "code",
   "execution_count": 23,
   "metadata": {
    "ExecuteTime": {
     "end_time": "2019-07-18T14:17:17.385699Z",
     "start_time": "2019-07-18T14:17:17.380783Z"
    }
   },
   "outputs": [],
   "source": [
    "class memorize(dict):\n",
    "    \"\"\"\n",
    "    memorize 继承了字典类\n",
    "    \"\"\"\n",
    "    def __init__(self, func):\n",
    "        self.func = func\n",
    "    def __call__(self, *args):\n",
    "        return self[args]\n",
    "    def __missing__(self, key):\n",
    "        result = self[key] = self.func(*key)\n",
    "        return result"
   ]
  },
  {
   "cell_type": "markdown",
   "metadata": {},
   "source": [
    "###### Alternate memoize that stores cache between executions"
   ]
  },
  {
   "cell_type": "code",
   "execution_count": 54,
   "metadata": {
    "ExecuteTime": {
     "end_time": "2019-07-19T12:43:10.567130Z",
     "start_time": "2019-07-19T12:43:10.561917Z"
    }
   },
   "outputs": [],
   "source": [
    "import sys\n",
    "import inspect\n",
    "def func(a, b):\n",
    "    \"\"\"\n",
    "    stack的最顶层, 即idx为零的元素, 储存了最近执行的那一行\n",
    "    \"\"\"\n",
    "    frame = inspect.stack()\n",
    "    # `frame = inspect.stack()`处的栈帧信息\n",
    "    print(frame[0])\n",
    "    print(sys._getframe(0))\n",
    "    # `def func(a, b)`处的栈帧信息\n",
    "    print(frame[1])\n",
    "    print(sys._getframe(1))\n",
    "    # func所在文件的栈帧信息\n",
    "    print(frame[-1].filename)"
   ]
  },
  {
   "cell_type": "code",
   "execution_count": 55,
   "metadata": {
    "ExecuteTime": {
     "end_time": "2019-07-19T12:43:11.011021Z",
     "start_time": "2019-07-19T12:43:11.003214Z"
    }
   },
   "outputs": [
    {
     "name": "stdout",
     "output_type": "stream",
     "text": [
      "FrameInfo(frame=<frame object at 0x5628ef5cd2a8>, filename='<ipython-input-54-44c4c4fe0a4f>', lineno=7, function='func', code_context=['    frame = inspect.stack()\\n'], index=0)\n",
      "<frame object at 0x5628ef5cd2a8>\n",
      "FrameInfo(frame=<frame object at 0x7fd914024008>, filename='<ipython-input-55-6be6889cd928>', lineno=1, function='<module>', code_context=['func(1, 3)\\n'], index=0)\n",
      "<frame object at 0x7fd914024008>\n",
      "/home/sprinter/miniconda3/envs/zzj/lib/python3.6/runpy.py\n"
     ]
    }
   ],
   "source": [
    "func(1, 3)"
   ]
  },
  {
   "cell_type": "code",
   "execution_count": 5,
   "metadata": {
    "ExecuteTime": {
     "end_time": "2019-07-24T12:42:31.948431Z",
     "start_time": "2019-07-24T12:42:31.936080Z"
    }
   },
   "outputs": [],
   "source": [
    "import pickle\n",
    "import collections\n",
    "import functools\n",
    "import inspect\n",
    "import os.path\n",
    "import re\n",
    "import unicodedata\n",
    "\n",
    "\n",
    "class Memorize(object):\n",
    "    def __init__(self, func):\n",
    "        self.func = func\n",
    "        self._set_parent_filename()\n",
    "        self.__name__ = self.func.__name__\n",
    "        self._set_cache_filename()\n",
    "        if self.cache_exists():\n",
    "            self.read_cache()\n",
    "            if not self.is_safe_cache():\n",
    "                self.cache = {}\n",
    "        else:\n",
    "            self.cache = {}\n",
    "    \n",
    "    def __call__(self, *args):\n",
    "        print('Call __call__ of Memorize.')\n",
    "        if not isinstance(args, collections.Hashable):\n",
    "            return self.func(*args)\n",
    "        if args in self.cache:\n",
    "            print('Find in cache.')\n",
    "            return self.cache[args]\n",
    "        else:\n",
    "            print('Update cache.')\n",
    "            value = self.func(*args)\n",
    "            self.cache[args] = value\n",
    "            self.save_cache()\n",
    "            return value\n",
    "\n",
    "    #在初始化的时候被调用\n",
    "    def _set_parent_filename(self):\n",
    "        \"\"\"Set `self.parent_file` to the absolute path\n",
    "        of the file containing the memorized function.\n",
    "        \"\"\"\n",
    "        def filename_from_path(filepath):\n",
    "            return filepath.split('/')[-1]\n",
    "        print('Setting parent filename.')\n",
    "        real_parent_file = inspect.stack()[-1].filename\n",
    "        print('real_parent_file is: ', real_parent_file)\n",
    "        self.parent_filepath = os.path.abspath(real_parent_file)\n",
    "        print('parent_filepath is: ', self.parent_filepath)\n",
    "        self.parent_filename = filename_from_path(real_parent_file)\n",
    "    \n",
    "    #在初始化的时候被调用\n",
    "    def _set_cache_filename(self):\n",
    "        \"\"\"Set self.cache_filename to an os-compliant\n",
    "        version of `file_function.cache`\n",
    "        \"\"\"\n",
    "        def slugfy(value):\n",
    "            \"\"\"Normalizes string, convert to lowercase, removes\n",
    "            non-alpha characters, and converts space to hyphens\n",
    "            \"\"\"\n",
    "            value = unicodedata.normalize('NFKD', value).encode('ascii', 'ignore')\n",
    "            value = re.sub(r'[^\\w\\s-]', '', value.decode('utf-8', 'ignore'))\n",
    "            value = value.strip().lower()\n",
    "            value = re.sub(r'[-\\s]+', '-', value)\n",
    "            return value\n",
    "        filename = slugfy(self.parent_filename.replace('.py', ''))\n",
    "        print('The filename is: ', filename)\n",
    "        funcname = slugfy(self.__name__)\n",
    "        self.cache_filename = filename + '_' + funcname + '.cache'\n",
    "        print('The file is in:', self.cache_filename)\n",
    "    \n",
    "    #在is_safe_cache里被调用\n",
    "    def get_last_update(self):\n",
    "        \"\"\"Return the time that the parent file was last \n",
    "        update\n",
    "        \"\"\"\n",
    "        #获取文件被更改的次数\n",
    "        last_update_time = os.path.getmtime(self.parent_filepath)\n",
    "        return last_update_time\n",
    "    \n",
    "    # 在初始化的时候被调用\n",
    "    def is_safe_cache(self):\n",
    "        \"\"\"Returns True if the file containing the memorized\n",
    "        function has not been updated since the cache was\n",
    "        last saved.\n",
    "        \"\"\"\n",
    "        if self.get_last_update() > self.timestamp:\n",
    "            return False\n",
    "        else:\n",
    "            return True\n",
    "    \n",
    "    # 在初始化的时候调用\n",
    "    def read_cache(self):\n",
    "        \"\"\"\n",
    "        Read a picked dictionary into self.timestamp and self.cache\n",
    "        \"\"\"\n",
    "        with open(self.cache_filename, 'rb') as f:\n",
    "            data = pickle.loads(f.read())\n",
    "            self.timestamp = data['timestamp']\n",
    "            self.cache = data['cache']\n",
    "    \n",
    "    # 在碰到没有出现过的参数的时候调用\n",
    "    def save_cache(self):\n",
    "        \"\"\"Pickle the file's timestamp and function's cache\n",
    "        in a dict object\n",
    "        \"\"\"\n",
    "        with open(self.cache_filename, 'wb+') as f:\n",
    "            out = dict()\n",
    "            out['timestamp'] = self.get_last_update()\n",
    "            out['cache'] = self.cache\n",
    "            f.write(pickle.dumps(out))\n",
    "    \n",
    "    # 在初始化的时候调用\n",
    "    def cache_exists(self):\n",
    "        \"\"\"Returns True if a matching cache exists in the current directory\n",
    "        \"\"\"\n",
    "        if os.path.isfile(self.cache_filename):\n",
    "            return True\n",
    "        return False\n",
    "    \n",
    "    def __repr__(self):\n",
    "        \"\"\"Return the function's docstring\n",
    "        \"\"\"\n",
    "        return self.func.__doc__\n",
    "    \n",
    "    def __get__(self, instance, owner):\n",
    "        \"\"\"Support instance methods\n",
    "        \"\"\"\n",
    "        return functools.partial(self.__call__, instance)\n",
    "\n",
    "            \n",
    "        "
   ]
  },
  {
   "cell_type": "code",
   "execution_count": 6,
   "metadata": {
    "ExecuteTime": {
     "end_time": "2019-07-24T12:42:32.923050Z",
     "start_time": "2019-07-24T12:42:32.914098Z"
    }
   },
   "outputs": [
    {
     "name": "stdout",
     "output_type": "stream",
     "text": [
      "Setting parent filename.\n",
      "real_parent_file is:  /home/sprinter/miniconda3/envs/zzj/lib/python3.6/runpy.py\n",
      "parent_filepath is:  /home/sprinter/miniconda3/envs/zzj/lib/python3.6/runpy.py\n",
      "The filename is:  runpy\n",
      "The file is in: runpy_f.cache\n"
     ]
    }
   ],
   "source": [
    "@Memorize\n",
    "def f(a, b):\n",
    "    return a+b"
   ]
  },
  {
   "cell_type": "code",
   "execution_count": 7,
   "metadata": {
    "ExecuteTime": {
     "end_time": "2019-07-24T12:42:38.245338Z",
     "start_time": "2019-07-24T12:42:38.231882Z"
    }
   },
   "outputs": [
    {
     "name": "stdout",
     "output_type": "stream",
     "text": [
      "Call __call__ of Memorize.\n",
      "Update cache.\n"
     ]
    },
    {
     "data": {
      "text/plain": [
       "3"
      ]
     },
     "execution_count": 7,
     "metadata": {},
     "output_type": "execute_result"
    }
   ],
   "source": [
    "f(1, 2)"
   ]
  },
  {
   "cell_type": "code",
   "execution_count": 8,
   "metadata": {
    "ExecuteTime": {
     "end_time": "2019-07-24T12:42:49.606480Z",
     "start_time": "2019-07-24T12:42:49.596386Z"
    }
   },
   "outputs": [
    {
     "name": "stdout",
     "output_type": "stream",
     "text": [
      "Call __call__ of Memorize.\n",
      "Update cache.\n"
     ]
    },
    {
     "data": {
      "text/plain": [
       "6"
      ]
     },
     "execution_count": 8,
     "metadata": {},
     "output_type": "execute_result"
    }
   ],
   "source": [
    "f(2, 4)"
   ]
  },
  {
   "cell_type": "code",
   "execution_count": 9,
   "metadata": {
    "ExecuteTime": {
     "end_time": "2019-07-24T12:43:01.065878Z",
     "start_time": "2019-07-24T12:43:01.060398Z"
    }
   },
   "outputs": [
    {
     "name": "stdout",
     "output_type": "stream",
     "text": [
      "Call __call__ of Memorize.\n",
      "Find in cache.\n"
     ]
    },
    {
     "data": {
      "text/plain": [
       "3"
      ]
     },
     "execution_count": 9,
     "metadata": {},
     "output_type": "execute_result"
    }
   ],
   "source": [
    "f(1, 2)"
   ]
  },
  {
   "cell_type": "markdown",
   "metadata": {},
   "source": [
    "###### Cached Properties"
   ]
  },
  {
   "cell_type": "code",
   "execution_count": 26,
   "metadata": {
    "ExecuteTime": {
     "end_time": "2019-07-24T13:22:34.730062Z",
     "start_time": "2019-07-24T13:22:34.722961Z"
    }
   },
   "outputs": [],
   "source": [
    "import time\n",
    "import random\n",
    "\n",
    "class cached_property(object):\n",
    "    \"\"\"Decorator for read-only `properties` evaluated only once within TTL period.\n",
    "    \"\"\"\n",
    "    def __init__(self, ttl=300):\n",
    "        self.ttl = ttl\n",
    "\n",
    "    #在定义 property.get的时候调用\n",
    "    def __call__(self, func, doc=None):\n",
    "        print('Call __call__.')\n",
    "        self.func = func\n",
    "        print(type(func))\n",
    "        self.__doc__ = doc or func.__doc__\n",
    "        self.__name__ = func.__name__\n",
    "        self.__module__ = func.__module__\n",
    "        return self\n",
    "    \n",
    "    def __get__(self, instance, owner):\n",
    "        now = time.time()\n",
    "        try:\n",
    "            value, last_update = instance._cache[self.__name__]\n",
    "            if self.ttl > 0 and now - last_update > self.ttl: #recache\n",
    "                print('Need recache.')\n",
    "                raise AttributeError\n",
    "        except (KeyError, AttributeError):\n",
    "            value = self.func(instance) #调用实例的方法\n",
    "            try:\n",
    "                cache = instance._cache\n",
    "            except AttributeError:\n",
    "                cache = instance._cache = {}\n",
    "            cache[self.__name__] = (value, now)\n",
    "        return value\n",
    "                "
   ]
  },
  {
   "cell_type": "code",
   "execution_count": 27,
   "metadata": {
    "ExecuteTime": {
     "end_time": "2019-07-24T13:22:35.460139Z",
     "start_time": "2019-07-24T13:22:35.454841Z"
    }
   },
   "outputs": [
    {
     "name": "stdout",
     "output_type": "stream",
     "text": [
      "Call __call__.\n",
      "<class 'function'>\n"
     ]
    }
   ],
   "source": [
    "class MyClass(object):\n",
    "    # create property whose value is cached for ten minutes\n",
    "    @cached_property(ttl=600)\n",
    "    def randint(self):\n",
    "        # will only be evaluated every 10 min. at maximum.\n",
    "        return random.randint(0, 100)"
   ]
  },
  {
   "cell_type": "code",
   "execution_count": 28,
   "metadata": {
    "ExecuteTime": {
     "end_time": "2019-07-24T13:22:36.366301Z",
     "start_time": "2019-07-24T13:22:36.361133Z"
    }
   },
   "outputs": [
    {
     "data": {
      "text/plain": [
       "95"
      ]
     },
     "execution_count": 28,
     "metadata": {},
     "output_type": "execute_result"
    }
   ],
   "source": [
    "a = MyClass()\n",
    "a.randint"
   ]
  },
  {
   "cell_type": "markdown",
   "metadata": {},
   "source": [
    "###### Retry"
   ]
  },
  {
   "cell_type": "code",
   "execution_count": 29,
   "metadata": {
    "ExecuteTime": {
     "end_time": "2019-07-24T13:24:31.580890Z",
     "start_time": "2019-07-24T13:24:31.576752Z"
    }
   },
   "outputs": [],
   "source": [
    "import time \n",
    "import math"
   ]
  },
  {
   "cell_type": "code",
   "execution_count": null,
   "metadata": {},
   "outputs": [],
   "source": []
  }
 ],
 "metadata": {
  "kernelspec": {
   "display_name": "Python 3",
   "language": "python",
   "name": "python3"
  },
  "language_info": {
   "codemirror_mode": {
    "name": "ipython",
    "version": 3
   },
   "file_extension": ".py",
   "mimetype": "text/x-python",
   "name": "python",
   "nbconvert_exporter": "python",
   "pygments_lexer": "ipython3",
   "version": "3.6.8"
  },
  "toc": {
   "base_numbering": 1,
   "nav_menu": {},
   "number_sections": true,
   "sideBar": true,
   "skip_h1_title": true,
   "title_cell": "Table of Contents",
   "title_sidebar": "Contents",
   "toc_cell": true,
   "toc_position": {
    "height": "calc(100% - 180px)",
    "left": "10px",
    "top": "150px",
    "width": "240px"
   },
   "toc_section_display": true,
   "toc_window_display": false
  }
 },
 "nbformat": 4,
 "nbformat_minor": 2
}
