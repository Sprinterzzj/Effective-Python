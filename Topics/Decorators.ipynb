{
 "cells": [
  {
   "cell_type": "markdown",
   "metadata": {
    "toc": true
   },
   "source": [
    "<h1>Table of Contents<span class=\"tocSkip\"></span></h1>\n",
    "<div class=\"toc\"><ul class=\"toc-item\"><li><span><a href=\"#装饰器函数与装饰器类\" data-toc-modified-id=\"装饰器函数与装饰器类-1\"><span class=\"toc-item-num\">1&nbsp;&nbsp;</span>装饰器函数与装饰器类</a></span><ul class=\"toc-item\"><li><span><a href=\"#装饰器函数\" data-toc-modified-id=\"装饰器函数-1.1\"><span class=\"toc-item-num\">1.1&nbsp;&nbsp;</span>装饰器函数</a></span></li><li><span><a href=\"#装饰器类\" data-toc-modified-id=\"装饰器类-1.2\"><span class=\"toc-item-num\">1.2&nbsp;&nbsp;</span>装饰器类</a></span></li></ul></li><li><span><a href=\"#使用装饰器的例子\" data-toc-modified-id=\"使用装饰器的例子-2\"><span class=\"toc-item-num\">2&nbsp;&nbsp;</span>使用装饰器的例子</a></span><ul class=\"toc-item\"><li><span><a href=\"#classmethod\" data-toc-modified-id=\"classmethod-2.1\"><span class=\"toc-item-num\">2.1&nbsp;&nbsp;</span>classmethod</a></span></li><li><span><a href=\"#staticmethod\" data-toc-modified-id=\"staticmethod-2.2\"><span class=\"toc-item-num\">2.2&nbsp;&nbsp;</span>staticmethod</a></span></li><li><span><a href=\"#property\" data-toc-modified-id=\"property-2.3\"><span class=\"toc-item-num\">2.3&nbsp;&nbsp;</span>property</a></span></li><li><span><a href=\"#deprecation-of-function\" data-toc-modified-id=\"deprecation-of-function-2.4\"><span class=\"toc-item-num\">2.4&nbsp;&nbsp;</span>deprecation of function</a></span></li><li><span><a href=\"#WHILE-loop-removing-decorator\" data-toc-modified-id=\"WHILE-loop-removing-decorator-2.5\"><span class=\"toc-item-num\">2.5&nbsp;&nbsp;</span>WHILE-loop removing decorator</a></span></li><li><span><a href=\"#plugin-registration-system\" data-toc-modified-id=\"plugin-registration-system-2.6\"><span class=\"toc-item-num\">2.6&nbsp;&nbsp;</span>plugin registration system</a></span></li></ul></li><li><span><a href=\"#摘自-https://wiki.python.org/moin/PythonDecoratorLibrary\" data-toc-modified-id=\"摘自-https://wiki.python.org/moin/PythonDecoratorLibrary-3\"><span class=\"toc-item-num\">3&nbsp;&nbsp;</span>摘自 <a href=\"https://wiki.python.org/moin/PythonDecoratorLibrary\" target=\"_blank\">https://wiki.python.org/moin/PythonDecoratorLibrary</a></a></span><ul class=\"toc-item\"><li><span><a href=\"#不使用-@wraps来保持原始函数的信息\" data-toc-modified-id=\"不使用-@wraps来保持原始函数的信息-3.1\"><span class=\"toc-item-num\">3.1&nbsp;&nbsp;</span>不使用 @wraps来保持原始函数的信息</a></span></li><li><span><a href=\"#利用装饰器定义属性\" data-toc-modified-id=\"利用装饰器定义属性-3.2\"><span class=\"toc-item-num\">3.2&nbsp;&nbsp;</span>利用装饰器定义属性</a></span></li><li><span><a href=\"#Memorize\" data-toc-modified-id=\"Memorize-3.3\"><span class=\"toc-item-num\">3.3&nbsp;&nbsp;</span>Memorize</a></span></li><li><span><a href=\"#Alternate-memoize-as-nested-functions\" data-toc-modified-id=\"Alternate-memoize-as-nested-functions-3.4\"><span class=\"toc-item-num\">3.4&nbsp;&nbsp;</span>Alternate memoize as nested functions</a></span></li><li><span><a href=\"#Alternate-memoize-as-dict-subclass\" data-toc-modified-id=\"Alternate-memoize-as-dict-subclass-3.5\"><span class=\"toc-item-num\">3.5&nbsp;&nbsp;</span>Alternate memoize as dict subclass</a></span></li><li><span><a href=\"#Alternate-memoize-that-stores-cache-between-executions\" data-toc-modified-id=\"Alternate-memoize-that-stores-cache-between-executions-3.6\"><span class=\"toc-item-num\">3.6&nbsp;&nbsp;</span>Alternate memoize that stores cache between executions</a></span></li><li><span><a href=\"#Cached-Properties\" data-toc-modified-id=\"Cached-Properties-3.7\"><span class=\"toc-item-num\">3.7&nbsp;&nbsp;</span>Cached Properties</a></span></li><li><span><a href=\"#Retry\" data-toc-modified-id=\"Retry-3.8\"><span class=\"toc-item-num\">3.8&nbsp;&nbsp;</span>Retry</a></span></li><li><span><a href=\"#Pseudo-curring\" data-toc-modified-id=\"Pseudo-curring-3.9\"><span class=\"toc-item-num\">3.9&nbsp;&nbsp;</span>Pseudo-curring</a></span></li><li><span><a href=\"#Creating-decorator-with-optional-argument\" data-toc-modified-id=\"Creating-decorator-with-optional-argument-3.10\"><span class=\"toc-item-num\">3.10&nbsp;&nbsp;</span>Creating decorator with optional argument</a></span></li><li><span><a href=\"#Controllable-DIY-debug\" data-toc-modified-id=\"Controllable-DIY-debug-3.11\"><span class=\"toc-item-num\">3.11&nbsp;&nbsp;</span>Controllable DIY debug</a></span></li><li><span><a href=\"#Easy-adding-methods-to-a-class-instance\" data-toc-modified-id=\"Easy-adding-methods-to-a-class-instance-3.12\"><span class=\"toc-item-num\">3.12&nbsp;&nbsp;</span>Easy adding methods to a class instance</a></span></li><li><span><a href=\"#Counting-function-calls\" data-toc-modified-id=\"Counting-function-calls-3.13\"><span class=\"toc-item-num\">3.13&nbsp;&nbsp;</span>Counting function calls</a></span></li><li><span><a href=\"#Alternate-counting-function-calls\" data-toc-modified-id=\"Alternate-counting-function-calls-3.14\"><span class=\"toc-item-num\">3.14&nbsp;&nbsp;</span>Alternate counting function calls</a></span></li><li><span><a href=\"#Generating-Deprecation-Warnings\" data-toc-modified-id=\"Generating-Deprecation-Warnings-3.15\"><span class=\"toc-item-num\">3.15&nbsp;&nbsp;</span>Generating Deprecation Warnings</a></span></li><li><span><a href=\"#Smart-deprecation-warnings(with-valid-filenames,-line-number,-etc)\" data-toc-modified-id=\"Smart-deprecation-warnings(with-valid-filenames,-line-number,-etc)-3.16\"><span class=\"toc-item-num\">3.16&nbsp;&nbsp;</span>Smart deprecation warnings(with valid filenames, line number, etc)</a></span></li><li><span><a href=\"#Ignoring-Deprecation-Warning\" data-toc-modified-id=\"Ignoring-Deprecation-Warning-3.17\"><span class=\"toc-item-num\">3.17&nbsp;&nbsp;</span>Ignoring Deprecation Warning</a></span></li><li><span><a href=\"#Enable/Disable-Decorators\" data-toc-modified-id=\"Enable/Disable-Decorators-3.18\"><span class=\"toc-item-num\">3.18&nbsp;&nbsp;</span>Enable/Disable Decorators</a></span></li><li><span><a href=\"#Easy-Dump-of-Function-Arguments\" data-toc-modified-id=\"Easy-Dump-of-Function-Arguments-3.19\"><span class=\"toc-item-num\">3.19&nbsp;&nbsp;</span>Easy Dump of Function Arguments</a></span></li><li><span><a href=\"#Pre-/Post--Conditions\" data-toc-modified-id=\"Pre-/Post--Conditions-3.20\"><span class=\"toc-item-num\">3.20&nbsp;&nbsp;</span>Pre-/Post- Conditions</a></span></li><li><span><a href=\"#Profiling/Coverage-Analysis\" data-toc-modified-id=\"Profiling/Coverage-Analysis-3.21\"><span class=\"toc-item-num\">3.21&nbsp;&nbsp;</span>Profiling/Coverage Analysis</a></span></li><li><span><a href=\"#Line-Tracing-Individual-Functions\" data-toc-modified-id=\"Line-Tracing-Individual-Functions-3.22\"><span class=\"toc-item-num\">3.22&nbsp;&nbsp;</span>Line Tracing Individual Functions</a></span></li><li><span><a href=\"#Synchronization\" data-toc-modified-id=\"Synchronization-3.23\"><span class=\"toc-item-num\">3.23&nbsp;&nbsp;</span>Synchronization</a></span></li><li><span><a href=\"#Type-Enforcement-(accepts/returns)\" data-toc-modified-id=\"Type-Enforcement-(accepts/returns)-3.24\"><span class=\"toc-item-num\">3.24&nbsp;&nbsp;</span>Type Enforcement (accepts/returns)</a></span></li><li><span><a href=\"#CGI-method-wrapper(略)\" data-toc-modified-id=\"CGI-method-wrapper(略)-3.25\"><span class=\"toc-item-num\">3.25&nbsp;&nbsp;</span>CGI method wrapper(略)</a></span></li><li><span><a href=\"#State-Machine-Implementation\" data-toc-modified-id=\"State-Machine-Implementation-3.26\"><span class=\"toc-item-num\">3.26&nbsp;&nbsp;</span>State Machine Implementation</a></span></li><li><span><a href=\"#27.-C++/Java-keyword-like-function-decorators(略)\" data-toc-modified-id=\"27.-C++/Java-keyword-like-function-decorators(略)-3.27\"><span class=\"toc-item-num\">3.27&nbsp;&nbsp;</span>27. C++/Java-keyword-like function decorators(略)</a></span></li><li><span><a href=\"#28.-Different-Decorator-Forms\" data-toc-modified-id=\"28.-Different-Decorator-Forms-3.28\"><span class=\"toc-item-num\">3.28&nbsp;&nbsp;</span>28. Different Decorator Forms</a></span></li><li><span><a href=\"#29.Unimplemented-function-replacement(略)\" data-toc-modified-id=\"29.Unimplemented-function-replacement(略)-3.29\"><span class=\"toc-item-num\">3.29&nbsp;&nbsp;</span>29.Unimplemented function replacement(略)</a></span></li><li><span><a href=\"#30.-Redirects-stdout-printing-to-python-standard-logging\" data-toc-modified-id=\"30.-Redirects-stdout-printing-to-python-standard-logging-3.30\"><span class=\"toc-item-num\">3.30&nbsp;&nbsp;</span>30. Redirects stdout printing to python standard logging</a></span></li><li><span><a href=\"#31.-Access-Control\" data-toc-modified-id=\"31.-Access-Control-3.31\"><span class=\"toc-item-num\">3.31&nbsp;&nbsp;</span>31. Access Control</a></span></li><li><span><a href=\"#32.-Events-rising-and-handling(略)\" data-toc-modified-id=\"32.-Events-rising-and-handling(略)-3.32\"><span class=\"toc-item-num\">3.32&nbsp;&nbsp;</span>32. Events rising and handling(略)</a></span></li><li><span><a href=\"#33.-Singleton\" data-toc-modified-id=\"33.-Singleton-3.33\"><span class=\"toc-item-num\">3.33&nbsp;&nbsp;</span>33. Singleton</a></span></li><li><span><a href=\"#34.-Asynchronous-Call\" data-toc-modified-id=\"34.-Asynchronous-Call-3.34\"><span class=\"toc-item-num\">3.34&nbsp;&nbsp;</span>34. Asynchronous Call</a></span></li><li><span><a href=\"#35.-Class-method-decorator-using-instance\" data-toc-modified-id=\"35.-Class-method-decorator-using-instance-3.35\"><span class=\"toc-item-num\">3.35&nbsp;&nbsp;</span>35. Class method decorator using instance</a></span></li></ul></li></ul></div>"
   ]
  },
  {
   "cell_type": "markdown",
   "metadata": {},
   "source": [
    "##### 装饰器函数与装饰器类\n",
    "###### 装饰器函数"
   ]
  },
  {
   "cell_type": "markdown",
   "metadata": {},
   "source": [
    "简单装饰器, 返回原来的函数"
   ]
  },
  {
   "cell_type": "code",
   "execution_count": 2,
   "metadata": {
    "ExecuteTime": {
     "end_time": "2019-07-08T06:27:24.483762Z",
     "start_time": "2019-07-08T06:27:24.478484Z"
    }
   },
   "outputs": [
    {
     "name": "stdout",
     "output_type": "stream",
     "text": [
      "Doing decoration\n"
     ]
    }
   ],
   "source": [
    "def simple_decorator(func):\n",
    "    print('Doing decoration')\n",
    "    return func\n",
    "\n",
    "#装饰器在定义函数的时候就\n",
    "#已经执行了, 因此可以被用来\n",
    "#在内部函数执行前后做一些\n",
    "#额外的工作\n",
    "@simple_decorator\n",
    "def func():\n",
    "    print('Inside function.')"
   ]
  },
  {
   "cell_type": "markdown",
   "metadata": {},
   "source": [
    "带参数的装饰器, 返回原来的函数"
   ]
  },
  {
   "cell_type": "code",
   "execution_count": 3,
   "metadata": {
    "ExecuteTime": {
     "end_time": "2019-07-08T06:27:40.004461Z",
     "start_time": "2019-07-08T06:27:40.000335Z"
    }
   },
   "outputs": [],
   "source": [
    "def decorator_with_args(arg):\n",
    "    print('defining the decorator.')\n",
    "    def _decorator(func):\n",
    "        #内部函数中 args仍然可见\n",
    "        print('doing decoration, %r' % arg)\n",
    "        return func\n",
    "    return _decorator\n",
    "\n",
    "@decorator_with_args('abc')\n",
    "def func():\n",
    "    print('Inside function.')"
   ]
  },
  {
   "cell_type": "markdown",
   "metadata": {},
   "source": [
    "简单装饰器, 返回新的函数 _wrapper"
   ]
  },
  {
   "cell_type": "code",
   "execution_count": 47,
   "metadata": {},
   "outputs": [],
   "source": [
    "\n",
    "def simple_decorator(func):\n",
    "    print('Defining the decorator.')\n",
    "    def _wrapper(*args, **kwargs):\n",
    "        print(\"Inside wrapper, %r %r\" % (args, kwargs))\n",
    "        return func(*args, **kwargs)\n",
    "    return _wrapper        \n",
    "\n",
    "@simple_decorator\n",
    "def func(*args, **kwargs):\n",
    "    print('Inside function, %r %r' % (args, kwargs))\n",
    "    return 14"
   ]
  },
  {
   "cell_type": "markdown",
   "metadata": {},
   "source": [
    "带参数的装饰器, 返回新的函数 \\_wrapper"
   ]
  },
  {
   "cell_type": "code",
   "execution_count": 4,
   "metadata": {
    "ExecuteTime": {
     "end_time": "2019-07-08T06:28:17.988932Z",
     "start_time": "2019-07-08T06:28:17.984106Z"
    }
   },
   "outputs": [],
   "source": [
    "def decorator_with_args(arg):\n",
    "    print('Defining the decorator.')\n",
    "    def _decorator(func):\n",
    "        print(\"Doing decoration, %r\" % arg)\n",
    "        def _wrapper(*args, **kwargs):\n",
    "            print(\"Inside wrapper, %r %r\" % (args, kwargs))\n",
    "            return func(*args, **kwargs)\n",
    "        print(\"Finish decoration, %r\" % arg)\n",
    "        return _wrapper\n",
    "    print('Finish the decorator.')\n",
    "    return _decorator\n",
    "\n",
    "@decorator_with_args('abc')\n",
    "def func(*args, **kwargs):\n",
    "    print('Inside function, %r %r' % (args, kwargs))\n",
    "    return 14"
   ]
  },
  {
   "cell_type": "markdown",
   "metadata": {},
   "source": [
    "###### 装饰器类"
   ]
  },
  {
   "cell_type": "markdown",
   "metadata": {},
   "source": [
    "返回原始函数的装饰器类"
   ]
  },
  {
   "cell_type": "code",
   "execution_count": 5,
   "metadata": {
    "ExecuteTime": {
     "end_time": "2019-07-08T06:30:38.576112Z",
     "start_time": "2019-07-08T06:30:38.570170Z"
    }
   },
   "outputs": [
    {
     "name": "stdout",
     "output_type": "stream",
     "text": [
      "In decorator init, foo\n",
      "In decorator call, foo\n"
     ]
    }
   ],
   "source": [
    "class decorator_class(object):\n",
    "    def __init__(self, arg):\n",
    "        print(\"In decorator init, %s\"% arg)\n",
    "        self.arg = arg\n",
    "    def __call__(self, func):\n",
    "        print('In decorator call, %s' % self.arg)\n",
    "        return func\n",
    "\n",
    "deco_instance = decorator_class(arg = 'foo')\n",
    "@deco_instance\n",
    "def function(*args, **kwargs):\n",
    "    print('In function, %s %s' % (args, kwargs))"
   ]
  },
  {
   "cell_type": "markdown",
   "metadata": {},
   "source": [
    "**返回新对象的装饰器类**"
   ]
  },
  {
   "cell_type": "code",
   "execution_count": 8,
   "metadata": {
    "ExecuteTime": {
     "end_time": "2019-07-08T06:32:30.229667Z",
     "start_time": "2019-07-08T06:32:30.221895Z"
    }
   },
   "outputs": [
    {
     "name": "stdout",
     "output_type": "stream",
     "text": [
      "In decorator init, foo\n",
      "In decorator call, foo\n",
      "In the wrapper, (0, 1) {'a': 3}\n",
      "In function, (0, 1) {'a': 3}\n"
     ]
    }
   ],
   "source": [
    "class replacing_decorator_class(object):\n",
    "    def __init__(self, arg):\n",
    "        print('In decorator init, %s' % arg)\n",
    "        self.arg = arg\n",
    "    def __call__(self, func):\n",
    "        print('In decorator call, %s' % self.arg)\n",
    "        self.func = func\n",
    "        return self._wrapper\n",
    "    def _wrapper(self, *args, **kwargs):\n",
    "        print('In the wrapper, %s %s' % (args, kwargs))\n",
    "        return self.func(*args, **kwargs)\n",
    "\n",
    "#初始化函数在类的实例化时运行\n",
    "deco_instance = replacing_decorator_class(arg = 'foo')\n",
    "\n",
    "#__call__函数在装饰器装配时运行,\n",
    "#同时初始化func成员\n",
    "#然后返回wrapper, 一个新的对象。\n",
    "@deco_instance\n",
    "def func(*args, **kwargs):\n",
    "    print('In function, %s %s' % (args, kwargs))\n",
    "\n",
    "#在wrapper方法中运行func\n",
    "func(0,1, a = 3)"
   ]
  },
  {
   "cell_type": "markdown",
   "metadata": {
    "ExecuteTime": {
     "end_time": "2019-04-11T01:07:06.436254Z",
     "start_time": "2019-04-11T01:07:06.434205Z"
    }
   },
   "source": [
    "注意上面的 replacing_decorator_class 会返回 \\_wrapper成员.<br>\n",
    "这么做的一个弊端是: 原始函数 func的名字, doc, 参数列表全部丢失.<br>\n",
    "**解决方案: functools.update_wrapper 或 functools.wraps**"
   ]
  },
  {
   "cell_type": "code",
   "execution_count": 14,
   "metadata": {
    "ExecuteTime": {
     "end_time": "2019-07-08T06:38:17.355589Z",
     "start_time": "2019-07-08T06:38:17.339943Z"
    }
   },
   "outputs": [
    {
     "name": "stdout",
     "output_type": "stream",
     "text": [
      "defining the decorator\n",
      "doing decoration, 'abc'\n",
      "function \n",
      "    extensive documentation\n",
      "    \n"
     ]
    },
    {
     "data": {
      "text/plain": [
       "('args', 'kwargs')"
      ]
     },
     "execution_count": 14,
     "metadata": {},
     "output_type": "execute_result"
    }
   ],
   "source": [
    "from functools import update_wrapper, wraps\n",
    "#functools.update_wrapper\n",
    "def replacing_decorator_with_args(arg):\n",
    "    print('defining the decorator')\n",
    "    def _decorator(function):\n",
    "        print('doing decoration, %r' % arg)\n",
    "        def _wrapper(*args, **kwargs):\n",
    "            print('inside wrapper, %r %r' % (args, kwargs))\n",
    "            return function(*args, **kwargs)\n",
    "        return update_wrapper(_wrapper, function)\n",
    "    return  _decorator\n",
    "\n",
    "@replacing_decorator_with_args('abc')\n",
    "def function(a = 13):\n",
    "    \"\"\"\n",
    "    extensive documentation\n",
    "    \"\"\"\n",
    "    print('inside function')\n",
    "    return 14\n",
    "\n",
    "#原始函数的名字和doc都可以拷贝过来\n",
    "print(function.__name__, function.__doc__)\n",
    "\n",
    "#但是参数列表依然无法copy\n",
    "function.__code__.co_varnames"
   ]
  },
  {
   "cell_type": "code",
   "execution_count": 16,
   "metadata": {
    "ExecuteTime": {
     "end_time": "2019-07-08T06:39:08.567050Z",
     "start_time": "2019-07-08T06:39:08.558143Z"
    }
   },
   "outputs": [
    {
     "name": "stdout",
     "output_type": "stream",
     "text": [
      "defining the decorator\n",
      "doing decoration, 'abc'\n",
      "function \n",
      "    extensive documentation\n",
      "    \n"
     ]
    },
    {
     "data": {
      "text/plain": [
       "('args', 'kwargs')"
      ]
     },
     "execution_count": 16,
     "metadata": {},
     "output_type": "execute_result"
    }
   ],
   "source": [
    "#functools.wraps\n",
    "def replacing_decorator_with_args(arg):\n",
    "    print('defining the decorator')\n",
    "    def _decorator(function):\n",
    "        print('doing decoration, %r' % arg)\n",
    "        @wraps(function)\n",
    "        def _wrapper(*args, **kwargs):\n",
    "            print('inside wrapper, %r %r' % (args, kwargs))\n",
    "            return function(*args, **kwargs)\n",
    "        return _wrapper\n",
    "    return  _decorator\n",
    "\n",
    "@replacing_decorator_with_args('abc')\n",
    "def function(a = 13):\n",
    "    \"\"\"\n",
    "    extensive documentation\n",
    "    \"\"\"\n",
    "    print('inside function')\n",
    "    return 14\n",
    "\n",
    "#原始函数的名字和doc都可以拷贝过来\n",
    "print(function.__name__, function.__doc__)\n",
    "\n",
    "#同上, 参数列表无法被copy\n",
    "function.__code__.co_varnames"
   ]
  },
  {
   "cell_type": "markdown",
   "metadata": {},
   "source": [
    "##### 使用装饰器的例子"
   ]
  },
  {
   "cell_type": "markdown",
   "metadata": {},
   "source": [
    "###### classmethod"
   ]
  },
  {
   "cell_type": "code",
   "execution_count": 17,
   "metadata": {
    "ExecuteTime": {
     "end_time": "2019-07-08T06:40:39.188663Z",
     "start_time": "2019-07-08T06:40:38.081658Z"
    }
   },
   "outputs": [],
   "source": [
    "import numpy as np\n",
    "class Array(object):\n",
    "    def __init__(self, data):\n",
    "        self.data = data\n",
    "    \n",
    "    #classmethod作为工厂方法, 创建类的实例\n",
    "    @classmethod\n",
    "    def fromfile(cls, file):\n",
    "        data = np.load(file)\n",
    "        return cls(data)"
   ]
  },
  {
   "cell_type": "markdown",
   "metadata": {},
   "source": [
    "###### staticmethod"
   ]
  },
  {
   "cell_type": "code",
   "execution_count": 23,
   "metadata": {
    "ExecuteTime": {
     "end_time": "2019-04-11T01:20:54.328139Z",
     "start_time": "2019-04-11T01:20:54.325735Z"
    }
   },
   "outputs": [],
   "source": [
    "#在开发中，我们常常需要定义一些方法，这些方法跟类有关，但在实现时并不需要引用类或者实例，\n",
    "#例如，设置环境变量，修改另一个类的变量，等。这个时候，我们可以使用静态方法。 "
   ]
  },
  {
   "cell_type": "markdown",
   "metadata": {},
   "source": [
    "###### property"
   ]
  },
  {
   "cell_type": "markdown",
   "metadata": {},
   "source": [
    "注意只实现了property的属性是 read-only的"
   ]
  },
  {
   "cell_type": "code",
   "execution_count": 21,
   "metadata": {
    "ExecuteTime": {
     "end_time": "2019-07-08T06:43:14.911230Z",
     "start_time": "2019-07-08T06:43:14.905526Z"
    }
   },
   "outputs": [
    {
     "name": "stdout",
     "output_type": "stream",
     "text": [
      "a value\n",
      "没有实现setter方法.\n"
     ]
    }
   ],
   "source": [
    "class A(object):\n",
    "    @property\n",
    "    def a(self):\n",
    "        \"\"\"an important attribute\n",
    "        \"\"\"\n",
    "        return 'a value'\n",
    "\n",
    "print(A().a)\n",
    "\n",
    "try:\n",
    "    A().a = 3\n",
    "except AttributeError:\n",
    "    print('没有实现setter方法.')"
   ]
  },
  {
   "cell_type": "markdown",
   "metadata": {},
   "source": [
    "你可以实现setter方法, 让它可以被赋值"
   ]
  },
  {
   "cell_type": "code",
   "execution_count": 22,
   "metadata": {
    "ExecuteTime": {
     "end_time": "2019-07-08T06:43:26.059790Z",
     "start_time": "2019-07-08T06:43:26.055332Z"
    }
   },
   "outputs": [],
   "source": [
    "class Rectangle(object):\n",
    "    def __init__(self, edge):\n",
    "        self.edge = edge\n",
    "    @property\n",
    "    def area(self):\n",
    "        return self.edge **2\n",
    "    @area.setter\n",
    "    def area(self, area):\n",
    "        self.edge = area ** .5"
   ]
  },
  {
   "cell_type": "markdown",
   "metadata": {},
   "source": [
    "###### deprecation of function"
   ]
  },
  {
   "cell_type": "code",
   "execution_count": 29,
   "metadata": {
    "ExecuteTime": {
     "end_time": "2019-04-11T01:45:00.083336Z",
     "start_time": "2019-04-11T01:45:00.079383Z"
    }
   },
   "outputs": [],
   "source": [
    "#我们要在某个函数第一次调用时打出 deprecation警告\n",
    "class deprecated(object):\n",
    "    def __call__(self, func):\n",
    "        self.func = func\n",
    "        self.count = 0\n",
    "        return self._wrapper\n",
    "    def _wrapper(self, *args, **kwrags):\n",
    "        self.count += 1\n",
    "        if self.count == 1:\n",
    "            print(self.func.__name__, 'is deprecated')\n",
    "        return self.func(*args, **kwargs)    \n",
    "\n",
    "#你也可以用装饰器函数\n",
    "def deprecated(func):\n",
    "    count = [0]\n",
    "    def wrapper(*args, **kwargs):\n",
    "        count[0] += 1\n",
    "        if count[0] == 1:\n",
    "            print(func.__name__, 'is deprecated')\n",
    "        return func(*args, **kwargs)\n",
    "    return wrapper"
   ]
  },
  {
   "cell_type": "markdown",
   "metadata": {},
   "source": [
    "######  WHILE-loop removing decorator"
   ]
  },
  {
   "cell_type": "code",
   "execution_count": 23,
   "metadata": {
    "ExecuteTime": {
     "end_time": "2019-07-08T06:47:01.029455Z",
     "start_time": "2019-07-08T06:47:01.025253Z"
    }
   },
   "outputs": [],
   "source": [
    "#当然你也可以直接用 yield, 但是某些情况下 list(EXPR) 会比较丑\n",
    "def vectorized(gen_func):\n",
    "    \"\"\"\n",
    "    Parameters\n",
    "    ----------\n",
    "    gen_func: 生成器函数\n",
    "    \"\"\"\n",
    "    def wrapper(*args, **kwargs):\n",
    "        return list(gen_func(*args, **kwargs))\n",
    "    return update_wrapper(wrapper, gen_func)\n",
    "\n",
    "@vectorized\n",
    "def find_answers():\n",
    "    while True:\n",
    "        ans = look_for_next_answer()\n",
    "        if ans is None:\n",
    "            break\n",
    "        yield ans"
   ]
  },
  {
   "cell_type": "markdown",
   "metadata": {},
   "source": [
    "###### plugin registration system"
   ]
  },
  {
   "cell_type": "code",
   "execution_count": null,
   "metadata": {
    "ExecuteTime": {
     "end_time": "2019-07-08T06:48:04.456047Z",
     "start_time": "2019-07-08T06:48:04.450199Z"
    }
   },
   "outputs": [],
   "source": [
    "#WordProcessor装饰器类不会更改他装饰的类, 而是把他加到PLUGINS中去\n",
    "class WordProcessor(object):\n",
    "    PLUGINS = []\n",
    "    #process方法实例化PLUGINS中的类,然后执行他们\n",
    "    def process(self, text):\n",
    "        for plugin in self.PLUGINS:\n",
    "            text = plugin().cleanup(text)\n",
    "        return text\n",
    "    @classmethod\n",
    "    def plugin(cls, plugin):\n",
    "        cls.PLUGINS.append(plugin)\n",
    "\n",
    "@WordProcessor.plugin\n",
    "class CleanMdashesExtension(object):\n",
    "    def cleanup(self, text):\n",
    "        return text.replace('&mdash', u'\\N{em dash}')"
   ]
  },
  {
   "cell_type": "markdown",
   "metadata": {},
   "source": [
    "##### 摘自 https://wiki.python.org/moin/PythonDecoratorLibrary"
   ]
  },
  {
   "cell_type": "markdown",
   "metadata": {},
   "source": [
    "###### 不使用 @wraps来保持原始函数的信息"
   ]
  },
  {
   "cell_type": "code",
   "execution_count": 41,
   "metadata": {
    "ExecuteTime": {
     "end_time": "2019-07-08T07:17:19.616874Z",
     "start_time": "2019-07-08T07:17:19.604137Z"
    }
   },
   "outputs": [
    {
     "name": "stdout",
     "output_type": "stream",
     "text": [
      "装饰之前:\n",
      "add\n",
      "两数相加\n",
      "{}\n",
      "使用了 demo_logging_decorator:\n",
      "wrapper\n",
      "None\n",
      "{}\n",
      "使用了 better_demo_logging_decorator:\n",
      "add_with_log_v2\n",
      "两数相加\n",
      "{}\n"
     ]
    }
   ],
   "source": [
    "def simple_decorator(decorator):\n",
    "    \"\"\"\n",
    "    你的装饰器函数 `decorator`必须足够简单:\n",
    "    1. 接受一个函数, 返回一个函数\n",
    "    2. 不修改函数的属性和文档\n",
    "    \"\"\"\n",
    "    def new_decorator(f):\n",
    "        g = decorator(f)\n",
    "        g.__name__ = f.__name__\n",
    "        g.__doc__ = f.__doc__\n",
    "        g.__dict__.update(f.__dict__)\n",
    "        return g\n",
    "    # 下面要修改 new_decorator, 使得它和原装饰器函数一致\n",
    "    # print(new_decorator.__name__)\n",
    "    new_decorator.__name__ = decorator.__name__\n",
    "    # print(new_decorator.__name__)\n",
    "    new_decorator.__doc__ = decorator.__doc__\n",
    "    new_decorator.__dict__.update(decorator.__dict__)\n",
    "    return new_decorator\n",
    "\n",
    "def demo_logging_decorator(func):\n",
    "    def wrapper(*args, **kwargs):\n",
    "        print('calling {}'.format(func.__name__))\n",
    "        return func(*args, **kwargs)\n",
    "    return wrapper\n",
    "\n",
    "@simple_decorator\n",
    "def better_demo_logging_decorator(func):\n",
    "    def wrapper(*args, **kwargs):\n",
    "        print('calling {}'.format(func.__name__))\n",
    "        return func(*args, **kwargs)\n",
    "    return wrapper\n",
    "\n",
    "def add(x, y):\n",
    "    '两数相加'\n",
    "    return x + y\n",
    "\n",
    "@demo_logging_decorator\n",
    "def add_with_log(x, y):\n",
    "    '两数相加'\n",
    "    return x + y\n",
    "\n",
    "@better_demo_logging_decorator\n",
    "def add_with_log_v2(x, y):\n",
    "    '两数相加'\n",
    "    return x + y\n",
    "\n",
    "\n",
    "print('装饰之前:')\n",
    "print(add.__name__)\n",
    "print(add.__doc__)\n",
    "print(add.__dict__)\n",
    "print('使用了 demo_logging_decorator:')\n",
    "print(add_with_log.__name__)\n",
    "print(add_with_log.__doc__)\n",
    "print(add_with_log.__dict__)\n",
    "print('使用了 better_demo_logging_decorator:')\n",
    "print(add_with_log_v2.__name__)\n",
    "print(add_with_log_v2.__doc__)\n",
    "print(add_with_log_v2.__dict__)"
   ]
  },
  {
   "cell_type": "markdown",
   "metadata": {},
   "source": [
    "###### 利用装饰器定义属性"
   ]
  },
  {
   "cell_type": "code",
   "execution_count": 3,
   "metadata": {
    "ExecuteTime": {
     "end_time": "2019-07-17T12:20:14.177488Z",
     "start_time": "2019-07-17T12:20:14.173266Z"
    }
   },
   "outputs": [],
   "source": [
    "import sys\n",
    "def test(a, b):\n",
    "    #获取当前函数的局部变量\n",
    "    print(sys._getframe(0).f_locals)\n",
    "    #获取main的全部变量, 这里面包括:\n",
    "    #1. 导入的模块\n",
    "    #2. 用户定义的函数(def)\n",
    "    print(sys._getframe(1).f_locals.keys())\n",
    "\n",
    "\n",
    "# test(1, 3)"
   ]
  },
  {
   "cell_type": "code",
   "execution_count": 9,
   "metadata": {
    "ExecuteTime": {
     "end_time": "2019-07-18T13:18:26.991143Z",
     "start_time": "2019-07-18T13:18:26.983648Z"
    }
   },
   "outputs": [],
   "source": [
    "import sys\n",
    "\n",
    "\n",
    "def proget(func):\n",
    "    locals_ = sys._getframe(1).f_locals\n",
    "    print('\\nIn proget:')\n",
    "    print('locals: ', locals_)\n",
    "    name = func.__name__\n",
    "    prop = locals_.get(name)\n",
    "    print('before set property: ', prop)\n",
    "    if not isinstance(prop, property):\n",
    "        prop = property(fget=func, doc=func.__doc__)\n",
    "    else:\n",
    "        doc = prop.__doc__ or func.__doc__\n",
    "        prop = property(func, prop.fset, prop.fdel, doc)\n",
    "    print('after set property: ', prop)\n",
    "    return prop\n",
    "\n",
    "\n",
    "def propset(func):\n",
    "    locals_ = sys._getframe(1).f_locals\n",
    "    print('\\nIn proset:')\n",
    "    print('locals: ', locals_)\n",
    "    name = func.__name__\n",
    "    prop = locals_.get(name)\n",
    "    print('before set property: ', prop)\n",
    "    if not isinstance(prop, property):\n",
    "        prop = property(None, func, doc=func.__doc__)\n",
    "    else:\n",
    "        doc = prop.__doc__ or func.__doc__\n",
    "        prop = property(prop.fget, func, prop.fdel, doc)\n",
    "    print('after set property: ', prop)\n",
    "    return prop"
   ]
  },
  {
   "cell_type": "code",
   "execution_count": 10,
   "metadata": {
    "ExecuteTime": {
     "end_time": "2019-07-18T13:18:27.933497Z",
     "start_time": "2019-07-18T13:18:27.927595Z"
    }
   },
   "outputs": [
    {
     "name": "stdout",
     "output_type": "stream",
     "text": [
      "\n",
      "In proget:\n",
      "locals:  {'__module__': '__main__', '__qualname__': 'Example'}\n",
      "before set property:  None\n",
      "after set property:  <property object at 0x7f18d6dbaa48>\n",
      "\n",
      "In proset:\n",
      "locals:  {'__module__': '__main__', '__qualname__': 'Example', 'myattr': <property object at 0x7f18d6dbaa48>}\n",
      "before set property:  <property object at 0x7f18d6dbaa48>\n",
      "after set property:  <property object at 0x7f18d6dba4f8>\n"
     ]
    }
   ],
   "source": [
    "#This canbe used like this.\n",
    "\n",
    "class Example(object):\n",
    "    \n",
    "    @proget\n",
    "    def myattr(self):\n",
    "        return self._half * 2\n",
    "    \n",
    "    @propset\n",
    "    def myattr(self, value):\n",
    "        self._half = value / 2"
   ]
  },
  {
   "cell_type": "markdown",
   "metadata": {},
   "source": [
    "也可以不用生成器--灵活运用 locals()"
   ]
  },
  {
   "cell_type": "code",
   "execution_count": 11,
   "metadata": {
    "ExecuteTime": {
     "end_time": "2019-07-18T13:24:23.858104Z",
     "start_time": "2019-07-18T13:24:23.852570Z"
    }
   },
   "outputs": [],
   "source": [
    "class Example(object):\n",
    "    def myattr():\n",
    "        doc = \"\"\"This is  the doc string.\"\"\"     \n",
    "        def fget(self):\n",
    "            return self._half / 2\n",
    "        def fset(self, value):\n",
    "            self._half = value\n",
    "        def fdel(self):\n",
    "            del self._half\n",
    "        \n",
    "        return property(**locals())\n",
    "    myattr = myattr()\n",
    "        "
   ]
  },
  {
   "cell_type": "code",
   "execution_count": 12,
   "metadata": {
    "ExecuteTime": {
     "end_time": "2019-07-18T13:24:31.792909Z",
     "start_time": "2019-07-18T13:24:31.787455Z"
    }
   },
   "outputs": [
    {
     "data": {
      "text/plain": [
       "mappingproxy({'__module__': '__main__',\n",
       "              'myattr': <property at 0x7f18d7277ae8>,\n",
       "              '__dict__': <attribute '__dict__' of 'Example' objects>,\n",
       "              '__weakref__': <attribute '__weakref__' of 'Example' objects>,\n",
       "              '__doc__': None})"
      ]
     },
     "execution_count": 12,
     "metadata": {},
     "output_type": "execute_result"
    }
   ],
   "source": [
    "Example.__dict__"
   ]
  },
  {
   "cell_type": "markdown",
   "metadata": {},
   "source": [
    "另一个装饰器的实现"
   ]
  },
  {
   "cell_type": "code",
   "execution_count": null,
   "metadata": {},
   "outputs": [],
   "source": []
  },
  {
   "cell_type": "markdown",
   "metadata": {},
   "source": [
    "###### Memorize"
   ]
  },
  {
   "cell_type": "code",
   "execution_count": 19,
   "metadata": {
    "ExecuteTime": {
     "end_time": "2019-07-18T14:08:16.005332Z",
     "start_time": "2019-07-18T14:08:15.998245Z"
    }
   },
   "outputs": [],
   "source": [
    "import collections\n",
    "import functools\n",
    "\n",
    "class memorized(object):\n",
    "    \n",
    "    def __init__(self, func):\n",
    "        self.func = func\n",
    "        self.cache = {}\n",
    "    \n",
    "    def __call__(self, *args):\n",
    "        if not isinstance(args, collections.Hashable):\n",
    "            # uncacheable. a list, for instance\n",
    "            # better to not cache than blow up\n",
    "            return self.func(*args)\n",
    "        if args in self.cache:\n",
    "            print(f'{args} in cache.')\n",
    "            return self.cache[args]\n",
    "        else:\n",
    "            print(f'{args} cached.')\n",
    "            value = self.func(*args)\n",
    "            self.cache[args] = value\n",
    "            return value\n",
    "    \n",
    "    def __repr__(self):\n",
    "        \"\"\"Return the function's docstring\"\"\"\n",
    "        return self.func.__doc__\n",
    "    def __get__(self, instance, owner):\n",
    "        print('calling __get__.')\n",
    "        return functools.partial(self.__call__, instance)\n",
    "        "
   ]
  },
  {
   "cell_type": "code",
   "execution_count": 20,
   "metadata": {
    "ExecuteTime": {
     "end_time": "2019-07-18T14:08:17.144535Z",
     "start_time": "2019-07-18T14:08:17.140165Z"
    }
   },
   "outputs": [],
   "source": [
    "@memorized\n",
    "def fib(n):\n",
    "    if n in (0,1):\n",
    "        return n\n",
    "    return fib(n-1) + fib(n-2)"
   ]
  },
  {
   "cell_type": "code",
   "execution_count": 21,
   "metadata": {
    "ExecuteTime": {
     "end_time": "2019-07-18T14:08:18.390520Z",
     "start_time": "2019-07-18T14:08:18.384863Z"
    }
   },
   "outputs": [
    {
     "name": "stdout",
     "output_type": "stream",
     "text": [
      "(12,) cached.\n",
      "(11,) cached.\n",
      "(10,) cached.\n",
      "(9,) cached.\n",
      "(8,) cached.\n",
      "(7,) cached.\n",
      "(6,) cached.\n",
      "(5,) cached.\n",
      "(4,) cached.\n",
      "(3,) cached.\n",
      "(2,) cached.\n",
      "(1,) cached.\n",
      "(0,) cached.\n",
      "(1,) in cache.\n",
      "(2,) in cache.\n",
      "(3,) in cache.\n",
      "(4,) in cache.\n",
      "(5,) in cache.\n",
      "(6,) in cache.\n",
      "(7,) in cache.\n",
      "(8,) in cache.\n",
      "(9,) in cache.\n",
      "(10,) in cache.\n",
      "144\n"
     ]
    }
   ],
   "source": [
    "print(fib(12))"
   ]
  },
  {
   "cell_type": "markdown",
   "metadata": {},
   "source": [
    "###### Alternate memoize as nested functions"
   ]
  },
  {
   "cell_type": "code",
   "execution_count": 22,
   "metadata": {
    "ExecuteTime": {
     "end_time": "2019-07-18T14:12:25.804219Z",
     "start_time": "2019-07-18T14:12:25.799156Z"
    }
   },
   "outputs": [],
   "source": [
    "def memorized(obj):\n",
    "    cache = {}\n",
    "    obj.cache = {}\n",
    "    @functools.warps(obj)\n",
    "    def memorizer(*args, **kwargs):\n",
    "        key = str(args) + str(kwargs)\n",
    "        if key not in cache:\n",
    "            cache[key] = obj(*args, **kwargs)\n",
    "        return cache[key]\n",
    "    return memorizer"
   ]
  },
  {
   "cell_type": "markdown",
   "metadata": {},
   "source": [
    "###### Alternate memoize as dict subclass"
   ]
  },
  {
   "cell_type": "code",
   "execution_count": 23,
   "metadata": {
    "ExecuteTime": {
     "end_time": "2019-07-18T14:17:17.385699Z",
     "start_time": "2019-07-18T14:17:17.380783Z"
    }
   },
   "outputs": [],
   "source": [
    "class memorize(dict):\n",
    "    \"\"\"\n",
    "    memorize 继承了字典类\n",
    "    \"\"\"\n",
    "    def __init__(self, func):\n",
    "        self.func = func\n",
    "    def __call__(self, *args):\n",
    "        return self[args]\n",
    "    def __missing__(self, key):\n",
    "        result = self[key] = self.func(*key)\n",
    "        return result"
   ]
  },
  {
   "cell_type": "markdown",
   "metadata": {},
   "source": [
    "###### Alternate memoize that stores cache between executions"
   ]
  },
  {
   "cell_type": "code",
   "execution_count": 54,
   "metadata": {
    "ExecuteTime": {
     "end_time": "2019-07-19T12:43:10.567130Z",
     "start_time": "2019-07-19T12:43:10.561917Z"
    }
   },
   "outputs": [],
   "source": [
    "import sys\n",
    "import inspect\n",
    "def func(a, b):\n",
    "    \"\"\"\n",
    "    stack的最顶层, 即idx为零的元素, 储存了最近执行的那一行\n",
    "    \"\"\"\n",
    "    frame = inspect.stack()\n",
    "    # `frame = inspect.stack()`处的栈帧信息\n",
    "    print(frame[0])\n",
    "    print(sys._getframe(0))\n",
    "    # `def func(a, b)`处的栈帧信息\n",
    "    print(frame[1])\n",
    "    print(sys._getframe(1))\n",
    "    # func所在文件的栈帧信息\n",
    "    print(frame[-1].filename)"
   ]
  },
  {
   "cell_type": "code",
   "execution_count": 55,
   "metadata": {
    "ExecuteTime": {
     "end_time": "2019-07-19T12:43:11.011021Z",
     "start_time": "2019-07-19T12:43:11.003214Z"
    }
   },
   "outputs": [
    {
     "name": "stdout",
     "output_type": "stream",
     "text": [
      "FrameInfo(frame=<frame object at 0x5628ef5cd2a8>, filename='<ipython-input-54-44c4c4fe0a4f>', lineno=7, function='func', code_context=['    frame = inspect.stack()\\n'], index=0)\n",
      "<frame object at 0x5628ef5cd2a8>\n",
      "FrameInfo(frame=<frame object at 0x7fd914024008>, filename='<ipython-input-55-6be6889cd928>', lineno=1, function='<module>', code_context=['func(1, 3)\\n'], index=0)\n",
      "<frame object at 0x7fd914024008>\n",
      "/home/sprinter/miniconda3/envs/zzj/lib/python3.6/runpy.py\n"
     ]
    }
   ],
   "source": [
    "func(1, 3)"
   ]
  },
  {
   "cell_type": "code",
   "execution_count": 5,
   "metadata": {
    "ExecuteTime": {
     "end_time": "2019-07-24T12:42:31.948431Z",
     "start_time": "2019-07-24T12:42:31.936080Z"
    }
   },
   "outputs": [],
   "source": [
    "import pickle\n",
    "import collections\n",
    "import functools\n",
    "import inspect\n",
    "import os.path\n",
    "import re\n",
    "import unicodedata\n",
    "\n",
    "\n",
    "class Memorize(object):\n",
    "    def __init__(self, func):\n",
    "        self.func = func\n",
    "        self._set_parent_filename()\n",
    "        self.__name__ = self.func.__name__\n",
    "        self._set_cache_filename()\n",
    "        if self.cache_exists():\n",
    "            self.read_cache()\n",
    "            if not self.is_safe_cache():\n",
    "                self.cache = {}\n",
    "        else:\n",
    "            self.cache = {}\n",
    "    \n",
    "    def __call__(self, *args):\n",
    "        print('Call __call__ of Memorize.')\n",
    "        if not isinstance(args, collections.Hashable):\n",
    "            return self.func(*args)\n",
    "        if args in self.cache:\n",
    "            print('Find in cache.')\n",
    "            return self.cache[args]\n",
    "        else:\n",
    "            print('Update cache.')\n",
    "            value = self.func(*args)\n",
    "            self.cache[args] = value\n",
    "            self.save_cache()\n",
    "            return value\n",
    "\n",
    "    #在初始化的时候被调用\n",
    "    def _set_parent_filename(self):\n",
    "        \"\"\"Set `self.parent_file` to the absolute path\n",
    "        of the file containing the memorized function.\n",
    "        \"\"\"\n",
    "        def filename_from_path(filepath):\n",
    "            return filepath.split('/')[-1]\n",
    "        print('Setting parent filename.')\n",
    "        real_parent_file = inspect.stack()[-1].filename\n",
    "        print('real_parent_file is: ', real_parent_file)\n",
    "        self.parent_filepath = os.path.abspath(real_parent_file)\n",
    "        print('parent_filepath is: ', self.parent_filepath)\n",
    "        self.parent_filename = filename_from_path(real_parent_file)\n",
    "    \n",
    "    #在初始化的时候被调用\n",
    "    def _set_cache_filename(self):\n",
    "        \"\"\"Set self.cache_filename to an os-compliant\n",
    "        version of `file_function.cache`\n",
    "        \"\"\"\n",
    "        def slugfy(value):\n",
    "            \"\"\"Normalizes string, convert to lowercase, removes\n",
    "            non-alpha characters, and converts space to hyphens\n",
    "            \"\"\"\n",
    "            value = unicodedata.normalize('NFKD', value).encode('ascii', 'ignore')\n",
    "            value = re.sub(r'[^\\w\\s-]', '', value.decode('utf-8', 'ignore'))\n",
    "            value = value.strip().lower()\n",
    "            value = re.sub(r'[-\\s]+', '-', value)\n",
    "            return value\n",
    "        filename = slugfy(self.parent_filename.replace('.py', ''))\n",
    "        print('The filename is: ', filename)\n",
    "        funcname = slugfy(self.__name__)\n",
    "        self.cache_filename = filename + '_' + funcname + '.cache'\n",
    "        print('The file is in:', self.cache_filename)\n",
    "    \n",
    "    #在is_safe_cache里被调用\n",
    "    def get_last_update(self):\n",
    "        \"\"\"Return the time that the parent file was last \n",
    "        update\n",
    "        \"\"\"\n",
    "        #获取文件被更改的次数\n",
    "        last_update_time = os.path.getmtime(self.parent_filepath)\n",
    "        return last_update_time\n",
    "    \n",
    "    # 在初始化的时候被调用\n",
    "    def is_safe_cache(self):\n",
    "        \"\"\"Returns True if the file containing the memorized\n",
    "        function has not been updated since the cache was\n",
    "        last saved.\n",
    "        \"\"\"\n",
    "        if self.get_last_update() > self.timestamp:\n",
    "            return False\n",
    "        else:\n",
    "            return True\n",
    "    \n",
    "    # 在初始化的时候调用\n",
    "    def read_cache(self):\n",
    "        \"\"\"\n",
    "        Read a picked dictionary into self.timestamp and self.cache\n",
    "        \"\"\"\n",
    "        with open(self.cache_filename, 'rb') as f:\n",
    "            data = pickle.loads(f.read())\n",
    "            self.timestamp = data['timestamp']\n",
    "            self.cache = data['cache']\n",
    "    \n",
    "    # 在碰到没有出现过的参数的时候调用\n",
    "    def save_cache(self):\n",
    "        \"\"\"Pickle the file's timestamp and function's cache\n",
    "        in a dict object\n",
    "        \"\"\"\n",
    "        with open(self.cache_filename, 'wb+') as f:\n",
    "            out = dict()\n",
    "            out['timestamp'] = self.get_last_update()\n",
    "            out['cache'] = self.cache\n",
    "            f.write(pickle.dumps(out))\n",
    "    \n",
    "    # 在初始化的时候调用\n",
    "    def cache_exists(self):\n",
    "        \"\"\"Returns True if a matching cache exists in the current directory\n",
    "        \"\"\"\n",
    "        if os.path.isfile(self.cache_filename):\n",
    "            return True\n",
    "        return False\n",
    "    \n",
    "    def __repr__(self):\n",
    "        \"\"\"Return the function's docstring\n",
    "        \"\"\"\n",
    "        return self.func.__doc__\n",
    "    \n",
    "    def __get__(self, instance, owner):\n",
    "        \"\"\"Support instance methods\n",
    "        \"\"\"\n",
    "        return functools.partial(self.__call__, instance)\n",
    "\n",
    "            \n",
    "        "
   ]
  },
  {
   "cell_type": "code",
   "execution_count": 6,
   "metadata": {
    "ExecuteTime": {
     "end_time": "2019-07-24T12:42:32.923050Z",
     "start_time": "2019-07-24T12:42:32.914098Z"
    }
   },
   "outputs": [
    {
     "name": "stdout",
     "output_type": "stream",
     "text": [
      "Setting parent filename.\n",
      "real_parent_file is:  /home/sprinter/miniconda3/envs/zzj/lib/python3.6/runpy.py\n",
      "parent_filepath is:  /home/sprinter/miniconda3/envs/zzj/lib/python3.6/runpy.py\n",
      "The filename is:  runpy\n",
      "The file is in: runpy_f.cache\n"
     ]
    }
   ],
   "source": [
    "@Memorize\n",
    "def f(a, b):\n",
    "    return a+b"
   ]
  },
  {
   "cell_type": "code",
   "execution_count": 7,
   "metadata": {
    "ExecuteTime": {
     "end_time": "2019-07-24T12:42:38.245338Z",
     "start_time": "2019-07-24T12:42:38.231882Z"
    }
   },
   "outputs": [
    {
     "name": "stdout",
     "output_type": "stream",
     "text": [
      "Call __call__ of Memorize.\n",
      "Update cache.\n"
     ]
    },
    {
     "data": {
      "text/plain": [
       "3"
      ]
     },
     "execution_count": 7,
     "metadata": {},
     "output_type": "execute_result"
    }
   ],
   "source": [
    "f(1, 2)"
   ]
  },
  {
   "cell_type": "code",
   "execution_count": 8,
   "metadata": {
    "ExecuteTime": {
     "end_time": "2019-07-24T12:42:49.606480Z",
     "start_time": "2019-07-24T12:42:49.596386Z"
    }
   },
   "outputs": [
    {
     "name": "stdout",
     "output_type": "stream",
     "text": [
      "Call __call__ of Memorize.\n",
      "Update cache.\n"
     ]
    },
    {
     "data": {
      "text/plain": [
       "6"
      ]
     },
     "execution_count": 8,
     "metadata": {},
     "output_type": "execute_result"
    }
   ],
   "source": [
    "f(2, 4)"
   ]
  },
  {
   "cell_type": "code",
   "execution_count": 9,
   "metadata": {
    "ExecuteTime": {
     "end_time": "2019-07-24T12:43:01.065878Z",
     "start_time": "2019-07-24T12:43:01.060398Z"
    }
   },
   "outputs": [
    {
     "name": "stdout",
     "output_type": "stream",
     "text": [
      "Call __call__ of Memorize.\n",
      "Find in cache.\n"
     ]
    },
    {
     "data": {
      "text/plain": [
       "3"
      ]
     },
     "execution_count": 9,
     "metadata": {},
     "output_type": "execute_result"
    }
   ],
   "source": [
    "f(1, 2)"
   ]
  },
  {
   "cell_type": "markdown",
   "metadata": {},
   "source": [
    "###### Cached Properties"
   ]
  },
  {
   "cell_type": "code",
   "execution_count": 26,
   "metadata": {
    "ExecuteTime": {
     "end_time": "2019-07-24T13:22:34.730062Z",
     "start_time": "2019-07-24T13:22:34.722961Z"
    }
   },
   "outputs": [],
   "source": [
    "import time\n",
    "import random\n",
    "\n",
    "class cached_property(object):\n",
    "    \"\"\"Decorator for read-only `properties` evaluated only once within TTL period.\n",
    "    \"\"\"\n",
    "    def __init__(self, ttl=300):\n",
    "        self.ttl = ttl\n",
    "\n",
    "    #在定义 property.get的时候调用\n",
    "    def __call__(self, func, doc=None):\n",
    "        print('Call __call__.')\n",
    "        self.func = func\n",
    "        print(type(func))\n",
    "        self.__doc__ = doc or func.__doc__\n",
    "        self.__name__ = func.__name__\n",
    "        self.__module__ = func.__module__\n",
    "        return self\n",
    "    \n",
    "    def __get__(self, instance, owner):\n",
    "        now = time.time()\n",
    "        try:\n",
    "            value, last_update = instance._cache[self.__name__]\n",
    "            if self.ttl > 0 and now - last_update > self.ttl: #recache\n",
    "                print('Need recache.')\n",
    "                raise AttributeError\n",
    "        except (KeyError, AttributeError):\n",
    "            value = self.func(instance) #调用实例的方法\n",
    "            try:\n",
    "                cache = instance._cache\n",
    "            except AttributeError:\n",
    "                cache = instance._cache = {}\n",
    "            cache[self.__name__] = (value, now)\n",
    "        return value\n",
    "                "
   ]
  },
  {
   "cell_type": "code",
   "execution_count": 27,
   "metadata": {
    "ExecuteTime": {
     "end_time": "2019-07-24T13:22:35.460139Z",
     "start_time": "2019-07-24T13:22:35.454841Z"
    }
   },
   "outputs": [
    {
     "name": "stdout",
     "output_type": "stream",
     "text": [
      "Call __call__.\n",
      "<class 'function'>\n"
     ]
    }
   ],
   "source": [
    "class MyClass(object):\n",
    "    # create property whose value is cached for ten minutes\n",
    "    @cached_property(ttl=600)\n",
    "    def randint(self):\n",
    "        # will only be evaluated every 10 min. at maximum.\n",
    "        return random.randint(0, 100)"
   ]
  },
  {
   "cell_type": "code",
   "execution_count": 28,
   "metadata": {
    "ExecuteTime": {
     "end_time": "2019-07-24T13:22:36.366301Z",
     "start_time": "2019-07-24T13:22:36.361133Z"
    }
   },
   "outputs": [
    {
     "data": {
      "text/plain": [
       "95"
      ]
     },
     "execution_count": 28,
     "metadata": {},
     "output_type": "execute_result"
    }
   ],
   "source": [
    "a = MyClass()\n",
    "a.randint"
   ]
  },
  {
   "cell_type": "markdown",
   "metadata": {},
   "source": [
    "###### Retry"
   ]
  },
  {
   "cell_type": "code",
   "execution_count": 2,
   "metadata": {
    "ExecuteTime": {
     "end_time": "2019-08-13T03:55:18.762155Z",
     "start_time": "2019-08-13T03:55:18.756052Z"
    }
   },
   "outputs": [],
   "source": [
    "import time \n",
    "import math\n",
    "\n",
    "def retry(tries, delay=3, backoff=2):\n",
    "    \"\"\"Retry a function or method until it returns True.\n",
    "    \"\"\"\n",
    "    if backoff <= 1:\n",
    "        raise ValueError('backoff must be greater than 1.')\n",
    "    tries = math.floor(tries)\n",
    "    if tries < 0:\n",
    "        raise ValueError('tries must be 0 or greater.')\n",
    "    if delay <= 0:\n",
    "        raise ValueError('delay must be greater than 0.')\n",
    "    \n",
    "    def deco_retry(f):\n",
    "        def f_retry(*args, **kwargs):\n",
    "            mtries, mdelay = tries, delay\n",
    "            rv = f(*args, **kwargs)\n",
    "            while mtries >0:\n",
    "                if rv is True:\n",
    "                    return True\n",
    "                mtries -= 1\n",
    "                # wait\n",
    "                time.sleep(mdelay)\n",
    "                # make future wait longer\n",
    "                mdelay *= backoff\n",
    "                # try again\n",
    "                rv = f(*args, **kwargs)\n",
    "            return False\n",
    "        return f_retry # true decorator -> decorated function\n",
    "    return deco_retry # @retry(arg[, ...]) -> true decorator\n",
    "                "
   ]
  },
  {
   "cell_type": "markdown",
   "metadata": {},
   "source": [
    "###### Pseudo-curring"
   ]
  },
  {
   "cell_type": "code",
   "execution_count": 4,
   "metadata": {
    "ExecuteTime": {
     "end_time": "2019-08-13T04:06:06.459473Z",
     "start_time": "2019-08-13T04:06:06.453718Z"
    }
   },
   "outputs": [],
   "source": [
    "class curried(object):\n",
    "    \"\"\"Decorator that return a function that keeps returning \n",
    "    functions until all arguments are supplied; then the orginal\n",
    "    function is evaluated.\n",
    "    \"\"\"\n",
    "    def __init__(self, func, *args):\n",
    "        self.func = args\n",
    "        self.args = args\n",
    "    def __call__(self, *args):\n",
    "        args_ = self.args + args\n",
    "        # 如果 当前的非关键字参数 少于func中的关键字参数\n",
    "        # 就 递归地 return 一个 curried 对象\n",
    "        if len(args_) < self.func.__code__.co_argcount:\n",
    "            return curried(self.func, *args)\n",
    "        else:\n",
    "            return self.func(*args)            "
   ]
  },
  {
   "cell_type": "markdown",
   "metadata": {},
   "source": [
    "###### Creating decorator with optional argument"
   ]
  },
  {
   "cell_type": "code",
   "execution_count": 15,
   "metadata": {
    "ExecuteTime": {
     "end_time": "2019-08-13T05:27:25.247686Z",
     "start_time": "2019-08-13T05:27:25.239802Z"
    }
   },
   "outputs": [],
   "source": [
    "import functools, inspect\n",
    "\n",
    "def decorator(func):\n",
    "    \"\"\"Allow to use decorator either with arguments or not.\n",
    "    \"\"\"\n",
    "    def isFuncArg(*args, **kwargs):\n",
    "        \"\"\"判断参数是否只有一个, 且为(被装饰的)函数\n",
    "        \"\"\"\n",
    "        return len(args) == 1 and len(kwargs) == 0\\\n",
    "        and (inspect.isfunction(args[0]) or isinstance(args[0], type))\n",
    "    \n",
    "    if isinstance(func, type):\n",
    "        def class_wrapper(*args, **kwargs):\n",
    "            if isFuncArg(*args, **kwargs):\n",
    "                return func()(*args, **kwargs) # create a cls before use\n",
    "            else:\n",
    "                return func(*args, **kwargs)\n",
    "        class_wrapper.__name__ = func.__name__\n",
    "        class_wrapper.__module__ = func.__module__\n",
    "        return class_wrapper\n",
    "    \n",
    "    else:\n",
    "        print('被装饰的对象是函数.')\n",
    "        @functools.wraps(func)\n",
    "        def func_wrapper(*args, **kwargs):\n",
    "            if isFuncArg(*args, **kwargs):\n",
    "                print('装饰了函数: ', (args, kwargs))\n",
    "                return func(*args, **kwargs)\n",
    "            else:\n",
    "                print('装饰了函数, 并且有参数: ', (args, kwargs))\n",
    "                def functor(userFunc):\n",
    "                    print(userFunc)\n",
    "                    return func(userFunc, *args, **kwargs)\n",
    "                return functor\n",
    "        return func_wrapper"
   ]
  },
  {
   "cell_type": "code",
   "execution_count": 16,
   "metadata": {
    "ExecuteTime": {
     "end_time": "2019-08-13T05:27:25.612436Z",
     "start_time": "2019-08-13T05:27:25.604296Z"
    }
   },
   "outputs": [
    {
     "name": "stdout",
     "output_type": "stream",
     "text": [
      "被装饰的对象是函数.\n"
     ]
    }
   ],
   "source": [
    "@decorator\n",
    "def apply(func, *args, **kwargs):\n",
    "    \"\"\"执行被装饰的函数\n",
    "    \"\"\"\n",
    "    return func(*args, **kwargs)"
   ]
  },
  {
   "cell_type": "code",
   "execution_count": 17,
   "metadata": {
    "ExecuteTime": {
     "end_time": "2019-08-13T05:27:26.251744Z",
     "start_time": "2019-08-13T05:27:26.246689Z"
    }
   },
   "outputs": [
    {
     "name": "stdout",
     "output_type": "stream",
     "text": [
      "装饰了函数:  ((<function test at 0x7f7194043598>,), {})\n"
     ]
    }
   ],
   "source": [
    "@apply\n",
    "def test():\n",
    "    return 'test'"
   ]
  },
  {
   "cell_type": "code",
   "execution_count": 18,
   "metadata": {
    "ExecuteTime": {
     "end_time": "2019-08-13T05:27:26.937848Z",
     "start_time": "2019-08-13T05:27:26.932565Z"
    },
    "scrolled": true
   },
   "outputs": [
    {
     "name": "stdout",
     "output_type": "stream",
     "text": [
      "装饰了函数, 并且有参数:  ((2, 3), {})\n",
      "<function test at 0x7f7194043d90>\n"
     ]
    }
   ],
   "source": [
    "@apply(2, 3)\n",
    "def test(a, b):\n",
    "    return a + b"
   ]
  },
  {
   "cell_type": "markdown",
   "metadata": {},
   "source": [
    "###### Controllable DIY debug"
   ]
  },
  {
   "cell_type": "code",
   "execution_count": 27,
   "metadata": {
    "ExecuteTime": {
     "end_time": "2019-08-13T05:57:07.780941Z",
     "start_time": "2019-08-13T05:57:07.775358Z"
    }
   },
   "outputs": [],
   "source": [
    "import sys\n",
    "\n",
    "WHAT_TO_DEBUG = set(['io', 'core']) # change to what you need\n",
    "\n",
    "class debug(object):\n",
    "    \"\"\"Decorator which helps to control what aspects of program\n",
    "    to debug on per-function basis. Aspects are provided as list\n",
    "    of arguments. It DOSEN'T slowdown functions which aren't \n",
    "    supposed to be debugged.\n",
    "    \"\"\"\n",
    "    def __init__(self, aspects=None):\n",
    "        self.aspects = set(aspects)\n",
    "    \n",
    "    def __call__(self, func):\n",
    "        if self.aspects and WHAT_TO_DEBUG:\n",
    "            def new_func(*args, **kwargs):\n",
    "                print(f'{func.__name__}, ({args}, {kwargs}).')\n",
    "                func_result = func(*args, **kwargs)\n",
    "                print(f'{func.__name__} returned {func_result}.')\n",
    "                return func_result\n",
    "            new_func.__doc__ = func.__doc__\n",
    "            return new_func\n",
    "        else:\n",
    "            return func"
   ]
  },
  {
   "cell_type": "markdown",
   "metadata": {},
   "source": [
    "###### Easy adding methods to a class instance"
   ]
  },
  {
   "cell_type": "code",
   "execution_count": 28,
   "metadata": {
    "ExecuteTime": {
     "end_time": "2019-08-13T05:57:16.190826Z",
     "start_time": "2019-08-13T05:57:16.185950Z"
    }
   },
   "outputs": [],
   "source": [
    "import types\n",
    "def add_method(instance):\n",
    "    def decorator(func):\n",
    "        func = types.MethodType(func, instance)\n",
    "        setattr(instance, func.__name__, func)\n",
    "        return func\n",
    "    return decorator"
   ]
  },
  {
   "cell_type": "code",
   "execution_count": 32,
   "metadata": {
    "ExecuteTime": {
     "end_time": "2019-08-13T05:58:20.983738Z",
     "start_time": "2019-08-13T05:58:20.978122Z"
    }
   },
   "outputs": [
    {
     "name": "stdout",
     "output_type": "stream",
     "text": [
      "42\n"
     ]
    }
   ],
   "source": [
    "class Foo(object):\n",
    "    def __init__(self):\n",
    "        self.x = 42\n",
    "\n",
    "foo = Foo()\n",
    "\n",
    "@add_method(foo)\n",
    "def print_x(self):\n",
    "    print(self.x)\n",
    "\n",
    "foo.print_x()"
   ]
  },
  {
   "cell_type": "markdown",
   "metadata": {},
   "source": [
    "###### Counting function calls"
   ]
  },
  {
   "cell_type": "code",
   "execution_count": 34,
   "metadata": {
    "ExecuteTime": {
     "end_time": "2019-08-13T06:15:20.504372Z",
     "start_time": "2019-08-13T06:15:20.498043Z"
    }
   },
   "outputs": [],
   "source": [
    "class countcalls(object):\n",
    "    \"\"\"Decorator that keeps track of the number of time\n",
    "    a function is called.\n",
    "    \"\"\"\n",
    "    __instances = {}\n",
    "    \n",
    "    def __init__(self, func):\n",
    "        self.__func = func\n",
    "        self.__numcalls = 0\n",
    "        # Register the instance\n",
    "        countcalls.__instances[func] = self\n",
    "    \n",
    "    def __call__(self, *args, **kwargs):\n",
    "        self.__numcalls += 1\n",
    "        return self.__func(*args, **kwargs)\n",
    "    \n",
    "    @staticmethod\n",
    "    def count(func):\n",
    "        return countcalls.__instances[func].__numcalls\n",
    "    @staticmethod\n",
    "    def counts():\n",
    "        return dict([(f, countcalls.count(f))\\\n",
    "                     for f in countcalls.__instances])"
   ]
  },
  {
   "cell_type": "markdown",
   "metadata": {},
   "source": [
    "###### Alternate counting function calls"
   ]
  },
  {
   "cell_type": "code",
   "execution_count": 36,
   "metadata": {
    "ExecuteTime": {
     "end_time": "2019-08-13T06:22:43.614947Z",
     "start_time": "2019-08-13T06:22:43.608844Z"
    }
   },
   "outputs": [],
   "source": [
    "class countcalls(object):\n",
    "\n",
    "    __instances = {}\n",
    "\n",
    "    def __init__(self, func):\n",
    "        self.__func = func\n",
    "        self.__numcalls = 0\n",
    "        countcalls.__instances[func] = self\n",
    "\n",
    "    def __call__(self, *args, **kwargs):\n",
    "        self.__numcalls += 1\n",
    "        return self.__func(*args, **kwargs)\n",
    "\n",
    "    def count(self):\n",
    "        return countcalls.__instances[self.__func].__numcalls\n",
    "\n",
    "    @staticmethod\n",
    "    def counts():\n",
    "        return dict([\n",
    "            (f.__name__, countcalls.__instance[f].__numcalls)\n",
    "            for f in countcalls.__instances\n",
    "        ])"
   ]
  },
  {
   "cell_type": "markdown",
   "metadata": {},
   "source": [
    "###### Generating Deprecation Warnings"
   ]
  },
  {
   "cell_type": "code",
   "execution_count": 37,
   "metadata": {
    "ExecuteTime": {
     "end_time": "2019-08-13T06:30:00.315056Z",
     "start_time": "2019-08-13T06:30:00.309638Z"
    }
   },
   "outputs": [],
   "source": [
    "import warnings\n",
    "\n",
    "\n",
    "def deprecated(func):\n",
    "    \"\"\"This is a decorator which can be used to mark functions\n",
    "    as deprecated. It will result in warning being emitted\n",
    "    when the function is used.\n",
    "    \"\"\"\n",
    "    def new_func(*args, **kwargs):\n",
    "        warnings.warn(\n",
    "            'Call to deprecated function {}.'.format(func.__name__),\n",
    "            category=DeprecationWarning)\n",
    "        return func(*args, **kwargs)\n",
    "    new_func.__name__ = func.__name__\n",
    "    new_func.__doc__ = func.__doc__\n",
    "    new_func.__dict__.update(func.__dict__)\n",
    "    return new_func"
   ]
  },
  {
   "cell_type": "markdown",
   "metadata": {},
   "source": [
    "###### Smart deprecation warnings(with valid filenames, line number, etc)"
   ]
  },
  {
   "cell_type": "code",
   "execution_count": 38,
   "metadata": {
    "ExecuteTime": {
     "end_time": "2019-08-13T06:49:33.820715Z",
     "start_time": "2019-08-13T06:49:33.815294Z"
    }
   },
   "outputs": [],
   "source": [
    "import warnings\n",
    "import functools\n",
    "\n",
    "\n",
    "def deprecated(func):\n",
    "    \n",
    "    @functools.wraps(func)\n",
    "    def new_func(*args, **kwargs):\n",
    "        warnings.warn_explicit(\n",
    "            f'Call to deprecated function {func.__name__}.',\n",
    "            category=DeprecationWarning,\n",
    "            filename=func.__code__.co_filename,\n",
    "            lineno=func.__code__.co_firstlineno + 1\n",
    "        )\n",
    "        return func(*args, **kwargs)\n",
    "    return new_func"
   ]
  },
  {
   "cell_type": "markdown",
   "metadata": {},
   "source": [
    "###### Ignoring Deprecation Warning"
   ]
  },
  {
   "cell_type": "code",
   "execution_count": 40,
   "metadata": {
    "ExecuteTime": {
     "end_time": "2019-08-13T06:55:01.107385Z",
     "start_time": "2019-08-13T06:55:01.101697Z"
    }
   },
   "outputs": [],
   "source": [
    "import warnings\n",
    "import functools\n",
    "\n",
    "\n",
    "def ignore_deprecation_warnings(func):\n",
    "    \"\"\"This is a decorator which can be used to \n",
    "    ignore deprecation warnings occurring in a function.\n",
    "    \"\"\"\n",
    "    @functools.wraps(func)\n",
    "    def new_func(*args, **kwargs):\n",
    "        with warnings.catch_warnings():\n",
    "            warnings.filterwarnings('ignore',\n",
    "                                    category=DeprecationWarning)\n",
    "            return func(*args, **kwargs)\n",
    "    return new_func"
   ]
  },
  {
   "cell_type": "markdown",
   "metadata": {},
   "source": [
    "###### Enable/Disable Decorators"
   ]
  },
  {
   "cell_type": "code",
   "execution_count": 45,
   "metadata": {
    "ExecuteTime": {
     "end_time": "2019-08-13T07:02:39.163539Z",
     "start_time": "2019-08-13T07:02:39.159088Z"
    }
   },
   "outputs": [],
   "source": [
    "def unchanged(func):\n",
    "    \"\"\"This decorator dosen't add any behavior.\n",
    "    \"\"\"\n",
    "    return func\n",
    "def disabled(func):\n",
    "    \"\"\"This decorator disables the provided function, and does nothing.\n",
    "    \"\"\"\n",
    "    def empty_func(*args, **kwargs):\n",
    "        pass\n",
    "    return empty_func\n",
    "\n",
    "enabled  = unchanged"
   ]
  },
  {
   "cell_type": "code",
   "execution_count": 47,
   "metadata": {
    "ExecuteTime": {
     "end_time": "2019-08-13T07:03:14.869387Z",
     "start_time": "2019-08-13T07:03:14.864574Z"
    }
   },
   "outputs": [],
   "source": [
    "GLOBAL_ENABLE_FLAG = True\n",
    "\n",
    "state = enabled if GLOBAL_ENABLE_FLAG else disabled\n",
    "\n",
    "@state\n",
    "def foo():\n",
    "    print('enabled.')"
   ]
  },
  {
   "cell_type": "markdown",
   "metadata": {},
   "source": [
    "###### Easy Dump of Function Arguments"
   ]
  },
  {
   "cell_type": "code",
   "execution_count": 85,
   "metadata": {
    "ExecuteTime": {
     "end_time": "2019-08-13T07:24:26.465370Z",
     "start_time": "2019-08-13T07:24:26.459258Z"
    }
   },
   "outputs": [],
   "source": [
    "def dump_args(func):\n",
    "    \"\"\"This decorator dumps out the arguments passed\n",
    "    to a function before calling it.\n",
    "    \"\"\"\n",
    "    argnames = func.__code__.\\\n",
    "               co_varnames[:func.__code__.co_argcount]\n",
    "    fname = func.__name__\n",
    "    \n",
    "    def echo_func(*args, **kwargs):\n",
    "        all_args = {(arg_name, arg_value)\\\n",
    "                    for arg_name, arg_value in zip(argnames, args)}\n",
    "        all_args.update({(name, value)\\\n",
    "                         for name, value in kwargs.items()})\n",
    "        # print(all_args)\n",
    "        msg = f'{fname} : '\n",
    "        msg += ', '.join('%s=%r' % entry\\\n",
    "                         for entry in all_args)\n",
    "        print(msg)\n",
    "        return func(*args, **kwargs)\n",
    "    return echo_func"
   ]
  },
  {
   "cell_type": "code",
   "execution_count": 86,
   "metadata": {
    "ExecuteTime": {
     "end_time": "2019-08-13T07:24:26.876805Z",
     "start_time": "2019-08-13T07:24:26.872310Z"
    }
   },
   "outputs": [],
   "source": [
    "def f(a, b, c):\n",
    "    print (a + b + c)"
   ]
  },
  {
   "cell_type": "code",
   "execution_count": 87,
   "metadata": {
    "ExecuteTime": {
     "end_time": "2019-08-13T07:24:27.122439Z",
     "start_time": "2019-08-13T07:24:27.113744Z"
    }
   },
   "outputs": [
    {
     "data": {
      "text/plain": [
       "3"
      ]
     },
     "execution_count": 87,
     "metadata": {},
     "output_type": "execute_result"
    }
   ],
   "source": [
    "f.__code__.co_argcount"
   ]
  },
  {
   "cell_type": "code",
   "execution_count": 88,
   "metadata": {
    "ExecuteTime": {
     "end_time": "2019-08-13T07:24:27.308116Z",
     "start_time": "2019-08-13T07:24:27.303214Z"
    }
   },
   "outputs": [
    {
     "data": {
      "text/plain": [
       "('a', 'b', 'c')"
      ]
     },
     "execution_count": 88,
     "metadata": {},
     "output_type": "execute_result"
    }
   ],
   "source": [
    "f.__code__.co_varnames"
   ]
  },
  {
   "cell_type": "code",
   "execution_count": 89,
   "metadata": {
    "ExecuteTime": {
     "end_time": "2019-08-13T07:24:27.938638Z",
     "start_time": "2019-08-13T07:24:27.931948Z"
    }
   },
   "outputs": [],
   "source": [
    "@dump_args\n",
    "def func(a, b, c):\n",
    "    return a + b + c"
   ]
  },
  {
   "cell_type": "markdown",
   "metadata": {},
   "source": [
    "###### Pre-/Post- Conditions"
   ]
  },
  {
   "cell_type": "code",
   "execution_count": 41,
   "metadata": {
    "ExecuteTime": {
     "end_time": "2019-08-14T01:31:30.491721Z",
     "start_time": "2019-08-14T01:31:30.483807Z"
    }
   },
   "outputs": [],
   "source": [
    "import types\n",
    "import itertools\n",
    "DEFAULT_ON = True\n",
    "\n",
    "\n",
    "class FunctionWrapper(object):\n",
    "    def __init__(self, precondition,\n",
    "                 postcondition, function):\n",
    "        self._pre = precondition\n",
    "        self._post = postcondition\n",
    "        self._func = function\n",
    "\n",
    "    def __call__(self, *args, **kwargs):\n",
    "        precondition = self._pre\n",
    "        postcondition = self._post\n",
    "\n",
    "        if precondition:\n",
    "            precondition(*args, **kwargs)\n",
    "        # 注意 _func 有可能是一个 FunctionWrapper 的实例,\n",
    "        # 所以这里可能是一个递归调用\n",
    "        result = self._func(*args, **kwargs)\n",
    "        if postcondition:\n",
    "            postcondition(result, *args, **kwargs)\n",
    "        return result\n",
    "\n",
    "\n",
    "class conditions(object):\n",
    "    __slots__ = ('__precondition', '__postcondition')\n",
    "\n",
    "    def __init__(self, pre, post,\n",
    "                 use_conditions=DEFAULT_ON):\n",
    "        if not use_conditions:\n",
    "            pre, post = None, None\n",
    "        self.__precondition = pre\n",
    "        self.__postcondition = post\n",
    "\n",
    "    def __call__(self, function):\n",
    "\n",
    "        pres = set((self.__precondition, ))\n",
    "        posts = set((self.__postcondition, ))\n",
    "\n",
    "        while isinstance(function, FunctionWrapper):\n",
    "            # 收集 pre 和 post conditions\n",
    "            # 注意这里用 set 来过滤掉完全相同的 pre/post conditions\n",
    "            pres.add(function._pre)\n",
    "            posts.add(function._post)\n",
    "            # while 循环直到拆包function到最后一层(获得被装饰的函数)\n",
    "            # 终止\n",
    "            function = function._func\n",
    "\n",
    "        # filter out None conditions and\n",
    "        # build pairs of pre and post conditions\n",
    "        for pre, post in itertools.zip_longest(pres, posts):\n",
    "            if pre or post:\n",
    "                function = FunctionWrapper(pre, post, function)\n",
    "        return function\n",
    "\n",
    "\n",
    "def precondition(precondition, use_conditions=DEFAULT_ON):\n",
    "    \"\"\"precondition 检查函数的参数\n",
    "    \"\"\"\n",
    "    return conditions(precondition, None, use_conditions)\n",
    "\n",
    "\n",
    "def postcondition(postcondition, use_conditions=DEFAULT_ON):\n",
    "    \"\"\"post condition 检查函数的返回值\n",
    "    \"\"\"\n",
    "    return conditions(None, postcondition, use_conditions)"
   ]
  },
  {
   "cell_type": "markdown",
   "metadata": {},
   "source": [
    "###### Profiling/Coverage Analysis"
   ]
  },
  {
   "cell_type": "code",
   "execution_count": 1,
   "metadata": {
    "ExecuteTime": {
     "end_time": "2019-09-04T00:18:41.883242Z",
     "start_time": "2019-09-04T00:18:41.877780Z"
    }
   },
   "outputs": [],
   "source": [
    "import atexit\n",
    "import inspect\n",
    "import logging\n",
    "import os\n",
    "import re\n",
    "import sys\n",
    "\n",
    "# For profiling\n",
    "from profile import Profile\n",
    "import pstats\n",
    "\n",
    "# For timecall\n",
    "import timeit\n",
    "\n",
    "# # For hostsshot profiling (inaccurate!)\n",
    "# # not available in Python 3\n",
    "# try:\n",
    "#     import hotshot\n",
    "#     import hostshot.stats\n",
    "# except ImportError:\n",
    "#     hotshot = None\n",
    "\n",
    "# For trace.py\n",
    "import trace\n",
    "import dis\n",
    "import token\n",
    "import tokenize\n",
    "\n",
    "# # For hotshot coverage \n",
    "# # (inaccurate!; uses undocumented APIs; might break)\n",
    "# # not available in Python 3\n",
    "# if hotshot is not None:\n",
    "#     import _hostshot\n",
    "#     import hostshot.log\n",
    "\n",
    "# For cProfile profiling (best)\n",
    "try:\n",
    "    import cProfile\n",
    "except ImportError:\n",
    "    cProfile = None"
   ]
  },
  {
   "cell_type": "code",
   "execution_count": 2,
   "metadata": {
    "ExecuteTime": {
     "end_time": "2019-09-04T00:18:42.555308Z",
     "start_time": "2019-09-04T00:18:42.544442Z"
    }
   },
   "outputs": [],
   "source": [
    "# registry of available profilers\n",
    "AVAILABLE_PROFILERS = {}\n",
    "\n",
    "\n",
    "class FuncProfile(object):\n",
    "    \"\"\"Profiler for a function (uses profile).\n",
    "    \"\"\"\n",
    "    # This flag is shared between all instance\n",
    "    in_profiler = False\n",
    "\n",
    "    Profile_ = Profile\n",
    "\n",
    "    def __init__(self, func, skip=0, filename=None,\n",
    "                 immediate=False, dirs=False,\n",
    "                 sort=None, entries=40, stdout=True):\n",
    "        \"\"\"Create a profiler for a function.\n",
    "        Every profiler has its own log file (the name of which \n",
    "        is derived from the function name).\n",
    "        FuncProfile registers an atexit handler taht prints profiling\n",
    "        information to sys.stderr when the program terminates.\n",
    "        \"\"\"\n",
    "        self.func = func\n",
    "        self.skip = skip\n",
    "        self.filename = filename\n",
    "        self._immediate = immediate\n",
    "        self.stdout = stdout\n",
    "        self.dirs = dirs\n",
    "        self.sort = sort or ('cumulative', 'time', 'call')\n",
    "        if isinstance(self.sort, str):\n",
    "            self.sort = (self.sort, )\n",
    "        self.entries = entries\n",
    "        self.reset_stats()\n",
    "        if not self.immediate:\n",
    "            # 用于程序结束时的回调函数\n",
    "            atexit.register(self.atexit)\n",
    "\n",
    "    @property\n",
    "    def immediate(self):\n",
    "        return self._immediate\n",
    "\n",
    "    def reset_stats(self):\n",
    "        \"\"\"Reset accumulated profiler statistics.\n",
    "        \"\"\"\n",
    "        self.stats = pstats.Stats(Profile())\n",
    "        self.ncalls = 0\n",
    "        self.skipped = 0\n",
    "\n",
    "    def print_stats(self):\n",
    "        \"\"\"Print profil information to sys.stdout.\n",
    "        \"\"\"\n",
    "        stats = self.stats\n",
    "        if self.filename:\n",
    "            stats.dump_stats(self.filename)\n",
    "        if self.stdout:\n",
    "            funcname = self.func.__name__\n",
    "            filename = self.func.__code__.co_filename\n",
    "            lineno = self.func.__code__.co_firstlineno\n",
    "            print(\"\")\n",
    "            print('*** PROFILER RESULTS ***')\n",
    "            print(f'{funcname} ({filename}:{lineno})')\n",
    "            if self.skipped:\n",
    "                skipped = f'{self.skipped} calls not profiled.'\n",
    "            else:\n",
    "                skipped = 'without skipped.'\n",
    "            print(f'Function called {self.ncalls} times, ',\n",
    "                  skipped)\n",
    "            print('')\n",
    "            if not self.dirs:\n",
    "                stats.strip_dirs()\n",
    "            stats.sort_stats(*self.sort)\n",
    "            stats.print_stats(self.entries)\n",
    "\n",
    "    def atexit(self):\n",
    "        \"\"\"Stop profiling and print profile information\n",
    "        to sys.stdout.\n",
    "        This function is registered as an atexit hook.\n",
    "        \"\"\"\n",
    "        self.print_stats()\n",
    "\n",
    "    def __call__(self, *args, **kwargs):\n",
    "        \"\"\"Profile a single call to the function.\n",
    "        \"\"\"\n",
    "        self.ncalls += 1\n",
    "        if self.skip > 0:\n",
    "            print(self.skip)\n",
    "            self.skip -= 1\n",
    "            print(self.skip)\n",
    "            self.skipped += 1\n",
    "            return self.func(*args, **kwargs)\n",
    "        if FuncProfile.in_profiler:\n",
    "            # handle recursive calls\n",
    "            return self.func(*args, **kwargs)\n",
    "\n",
    "        profiler = self.Profile_()\n",
    "        try:\n",
    "            FuncProfile.in_profiler = True\n",
    "            return profiler.runcall(self.func, *args, **kwargs)\n",
    "        finally:\n",
    "            FuncProfile.in_profiler = False\n",
    "            self.stats.add(profiler)\n",
    "            if self.immediate:\n",
    "                self.print_stats()\n",
    "                self.reset_stats()\n",
    "\n",
    "\n",
    "AVAILABLE_PROFILERS['profile'] = FuncProfile"
   ]
  },
  {
   "cell_type": "code",
   "execution_count": 3,
   "metadata": {
    "ExecuteTime": {
     "end_time": "2019-09-04T00:18:43.212353Z",
     "start_time": "2019-09-04T00:18:43.204441Z"
    }
   },
   "outputs": [],
   "source": [
    "# __all__ = ['coverage', 'coverage_with_hotshot',\n",
    "#            'profile', 'timecall']\n",
    "import functools\n",
    "def profile(func=None, skip=0, \n",
    "            filename=None, immediate=False, \n",
    "            dirs=False, sort=None, \n",
    "            entries=40, stdout=True,\n",
    "            profiler=('cProfile', 'profile', 'hotshot')):\n",
    "    \"\"\"Mark `func` for profiling.\n",
    "    \n",
    "    If `skip` is > 0, first `skip` calls to `func` will\n",
    "    not be profiled.\n",
    "    \n",
    "    If `immediate` is False, profiling results will be\n",
    "    printed to sys.stdout on program termination. Otherwise\n",
    "    results will be printed after each call. (If you don't\n",
    "    want this, set stdout=False and specify a `filename`\n",
    "    to store profile data.)\n",
    "    \n",
    "    If `dirs` is False only the name of the file will be\n",
    "    printed. Otherwise the full path is used.\n",
    "    \n",
    "    `sort` can be a list of sort keys (defaulting to ['cumulative',\n",
    "    'time', 'calls']).  The following ones are recognized::\n",
    "\n",
    "        'calls'      -- call count\n",
    "        'cumulative' -- cumulative time\n",
    "        'file'       -- file name\n",
    "        'line'       -- line number\n",
    "        'module'     -- file name\n",
    "        'name'       -- function name\n",
    "        'nfl'        -- name/file/line\n",
    "        'pcalls'     -- call count\n",
    "        'stdname'    -- standard name\n",
    "        'time'       -- internal time\n",
    "    \n",
    "    `entries` limites the output to the first N entries.\n",
    "    \n",
    "    `profiler` can be used to selected the preferred profiler,\n",
    "    or specify a sequence of them, in order of preference. The\n",
    "    default is 'cProfile', 'profile', 'hotshot').\n",
    "    \n",
    "    If `filename` is specified, the profile stats will be\n",
    "    stored in the named file. You can load then with \n",
    "    pystats.Stats(filename) or use a visualization tool \n",
    "    like RunSnakeRun.    \n",
    "    \"\"\"\n",
    "    if func is None: # We are a decorator marker\n",
    "        def decorator(func):\n",
    "            return profile(func, skip=skip, \n",
    "                           filename=filename, immediate=immediate,\n",
    "                           dirs=dirs, sort=sort,\n",
    "                           entries=entries, profiler=profiler,\n",
    "                           stdout=stdout)\n",
    "        return decorator\n",
    "    else: # We are a decorator\n",
    "        if isinstance(profiler, str):\n",
    "            profiler = [profiler]\n",
    "        \n",
    "        for p in profiler:\n",
    "            if p in AVAILABLE_PROFILERS:\n",
    "                profiler_class = AVAILABLE_PROFILERS[p]\n",
    "                break\n",
    "        else:\n",
    "            raise ValueError('Only these profilers are available: %s'\\\n",
    "                             % ', '.join(sorted(AVAILABLE_PROFILERS)))\n",
    "\n",
    "        if not profiler_class:\n",
    "            raise ValueError('The `profiler_class` is None.'\n",
    "                             'Please check `AVAILABLE_PROFILERS`.')\n",
    "        \n",
    "        func_profiler = profiler_class(func, skip=skip, \n",
    "                                filename=filename,immediate=immediate, \n",
    "                                dirs=dirs, sort=sort, \n",
    "                                entries=entries, stdout=stdout)\n",
    "        @functools.wraps(func)\n",
    "        def new_func(*args, **kwargs):\n",
    "            return func_profiler(*args, **kwargs)\n",
    "        return new_func  \n",
    "\n",
    "\n",
    "if cProfile is not None:\n",
    "    class CProfileFuncProfile(FuncProfile):\n",
    "        Profile_ = cProfile.Profile\n",
    "    AVAILABLE_PROFILERS['cProfile'] = CProfileFuncProfile"
   ]
  },
  {
   "cell_type": "code",
   "execution_count": 4,
   "metadata": {
    "ExecuteTime": {
     "end_time": "2019-09-04T01:30:48.381841Z",
     "start_time": "2019-09-04T01:30:48.373960Z"
    }
   },
   "outputs": [],
   "source": [
    "class TraceFuncCoverage(object):\n",
    "    \"\"\"Coverage analysis for a function (use trace module)\n",
    "    \"\"\"\n",
    "\n",
    "    # Shared between all instances so that nested calls work\n",
    "    tracer = trace.Trace(count=True, trace=True,\n",
    "                         ignoredirs=[sys.prefix, sys.exec_prefix])\n",
    "\n",
    "    # This flag is also shared between all instances\n",
    "    tracing = False\n",
    "\n",
    "    def __init__(self, func):\n",
    "        \"\"\"Create a profiler for a function.\n",
    "        Every profiler has its own log file (the name of which is derived from the function name).\n",
    "        TraceFuncCoverage registers an atexit hander that prints profiling information to sys.stderr\n",
    "        when the program terminates.\n",
    "        The log file is not removed and remains there to clutter the current working directory.\n",
    "        \"\"\"\n",
    "        self.func = func\n",
    "        self.logfilename = f'{func.__name__}.{os.getpid()}.cprof'\n",
    "        self.ncalls = 0\n",
    "        atexit.register(self.atexit)\n",
    "\n",
    "    def __call__(self, *args, **kwargs):\n",
    "        \"\"\"Profile a singe call to the function.\n",
    "        \"\"\"\n",
    "        self.ncalls += 1\n",
    "        if TraceFuncCoverage.tracing:  # pragma: nocover\n",
    "            return self.func(*args, **kwargs)\n",
    "        old_trace = sys.gettrace()\n",
    "        try:\n",
    "            TraceFuncCoverage.tracing = True\n",
    "            return self.tracer.runfunc(self.func, *args, **kwargs)\n",
    "        finally:  # progma: nocover\n",
    "            sys.settrace(old_trace)\n",
    "            TraceFuncCoverage.tracing = False\n",
    "\n",
    "    def atexit(self):\n",
    "        \"\"\"Stop profiling and print profile information to sys.stderr\n",
    "        This function is registered as an atexit hook.\n",
    "        \"\"\"\n",
    "        funcname = self.func.__name__\n",
    "        filename = self.func.__name__.co_filename\n",
    "        lineno = self.func.__name__.co_firstlineno\n",
    "        print('')\n",
    "        print('***COVERAGE RESULT***')\n",
    "        print(f'{funcname} ({filename} : {lineno})')\n",
    "        print(f'Function called {self.ncalls} times.')\n",
    "        print('')\n",
    "\n",
    "        # TO DO: 实现 FuncSource 类\n",
    "        function_source = FuncSource(self.func)\n",
    "        for (filename, lineno), count in self.tracer.counts.items():\n",
    "            if filename != function_source.filename:\n",
    "                continue\n",
    "            function_source.mark(lineno, count)\n",
    "        print(function_source)\n",
    "        never_executed = function_source.count_never_executed()\n",
    "        if never_executed:\n",
    "            print(f'{never_executed} lines were not executed.')\n",
    "\n",
    "\n",
    "class FuncSource(object):\n",
    "    pass"
   ]
  },
  {
   "cell_type": "markdown",
   "metadata": {},
   "source": [
    "###### Line Tracing Individual Functions"
   ]
  },
  {
   "cell_type": "code",
   "execution_count": 13,
   "metadata": {
    "ExecuteTime": {
     "end_time": "2019-09-04T01:51:13.740656Z",
     "start_time": "2019-09-04T01:51:13.734399Z"
    }
   },
   "outputs": [],
   "source": [
    "import sys\n",
    "import os\n",
    "import linecache\n",
    "\n",
    "\n",
    "def trace(func):\n",
    "    def globaltrace(frame, why, arg):\n",
    "        if why == 'call':\n",
    "            return localtrace\n",
    "        else:\n",
    "            return None\n",
    "\n",
    "    def localtrace(frame, why, arg):\n",
    "        if why == 'line':\n",
    "            # record the file name and line number of every trace\n",
    "            filename = frame.f_code.co_filename\n",
    "            # 函数最后一行\n",
    "            lineno = frame.f_lineno\n",
    "\n",
    "            basename = os.path.basename(filename)\n",
    "            print(f'{basename}({lineno}) '\n",
    "                  f': {linecache.getline(filename, lineno)}')\n",
    "        return localtrace\n",
    "\n",
    "    def _func(*args, **kwargs):\n",
    "        sys.settrace(globaltrace)\n",
    "        result = func(*args, **kwargs)\n",
    "        sys.settrace(None)\n",
    "        return result\n",
    "    return _func"
   ]
  },
  {
   "cell_type": "markdown",
   "metadata": {},
   "source": [
    "###### Synchronization"
   ]
  },
  {
   "cell_type": "code",
   "execution_count": 16,
   "metadata": {
    "ExecuteTime": {
     "end_time": "2019-09-04T02:00:29.672758Z",
     "start_time": "2019-09-04T02:00:29.667588Z"
    }
   },
   "outputs": [],
   "source": [
    "# Synchronize two (or more) functions on a given lock.\n",
    "from threading import Lock\n",
    "def synchronized(lock):\n",
    "    \"\"\"Synchronization decorator\n",
    "    \"\"\"\n",
    "    def wrap(func):\n",
    "        def new_func(*args, **kwargs):\n",
    "            lock.acquire()\n",
    "            try:\n",
    "                return func(*args, **kwargs)\n",
    "            finally:\n",
    "                lock.release()\n",
    "        return new_func\n",
    "    return wrap"
   ]
  },
  {
   "cell_type": "code",
   "execution_count": 17,
   "metadata": {
    "ExecuteTime": {
     "end_time": "2019-09-04T02:00:30.234754Z",
     "start_time": "2019-09-04T02:00:30.230177Z"
    }
   },
   "outputs": [],
   "source": [
    "# Example usage:\n",
    "\n",
    "my_lock = Lock()\n",
    "\n",
    "\n",
    "@synchronized(my_lock)\n",
    "def call(*args):\n",
    "    pass\n",
    "\n",
    "\n",
    "@synchronized(my_lock)\n",
    "def call2(*args):\n",
    "    pass"
   ]
  },
  {
   "cell_type": "markdown",
   "metadata": {},
   "source": [
    "###### Type Enforcement (accepts/returns)"
   ]
  },
  {
   "cell_type": "code",
   "execution_count": 40,
   "metadata": {
    "ExecuteTime": {
     "end_time": "2019-09-04T04:49:46.654561Z",
     "start_time": "2019-09-04T04:49:46.644726Z"
    }
   },
   "outputs": [],
   "source": [
    "import sys\n",
    "\n",
    "def info(fname, expected, actual, flag):\n",
    "    \"\"\"Convenience function returns nicely formatted error/warning msg.\n",
    "    \"\"\"\n",
    "    fmt = lambda types: ', '.join([str(t).split('\\'')[1] for t in types])\n",
    "    expected, actual = fmt(expected), fmt(actual)\n",
    "    msg = f'`{fname}` method ' +\\\n",
    "          ('accepts', 'returns')[flag] + f'({expected}) but ' +\\\n",
    "          ('was given', 'result is')[flag] + f'({actual}).'\n",
    "    return msg\n",
    "\n",
    "def accepts(*types, **kwargs):\n",
    "    \"\"\"Function decorator. Checks decorated function's arguments are\n",
    "    of the expected types.\n",
    "    \n",
    "    Paramsters:\n",
    "    -----------\n",
    "    types: The expected types of the inputs to the decorated function.\n",
    "           Must specify type for each parameter.\n",
    "    kwargs: Optional specification of `debug` level (this is the only valid\n",
    "            keyword argument, no other should be given).\n",
    "            debug = (0 | 1 | 2)\n",
    "    \"\"\"\n",
    "    if kwargs == dict():\n",
    "        debug = 1\n",
    "    else:\n",
    "        debug = kwargs['debug']\n",
    "    \n",
    "    try:\n",
    "        def decorator(func):\n",
    "            def new_func(*args):\n",
    "                if debug == 0:\n",
    "                    return func(*args)\n",
    "                assert len(args) == len(types)\n",
    "                argtypes = tuple(map(type, args)) # 666\n",
    "                if argtypes != types:\n",
    "                    msg = info(func.__name__, types, argtypes, 0)\n",
    "                    if debug == 1:\n",
    "                        print(f'TypeWarning : {msg}.', file=sys.stderr)\n",
    "                    elif debug == 2:\n",
    "                        raise TypeError(msg)\n",
    "                return func(*args)\n",
    "            new_func.__name__ = func.__name__\n",
    "            return new_func\n",
    "        return decorator\n",
    "    \n",
    "    except KeyError as e:\n",
    "        raise KeyError(e)\n",
    "    except TypeError as e:\n",
    "        raise TypeError(e)\n",
    "\n",
    "def returns(return_type, **kwargs):\n",
    "    \"\"\"Function decorator. Check decorated function's return value is of the expected type.\n",
    "    \"\"\"\n",
    "    try:\n",
    "        if kwargs == dict():\n",
    "            # dafault level: MEDIUM\n",
    "            debug = 1\n",
    "        else:\n",
    "            debug = kwargs['debug']\n",
    "        \n",
    "        def decorator(func):\n",
    "            def new_func(*args):\n",
    "                result = func(*args)\n",
    "                if debug == 0:\n",
    "                    return result\n",
    "                res_type = type(result)\n",
    "                if res_type != return_type:\n",
    "                    msg = info(f.__name__, (return_type, ), (res_type, ), 1)\n",
    "                    if debug == 1:\n",
    "                        print(f'TypeWarning : {msg}.', file=sys.stderr)\n",
    "                    elif debug == 2:\n",
    "                        raise TypeError(msg)\n",
    "                return result\n",
    "            new_func.__name__ = func.__name__\n",
    "            return new_func\n",
    "        return decorator\n",
    "    except KeyError as e:\n",
    "        raise KeyError(e)\n",
    "    except TypeError as e:\n",
    "        raise TypeError(e)"
   ]
  },
  {
   "cell_type": "code",
   "execution_count": 41,
   "metadata": {
    "ExecuteTime": {
     "end_time": "2019-09-04T04:49:47.733268Z",
     "start_time": "2019-09-04T04:49:47.728179Z"
    }
   },
   "outputs": [],
   "source": [
    "@accepts(int, int, int)\n",
    "@returns(float)\n",
    "def average(x, y, z):\n",
    "    return (x + y + z) / 3"
   ]
  },
  {
   "cell_type": "code",
   "execution_count": 42,
   "metadata": {
    "ExecuteTime": {
     "end_time": "2019-09-04T04:50:03.442195Z",
     "start_time": "2019-09-04T04:50:03.436905Z"
    }
   },
   "outputs": [
    {
     "name": "stderr",
     "output_type": "stream",
     "text": [
      "TypeWarning : `average` method accepts(int, int, int) but was given(int, int, float)..\n"
     ]
    },
    {
     "data": {
      "text/plain": [
       "1.5"
      ]
     },
     "execution_count": 42,
     "metadata": {},
     "output_type": "execute_result"
    }
   ],
   "source": [
    "average(1, 3, .5)"
   ]
  },
  {
   "cell_type": "markdown",
   "metadata": {},
   "source": [
    "###### CGI method wrapper(略)"
   ]
  },
  {
   "cell_type": "markdown",
   "metadata": {},
   "source": [
    "###### State Machine Implementation"
   ]
  },
  {
   "cell_type": "code",
   "execution_count": 24,
   "metadata": {
    "ExecuteTime": {
     "end_time": "2019-09-11T06:06:56.074928Z",
     "start_time": "2019-09-11T06:06:56.046449Z"
    }
   },
   "outputs": [],
   "source": [
    "from functools import wraps\n",
    "import types\n",
    "import itertools\n",
    "\n",
    "import logging\n",
    "logging.basicConfig(filename=\"gf_info.txt\",\n",
    "                    format=\"%(levelname)-10s %(message)s\",\n",
    "                    level=logging.ERROR)\n",
    "\n",
    "\n",
    "def truncated(alist, cmprsn):\n",
    "    for x in alist:\n",
    "        if x.__name__ == cmprsn:\n",
    "            break\n",
    "        yield x\n",
    "\n",
    "\n",
    "class ContextBase(object):\n",
    "    pass\n",
    "\n",
    "\n",
    "class _StateVariable(object):\n",
    "    \"\"\" Attribute of a class to maintain state .\n",
    "\n",
    "    State Variable objects are instantiated indirectly via calls to the\n",
    "    TransitionTable class's initialize method.  TransitionTable objects are created\n",
    "    at the class level.\n",
    "    \"\"\"\n",
    "\n",
    "    def __init__(self, transTable, context):\n",
    "        \"\"\"Constructor - set to initial state\"\"\"\n",
    "        self.__current_state = transTable.initialstate\n",
    "        self.__next_state = transTable.initialstate\n",
    "        self.sTable = transTable\n",
    "        self.__statestack = []\n",
    "        self.__ctxClass = context.__class__\n",
    "\n",
    "    def toNextState(self, context):\n",
    "        \"\"\"Transition to next state, if a next_state is differnt.\n",
    "\n",
    "        In addition to the actual state transition, it invokes onLeave \n",
    "        and onEnter methods as required.\n",
    "        \"\"\"\n",
    "        if self.__next_state is not self.__current_state:\n",
    "            cc = context.__class__\n",
    "            tt_name = self.sTable.inst_state_name\n",
    "            logging.debug(\"Transitioning to state %s\" %\n",
    "                          self.__next_state.__name__)\n",
    "\n",
    "            def callInState(methName, crnt_state):\n",
    "                if (hasattr(crnt_state, methName) or hasattr(context, methName)):\n",
    "                    nmro = [crnt_state, ]\n",
    "                    nmro.extend(cc.__mro__)\n",
    "                    psudoClassName = \"%s_%s\" % (\n",
    "                        cc.__name__, crnt_state.__name__)\n",
    "                    stCls = type(psudoClassName, tuple(nmro), {})\n",
    "                    context.__class__ = stCls\n",
    "                    # call the onEnter or onLeave method here\n",
    "                    getattr(context, methName)()\n",
    "                    context.__class__ = cc\n",
    "\n",
    "            callInState('onLeave', self.__current_state)\n",
    "            self.__setState(context)\n",
    "            callInState('onEnter', self.__current_state)\n",
    "\n",
    "    def __setState(self, context):\n",
    "        \"\"\"low level funky called from toNextState\"\"\"\n",
    "        cc = context.__class__\n",
    "        mro = cc.__mro__\n",
    "        if (self.__current_state not in mro):\n",
    "            self.__current_state = self.__next_state\n",
    "            return\n",
    "\n",
    "        logging.debug(\"Current state %s in mro\" %\n",
    "                      self.__current_state.__name__)\n",
    "\n",
    "        def f(anc):\n",
    "            return self.__next_state if anc == self.__current_state else anc\n",
    "        newmro = tuple(f(anc) for anc in cc.__mro__)\n",
    "        tt_name = self.sTable.inst_state_name\n",
    "        cls_name = \"%s_%s\" % (self.__ctxClass.__name__,\n",
    "                              self.__next_state.__name__)\n",
    "        context.__class__ = type(cls_name, newmro, {})\n",
    "\n",
    "    def pushState(self, newState, context=None):\n",
    "        \"\"\"PushState - allows going to another state with intent of returning\n",
    "           to the current one.\"\"\"\n",
    "        self.__statestack.append(self._current_state)\n",
    "        self.__next_state = newState\n",
    "        if context:\n",
    "            self.toNextState(context)\n",
    "\n",
    "    def popState(self, context=None):\n",
    "        \"\"\"Pop back to the previously pushed state (pushState)\"\"\"\n",
    "        self.__next_state = self.__statestack.pop()\n",
    "        if (context):\n",
    "            self.toNextState(context)\n",
    "\n",
    "    def name(self):\n",
    "        \"\"\"Return name of current state\"\"\"\n",
    "        return self.__current_state.__name__\n",
    "\n",
    "    def setXition(self, func):\n",
    "        \"\"\" Sets the state to transition to upon seeing a transtion event\n",
    "\n",
    "        This method should only be called by the decorators impl'd in this module.\n",
    "        \"\"\"\n",
    "        nxState = self.__current_state.nextStates[func.__name__]\n",
    "        if nxState is not None:\n",
    "            self.__next_state = nxState\n",
    "\n",
    "    def getFunc(self, func, contxt):\n",
    "        \"\"\"Gets the state dependant action method, wrapped in a try-catch block.\n",
    "\n",
    "        This method should only be called by the decorators impl'd in this module.\n",
    "        \"\"\"\n",
    "        crnt = self.__current_state\n",
    "        svar_name = self.sTable.inst_state_name\n",
    "        svCtxt = self.__ctxClass\n",
    "\n",
    "        cc = contxt.__class__\n",
    "        pseudoclas = \"%s_%s\" % (cc.__name__, crnt.__name__)\n",
    "\n",
    "        nmro = [crnt]\n",
    "        lhead = itertools.takewhile(lambda x: x != svCtxt, crnt.__mro__)\n",
    "\n",
    "        if svCtxt in cc.__mro__:\n",
    "            ltail = itertools.dropwhile(lambda x: x != svCtxt, cc.__mro__)\n",
    "        else:\n",
    "            ltail = cc.__mro__\n",
    "        nmro.extend(ltail)\n",
    "\n",
    "        logging.debug(\"%s - %s - %s - [%s]\\n\" % (func.__name__, cc.__name__,\n",
    "                                                 svar_name,  \", \".join(cls.__name__ for cls in truncated(nmro, 'TopLevelWindow'))))\n",
    "        stCls = type(pseudoclas, tuple(nmro), {})\n",
    "\n",
    "        contxt.__class__ = stCls\n",
    "\n",
    "        try:\n",
    "            funky = getattr(contxt, func.__name__)\n",
    "        except:\n",
    "            funky = None\n",
    "\n",
    "        contxt.__class__ = cc   # revert...\n",
    "        if funky is None:\n",
    "            t = \"'%s' has no attribute '%s' in state %s\" % (self.name(),\n",
    "                                                            func.__name__, crnt.__name__)\n",
    "            raise NotImplementedError(t)\n",
    "\n",
    "        # function with wrapping attribute means we've recursed all the way back\n",
    "        #   to the context class and need to call the func as a default.\n",
    "        if hasattr(funky, \"wrapping\") and (funky.wrapping == self.sTable.inst_state_name):\n",
    "            def funcA(*args, **kwargs):\n",
    "                return func(contxt, *args, **kwargs)\n",
    "            funky = funcA\n",
    "\n",
    "        def wrappd2(self, *args, **kwargs):\n",
    "            # wrap in try - except in event that funky() does something funky\n",
    "            try:\n",
    "                self.__class__ = stCls\n",
    "                retn = funky(*args, **kwargs)\n",
    "            finally:\n",
    "                self.__class__ = cc\n",
    "            return retn\n",
    "\n",
    "        return wrappd2"
   ]
  },
  {
   "cell_type": "code",
   "execution_count": null,
   "metadata": {},
   "outputs": [],
   "source": []
  },
  {
   "cell_type": "markdown",
   "metadata": {},
   "source": [
    "###### 27. C++/Java-keyword-like function decorators(略)"
   ]
  },
  {
   "cell_type": "markdown",
   "metadata": {},
   "source": [
    "###### 28. Different Decorator Forms"
   ]
  },
  {
   "cell_type": "code",
   "execution_count": null,
   "metadata": {},
   "outputs": [],
   "source": []
  },
  {
   "cell_type": "markdown",
   "metadata": {},
   "source": [
    "###### 29.Unimplemented function replacement(略)"
   ]
  },
  {
   "cell_type": "markdown",
   "metadata": {},
   "source": [
    "###### 30. Redirects stdout printing to python standard logging"
   ]
  },
  {
   "cell_type": "code",
   "execution_count": 1,
   "metadata": {
    "ExecuteTime": {
     "end_time": "2019-09-11T06:34:13.969476Z",
     "start_time": "2019-09-11T06:34:13.964089Z"
    }
   },
   "outputs": [],
   "source": [
    "import logging\n",
    "import sys\n",
    "\n",
    "\n",
    "class LogPrinter(object):\n",
    "    \"\"\"LogPrinter class which serves to emulates a file object and logs\n",
    "    whatever it gets sent to a Logger object at the INFO level.\n",
    "    \"\"\"\n",
    "\n",
    "    def __init__(self):\n",
    "        \"\"\"Set a specific logger to use for log printing\n",
    "        \"\"\"\n",
    "        self.logger = logging.getLogger('logprinter')\n",
    "        logging.basicConfig()\n",
    "        self.logger.setLevel(logging.INFO)\n",
    "\n",
    "    def write(self, text):\n",
    "\n",
    "        self.logger.info(text)\n",
    "\n",
    "\n",
    "def logprintinfo(func):\n",
    "    \"\"\"wraps a method so that any calls made\n",
    "    to print get logged instead.\n",
    "    \"\"\"\n",
    "    def wrapper(*args, **kwargs):\n",
    "        \n",
    "        stdout_ = sys.stdout\n",
    "        logprinter = LogPrinter()\n",
    "        sys.stdout = logprinter # 将 LogPrinter() 的实例覆盖掉 sys.stdout.....\n",
    "        try:\n",
    "            return func(*args, **kwargs)\n",
    "        finally:\n",
    "            sys.stdout = stdout_\n",
    "    return wrapper"
   ]
  },
  {
   "cell_type": "markdown",
   "metadata": {},
   "source": [
    "###### 31. Access Control"
   ]
  },
  {
   "cell_type": "code",
   "execution_count": 6,
   "metadata": {
    "ExecuteTime": {
     "end_time": "2019-09-11T06:55:35.736402Z",
     "start_time": "2019-09-11T06:55:35.731759Z"
    }
   },
   "outputs": [],
   "source": [
    "class LoginCheck(object):\n",
    "    \"\"\"This class checks whether a user\n",
    "    has logged in properly via the global\n",
    "    'check_cunftion'. If so, the requested routine \n",
    "    is called. Otherwise an alternative page\n",
    "    is displayed via the global 'alt_function'.\n",
    "    \"\"\"\n",
    "    def __init__(self, func):\n",
    "        \n",
    "        self._func = func\n",
    "    \n",
    "    def __call__(self, *args):\n",
    "        \n",
    "        status = check_function()\n",
    "        if status == 1:\n",
    "            return self._func(*args)\n",
    "        else:\n",
    "            return alt_function()\n",
    "\n",
    "def check_function():\n",
    "    \n",
    "    return test\n",
    "\n",
    "def alt_function():\n",
    "    \n",
    "    return 'Sorry - this is the forced behaviour.'\n",
    "\n",
    "test = 0\n",
    "\n",
    "@LoginCheck\n",
    "def display_member_page():\n",
    "    pass"
   ]
  },
  {
   "cell_type": "markdown",
   "metadata": {},
   "source": [
    "###### 32. Events rising and handling(略)"
   ]
  },
  {
   "cell_type": "markdown",
   "metadata": {},
   "source": [
    "###### 33. Singleton"
   ]
  },
  {
   "cell_type": "code",
   "execution_count": 4,
   "metadata": {
    "ExecuteTime": {
     "end_time": "2019-09-11T07:31:50.640339Z",
     "start_time": "2019-09-11T07:31:50.635144Z"
    }
   },
   "outputs": [],
   "source": [
    "import functools\n",
    "\n",
    "def singleton(cls):\n",
    "    \"\"\"Use class as a singleton\n",
    "    \"\"\"\n",
    "    cls.__orig_new__ = cls.__new__\n",
    "    \n",
    "    @functools.wraps(cls.__new__)\n",
    "    def singleton_new(cls, *args, **kwargs):\n",
    "        \n",
    "        it = cls.__dict__.get('__it__', None)\n",
    "        if it is None:\n",
    "            cls.__it__ = it = cls.__orig_new__(cls, *args, **kwargs)\n",
    "            it.__orig_init__(*args, **kwargs)\n",
    "        return it\n",
    "    \n",
    "    cls.__new__ = singleton_new\n",
    "    cls.__orig_init__ = cls.__init__\n",
    "    cls.__init__ = object.__init__\n",
    "    \n",
    "    return cls\n",
    "            "
   ]
  },
  {
   "cell_type": "markdown",
   "metadata": {},
   "source": [
    "###### 34. Asynchronous Call"
   ]
  },
  {
   "cell_type": "code",
   "execution_count": 9,
   "metadata": {
    "ExecuteTime": {
     "end_time": "2019-09-11T08:02:44.904451Z",
     "start_time": "2019-09-11T08:02:44.896152Z"
    }
   },
   "outputs": [],
   "source": [
    "from queue import Queue\n",
    "from threading import Thread\n",
    "\n",
    "\n",
    "class asynchronous(object):\n",
    "    \"\"\"异步多线程调用\n",
    "    \"\"\"\n",
    "    def __init__(self, func):    \n",
    "        \n",
    "        self.func = func\n",
    "        self._queue = Queue()\n",
    "        \n",
    "        def threaded(*args, **kwargs):\n",
    "            self._queue.put(self.func(*args, **kwargs))\n",
    "            \n",
    "        self.threaded = threaded\n",
    "    \n",
    "    def __call__(*args, **kwargs):\n",
    "        \n",
    "        return self.func(*args, **kwargs)\n",
    "    \n",
    "    def start(self, *args, **kwargs):\n",
    "        \n",
    "        thread = Thread(target=self.threaded, args=args, kwargs=kwargs)\n",
    "        thread.start()\n",
    "        return Future(self.queue, thread)\n",
    "\n",
    "class NotFinishedError(Exception):\n",
    "    \n",
    "    def __init__(self, msg):\n",
    "        self.msg = msg\n",
    "\n",
    "class Future(object):\n",
    "    \n",
    "    def __init__(self, queue, thread):\n",
    "        \n",
    "        self.queue = queue\n",
    "        self.thread = thread\n",
    "    \n",
    "    @property\n",
    "    def is_done(self):\n",
    "        \n",
    "        return self.thread.is_alive() != True\n",
    "    \n",
    "    def get_result(self):\n",
    "        \n",
    "        if self.is_done != True:\n",
    "            raise NotFinishedError('The call has not yet completed its task.')\n",
    "        \n",
    "        if not hasattr(self, 'result'):\n",
    "            self.result = self.queue.get()\n",
    "        \n",
    "        return self.result"
   ]
  },
  {
   "cell_type": "markdown",
   "metadata": {},
   "source": [
    "###### 35. Class method decorator using instance\n",
    "当装饰一个 classmethod 时, 装饰器接受的是一个没有与实例绑定的函数"
   ]
  },
  {
   "cell_type": "code",
   "execution_count": 10,
   "metadata": {
    "ExecuteTime": {
     "end_time": "2019-09-11T08:06:49.312008Z",
     "start_time": "2019-09-11T08:06:49.309285Z"
    }
   },
   "outputs": [],
   "source": [
    "import functools\n",
    "\n",
    "\n",
    "def decorator(func):\n",
    "    \"\"\"classmethod decorator specific to the instance.\n",
    "    It used a descriptor to delay the definition of the method wrapper\n",
    "    \"\"\"\n",
    "    class descriptor(object):\n",
    "        \n",
    "        def __init__(self, func):\n",
    "            \n",
    "            self.func = func\n",
    "        \n",
    "        def __get__(self, instance, instance_type):\n",
    "            \n",
    "            if instance is None:\n",
    "                return self.make_unbound(instance_type)\n",
    "            else:\n",
    "                return self.make_bound(instance)\n",
    "        \n",
    "        def make_unbound(self, cls):\n",
    "            \n",
    "            @functools.wraps(self.func)\n",
    "            def wrapper(*args, **kwargs):\n",
    "                \"\"\"This doc will be vanish :)\n",
    "                \"\"\"\n",
    "                raise TypeError(\n",
    "                    f'Unbound method {self.func.__name__}()'\n",
    "                    f'must be called with {cls.__name__}'\n",
    "                )\n",
    "    "
   ]
  },
  {
   "cell_type": "code",
   "execution_count": null,
   "metadata": {},
   "outputs": [],
   "source": []
  }
 ],
 "metadata": {
  "kernelspec": {
   "display_name": "Python 3",
   "language": "python",
   "name": "python3"
  },
  "language_info": {
   "codemirror_mode": {
    "name": "ipython",
    "version": 3
   },
   "file_extension": ".py",
   "mimetype": "text/x-python",
   "name": "python",
   "nbconvert_exporter": "python",
   "pygments_lexer": "ipython3",
   "version": "3.6.7"
  },
  "toc": {
   "base_numbering": 1,
   "nav_menu": {},
   "number_sections": true,
   "sideBar": true,
   "skip_h1_title": true,
   "title_cell": "Table of Contents",
   "title_sidebar": "Contents",
   "toc_cell": true,
   "toc_position": {
    "height": "812px",
    "left": "510px",
    "top": "93px",
    "width": "257px"
   },
   "toc_section_display": true,
   "toc_window_display": true
  }
 },
 "nbformat": 4,
 "nbformat_minor": 2
}
