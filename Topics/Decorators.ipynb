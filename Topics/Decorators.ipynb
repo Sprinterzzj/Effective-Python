{
 "cells": [
  {
   "cell_type": "markdown",
   "metadata": {
    "toc": true
   },
   "source": [
    "<h1>Table of Contents<span class=\"tocSkip\"></span></h1>\n",
    "<div class=\"toc\"><ul class=\"toc-item\"><li><span><a href=\"#装饰器函数与装饰器类\" data-toc-modified-id=\"装饰器函数与装饰器类-1\"><span class=\"toc-item-num\">1&nbsp;&nbsp;</span>装饰器函数与装饰器类</a></span><ul class=\"toc-item\"><li><span><a href=\"#装饰器函数\" data-toc-modified-id=\"装饰器函数-1.1\"><span class=\"toc-item-num\">1.1&nbsp;&nbsp;</span>装饰器函数</a></span></li><li><span><a href=\"#装饰器类\" data-toc-modified-id=\"装饰器类-1.2\"><span class=\"toc-item-num\">1.2&nbsp;&nbsp;</span>装饰器类</a></span></li></ul></li><li><span><a href=\"#使用装饰器的例子\" data-toc-modified-id=\"使用装饰器的例子-2\"><span class=\"toc-item-num\">2&nbsp;&nbsp;</span>使用装饰器的例子</a></span><ul class=\"toc-item\"><li><span><a href=\"#classmethod\" data-toc-modified-id=\"classmethod-2.1\"><span class=\"toc-item-num\">2.1&nbsp;&nbsp;</span>classmethod</a></span></li><li><span><a href=\"#staticmethod\" data-toc-modified-id=\"staticmethod-2.2\"><span class=\"toc-item-num\">2.2&nbsp;&nbsp;</span>staticmethod</a></span></li><li><span><a href=\"#property\" data-toc-modified-id=\"property-2.3\"><span class=\"toc-item-num\">2.3&nbsp;&nbsp;</span>property</a></span></li><li><span><a href=\"#deprecation-of-function\" data-toc-modified-id=\"deprecation-of-function-2.4\"><span class=\"toc-item-num\">2.4&nbsp;&nbsp;</span>deprecation of function</a></span></li><li><span><a href=\"#WHILE-loop-removing-decorator\" data-toc-modified-id=\"WHILE-loop-removing-decorator-2.5\"><span class=\"toc-item-num\">2.5&nbsp;&nbsp;</span>WHILE-loop removing decorator</a></span></li><li><span><a href=\"#plugin-registration-system\" data-toc-modified-id=\"plugin-registration-system-2.6\"><span class=\"toc-item-num\">2.6&nbsp;&nbsp;</span>plugin registration system</a></span></li></ul></li><li><span><a href=\"#摘自-https://wiki.python.org/moin/PythonDecoratorLibrary\" data-toc-modified-id=\"摘自-https://wiki.python.org/moin/PythonDecoratorLibrary-3\"><span class=\"toc-item-num\">3&nbsp;&nbsp;</span>摘自 <a href=\"https://wiki.python.org/moin/PythonDecoratorLibrary\" target=\"_blank\">https://wiki.python.org/moin/PythonDecoratorLibrary</a></a></span><ul class=\"toc-item\"><li><span><a href=\"#不使用-@wraps来保持原始函数的信息\" data-toc-modified-id=\"不使用-@wraps来保持原始函数的信息-3.1\"><span class=\"toc-item-num\">3.1&nbsp;&nbsp;</span>不使用 @wraps来保持原始函数的信息</a></span></li><li><span><a href=\"#利用装饰器定义属性\" data-toc-modified-id=\"利用装饰器定义属性-3.2\"><span class=\"toc-item-num\">3.2&nbsp;&nbsp;</span>利用装饰器定义属性</a></span></li></ul></li></ul></div>"
   ]
  },
  {
   "cell_type": "markdown",
   "metadata": {},
   "source": [
    "##### 装饰器函数与装饰器类\n",
    "###### 装饰器函数"
   ]
  },
  {
   "cell_type": "markdown",
   "metadata": {},
   "source": [
    "简单装饰器, 返回原来的函数"
   ]
  },
  {
   "cell_type": "code",
   "execution_count": 2,
   "metadata": {
    "ExecuteTime": {
     "end_time": "2019-07-08T06:27:24.483762Z",
     "start_time": "2019-07-08T06:27:24.478484Z"
    }
   },
   "outputs": [
    {
     "name": "stdout",
     "output_type": "stream",
     "text": [
      "Doing decoration\n"
     ]
    }
   ],
   "source": [
    "def simple_decorator(func):\n",
    "    print('Doing decoration')\n",
    "    return func\n",
    "\n",
    "#装饰器在定义函数的时候就\n",
    "#已经执行了, 因此可以被用来\n",
    "#在内部函数执行前后做一些\n",
    "#额外的工作\n",
    "@simple_decorator\n",
    "def func():\n",
    "    print('Inside function.')"
   ]
  },
  {
   "cell_type": "markdown",
   "metadata": {},
   "source": [
    "带参数的装饰器, 返回原来的函数"
   ]
  },
  {
   "cell_type": "code",
   "execution_count": 3,
   "metadata": {
    "ExecuteTime": {
     "end_time": "2019-07-08T06:27:40.004461Z",
     "start_time": "2019-07-08T06:27:40.000335Z"
    }
   },
   "outputs": [],
   "source": [
    "def decorator_with_args(arg):\n",
    "    print('defining the decorator.')\n",
    "    def _decorator(func):\n",
    "        #内部函数中 args仍然可见\n",
    "        print('doing decoration, %r' % arg)\n",
    "        return func\n",
    "    return _decorator\n",
    "\n",
    "@decorator_with_args('abc')\n",
    "def func():\n",
    "    print('Inside function.')"
   ]
  },
  {
   "cell_type": "markdown",
   "metadata": {},
   "source": [
    "简单装饰器, 返回新的函数 _wrapper"
   ]
  },
  {
   "cell_type": "code",
   "execution_count": 47,
   "metadata": {},
   "outputs": [],
   "source": [
    "\n",
    "def simple_decorator(func):\n",
    "    print('Defining the decorator.')\n",
    "    def _wrapper(*args, **kwargs):\n",
    "        print(\"Inside wrapper, %r %r\" % (args, kwargs))\n",
    "        return func(*args, **kwargs)\n",
    "    return _wrapper        \n",
    "\n",
    "@simple_decorator\n",
    "def func(*args, **kwargs):\n",
    "    print('Inside function, %r %r' % (args, kwargs))\n",
    "    return 14"
   ]
  },
  {
   "cell_type": "markdown",
   "metadata": {},
   "source": [
    "带参数的装饰器, 返回新的函数 \\_wrapper"
   ]
  },
  {
   "cell_type": "code",
   "execution_count": 4,
   "metadata": {
    "ExecuteTime": {
     "end_time": "2019-07-08T06:28:17.988932Z",
     "start_time": "2019-07-08T06:28:17.984106Z"
    }
   },
   "outputs": [],
   "source": [
    "def decorator_with_args(arg):\n",
    "    print('Defining the decorator.')\n",
    "    def _decorator(func):\n",
    "        print(\"Doing decoration, %r\" % arg)\n",
    "        def _wrapper(*args, **kwargs):\n",
    "            print(\"Inside wrapper, %r %r\" % (args, kwargs))\n",
    "            return func(*args, **kwargs)\n",
    "        print(\"Finish decoration, %r\" % arg)\n",
    "        return _wrapper\n",
    "    print('Finish the decorator.')\n",
    "    return _decorator\n",
    "\n",
    "@decorator_with_args('abc')\n",
    "def func(*args, **kwargs):\n",
    "    print('Inside function, %r %r' % (args, kwargs))\n",
    "    return 14"
   ]
  },
  {
   "cell_type": "markdown",
   "metadata": {},
   "source": [
    "###### 装饰器类"
   ]
  },
  {
   "cell_type": "markdown",
   "metadata": {},
   "source": [
    "返回原始函数的装饰器类"
   ]
  },
  {
   "cell_type": "code",
   "execution_count": 5,
   "metadata": {
    "ExecuteTime": {
     "end_time": "2019-07-08T06:30:38.576112Z",
     "start_time": "2019-07-08T06:30:38.570170Z"
    }
   },
   "outputs": [
    {
     "name": "stdout",
     "output_type": "stream",
     "text": [
      "In decorator init, foo\n",
      "In decorator call, foo\n"
     ]
    }
   ],
   "source": [
    "class decorator_class(object):\n",
    "    def __init__(self, arg):\n",
    "        print(\"In decorator init, %s\"% arg)\n",
    "        self.arg = arg\n",
    "    def __call__(self, func):\n",
    "        print('In decorator call, %s' % self.arg)\n",
    "        return func\n",
    "\n",
    "deco_instance = decorator_class(arg = 'foo')\n",
    "@deco_instance\n",
    "def function(*args, **kwargs):\n",
    "    print('In function, %s %s' % (args, kwargs))"
   ]
  },
  {
   "cell_type": "markdown",
   "metadata": {},
   "source": [
    "**返回新对象的装饰器类**"
   ]
  },
  {
   "cell_type": "code",
   "execution_count": 8,
   "metadata": {
    "ExecuteTime": {
     "end_time": "2019-07-08T06:32:30.229667Z",
     "start_time": "2019-07-08T06:32:30.221895Z"
    }
   },
   "outputs": [
    {
     "name": "stdout",
     "output_type": "stream",
     "text": [
      "In decorator init, foo\n",
      "In decorator call, foo\n",
      "In the wrapper, (0, 1) {'a': 3}\n",
      "In function, (0, 1) {'a': 3}\n"
     ]
    }
   ],
   "source": [
    "class replacing_decorator_class(object):\n",
    "    def __init__(self, arg):\n",
    "        print('In decorator init, %s' % arg)\n",
    "        self.arg = arg\n",
    "    def __call__(self, func):\n",
    "        print('In decorator call, %s' % self.arg)\n",
    "        self.func = func\n",
    "        return self._wrapper\n",
    "    def _wrapper(self, *args, **kwargs):\n",
    "        print('In the wrapper, %s %s' % (args, kwargs))\n",
    "        return self.func(*args, **kwargs)\n",
    "\n",
    "#初始化函数在类的实例化时运行\n",
    "deco_instance = replacing_decorator_class(arg = 'foo')\n",
    "\n",
    "#__call__函数在装饰器装配时运行,\n",
    "#同时初始化func成员\n",
    "#然后返回wrapper, 一个新的对象。\n",
    "@deco_instance\n",
    "def func(*args, **kwargs):\n",
    "    print('In function, %s %s' % (args, kwargs))\n",
    "\n",
    "#在wrapper方法中运行func\n",
    "func(0,1, a = 3)"
   ]
  },
  {
   "cell_type": "markdown",
   "metadata": {
    "ExecuteTime": {
     "end_time": "2019-04-11T01:07:06.436254Z",
     "start_time": "2019-04-11T01:07:06.434205Z"
    }
   },
   "source": [
    "注意上面的 replacing_decorator_class 会返回 \\_wrapper成员.<br>\n",
    "这么做的一个弊端是: 原始函数 func的名字, doc, 参数列表全部丢失.<br>\n",
    "**解决方案: functools.update_wrapper 或 functools.wraps**"
   ]
  },
  {
   "cell_type": "code",
   "execution_count": 14,
   "metadata": {
    "ExecuteTime": {
     "end_time": "2019-07-08T06:38:17.355589Z",
     "start_time": "2019-07-08T06:38:17.339943Z"
    }
   },
   "outputs": [
    {
     "name": "stdout",
     "output_type": "stream",
     "text": [
      "defining the decorator\n",
      "doing decoration, 'abc'\n",
      "function \n",
      "    extensive documentation\n",
      "    \n"
     ]
    },
    {
     "data": {
      "text/plain": [
       "('args', 'kwargs')"
      ]
     },
     "execution_count": 14,
     "metadata": {},
     "output_type": "execute_result"
    }
   ],
   "source": [
    "from functools import update_wrapper, wraps\n",
    "#functools.update_wrapper\n",
    "def replacing_decorator_with_args(arg):\n",
    "    print('defining the decorator')\n",
    "    def _decorator(function):\n",
    "        print('doing decoration, %r' % arg)\n",
    "        def _wrapper(*args, **kwargs):\n",
    "            print('inside wrapper, %r %r' % (args, kwargs))\n",
    "            return function(*args, **kwargs)\n",
    "        return update_wrapper(_wrapper, function)\n",
    "    return  _decorator\n",
    "\n",
    "@replacing_decorator_with_args('abc')\n",
    "def function(a = 13):\n",
    "    \"\"\"\n",
    "    extensive documentation\n",
    "    \"\"\"\n",
    "    print('inside function')\n",
    "    return 14\n",
    "\n",
    "#原始函数的名字和doc都可以拷贝过来\n",
    "print(function.__name__, function.__doc__)\n",
    "\n",
    "#但是参数列表依然无法copy\n",
    "function.__code__.co_varnames"
   ]
  },
  {
   "cell_type": "code",
   "execution_count": 16,
   "metadata": {
    "ExecuteTime": {
     "end_time": "2019-07-08T06:39:08.567050Z",
     "start_time": "2019-07-08T06:39:08.558143Z"
    }
   },
   "outputs": [
    {
     "name": "stdout",
     "output_type": "stream",
     "text": [
      "defining the decorator\n",
      "doing decoration, 'abc'\n",
      "function \n",
      "    extensive documentation\n",
      "    \n"
     ]
    },
    {
     "data": {
      "text/plain": [
       "('args', 'kwargs')"
      ]
     },
     "execution_count": 16,
     "metadata": {},
     "output_type": "execute_result"
    }
   ],
   "source": [
    "#functools.wraps\n",
    "def replacing_decorator_with_args(arg):\n",
    "    print('defining the decorator')\n",
    "    def _decorator(function):\n",
    "        print('doing decoration, %r' % arg)\n",
    "        @wraps(function)\n",
    "        def _wrapper(*args, **kwargs):\n",
    "            print('inside wrapper, %r %r' % (args, kwargs))\n",
    "            return function(*args, **kwargs)\n",
    "        return _wrapper\n",
    "    return  _decorator\n",
    "\n",
    "@replacing_decorator_with_args('abc')\n",
    "def function(a = 13):\n",
    "    \"\"\"\n",
    "    extensive documentation\n",
    "    \"\"\"\n",
    "    print('inside function')\n",
    "    return 14\n",
    "\n",
    "#原始函数的名字和doc都可以拷贝过来\n",
    "print(function.__name__, function.__doc__)\n",
    "\n",
    "#同上, 参数列表无法被copy\n",
    "function.__code__.co_varnames"
   ]
  },
  {
   "cell_type": "markdown",
   "metadata": {},
   "source": [
    "##### 使用装饰器的例子"
   ]
  },
  {
   "cell_type": "markdown",
   "metadata": {},
   "source": [
    "###### classmethod"
   ]
  },
  {
   "cell_type": "code",
   "execution_count": 17,
   "metadata": {
    "ExecuteTime": {
     "end_time": "2019-07-08T06:40:39.188663Z",
     "start_time": "2019-07-08T06:40:38.081658Z"
    }
   },
   "outputs": [],
   "source": [
    "import numpy as np\n",
    "class Array(object):\n",
    "    def __init__(self, data):\n",
    "        self.data = data\n",
    "    \n",
    "    #classmethod作为工厂方法, 创建类的实例\n",
    "    @classmethod\n",
    "    def fromfile(cls, file):\n",
    "        data = np.load(file)\n",
    "        return cls(data)"
   ]
  },
  {
   "cell_type": "markdown",
   "metadata": {},
   "source": [
    "###### staticmethod"
   ]
  },
  {
   "cell_type": "code",
   "execution_count": 23,
   "metadata": {
    "ExecuteTime": {
     "end_time": "2019-04-11T01:20:54.328139Z",
     "start_time": "2019-04-11T01:20:54.325735Z"
    }
   },
   "outputs": [],
   "source": [
    "#在开发中，我们常常需要定义一些方法，这些方法跟类有关，但在实现时并不需要引用类或者实例，\n",
    "#例如，设置环境变量，修改另一个类的变量，等。这个时候，我们可以使用静态方法。 "
   ]
  },
  {
   "cell_type": "markdown",
   "metadata": {},
   "source": [
    "###### property"
   ]
  },
  {
   "cell_type": "markdown",
   "metadata": {},
   "source": [
    "注意只实现了property的属性是 read-only的"
   ]
  },
  {
   "cell_type": "code",
   "execution_count": 21,
   "metadata": {
    "ExecuteTime": {
     "end_time": "2019-07-08T06:43:14.911230Z",
     "start_time": "2019-07-08T06:43:14.905526Z"
    }
   },
   "outputs": [
    {
     "name": "stdout",
     "output_type": "stream",
     "text": [
      "a value\n",
      "没有实现setter方法.\n"
     ]
    }
   ],
   "source": [
    "class A(object):\n",
    "    @property\n",
    "    def a(self):\n",
    "        \"\"\"an important attribute\n",
    "        \"\"\"\n",
    "        return 'a value'\n",
    "\n",
    "print(A().a)\n",
    "\n",
    "try:\n",
    "    A().a = 3\n",
    "except AttributeError:\n",
    "    print('没有实现setter方法.')"
   ]
  },
  {
   "cell_type": "markdown",
   "metadata": {},
   "source": [
    "你可以实现setter方法, 让它可以被赋值"
   ]
  },
  {
   "cell_type": "code",
   "execution_count": 22,
   "metadata": {
    "ExecuteTime": {
     "end_time": "2019-07-08T06:43:26.059790Z",
     "start_time": "2019-07-08T06:43:26.055332Z"
    }
   },
   "outputs": [],
   "source": [
    "class Rectangle(object):\n",
    "    def __init__(self, edge):\n",
    "        self.edge = edge\n",
    "    @property\n",
    "    def area(self):\n",
    "        return self.edge **2\n",
    "    @area.setter\n",
    "    def area(self, area):\n",
    "        self.edge = area ** .5"
   ]
  },
  {
   "cell_type": "markdown",
   "metadata": {},
   "source": [
    "###### deprecation of function"
   ]
  },
  {
   "cell_type": "code",
   "execution_count": 29,
   "metadata": {
    "ExecuteTime": {
     "end_time": "2019-04-11T01:45:00.083336Z",
     "start_time": "2019-04-11T01:45:00.079383Z"
    }
   },
   "outputs": [],
   "source": [
    "#我们要在某个函数第一次调用时打出 deprecation警告\n",
    "class deprecated(object):\n",
    "    def __call__(self, func):\n",
    "        self.func = func\n",
    "        self.count = 0\n",
    "        return self._wrapper\n",
    "    def _wrapper(self, *args, **kwrags):\n",
    "        self.count += 1\n",
    "        if self.count == 1:\n",
    "            print(self.func.__name__, 'is deprecated')\n",
    "        return self.func(*args, **kwargs)    \n",
    "\n",
    "#你也可以用装饰器函数\n",
    "def deprecated(func):\n",
    "    count = [0]\n",
    "    def wrapper(*args, **kwargs):\n",
    "        count[0] += 1\n",
    "        if count[0] == 1:\n",
    "            print(func.__name__, 'is deprecated')\n",
    "        return func(*args, **kwargs)\n",
    "    return wrapper"
   ]
  },
  {
   "cell_type": "markdown",
   "metadata": {},
   "source": [
    "######  WHILE-loop removing decorator"
   ]
  },
  {
   "cell_type": "code",
   "execution_count": 23,
   "metadata": {
    "ExecuteTime": {
     "end_time": "2019-07-08T06:47:01.029455Z",
     "start_time": "2019-07-08T06:47:01.025253Z"
    }
   },
   "outputs": [],
   "source": [
    "#当然你也可以直接用 yield, 但是某些情况下 list(EXPR) 会比较丑\n",
    "def vectorized(gen_func):\n",
    "    \"\"\"\n",
    "    Parameters\n",
    "    ----------\n",
    "    gen_func: 生成器函数\n",
    "    \"\"\"\n",
    "    def wrapper(*args, **kwargs):\n",
    "        return list(gen_func(*args, **kwargs))\n",
    "    return update_wrapper(wrapper, gen_func)\n",
    "\n",
    "@vectorized\n",
    "def find_answers():\n",
    "    while True:\n",
    "        ans = look_for_next_answer()\n",
    "        if ans is None:\n",
    "            break\n",
    "        yield ans"
   ]
  },
  {
   "cell_type": "markdown",
   "metadata": {},
   "source": [
    "###### plugin registration system"
   ]
  },
  {
   "cell_type": "code",
   "execution_count": null,
   "metadata": {
    "ExecuteTime": {
     "end_time": "2019-07-08T06:48:04.456047Z",
     "start_time": "2019-07-08T06:48:04.450199Z"
    }
   },
   "outputs": [],
   "source": [
    "#WordProcessor装饰器类不会更改他装饰的类, 而是把他加到PLUGINS中去\n",
    "class WordProcessor(object):\n",
    "    PLUGINS = []\n",
    "    #process方法实例化PLUGINS中的类,然后执行他们\n",
    "    def process(self, text):\n",
    "        for plugin in self.PLUGINS:\n",
    "            text = plugin().cleanup(text)\n",
    "        return text\n",
    "    @classmethod\n",
    "    def plugin(cls, plugin):\n",
    "        cls.PLUGINS.append(plugin)\n",
    "\n",
    "@WordProcessor.plugin\n",
    "class CleanMdashesExtension(object):\n",
    "    def cleanup(self, text):\n",
    "        return text.replace('&mdash', u'\\N{em dash}')"
   ]
  },
  {
   "cell_type": "markdown",
   "metadata": {},
   "source": [
    "##### 摘自 https://wiki.python.org/moin/PythonDecoratorLibrary"
   ]
  },
  {
   "cell_type": "markdown",
   "metadata": {},
   "source": [
    "###### 不使用 @wraps来保持原始函数的信息"
   ]
  },
  {
   "cell_type": "code",
   "execution_count": 41,
   "metadata": {
    "ExecuteTime": {
     "end_time": "2019-07-08T07:17:19.616874Z",
     "start_time": "2019-07-08T07:17:19.604137Z"
    }
   },
   "outputs": [
    {
     "name": "stdout",
     "output_type": "stream",
     "text": [
      "装饰之前:\n",
      "add\n",
      "两数相加\n",
      "{}\n",
      "使用了 demo_logging_decorator:\n",
      "wrapper\n",
      "None\n",
      "{}\n",
      "使用了 better_demo_logging_decorator:\n",
      "add_with_log_v2\n",
      "两数相加\n",
      "{}\n"
     ]
    }
   ],
   "source": [
    "def simple_decorator(decorator):\n",
    "    \"\"\"\n",
    "    你的装饰器函数 `decorator`必须足够简单:\n",
    "    1. 接受一个函数, 返回一个函数\n",
    "    2. 不修改函数的属性和文档\n",
    "    \"\"\"\n",
    "    def new_decorator(f):\n",
    "        g = decorator(f)\n",
    "        g.__name__ = f.__name__\n",
    "        g.__doc__ = f.__doc__\n",
    "        g.__dict__.update(f.__dict__)\n",
    "        return g\n",
    "    # 下面要修改 new_decorator, 使得它和原装饰器函数一致\n",
    "    # print(new_decorator.__name__)\n",
    "    new_decorator.__name__ = decorator.__name__\n",
    "    # print(new_decorator.__name__)\n",
    "    new_decorator.__doc__ = decorator.__doc__\n",
    "    new_decorator.__dict__.update(decorator.__dict__)\n",
    "    return new_decorator\n",
    "\n",
    "def demo_logging_decorator(func):\n",
    "    def wrapper(*args, **kwargs):\n",
    "        print('calling {}'.format(func.__name__))\n",
    "        return func(*args, **kwargs)\n",
    "    return wrapper\n",
    "\n",
    "@simple_decorator\n",
    "def better_demo_logging_decorator(func):\n",
    "    def wrapper(*args, **kwargs):\n",
    "        print('calling {}'.format(func.__name__))\n",
    "        return func(*args, **kwargs)\n",
    "    return wrapper\n",
    "\n",
    "def add(x, y):\n",
    "    '两数相加'\n",
    "    return x + y\n",
    "\n",
    "@demo_logging_decorator\n",
    "def add_with_log(x, y):\n",
    "    '两数相加'\n",
    "    return x + y\n",
    "\n",
    "@better_demo_logging_decorator\n",
    "def add_with_log_v2(x, y):\n",
    "    '两数相加'\n",
    "    return x + y\n",
    "\n",
    "\n",
    "print('装饰之前:')\n",
    "print(add.__name__)\n",
    "print(add.__doc__)\n",
    "print(add.__dict__)\n",
    "print('使用了 demo_logging_decorator:')\n",
    "print(add_with_log.__name__)\n",
    "print(add_with_log.__doc__)\n",
    "print(add_with_log.__dict__)\n",
    "print('使用了 better_demo_logging_decorator:')\n",
    "print(add_with_log_v2.__name__)\n",
    "print(add_with_log_v2.__doc__)\n",
    "print(add_with_log_v2.__dict__)"
   ]
  },
  {
   "cell_type": "markdown",
   "metadata": {},
   "source": [
    "###### 利用装饰器定义属性"
   ]
  },
  {
   "cell_type": "code",
   "execution_count": 3,
   "metadata": {
    "ExecuteTime": {
     "end_time": "2019-07-17T12:20:14.177488Z",
     "start_time": "2019-07-17T12:20:14.173266Z"
    }
   },
   "outputs": [],
   "source": [
    "import sys\n",
    "def test(a, b):\n",
    "    #获取当前函数的局部变量\n",
    "    print(sys._getframe(0).f_locals)\n",
    "    #获取main的全部变量, 这里面包括:\n",
    "    #1. 导入的模块\n",
    "    #2. 用户定义的函数(def)\n",
    "    print(sys._getframe(1).f_locals.keys())\n",
    "\n",
    "\n",
    "# test(1, 3)"
   ]
  },
  {
   "cell_type": "code",
   "execution_count": null,
   "metadata": {},
   "outputs": [],
   "source": [
    "import sys\n",
    "def proget(func):\n",
    "    locals_ = sys._getframe(1).f_locals\n",
    "    name = func.__name__\n",
    "    prop = locals_.get(name)\n",
    "    print(prop)\n",
    "    if not isinstance(prop, property):\n",
    "        prop = property(fget=func, doc=func.__doc__)\n",
    "    else:\n",
    "        "
   ]
  }
 ],
 "metadata": {
  "kernelspec": {
   "display_name": "Python 3",
   "language": "python",
   "name": "python3"
  },
  "language_info": {
   "codemirror_mode": {
    "name": "ipython",
    "version": 3
   },
   "file_extension": ".py",
   "mimetype": "text/x-python",
   "name": "python",
   "nbconvert_exporter": "python",
   "pygments_lexer": "ipython3",
   "version": "3.6.8"
  },
  "toc": {
   "base_numbering": 1,
   "nav_menu": {},
   "number_sections": true,
   "sideBar": true,
   "skip_h1_title": true,
   "title_cell": "Table of Contents",
   "title_sidebar": "Contents",
   "toc_cell": true,
   "toc_position": {
    "height": "calc(100% - 180px)",
    "left": "10px",
    "top": "150px",
    "width": "240px"
   },
   "toc_section_display": true,
   "toc_window_display": false
  }
 },
 "nbformat": 4,
 "nbformat_minor": 2
}
