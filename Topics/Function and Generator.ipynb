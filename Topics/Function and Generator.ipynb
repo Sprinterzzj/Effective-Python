{
 "cells": [
  {
   "cell_type": "markdown",
   "metadata": {
    "toc": true
   },
   "source": [
    "<h1>Table of Contents<span class=\"tocSkip\"></span></h1>\n",
    "<div class=\"toc\"><ul class=\"toc-item\"><li><span><a href=\"#函数对象是如何运行的\" data-toc-modified-id=\"函数对象是如何运行的-1\"><span class=\"toc-item-num\">1&nbsp;&nbsp;</span>函数对象是如何运行的</a></span><ul class=\"toc-item\"><li><span><a href=\"#在函数调用时,-首先用PyEval_EvalFramEx(C-函数)来执行-foo函数\" data-toc-modified-id=\"在函数调用时,-首先用PyEval_EvalFramEx(C-函数)来执行-foo函数-1.1\"><span class=\"toc-item-num\">1.1&nbsp;&nbsp;</span>在函数调用时, 首先用PyEval_EvalFramEx(C 函数)来执行 foo函数</a></span></li><li><span><a href=\"#PyEval_EvalFramEx会创建-PyFrameObject(栈帧对象):\" data-toc-modified-id=\"PyEval_EvalFramEx会创建-PyFrameObject(栈帧对象):-1.2\"><span class=\"toc-item-num\">1.2&nbsp;&nbsp;</span>PyEval_EvalFramEx会创建 PyFrameObject(栈帧对象):</a></span></li></ul></li></ul></div>"
   ]
  },
  {
   "cell_type": "markdown",
   "metadata": {},
   "source": [
    "##### 函数对象是如何运行的"
   ]
  },
  {
   "cell_type": "code",
   "execution_count": 1,
   "metadata": {
    "ExecuteTime": {
     "end_time": "2019-05-22T00:50:54.241903Z",
     "start_time": "2019-05-22T00:50:54.239543Z"
    }
   },
   "outputs": [],
   "source": [
    "import inspect\n",
    "import dis"
   ]
  },
  {
   "cell_type": "code",
   "execution_count": 2,
   "metadata": {
    "ExecuteTime": {
     "end_time": "2019-05-22T00:53:02.664396Z",
     "start_time": "2019-05-22T00:53:02.662219Z"
    }
   },
   "outputs": [],
   "source": [
    "def foo():\n",
    "    bar()\n",
    "def bar():\n",
    "    a = 3\n",
    "    return a"
   ]
  },
  {
   "cell_type": "markdown",
   "metadata": {},
   "source": [
    "###### 在函数调用时, 首先用PyEval_EvalFramEx(C 函数)来执行 foo函数"
   ]
  },
  {
   "cell_type": "markdown",
   "metadata": {},
   "source": [
    "###### PyEval_EvalFramEx会创建 PyFrameObject(栈帧对象):\n",
    "1. 栈帧是分配在堆上的, 所以在函数调用结束后不会主动释放\n",
    "2. PyFrameObject有两个属性: f\\_back 和 f\\_code. 后者指向了当前函数的字节码对象(PyCodeObject), 前者指向了调用该函数的栈帧对象的f_code."
   ]
  },
  {
   "cell_type": "code",
   "execution_count": 5,
   "metadata": {
    "ExecuteTime": {
     "end_time": "2019-05-22T01:09:31.252625Z",
     "start_time": "2019-05-22T01:09:31.249311Z"
    }
   },
   "outputs": [
    {
     "name": "stdout",
     "output_type": "stream",
     "text": [
      "  2           0 LOAD_GLOBAL              0 (bar)\n",
      "              2 CALL_FUNCTION            0\n",
      "              4 POP_TOP\n",
      "              6 LOAD_CONST               0 (None)\n",
      "              8 RETURN_VALUE\n"
     ]
    }
   ],
   "source": [
    "#首先用diss.diss模块来查看函数的字节码\n",
    "\n",
    "#函数调用是递归的\n",
    "dis.dis(foo)"
   ]
  },
  {
   "cell_type": "code",
   "execution_count": 6,
   "metadata": {
    "ExecuteTime": {
     "end_time": "2019-05-22T01:09:40.415277Z",
     "start_time": "2019-05-22T01:09:40.410842Z"
    }
   },
   "outputs": [
    {
     "name": "stdout",
     "output_type": "stream",
     "text": [
      "  4           0 LOAD_CONST               1 (3)\n",
      "              2 STORE_FAST               0 (a)\n",
      "\n",
      "  5           4 LOAD_FAST                0 (a)\n",
      "              6 RETURN_VALUE\n"
     ]
    }
   ],
   "source": [
    "dis.dis(bar)"
   ]
  },
  {
   "cell_type": "code",
   "execution_count": 7,
   "metadata": {
    "ExecuteTime": {
     "end_time": "2019-05-22T01:11:24.128480Z",
     "start_time": "2019-05-22T01:11:24.125112Z"
    }
   },
   "outputs": [],
   "source": [
    "#我们可以获取函数的栈帧对象\n",
    "frame = None\n",
    "def foo():\n",
    "    bar()\n",
    "def bar():\n",
    "    global frame\n",
    "    a = 2\n",
    "    frame = inspect.currentframe()"
   ]
  },
  {
   "cell_type": "code",
   "execution_count": null,
   "metadata": {},
   "outputs": [],
   "source": []
  }
 ],
 "metadata": {
  "kernelspec": {
   "display_name": "Python 3",
   "language": "python",
   "name": "python3"
  },
  "language_info": {
   "codemirror_mode": {
    "name": "ipython",
    "version": 3
   },
   "file_extension": ".py",
   "mimetype": "text/x-python",
   "name": "python",
   "nbconvert_exporter": "python",
   "pygments_lexer": "ipython3",
   "version": "3.6.8"
  },
  "toc": {
   "base_numbering": 1,
   "nav_menu": {},
   "number_sections": true,
   "sideBar": true,
   "skip_h1_title": true,
   "title_cell": "Table of Contents",
   "title_sidebar": "Contents",
   "toc_cell": true,
   "toc_position": {},
   "toc_section_display": true,
   "toc_window_display": false
  }
 },
 "nbformat": 4,
 "nbformat_minor": 2
}
