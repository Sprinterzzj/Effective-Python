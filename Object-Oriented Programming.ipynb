{
 "cells": [
  {
   "cell_type": "code",
   "execution_count": 3,
   "metadata": {
    "ExecuteTime": {
     "end_time": "2019-04-15T07:26:27.754736Z",
     "start_time": "2019-04-15T07:26:27.749688Z"
    }
   },
   "outputs": [],
   "source": [
    "class Account(object):\n",
    "    #类的静态属性\n",
    "    interest = .2\n",
    "    \n",
    "    def __init__(self, account_holder):\n",
    "        self.balance = 0\n",
    "        self.holder = account_holder\n",
    "    def deposit(self, amount):\n",
    "        self.balance += amount\n",
    "    def withdraw(self, amount):\n",
    "        if amount > self.balance:\n",
    "            return 'Insufficient funds'\n",
    "        self.balance -= amount\n",
    "        return self.balance"
   ]
  },
  {
   "cell_type": "markdown",
   "metadata": {},
   "source": [
    "###### 点表达式\n",
    "\n",
    "```\n",
    "<expression> . <name>\n",
    "```\n",
    "\n",
    "1. 求解书点左边的expression, 这会产生点运算符的对象\n",
    "2. \\<name\\>会和对象的**实例属性**匹配; 如果该名称的属性存在, 会返回它的值\n",
    "3. 如果\\<name\\>不存在于实例属性中, 会在类中查找之, 产生类的**静态属性**\n",
    "4. 这个植被返回, 如果他是个函数, 会返回绑定方法"
   ]
  },
  {
   "cell_type": "markdown",
   "metadata": {},
   "source": [
    "###### 赋值\n",
    "```\n",
    "<expression> . <name> = abc\n",
    "```\n",
    "1. 如果赋值的对象是类的实例, 那么赋值会作用于类的实例属性\n",
    "2. 如果赋值的对象是类, 那么赋值会作用于类的静态属性"
   ]
  },
  {
   "cell_type": "markdown",
   "metadata": {},
   "source": [
    "###### 类的静态属性"
   ]
  },
  {
   "cell_type": "code",
   "execution_count": 6,
   "metadata": {
    "ExecuteTime": {
     "end_time": "2019-04-15T07:30:52.809316Z",
     "start_time": "2019-04-15T07:30:52.805769Z"
    }
   },
   "outputs": [],
   "source": [
    "tom_account = Account('Tom')\n",
    "jim_account = Account('Jin')"
   ]
  },
  {
   "cell_type": "code",
   "execution_count": 8,
   "metadata": {
    "ExecuteTime": {
     "end_time": "2019-04-15T07:33:46.496006Z",
     "start_time": "2019-04-15T07:33:46.488171Z"
    }
   },
   "outputs": [
    {
     "name": "stdout",
     "output_type": "stream",
     "text": [
      "0.2\n",
      "0.2\n",
      "After change Account.interest: 0.8\n",
      "After change Account.interest: 0.8\n"
     ]
    }
   ],
   "source": [
    "#类的实例可以访问类的静态属性\n",
    "print(tom_account.interest)\n",
    "print(jim_account.interest)\n",
    "#但是如果改变类的静态属性, 类的实例中的该属性也会改变\n",
    "Account.interest = .8\n",
    "print('After change Account.interest:', tom_account.interest)\n",
    "print('After change Account.interest:', jim_account.interest)"
   ]
  },
  {
   "cell_type": "code",
   "execution_count": 9,
   "metadata": {
    "ExecuteTime": {
     "end_time": "2019-04-15T07:35:34.209560Z",
     "start_time": "2019-04-15T07:35:34.199864Z"
    }
   },
   "outputs": [
    {
     "name": "stdout",
     "output_type": "stream",
     "text": [
      "After change tom_account.interest: 0.5\n",
      "After change tom_account.interest: 0.8\n"
     ]
    }
   ],
   "source": [
    "#但是对类的实例赋值不会改变类的静态属性!\n",
    "tom_account.interest = .5\n",
    "print('After change tom_account.interest:', tom_account.interest)\n",
    "print('After change tom_account.interest:', jim_account.interest)"
   ]
  },
  {
   "cell_type": "code",
   "execution_count": 13,
   "metadata": {
    "ExecuteTime": {
     "end_time": "2019-04-15T07:37:23.876736Z",
     "start_time": "2019-04-15T07:37:23.872321Z"
    }
   },
   "outputs": [
    {
     "name": "stdout",
     "output_type": "stream",
     "text": [
      "{'balance': 0, 'holder': 'Tom', 'interest': 0.5}\n",
      "{'balance': 0, 'holder': 'Jin'}\n"
     ]
    }
   ],
   "source": [
    "#你会发现 tom_account的__dict__增加了实例属性 interest\n",
    "print(tom_account.__dict__)\n",
    "print(jim_account.__dict__)\n",
    "#print(Account.__dict__)"
   ]
  },
  {
   "cell_type": "code",
   "execution_count": 14,
   "metadata": {
    "ExecuteTime": {
     "end_time": "2019-04-15T07:39:01.562770Z",
     "start_time": "2019-04-15T07:39:01.557157Z"
    }
   },
   "outputs": [
    {
     "name": "stdout",
     "output_type": "stream",
     "text": [
      "After change Account.interest: 0.5\n",
      "After change Account.interest: 0.55\n"
     ]
    }
   ],
   "source": [
    "#同时, tom_account的实例属性会覆盖掉类的静态属性:\n",
    "Account.interest = .55\n",
    "print('After change Account.interest:', tom_account.interest)\n",
    "print('After change Account.interest:', jim_account.interest)"
   ]
  },
  {
   "cell_type": "markdown",
   "metadata": {},
   "source": [
    "###### 继承"
   ]
  },
  {
   "cell_type": "code",
   "execution_count": 15,
   "metadata": {
    "ExecuteTime": {
     "end_time": "2019-04-15T07:43:11.744875Z",
     "start_time": "2019-04-15T07:43:11.741342Z"
    }
   },
   "outputs": [],
   "source": [
    "class CheckingAccount(Account):\n",
    "    withdraw_charge = 1\n",
    "    interest = .01\n",
    "    def withdraw(self, amount):\n",
    "        return Account.withdraw(self, amount + self.withdraw_charge)"
   ]
  },
  {
   "cell_type": "code",
   "execution_count": 16,
   "metadata": {
    "ExecuteTime": {
     "end_time": "2019-04-15T07:44:02.172457Z",
     "start_time": "2019-04-15T07:44:02.166601Z"
    }
   },
   "outputs": [
    {
     "data": {
      "text/plain": [
       "0.01"
      ]
     },
     "execution_count": 16,
     "metadata": {},
     "output_type": "execute_result"
    }
   ],
   "source": [
    "checking = CheckingAccount('Sam')\n",
    "checking.interest"
   ]
  },
  {
   "cell_type": "markdown",
   "metadata": {},
   "source": [
    "##### 实现类和对象\n",
    "<u>即使编程语言没有面向对象的系统, 程序照样可以面向对象</u>"
   ]
  },
  {
   "cell_type": "code",
   "execution_count": 12,
   "metadata": {
    "ExecuteTime": {
     "end_time": "2019-04-17T13:20:37.900243Z",
     "start_time": "2019-04-17T13:20:37.894815Z"
    }
   },
   "outputs": [],
   "source": [
    "TEST = True"
   ]
  },
  {
   "cell_type": "markdown",
   "metadata": {},
   "source": [
    "###### 实例"
   ]
  },
  {
   "cell_type": "code",
   "execution_count": 13,
   "metadata": {
    "ExecuteTime": {
     "end_time": "2019-04-17T13:20:38.376473Z",
     "start_time": "2019-04-17T13:20:38.371096Z"
    }
   },
   "outputs": [],
   "source": [
    "def bind_method(value, instance):\n",
    "    # Return a bound method if value is callable, or value otherwise\n",
    "    if callable(value):\n",
    "        if TEST: print(value.__code__.co_varnames)\n",
    "        def method(*args): \n",
    "            return value(instance, *args)\n",
    "        return method\n",
    "    else:\n",
    "        return value\n",
    "def make_instance(cls_):\n",
    "    #返回一个新的类的实例, 他是一个 dispatch dict\n",
    "    def get_value(name):\n",
    "        #attributes 是类的实例属性字典\n",
    "        if name in attributes:\n",
    "            return attributes[name]\n",
    "        #如果name在attributes字典中不存在, 那么他会在类中寻找。\n",
    "        #如果cls返回的value是个函数, (在 bind_method中)会与类的实例绑定。\n",
    "        else:\n",
    "            value = cls_['get'](name)\n",
    "            return bind_method(value, instance)\n",
    "    def set_value(name, value):\n",
    "        attributes[name] = value\n",
    "    attributes = {}\n",
    "    instance = {'get': get_value, 'set': set_value}\n",
    "    return instance"
   ]
  },
  {
   "cell_type": "markdown",
   "metadata": {},
   "source": [
    "###### 类\n",
    "我们假设类自己没有类"
   ]
  },
  {
   "cell_type": "code",
   "execution_count": 14,
   "metadata": {
    "ExecuteTime": {
     "end_time": "2019-04-17T13:20:38.906171Z",
     "start_time": "2019-04-17T13:20:38.901199Z"
    }
   },
   "outputs": [],
   "source": [
    "def init_instance(cls_, *args):\n",
    "    #返回类的新的实例, 用args初始化\n",
    "    instance = make_instance(cls_)\n",
    "    init = cls_['get']('__init__')\n",
    "    if init:\n",
    "        init(instance, *args)\n",
    "    return instance\n",
    "def make_class(attributes, base_class=None):\n",
    "    #返回一个新的类, 他是一个 dispatch dict\n",
    "    def get_value(name):\n",
    "        if name in attributes:\n",
    "            return attributes[name]\n",
    "        #如果attributes中没有, 就往父类中找\n",
    "        elif base_class is not None:\n",
    "            return base_class['get'](name)\n",
    "    def set_value(name, value):\n",
    "        attributes[name] = value\n",
    "    def new(*args):\n",
    "        return init_instance(cls_, *args)\n",
    "    cls_ = {'get' : get_value, 'set' : set_value, 'new' : new}\n",
    "    return cls_"
   ]
  },
  {
   "cell_type": "markdown",
   "metadata": {
    "ExecuteTime": {
     "end_time": "2019-04-15T08:25:33.773254Z",
     "start_time": "2019-04-15T08:25:33.770029Z"
    }
   },
   "source": [
    "###### 让我们用上面两个函数, 来实现Account类和它的子类CheckingAccount"
   ]
  },
  {
   "cell_type": "code",
   "execution_count": 15,
   "metadata": {
    "ExecuteTime": {
     "end_time": "2019-04-17T13:20:39.780619Z",
     "start_time": "2019-04-17T13:20:39.774116Z"
    }
   },
   "outputs": [],
   "source": [
    "def make_account_class():\n",
    "    #这里的self指代可变对象make_account_class的实例\n",
    "    def __init__(self, account_holder):\n",
    "        #这里将调用实例的set\n",
    "        self['set']('holder', account_holder)\n",
    "        self['set']('balance', 0)\n",
    "    def deposit(self, amount):\n",
    "        new_balance = self['get']('balance') + amount\n",
    "        self['set']('balance', new_balance)\n",
    "        return self['get']('balance')\n",
    "    def withdraw(self, amount):\n",
    "        balance = self['get']('balance')\n",
    "        if amount > balance:\n",
    "            return 'Insufficient funds'\n",
    "        self['set']('balance', balance - amount)\n",
    "        return self['get']('balance')\n",
    "    return make_class({\n",
    "        '__init__' : __init__,\n",
    "        'deposit' : deposit,\n",
    "        'withdraw' : withdraw,\n",
    "        'interest' : .02\n",
    "    })"
   ]
  },
  {
   "cell_type": "code",
   "execution_count": 16,
   "metadata": {
    "ExecuteTime": {
     "end_time": "2019-04-17T13:20:41.006363Z",
     "start_time": "2019-04-17T13:20:41.003548Z"
    }
   },
   "outputs": [],
   "source": [
    "Account = make_account_class()"
   ]
  },
  {
   "cell_type": "code",
   "execution_count": 17,
   "metadata": {
    "ExecuteTime": {
     "end_time": "2019-04-17T13:20:41.564534Z",
     "start_time": "2019-04-17T13:20:41.561792Z"
    }
   },
   "outputs": [],
   "source": [
    "jim_account = Account['new']('Jim')"
   ]
  },
  {
   "cell_type": "code",
   "execution_count": 18,
   "metadata": {
    "ExecuteTime": {
     "end_time": "2019-04-17T13:20:42.204644Z",
     "start_time": "2019-04-17T13:20:42.200077Z"
    }
   },
   "outputs": [
    {
     "data": {
      "text/plain": [
       "'Jim'"
      ]
     },
     "execution_count": 18,
     "metadata": {},
     "output_type": "execute_result"
    }
   ],
   "source": [
    "jim_account['get']('holder')"
   ]
  },
  {
   "cell_type": "code",
   "execution_count": 19,
   "metadata": {
    "ExecuteTime": {
     "end_time": "2019-04-17T13:20:43.735332Z",
     "start_time": "2019-04-17T13:20:43.723796Z"
    }
   },
   "outputs": [
    {
     "name": "stdout",
     "output_type": "stream",
     "text": [
      "('self', 'amount', 'balance')\n"
     ]
    },
    {
     "data": {
      "text/plain": [
       "'Insufficient funds'"
      ]
     },
     "execution_count": 19,
     "metadata": {},
     "output_type": "execute_result"
    }
   ],
   "source": [
    "jim_account['get']('withdraw')(5)"
   ]
  },
  {
   "cell_type": "code",
   "execution_count": 20,
   "metadata": {
    "ExecuteTime": {
     "end_time": "2019-04-17T13:20:49.570428Z",
     "start_time": "2019-04-17T13:20:49.558994Z"
    }
   },
   "outputs": [
    {
     "data": {
      "text/plain": [
       "0.02"
      ]
     },
     "execution_count": 20,
     "metadata": {},
     "output_type": "execute_result"
    }
   ],
   "source": [
    "#设置实例的属性不会改变类属性\n",
    "jim_account['set']('interest', .04)\n",
    "Account['get']('interest')"
   ]
  },
  {
   "cell_type": "code",
   "execution_count": 22,
   "metadata": {
    "ExecuteTime": {
     "end_time": "2019-04-17T13:23:08.945960Z",
     "start_time": "2019-04-17T13:23:08.942940Z"
    }
   },
   "outputs": [],
   "source": [
    "#调用类的set方法, 往类的attributes中加变量\n",
    "Account['set']('mamami', 10)"
   ]
  },
  {
   "cell_type": "code",
   "execution_count": 23,
   "metadata": {
    "ExecuteTime": {
     "end_time": "2019-04-17T13:23:30.068775Z",
     "start_time": "2019-04-17T13:23:30.063984Z"
    }
   },
   "outputs": [
    {
     "data": {
      "text/plain": [
       "10"
      ]
     },
     "execution_count": 23,
     "metadata": {},
     "output_type": "execute_result"
    }
   ],
   "source": [
    "#实例的set方法只会新加实例属性, get方法首先查找实例属性(比如在__init__中定义的)字典,要是找不到就再到类的attributes中找,\n",
    "#而类的attributes中包括类方法和雷属性\n",
    "jim_account['get']('mamami')"
   ]
  },
  {
   "cell_type": "code",
   "execution_count": 42,
   "metadata": {
    "ExecuteTime": {
     "end_time": "2019-04-16T00:47:59.621324Z",
     "start_time": "2019-04-16T00:47:59.616802Z"
    }
   },
   "outputs": [
    {
     "data": {
      "text/plain": [
       "{'get': <function __main__.make_instance.<locals>.get_value(name)>,\n",
       " 'set': <function __main__.make_instance.<locals>.set_value(name, value)>}"
      ]
     },
     "execution_count": 42,
     "metadata": {},
     "output_type": "execute_result"
    }
   ],
   "source": [
    "jim_account"
   ]
  },
  {
   "cell_type": "code",
   "execution_count": 43,
   "metadata": {
    "ExecuteTime": {
     "end_time": "2019-04-16T00:47:59.831182Z",
     "start_time": "2019-04-16T00:47:59.826273Z"
    }
   },
   "outputs": [
    {
     "data": {
      "text/plain": [
       "0.04"
      ]
     },
     "execution_count": 43,
     "metadata": {},
     "output_type": "execute_result"
    }
   ],
   "source": [
    "jim_account['get']('interest')"
   ]
  },
  {
   "cell_type": "code",
   "execution_count": 65,
   "metadata": {
    "ExecuteTime": {
     "end_time": "2019-04-16T00:58:02.220873Z",
     "start_time": "2019-04-16T00:58:02.214321Z"
    }
   },
   "outputs": [],
   "source": [
    "#子类\n",
    "def make_checking_account_class():\n",
    "    def withdraw(self, amount):\n",
    "        if TEST: print(self)\n",
    "        return Account['get']('withdraw')(self, amount + 1)\n",
    "    return make_class({'withdraw' : withdraw, 'interest' : .01},\n",
    "                      Account\n",
    "                     )\n",
    "    "
   ]
  },
  {
   "cell_type": "code",
   "execution_count": 66,
   "metadata": {
    "ExecuteTime": {
     "end_time": "2019-04-16T00:58:02.760142Z",
     "start_time": "2019-04-16T00:58:02.755933Z"
    }
   },
   "outputs": [],
   "source": [
    "CheckingAccount = make_checking_account_class()\n",
    "jack_account = CheckingAccount['new']('Jack')"
   ]
  },
  {
   "cell_type": "code",
   "execution_count": 67,
   "metadata": {
    "ExecuteTime": {
     "end_time": "2019-04-16T00:58:04.033751Z",
     "start_time": "2019-04-16T00:58:04.028094Z"
    }
   },
   "outputs": [
    {
     "name": "stdout",
     "output_type": "stream",
     "text": [
      "('self', 'amount')\n"
     ]
    },
    {
     "data": {
      "text/plain": [
       "<function __main__.bind_method.<locals>.method(*args)>"
      ]
     },
     "execution_count": 67,
     "metadata": {},
     "output_type": "execute_result"
    }
   ],
   "source": [
    "jack_account['get']('withdraw')"
   ]
  },
  {
   "cell_type": "code",
   "execution_count": 68,
   "metadata": {
    "ExecuteTime": {
     "end_time": "2019-04-16T00:58:16.717851Z",
     "start_time": "2019-04-16T00:58:16.710335Z"
    }
   },
   "outputs": [
    {
     "name": "stdout",
     "output_type": "stream",
     "text": [
      "('self', 'amount')\n",
      "{'get': <function make_instance.<locals>.get_value at 0x7f1ba8f5a598>, 'set': <function make_instance.<locals>.set_value at 0x7f1ba8f58620>}\n"
     ]
    },
    {
     "data": {
      "text/plain": [
       "'Insufficient funds'"
      ]
     },
     "execution_count": 68,
     "metadata": {},
     "output_type": "execute_result"
    }
   ],
   "source": [
    "jack_account['get']('withdraw')(5)"
   ]
  },
  {
   "cell_type": "markdown",
   "metadata": {},
   "source": [
    "##### 泛用函数"
   ]
  },
  {
   "cell_type": "code",
   "execution_count": 72,
   "metadata": {
    "ExecuteTime": {
     "end_time": "2019-04-16T03:42:07.559304Z",
     "start_time": "2019-04-16T03:42:07.553769Z"
    }
   },
   "outputs": [],
   "source": [
    "#我们首先定义两种复数类型\n",
    "#1. 实部和虚部来表示复数\n",
    "from math import atan2\n",
    "class ComplexRI(object):\n",
    "    def __init__(self, real, imag):\n",
    "        self.real = real\n",
    "        self.imag = imag\n",
    "    @property\n",
    "    def magnitude(self):\n",
    "        return (self.real ** 2 + self.imag ** 2) ** (1/2)\n",
    "    @property\n",
    "    def angle(self):\n",
    "        return atan2(self.imag, self.real)\n",
    "    def __repr__(self):\n",
    "        return 'ComplexRI({0}, {1})'.\\\n",
    "               format(self.real, self.imag)"
   ]
  },
  {
   "cell_type": "code",
   "execution_count": 74,
   "metadata": {
    "ExecuteTime": {
     "end_time": "2019-04-16T03:53:44.525440Z",
     "start_time": "2019-04-16T03:53:44.517222Z"
    }
   },
   "outputs": [],
   "source": [
    "#2. 模和幅角来表示复数\n",
    "from math import sin, cos\n",
    "class ComplexMA(object):\n",
    "    def __init__(self, magnitude, angle):\n",
    "        self.magnitude = magnitude\n",
    "        self.angle = angle\n",
    "    @property\n",
    "    def real(self):\n",
    "        return self.magnitude * cos(self.angle)\n",
    "    @property\n",
    "    def imag(self):\n",
    "        return self.magnitude * sin(self.angle)\n",
    "    def __repr__(self):\n",
    "        return 'ComplexMA({0}, {1})'.\\\n",
    "                format(self.magnitude, self.angle)"
   ]
  },
  {
   "cell_type": "markdown",
   "metadata": {},
   "source": [
    "###### 我们首先实现两个接口: add_complex 和 mul_complex"
   ]
  },
  {
   "cell_type": "code",
   "execution_count": 78,
   "metadata": {
    "ExecuteTime": {
     "end_time": "2019-04-16T04:04:15.709089Z",
     "start_time": "2019-04-16T04:04:15.704747Z"
    }
   },
   "outputs": [],
   "source": [
    "#这两个接口由 ComplexMA和 ComplexRI共享,\n",
    "#他们是复数类们的通用接口\n",
    "def add_complex(z1, z2):\n",
    "    return ComplexRI(z1.real + z2.real, z1.imag + z2.imag)\n",
    "def mul_complex(z1, z2):\n",
    "    return ComplexMA(z1.magnitude * z2.magnitude, z1.angle + z2.angle)"
   ]
  },
  {
   "cell_type": "code",
   "execution_count": 79,
   "metadata": {
    "ExecuteTime": {
     "end_time": "2019-04-16T04:04:16.318678Z",
     "start_time": "2019-04-16T04:04:16.314132Z"
    }
   },
   "outputs": [
    {
     "data": {
      "text/plain": [
       "ComplexRI(1.0000000000000002, 4.0)"
      ]
     },
     "execution_count": 79,
     "metadata": {},
     "output_type": "execute_result"
    }
   ],
   "source": [
    "from math import pi\n",
    "add_complex(ComplexRI(1, 2), ComplexMA(2, pi/2))"
   ]
  },
  {
   "cell_type": "code",
   "execution_count": 80,
   "metadata": {
    "ExecuteTime": {
     "end_time": "2019-04-16T04:13:13.203785Z",
     "start_time": "2019-04-16T04:13:13.195388Z"
    }
   },
   "outputs": [],
   "source": [
    "#当然为了使我们的代码更加易读, 我们可以在复数类里面实现魔法函数\n",
    "#我们把全部的代码放在这里\n",
    "def add_complex(z1, z2):\n",
    "    return ComplexRI(z1.real + z2.real, z1.imag + z2.imag)\n",
    "def mul_complex(z1, z2):\n",
    "    return ComplexMA(z1.magnitude * z2.magnitude, z1.angle + z2.angle)\n",
    "\n",
    "\n",
    "from math import atan2\n",
    "class ComplexRI(object):\n",
    "    def __init__(self, real, imag):\n",
    "        self.real = real\n",
    "        self.imag = imag\n",
    "    @property\n",
    "    def magnitude(self):\n",
    "        return (self.real ** 2 + self.imag ** 2) ** (1/2)\n",
    "    @property\n",
    "    def angle(self):\n",
    "        return atan2(self.imag, self.real)\n",
    "    def __repr__(self):\n",
    "        return 'ComplexRI({0}, {1})'.\\\n",
    "               format(self.real, self.imag)\n",
    "    def __add__(self, other):\n",
    "        return add_complex(self, other)\n",
    "    def __mul__(self, other):\n",
    "        return mul_complex(self, other)\n",
    "\n",
    "from math import sin, cos\n",
    "class ComplexMA(object):\n",
    "    def __init__(self, magnitude, angle):\n",
    "        self.magnitude = magnitude\n",
    "        self.angle = angle\n",
    "    @property\n",
    "    def real(self):\n",
    "        return self.magnitude * cos(self.angle)\n",
    "    @property\n",
    "    def imag(self):\n",
    "        return self.magnitude * sin(self.angle)\n",
    "    def __repr__(self):\n",
    "        return 'ComplexMA({0}, {1})'.\\\n",
    "                format(self.magnitude, self.angle)\n",
    "    def __add__(self, other):\n",
    "        return add_complex(self, other)\n",
    "    def __mul__(self, other):\n",
    "        return mul_complex(self, other)"
   ]
  },
  {
   "cell_type": "code",
   "execution_count": 83,
   "metadata": {
    "ExecuteTime": {
     "end_time": "2019-04-16T04:14:28.028602Z",
     "start_time": "2019-04-16T04:14:28.024077Z"
    }
   },
   "outputs": [
    {
     "name": "stdout",
     "output_type": "stream",
     "text": [
      "ComplexRI(3.0, 2.0)\n",
      "ComplexMA(1.0, 3.141592653589793)\n"
     ]
    }
   ],
   "source": [
    "print(ComplexRI(1, 2) + ComplexMA(2, 0))\n",
    "print(ComplexRI(0, 1) * ComplexRI(0, 1))"
   ]
  },
  {
   "cell_type": "markdown",
   "metadata": {},
   "source": [
    "###### 我们关于复数的两个接口仍然不完善: 数学上复数可以跟有理数相加但我们还没有实现"
   ]
  },
  {
   "cell_type": "code",
   "execution_count": 84,
   "metadata": {
    "ExecuteTime": {
     "end_time": "2019-04-16T04:38:11.893611Z",
     "start_time": "2019-04-16T04:38:11.870011Z"
    }
   },
   "outputs": [],
   "source": [
    "#我们将实现一个有理数类\n",
    "from fractions import gcd\n",
    "class Rational(object):\n",
    "    def __init__(self, numer, denom):\n",
    "        g = gcd(numer, denom)\n",
    "        self.numer = numer // g\n",
    "        self.denom = denom // g\n",
    "    def __repr__(self):\n",
    "        return 'Rational {0} / {1}'.\\\n",
    "               format(self.numer, self.denom)"
   ]
  },
  {
   "cell_type": "code",
   "execution_count": 85,
   "metadata": {
    "ExecuteTime": {
     "end_time": "2019-04-16T04:46:44.009145Z",
     "start_time": "2019-04-16T04:46:44.001514Z"
    }
   },
   "outputs": [],
   "source": [
    "def add_rational(x, y):\n",
    "    nx, ny = x.numer, y.numer\n",
    "    dx, dy = x.denom, y.denom\n",
    "    return Rational(nx * dy + ny * dx, dx * dy)\n",
    "def mul_rational(x, y):\n",
    "    return Rational(x.numer * y.numer, x.denom * y.denom)    "
   ]
  },
  {
   "cell_type": "code",
   "execution_count": 87,
   "metadata": {
    "ExecuteTime": {
     "end_time": "2019-04-16T05:02:01.347643Z",
     "start_time": "2019-04-16T05:02:01.341596Z"
    }
   },
   "outputs": [],
   "source": [
    "#我们来实现跨类型相加和相乘函数\n",
    "#一种典型的方法叫类型分派\n",
    "def is_complex(z):\n",
    "    return isinstance(z, ComplexMA) or isinstance(z, ComplexRI)\n",
    "def is_rational(z):\n",
    "    return isinstance(z, Rational)\n",
    "#这样我们实现一个更一般化的add函数\n",
    "def add_complex_and_rational(z, r):\n",
    "    return ComplexRI(z.real + r.numer / r.denom, z.imag)\n",
    "\n",
    "def add(z1, z2):\n",
    "    if is_complex(z1) and is_complex(z2):\n",
    "        return add_complex(z1, z2)\n",
    "    elif is_complex(z1) and is_rational(z2):\n",
    "        return add_complex_and_rational(z1, z2)\n",
    "    elif is_rational(z1) and is_complex(z2):\n",
    "        return add_complex_and_rational(z2, z1)\n",
    "    elif is_rational(z1) and is_rational(z2):\n",
    "        return add_rational(z1, z2)\n",
    "    else:\n",
    "        raise ValueError   "
   ]
  },
  {
   "cell_type": "code",
   "execution_count": 91,
   "metadata": {
    "ExecuteTime": {
     "end_time": "2019-04-16T05:27:07.906853Z",
     "start_time": "2019-04-16T05:27:07.900923Z"
    }
   },
   "outputs": [],
   "source": [
    "#当然我们也可以用字典代替如此繁复的 if-else语句\n",
    "type_tags = {ComplexRI : 'com', ComplexMA : 'com', Rational : 'rat'}\n",
    "def type_tag(x):\n",
    "    return type_tags[type(x)]\n",
    "add_implementations = {\n",
    "    ('com', 'com') : add_complex,\n",
    "    ('com', 'rat') : add_complex_and_rational,\n",
    "    ('rat', 'com') : lambda x, y : add_complex_and_rational(y, x),\n",
    "    ('rat', 'rat') : add_rational\n",
    "}\n",
    "def add(z1, z2):\n",
    "    types = (type_tag(z1), type_tag(z2))\n",
    "    return add_implementations[types](z1, z2)"
   ]
  },
  {
   "cell_type": "code",
   "execution_count": 92,
   "metadata": {
    "ExecuteTime": {
     "end_time": "2019-04-16T05:27:08.477443Z",
     "start_time": "2019-04-16T05:27:08.464411Z"
    }
   },
   "outputs": [
    {
     "name": "stderr",
     "output_type": "stream",
     "text": [
      "/home/zhangzijie_dlut/miniconda3/envs/zzj/lib/python3.6/site-packages/ipykernel_launcher.py:5: DeprecationWarning: fractions.gcd() is deprecated. Use math.gcd() instead.\n",
      "  \"\"\"\n"
     ]
    },
    {
     "data": {
      "text/plain": [
       "ComplexRI(3.0, 0)"
      ]
     },
     "execution_count": 92,
     "metadata": {},
     "output_type": "execute_result"
    }
   ],
   "source": [
    "add(ComplexRI(1.5, 0), Rational(3, 2))"
   ]
  },
  {
   "cell_type": "code",
   "execution_count": 97,
   "metadata": {
    "ExecuteTime": {
     "end_time": "2019-04-16T05:33:12.191374Z",
     "start_time": "2019-04-16T05:33:12.187393Z"
    }
   },
   "outputs": [],
   "source": [
    "#我们还可以将加法运算和乘法运算合并为一起\n",
    "#apply函数支持任何类型的任何算数操作\n",
    "apply_implementations = dict()\n",
    "def apply(operator_name, x, y):\n",
    "    tags = (type_tag(x), type_tag(y))\n",
    "    key = (operator_name, tags)\n",
    "    return apply_implementations[key](x, y)"
   ]
  },
  {
   "cell_type": "code",
   "execution_count": 95,
   "metadata": {
    "ExecuteTime": {
     "end_time": "2019-04-16T05:32:02.093863Z",
     "start_time": "2019-04-16T05:32:02.089534Z"
    }
   },
   "outputs": [],
   "source": [
    "#我们把add_implemantations的方法加到 apply_implementations中去\n",
    "apply_implementations.update(\n",
    "    {('add', tags): func for (tags, func) in add_implementations.items()}\n",
    ")"
   ]
  },
  {
   "cell_type": "code",
   "execution_count": 96,
   "metadata": {
    "ExecuteTime": {
     "end_time": "2019-04-16T05:32:06.098097Z",
     "start_time": "2019-04-16T05:32:06.093148Z"
    }
   },
   "outputs": [
    {
     "data": {
      "text/plain": [
       "{('add', ('com', 'com')): <function __main__.add_complex(z1, z2)>,\n",
       " ('add', ('com', 'rat')): <function __main__.add_complex_and_rational(z, r)>,\n",
       " ('add', ('rat', 'com')): <function __main__.<lambda>(x, y)>,\n",
       " ('add', ('rat', 'rat')): <function __main__.add_rational(x, y)>}"
      ]
     },
     "execution_count": 96,
     "metadata": {},
     "output_type": "execute_result"
    }
   ],
   "source": [
    "apply_implementations"
   ]
  },
  {
   "cell_type": "markdown",
   "metadata": {},
   "source": [
    "使用上面的**数据导向**的系统有效的管理了跨类型运算的复杂性.<br>\n",
    "但是维护起来比较麻烦, 比如在引入新类型时, 需要实现跨类型操作的函数的构造和安装.<br>\n",
    "我们可以使用**强制类型转换**"
   ]
  },
  {
   "cell_type": "markdown",
   "metadata": {},
   "source": [
    "###### 类型转换\n",
    "这样我们可以为每对类型编写一个函数而不是为每个类型的组合编写"
   ]
  },
  {
   "cell_type": "code",
   "execution_count": 99,
   "metadata": {
    "ExecuteTime": {
     "end_time": "2019-04-16T05:54:22.108972Z",
     "start_time": "2019-04-16T05:54:22.104971Z"
    }
   },
   "outputs": [],
   "source": [
    "def rational_to_complex(x):\n",
    "    return ComplexRI(x.numer / x.denom, 0)\n",
    "coercions = {('rat', 'com') : rational_to_complex}"
   ]
  },
  {
   "cell_type": "code",
   "execution_count": 100,
   "metadata": {
    "ExecuteTime": {
     "end_time": "2019-04-16T06:13:53.587717Z",
     "start_time": "2019-04-16T06:13:53.582183Z"
    }
   },
   "outputs": [],
   "source": [
    "#这样我们便可以首先做类型转换然后仅仅调用运算符\n",
    "coerce_apply_implementations = {('mul', 'com'): mul_complex,\n",
    "                                ('mul', 'rat'): mul_rational,\n",
    "                                ('add', 'com'): add_complex,\n",
    "                                ('add', 'rat'): add_rational}\n",
    "def coerce_apply(operator_name, x, y):\n",
    "    tx, ty = type_tag(x), type_tag(y)\n",
    "    if tx != ty:\n",
    "        if (tx, ty) in coercions:\n",
    "            tx, x = ty, coercions[(tx, ty)](x)\n",
    "        elif (ty, tx) in coercions:\n",
    "            ty, y = tx, coercions[(ty, tx)](y)\n",
    "        else:\n",
    "            raise KeyError('No coercion possible.')\n",
    "    key = (operator_name, tx)\n",
    "    return coerce_apply_implementations[key](x, y)"
   ]
  },
  {
   "cell_type": "markdown",
   "metadata": {},
   "source": [
    "###### 总结\n",
    "我们实现了 复数类 ComplexRI 和 ComplexMA, 以及有理数类Rational.而后实现了跨类型运算.\n",
    "以加法运算为例, add_Complex 和 add_rational首先实现了同类之间的加法.然后我们实现了add_complex_and_rational方法实现两个不同类型的相加<br>\n",
    "通过 type_tags和add_implementations分发字典, 我们实现了更为一般的add函数,他把不同的类型的组合映射到不同的函数中去.<br>\n",
    "**我们可以看到add函数一般化了三个类的加法,我们有理由把他放到一个基类中去:**"
   ]
  },
  {
   "cell_type": "code",
   "execution_count": 3,
   "metadata": {
    "ExecuteTime": {
     "end_time": "2019-04-17T13:02:00.889028Z",
     "start_time": "2019-04-17T13:02:00.882477Z"
    }
   },
   "outputs": [],
   "source": [
    "def add_complex_and_rational(z, r):\n",
    "    return ComplexRI(z.real + r.numer / r.denom, z.imag)\n",
    "def add_rational_and_complex(r, z):\n",
    "    return add_complex_and_rational(z, r)\n",
    "class Number(object):\n",
    "    adders = {\n",
    "        ('com', 'rat') : add_complex_and_rational,\n",
    "        ('rat', 'com') : add_rational_and_complex\n",
    "    }\n",
    "    def __add__(self, other):\n",
    "        if self.type_tag == other.type_tag:\n",
    "            return self.add(other)\n",
    "        elif (self.type_tag, other.type_tag) in self.adders:\n",
    "            return self.cross_apply(other, self.adders)\n",
    "    def cross_apply(self, other, cross_func):\n",
    "        cross_function = cross_func[(self.type_tag, other.type_tag)]\n",
    "        return cross_function(self, other)"
   ]
  },
  {
   "cell_type": "code",
   "execution_count": 4,
   "metadata": {
    "ExecuteTime": {
     "end_time": "2019-04-17T13:02:01.458682Z",
     "start_time": "2019-04-17T13:02:01.453280Z"
    }
   },
   "outputs": [],
   "source": [
    "#我们的数类可以继承Number Mixin, 例如Rationsl\n",
    "class Rational(Number):\n",
    "    type_tag = 'rat'\n",
    "    def __init__(self, numer, denom):\n",
    "        g = gcd(numer, denom)\n",
    "        self.numer = numer // g\n",
    "        self.denom = denom // g\n",
    "    def __repr__(self):\n",
    "        pass\n",
    "    #在子类中实现add方法, zhegeadd方法将在基类的__add__魔法函数中调用\n",
    "    def add(self, other):\n",
    "        nx, dx = self.numer, self.denom\n",
    "        ny, dy = other.numer, other.denom\n",
    "        return Rational(nx * dy + ny * dx, dx * dy)"
   ]
  },
  {
   "cell_type": "code",
   "execution_count": null,
   "metadata": {},
   "outputs": [],
   "source": []
  }
 ],
 "metadata": {
  "kernelspec": {
   "display_name": "Python 3",
   "language": "python",
   "name": "python3"
  },
  "language_info": {
   "codemirror_mode": {
    "name": "ipython",
    "version": 3
   },
   "file_extension": ".py",
   "mimetype": "text/x-python",
   "name": "python",
   "nbconvert_exporter": "python",
   "pygments_lexer": "ipython3",
   "version": "3.6.7"
  },
  "toc": {
   "base_numbering": 1,
   "nav_menu": {},
   "number_sections": true,
   "sideBar": false,
   "skip_h1_title": false,
   "title_cell": "Table of Contents",
   "title_sidebar": "Contents",
   "toc_cell": false,
   "toc_position": {},
   "toc_section_display": true,
   "toc_window_display": false
  },
  "varInspector": {
   "cols": {
    "lenName": 16,
    "lenType": 16,
    "lenVar": 40
   },
   "kernels_config": {
    "python": {
     "delete_cmd_postfix": "",
     "delete_cmd_prefix": "del ",
     "library": "var_list.py",
     "varRefreshCmd": "print(var_dic_list())"
    },
    "r": {
     "delete_cmd_postfix": ") ",
     "delete_cmd_prefix": "rm(",
     "library": "var_list.r",
     "varRefreshCmd": "cat(var_dic_list()) "
    }
   },
   "types_to_exclude": [
    "module",
    "function",
    "builtin_function_or_method",
    "instance",
    "_Feature"
   ],
   "window_display": false
  }
 },
 "nbformat": 4,
 "nbformat_minor": 2
}
