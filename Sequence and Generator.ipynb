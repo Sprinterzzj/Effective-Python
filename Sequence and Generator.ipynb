{
 "cells": [
  {
   "cell_type": "markdown",
   "metadata": {},
   "source": [
    "### Python 迭代器\n",
    "迭代器实现了两个协议:\n",
    "* 1. \\_\\_next\\_\\_ 返回当前元素并计算下一个元素以及判断迭代终止\n",
    "* 2. \\_\\_iter\\_\\_ 简单返回迭代器\n",
    "\n",
    "迭代器用来实现有序数据序列的顺序访问, 注意不是随机访问！！"
   ]
  },
  {
   "cell_type": "code",
   "execution_count": 8,
   "metadata": {
    "ExecuteTime": {
     "end_time": "2019-05-16T08:43:43.410415Z",
     "start_time": "2019-05-16T08:43:43.406037Z"
    }
   },
   "outputs": [],
   "source": [
    "#下面的 Letters class 迭代了从 'a' 到 'd' 的字母序列\n",
    "# Letters 的任何实例只可以迭代一次. 一旦抛出 StopIteration\n",
    "# 异常, 它的状态就一直这样了，除非创建新的实例\n",
    "class Letters(object):\n",
    "    def __init__(self):\n",
    "        self.current = 'a'\n",
    "    def __next__(self):\n",
    "        # if 语句判断迭代是否终止\n",
    "        if self.current > 'd':\n",
    "            raise StopIteration\n",
    "        result = self.current\n",
    "        self.current = chr(ord(result) + 1)\n",
    "        return result\n",
    "    def __iter__(self):\n",
    "        return self"
   ]
  },
  {
   "cell_type": "code",
   "execution_count": 16,
   "metadata": {
    "ExecuteTime": {
     "end_time": "2019-05-16T08:45:02.363200Z",
     "start_time": "2019-05-16T08:45:02.352355Z"
    }
   },
   "outputs": [
    {
     "name": "stdout",
     "output_type": "stream",
     "text": [
      "True\n",
      "a\n",
      "b\n",
      "c\n",
      "d\n"
     ]
    },
    {
     "ename": "StopIteration",
     "evalue": "",
     "output_type": "error",
     "traceback": [
      "\u001b[0;31m---------------------------------------------------------------------------\u001b[0m",
      "\u001b[0;31mStopIteration\u001b[0m                             Traceback (most recent call last)",
      "\u001b[0;32m<ipython-input-16-88633ed57cd8>\u001b[0m in \u001b[0;36m<module>\u001b[0;34m\u001b[0m\n\u001b[1;32m      7\u001b[0m \u001b[0mprint\u001b[0m\u001b[0;34m(\u001b[0m\u001b[0mnext\u001b[0m\u001b[0;34m(\u001b[0m\u001b[0mletters\u001b[0m\u001b[0;34m)\u001b[0m\u001b[0;34m)\u001b[0m\u001b[0;34m\u001b[0m\u001b[0;34m\u001b[0m\u001b[0m\n\u001b[1;32m      8\u001b[0m \u001b[0mprint\u001b[0m\u001b[0;34m(\u001b[0m\u001b[0mnext\u001b[0m\u001b[0;34m(\u001b[0m\u001b[0mletters\u001b[0m\u001b[0;34m)\u001b[0m\u001b[0;34m)\u001b[0m\u001b[0;34m\u001b[0m\u001b[0;34m\u001b[0m\u001b[0m\n\u001b[0;32m----> 9\u001b[0;31m \u001b[0mprint\u001b[0m\u001b[0;34m(\u001b[0m\u001b[0mnext\u001b[0m\u001b[0;34m(\u001b[0m\u001b[0mletters\u001b[0m\u001b[0;34m)\u001b[0m\u001b[0;34m)\u001b[0m\u001b[0;34m\u001b[0m\u001b[0;34m\u001b[0m\u001b[0m\n\u001b[0m",
      "\u001b[0;32m<ipython-input-8-24d1495c09f9>\u001b[0m in \u001b[0;36m__next__\u001b[0;34m(self)\u001b[0m\n\u001b[1;32m      8\u001b[0m         \u001b[0;31m# if 语句判断迭代是否终止\u001b[0m\u001b[0;34m\u001b[0m\u001b[0;34m\u001b[0m\u001b[0;34m\u001b[0m\u001b[0m\n\u001b[1;32m      9\u001b[0m         \u001b[0;32mif\u001b[0m \u001b[0mself\u001b[0m\u001b[0;34m.\u001b[0m\u001b[0mcurrent\u001b[0m \u001b[0;34m>\u001b[0m \u001b[0;34m'd'\u001b[0m\u001b[0;34m:\u001b[0m\u001b[0;34m\u001b[0m\u001b[0;34m\u001b[0m\u001b[0m\n\u001b[0;32m---> 10\u001b[0;31m             \u001b[0;32mraise\u001b[0m \u001b[0mStopIteration\u001b[0m\u001b[0;34m\u001b[0m\u001b[0;34m\u001b[0m\u001b[0m\n\u001b[0m\u001b[1;32m     11\u001b[0m         \u001b[0mresult\u001b[0m \u001b[0;34m=\u001b[0m \u001b[0mself\u001b[0m\u001b[0;34m.\u001b[0m\u001b[0mcurrent\u001b[0m\u001b[0;34m\u001b[0m\u001b[0;34m\u001b[0m\u001b[0m\n\u001b[1;32m     12\u001b[0m         \u001b[0mself\u001b[0m\u001b[0;34m.\u001b[0m\u001b[0mcurrent\u001b[0m \u001b[0;34m=\u001b[0m \u001b[0mchr\u001b[0m\u001b[0;34m(\u001b[0m\u001b[0mord\u001b[0m\u001b[0;34m(\u001b[0m\u001b[0mresult\u001b[0m\u001b[0;34m)\u001b[0m \u001b[0;34m+\u001b[0m \u001b[0;36m1\u001b[0m\u001b[0;34m)\u001b[0m\u001b[0;34m\u001b[0m\u001b[0;34m\u001b[0m\u001b[0m\n",
      "\u001b[0;31mStopIteration\u001b[0m: "
     ]
    }
   ],
   "source": [
    "letters = Letters()\n",
    "\n",
    "print(id(letters) == id(letters.__iter__()))\n",
    "\n",
    "print(next(letters))\n",
    "print(next(letters))\n",
    "print(next(letters))\n",
    "print(next(letters))\n",
    "print(next(letters))"
   ]
  },
  {
   "cell_type": "code",
   "execution_count": 17,
   "metadata": {
    "ExecuteTime": {
     "end_time": "2019-05-16T08:45:27.323277Z",
     "start_time": "2019-05-16T08:45:27.319906Z"
    }
   },
   "outputs": [
    {
     "name": "stdout",
     "output_type": "stream",
     "text": [
      "a\n",
      "b\n",
      "c\n",
      "d\n"
     ]
    }
   ],
   "source": [
    "letters = Letters()\n",
    "for l in letters:\n",
    "    print(l)"
   ]
  },
  {
   "cell_type": "code",
   "execution_count": 10,
   "metadata": {},
   "outputs": [],
   "source": [
    "#下面的 Positives class 实现了无限序列\n",
    "class Positive(object):\n",
    "    def __init__(self):\n",
    "        self.current = 0\n",
    "    def __next__(self):\n",
    "        result = self.current\n",
    "        self.current += 1\n",
    "        return result\n",
    "    def __iter__(self):\n",
    "        return self"
   ]
  },
  {
   "cell_type": "code",
   "execution_count": 12,
   "metadata": {},
   "outputs": [
    {
     "name": "stdout",
     "output_type": "stream",
     "text": [
      "0\n",
      "1\n",
      "2\n",
      "3\n",
      "4\n",
      "5\n",
      "6\n",
      "7\n",
      "8\n",
      "9\n"
     ]
    }
   ],
   "source": [
    "pos = Positive()\n",
    "for i in range(10):\n",
    "    print(next(pos))"
   ]
  },
  {
   "cell_type": "markdown",
   "metadata": {},
   "source": [
    "#### 使用 for 语句配合迭代器"
   ]
  },
  {
   "cell_type": "code",
   "execution_count": 2,
   "metadata": {},
   "outputs": [
    {
     "name": "stdout",
     "output_type": "stream",
     "text": [
      "1\n",
      "2\n",
      "3\n",
      "4\n",
      "5\n"
     ]
    }
   ],
   "source": [
    "#1. counters list 通过 __iter__方法返回迭代器\n",
    "#2. for 语句 反复调用迭代器的 __next__方法，每次都将当前值赋值给 item\n",
    "#   直到遇到 StopIteration 异常, for循环终止\n",
    "counts = [1, 2, 3, 4, 5]\n",
    "for item in counts:\n",
    "    print(item)"
   ]
  },
  {
   "cell_type": "code",
   "execution_count": 3,
   "metadata": {},
   "outputs": [
    {
     "name": "stdout",
     "output_type": "stream",
     "text": [
      "1\n",
      "2\n",
      "3\n",
      "4\n",
      "5\n"
     ]
    }
   ],
   "source": [
    "#由此, 我们可以这样模拟for语句的求值规则:\n",
    "#1. 首先调用 __iter__方法返回一个迭代器\n",
    "#2. 然后反复调用迭代器的__next__方法直到StopIteration 异常\n",
    "i = counts.__iter__()\n",
    "while True:\n",
    "    try:\n",
    "        item = i.__next__()\n",
    "    except StopIteration:\n",
    "        break\n",
    "    else:\n",
    "        print(item)"
   ]
  },
  {
   "cell_type": "markdown",
   "metadata": {},
   "source": [
    "### 生成器"
   ]
  },
  {
   "cell_type": "code",
   "execution_count": 4,
   "metadata": {},
   "outputs": [],
   "source": [
    "#上面的Letters class 中，我们引入self.current属性来跟踪序列当前的状态。\n",
    "#对于复杂的序列，这么做可能会使得__next__()方法消耗过多内存\n",
    "#解决方法: 生成器"
   ]
  },
  {
   "cell_type": "code",
   "execution_count": 5,
   "metadata": {},
   "outputs": [],
   "source": [
    "#生成器是一种特殊的函数, 使用 yield 关键字返回序列中的元素\n",
    "#每次调用 __next__方法时, 执行到下一个 yield 语句\n",
    "def letters_generator():\n",
    "    current = 'a'\n",
    "    while current <= 'd':\n",
    "        #生成当前的 current\n",
    "        yield current\n",
    "        #计算下一个位置的 current\n",
    "        current = chr(ord(current) + 1)"
   ]
  },
  {
   "cell_type": "code",
   "execution_count": 7,
   "metadata": {},
   "outputs": [
    {
     "name": "stdout",
     "output_type": "stream",
     "text": [
      "a\n",
      "b\n",
      "c\n",
      "d\n"
     ]
    }
   ],
   "source": [
    "#即便没有显示定义 __next__和__iter__ 方法,\n",
    "#Python 会理解我们使用 yield 关键字时, 我们打算定义生成器.\n",
    "\n",
    "#在调用时, 生成器不反回特定产出值, 而是返回一个生成器(一种迭代器), 其自身可以返回产出的值\n",
    "#生成器对象有 __iter__和__next__方法, \n",
    "###每个对next的调用都会从上次停留的地方继续执行生成器函数直到另一个yield语句执行的地方\n",
    "for letter in letters_generator():\n",
    "    print(letter)"
   ]
  },
  {
   "cell_type": "code",
   "execution_count": 13,
   "metadata": {},
   "outputs": [
    {
     "data": {
      "text/plain": [
       "generator"
      ]
     },
     "execution_count": 13,
     "metadata": {},
     "output_type": "execute_result"
    }
   ],
   "source": [
    "#__next__第一次调用: 程序从函数体一直执行到进入 yield 语句。\n",
    "#之后, 程序暂停并且返回 current 的值。\n",
    "#yield语句并不破坏新创建的环境, 而是为之后的使用保留了它。\n",
    "\n",
    "#下面手动调用__next__来遍历生成器\n",
    "letters = letters_generator()\n",
    "type(letters)"
   ]
  },
  {
   "cell_type": "code",
   "execution_count": 14,
   "metadata": {},
   "outputs": [
    {
     "name": "stdout",
     "output_type": "stream",
     "text": [
      "a\n",
      "b\n",
      "c\n",
      "d\n"
     ]
    },
    {
     "ename": "StopIteration",
     "evalue": "",
     "output_type": "error",
     "traceback": [
      "\u001b[0;31m---------------------------------------------------------------------------\u001b[0m",
      "\u001b[0;31mStopIteration\u001b[0m                             Traceback (most recent call last)",
      "\u001b[0;32m<ipython-input-14-035064497380>\u001b[0m in \u001b[0;36m<module>\u001b[0;34m()\u001b[0m\n\u001b[1;32m      3\u001b[0m \u001b[0mprint\u001b[0m\u001b[0;34m(\u001b[0m\u001b[0mletters\u001b[0m\u001b[0;34m.\u001b[0m\u001b[0m__next__\u001b[0m\u001b[0;34m(\u001b[0m\u001b[0;34m)\u001b[0m\u001b[0;34m)\u001b[0m\u001b[0;34m\u001b[0m\u001b[0;34m\u001b[0m\u001b[0m\n\u001b[1;32m      4\u001b[0m \u001b[0mprint\u001b[0m\u001b[0;34m(\u001b[0m\u001b[0mletters\u001b[0m\u001b[0;34m.\u001b[0m\u001b[0m__next__\u001b[0m\u001b[0;34m(\u001b[0m\u001b[0;34m)\u001b[0m\u001b[0;34m)\u001b[0m\u001b[0;34m\u001b[0m\u001b[0;34m\u001b[0m\u001b[0m\n\u001b[0;32m----> 5\u001b[0;31m \u001b[0mprint\u001b[0m\u001b[0;34m(\u001b[0m\u001b[0mletters\u001b[0m\u001b[0;34m.\u001b[0m\u001b[0m__next__\u001b[0m\u001b[0;34m(\u001b[0m\u001b[0;34m)\u001b[0m\u001b[0;34m)\u001b[0m\u001b[0;34m\u001b[0m\u001b[0;34m\u001b[0m\u001b[0m\n\u001b[0m",
      "\u001b[0;31mStopIteration\u001b[0m: "
     ]
    }
   ],
   "source": [
    "print(letters.__next__())\n",
    "print(letters.__next__())\n",
    "print(letters.__next__())\n",
    "print(letters.__next__())\n",
    "print(letters.__next__())"
   ]
  },
  {
   "cell_type": "markdown",
   "metadata": {},
   "source": [
    "### Python 中的可迭代对象\n",
    "可迭代对象与迭代器不一样, 可迭代对象只需要实现 \\_\\_iter\\_\\_方法"
   ]
  },
  {
   "cell_type": "code",
   "execution_count": 21,
   "metadata": {
    "ExecuteTime": {
     "end_time": "2019-05-16T08:48:28.522947Z",
     "start_time": "2019-05-16T08:48:28.519899Z"
    }
   },
   "outputs": [],
   "source": [
    "#在 Python 中, 迭代只能遍历一次元素\n",
    "#但我们有时需要多次迭代,例如:\n",
    "def all_pairs(s):\n",
    "    return ((s1, s2) for s1 in s for s2 in s)"
   ]
  },
  {
   "cell_type": "code",
   "execution_count": 22,
   "metadata": {
    "ExecuteTime": {
     "end_time": "2019-05-16T08:48:28.970551Z",
     "start_time": "2019-05-16T08:48:28.966651Z"
    }
   },
   "outputs": [
    {
     "data": {
      "text/plain": [
       "generator"
      ]
     },
     "execution_count": 22,
     "metadata": {},
     "output_type": "execute_result"
    }
   ],
   "source": [
    "type(all_pairs([1, 2, 3, 4]))"
   ]
  },
  {
   "cell_type": "code",
   "execution_count": 23,
   "metadata": {
    "ExecuteTime": {
     "end_time": "2019-05-16T08:48:29.375803Z",
     "start_time": "2019-05-16T08:48:29.371191Z"
    }
   },
   "outputs": [
    {
     "data": {
      "text/plain": [
       "[(1, 1),\n",
       " (1, 2),\n",
       " (1, 3),\n",
       " (1, 4),\n",
       " (2, 1),\n",
       " (2, 2),\n",
       " (2, 3),\n",
       " (2, 4),\n",
       " (3, 1),\n",
       " (3, 2),\n",
       " (3, 3),\n",
       " (3, 4),\n",
       " (4, 1),\n",
       " (4, 2),\n",
       " (4, 3),\n",
       " (4, 4)]"
      ]
     },
     "execution_count": 23,
     "metadata": {},
     "output_type": "execute_result"
    }
   ],
   "source": [
    "list(all_pairs([1,2,3,4]))"
   ]
  },
  {
   "cell_type": "code",
   "execution_count": 18,
   "metadata": {
    "ExecuteTime": {
     "end_time": "2019-05-16T08:48:24.432089Z",
     "start_time": "2019-05-16T08:48:24.429812Z"
    }
   },
   "outputs": [],
   "source": [
    "#注意, 序列本身不是迭代器, 但它是可迭代对象。\n",
    "#Pyhton的可迭代对象只包含一个接口, __iter__, 返回一个迭代器。\n",
    "#Pyhton的 built-in 序列类型在 __iter__ 方法调用时, 返回迭代器的新的实例。\n",
    "#因此, 因此他们可以被多次迭代!!!\n",
    "#注意上面的 Letters class, 它的__iter__返回自身, 而不是新的实例"
   ]
  },
  {
   "cell_type": "code",
   "execution_count": 19,
   "metadata": {
    "ExecuteTime": {
     "end_time": "2019-05-16T08:48:24.828757Z",
     "start_time": "2019-05-16T08:48:24.825936Z"
    }
   },
   "outputs": [],
   "source": [
    "class LetterIterable(object):\n",
    "    def __iter__(self):\n",
    "        #等价于 return (x for x in list('abcd'))\n",
    "        current = 'a'\n",
    "        while current <= 'd':\n",
    "            yield current\n",
    "            current = chr(ord(current) + 1)"
   ]
  },
  {
   "cell_type": "code",
   "execution_count": 24,
   "metadata": {
    "ExecuteTime": {
     "end_time": "2019-05-16T08:48:32.884092Z",
     "start_time": "2019-05-16T08:48:32.879798Z"
    }
   },
   "outputs": [
    {
     "data": {
      "text/plain": [
       "[('a', 'a'),\n",
       " ('a', 'b'),\n",
       " ('a', 'c'),\n",
       " ('a', 'd'),\n",
       " ('b', 'a'),\n",
       " ('b', 'b'),\n",
       " ('b', 'c'),\n",
       " ('b', 'd'),\n",
       " ('c', 'a'),\n",
       " ('c', 'b'),\n",
       " ('c', 'c'),\n",
       " ('c', 'd'),\n",
       " ('d', 'a'),\n",
       " ('d', 'b'),\n",
       " ('d', 'c'),\n",
       " ('d', 'd')]"
      ]
     },
     "execution_count": 24,
     "metadata": {},
     "output_type": "execute_result"
    }
   ],
   "source": [
    "#__iter__ 方法定义为生成器函数, 他返回一个生成器对象产出 从 'a'到 'd'的字母\n",
    "#Letters class 的一个实例只可以迭代一次，LetterIterable可以迭代多次\n",
    "letters = LetterIterable()\n",
    "list(all_pairs(letters))"
   ]
  },
  {
   "cell_type": "code",
   "execution_count": 26,
   "metadata": {
    "ExecuteTime": {
     "end_time": "2019-05-16T08:49:19.215505Z",
     "start_time": "2019-05-16T08:49:19.210963Z"
    }
   },
   "outputs": [
    {
     "data": {
      "text/plain": [
       "[('a', 'a'),\n",
       " ('a', 'b'),\n",
       " ('a', 'c'),\n",
       " ('a', 'd'),\n",
       " ('b', 'a'),\n",
       " ('b', 'b'),\n",
       " ('b', 'c'),\n",
       " ('b', 'd'),\n",
       " ('c', 'a'),\n",
       " ('c', 'b'),\n",
       " ('c', 'c'),\n",
       " ('c', 'd'),\n",
       " ('d', 'a'),\n",
       " ('d', 'b'),\n",
       " ('d', 'c'),\n",
       " ('d', 'd')]"
      ]
     },
     "execution_count": 26,
     "metadata": {},
     "output_type": "execute_result"
    }
   ],
   "source": [
    "#你可以反复调用LetterIterable的同一个实例\n",
    "list(all_pairs(letters))"
   ]
  },
  {
   "cell_type": "markdown",
   "metadata": {},
   "source": [
    "#### 如何设计一个可迭代对象?\n",
    "1. 我们需要定义 \\_\\_iter\\_\\_方法\n",
    "2. 但是在\\_\\_iter\\_\\_中, 将返回的迭代器委托给其他类的实例！！！"
   ]
  },
  {
   "cell_type": "code",
   "execution_count": null,
   "metadata": {},
   "outputs": [],
   "source": [
    "from collections.abc import Iterator\n",
    "class Company(object):\n",
    "    def __init__(self, employee_list):\n",
    "        self.employee = employee_list\n",
    "    def __iter__(self):\n",
    "        return MyIterator(self.employee)\n",
    "class MyIterator(Iterator):\n",
    "    def __init__(self, employee_list):\n",
    "        self.iter_list = employee_list\n",
    "        self.index = 0"
   ]
  },
  {
   "cell_type": "markdown",
   "metadata": {},
   "source": [
    "### Python 流"
   ]
  },
  {
   "cell_type": "code",
   "execution_count": 48,
   "metadata": {},
   "outputs": [],
   "source": [
    "#Stream 是惰性计算的递归列表\n",
    "#Stream 的剩余部分是惰性计算的, 它提供了计算剩余部分的方法。\n",
    "\n",
    "class Stream(object):\n",
    "    \"\"\"\n",
    "    一个惰性计算的递归列表\n",
    "    \"\"\"\n",
    "    def __init__(self, first, compute_rest, empty = False):\n",
    "        self.first = first\n",
    "        self._compute_rest = compute_rest\n",
    "        self.empty = empty\n",
    "        self._rest = None\n",
    "        self._computed = False\n",
    "    @property\n",
    "    def rest(self):\n",
    "        \"\"\"\n",
    "        返回流的剩余部分, 在必要时计算它们\n",
    "        \"\"\"\n",
    "        assert not self.empty #空 stream没有剩余部分\n",
    "        if not self._computed:\n",
    "            #计算剩余部分\n",
    "            self._rest = self._compute_rest()\n",
    "            self._computed = True\n",
    "        return self._rest\n",
    "    def __repr__(self):\n",
    "        if self.empty:\n",
    "            return '<empty stream>'\n",
    "        return 'Stream({0}, <compute_rest>)'.format(repr(self.first))"
   ]
  },
  {
   "cell_type": "code",
   "execution_count": 42,
   "metadata": {},
   "outputs": [],
   "source": [
    "#我们可以创建一个 Stream 来表示 1 和 5 的序列。 \n",
    "#Stream 在请求剩余部分之前，并不 会实际计算下一个元素 5 。"
   ]
  },
  {
   "cell_type": "code",
   "execution_count": 43,
   "metadata": {},
   "outputs": [],
   "source": [
    "#通过 Lambda 运算 使得 class callable\n",
    "#\n",
    "s = Stream(first = 1, compute_rest =  lambda : Stream(first = 2 + 3,  compute_rest = lambda : Stream.empty))"
   ]
  },
  {
   "cell_type": "code",
   "execution_count": 44,
   "metadata": {},
   "outputs": [
    {
     "data": {
      "text/plain": [
       "1"
      ]
     },
     "execution_count": 44,
     "metadata": {},
     "output_type": "execute_result"
    }
   ],
   "source": [
    "s.first"
   ]
  },
  {
   "cell_type": "code",
   "execution_count": 45,
   "metadata": {},
   "outputs": [
    {
     "data": {
      "text/plain": [
       "5"
      ]
     },
     "execution_count": 45,
     "metadata": {},
     "output_type": "execute_result"
    }
   ],
   "source": [
    "s.rest.first"
   ]
  },
  {
   "cell_type": "code",
   "execution_count": 46,
   "metadata": {},
   "outputs": [],
   "source": [
    "#当 构建 Stream的实例 s 时, s._computed is False。这代表s._rest 没有被计算。\n",
    "#当调用s.rest时, s._rest = s._compute_rest() 计算出Stream的剩余部分, 然后令 s._computed = True\n",
    "## Stream数据结构的核心是 _compute_rest 方法, 这一方法没有任何输入参数,并且返回 Stream实例。"
   ]
  },
  {
   "cell_type": "code",
   "execution_count": 49,
   "metadata": {},
   "outputs": [],
   "source": [
    "#惰性计算可以让我们表示无限长的序列。\n",
    "#无论如何请求 make_integer_stream()的rest, 都会自增地调用其本身。\n",
    "def make_integer_stream(first = 1):\n",
    "    def compute_rest():\n",
    "        return make_integer_stream(first + 1)\n",
    "    return Stream(first, compute_rest)"
   ]
  },
  {
   "cell_type": "code",
   "execution_count": 50,
   "metadata": {},
   "outputs": [],
   "source": [
    "ints = make_integer_stream()"
   ]
  },
  {
   "cell_type": "code",
   "execution_count": 51,
   "metadata": {},
   "outputs": [
    {
     "data": {
      "text/plain": [
       "1"
      ]
     },
     "execution_count": 51,
     "metadata": {},
     "output_type": "execute_result"
    }
   ],
   "source": [
    "ints.first"
   ]
  },
  {
   "cell_type": "code",
   "execution_count": 52,
   "metadata": {},
   "outputs": [
    {
     "data": {
      "text/plain": [
       "Stream(2, <compute_rest>)"
      ]
     },
     "execution_count": 52,
     "metadata": {},
     "output_type": "execute_result"
    }
   ],
   "source": [
    "ints.rest"
   ]
  },
  {
   "cell_type": "code",
   "execution_count": 53,
   "metadata": {},
   "outputs": [
    {
     "data": {
      "text/plain": [
       "2"
      ]
     },
     "execution_count": 53,
     "metadata": {},
     "output_type": "execute_result"
    }
   ],
   "source": [
    "ints.rest.first"
   ]
  },
  {
   "cell_type": "code",
   "execution_count": 54,
   "metadata": {},
   "outputs": [
    {
     "data": {
      "text/plain": [
       "Stream(3, <compute_rest>)"
      ]
     },
     "execution_count": 54,
     "metadata": {},
     "output_type": "execute_result"
    }
   ],
   "source": [
    "ints.rest.rest"
   ]
  },
  {
   "cell_type": "code",
   "execution_count": 55,
   "metadata": {},
   "outputs": [],
   "source": [
    "#map_stream 和 filter_stream 展示了流式处理的常见模式：无论流的剩余部分何时被计算，\n",
    "#局部定义的 compute_rest 函数都会对流的剩余部分递归调用某个处理函数。"
   ]
  },
  {
   "cell_type": "code",
   "execution_count": 80,
   "metadata": {},
   "outputs": [],
   "source": [
    "#map_stream, Stream上的映射函数.\n",
    "#局部定义的compute_rest()确保了计算rest时,会在Stream的剩余部分上映射\n",
    "def map_stream(fn, s):\n",
    "    if s.empty:\n",
    "        return s\n",
    "    def compute_rest():\n",
    "        return map_stream(fn, s.rest)\n",
    "    return Stream(fn(s.first), compute_rest)\n",
    "#filter_stream, Stream上的过滤函数。\n",
    "#compute_rest在 Stream 的剩余部分上调用filter函数，\n",
    "##如果 filter函数拒绝了 Stream的第一部分,那么剩余部分会被立刻计算出来\n",
    "def filter_stream(fn, s):\n",
    "    if s.empty:\n",
    "        return s\n",
    "    def compute_rest():\n",
    "        return filter_stream(fn, s.rest)\n",
    "    if fn(s.first):\n",
    "        return Stream(s.first, compute_rest)\n",
    "    print('{0} is removed!'.format(s.first))\n",
    "    return compute_rest()"
   ]
  },
  {
   "cell_type": "code",
   "execution_count": 81,
   "metadata": {},
   "outputs": [],
   "source": [
    "#为了观察Stream的内容将其截断并且转化为List\n",
    "\n",
    "#截断Strteam的函数\n",
    "def truncate_stream(s, k):\n",
    "    if s.empty or k == 0 :\n",
    "        return Stream.empty\n",
    "    def compute_rest():\n",
    "        return truncate_stream(s.rest, k - 1)\n",
    "    return Stream(s.first, compute_rest)\n",
    "#将Stream的内容保存到List里\n",
    "def stream_to_list(s):\n",
    "    r = []\n",
    "    while not s.empty:\n",
    "        r.append(s.first)\n",
    "        s = s.rest\n",
    "    return r"
   ]
  },
  {
   "cell_type": "code",
   "execution_count": 67,
   "metadata": {},
   "outputs": [],
   "source": [
    "#下面我们验证 map_stream的实现\n",
    "Stream.empty = Stream(None, None, True)\n",
    "s = make_integer_stream(3)"
   ]
  },
  {
   "cell_type": "code",
   "execution_count": 68,
   "metadata": {},
   "outputs": [
    {
     "data": {
      "text/plain": [
       "Stream(3, <compute_rest>)"
      ]
     },
     "execution_count": 68,
     "metadata": {},
     "output_type": "execute_result"
    }
   ],
   "source": [
    "s"
   ]
  },
  {
   "cell_type": "code",
   "execution_count": 69,
   "metadata": {},
   "outputs": [],
   "source": [
    "m = map_stream(lambda x: x**2, s)"
   ]
  },
  {
   "cell_type": "code",
   "execution_count": 70,
   "metadata": {},
   "outputs": [
    {
     "data": {
      "text/plain": [
       "Stream(9, <compute_rest>)"
      ]
     },
     "execution_count": 70,
     "metadata": {},
     "output_type": "execute_result"
    }
   ],
   "source": [
    "m"
   ]
  },
  {
   "cell_type": "code",
   "execution_count": 71,
   "metadata": {},
   "outputs": [
    {
     "data": {
      "text/plain": [
       "[9, 16, 25, 36, 49]"
      ]
     },
     "execution_count": 71,
     "metadata": {},
     "output_type": "execute_result"
    }
   ],
   "source": [
    "stream_to_list(truncate_stream(m, 5))"
   ]
  },
  {
   "cell_type": "code",
   "execution_count": 88,
   "metadata": {},
   "outputs": [],
   "source": [
    "##“递归地”理解下面的函数\n",
    "##Stream通过 高阶函数 实现了惰性求值"
   ]
  },
  {
   "cell_type": "code",
   "execution_count": 82,
   "metadata": {},
   "outputs": [],
   "source": [
    "#我们可以用 filter_stream函数来定义素数流,\n",
    "#这一流实现了埃拉托斯特尼筛法: 对整数流过滤, 移除first倍数的所有元素\n",
    "def primes(pos_stream):\n",
    "    def not_divible(x):\n",
    "        return x % pos_stream.first != 0\n",
    "    def compute_rest():\n",
    "        return primes(filter_stream(not_divible, pos_stream.rest))\n",
    "    return Stream(pos_stream.first, compute_rest)"
   ]
  },
  {
   "cell_type": "code",
   "execution_count": 83,
   "metadata": {},
   "outputs": [],
   "source": [
    "p1 = primes(make_integer_stream(2))"
   ]
  },
  {
   "cell_type": "code",
   "execution_count": 84,
   "metadata": {},
   "outputs": [
    {
     "data": {
      "text/plain": [
       "Stream(2, <compute_rest>)"
      ]
     },
     "execution_count": 84,
     "metadata": {},
     "output_type": "execute_result"
    }
   ],
   "source": [
    "p1"
   ]
  },
  {
   "cell_type": "code",
   "execution_count": 85,
   "metadata": {},
   "outputs": [
    {
     "data": {
      "text/plain": [
       "Stream(3, <compute_rest>)"
      ]
     },
     "execution_count": 85,
     "metadata": {},
     "output_type": "execute_result"
    }
   ],
   "source": [
    "p1.rest"
   ]
  },
  {
   "cell_type": "code",
   "execution_count": 86,
   "metadata": {},
   "outputs": [
    {
     "name": "stdout",
     "output_type": "stream",
     "text": [
      "4 is removed!\n"
     ]
    },
    {
     "data": {
      "text/plain": [
       "Stream(5, <compute_rest>)"
      ]
     },
     "execution_count": 86,
     "metadata": {},
     "output_type": "execute_result"
    }
   ],
   "source": [
    "p1.rest.rest"
   ]
  },
  {
   "cell_type": "code",
   "execution_count": 87,
   "metadata": {},
   "outputs": [
    {
     "name": "stdout",
     "output_type": "stream",
     "text": [
      "6 is removed!\n"
     ]
    },
    {
     "data": {
      "text/plain": [
       "Stream(7, <compute_rest>)"
      ]
     },
     "execution_count": 87,
     "metadata": {},
     "output_type": "execute_result"
    }
   ],
   "source": [
    "p1.rest.rest.rest"
   ]
  },
  {
   "cell_type": "code",
   "execution_count": null,
   "metadata": {},
   "outputs": [],
   "source": []
  }
 ],
 "metadata": {
  "kernelspec": {
   "display_name": "Python 3",
   "language": "python",
   "name": "python3"
  },
  "language_info": {
   "codemirror_mode": {
    "name": "ipython",
    "version": 3
   },
   "file_extension": ".py",
   "mimetype": "text/x-python",
   "name": "python",
   "nbconvert_exporter": "python",
   "pygments_lexer": "ipython3",
   "version": "3.6.7"
  },
  "toc": {
   "base_numbering": 1,
   "nav_menu": {},
   "number_sections": true,
   "sideBar": false,
   "skip_h1_title": false,
   "title_cell": "Table of Contents",
   "title_sidebar": "Contents",
   "toc_cell": false,
   "toc_position": {},
   "toc_section_display": true,
   "toc_window_display": false
  }
 },
 "nbformat": 4,
 "nbformat_minor": 2
}
