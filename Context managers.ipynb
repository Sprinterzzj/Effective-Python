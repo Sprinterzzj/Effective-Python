{
 "cells": [
  {
   "cell_type": "markdown",
   "metadata": {
    "toc": true
   },
   "source": [
    "<h1>Table of Contents<span class=\"tocSkip\"></span></h1>\n",
    "<div class=\"toc\"><ul class=\"toc-item\"><li><span><a href=\"#上下文管理器中的异常捕捉\" data-toc-modified-id=\"上下文管理器中的异常捕捉-1\"><span class=\"toc-item-num\">1&nbsp;&nbsp;</span>上下文管理器中的异常捕捉</a></span></li><li><span><a href=\"#用生成器来定义上下文管理器\" data-toc-modified-id=\"用生成器来定义上下文管理器-2\"><span class=\"toc-item-num\">2&nbsp;&nbsp;</span>用生成器来定义上下文管理器</a></span></li></ul></div>"
   ]
  },
  {
   "cell_type": "code",
   "execution_count": 2,
   "metadata": {
    "ExecuteTime": {
     "end_time": "2019-04-11T03:21:34.852929Z",
     "start_time": "2019-04-11T03:21:34.841388Z"
    }
   },
   "outputs": [
    {
     "data": {
      "text/plain": [
       "'\\nvar = manager.__enter__()\\ntry:\\n    do_something(var)\\nfinally:\\n    manager.__exit__()\\n'"
      ]
     },
     "execution_count": 2,
     "metadata": {},
     "output_type": "execute_result"
    }
   ],
   "source": [
    "# 上下文管理器是一类定义了 __enter__和__exit__的python 对象\n",
    "\"\"\"\n",
    "with manager as var:\n",
    "    do_something(var)\n",
    "\"\"\"\n",
    "#上面的代码等价于\n",
    "\"\"\"\n",
    "var = manager.__enter__()\n",
    "try:\n",
    "    do_something(var)\n",
    "finally:\n",
    "    manager.__exit__()\n",
    "\"\"\""
   ]
  },
  {
   "cell_type": "code",
   "execution_count": 3,
   "metadata": {
    "ExecuteTime": {
     "end_time": "2019-04-11T03:29:28.305110Z",
     "start_time": "2019-04-11T03:29:28.301519Z"
    }
   },
   "outputs": [],
   "source": [
    "class closing(object):\n",
    "    def __init__(self, obj):\n",
    "        self.obj = obj\n",
    "    def __enter__(self):\n",
    "        return self.obj\n",
    "    def __exit__(self, *args):\n",
    "        self.obj.close()"
   ]
  },
  {
   "cell_type": "code",
   "execution_count": 4,
   "metadata": {
    "ExecuteTime": {
     "end_time": "2019-04-11T03:34:07.728420Z",
     "start_time": "2019-04-11T03:34:07.724855Z"
    }
   },
   "outputs": [
    {
     "data": {
      "text/plain": [
       "\"\\nwith closing(open('/tmp/file', 'w')) as f:\\n  f.write('the content\\n')\\n\""
      ]
     },
     "execution_count": 4,
     "metadata": {},
     "output_type": "execute_result"
    }
   ],
   "source": [
    "#使用\n",
    "#with closing(open('/tmp/file', 'w')) as f, \n",
    "#实例化了closing类, 并调用__enter__方法, 返回的值传递给f\n",
    "\"\"\"\n",
    "with closing(open('/tmp/file', 'w')) as f:\n",
    "  f.write('the content\\n')\n",
    "\"\"\""
   ]
  },
  {
   "cell_type": "markdown",
   "metadata": {},
   "source": [
    "###### 上下文管理器中的异常捕捉"
   ]
  },
  {
   "cell_type": "code",
   "execution_count": 5,
   "metadata": {
    "ExecuteTime": {
     "end_time": "2019-04-11T03:39:23.526035Z",
     "start_time": "2019-04-11T03:39:23.523559Z"
    }
   },
   "outputs": [],
   "source": [
    "#异常捕捉\n",
    "#在 with block中出现异常时, 该异常会被传递到__exit__\n",
    "#__exit__需要接受三个参数: type, value, traceback.\n",
    "#如果不打算抛出异常, 这三个参数设置成None\n",
    "#就算抛出了异常, __exit__方法可以通过 return True来吞掉它\n",
    "#如果__exit__不返回任何值, 那么所有异常都可以被忽视"
   ]
  },
  {
   "cell_type": "code",
   "execution_count": 7,
   "metadata": {
    "ExecuteTime": {
     "end_time": "2019-04-11T04:00:04.515223Z",
     "start_time": "2019-04-11T04:00:04.512077Z"
    }
   },
   "outputs": [],
   "source": [
    "class assert_raises(object):\n",
    "    def __init__(self, exp_type):\n",
    "        self.type = exp_type\n",
    "    def __enter__(self):\n",
    "        pass\n",
    "    def __exit__(self, exp_type, value, traceback):\n",
    "        if exp_type is None:\n",
    "            raise AssertionError('exception expected')\n",
    "        if issubclass(exp_type, self.type):\n",
    "            #吞掉这个异常\n",
    "            return True\n",
    "        raise AssertionError('wrong exception type')\n",
    "    "
   ]
  },
  {
   "cell_type": "code",
   "execution_count": 8,
   "metadata": {
    "ExecuteTime": {
     "end_time": "2019-04-11T04:00:33.080471Z",
     "start_time": "2019-04-11T04:00:33.077936Z"
    }
   },
   "outputs": [],
   "source": [
    "with assert_raises(KeyError):\n",
    "    {}['foo']"
   ]
  },
  {
   "cell_type": "markdown",
   "metadata": {},
   "source": [
    "###### 用生成器来定义上下文管理器"
   ]
  },
  {
   "cell_type": "code",
   "execution_count": 9,
   "metadata": {
    "ExecuteTime": {
     "end_time": "2019-04-11T04:07:39.717849Z",
     "start_time": "2019-04-11T04:07:39.713429Z"
    }
   },
   "outputs": [
    {
     "data": {
      "text/plain": [
       "'\\n@contextlib.contextmanager\\ndef some_generator(<arguments>):\\n    <setup>\\n    try:\\n        yield <sth>\\n    finally:\\n        <clean up>\\n'"
      ]
     },
     "execution_count": 9,
     "metadata": {},
     "output_type": "execute_result"
    }
   ],
   "source": [
    "#这样用\n",
    "'''\n",
    "@contextlib.contextmanager\n",
    "def some_generator(<arguments>):\n",
    "    <setup>\n",
    "    try:\n",
    "        yield <sth>\n",
    "    finally:\n",
    "        <clean up>\n",
    "'''\n",
    "#使用 contextlib.contextmanager让一个生成器函数变成上下文管理器\n",
    "#这个生成器函数需要遵循一些规则:\n",
    "##1. 只 yield 一次。 yield之前的所有代码都被放到 __enter__中去了。而yield之后的部分放到__exit__\n",
    "##中去了."
   ]
  },
  {
   "cell_type": "code",
   "execution_count": 10,
   "metadata": {
    "ExecuteTime": {
     "end_time": "2019-04-11T04:15:05.997376Z",
     "start_time": "2019-04-11T04:15:05.994130Z"
    },
    "run_control": {
     "marked": true
    }
   },
   "outputs": [],
   "source": [
    "#使用生成器+contextlib.contextmanager模块使得上下文管理器的定义变得简单\n",
    "import contextlib\n",
    "@contextlib.contextmanager\n",
    "def closing(obj):\n",
    "    try:\n",
    "        yield obj\n",
    "    finally:\n",
    "        obj.close()"
   ]
  },
  {
   "cell_type": "code",
   "execution_count": null,
   "metadata": {},
   "outputs": [],
   "source": [
    "@contextlib.contextmanager\n",
    "def assert_raises(exp_type):\n",
    "    try:\n",
    "        yield\n",
    "    except exp_type:\n",
    "        return\n",
    "    except Exception as e:\n",
    "        raise AssertionError('wrong exception type.')\n",
    "    else:\n",
    "        raise AssertionError('exception ex')"
   ]
  }
 ],
 "metadata": {
  "kernelspec": {
   "display_name": "Python 3",
   "language": "python",
   "name": "python3"
  },
  "language_info": {
   "codemirror_mode": {
    "name": "ipython",
    "version": 3
   },
   "file_extension": ".py",
   "mimetype": "text/x-python",
   "name": "python",
   "nbconvert_exporter": "python",
   "pygments_lexer": "ipython3",
   "version": "3.6.7"
  },
  "toc": {
   "base_numbering": 1,
   "nav_menu": {},
   "number_sections": true,
   "sideBar": true,
   "skip_h1_title": true,
   "title_cell": "Table of Contents",
   "title_sidebar": "Contents",
   "toc_cell": true,
   "toc_position": {},
   "toc_section_display": true,
   "toc_window_display": false
  }
 },
 "nbformat": 4,
 "nbformat_minor": 2
}
