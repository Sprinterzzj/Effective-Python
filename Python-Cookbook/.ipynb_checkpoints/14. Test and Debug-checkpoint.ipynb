{
 "cells": [
  {
   "cell_type": "markdown",
   "metadata": {
    "toc": true
   },
   "source": [
    "<h1>Table of Contents<span class=\"tocSkip\"></span></h1>\n",
    "<div class=\"toc\"><ul class=\"toc-item\"><li><span><a href=\"#14.2-在测试单元中给对象打补丁\" data-toc-modified-id=\"14.2-在测试单元中给对象打补丁-1\"><span class=\"toc-item-num\">1&nbsp;&nbsp;</span>14.2 在测试单元中给对象打补丁</a></span></li><li><span><a href=\"#14.3-在单元测试中测试是否抛出异常\" data-toc-modified-id=\"14.3-在单元测试中测试是否抛出异常-2\"><span class=\"toc-item-num\">2&nbsp;&nbsp;</span>14.3 在单元测试中测试是否抛出异常</a></span></li></ul></div>"
   ]
  },
  {
   "cell_type": "markdown",
   "metadata": {},
   "source": [
    "###### 14.2 在测试单元中给对象打补丁\n",
    "你写的单元测试中需要给指定的对象打补丁， 用来断言它们在测试中的期望行为（比如，断言被调用时的参数个数，访问指定的属性等）"
   ]
  },
  {
   "cell_type": "code",
   "execution_count": null,
   "metadata": {
    "ExecuteTime": {
     "end_time": "2020-10-05T07:14:17.408938Z",
     "start_time": "2020-10-05T07:14:17.405880Z"
    },
    "run_control": {
     "marked": true
    }
   },
   "outputs": [],
   "source": [
    "# %load example.py\n",
    "# example.py\n",
    "from urllib.request import urlopen\n",
    "import csv\n",
    "\n",
    "def dowprices():\n",
    "    u = urlopen('http://finance.yahoo.com/d/quotes.csv?s=@^DJI&f=sl1')\n",
    "    lines = (line.decode('utf-8') for line in u)\n",
    "    rows = (row for row in csv.reader(lines) if len(row) == 2)\n",
    "    prices = { name:float(price) for name, price in rows }\n",
    "    return prices\n"
   ]
  },
  {
   "cell_type": "code",
   "execution_count": 28,
   "metadata": {
    "ExecuteTime": {
     "end_time": "2020-10-05T07:40:46.295780Z",
     "start_time": "2020-10-05T07:40:46.292384Z"
    }
   },
   "outputs": [],
   "source": [
    "# 解决方案: 用 unittest.mock.pathch 装饰器函数\n",
    "import unittest\n",
    "from unittest.mock import patch\n",
    "import io\n",
    "import example\n",
    "\n",
    "sample_data = io.BytesIO(b'''\\\n",
    "\"IBM\",91.1\\r\n",
    "\"AA\",13.25\\r\n",
    "\"MSFT\",27.72\\r\n",
    "\\r\n",
    "''')"
   ]
  },
  {
   "cell_type": "code",
   "execution_count": 29,
   "metadata": {
    "ExecuteTime": {
     "end_time": "2020-10-05T07:40:46.926439Z",
     "start_time": "2020-10-05T07:40:46.922066Z"
    }
   },
   "outputs": [],
   "source": [
    "class Tests(unittest.TestCase):\n",
    "    @patch('example.urlopen', return_value=sample_data)  # 1, 2\n",
    "    def test_dowprices(self, mock_urlopen):\n",
    "        p = example.dowprices()\n",
    "        self.assertTrue(mock_urlopen.called)\n",
    "        self.assertEqual(p, {'IBM': 91.1,\n",
    "                             'AA': 13.25,\n",
    "                             'MSFT': 27.72})"
   ]
  },
  {
   "cell_type": "markdown",
   "metadata": {},
   "source": [
    "1. 位于 example 模块中的 urlopen() 函数被一个mock对象替代， 该对象会返回一个包含测试数据的 ByteIO().  \n",
    "2. 在打补丁时我们使用了 example.urlopen 来代替 urllib.request.urlopen 。 当你创建补丁的时候，你必须使用它们在测试代码中的名称。 由于测试代码使用了 from urllib.request import urlopen ,那么 dowprices() 函数 中使用的 urlopen() 函数实际上就位于 example 模块了。"
   ]
  },
  {
   "cell_type": "code",
   "execution_count": 30,
   "metadata": {
    "ExecuteTime": {
     "end_time": "2020-10-05T07:40:50.527670Z",
     "start_time": "2020-10-05T07:40:50.520727Z"
    }
   },
   "outputs": [
    {
     "name": "stderr",
     "output_type": "stream",
     "text": [
      "test_dowprices (__main__.Tests) ... ok\n",
      "\n",
      "----------------------------------------------------------------------\n",
      "Ran 1 test in 0.002s\n",
      "\n",
      "OK\n"
     ]
    },
    {
     "data": {
      "text/plain": [
       "<unittest.main.TestProgram at 0x7f928c1a7f60>"
      ]
     },
     "execution_count": 30,
     "metadata": {},
     "output_type": "execute_result"
    }
   ],
   "source": [
    "unittest.main(verbosity=2, exit=False, defaultTest=['Tests'], argv=[''])"
   ]
  },
  {
   "cell_type": "markdown",
   "metadata": {},
   "source": [
    "###### 14.3 在单元测试中测试是否抛出异常"
   ]
  },
  {
   "cell_type": "code",
   "execution_count": 31,
   "metadata": {
    "ExecuteTime": {
     "end_time": "2020-10-05T07:40:54.500929Z",
     "start_time": "2020-10-05T07:40:54.496735Z"
    }
   },
   "outputs": [],
   "source": [
    "# 解决方案: 用 assertRaises 方法.\n",
    "import unittest\n",
    "\n",
    "\n",
    "def parse_int(s):\n",
    "    return int(s)\n",
    "\n",
    "class TestConversion(unittest.TestCase):\n",
    "    def test_bad_int(self):\n",
    "        with self.assertRaises(ValueError):\n",
    "            parse_int('N?A')"
   ]
  },
  {
   "cell_type": "code",
   "execution_count": 32,
   "metadata": {
    "ExecuteTime": {
     "end_time": "2020-10-05T07:40:55.197409Z",
     "start_time": "2020-10-05T07:40:55.188152Z"
    }
   },
   "outputs": [
    {
     "name": "stderr",
     "output_type": "stream",
     "text": [
      "test_bad_int (__main__.TestConversion) ... ok\n",
      "\n",
      "----------------------------------------------------------------------\n",
      "Ran 1 test in 0.002s\n",
      "\n",
      "OK\n"
     ]
    },
    {
     "data": {
      "text/plain": [
       "<unittest.main.TestProgram at 0x7f928c1adcc0>"
      ]
     },
     "execution_count": 32,
     "metadata": {},
     "output_type": "execute_result"
    }
   ],
   "source": [
    "unittest.main(verbosity=2, exit=False, defaultTest=['TestConversion'], argv=[''])"
   ]
  },
  {
   "cell_type": "code",
   "execution_count": 33,
   "metadata": {
    "ExecuteTime": {
     "end_time": "2020-10-05T07:46:06.337060Z",
     "start_time": "2020-10-05T07:46:06.333064Z"
    }
   },
   "outputs": [],
   "source": [
    "# 如果你想测试异常的具体值, 那么需要另外一种方法.\n",
    "import errno\n",
    "\n",
    "class TestIO(unittest.TestCase):\n",
    "    def test_file_not_found(self):\n",
    "        try:\n",
    "            f = open('file/not/found')\n",
    "        except IOError as e:\n",
    "            self.assertEqual(e.errno, errno.ENOENT)\n",
    "        else:\n",
    "            self.fail('IOError not raised.')"
   ]
  },
  {
   "cell_type": "code",
   "execution_count": 34,
   "metadata": {
    "ExecuteTime": {
     "end_time": "2020-10-05T07:46:19.960219Z",
     "start_time": "2020-10-05T07:46:19.953290Z"
    }
   },
   "outputs": [
    {
     "name": "stderr",
     "output_type": "stream",
     "text": [
      "test_file_not_found (__main__.TestIO) ... ok\n",
      "\n",
      "----------------------------------------------------------------------\n",
      "Ran 1 test in 0.001s\n",
      "\n",
      "OK\n"
     ]
    },
    {
     "data": {
      "text/plain": [
       "<unittest.main.TestProgram at 0x7f928be2b240>"
      ]
     },
     "execution_count": 34,
     "metadata": {},
     "output_type": "execute_result"
    }
   ],
   "source": [
    "unittest.main(verbosity=2, exit=False, defaultTest=['TestIO'], argv=[''])"
   ]
  },
  {
   "cell_type": "code",
   "execution_count": null,
   "metadata": {},
   "outputs": [],
   "source": []
  }
 ],
 "metadata": {
  "kernelspec": {
   "display_name": "Python 3",
   "language": "python",
   "name": "python3"
  },
  "language_info": {
   "codemirror_mode": {
    "name": "ipython",
    "version": 3
   },
   "file_extension": ".py",
   "mimetype": "text/x-python",
   "name": "python",
   "nbconvert_exporter": "python",
   "pygments_lexer": "ipython3",
   "version": "3.6.7"
  },
  "toc": {
   "base_numbering": 1,
   "nav_menu": {},
   "number_sections": true,
   "sideBar": true,
   "skip_h1_title": true,
   "title_cell": "Table of Contents",
   "title_sidebar": "Contents",
   "toc_cell": true,
   "toc_position": {},
   "toc_section_display": true,
   "toc_window_display": false
  }
 },
 "nbformat": 4,
 "nbformat_minor": 2
}
