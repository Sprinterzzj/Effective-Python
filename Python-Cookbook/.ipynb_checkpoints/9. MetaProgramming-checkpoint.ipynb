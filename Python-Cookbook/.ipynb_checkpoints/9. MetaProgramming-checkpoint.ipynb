{
 "cells": [
  {
   "cell_type": "markdown",
   "metadata": {},
   "source": [
    "###### 4. 定义带参数的装饰器"
   ]
  },
  {
   "cell_type": "code",
   "execution_count": 53,
   "metadata": {
    "ExecuteTime": {
     "end_time": "2019-07-25T08:37:28.842155Z",
     "start_time": "2019-07-25T08:37:28.836754Z"
    }
   },
   "outputs": [],
   "source": [
    "from functools import wraps\n",
    "import logging\n",
    "logging.basicConfig(level=logging.DEBUG)\n",
    "def logged(level, name=None, message=None):\n",
    "    def decorator(func):\n",
    "        logname = name if name else func.__name__\n",
    "        log = logging.getLogger(logname)\n",
    "        # log.setLevel(logging.INFO)\n",
    "        logmsg = message if message else func.__name__\n",
    "        \n",
    "        @wraps(func)\n",
    "        def wrapper(*args, **kwargs):\n",
    "            log.log(level, logmsg)\n",
    "            return func(*args, **kwargs)\n",
    "        return wrapper\n",
    "    return decorator"
   ]
  },
  {
   "cell_type": "code",
   "execution_count": 54,
   "metadata": {
    "ExecuteTime": {
     "end_time": "2019-07-25T08:37:29.631052Z",
     "start_time": "2019-07-25T08:37:29.626177Z"
    }
   },
   "outputs": [],
   "source": [
    "@logged(logging.INFO)\n",
    "def add(x, y):\n",
    "    return x + y"
   ]
  },
  {
   "cell_type": "code",
   "execution_count": 55,
   "metadata": {
    "ExecuteTime": {
     "end_time": "2019-07-25T08:37:30.068152Z",
     "start_time": "2019-07-25T08:37:30.062411Z"
    }
   },
   "outputs": [
    {
     "name": "stderr",
     "output_type": "stream",
     "text": [
      "INFO:add:add\n"
     ]
    },
    {
     "data": {
      "text/plain": [
       "4"
      ]
     },
     "execution_count": 55,
     "metadata": {},
     "output_type": "execute_result"
    }
   ],
   "source": [
    "add(1, 3)"
   ]
  },
  {
   "cell_type": "markdown",
   "metadata": {},
   "source": [
    "###### 5. 可自定义属性的装饰器"
   ]
  },
  {
   "cell_type": "markdown",
   "metadata": {},
   "source": [
    "下面是下一个装饰器, 允许用户提供参数在运行时控制装饰器行为"
   ]
  },
  {
   "cell_type": "code",
   "execution_count": 1,
   "metadata": {
    "ExecuteTime": {
     "end_time": "2019-07-29T09:19:53.798062Z",
     "start_time": "2019-07-29T09:19:53.795694Z"
    }
   },
   "outputs": [],
   "source": [
    "from functools import wraps, partial\n",
    "import logging\n",
    "\n",
    "# Utility decorator to attach a function as an attribute of obj\n",
    "def attach_wrapper(obj, func=None):\n",
    "    if func is None:\n",
    "        return partial(attach_wrapper, obj)\n",
    "    setattr(obj, func.__name__, func)\n",
    "    return func"
   ]
  },
  {
   "cell_type": "code",
   "execution_count": 3,
   "metadata": {
    "ExecuteTime": {
     "end_time": "2019-07-29T09:29:29.922118Z",
     "start_time": "2019-07-29T09:29:29.918253Z"
    }
   },
   "outputs": [],
   "source": [
    "def logged(level, name=None, message=None):\n",
    "    \"\"\"Add logging to a function. level is the logging\n",
    "    level, name is the logger name, and message is the \n",
    "    log message. If name and message are not specified,\n",
    "    they default to the function's module and name.\n",
    "    \"\"\"\n",
    "    def decorate(func):\n",
    "        logname = name if name else func.__module__\n",
    "        log = logging.getLogger(logname)\n",
    "        logmsg = message if message else func.__name__\n",
    "        \n",
    "        @wraps(func)\n",
    "        def wrapper(*args, **kwargs):\n",
    "            log.log(level, logmsg)\n",
    "            return func(*args, **kwargs)\n",
    "        \n",
    "        #Attach setter functions\n",
    "        @attach_wrapper(wrapper)\n",
    "        def set_level(new_level):\n",
    "            nonlocal level\n",
    "            level = newlevel\n",
    "        \n",
    "        @attach_wrapper(wrapper)\n",
    "        def set_msg(newmsg):\n",
    "            nonlocal logmsg\n",
    "            logmsg = newmsg\n",
    "        return wrapper\n",
    "    print('Return decorate when package the function.')\n",
    "    return decorate\n",
    "        "
   ]
  },
  {
   "cell_type": "code",
   "execution_count": 4,
   "metadata": {
    "ExecuteTime": {
     "end_time": "2019-07-29T09:30:21.217035Z",
     "start_time": "2019-07-29T09:30:21.214721Z"
    }
   },
   "outputs": [
    {
     "name": "stdout",
     "output_type": "stream",
     "text": [
      "Return decorate when package the function.\n"
     ]
    }
   ],
   "source": [
    "@logged(logging.DEBUG)\n",
    "def add(x, y):\n",
    "    return x + y"
   ]
  },
  {
   "cell_type": "code",
   "execution_count": 5,
   "metadata": {
    "ExecuteTime": {
     "end_time": "2019-07-29T09:30:31.704025Z",
     "start_time": "2019-07-29T09:30:31.698048Z"
    }
   },
   "outputs": [
    {
     "data": {
      "text/plain": [
       "<function __main__.add(x, y)>"
      ]
     },
     "execution_count": 5,
     "metadata": {},
     "output_type": "execute_result"
    }
   ],
   "source": []
  },
  {
   "cell_type": "markdown",
   "metadata": {},
   "source": [
    "###### 13. 使用元类控制实例的创建"
   ]
  },
  {
   "cell_type": "markdown",
   "metadata": {},
   "source": [
    "实现无实例化的类"
   ]
  },
  {
   "cell_type": "code",
   "execution_count": 28,
   "metadata": {
    "ExecuteTime": {
     "end_time": "2019-07-25T08:06:34.481213Z",
     "start_time": "2019-07-25T08:06:34.479075Z"
    }
   },
   "outputs": [],
   "source": [
    "class NoInstance(type):\n",
    "    def __call__(self, *args, **kwargs):\n",
    "        print('NoNoNo.')\n",
    "        raise TypeError('无法实例化!')"
   ]
  },
  {
   "cell_type": "code",
   "execution_count": 29,
   "metadata": {
    "ExecuteTime": {
     "end_time": "2019-07-25T08:06:34.824602Z",
     "start_time": "2019-07-25T08:06:34.822443Z"
    }
   },
   "outputs": [],
   "source": [
    "class Spam(object, metaclass=NoInstance):\n",
    "    @staticmethod\n",
    "    def gtok(x):\n",
    "        print('汪汪汪!')    \n",
    "    def __call__(self):\n",
    "        print('娃哈哈!')"
   ]
  },
  {
   "cell_type": "code",
   "execution_count": 30,
   "metadata": {
    "ExecuteTime": {
     "end_time": "2019-07-25T08:06:35.162441Z",
     "start_time": "2019-07-25T08:06:35.160363Z"
    }
   },
   "outputs": [
    {
     "name": "stdout",
     "output_type": "stream",
     "text": [
      "NoNoNo.\n",
      "无法实例化!\n"
     ]
    }
   ],
   "source": [
    "try:\n",
    "    Spam()\n",
    "except TypeError as e:\n",
    "    print(e)"
   ]
  },
  {
   "cell_type": "markdown",
   "metadata": {},
   "source": [
    "<center>总结</center>\n",
    "\n",
    "1. type是一个元类。type就是Python在背后用来创建所有类的元类\n",
    "2. Spam 是 type的实例化, 因此 Spam()会调用 type的__call__方法, 如果元类重写了__call__方法, 就会调用元类的__call__方法."
   ]
  },
  {
   "cell_type": "markdown",
   "metadata": {},
   "source": [
    "实现单类"
   ]
  },
  {
   "cell_type": "code",
   "execution_count": 31,
   "metadata": {
    "ExecuteTime": {
     "end_time": "2019-07-25T08:14:21.776461Z",
     "start_time": "2019-07-25T08:14:21.773627Z"
    }
   },
   "outputs": [],
   "source": [
    "class Singleton(type):\n",
    "    def __init__(self, *args, **kwargs):\n",
    "        self.__instance = None\n",
    "        super().__init__(*args, **kwargs)\n",
    "    def __call__(self, *args, **kwargs):\n",
    "        if self.__instance is None:\n",
    "            self.__instance = super().__call__(*args, **kwargs)\n",
    "            return self.__instance\n",
    "        else:\n",
    "            return self.__instance"
   ]
  },
  {
   "cell_type": "code",
   "execution_count": 33,
   "metadata": {
    "ExecuteTime": {
     "end_time": "2019-07-25T08:15:18.491451Z",
     "start_time": "2019-07-25T08:15:18.489501Z"
    }
   },
   "outputs": [],
   "source": [
    "class Spam(object, metaclass=Singleton):\n",
    "    pass\n",
    "\n",
    "assert Spam() is Spam()"
   ]
  },
  {
   "cell_type": "code",
   "execution_count": null,
   "metadata": {},
   "outputs": [],
   "source": []
  }
 ],
 "metadata": {
  "kernelspec": {
   "display_name": "Python 3",
   "language": "python",
   "name": "python3"
  },
  "language_info": {
   "codemirror_mode": {
    "name": "ipython",
    "version": 3
   },
   "file_extension": ".py",
   "mimetype": "text/x-python",
   "name": "python",
   "nbconvert_exporter": "python",
   "pygments_lexer": "ipython3",
   "version": "3.6.8"
  },
  "toc": {
   "base_numbering": 1,
   "nav_menu": {},
   "number_sections": true,
   "sideBar": true,
   "skip_h1_title": false,
   "title_cell": "Table of Contents",
   "title_sidebar": "Contents",
   "toc_cell": false,
   "toc_position": {},
   "toc_section_display": true,
   "toc_window_display": false
  }
 },
 "nbformat": 4,
 "nbformat_minor": 2
}
