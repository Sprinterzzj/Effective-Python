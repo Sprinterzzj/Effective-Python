{
 "cells": [
  {
   "cell_type": "markdown",
   "metadata": {},
   "source": [
    "###### 4. 定义带参数的装饰器"
   ]
  },
  {
   "cell_type": "code",
   "execution_count": 53,
   "metadata": {
    "ExecuteTime": {
     "end_time": "2019-07-25T08:37:28.842155Z",
     "start_time": "2019-07-25T08:37:28.836754Z"
    }
   },
   "outputs": [],
   "source": [
    "from functools import wraps\n",
    "import logging\n",
    "logging.basicConfig(level=logging.DEBUG)\n",
    "def logged(level, name=None, message=None):\n",
    "    def decorator(func):\n",
    "        logname = name if name else func.__name__\n",
    "        log = logging.getLogger(logname)\n",
    "        # log.setLevel(logging.INFO)\n",
    "        logmsg = message if message else func.__name__\n",
    "        \n",
    "        @wraps(func)\n",
    "        def wrapper(*args, **kwargs):\n",
    "            log.log(level, logmsg)\n",
    "            return func(*args, **kwargs)\n",
    "        return wrapper\n",
    "    return decorator"
   ]
  },
  {
   "cell_type": "code",
   "execution_count": 54,
   "metadata": {
    "ExecuteTime": {
     "end_time": "2019-07-25T08:37:29.631052Z",
     "start_time": "2019-07-25T08:37:29.626177Z"
    }
   },
   "outputs": [],
   "source": [
    "@logged(logging.INFO)\n",
    "def add(x, y):\n",
    "    return x + y"
   ]
  },
  {
   "cell_type": "code",
   "execution_count": 55,
   "metadata": {
    "ExecuteTime": {
     "end_time": "2019-07-25T08:37:30.068152Z",
     "start_time": "2019-07-25T08:37:30.062411Z"
    }
   },
   "outputs": [
    {
     "name": "stderr",
     "output_type": "stream",
     "text": [
      "INFO:add:add\n"
     ]
    },
    {
     "data": {
      "text/plain": [
       "4"
      ]
     },
     "execution_count": 55,
     "metadata": {},
     "output_type": "execute_result"
    }
   ],
   "source": [
    "add(1, 3)"
   ]
  },
  {
   "cell_type": "markdown",
   "metadata": {},
   "source": [
    "###### 5. 可自定义属性的装饰器"
   ]
  },
  {
   "cell_type": "markdown",
   "metadata": {},
   "source": [
    "<center>下面是下一个装饰器, 允许用户提供参数在运行时控制装饰器行为</center>\n",
    "\n",
    "1. attach_wrapper 是一个通过装饰器, 为一个 python object set attribute. 注意如果 func 为空, 那么返回一个绑定了 obj 参数的偏函数.\n",
    "2. 当用来装饰函数时, logged 装饰器返回 decorate 函数对象, 用它来修饰被装饰的函数.\n",
    "3. decorate 返回一个 **可变对象wrapper**, 在decorate内部定义的函数为wrapper对象绑定了两个方法. ***务必注意这种动态绑定attribute的方法***\n",
    "4. 注意 set\\_level 和 set\\_msg 内部通过 nonlocal 来改变外部函数的局部变量 "
   ]
  },
  {
   "cell_type": "code",
   "execution_count": 2,
   "metadata": {
    "ExecuteTime": {
     "end_time": "2019-07-30T00:46:49.179655Z",
     "start_time": "2019-07-30T00:46:49.175933Z"
    }
   },
   "outputs": [],
   "source": [
    "from functools import wraps, partial\n",
    "import logging\n",
    "\n",
    "# Utility decorator to attach a function as an attribute of obj\n",
    "def attach_wrapper(obj, func=None):\n",
    "    if func is None:\n",
    "        return partial(attach_wrapper, obj)\n",
    "    setattr(obj, func.__name__, func)\n",
    "    return func"
   ]
  },
  {
   "cell_type": "code",
   "execution_count": 13,
   "metadata": {
    "ExecuteTime": {
     "end_time": "2019-07-30T00:57:35.918107Z",
     "start_time": "2019-07-30T00:57:35.912841Z"
    }
   },
   "outputs": [],
   "source": [
    "def logged(level, name=None, message=None):\n",
    "    \"\"\"Add logging to a function. level is the logging\n",
    "    level, name is the logger name, and message is the \n",
    "    log message. If name and message are not specified,\n",
    "    they default to the function's module and name.\n",
    "    \"\"\"\n",
    "    def decorate(func):\n",
    "        logname = name if name else func.__module__\n",
    "        log = logging.getLogger(logname)\n",
    "        logmsg = message if message else func.__name__\n",
    "        \n",
    "        @wraps(func)\n",
    "        def wrapper(*args, **kwargs):\n",
    "            log.log(level, logmsg)\n",
    "            return func(*args, **kwargs)\n",
    "        \n",
    "        #Attach setter functions\n",
    "        @attach_wrapper(wrapper)\n",
    "        def set_level(new_level):\n",
    "            nonlocal level\n",
    "            level = new_level\n",
    "        \n",
    "        @attach_wrapper(wrapper)\n",
    "        def set_msg(newmsg):\n",
    "            nonlocal logmsg\n",
    "            logmsg = newmsg\n",
    "        return wrapper\n",
    "    print('Return decorate when package the function.')\n",
    "    return decorate\n",
    "        "
   ]
  },
  {
   "cell_type": "code",
   "execution_count": 14,
   "metadata": {
    "ExecuteTime": {
     "end_time": "2019-07-30T00:57:36.256472Z",
     "start_time": "2019-07-30T00:57:36.253049Z"
    }
   },
   "outputs": [
    {
     "name": "stdout",
     "output_type": "stream",
     "text": [
      "Return decorate when package the function.\n"
     ]
    }
   ],
   "source": [
    "@logged(logging.DEBUG)\n",
    "def add(x, y):\n",
    "    return x + y"
   ]
  },
  {
   "cell_type": "code",
   "execution_count": 15,
   "metadata": {
    "ExecuteTime": {
     "end_time": "2019-07-30T00:57:36.593774Z",
     "start_time": "2019-07-30T00:57:36.587785Z"
    }
   },
   "outputs": [
    {
     "name": "stderr",
     "output_type": "stream",
     "text": [
      "DEBUG:__main__:add\n"
     ]
    },
    {
     "data": {
      "text/plain": [
       "5"
      ]
     },
     "execution_count": 15,
     "metadata": {},
     "output_type": "execute_result"
    }
   ],
   "source": [
    "import logging\n",
    "logging.basicConfig(level=logging.DEBUG)\n",
    "add(2, 3)"
   ]
  },
  {
   "cell_type": "markdown",
   "metadata": {},
   "source": [
    "值得注意的是: 你的访问函数会在多层装饰器之间传播, 如果你的装饰器都使用了 functools.wraps 注解"
   ]
  },
  {
   "cell_type": "code",
   "execution_count": 24,
   "metadata": {
    "ExecuteTime": {
     "end_time": "2019-07-30T00:58:16.993443Z",
     "start_time": "2019-07-30T00:58:16.988447Z"
    },
    "run_control": {
     "marked": true
    }
   },
   "outputs": [],
   "source": [
    "import time\n",
    "from functools import wraps\n",
    "def timethis(func):  \n",
    "    @wraps(func)\n",
    "    def wrapper(*args, **kwargs):\n",
    "        start = time.time()\n",
    "        result = func(*args, **kwargs)\n",
    "        end = time.time()\n",
    "        print(func.__name__, end - start)\n",
    "        return result\n",
    "    return wrapper"
   ]
  },
  {
   "cell_type": "code",
   "execution_count": 25,
   "metadata": {
    "ExecuteTime": {
     "end_time": "2019-07-30T00:58:17.355163Z",
     "start_time": "2019-07-30T00:58:17.351797Z"
    }
   },
   "outputs": [
    {
     "name": "stdout",
     "output_type": "stream",
     "text": [
      "Return decorate when package the function.\n"
     ]
    }
   ],
   "source": [
    "@timethis\n",
    "@logged(logging.DEBUG)\n",
    "def countdown(n):\n",
    "    while n > 0:\n",
    "        n -= 1"
   ]
  },
  {
   "cell_type": "code",
   "execution_count": 26,
   "metadata": {
    "ExecuteTime": {
     "end_time": "2019-07-30T00:58:18.520596Z",
     "start_time": "2019-07-30T00:58:18.424039Z"
    }
   },
   "outputs": [
    {
     "name": "stderr",
     "output_type": "stream",
     "text": [
      "DEBUG:__main__:countdown\n",
      "WARNING:__main__:Counting down to zero\n"
     ]
    },
    {
     "name": "stdout",
     "output_type": "stream",
     "text": [
      "countdown 0.05000805854797363\n",
      "countdown 0.04349088668823242\n"
     ]
    }
   ],
   "source": [
    "\n",
    "countdown(1000000)\n",
    "\n",
    "#访问函数依然可用\n",
    "countdown.set_level(logging.WARNING)\n",
    "countdown.set_msg(\"Counting down to zero\")\n",
    "countdown(1000000)"
   ]
  },
  {
   "cell_type": "markdown",
   "metadata": {
    "ExecuteTime": {
     "end_time": "2019-07-30T01:24:32.625134Z",
     "start_time": "2019-07-30T01:24:32.621281Z"
    }
   },
   "source": [
    "即使装饰器以相反的方向排放, 也是可以的~~~"
   ]
  },
  {
   "cell_type": "code",
   "execution_count": 28,
   "metadata": {
    "ExecuteTime": {
     "end_time": "2019-07-30T01:25:18.878253Z",
     "start_time": "2019-07-30T01:25:18.874557Z"
    }
   },
   "outputs": [
    {
     "name": "stdout",
     "output_type": "stream",
     "text": [
      "Return decorate when package the function.\n"
     ]
    }
   ],
   "source": [
    "@logged(logging.DEBUG)\n",
    "@timethis\n",
    "def countdown(n):\n",
    "    while n > 0:\n",
    "        n -= 1"
   ]
  },
  {
   "cell_type": "markdown",
   "metadata": {},
   "source": [
    "你也可以直接赋值属性, 但是这种方法只有 logged 是最外层装饰器时才有用.如果它的上面还有另外的装饰器(比如上面提到的 @timethis 例子)，那么它会隐藏底层属性，使得修改它们没有任何作用。 而通过使用访问函数就能避免这样的局限性。"
   ]
  },
  {
   "cell_type": "code",
   "execution_count": 30,
   "metadata": {
    "ExecuteTime": {
     "end_time": "2019-07-30T01:46:44.560729Z",
     "start_time": "2019-07-30T01:46:44.555736Z"
    }
   },
   "outputs": [],
   "source": [
    "def logged(level, name=None, message=None):\n",
    "    def decorate(func):\n",
    "        logname = name if name else func.__module__\n",
    "        log = logging.getLogger(logname)\n",
    "        logmsg = message if message else func.__name__     \n",
    "        @wraps(func)\n",
    "        def wrapper(*args, **kwargs):\n",
    "            log.log(level, logmsg)\n",
    "            return func(*args, **kwargs)\n",
    "        \n",
    "        wrapper.level = level\n",
    "        wrapper.logmsg = logmsg\n",
    "        wrapper.log = log       \n",
    "        return wrapper\n",
    "    return decorate"
   ]
  },
  {
   "cell_type": "markdown",
   "metadata": {},
   "source": [
    "###### 6. 带可选参数的装饰器"
   ]
  },
  {
   "cell_type": "code",
   "execution_count": 33,
   "metadata": {
    "ExecuteTime": {
     "end_time": "2019-07-30T05:54:22.531025Z",
     "start_time": "2019-07-30T05:54:22.525563Z"
    }
   },
   "outputs": [],
   "source": [
    "#实现一个装饰器, 可以不传递参数给它, 也可以传递参数给它\n",
    "from functools import wraps, partial\n",
    "import logging\n",
    "\n",
    "def logged(func=None, \n",
    "           *, \n",
    "           level=logging.DEBUG, name=None, message=None):\n",
    "    if func is None:\n",
    "        return partial(logged, level=level, name=name, message=message)\n",
    "    logname = name if name else func.__name__\n",
    "    log = logging.getLogger(logname)\n",
    "    logmsg = message if message else func.__name__\n",
    "    \n",
    "    @wraps\n",
    "    def wrapper(*args, **kwargs):\n",
    "        log.log(level, logmsg)\n",
    "        return func(*args, **kwargs)\n",
    "    return wrapper"
   ]
  },
  {
   "cell_type": "markdown",
   "metadata": {},
   "source": [
    "注意下面第二个调用, 最开始 func 参数没有被传递进来, 因为在 logged 装饰器函数中他必须是***可选的***, 这同时会迫使其他参数必须使用关键字指定!!! 同时我们使用了***偏函数技巧***, 让 logged 函数在 func 为空时返回一个包装的偏函数, 除了 func 参数以外其他所有的参数都确定下来了."
   ]
  },
  {
   "cell_type": "code",
   "execution_count": null,
   "metadata": {
    "ExecuteTime": {
     "end_time": "2019-07-30T05:55:42.818312Z",
     "start_time": "2019-07-30T05:55:42.816182Z"
    }
   },
   "outputs": [],
   "source": [
    "# 等价于 logged(func=add)\n",
    "@logged\n",
    "def add(x, y):\n",
    "    return x + y \n",
    "\n",
    "#等价于 logged(level=logging.CRITICAL, name='example')(spam)\n",
    "@logged(level=logging.CRITICAL, name='example')\n",
    "def spam():\n",
    "    print('Spam!')"
   ]
  },
  {
   "cell_type": "markdown",
   "metadata": {},
   "source": [
    "###### 7 利用装饰器实现类型检查\n",
    "***需要 inspect 模块***"
   ]
  },
  {
   "cell_type": "code",
   "execution_count": 43,
   "metadata": {
    "ExecuteTime": {
     "end_time": "2019-07-30T06:18:20.977285Z",
     "start_time": "2019-07-30T06:18:20.974878Z"
    }
   },
   "outputs": [],
   "source": [
    "from inspect import signature\n",
    "def test_f(a, b):\n",
    "    return 1"
   ]
  },
  {
   "cell_type": "code",
   "execution_count": 52,
   "metadata": {
    "ExecuteTime": {
     "end_time": "2019-07-30T06:20:11.935166Z",
     "start_time": "2019-07-30T06:20:11.930504Z"
    }
   },
   "outputs": [
    {
     "data": {
      "text/plain": [
       "OrderedDict([('a', int), ('b', float)])"
      ]
     },
     "execution_count": 52,
     "metadata": {},
     "output_type": "execute_result"
    }
   ],
   "source": [
    "s = signature(test_f)\n",
    "s.bind(int, b=float).arguments"
   ]
  },
  {
   "cell_type": "code",
   "execution_count": 54,
   "metadata": {
    "ExecuteTime": {
     "end_time": "2019-07-30T06:25:33.949306Z",
     "start_time": "2019-07-30T06:25:33.943564Z"
    }
   },
   "outputs": [],
   "source": [
    "#我们希望对函数的参数进行类型检查/断言\n",
    "from inspect import signature\n",
    "from functools import wraps\n",
    "\n",
    "def typeassert(*ty_args, **ty_kwargs):\n",
    "    def decorate(func):\n",
    "        # If in oprimized mode, disable type checking.\n",
    "        if not __debug__:\n",
    "            return func\n",
    "        #Map function argument names to supplied types\n",
    "        sig = signature(func)\n",
    "        bound_types = sig.bind_partial(*ty_args, **ty_kwargs).arguments\n",
    "        \n",
    "        @wraps(func)\n",
    "        def wrapper(*args, **kwargs):\n",
    "            bound_values = sig.bind(*args, **kwargs)\n",
    "            # 强制类型检查\n",
    "            for name, value in bound_values.arguments.items():\n",
    "                if name in bound_types:\n",
    "                    if not isinstance(value, bound_types[name]):\n",
    "                        raise TypeError(\n",
    "                            'Argument {} must be {}'.\\\n",
    "                            format(name, bound_types[name])\n",
    "                        )\n",
    "            return func(*args, **kwargs)\n",
    "        return wrapper\n",
    "    return decorate          "
   ]
  },
  {
   "cell_type": "code",
   "execution_count": 55,
   "metadata": {
    "ExecuteTime": {
     "end_time": "2019-07-30T06:31:56.184281Z",
     "start_time": "2019-07-30T06:31:56.180465Z"
    }
   },
   "outputs": [],
   "source": [
    "@typeassert(int, z=int)\n",
    "def spam(x, y, z=42):\n",
    "    print(x, y, z)"
   ]
  },
  {
   "cell_type": "code",
   "execution_count": 59,
   "metadata": {
    "ExecuteTime": {
     "end_time": "2019-07-30T06:33:09.914683Z",
     "start_time": "2019-07-30T06:33:09.909795Z"
    }
   },
   "outputs": [
    {
     "name": "stdout",
     "output_type": "stream",
     "text": [
      "1 2 3\n",
      "1 hello 3\n",
      "Argument z must be <class 'int'>\n"
     ]
    }
   ],
   "source": [
    "spam(1,2,3)\n",
    "spam(1, 'hello', 3)\n",
    "try:\n",
    "    spam(1, 'hello', 'world')\n",
    "except TypeError as e:\n",
    "    print(e)"
   ]
  },
  {
   "cell_type": "markdown",
   "metadata": {
    "ExecuteTime": {
     "end_time": "2019-07-30T06:35:50.118918Z",
     "start_time": "2019-07-30T06:35:50.115780Z"
    }
   },
   "source": [
    "<center>总结</center>\n",
    "\n",
    "1. 首先，装饰器只会在函数定义时被调用一次。 \n",
    "2. 有时候你去掉装饰器的功能，那么你只需要简单的返回被装饰函数即可。上面的代码中，\n",
    "   如果全局变量　\\_\\_debug\\_\\_ 被设置成了False(当你使用-O或-OO参数的优化模式执行程序时)， 那么就直接返回未修改过的函数本身。\n",
    "3. 装饰器的开始部分，我们使用了 bind_partial() 方法来执行从指定类型到名称的部分绑定。**注意你可以注意到缺失的参数被忽略了**。\n",
    "4. 在装饰器创建的实际包装函数中使用到了 sig.bind() 方法。 bind() 跟 bind_partial() 类似，**但是它不允许忽略任何参数**。"
   ]
  },
  {
   "cell_type": "markdown",
   "metadata": {},
   "source": [
    "###### 8.装饰器定义为类的一部分"
   ]
  },
  {
   "cell_type": "code",
   "execution_count": 61,
   "metadata": {
    "ExecuteTime": {
     "end_time": "2019-07-30T06:52:29.204497Z",
     "start_time": "2019-07-30T06:52:29.200129Z"
    }
   },
   "outputs": [],
   "source": [
    "from functools import wraps\n",
    "class A(object):\n",
    "    #实例方法的装饰器\n",
    "    def decorator1(self, func):\n",
    "        @wraps(func)\n",
    "        def wrapper(*args, **kwargs):\n",
    "            print('Decorator 1')\n",
    "            return func(*args, **kwargs)\n",
    "        return wrapper\n",
    "    #类方法的装饰器\n",
    "    @classmethod\n",
    "    def decorator2(cls, func):\n",
    "        @wraps(func)\n",
    "        def wrapper(*args, **kwargs):\n",
    "            print('Decorator 2')\n",
    "            return func(*args, **kwargs)\n",
    "        return wrapper"
   ]
  },
  {
   "cell_type": "markdown",
   "metadata": {},
   "source": [
    "###### 9.装饰器定义为类\n",
    "***你需要自己实现 \\_\\_call\\_\\_和 \\_\\_get\\_\\_ 方法***"
   ]
  },
  {
   "cell_type": "code",
   "execution_count": 1,
   "metadata": {
    "ExecuteTime": {
     "end_time": "2019-08-22T05:12:53.243522Z",
     "start_time": "2019-08-22T05:12:53.237524Z"
    },
    "run_control": {
     "marked": true
    }
   },
   "outputs": [],
   "source": [
    "import types\n",
    "from functools import wraps\n",
    "import sys\n",
    "import inspect\n",
    "class Profiled(object):\n",
    "    def __init__(self, func):\n",
    "        wraps(func)(self)\n",
    "        print(inspect.signature(self.__wrapped__))\n",
    "        self.ncalls = 0\n",
    "    def __call__(self, *args, **kwargs):\n",
    "        self.ncalls += 1\n",
    "        print('In __Call__.')\n",
    "        #注意 args 的第一个参数 是 spam的实例化\n",
    "        print(sys._getframe(0).f_locals['args'])\n",
    "        return self.__wrapped__(*args, **kwargs)\n",
    "    def __get__(self, instance, owner):\n",
    "        if instance is None:\n",
    "            return self\n",
    "        else:\n",
    "            # self(bar) 是 Profiled 的实例\n",
    "            # instance 是 点运算符表达式左边的对象, 是 spam 的实例\n",
    "            print('In __get__:',self, instance)\n",
    "            print('After __get__:', \n",
    "                  types.MethodType(self, instance))\n",
    "            #返回一个绑定的方法, 第一个参数是 spam的实例,\n",
    "            #这里这个方法 是 Profiled 的实例,\n",
    "            #接下来调用call方法的第一个参数就是 spam的实例了\n",
    "            \n",
    "            return types.MethodType(self, instance)"
   ]
  },
  {
   "cell_type": "markdown",
   "metadata": {},
   "source": [
    "你可以在类外面或者里面使用 Profiled 装饰器"
   ]
  },
  {
   "cell_type": "code",
   "execution_count": 2,
   "metadata": {
    "ExecuteTime": {
     "end_time": "2019-08-22T05:12:54.218261Z",
     "start_time": "2019-08-22T05:12:54.212655Z"
    }
   },
   "outputs": [
    {
     "name": "stdout",
     "output_type": "stream",
     "text": [
      "(x, y)\n",
      "(self, x)\n"
     ]
    }
   ],
   "source": [
    "@Profiled\n",
    "def add(x, y):\n",
    "    return x + y\n",
    "\n",
    "class spam(object):\n",
    "    # Profiled 是装饰器类, Profiled(bar) 是 Profiled的实例. 因而它是类方法.\n",
    "    # Profile初始化时, wrap了 bar 方法. ！！！注意 bar 是实例方法, 它的第一个\n",
    "    # 参数是 self!!!!!\n",
    "    \n",
    "    # 所以如果不提供 __get__ 方法, spam().bar 返回的是 Profiled 的实例, \n",
    "    # spam().bar(3) 缺少了 self 参数!!!!\n",
    "    # 但是 spam().bar(spam(), 3) 就可以了。。。。\n",
    "    @Profiled\n",
    "    def bar(self, x):\n",
    "        print('In bar :', (self, x))"
   ]
  },
  {
   "cell_type": "code",
   "execution_count": 3,
   "metadata": {
    "ExecuteTime": {
     "end_time": "2019-08-22T05:12:56.484853Z",
     "start_time": "2019-08-22T05:12:56.476977Z"
    }
   },
   "outputs": [
    {
     "data": {
      "text/plain": [
       "{'__module__': '__main__',\n",
       " '__name__': 'bar',\n",
       " '__qualname__': 'spam.bar',\n",
       " '__doc__': None,\n",
       " '__annotations__': {},\n",
       " '__wrapped__': <function __main__.spam.bar(self, x)>,\n",
       " 'ncalls': 0}"
      ]
     },
     "execution_count": 3,
     "metadata": {},
     "output_type": "execute_result"
    }
   ],
   "source": [
    "spam.bar.__dict__"
   ]
  },
  {
   "cell_type": "code",
   "execution_count": 5,
   "metadata": {
    "ExecuteTime": {
     "end_time": "2019-08-22T05:13:15.356490Z",
     "start_time": "2019-08-22T05:13:15.351856Z"
    }
   },
   "outputs": [],
   "source": [
    "a = spam()"
   ]
  },
  {
   "cell_type": "code",
   "execution_count": 6,
   "metadata": {
    "ExecuteTime": {
     "end_time": "2019-08-22T05:13:15.754151Z",
     "start_time": "2019-08-22T05:13:15.748856Z"
    }
   },
   "outputs": [
    {
     "name": "stdout",
     "output_type": "stream",
     "text": [
      "In __get__: <__main__.Profiled object at 0x7f16445c0dd8> <__main__.spam object at 0x7f16445c0f60>\n",
      "After __get__: <bound method spam.bar of <__main__.spam object at 0x7f16445c0f60>>\n"
     ]
    },
    {
     "data": {
      "text/plain": [
       "<bound method spam.bar of <__main__.spam object at 0x7f16445c0f60>>"
      ]
     },
     "execution_count": 6,
     "metadata": {},
     "output_type": "execute_result"
    }
   ],
   "source": [
    "a.bar"
   ]
  },
  {
   "cell_type": "code",
   "execution_count": 21,
   "metadata": {
    "ExecuteTime": {
     "end_time": "2019-08-20T01:34:49.048910Z",
     "start_time": "2019-08-20T01:34:49.043756Z"
    }
   },
   "outputs": [
    {
     "name": "stdout",
     "output_type": "stream",
     "text": [
      "In __Call__.\n",
      "(<__main__.spam object at 0x7fbb6a58ad30>, 3)\n",
      "In bar : (<__main__.spam object at 0x7fbb6a58ad30>, 3)\n"
     ]
    }
   ],
   "source": [
    "a.bar(a, 3)"
   ]
  },
  {
   "cell_type": "code",
   "execution_count": 255,
   "metadata": {
    "ExecuteTime": {
     "end_time": "2019-07-30T09:15:18.378941Z",
     "start_time": "2019-07-30T09:15:18.374726Z"
    }
   },
   "outputs": [
    {
     "name": "stdout",
     "output_type": "stream",
     "text": [
      "In __Call__.\n",
      "(2, 3)\n",
      "In __Call__.\n",
      "(4, 5)\n",
      "In __Call__.\n",
      "(5, 7)\n",
      "3\n"
     ]
    }
   ],
   "source": [
    "add(2, 3)\n",
    "add(4, 5)\n",
    "add(5,7)\n",
    "print(add.ncalls)"
   ]
  },
  {
   "cell_type": "code",
   "execution_count": 257,
   "metadata": {
    "ExecuteTime": {
     "end_time": "2019-07-30T09:15:26.054528Z",
     "start_time": "2019-07-30T09:15:26.050553Z"
    }
   },
   "outputs": [
    {
     "name": "stdout",
     "output_type": "stream",
     "text": [
      "In __get__: <__main__.Profiled object at 0x109361f98> <__main__.spam object at 0x1093617b8>\n",
      "After __get__: <bound method spam.bar of <__main__.spam object at 0x1093617b8>>\n",
      "In __Call__.\n",
      "(<__main__.spam object at 0x1093617b8>, 1)\n",
      "In bar : (<__main__.spam object at 0x1093617b8>, 1)\n",
      "In __get__: <__main__.Profiled object at 0x109361f98> <__main__.spam object at 0x1093617b8>\n",
      "After __get__: <bound method spam.bar of <__main__.spam object at 0x1093617b8>>\n",
      "In __Call__.\n",
      "(<__main__.spam object at 0x1093617b8>, 2)\n",
      "In bar : (<__main__.spam object at 0x1093617b8>, 2)\n"
     ]
    }
   ],
   "source": [
    "s = spam()\n",
    "s.bar(1)\n",
    "s.bar(2)"
   ]
  },
  {
   "cell_type": "code",
   "execution_count": 221,
   "metadata": {
    "ExecuteTime": {
     "end_time": "2019-07-30T09:06:54.367312Z",
     "start_time": "2019-07-30T09:06:54.362339Z"
    }
   },
   "outputs": [
    {
     "name": "stdout",
     "output_type": "stream",
     "text": [
      "In __get__: <__main__.Profiled object at 0x109b69128> <__main__.spam object at 0x109c7ccc0>\n",
      "After __get__: <bound method spam.bar of <__main__.spam object at 0x109c7ccc0>>\n"
     ]
    },
    {
     "data": {
      "text/plain": [
       "2"
      ]
     },
     "execution_count": 221,
     "metadata": {},
     "output_type": "execute_result"
    }
   ],
   "source": [
    "s.bar.ncalls\n",
    "#因为 bar是类方法(描述符), 所以需要用类来调用它\n",
    "spam.bar.ncalls"
   ]
  },
  {
   "cell_type": "code",
   "execution_count": 201,
   "metadata": {
    "ExecuteTime": {
     "end_time": "2019-07-30T08:57:31.032954Z",
     "start_time": "2019-07-30T08:57:31.029466Z"
    },
    "run_control": {
     "marked": true
    }
   },
   "outputs": [],
   "source": [
    "class A(object):\n",
    "    def __init__(self):\n",
    "        pass\n",
    "a1 = A()\n",
    "a2 = A()\n",
    "def grok(self, x):\n",
    "    print('self is:', self)\n",
    "    print('x is:', x)"
   ]
  },
  {
   "cell_type": "code",
   "execution_count": 202,
   "metadata": {
    "ExecuteTime": {
     "end_time": "2019-07-30T08:57:32.521435Z",
     "start_time": "2019-07-30T08:57:32.518333Z"
    }
   },
   "outputs": [],
   "source": [
    "# __get__ 方法将 grok 函数与 class A 的实例 a 绑定在一起\n",
    "# __get__ 方法的第一个参数与 a绑定\n",
    "f = grok.__get__(a1, A)"
   ]
  },
  {
   "cell_type": "code",
   "execution_count": 203,
   "metadata": {
    "ExecuteTime": {
     "end_time": "2019-07-30T08:57:32.847479Z",
     "start_time": "2019-07-30T08:57:32.843921Z"
    }
   },
   "outputs": [
    {
     "data": {
      "text/plain": [
       "<bound method grok of <__main__.A object at 0x109c7cc88>>"
      ]
     },
     "execution_count": 203,
     "metadata": {},
     "output_type": "execute_result"
    }
   ],
   "source": [
    "f"
   ]
  },
  {
   "cell_type": "code",
   "execution_count": 204,
   "metadata": {
    "ExecuteTime": {
     "end_time": "2019-07-30T08:57:34.152675Z",
     "start_time": "2019-07-30T08:57:34.149355Z"
    }
   },
   "outputs": [
    {
     "name": "stdout",
     "output_type": "stream",
     "text": [
      "self is: <__main__.A object at 0x109c7cc88>\n",
      "x is: 1\n"
     ]
    }
   ],
   "source": [
    "f(1)"
   ]
  },
  {
   "cell_type": "code",
   "execution_count": 205,
   "metadata": {
    "ExecuteTime": {
     "end_time": "2019-07-30T08:57:34.865658Z",
     "start_time": "2019-07-30T08:57:34.861510Z"
    }
   },
   "outputs": [
    {
     "data": {
      "text/plain": [
       "<bound method grok of <__main__.A object at 0x109c7c6a0>>"
      ]
     },
     "execution_count": 205,
     "metadata": {},
     "output_type": "execute_result"
    }
   ],
   "source": [
    "types.MethodType(grok, a2)"
   ]
  },
  {
   "cell_type": "markdown",
   "metadata": {},
   "source": [
    "<center>总结</center>\n",
    "\n",
    "1. 注意 spam 的 bar 函数 是一个 ***Profiled 的实例***, 因而他是一个***类方法***, \n",
    "当你调用它时, 会根据***描述符协议***调用 Profiled 的 \\_\\_get\\_\\_ 方法. 这一方法的目的是创建一个绑定方法的对象\n",
    "2. \\_\\_get\\_\\_方法为了确保绑定方法对象能被正确的创建. 因而我们自己实现的 \\_\\_get\\_\\_ 方法 用 type.MethodType 手动创建一个绑定的方法. 只有当spam的实例被使用的时候绑定方法才会被创建. 如果这个方法是在spam类上面来访问， 那么 \\_\\_get\\_\\_() 中的instance参数会被设置成None并直接返回 Profiled 实例本身。 这样的话我们就可以提取它的 ncalls 属性了。"
   ]
  },
  {
   "cell_type": "markdown",
   "metadata": {},
   "source": [
    "###### 10. 为类和静态方法提供装饰器\n",
    "确保装饰器在 @classmethod 或 @staticmethod 之前(此二者是最外层)"
   ]
  },
  {
   "cell_type": "code",
   "execution_count": 1,
   "metadata": {
    "ExecuteTime": {
     "end_time": "2019-07-31T00:53:04.296248Z",
     "start_time": "2019-07-31T00:53:04.290227Z"
    }
   },
   "outputs": [],
   "source": [
    "import time\n",
    "from functools import wraps\n",
    "\n",
    "\n",
    "def timethis(func):\n",
    "    @wraps(func)\n",
    "    def wrapper(*args, **kwargs):\n",
    "        start = time.time()\n",
    "        r = func(*args, **kwargs)\n",
    "        end = time.time()\n",
    "        print(end - start)\n",
    "        return r\n",
    "    return wrapper\n",
    "\n",
    "\n",
    "class Spam(object):\n",
    "    @timethis\n",
    "    def instance_method(self, n):\n",
    "        print(self, n)\n",
    "        while n > 0:\n",
    "            n -= 1\n",
    "\n",
    "    @classmethod\n",
    "    @timethis\n",
    "    def class_method(cls, n):\n",
    "        print(cls, n)\n",
    "        while n > 0:\n",
    "            n -= 1\n",
    "\n",
    "    @staticmethod\n",
    "    @timethis\n",
    "    def static_method(n):\n",
    "        print(n)\n",
    "        while n > 0:\n",
    "            n -= 1"
   ]
  },
  {
   "cell_type": "code",
   "execution_count": 2,
   "metadata": {
    "ExecuteTime": {
     "end_time": "2019-07-31T00:55:04.809435Z",
     "start_time": "2019-07-31T00:55:04.805386Z"
    }
   },
   "outputs": [],
   "source": [
    "from abc import ABCMeta, abstractmethod\n",
    "class A(metaclass=ABCMeta):\n",
    "    @classmethod\n",
    "    @abstractmethod\n",
    "    def method(cls):\n",
    "        pass"
   ]
  },
  {
   "cell_type": "markdown",
   "metadata": {},
   "source": [
    "###### 11 装饰器未被包装函数增加参数\n",
    "***需要 inspect 模块***"
   ]
  },
  {
   "cell_type": "code",
   "execution_count": 8,
   "metadata": {
    "ExecuteTime": {
     "end_time": "2019-07-31T01:18:05.915654Z",
     "start_time": "2019-07-31T01:18:05.909813Z"
    },
    "run_control": {
     "marked": true
    }
   },
   "outputs": [],
   "source": [
    "from functools import wraps\n",
    "from inspect import Parameter, getargspec, signature\n",
    "\n",
    "def optional_debug(func):\n",
    "    if 'debug' in signature(func).parameters:\n",
    "        raise TypeError('debug argument already defined.')\n",
    "    #wrapper 为 func 增加了一个 debug 参数\n",
    "    @wraps(func)\n",
    "    def wrapper(*args, debug=False, **kwargs):\n",
    "        if debug:\n",
    "            print('Calling', func.__name__)\n",
    "        return func(*args, **kwargs)\n",
    "    \n",
    "    #修改wrapper的签名:\n",
    "    ##获取func的签名\n",
    "    sig = signature(func)\n",
    "    params = list(sig.parameters.values())\n",
    "    ##增加`debug`参数, 替换签名\n",
    "    params.append(Parameter('debug', Parameter.KEYWORD_ONLY, default=False))\n",
    "    wrapper.__signature__ = sig.replace(parameters=params)\n",
    "    return wrapper\n",
    "\n",
    "@optional_debug\n",
    "def a(x):\n",
    "    pass\n",
    "\n",
    "@optional_debug\n",
    "def b(x, y, z):\n",
    "    pass        "
   ]
  },
  {
   "cell_type": "markdown",
   "metadata": {},
   "source": [
    "###### 12. 使用装饰器扩充类的功能"
   ]
  },
  {
   "cell_type": "code",
   "execution_count": null,
   "metadata": {},
   "outputs": [],
   "source": [
    "def log_getattribute(cls):\n",
    "    #获得原始的 __getattribute__\n",
    "    orig_getattribute = cls.__getattribute__\n",
    "    \n",
    "    #实现自己的__getattribute__\n",
    "    def new_attribute(self, name):\n",
    "        print('getting:', name)\n",
    "        return orig_getattribute(self, name)\n",
    "    cls.__getattribute__ = new_attribute\n",
    "    return cls"
   ]
  },
  {
   "cell_type": "markdown",
   "metadata": {},
   "source": [
    "###### 13. 使用元类控制实例的创建"
   ]
  },
  {
   "cell_type": "markdown",
   "metadata": {},
   "source": [
    "实现无实例化的类"
   ]
  },
  {
   "cell_type": "code",
   "execution_count": 28,
   "metadata": {
    "ExecuteTime": {
     "end_time": "2019-07-25T08:06:34.481213Z",
     "start_time": "2019-07-25T08:06:34.479075Z"
    }
   },
   "outputs": [],
   "source": [
    "class NoInstance(type):\n",
    "    def __call__(self, *args, **kwargs):\n",
    "        print('NoNoNo.')\n",
    "        raise TypeError('无法实例化!')"
   ]
  },
  {
   "cell_type": "code",
   "execution_count": 29,
   "metadata": {
    "ExecuteTime": {
     "end_time": "2019-07-25T08:06:34.824602Z",
     "start_time": "2019-07-25T08:06:34.822443Z"
    }
   },
   "outputs": [],
   "source": [
    "class Spam(object, metaclass=NoInstance):\n",
    "    @staticmethod\n",
    "    def gtok(x):\n",
    "        print('汪汪汪!')    \n",
    "    def __call__(self):\n",
    "        print('娃哈哈!')"
   ]
  },
  {
   "cell_type": "code",
   "execution_count": 30,
   "metadata": {
    "ExecuteTime": {
     "end_time": "2019-07-25T08:06:35.162441Z",
     "start_time": "2019-07-25T08:06:35.160363Z"
    }
   },
   "outputs": [
    {
     "name": "stdout",
     "output_type": "stream",
     "text": [
      "NoNoNo.\n",
      "无法实例化!\n"
     ]
    }
   ],
   "source": [
    "try:\n",
    "    Spam()\n",
    "except TypeError as e:\n",
    "    print(e)"
   ]
  },
  {
   "cell_type": "markdown",
   "metadata": {},
   "source": [
    "<center>总结</center>\n",
    "\n",
    "1. type是一个元类。type就是Python在背后用来创建所有类的元类\n",
    "2. Spam 是 type的实例化, 因此 Spam()会调用 type的__call__方法, 如果元类重写了__call__方法, 就会调用元类的__call__方法."
   ]
  },
  {
   "cell_type": "markdown",
   "metadata": {},
   "source": [
    "实现单类"
   ]
  },
  {
   "cell_type": "code",
   "execution_count": 7,
   "metadata": {
    "ExecuteTime": {
     "end_time": "2019-08-15T01:16:17.738492Z",
     "start_time": "2019-08-15T01:16:17.732933Z"
    }
   },
   "outputs": [],
   "source": [
    "class Singleton(type):\n",
    "    def __init__(self, *args, **kwargs):\n",
    "        self.__instance = None\n",
    "        super().__init__(*args, **kwargs)\n",
    "    def __call__(self, *args, **kwargs):\n",
    "        if self.__instance is None:\n",
    "            self.__instance = super().__call__(*args, **kwargs)\n",
    "            return self.__instance\n",
    "        else:\n",
    "            return self.__instance"
   ]
  },
  {
   "cell_type": "code",
   "execution_count": 8,
   "metadata": {
    "ExecuteTime": {
     "end_time": "2019-08-15T01:16:18.577019Z",
     "start_time": "2019-08-15T01:16:18.571804Z"
    }
   },
   "outputs": [
    {
     "name": "stdout",
     "output_type": "stream",
     "text": [
      "<class '__main__.Spam'>\n"
     ]
    }
   ],
   "source": [
    "class Spam(object, metaclass=Singleton):\n",
    "    pass\n",
    "\n",
    "assert Spam() is Spam()"
   ]
  },
  {
   "cell_type": "markdown",
   "metadata": {},
   "source": [
    "###### 14. 捕捉类的启动顺序"
   ]
  },
  {
   "cell_type": "code",
   "execution_count": 20,
   "metadata": {
    "ExecuteTime": {
     "end_time": "2019-08-20T08:49:28.741198Z",
     "start_time": "2019-08-20T08:49:28.735160Z"
    }
   },
   "outputs": [],
   "source": [
    "from collections import OrderedDict\n",
    "\n",
    "\n",
    "class Typed(object):\n",
    "    _excepted_type = type(None)\n",
    "\n",
    "    def __init__(self, name=None):\n",
    "        self._name = name\n",
    "\n",
    "    def __set__(self, instance, value):\n",
    "#         print(self._excepted_type)\n",
    "        if not isinstance(value, self._excepted_type):\n",
    "            raise TypeError('Expected ' + str(self._excepted_type))\n",
    "        instance.__dict__[self._name] = value\n",
    "\n",
    "\n",
    "class Integer(Typed):\n",
    "    _excepted_type = int\n",
    "\n",
    "\n",
    "class Float(Typed):\n",
    "    _excepted_type = float\n",
    "\n",
    "\n",
    "class String(Typed):\n",
    "    _excepted_type = str"
   ]
  },
  {
   "cell_type": "code",
   "execution_count": 21,
   "metadata": {
    "ExecuteTime": {
     "end_time": "2019-08-20T08:49:29.074202Z",
     "start_time": "2019-08-20T08:49:29.056505Z"
    }
   },
   "outputs": [],
   "source": [
    "class OrderedMeta(type):\n",
    "    \"\"\"用元类来捕捉描述符的定义顺序\n",
    "    \"\"\"\n",
    "    @classmethod\n",
    "    def __prepare__(cls, class_name, bases):\n",
    "        \"\"\"__prepare__函数返回一个 OrderDict,\n",
    "        然后所有类属性被加到这个OrderDict中.\n",
    "        \"\"\"\n",
    "        return OrderedDict()\n",
    "    def __new__(cls, class_name, bases, class_dict):\n",
    "        d_ = dict(class_dict)\n",
    "        order = []\n",
    "        # 遍历 class_dict(这是OrderedDict的实例),\n",
    "        # 把 Typed 的描述符加入到按照顺序加入到 order中\n",
    "        # 更新字典(注意不能在 OrderedDict上更新)\n",
    "        for name, value in class_dict.items():\n",
    "            if isinstance(value, Typed):\n",
    "                value._name = name\n",
    "                order.append(name)\n",
    "        d_['_order'] = order\n",
    "        return super().__new__(cls, class_name, bases, d_)\n",
    "\n",
    "class Structure(object, metaclass=OrderedMeta):\n",
    "    def as_csv(self):\n",
    "        return ','.join(str(getattr(self, name))\\\n",
    "                        for name in self._order)"
   ]
  },
  {
   "cell_type": "code",
   "execution_count": 24,
   "metadata": {
    "ExecuteTime": {
     "end_time": "2019-08-20T08:50:06.870349Z",
     "start_time": "2019-08-20T08:50:06.865098Z"
    }
   },
   "outputs": [],
   "source": [
    "class Stock(Structure):\n",
    "    name = String()\n",
    "    price = Float()\n",
    "    shares = Integer()\n",
    "\n",
    "    def __init__(self, name, shares, price):\n",
    "        self.name = name\n",
    "        self.shares = shares\n",
    "        self.price = price"
   ]
  },
  {
   "cell_type": "code",
   "execution_count": 25,
   "metadata": {
    "ExecuteTime": {
     "end_time": "2019-08-20T08:50:07.248456Z",
     "start_time": "2019-08-20T08:50:07.243140Z"
    }
   },
   "outputs": [
    {
     "data": {
      "text/plain": [
       "'zzj,12.3,100'"
      ]
     },
     "execution_count": 25,
     "metadata": {},
     "output_type": "execute_result"
    }
   ],
   "source": [
    "s = Stock('zzj', 100, 12.3)\n",
    "\n",
    "s.as_csv()"
   ]
  },
  {
   "cell_type": "markdown",
   "metadata": {},
   "source": [
    "###### 15. 定义有可选参数的元类"
   ]
  },
  {
   "cell_type": "code",
   "execution_count": 5,
   "metadata": {
    "ExecuteTime": {
     "end_time": "2019-08-22T06:55:04.591245Z",
     "start_time": "2019-08-22T06:55:04.585748Z"
    }
   },
   "outputs": [],
   "source": [
    "# 你想定义一个元类, 允许使用它的类在定义时提供可选参数,\n",
    "# 这样可以控制或者配置类型的创建过程\n",
    "\n",
    "#你需要用强制关键字参数\n",
    "#并且需要同时提供__init__ 和 __new__ 方法, 并且需要提供对应的参数签名\n",
    "class MyMeta(type):\n",
    "\n",
    "    # Optional\n",
    "    @classmethod\n",
    "    def __prepare__(cls, class_name, bases, *,\n",
    "                    debug=False, synchronize=False):\n",
    "        # Do something here.\n",
    "        return super().__prepare__(class_name, bases)\n",
    "\n",
    "    # Required\n",
    "    def __new__(cls, class_name, bases, class_dict, *,\n",
    "                debug=False, synchronize=False):\n",
    "        return super().__new__(cls, class_name, bases, class_dict)\n",
    "\n",
    "    # Required\n",
    "    def __init__(cls, class_name, bases, class_dict, *,\n",
    "                 debug=False, synchronize=False):\n",
    "        super().__init__(class_name, bases, class_dict)"
   ]
  },
  {
   "cell_type": "code",
   "execution_count": 6,
   "metadata": {
    "ExecuteTime": {
     "end_time": "2019-08-22T06:55:05.312691Z",
     "start_time": "2019-08-22T06:55:05.308284Z"
    }
   },
   "outputs": [],
   "source": [
    "# 使用\n",
    "class Spam(metaclass=MyMeta, debug=True, synchronize=False):\n",
    "    pass"
   ]
  },
  {
   "cell_type": "markdown",
   "metadata": {},
   "source": [
    "###### \\*args 和 \\*\\*kwargs 的强制参数签名"
   ]
  },
  {
   "cell_type": "code",
   "execution_count": 10,
   "metadata": {
    "ExecuteTime": {
     "end_time": "2019-08-22T07:13:53.526443Z",
     "start_time": "2019-08-22T07:13:53.520863Z"
    }
   },
   "outputs": [
    {
     "name": "stdout",
     "output_type": "stream",
     "text": [
      "(x, y=42, *, z=None)\n"
     ]
    }
   ],
   "source": [
    "from inspect import Signature, Parameter\n",
    "\n",
    "# Make a signature for a func(x, y=42, *, z=None):\n",
    "params = [Parameter(name='x', \n",
    "                    kind=Parameter.POSITIONAL_OR_KEYWORD),\n",
    "          Parameter(name='y', \n",
    "                    kind=Parameter.POSITIONAL_OR_KEYWORD, \n",
    "                    default=42),\n",
    "          Parameter(name='z', \n",
    "                    kind=Parameter.KEYWORD_ONLY,\n",
    "                    default=None)\n",
    "         ]\n",
    "sig = Signature(parameters=params)\n",
    "\n",
    "print(sig)"
   ]
  },
  {
   "cell_type": "code",
   "execution_count": 11,
   "metadata": {
    "ExecuteTime": {
     "end_time": "2019-08-22T07:18:24.560801Z",
     "start_time": "2019-08-22T07:18:24.555787Z"
    }
   },
   "outputs": [],
   "source": [
    "# 一旦你有了一个签名对象, 你可以使用它的 bind 方法很容易的\n",
    "# 将他绑定到 *args 和 **kwargs 中\n",
    "def func(*args, **kwargs):\n",
    "    bound_values = sig.bind(*args, **kwargs)\n",
    "    for name, value in bound_values.arguments.items():\n",
    "        print(f'{name} : {value}')\n",
    "\n",
    "func(1, 2, z=3)\n",
    "func(y=2, x=1)"
   ]
  },
  {
   "cell_type": "markdown",
   "metadata": {},
   "source": [
    "可以看出来，通过将签名和传递的参数绑定起来，可以强制函数调用遵循特定的规则，比如必填、默认、重复等等。"
   ]
  },
  {
   "cell_type": "code",
   "execution_count": 14,
   "metadata": {
    "ExecuteTime": {
     "end_time": "2019-08-22T07:33:43.088775Z",
     "start_time": "2019-08-22T07:33:43.083105Z"
    }
   },
   "outputs": [],
   "source": [
    "#在看一个更加具体的例子\n",
    "\n",
    "from inspect import Signature, Parameter\n",
    "\n",
    "def make_sig(*names):\n",
    "    params = [Parameter(name=name, kind=Parameter.POSITIONAL_OR_KEYWORD)\\\n",
    "              for name in names]\n",
    "    return Signature(params)\n",
    "\n",
    "\n",
    "class Structure(object):\n",
    "    __signature__ = make_sig()\n",
    "    def __init__(self, *args, **kwargs):\n",
    "        bound_values = self.__signature__.bind(*args, **kwargs)\n",
    "        for name, value in bound_values.arguments.items():\n",
    "            setattr(self, name, value)"
   ]
  },
  {
   "cell_type": "code",
   "execution_count": 15,
   "metadata": {
    "ExecuteTime": {
     "end_time": "2019-08-22T07:35:31.121624Z",
     "start_time": "2019-08-22T07:35:31.117030Z"
    }
   },
   "outputs": [],
   "source": [
    "#Example use\n",
    "class Stock(Structure):\n",
    "    __signature__ = make_sig('name', 'shares', 'price')\n",
    "\n",
    "class Point(Structure):\n",
    "    __signature__ = make_sig('x', 'y')"
   ]
  },
  {
   "cell_type": "code",
   "execution_count": 16,
   "metadata": {
    "ExecuteTime": {
     "end_time": "2019-08-22T07:36:14.315645Z",
     "start_time": "2019-08-22T07:36:14.307562Z"
    }
   },
   "outputs": [
    {
     "name": "stdout",
     "output_type": "stream",
     "text": [
      "(name, shares, price)\n"
     ]
    }
   ],
   "source": [
    "import inspect\n",
    "print(inspect.signature(Stock))"
   ]
  },
  {
   "cell_type": "markdown",
   "metadata": {},
   "source": [
    "在我们需要构建通用函数库、编写装饰器或实现代理的时候，对于 \\*args 和 \\*\\*kwargs 的使用是很普遍的。 但是，这样的函数有一个缺点就是当你想要实现自己的参数检验时，代码就会笨拙混乱。这时候我们可以通过一个签名对象来简化它。"
   ]
  },
  {
   "cell_type": "code",
   "execution_count": 20,
   "metadata": {
    "ExecuteTime": {
     "end_time": "2019-08-22T07:51:36.320395Z",
     "start_time": "2019-08-22T07:51:36.314333Z"
    }
   },
   "outputs": [],
   "source": [
    "# 我们可以把 Structure 中的 __signature__ 挪到元类中构造\n",
    "class StructureMeta(type):\n",
    "    def __new__(cls, class_name, bases, class_dict):\n",
    "        class_dict['__signature__'] = \\\n",
    "            make_sig(*class_dict.get('_fields', []))\n",
    "        return super().__new__(cls, class_name, bases, class_dict)\n",
    "\n",
    "\n",
    "class Structure(object, metaclass=StructureMeta):\n",
    "    _fields = []\n",
    "\n",
    "    def __init__(self, *args, **kwargs):\n",
    "        bound_values = self.__signature__.bind(*args, **kwargs)\n",
    "        for name, value in bound_values.arguments.items():\n",
    "            setattr(self, name, value)\n",
    "\n",
    "\n",
    "class Stock(Structure):\n",
    "    _fields = ['name', 'shares', 'price']"
   ]
  },
  {
   "cell_type": "code",
   "execution_count": 21,
   "metadata": {
    "ExecuteTime": {
     "end_time": "2019-08-22T07:51:36.736982Z",
     "start_time": "2019-08-22T07:51:36.732331Z"
    }
   },
   "outputs": [
    {
     "name": "stdout",
     "output_type": "stream",
     "text": [
      "(name, shares, price)\n"
     ]
    }
   ],
   "source": [
    "import inspect\n",
    "print(inspect.signature(Stock))"
   ]
  },
  {
   "cell_type": "markdown",
   "metadata": {},
   "source": [
    "###### 17. 在类上强制使用编程规约\n",
    "你的程序包含一个很大的类继承体系，你希望强制执行某些编程规约（或者代码诊断）来帮助程序员保持清醒。\n",
    "你可以自定义元类, 并且让它至于你的程序的最顶层。"
   ]
  },
  {
   "cell_type": "code",
   "execution_count": 23,
   "metadata": {
    "ExecuteTime": {
     "end_time": "2019-08-22T08:07:26.381247Z",
     "start_time": "2019-08-22T08:07:26.375565Z"
    }
   },
   "outputs": [],
   "source": [
    "class NoMixedCaseMeta(type):\n",
    "    \"\"\"这个元类控制了属性的命名风格\n",
    "    \"\"\"\n",
    "    def __new__(cls, class_name, bases, class_dict):\n",
    "        for name in class_dict:\n",
    "            if name.lower() != name:\n",
    "                raise TypeError(f'Bad attribute name: {name}')\n",
    "        return super().__new__(cls, class_name, bases, class_dict)\n",
    "\n",
    "class Root(metaclass=NoMixedCaseMeta):\n",
    "    pass\n",
    "\n",
    "class A(Root):\n",
    "    def foo_bar(self):\n",
    "        pass\n",
    "# class B(Root):\n",
    "#     def fooBar(self):\n",
    "#         pass"
   ]
  },
  {
   "cell_type": "code",
   "execution_count": null,
   "metadata": {
    "ExecuteTime": {
     "end_time": "2019-08-22T08:41:58.929062Z",
     "start_time": "2019-08-22T08:41:58.921902Z"
    }
   },
   "outputs": [],
   "source": [
    "#下面的元类用来检测重载方法, 保证子类和父类中他们有相同的签名\n",
    "\n",
    "from inspect import signature\n",
    "import logging\n",
    "\n",
    "\n",
    "class MatchSignaturesMeta(type):\n",
    "    def __new__(cls, class_name, bases, class_dict):\n",
    "        print('Run __new__.')\n",
    "        print(cls)\n",
    "        print(class_name)\n",
    "        print(bases)\n",
    "        print(class_dict)\n",
    "        return super().__new__(cls, class_name, bases, class_dict)\n",
    "\n",
    "    def __init__(cls, class_name, bases, class_dict):\n",
    "        print('Run __init__.')\n",
    "        print(cls)\n",
    "        print(class_name)\n",
    "        print(bases)\n",
    "        print(class_dict)\n",
    "        super().__init__(class_name, bases, class_dict)\n",
    "        #\n",
    "        sup = super(cls, cls)\n",
    "        print(sup)\n",
    "        for name, value in class_dict.items():\n",
    "            if name.startswith('_') or not callable(value):\n",
    "                continue\n",
    "            # Get the previous defination (if any) and\n",
    "            # compare the signatures\n",
    "            previous_func = getattr(sup, name, None)\n",
    "            if previous_func is not None:\n",
    "                previous_sig = signature(previous_func)\n",
    "                current_sig = signature(value)\n",
    "                if previous_sig != current_sig:\n",
    "                    logging.warning(\n",
    "                        f'Signature mismatch in {value.__qualname__}:'\n",
    "                        f'{previous_sig} != {current_sig}')"
   ]
  },
  {
   "cell_type": "markdown",
   "metadata": {},
   "source": [
    "在元类中选择重新定义 \\_\\_new\\_\\_() 方法还是 \\_\\_init\\_\\_() 方法取决于你想怎样使用结果类。 \\_\\_new\\_\\_() 方法在类创建之前被调用，通常用于通过某种方式（比如通过改变类字典的内容）修改类的定义。 而 \\_\\_init\\_\\_() 方法是在类被创建之后被调用，当你需要完整构建类对象的时候会很有用。"
   ]
  },
  {
   "cell_type": "code",
   "execution_count": 33,
   "metadata": {
    "ExecuteTime": {
     "end_time": "2019-08-22T08:41:59.706322Z",
     "start_time": "2019-08-22T08:41:59.701679Z"
    }
   },
   "outputs": [
    {
     "name": "stdout",
     "output_type": "stream",
     "text": [
      "Run __new__.\n",
      "<class '__main__.MatchSignaturesMeta'>\n",
      "Root\n",
      "(<class 'object'>,)\n",
      "{'__module__': '__main__', '__qualname__': 'Root'}\n",
      "Run __init__.\n",
      "<class '__main__.Root'>\n",
      "Root\n",
      "(<class 'object'>,)\n",
      "{'__module__': '__main__', '__qualname__': 'Root'}\n",
      "<super: <class 'Root'>, <Root object>>\n"
     ]
    }
   ],
   "source": [
    "class Root(object, metaclass=MatchSignaturesMeta):\n",
    "    pass"
   ]
  },
  {
   "cell_type": "code",
   "execution_count": 36,
   "metadata": {
    "ExecuteTime": {
     "end_time": "2019-08-22T08:47:48.541217Z",
     "start_time": "2019-08-22T08:47:48.534186Z"
    }
   },
   "outputs": [
    {
     "name": "stderr",
     "output_type": "stream",
     "text": [
      "WARNING:root:Signature mismatch in B.foo:(self, x, y) != (self, a, b)\n",
      "WARNING:root:Signature mismatch in B.spam:(self, x, *, z) != (self, x, z)\n"
     ]
    },
    {
     "name": "stdout",
     "output_type": "stream",
     "text": [
      "Run __new__.\n",
      "<class '__main__.MatchSignaturesMeta'>\n",
      "A\n",
      "(<class '__main__.Root'>,)\n",
      "{'__module__': '__main__', '__qualname__': 'A', 'foo': <function A.foo at 0x7f6146dd0bf8>, 'spam': <function A.spam at 0x7f6146dd0950>}\n",
      "Run __init__.\n",
      "<class '__main__.A'>\n",
      "A\n",
      "(<class '__main__.Root'>,)\n",
      "{'__module__': '__main__', '__qualname__': 'A', 'foo': <function A.foo at 0x7f6146dd0bf8>, 'spam': <function A.spam at 0x7f6146dd0950>}\n",
      "<super: <class 'A'>, <A object>>\n",
      "Run __new__.\n",
      "<class '__main__.MatchSignaturesMeta'>\n",
      "B\n",
      "(<class '__main__.A'>,)\n",
      "{'__module__': '__main__', '__qualname__': 'B', 'foo': <function B.foo at 0x7f6146f2d378>, 'spam': <function B.spam at 0x7f6146f2d400>}\n",
      "Run __init__.\n",
      "<class '__main__.B'>\n",
      "B\n",
      "(<class '__main__.A'>,)\n",
      "{'__module__': '__main__', '__qualname__': 'B', 'foo': <function B.foo at 0x7f6146f2d378>, 'spam': <function B.spam at 0x7f6146f2d400>}\n",
      "<super: <class 'B'>, <B object>>\n"
     ]
    }
   ],
   "source": [
    "class A(Root):\n",
    "    def foo(self, x, y):\n",
    "        pass\n",
    "\n",
    "    def spam(self, x, *, z):\n",
    "        pass\n",
    "\n",
    "# Class with redefined methods, but slightly different signatures\n",
    "class B(A):\n",
    "    def foo(self, a, b):\n",
    "        pass\n",
    "\n",
    "    def spam(self,x,z):\n",
    "        pass"
   ]
  },
  {
   "cell_type": "code",
   "execution_count": null,
   "metadata": {},
   "outputs": [],
   "source": []
  }
 ],
 "metadata": {
  "kernelspec": {
   "display_name": "Python 3",
   "language": "python",
   "name": "python3"
  },
  "language_info": {
   "codemirror_mode": {
    "name": "ipython",
    "version": 3
   },
   "file_extension": ".py",
   "mimetype": "text/x-python",
   "name": "python",
   "nbconvert_exporter": "python",
   "pygments_lexer": "ipython3",
   "version": "3.6.8"
  },
  "toc": {
   "base_numbering": 1,
   "nav_menu": {},
   "number_sections": true,
   "sideBar": true,
   "skip_h1_title": false,
   "title_cell": "Table of Contents",
   "title_sidebar": "Contents",
   "toc_cell": false,
   "toc_position": {},
   "toc_section_display": true,
   "toc_window_display": false
  }
 },
 "nbformat": 4,
 "nbformat_minor": 2
}
