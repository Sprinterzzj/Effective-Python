{
 "cells": [
  {
   "cell_type": "code",
   "execution_count": 1,
   "metadata": {
    "ExecuteTime": {
     "end_time": "2019-09-04T08:35:38.018234Z",
     "start_time": "2019-09-04T08:35:38.012750Z"
    }
   },
   "outputs": [],
   "source": [
    "from LinkedList import Node"
   ]
  },
  {
   "cell_type": "code",
   "execution_count": 2,
   "metadata": {
    "ExecuteTime": {
     "end_time": "2019-09-04T08:35:38.388960Z",
     "start_time": "2019-09-04T08:35:38.384206Z"
    }
   },
   "outputs": [
    {
     "name": "stdout",
     "output_type": "stream",
     "text": [
      "|D0:0|-->NULL\n"
     ]
    }
   ],
   "source": [
    "# Create a single node\n",
    "node = Node(0, None)\n",
    "print(node)"
   ]
  },
  {
   "cell_type": "code",
   "execution_count": 7,
   "metadata": {
    "ExecuteTime": {
     "end_time": "2019-09-04T08:36:43.631460Z",
     "start_time": "2019-09-04T08:36:43.626728Z"
    }
   },
   "outputs": [
    {
     "name": "stdout",
     "output_type": "stream",
     "text": [
      "|D0:0|-->|D1:1|-->|D2:2|-->|D3:3|-->|D4:4|-->|D5:5|-->|D6:6|-->|D7:7|-->|D8:8|-->|D9:9|-->NULL\n"
     ]
    }
   ],
   "source": [
    "# create a linked list\n",
    "head = Node.build(arg_list=list(range(10)))\n",
    "print(head)"
   ]
  },
  {
   "cell_type": "code",
   "execution_count": 8,
   "metadata": {
    "ExecuteTime": {
     "end_time": "2019-09-04T08:37:18.481097Z",
     "start_time": "2019-09-04T08:37:18.476290Z"
    }
   },
   "outputs": [
    {
     "name": "stdout",
     "output_type": "stream",
     "text": [
      "|D0:0|-->|D1:1|-->|D2:2|-->|D3:3|-->|D4:4|-->|D5:5|-->|D6:6|-->|D7:7|-->|D8:8|-->|D9:9|-->NULL\n",
      "|D0:1|-->|D1:2|-->|D2:3|-->|D3:4|-->|D4:5|-->|D5:6|-->|D6:7|-->|D7:8|-->|D8:9|-->NULL\n",
      "|D0:2|-->|D1:3|-->|D2:4|-->|D3:5|-->|D4:6|-->|D5:7|-->|D6:8|-->|D7:9|-->NULL\n",
      "|D0:3|-->|D1:4|-->|D2:5|-->|D3:6|-->|D4:7|-->|D5:8|-->|D6:9|-->NULL\n",
      "|D0:4|-->|D1:5|-->|D2:6|-->|D3:7|-->|D4:8|-->|D5:9|-->NULL\n",
      "|D0:5|-->|D1:6|-->|D2:7|-->|D3:8|-->|D4:9|-->NULL\n",
      "|D0:6|-->|D1:7|-->|D2:8|-->|D3:9|-->NULL\n",
      "|D0:7|-->|D1:8|-->|D2:9|-->NULL\n",
      "|D0:8|-->|D1:9|-->NULL\n",
      "|D0:9|-->NULL\n"
     ]
    }
   ],
   "source": [
    "for nodes in head.traversal():\n",
    "    print(nodes)"
   ]
  },
  {
   "cell_type": "code",
   "execution_count": 13,
   "metadata": {
    "ExecuteTime": {
     "end_time": "2019-09-04T08:40:45.668733Z",
     "start_time": "2019-09-04T08:40:45.663533Z"
    }
   },
   "outputs": [
    {
     "name": "stdout",
     "output_type": "stream",
     "text": [
      "|D0:0|-->|D1:1|-->|D2:2|-->|D3:3|-->|D4:4|-->|D5:5|-->|D6:6|-->|D7:7|-->|D8:8|-->|D9:9|-->NULL\n",
      "|D0:1|-->|D1:2|-->|D2:3|-->|D3:4|-->|D4:5|-->|D5:6|-->|D6:7|-->|D7:8|-->|D8:9|-->NULL\n",
      "|D0:2|-->|D1:3|-->|D2:4|-->|D3:5|-->|D4:6|-->|D5:7|-->|D6:8|-->|D7:9|-->NULL\n",
      "|D0:3|-->|D1:4|-->|D2:5|-->|D3:6|-->|D4:7|-->|D5:8|-->|D6:9|-->NULL\n",
      "|D0:4|-->|D1:5|-->|D2:6|-->|D3:7|-->|D4:8|-->|D5:9|-->NULL\n",
      "|D0:5|-->|D1:6|-->|D2:7|-->|D3:8|-->|D4:9|-->NULL\n",
      "|D0:6|-->|D1:7|-->|D2:8|-->|D3:9|-->NULL\n",
      "|D0:7|-->|D1:8|-->|D2:9|-->NULL\n",
      "|D0:8|-->|D1:9|-->NULL\n",
      "|D0:9|-->NULL\n"
     ]
    }
   ],
   "source": [
    "for i, _ in enumerate(head.traversal()):\n",
    "    print(head[i])"
   ]
  },
  {
   "cell_type": "code",
   "execution_count": 15,
   "metadata": {
    "ExecuteTime": {
     "end_time": "2019-09-04T08:45:14.060138Z",
     "start_time": "2019-09-04T08:45:14.052770Z"
    }
   },
   "outputs": [
    {
     "ename": "AttributeError",
     "evalue": "'int' object has no attribute 'next'",
     "output_type": "error",
     "traceback": [
      "\u001b[0;31m---------------------------------------------------------------------------\u001b[0m",
      "\u001b[0;31mAttributeError\u001b[0m                            Traceback (most recent call last)",
      "\u001b[0;32m<ipython-input-15-33d265a3f416>\u001b[0m in \u001b[0;36m<module>\u001b[0;34m\u001b[0m\n\u001b[1;32m      1\u001b[0m \u001b[0mnewNode\u001b[0m \u001b[0;34m=\u001b[0m \u001b[0mNode\u001b[0m\u001b[0;34m(\u001b[0m\u001b[0;34m-\u001b[0m\u001b[0;36m1\u001b[0m\u001b[0;34m,\u001b[0m \u001b[0;32mNone\u001b[0m\u001b[0;34m)\u001b[0m\u001b[0;34m\u001b[0m\u001b[0;34m\u001b[0m\u001b[0m\n\u001b[0;32m----> 2\u001b[0;31m \u001b[0mhead\u001b[0m\u001b[0;34m.\u001b[0m\u001b[0minsertNode\u001b[0m\u001b[0;34m(\u001b[0m\u001b[0;36m0\u001b[0m\u001b[0;34m,\u001b[0m \u001b[0mnewNode\u001b[0m\u001b[0;34m)\u001b[0m\u001b[0;34m\u001b[0m\u001b[0;34m\u001b[0m\u001b[0m\n\u001b[0m",
      "\u001b[0;32m~/MyProject/Effective-Python/Python-DataStructures/LinkedList.py\u001b[0m in \u001b[0;36minsertNode\u001b[0;34m(self, before, newNode)\u001b[0m\n\u001b[1;32m     33\u001b[0m \u001b[0;34m\u001b[0m\u001b[0m\n\u001b[1;32m     34\u001b[0m     \u001b[0;32mdef\u001b[0m \u001b[0minsertNode\u001b[0m\u001b[0;34m(\u001b[0m\u001b[0mself\u001b[0m\u001b[0;34m,\u001b[0m \u001b[0mbefore\u001b[0m\u001b[0;34m,\u001b[0m \u001b[0mnewNode\u001b[0m\u001b[0;34m)\u001b[0m\u001b[0;34m:\u001b[0m\u001b[0;34m\u001b[0m\u001b[0;34m\u001b[0m\u001b[0m\n\u001b[0;32m---> 35\u001b[0;31m         \u001b[0mnewNode\u001b[0m\u001b[0;34m.\u001b[0m\u001b[0mnext\u001b[0m \u001b[0;34m=\u001b[0m \u001b[0mbefore\u001b[0m\u001b[0;34m.\u001b[0m\u001b[0mnext\u001b[0m\u001b[0;34m\u001b[0m\u001b[0;34m\u001b[0m\u001b[0m\n\u001b[0m\u001b[1;32m     36\u001b[0m         \u001b[0mbefore\u001b[0m\u001b[0;34m.\u001b[0m\u001b[0mnext\u001b[0m \u001b[0;34m=\u001b[0m \u001b[0mnewNode\u001b[0m\u001b[0;34m\u001b[0m\u001b[0;34m\u001b[0m\u001b[0m\n\u001b[1;32m     37\u001b[0m \u001b[0;34m\u001b[0m\u001b[0m\n",
      "\u001b[0;31mAttributeError\u001b[0m: 'int' object has no attribute 'next'"
     ]
    }
   ],
   "source": [
    "newNode = Node(-1, None)\n",
    "head.insertNode(0, newNode)"
   ]
  },
  {
   "cell_type": "code",
   "execution_count": null,
   "metadata": {},
   "outputs": [],
   "source": []
  }
 ],
 "metadata": {
  "kernelspec": {
   "display_name": "Python 3",
   "language": "python",
   "name": "python3"
  },
  "language_info": {
   "codemirror_mode": {
    "name": "ipython",
    "version": 3
   },
   "file_extension": ".py",
   "mimetype": "text/x-python",
   "name": "python",
   "nbconvert_exporter": "python",
   "pygments_lexer": "ipython3",
   "version": "3.6.8"
  },
  "toc": {
   "base_numbering": 1,
   "nav_menu": {},
   "number_sections": true,
   "sideBar": true,
   "skip_h1_title": false,
   "title_cell": "Table of Contents",
   "title_sidebar": "Contents",
   "toc_cell": false,
   "toc_position": {},
   "toc_section_display": true,
   "toc_window_display": false
  }
 },
 "nbformat": 4,
 "nbformat_minor": 2
}
