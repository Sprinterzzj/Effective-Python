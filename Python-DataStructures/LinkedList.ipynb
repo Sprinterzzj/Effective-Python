{
 "cells": [
  {
   "cell_type": "code",
   "execution_count": 49,
   "metadata": {
    "ExecuteTime": {
     "end_time": "2019-09-05T02:03:36.032177Z",
     "start_time": "2019-09-05T02:03:36.024243Z"
    }
   },
   "outputs": [
    {
     "name": "stdout",
     "output_type": "stream",
     "text": [
      "The autoreload extension is already loaded. To reload it, use:\n",
      "  %reload_ext autoreload\n"
     ]
    }
   ],
   "source": [
    "%load_ext autoreload\n",
    "%autoreload 2"
   ]
  },
  {
   "cell_type": "code",
   "execution_count": 59,
   "metadata": {
    "ExecuteTime": {
     "end_time": "2019-09-05T02:05:18.152092Z",
     "start_time": "2019-09-05T02:05:18.137448Z"
    }
   },
   "outputs": [],
   "source": [
    "from LinkedList import Node"
   ]
  },
  {
   "cell_type": "code",
   "execution_count": 60,
   "metadata": {
    "ExecuteTime": {
     "end_time": "2019-09-05T02:05:18.589533Z",
     "start_time": "2019-09-05T02:05:18.578323Z"
    }
   },
   "outputs": [
    {
     "name": "stdout",
     "output_type": "stream",
     "text": [
      "|D0:0|-->NULL\n"
     ]
    }
   ],
   "source": [
    "# 构造单个节点\n",
    "node = Node(0, None)\n",
    "print(node)"
   ]
  },
  {
   "cell_type": "code",
   "execution_count": 61,
   "metadata": {
    "ExecuteTime": {
     "end_time": "2019-09-05T02:05:18.994978Z",
     "start_time": "2019-09-05T02:05:18.983498Z"
    }
   },
   "outputs": [
    {
     "name": "stdout",
     "output_type": "stream",
     "text": [
      "|D0:1|-->|D1:2|-->|D2:3|-->|D3:4|-->|D4:5|-->NULL\n"
     ]
    }
   ],
   "source": [
    "# 构造链表\n",
    "head = Node.build(data_list=[1,2,3,4,5])\n",
    "print(head)"
   ]
  },
  {
   "cell_type": "code",
   "execution_count": 62,
   "metadata": {
    "ExecuteTime": {
     "end_time": "2019-09-05T02:05:19.319238Z",
     "start_time": "2019-09-05T02:05:19.295863Z"
    }
   },
   "outputs": [
    {
     "name": "stdout",
     "output_type": "stream",
     "text": [
      "|D0:1|-->|D1:2|-->|D2:3|-->|D3:4|-->|D4:5|-->NULL\n",
      "|D0:2|-->|D1:3|-->|D2:4|-->|D3:5|-->NULL\n",
      "|D0:3|-->|D1:4|-->|D2:5|-->NULL\n",
      "|D0:4|-->|D1:5|-->NULL\n",
      "|D0:5|-->NULL\n"
     ]
    }
   ],
   "source": [
    "# 遍历链表\n",
    "for nodes in head.traversal():\n",
    "    print(nodes)"
   ]
  },
  {
   "cell_type": "code",
   "execution_count": 63,
   "metadata": {
    "ExecuteTime": {
     "end_time": "2019-09-05T02:05:19.718675Z",
     "start_time": "2019-09-05T02:05:19.707131Z"
    }
   },
   "outputs": [
    {
     "name": "stdout",
     "output_type": "stream",
     "text": [
      "|D0:1|-->|D1:2|-->|D2:3|-->|D3:4|-->|D4:5|-->NULL\n",
      "|D0:2|-->|D1:3|-->|D2:4|-->|D3:5|-->NULL\n",
      "|D0:3|-->|D1:4|-->|D2:5|-->NULL\n",
      "|D0:4|-->|D1:5|-->NULL\n",
      "|D0:5|-->NULL\n"
     ]
    }
   ],
   "source": [
    "# getitem\n",
    "for i, _ in enumerate(head.traversal()):\n",
    "    print(head[i])"
   ]
  },
  {
   "cell_type": "code",
   "execution_count": 64,
   "metadata": {
    "ExecuteTime": {
     "end_time": "2019-09-05T02:05:20.501374Z",
     "start_time": "2019-09-05T02:05:20.489867Z"
    }
   },
   "outputs": [],
   "source": [
    "# setitem\n",
    "newNode0 = Node(-1, None)\n",
    "newNode3 = Node(-1, None)\n",
    "newNode5 = Node(-1, None)"
   ]
  },
  {
   "cell_type": "code",
   "execution_count": 65,
   "metadata": {
    "ExecuteTime": {
     "end_time": "2019-09-05T02:05:21.245937Z",
     "start_time": "2019-09-05T02:05:21.234318Z"
    }
   },
   "outputs": [
    {
     "name": "stdout",
     "output_type": "stream",
     "text": [
      "|D0:1|-->NULL\n",
      "|D0:-1|-->|D1:2|-->|D2:3|-->|D3:4|-->|D4:5|-->NULL\n"
     ]
    }
   ],
   "source": [
    "head[0] = newNode0\n",
    "print(head)\n",
    "print(newNode0)"
   ]
  },
  {
   "cell_type": "code",
   "execution_count": 66,
   "metadata": {
    "ExecuteTime": {
     "end_time": "2019-09-05T02:05:21.898138Z",
     "start_time": "2019-09-05T02:05:21.890721Z"
    }
   },
   "outputs": [
    {
     "name": "stdout",
     "output_type": "stream",
     "text": [
      "|D0:-1|-->|D1:2|-->|D2:3|-->|D3:-1|-->|D4:5|-->NULL\n"
     ]
    }
   ],
   "source": [
    "# 替换第四个节点\n",
    "head = newNode0\n",
    "head[3] = newNode3\n",
    "print(head)"
   ]
  },
  {
   "cell_type": "code",
   "execution_count": 67,
   "metadata": {
    "ExecuteTime": {
     "end_time": "2019-09-05T02:05:23.342343Z",
     "start_time": "2019-09-05T02:05:23.330512Z"
    }
   },
   "outputs": [
    {
     "name": "stdout",
     "output_type": "stream",
     "text": [
      "|D0:-1|-->|D1:2|-->|D2:3|-->|D3:-1|-->|D4:5|-->|D5:-1|-->NULL\n"
     ]
    }
   ],
   "source": [
    "# 插入到末尾\n",
    "head[5] = newNode5\n",
    "print(head)"
   ]
  },
  {
   "cell_type": "code",
   "execution_count": 70,
   "metadata": {
    "ExecuteTime": {
     "end_time": "2019-09-05T02:05:59.177713Z",
     "start_time": "2019-09-05T02:05:59.164580Z"
    }
   },
   "outputs": [
    {
     "name": "stdout",
     "output_type": "stream",
     "text": [
      "|D0:1|-->|D1:2|-->|D2:3|-->|D3:4|-->|D4:5|-->NULL\n",
      "|D0:1|-->NULL\n",
      "|D0:2|-->|D1:3|-->|D2:4|-->|D3:5|-->NULL\n"
     ]
    }
   ],
   "source": [
    "# 删除头部节点\n",
    "head = Node.build(data_list=[1,2,3,4,5])\n",
    "print(head)\n",
    "newHead = head.delete(0)\n",
    "print(head)\n",
    "print(newHead)"
   ]
  },
  {
   "cell_type": "code",
   "execution_count": 71,
   "metadata": {
    "ExecuteTime": {
     "end_time": "2019-09-05T02:07:31.234619Z",
     "start_time": "2019-09-05T02:07:31.226550Z"
    }
   },
   "outputs": [
    {
     "name": "stdout",
     "output_type": "stream",
     "text": [
      "|D0:1|-->|D1:2|-->|D2:3|-->|D3:4|-->|D4:5|-->NULL\n",
      "|D0:1|-->|D1:2|-->|D2:3|-->|D3:4|-->NULL\n",
      "|D0:1|-->|D1:2|-->|D2:3|-->|D3:4|-->NULL\n"
     ]
    }
   ],
   "source": [
    "# 删除尾部节点\n",
    "head = Node.build(data_list=[1,2,3,4,5])\n",
    "print(head)\n",
    "newHead = head.delete(4)\n",
    "print(head)\n",
    "print(newHead)"
   ]
  },
  {
   "cell_type": "code",
   "execution_count": 72,
   "metadata": {
    "ExecuteTime": {
     "end_time": "2019-09-05T02:07:56.074512Z",
     "start_time": "2019-09-05T02:07:56.066883Z"
    }
   },
   "outputs": [
    {
     "name": "stdout",
     "output_type": "stream",
     "text": [
      "|D0:1|-->|D1:2|-->|D2:3|-->|D3:4|-->|D4:5|-->NULL\n",
      "|D0:1|-->|D1:2|-->|D2:3|-->|D3:5|-->NULL\n",
      "|D0:1|-->|D1:2|-->|D2:3|-->|D3:5|-->NULL\n"
     ]
    }
   ],
   "source": [
    "# 删除中间节点\n",
    "head = Node.build(data_list=[1,2,3,4,5])\n",
    "print(head)\n",
    "newHead = head.delete(3)\n",
    "print(head)\n",
    "print(newHead)"
   ]
  },
  {
   "cell_type": "code",
   "execution_count": 73,
   "metadata": {
    "ExecuteTime": {
     "end_time": "2019-09-05T02:11:31.008812Z",
     "start_time": "2019-09-05T02:11:31.000465Z"
    }
   },
   "outputs": [
    {
     "name": "stdout",
     "output_type": "stream",
     "text": [
      "|D0:1|-->|D1:2|-->|D2:3|-->|D3:4|-->|D4:5|-->NULL\n",
      "|D0:1|-->|D1:2|-->|D2:3|-->|D3:4|-->|D4:5|-->NULL\n",
      "|D0:-1|-->|D1:1|-->|D2:2|-->|D3:3|-->|D4:4|-->|D5:5|-->NULL\n"
     ]
    }
   ],
   "source": [
    "# 插入头部节点\n",
    "head = Node.build(data_list=[1,2,3,4,5])\n",
    "print(head)\n",
    "newHead = head.insert(0, Node(-1, None))\n",
    "print(head)\n",
    "print(newHead)"
   ]
  },
  {
   "cell_type": "code",
   "execution_count": 74,
   "metadata": {
    "ExecuteTime": {
     "end_time": "2019-09-05T02:12:01.523627Z",
     "start_time": "2019-09-05T02:12:01.515365Z"
    }
   },
   "outputs": [
    {
     "name": "stdout",
     "output_type": "stream",
     "text": [
      "|D0:1|-->|D1:2|-->|D2:3|-->|D3:4|-->|D4:5|-->NULL\n",
      "|D0:1|-->|D1:2|-->|D2:3|-->|D3:4|-->|D4:-1|-->|D5:5|-->NULL\n",
      "|D0:1|-->|D1:2|-->|D2:3|-->|D3:4|-->|D4:-1|-->|D5:5|-->NULL\n"
     ]
    }
   ],
   "source": [
    "# 插入中间节点\n",
    "head = Node.build(data_list=[1,2,3,4,5])\n",
    "print(head)\n",
    "newHead = head.insert(4, Node(-1, None))\n",
    "print(head)\n",
    "print(newHead)"
   ]
  },
  {
   "cell_type": "code",
   "execution_count": 75,
   "metadata": {
    "ExecuteTime": {
     "end_time": "2019-09-05T02:12:24.844258Z",
     "start_time": "2019-09-05T02:12:24.836303Z"
    }
   },
   "outputs": [
    {
     "name": "stdout",
     "output_type": "stream",
     "text": [
      "|D0:1|-->|D1:2|-->|D2:3|-->|D3:4|-->|D4:5|-->NULL\n",
      "|D0:1|-->|D1:2|-->|D2:3|-->|D3:4|-->|D4:5|-->|D5:-1|-->NULL\n",
      "|D0:1|-->|D1:2|-->|D2:3|-->|D3:4|-->|D4:5|-->|D5:-1|-->NULL\n"
     ]
    }
   ],
   "source": [
    "# 插入尾部节点\n",
    "head = Node.build(data_list=[1,2,3,4,5])\n",
    "print(head)\n",
    "newHead = head.insert(5, Node(-1, None))\n",
    "print(head)\n",
    "print(newHead)"
   ]
  },
  {
   "cell_type": "code",
   "execution_count": null,
   "metadata": {},
   "outputs": [],
   "source": []
  }
 ],
 "metadata": {
  "kernelspec": {
   "display_name": "Python 3",
   "language": "python",
   "name": "python3"
  },
  "language_info": {
   "codemirror_mode": {
    "name": "ipython",
    "version": 3
   },
   "file_extension": ".py",
   "mimetype": "text/x-python",
   "name": "python",
   "nbconvert_exporter": "python",
   "pygments_lexer": "ipython3",
   "version": "3.6.8"
  },
  "toc": {
   "base_numbering": 1,
   "nav_menu": {},
   "number_sections": true,
   "sideBar": true,
   "skip_h1_title": false,
   "title_cell": "Table of Contents",
   "title_sidebar": "Contents",
   "toc_cell": false,
   "toc_position": {},
   "toc_section_display": true,
   "toc_window_display": false
  }
 },
 "nbformat": 4,
 "nbformat_minor": 2
}
