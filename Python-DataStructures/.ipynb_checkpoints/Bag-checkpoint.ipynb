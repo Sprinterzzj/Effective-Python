{
 "cells": [
  {
   "cell_type": "markdown",
   "metadata": {
    "toc": true
   },
   "source": [
    "<h1>Table of Contents<span class=\"tocSkip\"></span></h1>\n",
    "<div class=\"toc\"><ul class=\"toc-item\"></ul></div>"
   ]
  },
  {
   "cell_type": "code",
   "execution_count": 145,
   "metadata": {
    "ExecuteTime": {
     "end_time": "2019-09-06T06:48:19.231389Z",
     "start_time": "2019-09-06T06:48:19.208953Z"
    }
   },
   "outputs": [
    {
     "name": "stdout",
     "output_type": "stream",
     "text": [
      "The autoreload extension is already loaded. To reload it, use:\n",
      "  %reload_ext autoreload\n"
     ]
    },
    {
     "name": "stderr",
     "output_type": "stream",
     "text": [
      "[autoreload of Bag failed: Traceback (most recent call last):\n",
      "  File \"/Users/zhangzijie/miniconda3/envs/zzj/lib/python3.6/site-packages/IPython/extensions/autoreload.py\", line 244, in check\n",
      "    superreload(m, reload, self.old_objects)\n",
      "  File \"/Users/zhangzijie/miniconda3/envs/zzj/lib/python3.6/site-packages/IPython/extensions/autoreload.py\", line 394, in superreload\n",
      "    update_generic(old_obj, new_obj)\n",
      "  File \"/Users/zhangzijie/miniconda3/envs/zzj/lib/python3.6/site-packages/IPython/extensions/autoreload.py\", line 331, in update_generic\n",
      "    update(a, b)\n",
      "  File \"/Users/zhangzijie/miniconda3/envs/zzj/lib/python3.6/site-packages/IPython/extensions/autoreload.py\", line 289, in update_class\n",
      "    if update_generic(old_obj, new_obj): continue\n",
      "  File \"/Users/zhangzijie/miniconda3/envs/zzj/lib/python3.6/site-packages/IPython/extensions/autoreload.py\", line 331, in update_generic\n",
      "    update(a, b)\n",
      "  File \"/Users/zhangzijie/miniconda3/envs/zzj/lib/python3.6/site-packages/IPython/extensions/autoreload.py\", line 265, in update_function\n",
      "    setattr(old, name, getattr(new, name))\n",
      "ValueError: __init__() requires a code object with 0 free vars, not 1\n",
      "]\n"
     ]
    }
   ],
   "source": [
    "%load_ext autoreload\n",
    "%autoreload 2"
   ]
  },
  {
   "cell_type": "code",
   "execution_count": 146,
   "metadata": {
    "ExecuteTime": {
     "end_time": "2019-09-06T06:48:22.122775Z",
     "start_time": "2019-09-06T06:48:22.109543Z"
    }
   },
   "outputs": [],
   "source": [
    "from Bag import ArrayBag"
   ]
  },
  {
   "cell_type": "code",
   "execution_count": 147,
   "metadata": {
    "ExecuteTime": {
     "end_time": "2019-09-06T06:48:22.990105Z",
     "start_time": "2019-09-06T06:48:22.978144Z"
    }
   },
   "outputs": [],
   "source": [
    "arraybag = ArrayBag(sourceCollection=[1,2,3,4,5])"
   ]
  },
  {
   "cell_type": "code",
   "execution_count": 148,
   "metadata": {
    "ExecuteTime": {
     "end_time": "2019-09-06T06:48:23.657304Z",
     "start_time": "2019-09-06T06:48:23.642250Z"
    }
   },
   "outputs": [
    {
     "data": {
      "text/plain": [
       "False"
      ]
     },
     "execution_count": 148,
     "metadata": {},
     "output_type": "execute_result"
    }
   ],
   "source": [
    "6 in arraybag"
   ]
  },
  {
   "cell_type": "code",
   "execution_count": 22,
   "metadata": {
    "ExecuteTime": {
     "end_time": "2019-09-06T02:28:56.520369Z",
     "start_time": "2019-09-06T02:28:56.506277Z"
    }
   },
   "outputs": [
    {
     "name": "stdout",
     "output_type": "stream",
     "text": [
      "Calling __iter__.\n",
      "{1,2,3,4,5}\n"
     ]
    }
   ],
   "source": [
    "print(arraybag)"
   ]
  },
  {
   "cell_type": "code",
   "execution_count": 23,
   "metadata": {
    "ExecuteTime": {
     "end_time": "2019-09-06T02:28:56.862066Z",
     "start_time": "2019-09-06T02:28:56.847976Z"
    }
   },
   "outputs": [
    {
     "name": "stdout",
     "output_type": "stream",
     "text": [
      "5\n"
     ]
    }
   ],
   "source": [
    "print(len(arraybag))"
   ]
  },
  {
   "cell_type": "code",
   "execution_count": 24,
   "metadata": {
    "ExecuteTime": {
     "end_time": "2019-09-06T02:28:57.223519Z",
     "start_time": "2019-09-06T02:28:57.209193Z"
    }
   },
   "outputs": [
    {
     "name": "stdout",
     "output_type": "stream",
     "text": [
      "Calling __iter__.\n",
      "1\n",
      "2\n",
      "3\n",
      "4\n",
      "5\n"
     ]
    }
   ],
   "source": [
    "for i in arraybag:\n",
    "    print(i)"
   ]
  },
  {
   "cell_type": "code",
   "execution_count": 25,
   "metadata": {
    "ExecuteTime": {
     "end_time": "2019-09-06T02:28:57.940043Z",
     "start_time": "2019-09-06T02:28:57.924765Z"
    }
   },
   "outputs": [
    {
     "data": {
      "text/plain": [
       "True"
      ]
     },
     "execution_count": 25,
     "metadata": {},
     "output_type": "execute_result"
    }
   ],
   "source": [
    "5 in arraybag"
   ]
  },
  {
   "cell_type": "code",
   "execution_count": 26,
   "metadata": {
    "ExecuteTime": {
     "end_time": "2019-09-06T02:28:58.420196Z",
     "start_time": "2019-09-06T02:28:58.404699Z"
    }
   },
   "outputs": [
    {
     "data": {
      "text/plain": [
       "False"
      ]
     },
     "execution_count": 26,
     "metadata": {},
     "output_type": "execute_result"
    }
   ],
   "source": [
    "6 in arraybag"
   ]
  },
  {
   "cell_type": "code",
   "execution_count": 27,
   "metadata": {
    "ExecuteTime": {
     "end_time": "2019-09-06T02:29:04.657882Z",
     "start_time": "2019-09-06T02:29:04.642278Z"
    }
   },
   "outputs": [
    {
     "name": "stdout",
     "output_type": "stream",
     "text": [
      "Calling __iter__.\n"
     ]
    }
   ],
   "source": [
    "arraybag = arraybag + [1,2,3]"
   ]
  },
  {
   "cell_type": "code",
   "execution_count": 28,
   "metadata": {
    "ExecuteTime": {
     "end_time": "2019-09-06T02:29:12.650292Z",
     "start_time": "2019-09-06T02:29:12.636883Z"
    }
   },
   "outputs": [
    {
     "name": "stdout",
     "output_type": "stream",
     "text": [
      "Calling __iter__.\n",
      "{1,2,3,4,5,1,2,3}\n"
     ]
    }
   ],
   "source": [
    "print(arraybag)"
   ]
  },
  {
   "cell_type": "code",
   "execution_count": 29,
   "metadata": {
    "ExecuteTime": {
     "end_time": "2019-09-06T02:29:49.695308Z",
     "start_time": "2019-09-06T02:29:49.680021Z"
    }
   },
   "outputs": [
    {
     "name": "stdout",
     "output_type": "stream",
     "text": [
      "Calling __iter__.\n"
     ]
    },
    {
     "data": {
      "text/plain": [
       "True"
      ]
     },
     "execution_count": 29,
     "metadata": {},
     "output_type": "execute_result"
    }
   ],
   "source": [
    "arraybag == ArrayBag([1,2,3,4,5,1,2,3])"
   ]
  },
  {
   "cell_type": "code",
   "execution_count": 30,
   "metadata": {
    "ExecuteTime": {
     "end_time": "2019-09-06T02:31:04.101150Z",
     "start_time": "2019-09-06T02:31:04.087637Z"
    }
   },
   "outputs": [
    {
     "name": "stdout",
     "output_type": "stream",
     "text": [
      "Calling __iter__.\n",
      "{}\n"
     ]
    }
   ],
   "source": [
    "arraybag.clear()\n",
    "print(arraybag)"
   ]
  },
  {
   "cell_type": "code",
   "execution_count": 31,
   "metadata": {
    "ExecuteTime": {
     "end_time": "2019-09-06T02:32:14.760751Z",
     "start_time": "2019-09-06T02:32:14.747414Z"
    }
   },
   "outputs": [
    {
     "name": "stdout",
     "output_type": "stream",
     "text": [
      "Calling __iter__.\n"
     ]
    }
   ],
   "source": [
    "arraybag = arraybag + list(range(0, 40))"
   ]
  },
  {
   "cell_type": "code",
   "execution_count": 32,
   "metadata": {
    "ExecuteTime": {
     "end_time": "2019-09-06T02:32:23.418023Z",
     "start_time": "2019-09-06T02:32:23.403486Z"
    }
   },
   "outputs": [
    {
     "data": {
      "text/plain": [
       "40"
      ]
     },
     "execution_count": 32,
     "metadata": {},
     "output_type": "execute_result"
    }
   ],
   "source": [
    "len(arraybag)"
   ]
  },
  {
   "cell_type": "code",
   "execution_count": 33,
   "metadata": {
    "ExecuteTime": {
     "end_time": "2019-09-06T02:32:28.201982Z",
     "start_time": "2019-09-06T02:32:28.188014Z"
    }
   },
   "outputs": [
    {
     "name": "stdout",
     "output_type": "stream",
     "text": [
      "Calling __iter__.\n",
      "{0,1,2,3,4,5,6,7,8,9,10,11,12,13,14,15,16,17,18,19,20,21,22,23,24,25,26,27,28,29,30,31,32,33,34,35,36,37,38,39}\n"
     ]
    }
   ],
   "source": [
    "print(arraybag)"
   ]
  },
  {
   "cell_type": "code",
   "execution_count": 34,
   "metadata": {
    "ExecuteTime": {
     "end_time": "2019-09-06T02:32:47.081185Z",
     "start_time": "2019-09-06T02:32:47.067159Z"
    }
   },
   "outputs": [
    {
     "name": "stdout",
     "output_type": "stream",
     "text": [
      "Calling __iter__.\n",
      "Calling __iter__.\n",
      "{0,1,2,3,4,5,6,7,8,9,10,11,12,13,14,15,16,17,18,19,20,21,22,23,24,25,26,27,28,29,30,31,32,33,34,35,36,37,38}\n"
     ]
    }
   ],
   "source": [
    "arraybag.remove(39)\n",
    "print(arraybag)"
   ]
  },
  {
   "cell_type": "code",
   "execution_count": 35,
   "metadata": {
    "ExecuteTime": {
     "end_time": "2019-09-06T02:32:56.392475Z",
     "start_time": "2019-09-06T02:32:56.379486Z"
    }
   },
   "outputs": [
    {
     "name": "stdout",
     "output_type": "stream",
     "text": [
      "Calling __iter__.\n",
      "Calling __iter__.\n",
      "{0,1,2,3,4,5,6,7,8,9,10,11,12,13,14,16,17,18,19,20,21,22,23,24,25,26,27,28,29,30,31,32,33,34,35,36,37,38}\n"
     ]
    }
   ],
   "source": [
    "arraybag.remove(15)\n",
    "print(arraybag)"
   ]
  },
  {
   "cell_type": "code",
   "execution_count": null,
   "metadata": {},
   "outputs": [],
   "source": []
  },
  {
   "cell_type": "code",
   "execution_count": 114,
   "metadata": {
    "ExecuteTime": {
     "end_time": "2019-09-06T04:54:05.506808Z",
     "start_time": "2019-09-06T04:54:05.475835Z"
    }
   },
   "outputs": [],
   "source": [
    "from Bag import LinkedBag"
   ]
  },
  {
   "cell_type": "code",
   "execution_count": 115,
   "metadata": {
    "ExecuteTime": {
     "end_time": "2019-09-06T04:54:05.904148Z",
     "start_time": "2019-09-06T04:54:05.890492Z"
    }
   },
   "outputs": [],
   "source": [
    "linkedbag = LinkedBag([1,2,3,4,5])"
   ]
  },
  {
   "cell_type": "code",
   "execution_count": 116,
   "metadata": {
    "ExecuteTime": {
     "end_time": "2019-09-06T04:54:15.494940Z",
     "start_time": "2019-09-06T04:54:15.478959Z"
    }
   },
   "outputs": [
    {
     "name": "stdout",
     "output_type": "stream",
     "text": [
      "|D0:5|-->|D1:4|-->|D2:3|-->|D3:2|-->|D4:1|-->NULL\n",
      "5\n"
     ]
    }
   ],
   "source": [
    "print(linkedbag)\n",
    "print(len(linkedbag))"
   ]
  },
  {
   "cell_type": "code",
   "execution_count": 117,
   "metadata": {
    "ExecuteTime": {
     "end_time": "2019-09-06T04:54:19.385577Z",
     "start_time": "2019-09-06T04:54:19.370963Z"
    }
   },
   "outputs": [],
   "source": [
    "linkedbag.add(3)"
   ]
  },
  {
   "cell_type": "code",
   "execution_count": 119,
   "metadata": {
    "ExecuteTime": {
     "end_time": "2019-09-06T04:56:03.942881Z",
     "start_time": "2019-09-06T04:56:03.928692Z"
    }
   },
   "outputs": [
    {
     "name": "stdout",
     "output_type": "stream",
     "text": [
      "|D0:3|-->|D1:5|-->|D2:4|-->|D3:3|-->|D4:2|-->|D5:1|-->NULL\n",
      "6\n"
     ]
    }
   ],
   "source": [
    "print(linkedbag)\n",
    "print(len(linkedbag))"
   ]
  },
  {
   "cell_type": "code",
   "execution_count": 120,
   "metadata": {
    "ExecuteTime": {
     "end_time": "2019-09-06T04:56:11.051063Z",
     "start_time": "2019-09-06T04:56:11.036860Z"
    }
   },
   "outputs": [],
   "source": [
    "linkedbag.remove(3)"
   ]
  },
  {
   "cell_type": "code",
   "execution_count": 121,
   "metadata": {
    "ExecuteTime": {
     "end_time": "2019-09-06T05:01:56.533160Z",
     "start_time": "2019-09-06T05:01:56.512632Z"
    }
   },
   "outputs": [
    {
     "name": "stdout",
     "output_type": "stream",
     "text": [
      "|D0:5|-->|D1:4|-->|D2:3|-->|D3:2|-->|D4:1|-->NULL\n",
      "5\n"
     ]
    }
   ],
   "source": [
    "print(linkedbag)\n",
    "print(len(linkedbag))"
   ]
  },
  {
   "cell_type": "code",
   "execution_count": 122,
   "metadata": {
    "ExecuteTime": {
     "end_time": "2019-09-06T05:01:59.552872Z",
     "start_time": "2019-09-06T05:01:59.541033Z"
    }
   },
   "outputs": [],
   "source": [
    "linkedbag.remove(3)"
   ]
  },
  {
   "cell_type": "code",
   "execution_count": 123,
   "metadata": {
    "ExecuteTime": {
     "end_time": "2019-09-06T05:02:08.967203Z",
     "start_time": "2019-09-06T05:02:08.951088Z"
    }
   },
   "outputs": [
    {
     "name": "stdout",
     "output_type": "stream",
     "text": [
      "|D0:5|-->|D1:4|-->|D2:2|-->|D3:1|-->NULL\n",
      "4\n"
     ]
    }
   ],
   "source": [
    "print(linkedbag)\n",
    "print(len(linkedbag))"
   ]
  },
  {
   "cell_type": "code",
   "execution_count": null,
   "metadata": {},
   "outputs": [],
   "source": []
  },
  {
   "cell_type": "code",
   "execution_count": 155,
   "metadata": {
    "ExecuteTime": {
     "end_time": "2019-09-06T07:02:16.661664Z",
     "start_time": "2019-09-06T07:02:16.643945Z"
    }
   },
   "outputs": [
    {
     "name": "stderr",
     "output_type": "stream",
     "text": [
      "[autoreload of Bag failed: Traceback (most recent call last):\n",
      "  File \"/Users/zhangzijie/miniconda3/envs/zzj/lib/python3.6/site-packages/IPython/extensions/autoreload.py\", line 244, in check\n",
      "    superreload(m, reload, self.old_objects)\n",
      "  File \"/Users/zhangzijie/miniconda3/envs/zzj/lib/python3.6/site-packages/IPython/extensions/autoreload.py\", line 394, in superreload\n",
      "    update_generic(old_obj, new_obj)\n",
      "  File \"/Users/zhangzijie/miniconda3/envs/zzj/lib/python3.6/site-packages/IPython/extensions/autoreload.py\", line 331, in update_generic\n",
      "    update(a, b)\n",
      "  File \"/Users/zhangzijie/miniconda3/envs/zzj/lib/python3.6/site-packages/IPython/extensions/autoreload.py\", line 289, in update_class\n",
      "    if update_generic(old_obj, new_obj): continue\n",
      "  File \"/Users/zhangzijie/miniconda3/envs/zzj/lib/python3.6/site-packages/IPython/extensions/autoreload.py\", line 331, in update_generic\n",
      "    update(a, b)\n",
      "  File \"/Users/zhangzijie/miniconda3/envs/zzj/lib/python3.6/site-packages/IPython/extensions/autoreload.py\", line 265, in update_function\n",
      "    setattr(old, name, getattr(new, name))\n",
      "ValueError: __init__() requires a code object with 0 free vars, not 1\n",
      "]\n"
     ]
    }
   ],
   "source": [
    "from Bag import ArraySortedBag"
   ]
  },
  {
   "cell_type": "code",
   "execution_count": 156,
   "metadata": {
    "ExecuteTime": {
     "end_time": "2019-09-06T07:02:18.254828Z",
     "start_time": "2019-09-06T07:02:18.240810Z"
    }
   },
   "outputs": [],
   "source": [
    "arraysortedbag = ArraySortedBag([1,3,4,5,8,7,9,12,-1])"
   ]
  },
  {
   "cell_type": "code",
   "execution_count": 157,
   "metadata": {
    "ExecuteTime": {
     "end_time": "2019-09-06T07:02:26.034805Z",
     "start_time": "2019-09-06T07:02:26.020348Z"
    }
   },
   "outputs": [
    {
     "name": "stdout",
     "output_type": "stream",
     "text": [
      "Calling __iter__.\n",
      "{-1,1,3,4,5,7,8,9,12}\n"
     ]
    }
   ],
   "source": [
    "print(arraysortedbag)"
   ]
  },
  {
   "cell_type": "code",
   "execution_count": 158,
   "metadata": {
    "ExecuteTime": {
     "end_time": "2019-09-06T07:02:27.353739Z",
     "start_time": "2019-09-06T07:02:27.339452Z"
    }
   },
   "outputs": [
    {
     "name": "stdout",
     "output_type": "stream",
     "text": [
      "9\n"
     ]
    }
   ],
   "source": [
    "print(len(arraysortedbag))"
   ]
  },
  {
   "cell_type": "code",
   "execution_count": 159,
   "metadata": {
    "ExecuteTime": {
     "end_time": "2019-09-06T07:02:28.039558Z",
     "start_time": "2019-09-06T07:02:28.025611Z"
    }
   },
   "outputs": [
    {
     "data": {
      "text/plain": [
       "True"
      ]
     },
     "execution_count": 159,
     "metadata": {},
     "output_type": "execute_result"
    }
   ],
   "source": [
    "5 in arraysortedbag"
   ]
  },
  {
   "cell_type": "code",
   "execution_count": 169,
   "metadata": {
    "ExecuteTime": {
     "end_time": "2019-09-06T07:04:04.479851Z",
     "start_time": "2019-09-06T07:04:04.464383Z"
    }
   },
   "outputs": [
    {
     "data": {
      "text/plain": [
       "[Bag.ArraySortedBag,\n",
       " Bag.ArrayBag,\n",
       " Bag.Bag,\n",
       " AbstractCollection.AbstractCollection,\n",
       " object]"
      ]
     },
     "execution_count": 169,
     "metadata": {},
     "output_type": "execute_result"
    }
   ],
   "source": [
    "arraysortedbag.__class__.mro()"
   ]
  },
  {
   "cell_type": "code",
   "execution_count": 170,
   "metadata": {
    "ExecuteTime": {
     "end_time": "2019-09-06T08:42:09.271179Z",
     "start_time": "2019-09-06T08:42:09.214674Z"
    }
   },
   "outputs": [
    {
     "name": "stderr",
     "output_type": "stream",
     "text": [
      "[autoreload of Bag failed: Traceback (most recent call last):\n",
      "  File \"/Users/zhangzijie/miniconda3/envs/zzj/lib/python3.6/site-packages/IPython/extensions/autoreload.py\", line 244, in check\n",
      "    superreload(m, reload, self.old_objects)\n",
      "  File \"/Users/zhangzijie/miniconda3/envs/zzj/lib/python3.6/site-packages/IPython/extensions/autoreload.py\", line 394, in superreload\n",
      "    update_generic(old_obj, new_obj)\n",
      "  File \"/Users/zhangzijie/miniconda3/envs/zzj/lib/python3.6/site-packages/IPython/extensions/autoreload.py\", line 331, in update_generic\n",
      "    update(a, b)\n",
      "  File \"/Users/zhangzijie/miniconda3/envs/zzj/lib/python3.6/site-packages/IPython/extensions/autoreload.py\", line 289, in update_class\n",
      "    if update_generic(old_obj, new_obj): continue\n",
      "  File \"/Users/zhangzijie/miniconda3/envs/zzj/lib/python3.6/site-packages/IPython/extensions/autoreload.py\", line 331, in update_generic\n",
      "    update(a, b)\n",
      "  File \"/Users/zhangzijie/miniconda3/envs/zzj/lib/python3.6/site-packages/IPython/extensions/autoreload.py\", line 265, in update_function\n",
      "    setattr(old, name, getattr(new, name))\n",
      "ValueError: __init__() requires a code object with 0 free vars, not 1\n",
      "]\n"
     ]
    },
    {
     "data": {
      "text/plain": [
       "0"
      ]
     },
     "execution_count": 170,
     "metadata": {},
     "output_type": "execute_result"
    }
   ],
   "source": [
    "1 // 2"
   ]
  },
  {
   "cell_type": "code",
   "execution_count": 171,
   "metadata": {
    "ExecuteTime": {
     "end_time": "2019-09-06T08:49:07.279307Z",
     "start_time": "2019-09-06T08:49:07.264014Z"
    }
   },
   "outputs": [
    {
     "name": "stderr",
     "output_type": "stream",
     "text": [
      "[autoreload of Arrays failed: Traceback (most recent call last):\n",
      "  File \"/Users/zhangzijie/miniconda3/envs/zzj/lib/python3.6/site-packages/IPython/extensions/autoreload.py\", line 244, in check\n",
      "    superreload(m, reload, self.old_objects)\n",
      "  File \"/Users/zhangzijie/miniconda3/envs/zzj/lib/python3.6/site-packages/IPython/extensions/autoreload.py\", line 378, in superreload\n",
      "    module = reload(module)\n",
      "  File \"/Users/zhangzijie/miniconda3/envs/zzj/lib/python3.6/imp.py\", line 315, in reload\n",
      "    return importlib.reload(module)\n",
      "  File \"/Users/zhangzijie/miniconda3/envs/zzj/lib/python3.6/importlib/__init__.py\", line 166, in reload\n",
      "    _bootstrap._exec(spec, module)\n",
      "  File \"<frozen importlib._bootstrap>\", line 618, in _exec\n",
      "  File \"<frozen importlib._bootstrap_external>\", line 674, in exec_module\n",
      "  File \"<frozen importlib._bootstrap_external>\", line 781, in get_code\n",
      "  File \"<frozen importlib._bootstrap_external>\", line 741, in source_to_code\n",
      "  File \"<frozen importlib._bootstrap>\", line 219, in _call_with_frames_removed\n",
      "  File \"/Users/zhangzijie/MyProjects/Effective-Python/Python-DataStructures/Arrays.py\", line 53\n",
      "    if\n",
      "      ^\n",
      "SyntaxError: invalid syntax\n",
      "]\n"
     ]
    },
    {
     "data": {
      "text/plain": [
       "1"
      ]
     },
     "execution_count": 171,
     "metadata": {},
     "output_type": "execute_result"
    }
   ],
   "source": [
    "2 //2"
   ]
  },
  {
   "cell_type": "code",
   "execution_count": null,
   "metadata": {},
   "outputs": [],
   "source": []
  }
 ],
 "metadata": {
  "kernelspec": {
   "display_name": "Python 3",
   "language": "python",
   "name": "python3"
  },
  "language_info": {
   "codemirror_mode": {
    "name": "ipython",
    "version": 3
   },
   "file_extension": ".py",
   "mimetype": "text/x-python",
   "name": "python",
   "nbconvert_exporter": "python",
   "pygments_lexer": "ipython3",
   "version": "3.6.7"
  },
  "toc": {
   "base_numbering": 1,
   "nav_menu": {},
   "number_sections": true,
   "sideBar": true,
   "skip_h1_title": true,
   "title_cell": "Table of Contents",
   "title_sidebar": "Contents",
   "toc_cell": true,
   "toc_position": {},
   "toc_section_display": true,
   "toc_window_display": false
  }
 },
 "nbformat": 4,
 "nbformat_minor": 2
}
