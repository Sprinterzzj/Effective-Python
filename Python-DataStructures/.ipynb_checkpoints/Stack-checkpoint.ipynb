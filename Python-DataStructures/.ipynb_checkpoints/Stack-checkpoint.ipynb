{
 "cells": [
  {
   "cell_type": "markdown",
   "metadata": {
    "toc": true
   },
   "source": [
    "<h1>Table of Contents<span class=\"tocSkip\"></span></h1>\n",
    "<div class=\"toc\"><ul class=\"toc-item\"><li><span><a href=\"#应用:-括号匹配\" data-toc-modified-id=\"应用:-括号匹配-1\"><span class=\"toc-item-num\">1&nbsp;&nbsp;</span>应用: 括号匹配</a></span></li><li><span><a href=\"#算数表达式\" data-toc-modified-id=\"算数表达式-2\"><span class=\"toc-item-num\">2&nbsp;&nbsp;</span>算数表达式</a></span></li></ul></div>"
   ]
  },
  {
   "cell_type": "code",
   "execution_count": 48,
   "metadata": {
    "ExecuteTime": {
     "end_time": "2019-07-31T13:38:00.983192Z",
     "start_time": "2019-07-31T13:38:00.973532Z"
    }
   },
   "outputs": [
    {
     "ename": "IndentationError",
     "evalue": "expected an indented block (<ipython-input-48-748202a546cf>, line 6)",
     "output_type": "error",
     "traceback": [
      "\u001b[0;36m  File \u001b[0;32m\"<ipython-input-48-748202a546cf>\"\u001b[0;36m, line \u001b[0;32m6\u001b[0m\n\u001b[0;31m    else:\u001b[0m\n\u001b[0m       ^\u001b[0m\n\u001b[0;31mIndentationError\u001b[0m\u001b[0;31m:\u001b[0m expected an indented block\n"
     ]
    }
   ],
   "source": [
    "class LinkedStack(object):\n",
    "    def __init__(self, items=None):\n",
    "        if items_ is None:\n",
    "            self._list = []\n",
    "        elif isinstance(items_, LinkedStack):\n",
    "            self._list = \n",
    "        else:\n",
    "            self._list = list(list_)\n",
    "\n",
    "    def __len__(self):\n",
    "        return len(self._list)\n",
    "\n",
    "    def isEmpty(self):\n",
    "        if self.__len__() == 0:\n",
    "            return True\n",
    "        else:\n",
    "            return False\n",
    "\n",
    "    def __str__(self):\n",
    "        return str(self._list)\n",
    "\n",
    "    def __iter__(self):\n",
    "        return (s for s in self._list)\n",
    "\n",
    "    def __contains__(self, item):\n",
    "        return item in self._list\n",
    "\n",
    "    def __add__(self, s):\n",
    "        if isinstance(s, LinkedStack):\n",
    "            return LinkedStack(self._list + s._list)\n",
    "\n",
    "    def __eq__(self, s):\n",
    "        if not isinstance(s, LinkedStack):\n",
    "            return False\n",
    "        if not self.__len__() == len(s):\n",
    "            return False\n",
    "        for e1, e2 in zip(self, s):\n",
    "            if e1 != e2:\n",
    "                return False\n",
    "        return True\n",
    "\n",
    "    def clear(self):\n",
    "        self._list = []\n",
    "\n",
    "    def peek(self):\n",
    "        if self.isEmpty():\n",
    "            raise KeyError\n",
    "        return self._list[-1]\n",
    "\n",
    "    def push(self, item):\n",
    "        self._list.append(item)\n",
    "\n",
    "    def pop(self):\n",
    "        if self.isEmpty():\n",
    "            raise KeyError\n",
    "        return self._list.pop()"
   ]
  },
  {
   "cell_type": "code",
   "execution_count": null,
   "metadata": {},
   "outputs": [],
   "source": [
    "def test(stackType): # Test any implementation with the same code \n",
    "    s = stackType() \n",
    "    print(\"Length:\", len(s)) \n",
    "    print(\"Empty:\", s.isEmpty()) \n",
    "    print(\"Push 1-10\") \n",
    "    for i in range(10): \n",
    "        s.push(i + 1) \n",
    "    print(\"Peeking:\", s.peek()) \n",
    "    print(\"Items (bottom to top):\", s) \n",
    "    print(\"Length:\", len(s)) \n",
    "    print(\"Empty:\", s.isEmpty()) \n",
    "    theClone = stackType(s) \n",
    "    print(\"Items in clone (bottom to top):\", theClone) theClone.clear() print(\"Length of clone after clear:\", len(theClone)) print(\"Push 11\") s.push(11) print(\"Popping items (top to bottom):\", end=\"\") while not s.isEmpty(): print(s.pop(), end=\" \") print(\"\\nLength:\", len(s)) print(\"Empty:\", s.isEmpty())"
   ]
  },
  {
   "cell_type": "code",
   "execution_count": 22,
   "metadata": {
    "ExecuteTime": {
     "end_time": "2019-07-31T13:02:58.012394Z",
     "start_time": "2019-07-31T13:02:58.010123Z"
    }
   },
   "outputs": [],
   "source": [
    "# 使用:\n",
    "\n",
    "# s = LinkedStack()\n",
    "# s.push(1)\n",
    "# s.push(2)\n",
    "# s.push(3)\n",
    "# s.isEmpty()\n",
    "# len(s)\n",
    "# s.peek()\n",
    "# s.pop()\n",
    "# s.pop()\n",
    "# s.pop()\n",
    "# s.peek()\n",
    "# s.pop()\n",
    "# s.push(4)\n",
    "# str(s)"
   ]
  },
  {
   "cell_type": "markdown",
   "metadata": {},
   "source": [
    "######  应用: 括号匹配"
   ]
  },
  {
   "cell_type": "code",
   "execution_count": 47,
   "metadata": {
    "ExecuteTime": {
     "end_time": "2019-07-31T13:28:06.852814Z",
     "start_time": "2019-07-31T13:28:06.848021Z"
    }
   },
   "outputs": [],
   "source": [
    "def brackets_balance(exp):\n",
    "    \"\"\"exp 是字符串, 代表着一个表达式.\n",
    "    \"\"\"\n",
    "    stack = LinkedStack()\n",
    "    if len(exp) == 0: return True\n",
    "    for e in exp:\n",
    "        if e in ('(', '['):\n",
    "            stack.push(e)\n",
    "        elif e in (')', '}'):\n",
    "            if stack.isEmpty():\n",
    "                return False\n",
    "            elif (stack.peek() != '(' and e == ')') or\\\n",
    "                 (stack.peek() != '[' and e == ']'):\n",
    "                return False\n",
    "            else:\n",
    "                stack.pop()\n",
    "    return stac.isEmpty()"
   ]
  },
  {
   "cell_type": "code",
   "execution_count": 46,
   "metadata": {
    "ExecuteTime": {
     "end_time": "2019-07-31T13:22:09.769754Z",
     "start_time": "2019-07-31T13:22:09.767605Z"
    }
   },
   "outputs": [],
   "source": [
    "# brackets_balance('(...)...(...)')\n",
    "# brackets_balance('(...)...(...')\n",
    "# brackets_balance(')...(...(...)')\n",
    "# brackets_balance('[...(...)...]')\n",
    "# brackets_balance('[...(...]...]')"
   ]
  },
  {
   "cell_type": "markdown",
   "metadata": {},
   "source": [
    "###### 算数表达式"
   ]
  },
  {
   "cell_type": "code",
   "execution_count": null,
   "metadata": {},
   "outputs": [],
   "source": []
  }
 ],
 "metadata": {
  "kernelspec": {
   "display_name": "Python 3",
   "language": "python",
   "name": "python3"
  },
  "language_info": {
   "codemirror_mode": {
    "name": "ipython",
    "version": 3
   },
   "file_extension": ".py",
   "mimetype": "text/x-python",
   "name": "python",
   "nbconvert_exporter": "python",
   "pygments_lexer": "ipython3",
   "version": "3.6.7"
  },
  "toc": {
   "base_numbering": 1,
   "nav_menu": {},
   "number_sections": true,
   "sideBar": true,
   "skip_h1_title": true,
   "title_cell": "Table of Contents",
   "title_sidebar": "Contents",
   "toc_cell": true,
   "toc_position": {},
   "toc_section_display": true,
   "toc_window_display": true
  }
 },
 "nbformat": 4,
 "nbformat_minor": 2
}
