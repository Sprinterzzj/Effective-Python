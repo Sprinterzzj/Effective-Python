{
 "cells": [
  {
   "cell_type": "markdown",
   "metadata": {
    "toc": true
   },
   "source": [
    "<h1>Table of Contents<span class=\"tocSkip\"></span></h1>\n",
    "<div class=\"toc\"><ul class=\"toc-item\"><li><span><a href=\"#数组实现\" data-toc-modified-id=\"数组实现-1\"><span class=\"toc-item-num\">1&nbsp;&nbsp;</span>数组实现</a></span></li><li><span><a href=\"#应用:-括号匹配\" data-toc-modified-id=\"应用:-括号匹配-2\"><span class=\"toc-item-num\">2&nbsp;&nbsp;</span>应用: 括号匹配</a></span></li><li><span><a href=\"#算数表达式\" data-toc-modified-id=\"算数表达式-3\"><span class=\"toc-item-num\">3&nbsp;&nbsp;</span>算数表达式</a></span></li></ul></div>"
   ]
  },
  {
   "cell_type": "code",
   "execution_count": 3,
   "metadata": {
    "ExecuteTime": {
     "end_time": "2019-08-01T13:33:26.138213Z",
     "start_time": "2019-08-01T13:33:26.134551Z"
    }
   },
   "outputs": [],
   "source": [
    "from AbstractCollection import AbstractCollection\n",
    "\n",
    "\n",
    "class AbstractStack(AbstractCollection):\n",
    "    \"\"\"抽象Stack类\n",
    "    \"\"\"\n",
    "\n",
    "    def __init__(self, sourcecollection=None):\n",
    "        super().__init__(sourcecollection)\n",
    "\n",
    "    def _add(self, item):\n",
    "        self.push(item)"
   ]
  },
  {
   "cell_type": "code",
   "execution_count": 10,
   "metadata": {
    "ExecuteTime": {
     "end_time": "2019-08-01T13:48:55.169743Z",
     "start_time": "2019-08-01T13:48:55.164379Z"
    }
   },
   "outputs": [],
   "source": []
  },
  {
   "cell_type": "markdown",
   "metadata": {},
   "source": [
    "###### 数组实现"
   ]
  },
  {
   "cell_type": "code",
   "execution_count": 9,
   "metadata": {
    "ExecuteTime": {
     "end_time": "2019-08-01T13:36:45.805077Z",
     "start_time": "2019-08-01T13:36:45.802482Z"
    }
   },
   "outputs": [],
   "source": [
    "\n",
    "class ArrayStack(AbstractStack):\n",
    "    _DEFAULT_CAPACITY = 10"
   ]
  },
  {
   "cell_type": "code",
   "execution_count": null,
   "metadata": {},
   "outputs": [],
   "source": [
    "def test(stackType): # Test any implementation with the same code \n",
    "    s = stackType() \n",
    "    print(\"Length:\", len(s)) \n",
    "    print(\"Empty:\", s.isEmpty()) \n",
    "    print(\"Push 1-10\") \n",
    "    for i in range(10): \n",
    "        s.push(i + 1) \n",
    "    print(\"Peeking:\", s.peek()) \n",
    "    print(\"Items (bottom to top):\", s) \n",
    "    print(\"Length:\", len(s)) \n",
    "    print(\"Empty:\", s.isEmpty()) \n",
    "    theClone = stackType(s) \n",
    "    print(\"Items in clone (bottom to top):\", theClone) theClone.clear() print(\"Length of clone after clear:\", len(theClone)) print(\"Push 11\") s.push(11) print(\"Popping items (top to bottom):\", end=\"\") while not s.isEmpty(): print(s.pop(), end=\" \") print(\"\\nLength:\", len(s)) print(\"Empty:\", s.isEmpty())"
   ]
  },
  {
   "cell_type": "markdown",
   "metadata": {},
   "source": [
    "######  应用: 括号匹配"
   ]
  },
  {
   "cell_type": "code",
   "execution_count": 47,
   "metadata": {
    "ExecuteTime": {
     "end_time": "2019-07-31T13:28:06.852814Z",
     "start_time": "2019-07-31T13:28:06.848021Z"
    }
   },
   "outputs": [],
   "source": [
    "def brackets_balance(exp):\n",
    "    \"\"\"exp 是字符串, 代表着一个表达式.\n",
    "    \"\"\"\n",
    "    stack = LinkedStack()\n",
    "    if len(exp) == 0: return True\n",
    "    for e in exp:\n",
    "        if e in ('(', '['):\n",
    "            stack.push(e)\n",
    "        elif e in (')', '}'):\n",
    "            if stack.isEmpty():\n",
    "                return False\n",
    "            elif (stack.peek() != '(' and e == ')') or\\\n",
    "                 (stack.peek() != '[' and e == ']'):\n",
    "                return False\n",
    "            else:\n",
    "                stack.pop()\n",
    "    return stac.isEmpty()"
   ]
  },
  {
   "cell_type": "code",
   "execution_count": 46,
   "metadata": {
    "ExecuteTime": {
     "end_time": "2019-07-31T13:22:09.769754Z",
     "start_time": "2019-07-31T13:22:09.767605Z"
    }
   },
   "outputs": [],
   "source": [
    "# brackets_balance('(...)...(...)')\n",
    "# brackets_balance('(...)...(...')\n",
    "# brackets_balance(')...(...(...)')\n",
    "# brackets_balance('[...(...)...]')\n",
    "# brackets_balance('[...(...]...]')"
   ]
  },
  {
   "cell_type": "markdown",
   "metadata": {},
   "source": [
    "###### 算数表达式"
   ]
  },
  {
   "cell_type": "code",
   "execution_count": null,
   "metadata": {},
   "outputs": [],
   "source": []
  }
 ],
 "metadata": {
  "kernelspec": {
   "display_name": "Python 3",
   "language": "python",
   "name": "python3"
  },
  "language_info": {
   "codemirror_mode": {
    "name": "ipython",
    "version": 3
   },
   "file_extension": ".py",
   "mimetype": "text/x-python",
   "name": "python",
   "nbconvert_exporter": "python",
   "pygments_lexer": "ipython3",
   "version": "3.6.7"
  },
  "toc": {
   "base_numbering": 1,
   "nav_menu": {},
   "number_sections": true,
   "sideBar": true,
   "skip_h1_title": true,
   "title_cell": "Table of Contents",
   "title_sidebar": "Contents",
   "toc_cell": true,
   "toc_position": {},
   "toc_section_display": true,
   "toc_window_display": false
  }
 },
 "nbformat": 4,
 "nbformat_minor": 2
}
