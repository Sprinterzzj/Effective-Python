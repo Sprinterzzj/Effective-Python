{
 "cells": [
  {
   "cell_type": "markdown",
   "metadata": {},
   "source": [
    "### 定义自己的异常类"
   ]
  },
  {
   "cell_type": "code",
   "execution_count": 1,
   "metadata": {},
   "outputs": [],
   "source": [
    "#in my_module.py\n",
    "def determine_weight(volume, density):\n",
    "    if density <= 0:\n",
    "        raise ValueError('Density must be positive.')\n",
    "    pass"
   ]
  },
  {
   "cell_type": "code",
   "execution_count": 2,
   "metadata": {},
   "outputs": [],
   "source": [
    "#比起用 ValueError, 当你的模块变得更大时, 定义你自己的异常类更好\n",
    "class Error(Exception):\n",
    "    # The base error class\n",
    "    pass\n",
    "class InvalidDensityError(Error):\n",
    "    pass\n",
    "def determine_weight(volume, density):\n",
    "    if density <=0:\n",
    "        raise InvalidDensityError\n",
    "    pass"
   ]
  },
  {
   "cell_type": "code",
   "execution_count": 4,
   "metadata": {},
   "outputs": [
    {
     "name": "stderr",
     "output_type": "stream",
     "text": [
      "ERROR:root:Unexpected error: \n"
     ]
    }
   ],
   "source": [
    "#你可以这么用:\n",
    "import logging\n",
    "try:\n",
    "    weight = determine_weight(1, -1)\n",
    "except Error as e:\n",
    "    logging.error('Unexpected error: %s', e)"
   ]
  },
  {
   "cell_type": "code",
   "execution_count": 5,
   "metadata": {},
   "outputs": [],
   "source": [
    "#注意， 定义你自己的异常类可以使user更好的弄清 bug"
   ]
  },
  {
   "cell_type": "code",
   "execution_count": 6,
   "metadata": {},
   "outputs": [],
   "source": [
    "#按照如下顺序捕捉异常,能让你知道bug出在哪\n",
    "try:\n",
    "    weight = determine_weight(1, -1)\n",
    "except InvalidDensityError:\n",
    "    #首先捕捉你自己定义的异常\n",
    "    weight = 0\n",
    "except Error as e:\n",
    "    #倒数第二的是你的异常基类,如果捕捉到的时你自己定义的异常,\n",
    "    #一般说明是调用者出现了问题\n",
    "    logging.error('Bug in the calling code: %s', e)\n",
    "except Exception as e:\n",
    "    logging.error('Bug in the API code: %s', e)\n",
    "    raise"
   ]
  },
  {
   "cell_type": "code",
   "execution_count": 7,
   "metadata": {},
   "outputs": [],
   "source": [
    "#定义自己的异常类还有一个好处, 将来你的代码扩充功能时，相应的可以派生新的异常类\n",
    "class NegativeDensityError(InvalidDensityError):\n",
    "    pass"
   ]
  },
  {
   "cell_type": "code",
   "execution_count": 10,
   "metadata": {},
   "outputs": [
    {
     "ename": "ValueError",
     "evalue": "Must supply non-negative density",
     "output_type": "error",
     "traceback": [
      "\u001b[0;31m------------------------------------------------------------------\u001b[0m",
      "\u001b[0;31mNegativeDensityError\u001b[0m             Traceback (most recent call last)",
      "\u001b[0;32m<ipython-input-10-a92d7e9b46e2>\u001b[0m in \u001b[0;36m<module>\u001b[0;34m()\u001b[0m\n\u001b[1;32m      4\u001b[0m \u001b[0;32mtry\u001b[0m\u001b[0;34m:\u001b[0m\u001b[0;34m\u001b[0m\u001b[0;34m\u001b[0m\u001b[0m\n\u001b[0;32m----> 5\u001b[0;31m     \u001b[0mweight\u001b[0m \u001b[0;34m=\u001b[0m \u001b[0mdetermine_weight\u001b[0m\u001b[0;34m(\u001b[0m\u001b[0;36m1\u001b[0m\u001b[0;34m,\u001b[0m \u001b[0;34m-\u001b[0m\u001b[0;36m1\u001b[0m\u001b[0;34m)\u001b[0m\u001b[0;34m\u001b[0m\u001b[0;34m\u001b[0m\u001b[0m\n\u001b[0m\u001b[1;32m      6\u001b[0m \u001b[0;32mexcept\u001b[0m \u001b[0mNegativeDensityError\u001b[0m \u001b[0;32mas\u001b[0m \u001b[0me\u001b[0m\u001b[0;34m:\u001b[0m\u001b[0;34m\u001b[0m\u001b[0;34m\u001b[0m\u001b[0m\n",
      "\u001b[0;32m<ipython-input-10-a92d7e9b46e2>\u001b[0m in \u001b[0;36mdetermine_weight\u001b[0;34m(volume, density)\u001b[0m\n\u001b[1;32m      2\u001b[0m     \u001b[0;32mif\u001b[0m \u001b[0mdensity\u001b[0m \u001b[0;34m<\u001b[0m \u001b[0;36m0\u001b[0m\u001b[0;34m:\u001b[0m\u001b[0;34m\u001b[0m\u001b[0;34m\u001b[0m\u001b[0m\n\u001b[0;32m----> 3\u001b[0;31m         \u001b[0;32mraise\u001b[0m \u001b[0mNegativeDensityError\u001b[0m\u001b[0;34m\u001b[0m\u001b[0;34m\u001b[0m\u001b[0m\n\u001b[0m\u001b[1;32m      4\u001b[0m \u001b[0;32mtry\u001b[0m\u001b[0;34m:\u001b[0m\u001b[0;34m\u001b[0m\u001b[0;34m\u001b[0m\u001b[0m\n",
      "\u001b[0;31mNegativeDensityError\u001b[0m: ",
      "\nThe above exception was the direct cause of the following exception:\n",
      "\u001b[0;31mValueError\u001b[0m                       Traceback (most recent call last)",
      "\u001b[0;32m<ipython-input-10-a92d7e9b46e2>\u001b[0m in \u001b[0;36m<module>\u001b[0;34m()\u001b[0m\n\u001b[1;32m      5\u001b[0m     \u001b[0mweight\u001b[0m \u001b[0;34m=\u001b[0m \u001b[0mdetermine_weight\u001b[0m\u001b[0;34m(\u001b[0m\u001b[0;36m1\u001b[0m\u001b[0;34m,\u001b[0m \u001b[0;34m-\u001b[0m\u001b[0;36m1\u001b[0m\u001b[0;34m)\u001b[0m\u001b[0;34m\u001b[0m\u001b[0;34m\u001b[0m\u001b[0m\n\u001b[1;32m      6\u001b[0m \u001b[0;32mexcept\u001b[0m \u001b[0mNegativeDensityError\u001b[0m \u001b[0;32mas\u001b[0m \u001b[0me\u001b[0m\u001b[0;34m:\u001b[0m\u001b[0;34m\u001b[0m\u001b[0;34m\u001b[0m\u001b[0m\n\u001b[0;32m----> 7\u001b[0;31m     \u001b[0;32mraise\u001b[0m \u001b[0mValueError\u001b[0m\u001b[0;34m(\u001b[0m\u001b[0;34m'Must supply non-negative density'\u001b[0m\u001b[0;34m)\u001b[0m \u001b[0;32mfrom\u001b[0m \u001b[0me\u001b[0m\u001b[0;34m\u001b[0m\u001b[0;34m\u001b[0m\u001b[0m\n\u001b[0m\u001b[1;32m      8\u001b[0m \u001b[0;32mexcept\u001b[0m \u001b[0mInvalidDensityError\u001b[0m\u001b[0;34m:\u001b[0m\u001b[0;34m\u001b[0m\u001b[0;34m\u001b[0m\u001b[0m\n\u001b[1;32m      9\u001b[0m     \u001b[0mweight\u001b[0m \u001b[0;34m=\u001b[0m \u001b[0;36m0\u001b[0m\u001b[0;34m\u001b[0m\u001b[0;34m\u001b[0m\u001b[0m\n",
      "\u001b[0;31mValueError\u001b[0m: Must supply non-negative density"
     ]
    }
   ],
   "source": [
    "def determine_weight(volume, density):\n",
    "    if density < 0:\n",
    "        raise NegativeDensityError\n",
    "try:\n",
    "    weight = determine_weight(1, -1)\n",
    "except NegativeDensityError as e:\n",
    "    raise ValueError('Must supply non-negative density') from e\n",
    "except InvalidDensityError:\n",
    "    weight = 0\n",
    "except Error as e:\n",
    "    logging.error('Bug in the calling code: %s', e)\n",
    "except Exception as e:\n",
    "    logging.error('Bug in the API code: %s', e)\n",
    "    raise"
   ]
  },
  {
   "cell_type": "markdown",
   "metadata": {},
   "source": [
    "### Python 模块的导入流程"
   ]
  },
  {
   "cell_type": "code",
   "execution_count": null,
   "metadata": {},
   "outputs": [],
   "source": [
    "#1. 从 sys.path中查询你要导入的模块的路径\n",
    "#2. 从模块中导入代码，并且保证它被编译\n",
    "#3. 产生一个对应的空 模块对象\n",
    "#4. 将模块 插入到sys.modules中\n",
    "#5. 在module对象中运行代码"
   ]
  },
  {
   "cell_type": "code",
   "execution_count": 11,
   "metadata": {},
   "outputs": [],
   "source": [
    "#如何处理循环导入问题？\n",
    "#1. 在你的模块中只写定义相关的代码：定义常量，类，函数。！！避免在导入你的模块时候跑其他函数！！\n",
    "#2. 在你的模块中提供一个 configure函数。然后当你导入完所有模块后,运行configure函数\n",
    "##(当然有时候很难将configure函数组织起来)\n",
    "#3. 动态导入, 将导入语句写进函数,在你运行函数的时候导入模块"
   ]
  },
  {
   "cell_type": "code",
   "execution_count": null,
   "metadata": {},
   "outputs": [],
   "source": []
  }
 ],
 "metadata": {
  "kernelspec": {
   "display_name": "Python 3",
   "language": "python",
   "name": "python3"
  },
  "language_info": {
   "codemirror_mode": {
    "name": "ipython",
    "version": 3
   },
   "file_extension": ".py",
   "mimetype": "text/x-python",
   "name": "python",
   "nbconvert_exporter": "python",
   "pygments_lexer": "ipython3",
   "version": "3.6.7"
  }
 },
 "nbformat": 4,
 "nbformat_minor": 2
}
