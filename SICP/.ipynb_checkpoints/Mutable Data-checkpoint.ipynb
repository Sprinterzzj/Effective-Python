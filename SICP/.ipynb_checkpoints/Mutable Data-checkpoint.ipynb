{
 "cells": [
  {
   "cell_type": "markdown",
   "metadata": {},
   "source": [
    "### 可变数据\n",
    "摘自 SICP ch2.4"
   ]
  },
  {
   "cell_type": "code",
   "execution_count": 1,
   "metadata": {
    "ExecuteTime": {
     "end_time": "2019-04-13T02:34:22.290543Z",
     "start_time": "2019-04-13T02:34:22.286484Z"
    },
    "code_folding": []
   },
   "outputs": [],
   "source": [
    "def make_withdraw(balance):\n",
    "    def withdraw(amount):\n",
    "        nonlocal balance #声明非局部变量 balance, 这样会向上一层的函数里找 balance\n",
    "        if amount > balance:\n",
    "            return 'Insufficient funds'\n",
    "        balance -= amount\n",
    "        return balance\n",
    "    return withdraw"
   ]
  },
  {
   "cell_type": "code",
   "execution_count": 2,
   "metadata": {
    "ExecuteTime": {
     "end_time": "2019-04-13T02:34:22.956207Z",
     "start_time": "2019-04-13T02:34:22.949804Z"
    }
   },
   "outputs": [],
   "source": [
    "#通过函数 wrapper 我们得到了一个可变对象 wd\n",
    "wd = make_withdraw(balance = 100)"
   ]
  },
  {
   "cell_type": "code",
   "execution_count": 28,
   "metadata": {
    "ExecuteTime": {
     "end_time": "2019-04-12T06:05:33.045949Z",
     "start_time": "2019-04-12T06:05:33.040920Z"
    }
   },
   "outputs": [
    {
     "data": {
      "text/plain": [
       "<function __main__.make_withdraw.<locals>.withdraw(amount)>"
      ]
     },
     "execution_count": 28,
     "metadata": {},
     "output_type": "execute_result"
    }
   ],
   "source": [
    "wd"
   ]
  },
  {
   "cell_type": "code",
   "execution_count": 29,
   "metadata": {
    "ExecuteTime": {
     "end_time": "2019-04-12T06:05:33.573675Z",
     "start_time": "2019-04-12T06:05:33.568688Z"
    }
   },
   "outputs": [
    {
     "data": {
      "text/plain": [
       "95"
      ]
     },
     "execution_count": 29,
     "metadata": {},
     "output_type": "execute_result"
    }
   ],
   "source": [
    "#wd接受提款金额返回余额\n",
    "wd(5)"
   ]
  },
  {
   "cell_type": "markdown",
   "metadata": {},
   "source": [
    "###### 非局部赋值的代价"
   ]
  },
  {
   "cell_type": "code",
   "execution_count": 30,
   "metadata": {
    "ExecuteTime": {
     "end_time": "2019-04-12T06:18:31.195497Z",
     "start_time": "2019-04-12T06:18:31.191567Z"
    }
   },
   "outputs": [],
   "source": [
    "#wd与wd2指向了同一个函数\n",
    "wd = make_withdraw(10)\n",
    "wd2 = wd"
   ]
  },
  {
   "cell_type": "code",
   "execution_count": 31,
   "metadata": {
    "ExecuteTime": {
     "end_time": "2019-04-12T06:19:37.173956Z",
     "start_time": "2019-04-12T06:19:37.168345Z"
    }
   },
   "outputs": [
    {
     "name": "stdout",
     "output_type": "stream",
     "text": [
      "9\n",
      "8\n"
     ]
    }
   ],
   "source": [
    "print(wd(1))\n",
    "print(wd2(1))"
   ]
  },
  {
   "cell_type": "code",
   "execution_count": null,
   "metadata": {},
   "outputs": [],
   "source": [
    "#我们称只含有纯函数的表达式是 引用透明的。\n",
    "#重新绑定的操作违反了引用透明的条件, 因为他们不仅仅返回了一个值。"
   ]
  },
  {
   "cell_type": "markdown",
   "metadata": {},
   "source": [
    "#### 示例: 传播约束\n",
    "<center>我们将实现如下的约束系统</center>\n",
    "\n",
    "![11](img/constraints.png)\n",
    "上面的约束系统实现了华氏温度与摄氏温度的互换:<br>\n",
    "<center>$9 \\times c = 5 \\times (f - 32)$</center>"
   ]
  },
  {
   "cell_type": "code",
   "execution_count": 68,
   "metadata": {
    "ExecuteTime": {
     "end_time": "2019-04-15T06:02:46.593134Z",
     "start_time": "2019-04-15T06:02:46.585659Z"
    }
   },
   "outputs": [],
   "source": [
    "#我们首先来实现connecter, 它连接了每个计算模块\n",
    "def connector(name = None):\n",
    "    informant = None\n",
    "    constraints = []\n",
    "\n",
    "    def set_value(source, value):\n",
    "        nonlocal informant\n",
    "        val = connector['val']\n",
    "        if val is None:\n",
    "            informant, connector['val'] = source, value\n",
    "            if name is not None:\n",
    "                print(name, '=', value)\n",
    "                print('source is:\\n', source)\n",
    "            inform_all_except(source, 'new_val', constraints)\n",
    "        else:\n",
    "            if val != value:\n",
    "                print('Contradiction detected: ', val, 'vs', value)\n",
    "    def forget_value(source):\n",
    "        nonlocal informant\n",
    "        #print(source, informant)\n",
    "        if informant == source:\n",
    "            informant, connector['val'] = None, None\n",
    "            if name is not None:\n",
    "                print(name, 'is forgotten.')\n",
    "            inform_all_except(source, 'forget', constraints)\n",
    "    \n",
    "    connector = {\n",
    "        'val':None,\n",
    "        'set_val': set_value,\n",
    "        'forget': forget_value,\n",
    "        'has_val': lambda: connector['val'] is not None,\n",
    "        'connect': lambda source: constraints.append(source),\n",
    "        #print_constraints\n",
    "        'constraints': lambda: print(constraints)\n",
    "    }\n",
    "    return connector\n",
    "\n",
    "def inform_all_except(source, message, constraints):\n",
    "    for c in constraints:\n",
    "        if c!= source:\n",
    "            c[message]()"
   ]
  },
  {
   "cell_type": "code",
   "execution_count": 69,
   "metadata": {
    "ExecuteTime": {
     "end_time": "2019-04-15T06:02:47.371362Z",
     "start_time": "2019-04-15T06:02:47.368304Z"
    }
   },
   "outputs": [],
   "source": [
    "#实例化两个连接器 u 和 v\n",
    "celsius = connector('Celsius')\n",
    "fahrenheit = connector('Fahrenheit')\n",
    "#celsius"
   ]
  },
  {
   "cell_type": "code",
   "execution_count": 70,
   "metadata": {
    "ExecuteTime": {
     "end_time": "2019-04-15T06:02:56.529409Z",
     "start_time": "2019-04-15T06:02:56.521102Z"
    }
   },
   "outputs": [],
   "source": [
    "#我们再来实现两边盒子的基本运算\n",
    "from operator import add, sub\n",
    "from operator import mul, truediv\n",
    "#我们首先实现一个三路限制器,\n",
    "#这里 a,b,c 是三个连接器,\n",
    "#ab, ca, cb 是三个函数\n",
    "def make_ternary_constraint(a, b, c, ab, ca, cb):\n",
    "    def new_value():\n",
    "        av, bv, cv = [connector['has_val']() for connector in (a, b, c)]\n",
    "        #枚举三种情况\n",
    "        if av and bv:\n",
    "            c['set_val'](constraint, ab(a['val'], b['val']))\n",
    "        elif av and cv:\n",
    "            b['set_val'](constraint, ca(c['val'], a['val']))\n",
    "        elif bv and cv:\n",
    "            a['set_val'](constraint, cb(c['val'], b['val']))\n",
    "    def forget_value():\n",
    "        for connector in (a, b, c):\n",
    "            connector['forget'](constraint)\n",
    "    \n",
    "    constraint = {'new_val':new_value, 'forget':forget_value}\n",
    "    for connector in (a, b, c):\n",
    "        connector['connect'](constraint)\n",
    "    return constraint\n",
    "def adder(a, b, c):\n",
    "    return make_ternary_constraint(a=a, b=b, c=c,\n",
    "                                   ab=add, ca=sub, cb=sub)\n",
    "def multiplier(a, b, c):\n",
    "    return make_ternary_constraint(a, b, c,\n",
    "                                   mul, truediv, truediv)\n",
    "def constant(connector, value):\n",
    "    constraint = {}\n",
    "    connector['set_val'](constraint, value)\n",
    "    return constraint"
   ]
  },
  {
   "cell_type": "markdown",
   "metadata": {},
   "source": [
    "make_ternary_constraint函数实现了connecter之间的互动:\n",
    "* new_value: 当有一个a, b, c有了新的值的时候, 它会被调用.按照给定的顺序求出第三个值.\n",
    "* forget_value: 它会清空所有connector的值.\n",
    "* constraint 是一个调度字典 包含了两个 限制接受的消息.\n",
    "<br>\n",
    "我们来看看 make_ternary_constraint 函数怎样被调用的。当它运行时, 会对所有 connector的connect属性初始化:\n",
    "\n",
    "```python\n",
    "    for connector in (a, b, c):\n",
    "        connector['connect'](constraint)\n",
    "```\n",
    "回到connector的定义, 这将 constraint加入到 connector函数的constraint列表中.<br>\n",
    "<br>\n",
    "在 new_value方法中, 无论哪条分支被执行, 都会调用 connector中的 set_value方法, 再看 set_value方法, 它接收两个参数, 当 connector的 value属性是None时, 分别将 constraint 和 新的值 赋值给 <u>informant</u> 和 value.<br>\n",
    "<br>\n",
    "在 forget_value中, 调用所有connector的forget_value方法, connector的forget_value函数会先验证 参数source是否是 informant, 如果是执行清空操作.<br>\n",
    "<br>\n",
    "最后, inform_all_except 函数会将 新的数值或数值被清空 广播出去, 对其他的所有的constraint调用相应的方法.<br>\n",
    "<br>\n",
    "注意: 每个 make_ternary_constraint 函数对象对应着唯一的 constraint调度字典. 在connector的set_value方法中, 设置了非局部变量 informant的值, 在forget_value中需要验证它的值,\n",
    "确保他们来自同一个限制."
   ]
  },
  {
   "cell_type": "code",
   "execution_count": 71,
   "metadata": {
    "ExecuteTime": {
     "end_time": "2019-04-15T06:02:58.684584Z",
     "start_time": "2019-04-15T06:02:58.679788Z"
    }
   },
   "outputs": [],
   "source": [
    "#最后 我们用 converter方法将网络连接起来\n",
    "def make_converter(c, f):\n",
    "    u, v, w, x, y = [connector() for _ in range(5)]\n",
    "    #左边第一个盒子\n",
    "    multiplier(c, w, u)\n",
    "    #中间的盒子\n",
    "    multiplier(v, x, u)\n",
    "    #最右的盒子\n",
    "    adder(v, y, f)\n",
    "    \n",
    "    constant(w, 9)\n",
    "    constant(x, 5)\n",
    "    constant(y, 32)\n",
    "\n",
    "make_converter(celsius, fahrenheit)"
   ]
  },
  {
   "cell_type": "code",
   "execution_count": 72,
   "metadata": {
    "ExecuteTime": {
     "end_time": "2019-04-15T06:03:22.917866Z",
     "start_time": "2019-04-15T06:03:22.912541Z"
    }
   },
   "outputs": [
    {
     "name": "stdout",
     "output_type": "stream",
     "text": [
      "[{'new_val': <function make_ternary_constraint.<locals>.new_value at 0x7f7dc08a1268>, 'forget': <function make_ternary_constraint.<locals>.forget_value at 0x7f7dc090c598>}]\n"
     ]
    }
   ],
   "source": [
    "celsius['constraints']()"
   ]
  },
  {
   "cell_type": "code",
   "execution_count": 62,
   "metadata": {
    "ExecuteTime": {
     "end_time": "2019-04-15T05:56:53.836487Z",
     "start_time": "2019-04-15T05:56:53.828963Z"
    }
   },
   "outputs": [
    {
     "name": "stdout",
     "output_type": "stream",
     "text": [
      "Celsius = 25\n",
      "source is:\n",
      " user\n",
      "Fahrenheit = 77.0\n",
      "source is:\n",
      " {'new_val': <function make_ternary_constraint.<locals>.new_value at 0x7f7dc090d400>, 'forget': <function make_ternary_constraint.<locals>.forget_value at 0x7f7dc090d6a8>}\n"
     ]
    }
   ],
   "source": [
    "#我们('user')将celsius的值设置为25, 它的值会在网络上传播, 于是fahrenheit的也跟着变\n",
    "celsius['set_val'](source='user', value=25)"
   ]
  },
  {
   "cell_type": "code",
   "execution_count": 63,
   "metadata": {
    "ExecuteTime": {
     "end_time": "2019-04-15T05:57:01.570209Z",
     "start_time": "2019-04-15T05:57:01.565370Z"
    }
   },
   "outputs": [
    {
     "name": "stdout",
     "output_type": "stream",
     "text": [
      "Contradiction detected:  77.0 vs 212\n"
     ]
    }
   ],
   "source": [
    "#我们需要forget_value, 然后在设置值\n",
    "fahrenheit['set_val'](source='user', value=212)"
   ]
  },
  {
   "cell_type": "code",
   "execution_count": 64,
   "metadata": {
    "ExecuteTime": {
     "end_time": "2019-04-15T05:57:05.321917Z",
     "start_time": "2019-04-15T05:57:05.317352Z"
    }
   },
   "outputs": [
    {
     "name": "stdout",
     "output_type": "stream",
     "text": [
      "Celsius is forgotten.\n",
      "Fahrenheit is forgotten.\n"
     ]
    }
   ],
   "source": [
    "celsius['forget']('user')"
   ]
  },
  {
   "cell_type": "code",
   "execution_count": 65,
   "metadata": {
    "ExecuteTime": {
     "end_time": "2019-04-15T05:57:07.481169Z",
     "start_time": "2019-04-15T05:57:07.477282Z"
    }
   },
   "outputs": [
    {
     "name": "stdout",
     "output_type": "stream",
     "text": [
      "Fahrenheit = 212\n",
      "source is:\n",
      " user\n",
      "Celsius = 100.0\n",
      "source is:\n",
      " {'new_val': <function make_ternary_constraint.<locals>.new_value at 0x7f7dc0923268>, 'forget': <function make_ternary_constraint.<locals>.forget_value at 0x7f7dc090de18>}\n"
     ]
    }
   ],
   "source": [
    "fahrenheit['set_val'](source='user', value=212)"
   ]
  },
  {
   "cell_type": "code",
   "execution_count": 57,
   "metadata": {
    "ExecuteTime": {
     "end_time": "2019-04-15T05:56:01.917309Z",
     "start_time": "2019-04-15T05:56:01.913012Z"
    }
   },
   "outputs": [],
   "source": [
    "celsius['forget']('user')"
   ]
  },
  {
   "cell_type": "code",
   "execution_count": 66,
   "metadata": {
    "ExecuteTime": {
     "end_time": "2019-04-15T05:59:04.529459Z",
     "start_time": "2019-04-15T05:59:04.524431Z"
    }
   },
   "outputs": [
    {
     "name": "stdout",
     "output_type": "stream",
     "text": [
      "Fahrenheit is forgotten.\n",
      "Celsius is forgotten.\n"
     ]
    }
   ],
   "source": [
    "fahrenheit['forget']('user')"
   ]
  }
 ],
 "metadata": {
  "kernelspec": {
   "display_name": "Python 3",
   "language": "python",
   "name": "python3"
  },
  "language_info": {
   "codemirror_mode": {
    "name": "ipython",
    "version": 3
   },
   "file_extension": ".py",
   "mimetype": "text/x-python",
   "name": "python",
   "nbconvert_exporter": "python",
   "pygments_lexer": "ipython3",
   "version": "3.6.7"
  },
  "toc": {
   "base_numbering": 1,
   "nav_menu": {},
   "number_sections": true,
   "sideBar": false,
   "skip_h1_title": false,
   "title_cell": "Table of Contents",
   "title_sidebar": "Contents",
   "toc_cell": false,
   "toc_position": {},
   "toc_section_display": true,
   "toc_window_display": false
  },
  "varInspector": {
   "cols": {
    "lenName": 16,
    "lenType": 16,
    "lenVar": 40
   },
   "kernels_config": {
    "python": {
     "delete_cmd_postfix": "",
     "delete_cmd_prefix": "del ",
     "library": "var_list.py",
     "varRefreshCmd": "print(var_dic_list())"
    },
    "r": {
     "delete_cmd_postfix": ") ",
     "delete_cmd_prefix": "rm(",
     "library": "var_list.r",
     "varRefreshCmd": "cat(var_dic_list()) "
    }
   },
   "types_to_exclude": [
    "module",
    "function",
    "builtin_function_or_method",
    "instance",
    "_Feature"
   ],
   "window_display": false
  }
 },
 "nbformat": 4,
 "nbformat_minor": 2
}
