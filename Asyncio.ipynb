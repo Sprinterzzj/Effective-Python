{
 "cells": [
  {
   "cell_type": "markdown",
   "metadata": {},
   "source": [
    "https://realpython.com/async-io-python/\n",
    "https://zhuanlan.zhihu.com/p/27258289"
   ]
  },
  {
   "cell_type": "markdown",
   "metadata": {},
   "source": [
    "### asyncio 模块\n",
    "\n",
    "1. 包含各种特定系统实现的模块化事件循环(select等)\n",
    "2. 传输和协议抽象\n",
    "3. 对TCP, UDP, SSL, 子进程, 延时调用以及其他具体的支持\n",
    "4. 模仿dutures模块但是适用于事件循环使用的Future类\n",
    "5. 基于yield from的协议和任务, 可以让你用顺序的方式编写并发代码\n",
    "6. 当我们必须使用一个产生阻塞IO的调用时, 有接口可以把事件转移到线程池\n",
    "7. 模仿threading模块的同步原语, 可以用在单线程内的协程之间"
   ]
  },
  {
   "cell_type": "markdown",
   "metadata": {},
   "source": [
    "#### 事件循环 回调(驱动生成器) IO多路复用"
   ]
  },
  {
   "cell_type": "code",
   "execution_count": 1,
   "metadata": {
    "ExecuteTime": {
     "end_time": "2019-07-01T14:24:31.975445Z",
     "start_time": "2019-07-01T14:24:31.972693Z"
    }
   },
   "outputs": [],
   "source": [
    "import asyncio"
   ]
  },
  {
   "cell_type": "markdown",
   "metadata": {},
   "source": [
    "注意 time.sleep是同步阻塞的接口, 不能用在异步的函数里面"
   ]
  },
  {
   "cell_type": "code",
   "execution_count": 9,
   "metadata": {
    "ExecuteTime": {
     "end_time": "2019-07-02T10:13:23.632148Z",
     "start_time": "2019-07-02T10:13:23.629193Z"
    }
   },
   "outputs": [],
   "source": [
    "async def get_html(url):\n",
    "    print('start get url')\n",
    "    #在协程中使用阻塞IO需要谨慎!!!\n",
    "    #下面的代码需要 加 await, 下面的代码会立即返回!!!!\n",
    "    await asyncio.sleep(2)\n",
    "    print('end get url')\n",
    "    return 'nimabi'"
   ]
  },
  {
   "cell_type": "code",
   "execution_count": 13,
   "metadata": {
    "ExecuteTime": {
     "end_time": "2019-07-02T10:18:46.396854Z",
     "start_time": "2019-07-02T10:18:46.393004Z"
    }
   },
   "outputs": [],
   "source": [
    "def main():\n",
    "    #获取时间循环\n",
    "    loop = asyncio.get_event_loop()\n",
    "    \n",
    "    #接受协程返回值的两个方式: task 或者 future\n",
    "    task = loop.create_task(get_html('nimabi'))\n",
    "    loop.run_until_complete(task)\n",
    "    print(task.result())\n",
    "    \n",
    "    get_future = asyncio.ensure_future(get_html('nimabi'))\n",
    "    loop.run_until_complete(get_future)\n",
    "    print(get_future.result())"
   ]
  },
  {
   "cell_type": "markdown",
   "metadata": {},
   "source": [
    "callback 函数用于特定的协程执行完之后作为回调"
   ]
  },
  {
   "cell_type": "code",
   "execution_count": null,
   "metadata": {},
   "outputs": [],
   "source": []
  }
 ],
 "metadata": {
  "kernelspec": {
   "display_name": "Python 3",
   "language": "python",
   "name": "python3"
  },
  "language_info": {
   "codemirror_mode": {
    "name": "ipython",
    "version": 3
   },
   "file_extension": ".py",
   "mimetype": "text/x-python",
   "name": "python",
   "nbconvert_exporter": "python",
   "pygments_lexer": "ipython3",
   "version": "3.6.7"
  },
  "toc": {
   "base_numbering": 1,
   "nav_menu": {},
   "number_sections": true,
   "sideBar": true,
   "skip_h1_title": false,
   "title_cell": "Table of Contents",
   "title_sidebar": "Contents",
   "toc_cell": false,
   "toc_position": {},
   "toc_section_display": true,
   "toc_window_display": false
  }
 },
 "nbformat": 4,
 "nbformat_minor": 2
}
