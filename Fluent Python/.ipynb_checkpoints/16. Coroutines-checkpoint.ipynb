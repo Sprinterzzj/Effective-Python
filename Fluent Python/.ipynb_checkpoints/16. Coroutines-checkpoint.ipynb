{
 "cells": [
  {
   "cell_type": "markdown",
   "metadata": {
    "toc": true
   },
   "source": [
    "<h1>Table of Contents<span class=\"tocSkip\"></span></h1>\n",
    "<div class=\"toc\"><ul class=\"toc-item\"><li><span><a href=\"#协程及其执行过程\" data-toc-modified-id=\"协程及其执行过程-1\"><span class=\"toc-item-num\">1&nbsp;&nbsp;</span>协程及其执行过程</a></span></li><li><span><a href=\"#例子:-用协程实现-Running-Average\" data-toc-modified-id=\"例子:-用协程实现-Running-Average-2\"><span class=\"toc-item-num\">2&nbsp;&nbsp;</span>例子: 用协程实现 Running Average</a></span></li><li><span><a href=\"#用装饰器激活协程函数\" data-toc-modified-id=\"用装饰器激活协程函数-3\"><span class=\"toc-item-num\">3&nbsp;&nbsp;</span>用装饰器激活协程函数</a></span></li><li><span><a href=\"#协程的异常处理\" data-toc-modified-id=\"协程的异常处理-4\"><span class=\"toc-item-num\">4&nbsp;&nbsp;</span>协程的异常处理</a></span></li><li><span><a href=\"#协程的返回值\" data-toc-modified-id=\"协程的返回值-5\"><span class=\"toc-item-num\">5&nbsp;&nbsp;</span>协程的返回值</a></span></li><li><span><a href=\"#yield-from\" data-toc-modified-id=\"yield-from-6\"><span class=\"toc-item-num\">6&nbsp;&nbsp;</span>yield from</a></span></li></ul></div>"
   ]
  },
  {
   "cell_type": "markdown",
   "metadata": {},
   "source": [
    "###### 协程及其执行过程"
   ]
  },
  {
   "cell_type": "markdown",
   "metadata": {},
   "source": [
    "在生成器协程中:\n",
    "\n",
    "```python\n",
    "SEND = yield RECEIVE\n",
    "```\n",
    "\n",
    "它就成了协程.\n",
    "注意:\n",
    "\n",
    "1. The value of `SEND` will only be set when the coroutine is activated later by the client code.\n",
    "2. 协程退出时会抛出StopIteration异常"
   ]
  },
  {
   "cell_type": "code",
   "execution_count": 3,
   "metadata": {
    "ExecuteTime": {
     "end_time": "2019-07-03T06:56:10.884559Z",
     "start_time": "2019-07-03T06:56:10.881356Z"
    }
   },
   "outputs": [],
   "source": [
    "def simple_coroutine():\n",
    "    print('开始协程')\n",
    "    x = yield 3\n",
    "    print('协程中止')\n",
    "\n",
    "\n",
    "my_cro = simple_coroutine()\n",
    "#激活生成函数, 函数运行到 `x = yield 3` 处阻塞\n",
    "my_cro.send(None)\n",
    "#给生成器发送值到x, 并且接受 生成器 yield的值\n",
    "try:\n",
    "    print('从协程中得到, ', my_cro.send(42))\n",
    "except StopIteration as e:\n",
    "    pass"
   ]
  },
  {
   "cell_type": "markdown",
   "metadata": {},
   "source": [
    "<center>协程的执行过程</center>\n",
    "    \n",
    "![协程流程](img/16_1.png)"
   ]
  },
  {
   "cell_type": "code",
   "execution_count": 12,
   "metadata": {
    "ExecuteTime": {
     "end_time": "2019-07-03T07:17:37.662679Z",
     "start_time": "2019-07-03T07:17:37.655132Z"
    }
   },
   "outputs": [
    {
     "name": "stdout",
     "output_type": "stream",
     "text": [
      "协程开始: a= 14\n",
      "协程返回 14\n",
      "协程接受: b= 28\n",
      "协程返回 42\n",
      "协程接受: c= 99\n"
     ]
    }
   ],
   "source": [
    "def simple_coro2(a):\n",
    "    print('协程开始: a=', a)\n",
    "    b = yield a\n",
    "    print('协程接受: b=', b)\n",
    "    c = yield a + b\n",
    "    print('协程接受: c=', c)\n",
    "\n",
    "\n",
    "my_coro2 = simple_coro2(14)\n",
    "\n",
    "print('协程返回', my_coro2.send(None))\n",
    "\n",
    "print('协程返回', my_coro2.send(28))\n",
    "\n",
    "try:\n",
    "    my_coro2.send(99)\n",
    "except StopIteration as e:\n",
    "    pass"
   ]
  },
  {
   "cell_type": "markdown",
   "metadata": {},
   "source": [
    "###### 例子: 用协程实现 Running Average"
   ]
  },
  {
   "cell_type": "code",
   "execution_count": 19,
   "metadata": {
    "ExecuteTime": {
     "end_time": "2019-07-03T07:41:33.744489Z",
     "start_time": "2019-07-03T07:41:33.740632Z"
    }
   },
   "outputs": [],
   "source": [
    "def averager():\n",
    "    total = 0.0\n",
    "    count = 0\n",
    "    average = None\n",
    "    while True:\n",
    "        try:\n",
    "            term = yield average\n",
    "        except GeneratorExit:\n",
    "            break\n",
    "        else:\n",
    "            total += term\n",
    "            count += 1\n",
    "            average = total/count"
   ]
  },
  {
   "cell_type": "code",
   "execution_count": 20,
   "metadata": {
    "ExecuteTime": {
     "end_time": "2019-07-03T07:41:34.144039Z",
     "start_time": "2019-07-03T07:41:34.140034Z"
    }
   },
   "outputs": [
    {
     "name": "stdout",
     "output_type": "stream",
     "text": [
      "第1次协程的返回值: None\n",
      "第2次协程的返回值: 1.0\n",
      "第3次协程的返回值: 1.5\n",
      "第4次协程的返回值: 2.0\n",
      "第5次协程的返回值: 2.5\n",
      "第6次协程的返回值: 3.0\n",
      "第7次协程的返回值: 3.5\n",
      "第8次协程的返回值: 4.0\n",
      "第9次协程的返回值: 4.5\n",
      "第10次协程的返回值: 5.0\n",
      "协程关闭时的返回值: None\n"
     ]
    }
   ],
   "source": [
    "coro_avg = averager()\n",
    "item_list = [None, 1, 2, 3, 4, 5, 6, 7, 8, 9]\n",
    "for i, item in enumerate(item_list):\n",
    "    print(f'第{i+1}次协程的返回值: {coro_avg.send(item)}')\n",
    "print(f'协程关闭时的返回值: {coro_avg.close()}')"
   ]
  },
  {
   "cell_type": "markdown",
   "metadata": {},
   "source": [
    "###### 用装饰器激活协程函数\n",
    "用装饰器完成协程的激活"
   ]
  },
  {
   "cell_type": "code",
   "execution_count": 21,
   "metadata": {
    "ExecuteTime": {
     "end_time": "2019-07-03T07:49:30.455083Z",
     "start_time": "2019-07-03T07:49:30.452304Z"
    }
   },
   "outputs": [],
   "source": [
    "from functools import wraps\n",
    "\n",
    "def coroutine(func):\n",
    "    \"\"\"自己实现的装饰器函数, 完成协程函数的激活\n",
    "    \"\"\"\n",
    "    @wraps(func)\n",
    "    def primer(*args, **kwargs):\n",
    "        gen = func(*args, **kwargs)\n",
    "        gen.send(None)\n",
    "        return gen\n",
    "    return primer"
   ]
  },
  {
   "cell_type": "markdown",
   "metadata": {},
   "source": [
    "###### 协程的异常处理\n",
    "\n",
    "```python\n",
    "generator.throw(exc_type[, exc_value[, traceback]])\n",
    "```\n",
    "在协程函数挂起的yield表达式处抛出相应的异常.\n",
    "\n",
    "1. 如果生成器处理了这个异常, 那么执行流推进到下一个yield语句中, 且yield生成的值就作为generator.throw的返回值\n",
    "2. 如果生成器没有处理异常, 异常向上冒泡, 生成器关闭\n",
    "\n",
    "```python\n",
    "generator.close()\n",
    "```\n",
    "在协程函数挂起的yield表达式处抛出**GeneratorExit**异常.\n",
    "\n",
    "1. 如果生成器不处理**GeneratorExit**异常, 那么该异常不会报告给调用者\n",
    "2. 如果生成器显式的处理了上述的异常, 那么生成器必须不再yield value, 否则会抛出RuntimeError异常. 生成器的任何其他异常都会冒泡给调用者"
   ]
  },
  {
   "cell_type": "code",
   "execution_count": 34,
   "metadata": {
    "ExecuteTime": {
     "end_time": "2019-07-03T08:37:35.751003Z",
     "start_time": "2019-07-03T08:37:35.744102Z"
    }
   },
   "outputs": [
    {
     "name": "stdout",
     "output_type": "stream",
     "text": [
      "协程开始\n",
      "接收到:  233\n",
      "如果没有发生异常, 生成的值为: 233\n",
      "如果发生了异常, 生成的值为:\n",
      "\n"
     ]
    },
    {
     "data": {
      "text/plain": [
       "234"
      ]
     },
     "execution_count": 34,
     "metadata": {},
     "output_type": "execute_result"
    }
   ],
   "source": [
    "class DemoException(Exception):\n",
    "    pass\n",
    "\n",
    "def demo_exc_handling():\n",
    "    print('协程开始')\n",
    "    x = yield \n",
    "    print('接收到: ', x)\n",
    "    try:\n",
    "        ## print('如果没有发生异常, 生成的值为:\\n')\n",
    "        y = yield x\n",
    "    except DemoException:\n",
    "        print('如果没有发生异常, 生成的值为: {0}\\n'\n",
    "              '如果发生了异常, 生成的值为:\\n'.format(x))   \n",
    "    yield (x + 1)\n",
    "    z = yield x\n",
    "\n",
    "\n",
    "exc_coro = demo_exc_handling()\n",
    "\n",
    "exc_coro.send(None)\n",
    "\n",
    "exc_coro.send(233)\n",
    "\n",
    "exc_coro.throw(DemoException)"
   ]
  },
  {
   "cell_type": "markdown",
   "metadata": {},
   "source": [
    "###### 协程的返回值\n",
    "\n",
    "1. 为了得到协程函数返回值, 我们不能调用它的close方法; 需要传递一个自己定义好的终止符作为循环终止的flag.\n",
    "2. 协程的返回值放在**StopIteration**的value属性里(协程正常退出时一定会抛出StopIteration异常给调用方)."
   ]
  },
  {
   "cell_type": "code",
   "execution_count": 38,
   "metadata": {
    "ExecuteTime": {
     "end_time": "2019-07-03T08:49:58.367737Z",
     "start_time": "2019-07-03T08:49:58.364169Z"
    }
   },
   "outputs": [],
   "source": [
    "GEN_END = 'end'\n",
    "def averager_with_return():\n",
    "    total = 0.0\n",
    "    count = 0\n",
    "    average = None\n",
    "    while True:\n",
    "        term = yield average   \n",
    "        #加入生成器终止的条件\n",
    "        if term == GEN_END:\n",
    "            return (count, average)        \n",
    "        total += term\n",
    "        count += 1\n",
    "        average = total / count               "
   ]
  },
  {
   "cell_type": "code",
   "execution_count": 40,
   "metadata": {
    "ExecuteTime": {
     "end_time": "2019-07-03T08:52:51.652514Z",
     "start_time": "2019-07-03T08:52:51.648082Z"
    }
   },
   "outputs": [
    {
     "name": "stdout",
     "output_type": "stream",
     "text": [
      "第1次协程的返回值: None\n",
      "第2次协程的返回值: 1.0\n",
      "第3次协程的返回值: 1.5\n",
      "第4次协程的返回值: 2.0\n",
      "第5次协程的返回值: 2.5\n",
      "第6次协程的返回值: 3.0\n",
      "协程关闭时的返回值: (5, 3.0)\n"
     ]
    }
   ],
   "source": [
    "coro_avg = averager_with_return()\n",
    "item_list = [None, 1, 2, 3, 4, 5, GEN_END]\n",
    "for i, item in enumerate(item_list):\n",
    "    try:\n",
    "        print(f'第{i+1}次协程的返回值: {coro_avg.send(item)}')\n",
    "    except StopIteration as e:\n",
    "        print(f'协程关闭时的返回值: {e.value}')"
   ]
  },
  {
   "cell_type": "markdown",
   "metadata": {},
   "source": [
    "###### yield from"
   ]
  },
  {
   "cell_type": "code",
   "execution_count": 43,
   "metadata": {
    "ExecuteTime": {
     "end_time": "2019-07-03T08:56:51.450100Z",
     "start_time": "2019-07-03T08:56:51.447087Z"
    }
   },
   "outputs": [
    {
     "name": "stdout",
     "output_type": "stream",
     "text": [
      "[range(1, 3), 1, 2]\n"
     ]
    }
   ],
   "source": [
    "#yield 和 yield from的区别\n",
    "def gen():\n",
    "    yield range(1, 3)\n",
    "    yield from range(1, 3)\n",
    "\n",
    "print(list(gen()))"
   ]
  },
  {
   "cell_type": "code",
   "execution_count": null,
   "metadata": {},
   "outputs": [],
   "source": []
  }
 ],
 "metadata": {
  "kernelspec": {
   "display_name": "Python 3",
   "language": "python",
   "name": "python3"
  },
  "language_info": {
   "codemirror_mode": {
    "name": "ipython",
    "version": 3
   },
   "file_extension": ".py",
   "mimetype": "text/x-python",
   "name": "python",
   "nbconvert_exporter": "python",
   "pygments_lexer": "ipython3",
   "version": "3.6.7"
  },
  "toc": {
   "base_numbering": 1,
   "nav_menu": {},
   "number_sections": true,
   "sideBar": true,
   "skip_h1_title": true,
   "title_cell": "Table of Contents",
   "title_sidebar": "Contents",
   "toc_cell": true,
   "toc_position": {},
   "toc_section_display": true,
   "toc_window_display": false
  }
 },
 "nbformat": 4,
 "nbformat_minor": 2
}
