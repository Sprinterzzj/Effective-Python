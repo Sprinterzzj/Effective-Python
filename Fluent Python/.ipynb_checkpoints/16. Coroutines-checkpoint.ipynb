{
 "cells": [
  {
   "cell_type": "markdown",
   "metadata": {
    "toc": true
   },
   "source": [
    "<h1>Table of Contents<span class=\"tocSkip\"></span></h1>\n",
    "<div class=\"toc\"><ul class=\"toc-item\"><li><span><a href=\"#协程及其执行过程\" data-toc-modified-id=\"协程及其执行过程-1\"><span class=\"toc-item-num\">1&nbsp;&nbsp;</span>协程及其执行过程</a></span><ul class=\"toc-item\"><li><span><a href=\"#例子:-用协程实现-Running-Average\" data-toc-modified-id=\"例子:-用协程实现-Running-Average-1.1\"><span class=\"toc-item-num\">1.1&nbsp;&nbsp;</span>例子: 用协程实现 Running Average</a></span></li><li><span><a href=\"#用装饰器激活协程函数\" data-toc-modified-id=\"用装饰器激活协程函数-1.2\"><span class=\"toc-item-num\">1.2&nbsp;&nbsp;</span>用装饰器激活协程函数</a></span></li><li><span><a href=\"#协程的异常处理\" data-toc-modified-id=\"协程的异常处理-1.3\"><span class=\"toc-item-num\">1.3&nbsp;&nbsp;</span>协程的异常处理</a></span></li><li><span><a href=\"#协程的返回值\" data-toc-modified-id=\"协程的返回值-1.4\"><span class=\"toc-item-num\">1.4&nbsp;&nbsp;</span>协程的返回值</a></span></li></ul></li><li><span><a href=\"#yield-from\" data-toc-modified-id=\"yield-from-2\"><span class=\"toc-item-num\">2&nbsp;&nbsp;</span>yield from</a></span><ul class=\"toc-item\"><li><span><a href=\"#yield-from-的使用\" data-toc-modified-id=\"yield-from-的使用-2.1\"><span class=\"toc-item-num\">2.1&nbsp;&nbsp;</span>yield from 的使用</a></span></li></ul></li><li><span><a href=\"#yield-from-的含义\" data-toc-modified-id=\"yield-from-的含义-3\"><span class=\"toc-item-num\">3&nbsp;&nbsp;</span>yield from 的含义</a></span><ul class=\"toc-item\"><li><span><a href=\"#一个简化的情形\" data-toc-modified-id=\"一个简化的情形-3.1\"><span class=\"toc-item-num\">3.1&nbsp;&nbsp;</span>一个简化的情形</a></span></li><li><span><a href=\"#较为真实的情形\" data-toc-modified-id=\"较为真实的情形-3.2\"><span class=\"toc-item-num\">3.2&nbsp;&nbsp;</span>较为真实的情形</a></span></li></ul></li><li><span><a href=\"#Use-Case:-离散事件模拟---出租车模拟\" data-toc-modified-id=\"Use-Case:-离散事件模拟---出租车模拟-4\"><span class=\"toc-item-num\">4&nbsp;&nbsp;</span>Use Case: 离散事件模拟-- 出租车模拟</a></span></li></ul></div>"
   ]
  },
  {
   "cell_type": "markdown",
   "metadata": {},
   "source": [
    "##### 协程及其执行过程"
   ]
  },
  {
   "cell_type": "markdown",
   "metadata": {},
   "source": [
    "在生成器协程中:\n",
    "\n",
    "```python\n",
    "SEND = yield RECEIVE\n",
    "```\n",
    "\n",
    "它就成了协程.\n",
    "注意:\n",
    "\n",
    "1. The value of `SEND` will only be set when the coroutine is activated later by the client code.\n",
    "2. 协程退出时会抛出StopIteration异常"
   ]
  },
  {
   "cell_type": "code",
   "execution_count": 3,
   "metadata": {
    "ExecuteTime": {
     "end_time": "2019-07-03T06:56:10.884559Z",
     "start_time": "2019-07-03T06:56:10.881356Z"
    }
   },
   "outputs": [],
   "source": [
    "def simple_coroutine():\n",
    "    print('开始协程')\n",
    "    x = yield 3\n",
    "    print('协程中止')\n",
    "\n",
    "\n",
    "my_cro = simple_coroutine()\n",
    "#激活生成函数, 函数运行到 `x = yield 3` 处阻塞\n",
    "my_cro.send(None)\n",
    "#给生成器发送值到x, 并且接受 生成器 yield的值\n",
    "try:\n",
    "    print('从协程中得到, ', my_cro.send(42))\n",
    "except StopIteration as e:\n",
    "    pass"
   ]
  },
  {
   "cell_type": "markdown",
   "metadata": {},
   "source": [
    "<center>协程的执行过程</center>\n",
    "    \n",
    "![协程流程](img/16_1.png)"
   ]
  },
  {
   "cell_type": "code",
   "execution_count": 12,
   "metadata": {
    "ExecuteTime": {
     "end_time": "2019-07-03T07:17:37.662679Z",
     "start_time": "2019-07-03T07:17:37.655132Z"
    }
   },
   "outputs": [
    {
     "name": "stdout",
     "output_type": "stream",
     "text": [
      "协程开始: a= 14\n",
      "协程返回 14\n",
      "协程接受: b= 28\n",
      "协程返回 42\n",
      "协程接受: c= 99\n"
     ]
    }
   ],
   "source": [
    "def simple_coro2(a):\n",
    "    print('协程开始: a=', a)\n",
    "    b = yield a\n",
    "    print('协程接受: b=', b)\n",
    "    c = yield a + b\n",
    "    print('协程接受: c=', c)\n",
    "\n",
    "\n",
    "my_coro2 = simple_coro2(14)\n",
    "\n",
    "print('协程返回', my_coro2.send(None))\n",
    "\n",
    "print('协程返回', my_coro2.send(28))\n",
    "\n",
    "try:\n",
    "    my_coro2.send(99)\n",
    "except StopIteration as e:\n",
    "    pass"
   ]
  },
  {
   "cell_type": "markdown",
   "metadata": {},
   "source": [
    "###### 例子: 用协程实现 Running Average"
   ]
  },
  {
   "cell_type": "code",
   "execution_count": 19,
   "metadata": {
    "ExecuteTime": {
     "end_time": "2019-07-03T07:41:33.744489Z",
     "start_time": "2019-07-03T07:41:33.740632Z"
    }
   },
   "outputs": [],
   "source": [
    "def averager():\n",
    "    total = 0.0\n",
    "    count = 0\n",
    "    average = None\n",
    "    while True:\n",
    "        try:\n",
    "            term = yield average\n",
    "        except GeneratorExit:\n",
    "            break\n",
    "        else:\n",
    "            total += term\n",
    "            count += 1\n",
    "            average = total/count"
   ]
  },
  {
   "cell_type": "code",
   "execution_count": 20,
   "metadata": {
    "ExecuteTime": {
     "end_time": "2019-07-03T07:41:34.144039Z",
     "start_time": "2019-07-03T07:41:34.140034Z"
    }
   },
   "outputs": [
    {
     "name": "stdout",
     "output_type": "stream",
     "text": [
      "第1次协程的返回值: None\n",
      "第2次协程的返回值: 1.0\n",
      "第3次协程的返回值: 1.5\n",
      "第4次协程的返回值: 2.0\n",
      "第5次协程的返回值: 2.5\n",
      "第6次协程的返回值: 3.0\n",
      "第7次协程的返回值: 3.5\n",
      "第8次协程的返回值: 4.0\n",
      "第9次协程的返回值: 4.5\n",
      "第10次协程的返回值: 5.0\n",
      "协程关闭时的返回值: None\n"
     ]
    }
   ],
   "source": [
    "coro_avg = averager()\n",
    "item_list = [None, 1, 2, 3, 4, 5, 6, 7, 8, 9]\n",
    "for i, item in enumerate(item_list):\n",
    "    print(f'第{i+1}次协程的返回值: {coro_avg.send(item)}')\n",
    "print(f'协程关闭时的返回值: {coro_avg.close()}')"
   ]
  },
  {
   "cell_type": "markdown",
   "metadata": {},
   "source": [
    "###### 用装饰器激活协程函数\n",
    "用装饰器完成协程的激活"
   ]
  },
  {
   "cell_type": "code",
   "execution_count": 21,
   "metadata": {
    "ExecuteTime": {
     "end_time": "2019-07-03T07:49:30.455083Z",
     "start_time": "2019-07-03T07:49:30.452304Z"
    }
   },
   "outputs": [],
   "source": [
    "from functools import wraps\n",
    "\n",
    "def coroutine(func):\n",
    "    \"\"\"自己实现的装饰器函数, 完成协程函数的激活\n",
    "    \"\"\"\n",
    "    @wraps(func)\n",
    "    def primer(*args, **kwargs):\n",
    "        gen = func(*args, **kwargs)\n",
    "        gen.send(None)\n",
    "        return gen\n",
    "    return primer"
   ]
  },
  {
   "cell_type": "markdown",
   "metadata": {},
   "source": [
    "###### 协程的异常处理\n",
    "\n",
    "```python\n",
    "generator.throw(exc_type[, exc_value[, traceback]])\n",
    "```\n",
    "在协程函数挂起的yield表达式处抛出相应的异常.\n",
    "\n",
    "1. 如果生成器处理了这个异常, 那么执行流推进到下一个yield语句中, 且yield生成的值就作为generator.throw的返回值\n",
    "2. 如果生成器没有处理异常, 异常向上冒泡, 生成器关闭\n",
    "\n",
    "```python\n",
    "generator.close()\n",
    "```\n",
    "在协程函数挂起的yield表达式处抛出**GeneratorExit**异常.\n",
    "\n",
    "1. 如果生成器不处理**GeneratorExit**异常, 那么该异常不会报告给调用者\n",
    "2. 如果生成器显式的处理了上述的异常, 那么生成器必须不再yield value, 否则会抛出RuntimeError异常. 生成器的任何其他异常都会冒泡给调用者"
   ]
  },
  {
   "cell_type": "code",
   "execution_count": 34,
   "metadata": {
    "ExecuteTime": {
     "end_time": "2019-07-03T08:37:35.751003Z",
     "start_time": "2019-07-03T08:37:35.744102Z"
    }
   },
   "outputs": [
    {
     "name": "stdout",
     "output_type": "stream",
     "text": [
      "协程开始\n",
      "接收到:  233\n",
      "如果没有发生异常, 生成的值为: 233\n",
      "如果发生了异常, 生成的值为:\n",
      "\n"
     ]
    },
    {
     "data": {
      "text/plain": [
       "234"
      ]
     },
     "execution_count": 34,
     "metadata": {},
     "output_type": "execute_result"
    }
   ],
   "source": [
    "class DemoException(Exception):\n",
    "    pass\n",
    "\n",
    "def demo_exc_handling():\n",
    "    print('协程开始')\n",
    "    x = yield \n",
    "    print('接收到: ', x)\n",
    "    try:\n",
    "        ## print('如果没有发生异常, 生成的值为:\\n')\n",
    "        y = yield x\n",
    "    except DemoException:\n",
    "        print('如果没有发生异常, 生成的值为: {0}\\n'\n",
    "              '如果发生了异常, 生成的值为:\\n'.format(x))   \n",
    "    yield (x + 1)\n",
    "    z = yield x\n",
    "\n",
    "\n",
    "exc_coro = demo_exc_handling()\n",
    "\n",
    "exc_coro.send(None)\n",
    "\n",
    "exc_coro.send(233)\n",
    "\n",
    "exc_coro.throw(DemoException)"
   ]
  },
  {
   "cell_type": "markdown",
   "metadata": {},
   "source": [
    "###### 协程的返回值\n",
    "\n",
    "1. 为了得到协程函数返回值, 我们不能调用它的close方法; 需要传递一个自己定义好的终止符作为循环终止的flag.\n",
    "2. 协程的返回值放在**StopIteration**的value属性里(协程正常退出时一定会抛出StopIteration异常给调用方)."
   ]
  },
  {
   "cell_type": "code",
   "execution_count": 38,
   "metadata": {
    "ExecuteTime": {
     "end_time": "2019-07-03T08:49:58.367737Z",
     "start_time": "2019-07-03T08:49:58.364169Z"
    }
   },
   "outputs": [],
   "source": [
    "GEN_END = 'end'\n",
    "def averager_with_return():\n",
    "    total = 0.0\n",
    "    count = 0\n",
    "    average = None\n",
    "    while True:\n",
    "        term = yield average   \n",
    "        #加入生成器终止的条件\n",
    "        if term == GEN_END:\n",
    "            return (count, average)        \n",
    "        total += term\n",
    "        count += 1\n",
    "        average = total / count               "
   ]
  },
  {
   "cell_type": "code",
   "execution_count": 40,
   "metadata": {
    "ExecuteTime": {
     "end_time": "2019-07-03T08:52:51.652514Z",
     "start_time": "2019-07-03T08:52:51.648082Z"
    }
   },
   "outputs": [
    {
     "name": "stdout",
     "output_type": "stream",
     "text": [
      "第1次协程的返回值: None\n",
      "第2次协程的返回值: 1.0\n",
      "第3次协程的返回值: 1.5\n",
      "第4次协程的返回值: 2.0\n",
      "第5次协程的返回值: 2.5\n",
      "第6次协程的返回值: 3.0\n",
      "协程关闭时的返回值: (5, 3.0)\n"
     ]
    }
   ],
   "source": [
    "coro_avg = averager_with_return()\n",
    "item_list = [None, 1, 2, 3, 4, 5, GEN_END]\n",
    "for i, item in enumerate(item_list):\n",
    "    try:\n",
    "        print(f'第{i+1}次协程的返回值: {coro_avg.send(item)}')\n",
    "    except StopIteration as e:\n",
    "        print(f'协程关闭时的返回值: {e.value}')"
   ]
  },
  {
   "cell_type": "markdown",
   "metadata": {},
   "source": [
    "##### yield from"
   ]
  },
  {
   "cell_type": "code",
   "execution_count": 43,
   "metadata": {
    "ExecuteTime": {
     "end_time": "2019-07-03T08:56:51.450100Z",
     "start_time": "2019-07-03T08:56:51.447087Z"
    }
   },
   "outputs": [
    {
     "name": "stdout",
     "output_type": "stream",
     "text": [
      "[range(1, 3), 1, 2]\n"
     ]
    }
   ],
   "source": [
    "#yield 和 yield from的区别\n",
    "def gen():\n",
    "    yield range(1, 3)\n",
    "    yield from range(1, 3)\n",
    "\n",
    "print(list(gen()))"
   ]
  },
  {
   "cell_type": "markdown",
   "metadata": {},
   "source": [
    "我们可以用 yield from 来模拟 chain 方法:"
   ]
  },
  {
   "cell_type": "code",
   "execution_count": 1,
   "metadata": {
    "ExecuteTime": {
     "end_time": "2019-07-07T07:07:29.876273Z",
     "start_time": "2019-07-07T07:07:29.873870Z"
    }
   },
   "outputs": [],
   "source": [
    "def cahin(*iterables):\n",
    "    for it in iterables:\n",
    "        yield from it"
   ]
  },
  {
   "cell_type": "markdown",
   "metadata": {},
   "source": [
    "###### yield from 的使用\n",
    "一些概念:\n",
    "\n",
    "1. 委托生成器: 包含了\n",
    "```python \n",
    "yield from <iterable>```\n",
    "语句的生成器函数\n",
    "2. 子生成器函数: 上面语句右边的生成器函数\n",
    "3. 调用者: 调用委托生成器的函数\n",
    "\n",
    "来看下面的例子:"
   ]
  },
  {
   "cell_type": "code",
   "execution_count": 3,
   "metadata": {
    "ExecuteTime": {
     "end_time": "2019-07-07T07:42:26.198608Z",
     "start_time": "2019-07-07T07:42:26.192274Z"
    }
   },
   "outputs": [],
   "source": [
    "from collections import namedtuple\n",
    "Result = namedtuple('Result', 'count average')\n",
    "\n",
    "#子生成器函数, 统计货物的数目并计算均值\n",
    "def averager():\n",
    "    total = 0.0\n",
    "    count = 0.0\n",
    "    average = None\n",
    "    while True:\n",
    "        term  = yield\n",
    "        #循环终止的条件\n",
    "        if term is None:\n",
    "            break\n",
    "        total += term\n",
    "        count += 1\n",
    "        average = total/count\n",
    "    return Result(count, average)\n",
    "\n",
    "#委托生成器函数\n",
    "def grouper(results, key):\n",
    "    \"\"\"当send给 grouper值时, 它将值传递给子生成器然后挂起,\n",
    "    该值对grouper是不可见的.\n",
    "    \"\"\"\n",
    "    while True:\n",
    "        results[key] = yield from averager()\n",
    "\n",
    "#客户端函数, 也就是调用者\n",
    "def main(data):\n",
    "    results = {}\n",
    "    for key, values in data.items():\n",
    "        #创建委托生成器\n",
    "        #上一次循环中的委托生成器以及子生成器都被回收\n",
    "        group = grouper(results, key)\n",
    "        #激活子生成器\n",
    "        group.send(None)\n",
    "        for value in values:\n",
    "            group.send(value)\n",
    "        #重要: 终止子生成器, 子生成器抛出StopIteration异常, \n",
    "        #子生成器的返回值是该异常的第一个参数, yield from\n",
    "        #自动处理异常并且把返回值赋值给 yield from 等号左边\n",
    "        group.send(None)\n",
    "    print(results)"
   ]
  },
  {
   "cell_type": "code",
   "execution_count": 6,
   "metadata": {
    "ExecuteTime": {
     "end_time": "2019-07-07T07:45:25.631024Z",
     "start_time": "2019-07-07T07:45:25.625380Z"
    }
   },
   "outputs": [
    {
     "name": "stdout",
     "output_type": "stream",
     "text": [
      "{'girls;kg': Result(count=10.0, average=42.040000000000006), 'girls;m': Result(count=10.0, average=1.4279999999999997), 'boys;kg': Result(count=9.0, average=40.422222222222224), 'boys;m': Result(count=9.0, average=1.3888888888888888)}\n"
     ]
    }
   ],
   "source": [
    "def report(results):\n",
    "    for key, result in sorted(results.items()):\n",
    "        group, unit = key.split(';')\n",
    "        print('{:2} {:5} averaging {:.2f}{}'.format(\n",
    "            result.count, group, result.average, unit))\n",
    "\n",
    "data = {\n",
    "    'girls;kg': [40.9, 38.5, 44.3, 42.2, 45.2, 41.7, 44.5, 38.0, 40.6, 44.5],     \n",
    "    'girls;m':  [1.6, 1.51, 1.4, 1.3, 1.41, 1.39, 1.33, 1.46, 1.45, 1.43],     \n",
    "    'boys;kg':  [39.0, 40.8, 43.2, 40.8, 43.1, 38.6, 41.4, 40.6, 36.3],     \n",
    "    'boys;m':   [1.38, 1.5, 1.32, 1.25, 1.37, 1.48, 1.25, 1.49, 1.46]\n",
    "}\n",
    "\n",
    "main(data)"
   ]
  },
  {
   "cell_type": "markdown",
   "metadata": {
    "ExecuteTime": {
     "end_time": "2019-07-07T07:52:51.841109Z",
     "start_time": "2019-07-07T07:52:51.837911Z"
    }
   },
   "source": [
    "<center>上面的协程函数总结如下:</center>\n",
    "\n",
    "![示例](img/16_2.png)"
   ]
  },
  {
   "cell_type": "markdown",
   "metadata": {},
   "source": [
    "##### yield from 的含义 \n",
    "```python\n",
    "RESULT = yield from EXPR\n",
    "```\n",
    "\n",
    "<center> yield from 内部做了以下4件事:</center>\n",
    "\n",
    "1. 子生成器 yield 的任何值都被直接传送给调用委托生成器的函数, 也就是调用者\n",
    "2. 调用委托生成器send 方法传送给委托生成器的任何值都被直接发送给子生成器:\n",
    "        2.1 如果发送的值是None, 那么调用子生成器的next方法\n",
    "        2.2 如果发送的值不是None, 那么调用子生成器的send方法\n",
    "        2.3 如果调用子生成器的 send方法抛出了 StopIteration异常, 那么委托生成器结束挂起.\n",
    "        2.4 任何其他异常都会范递给委托生成器\n",
    "3. 在生成器中的 return expr 语句会抛出 StopIteration(expr) 异常\n",
    "4. 由 3, yield from 的返回值是 StopIteration 的第一个参数\n",
    "\n",
    "<center> yield from 还需要做关于异常处理的事 </center>\n",
    "\n",
    "1. 如果 GeneratorExit 抛入到委托生成器中, 或者调用了委托生成器的 close 方法;那么如果子生成器有 close方法, 就调用子生成器的close方法. 如果调用子生成器的close方法抛出了异常, 异常传递给委托生成器; 如果没有抛出异常, 那么在委托生成器中抛出 GeneratorExit.\n",
    "2. 如果其他异常被抛给委托生成器, 那么调用子生成器的 throw 方法将异常抛给子生成器. 如果调用用子生成器的 throw 方法抛出了StopIteration异常, 那么委托生成器结束挂起; 如果抛出了其他异常, 那么异常传递给委托生成器."
   ]
  },
  {
   "cell_type": "markdown",
   "metadata": {},
   "source": [
    "###### 一个简化的情形\n",
    "**首先做几点假设**:\n",
    "1. 调用方不会调用委托生成器的 throw 和 close 方法\n",
    "2. 子生成器顺利运行直到抛出 StopIteration 异常\n",
    "\n",
    "下面的伪代码 与 \n",
    "```python\n",
    "RESULT = yield from EXPR\n",
    "```\n",
    "等效.\n",
    "```python\n",
    "_i = iter(EXPR) #1\n",
    "try:\n",
    "    _y = next(_i) #2\n",
    "except StopIteration as _e:\n",
    "    _r = _e.value #3\n",
    "else:\n",
    "    while 1: #4\n",
    "        _s = yield _y #5\n",
    "        try:\n",
    "            _y = _i.send(_s) #6\n",
    "        except StopIteration as _e: #7\n",
    "            _r = _e.value\n",
    "            break\n",
    "RESULT = _r #8\n",
    "```\n",
    "\n",
    "下面逐行解释:\n",
    "\n",
    "1. EXPR 只需是 **可迭代的对象**, 而不必须是一个生成器, 因而调用 iter 方法得到一个迭代器 \\_i, 也就是子生成器.\n",
    "2. 激活子生成器, 并且取得子生成器的第一个值\n",
    "3. 如果激活子生成器时抛出了StopIteration异常, 那么从异常中取出结果\n",
    "4. 只要进入这一个While 循环, **委托生成器就挂起**, 这时委托生成器只是**调用者和子生成器之间的通道**\n",
    "5. 子生成器 yield \\_y 给 委托生成器; 调用者 send \\_s 给委托生成器\n",
    "6. 委托生成器尝试 调用子生成器的 send 方法, 把 \\_s 传送过去; 并且接受 子生成器的下一个值 \\_y\n",
    "7. 如果调用 子生成器的 send 方法时 抛出 StopIteration 异常, 就获得异常的第一个参数, 赋值给 \\_r, 然后中断循环, **委托生成器结束挂起**\n",
    "8. \\_r 的值赋值给 RESULT.\n"
   ]
  },
  {
   "cell_type": "markdown",
   "metadata": {},
   "source": [
    "###### 较为真实的情形"
   ]
  },
  {
   "cell_type": "markdown",
   "metadata": {},
   "source": [
    "实际中, 我们需要处理以下情形:\n",
    "\n",
    "1. 调用者可能调用 委托生成器的 close 和 throw 方法. 如果 子生成器没有 close 和 throw 方法(只是迭代器), 那么需要相应的处理; 如果子生成器支持 close 和 throw 方法, 那么需要再合适的地方 调用他们.\n",
    "2. 子生成器可能抛出自己的异常.\n",
    "3. 只有调用者调用 send 方法 传递 非None 值的时候才会调用子生成器的 send 方法\n",
    "\n",
    "这样伪代码变得更加复杂:\n",
    "```python\n",
    "_i = iter(EXPR) #1\n",
    "try:\n",
    "    _y = next(_i) #2\n",
    "except StopIteration as _e:\n",
    "    _r = _e.value #3\n",
    "else:\n",
    "    while 1: #4\n",
    "        try:\n",
    "            _s = yield _y #5\n",
    "        except GeneratorExit as _e: #6\n",
    "            try:\n",
    "                _m = _i.close\n",
    "            except AttributeError:\n",
    "                pass\n",
    "            else:\n",
    "                _m()\n",
    "            raise _e\n",
    "        except BaseException as _e: #7\n",
    "            _x = sys.exc_info()\n",
    "            try:\n",
    "                _m = _i.throw\n",
    "            except AttributeError:\n",
    "                raise _e\n",
    "            else: #8\n",
    "                try:\n",
    "                    _y = _m(*_x)\n",
    "                except StopIteration as _e:\n",
    "                    _r = _e.value\n",
    "                    break\n",
    "        else: #9\n",
    "            try: #10\n",
    "                if _s is None: #11\n",
    "                    _y = next(_i)\n",
    "                else:\n",
    "                    _y = _i.send(_s)\n",
    "            except StopIteration as _e: #12\n",
    "                _r = _e.value\n",
    "                break\n",
    "RESULT = _r #13\n",
    "```\n",
    "\n",
    "逐行解释:\n",
    "\n",
    "6. 调用者调用了委托生成器的close方法, 试子生成器有无close 方法分情况处理:\n",
    "        6.1 如果有 close方法, 就调用子生成器的close 方法\n",
    "        6.2 如果没有 close 方法, 在委托生成器中抛出异常 \n",
    "7. 调用者调用了委托生成器的 throw 方法, 同样子生成器可以没有 throw 方法.\n",
    "8. 如果子生成器有 throw 方法, 把来自调用者的异常传递给他, 此时:\n",
    "        8.1 子生成器处理了异常, 循环继续\n",
    "        8.2 子生成器抛出了 StopIteration 异常, 循环终止\n",
    "        8.3 子生成器也可能抛出除了 StopIteration 之外的异常, 那么异常抛给委托生成器\n",
    "9. 没有任何异常就开始 yield\n",
    "11. 如果调用者传递的值是None, 就调用子生成器的 next 方法.\n",
    "      "
   ]
  },
  {
   "cell_type": "markdown",
   "metadata": {},
   "source": [
    "##### Use Case: 离散事件模拟-- 出租车模拟"
   ]
  },
  {
   "cell_type": "code",
   "execution_count": 3,
   "metadata": {
    "ExecuteTime": {
     "end_time": "2019-07-12T00:31:10.002478Z",
     "start_time": "2019-07-12T00:31:09.997754Z"
    }
   },
   "outputs": [],
   "source": [
    "from collections import namedtuple\n",
    "Event = namedtuple('Event', ['time', 'proc', 'action'])"
   ]
  },
  {
   "cell_type": "code",
   "execution_count": 4,
   "metadata": {
    "ExecuteTime": {
     "end_time": "2019-07-12T00:31:10.473228Z",
     "start_time": "2019-07-12T00:31:10.468294Z"
    }
   },
   "outputs": [],
   "source": [
    "def taxi_process(ident, trips, start_time=0):\n",
    "    \"\"\"\n",
    "    模拟拟出租车运行的生成器函数\n",
    "    \n",
    "    Parameters\n",
    "    ----------\n",
    "    ident: 出租车 id\n",
    "    trips: 出租车每个工作日要完成的载客数\n",
    "    start_time: 出租车开始运行的时间\n",
    "    \"\"\"\n",
    "    time = yield Event(start_time, ident, '离开车站')\n",
    "    for i in range(trips):\n",
    "        time = yield Event(time, ident, '乘客上车')\n",
    "        time = yield Event(time, ident, '乘客下车')\n",
    "    yield Event(time, ident, '下班回家')\n",
    "    return"
   ]
  },
  {
   "cell_type": "code",
   "execution_count": 5,
   "metadata": {
    "ExecuteTime": {
     "end_time": "2019-07-12T00:31:11.114766Z",
     "start_time": "2019-07-12T00:31:11.106810Z"
    }
   },
   "outputs": [
    {
     "name": "stdout",
     "output_type": "stream",
     "text": [
      "Event(time=0, proc=13, action='离开车站')\n",
      "Event(time=1562891478.1109529, proc=13, action='乘客上车')\n",
      "Event(time=1562891494.1111019, proc=13, action='乘客下车')\n",
      "Event(time=1562891478.111207, proc=13, action='乘客上车')\n",
      "Event(time=1562891494.1113262, proc=13, action='乘客下车')\n",
      "Event(time=1562891481.1116245, proc=13, action='下班回家')\n",
      "生成器终止\n"
     ]
    }
   ],
   "source": [
    "#使用\n",
    "from time import time \n",
    "\n",
    "taxi = taxi_process(ident=13, trips=2, start_time=0)\n",
    "print(taxi.send(None))\n",
    "\n",
    "print(taxi.send(time() + 7))\n",
    "print(taxi.send(time() + 23))\n",
    "print(taxi.send(time() + 7))\n",
    "print(taxi.send(time() + 23))\n",
    "print(taxi.send(time() + 10))\n",
    "\n",
    "#最后生成器抛出异常\n",
    "try:\n",
    "    taxi.send(time() + 10)\n",
    "except StopIteration:\n",
    "    print('生成器终止')"
   ]
  },
  {
   "cell_type": "code",
   "execution_count": 13,
   "metadata": {
    "ExecuteTime": {
     "end_time": "2019-07-12T01:34:13.333238Z",
     "start_time": "2019-07-12T01:34:13.319302Z"
    }
   },
   "outputs": [],
   "source": [
    "from queue import PriorityQueue\n",
    "import time\n",
    "import random\n",
    "taxis = {0: taxi_process(ident=0, trips=2, start_time=0),\n",
    "         1: taxi_process(ident=1, trips=4, start_time=5),\n",
    "         2: taxi_process(ident=2, trips=6, start_time=10)\n",
    "        }\n",
    "\n",
    "DEFAULT_NUMBER_OF_TAXIS = 3\n",
    "DEFAULT_END_TIME = 180\n",
    "SEARCH_DURATION = 5\n",
    "TRIP_DURATION = 20\n",
    "DEPARTURE_INTERVAL = 5\n",
    "def compute_duration(previous_action):\n",
    "    \"\"\"基于指数分布计算时间\n",
    "    \"\"\"\n",
    "    if previous_action in ('离开车站', '乘客下车'):\n",
    "        interval = SEARCH_DURATION\n",
    "    elif previous_action == '乘客上车':\n",
    "        interval = TRIP_DURATION\n",
    "    elif previous_action == '下班回家':\n",
    "        interval = 1\n",
    "    else:\n",
    "        raise ValueErro\n",
    "    return int(random.expovariate(1/interval)) + 1\n",
    "\n",
    "class Simulator(object):\n",
    "    def __init__(self, procs_map):\n",
    "        \"\"\"\n",
    "        Parameters\n",
    "        ----------\n",
    "        procs_map: dict或map, key为出租车id, 是整数;\n",
    "        value为对应的生成器函数.\n",
    "        !!!注意: 出租车的 start_time 按照 key从小到大的顺序排列!!!\n",
    "        \"\"\"\n",
    "        # 优先队列, 默认按时间递增顺序储存事件,即:\n",
    "        # Event 对象中 time较小的排在队头.\n",
    "        self.events = PriorityQueue()\n",
    "        # 我们新建一个字典, 这样防止修改原字典,\n",
    "        # 这里的字典形如上面的 taxis,即\n",
    "        # key: taxis_id value: 生成器函数 taxi_process\n",
    "        self.procs = dict(procs_map)\n",
    "    def run(self, end_time, delay=False): #1\n",
    "        \"\"\"首先激活 procs 字典的每个生成器函数,\n",
    "        将每个生成器函数第一次yield的Event对象加入到优先队列\n",
    "        events中.\n",
    "        然后按时间先后运行events中的时间, 直到达到 end_time.\n",
    "        \"\"\"\n",
    "        for _, proc in sorted(self.procs.items()): #2\n",
    "            first_event = next(proc)\n",
    "            self.events.put(first_event) #4\n",
    "        \n",
    "        sim_time = 0 #5\n",
    "        while sim_time < end_time: #6\n",
    "            if self.events.empty(): #7\n",
    "                print('所有出租车运行终止.')\n",
    "                break\n",
    "                \n",
    "            current_event = self.events.get() #8\n",
    "            if delay:\n",
    "                time.sleep((current_event.time - sim_time) / 2)\n",
    "            sim_time, proc_id, previous_action = current_event #9\n",
    "            print('taxi: ', proc_id, proc_id * '  ', current_event) #10\n",
    "            active_proc = self.procs[proc_id] #11\n",
    "            next_time = sim_time + compute_duration(previous_action) #12\n",
    "            try:\n",
    "                next_event = active_proc.send(next_time) #13\n",
    "            except StopIteration:\n",
    "                del self.procs[proc_id] #14\n",
    "            else:\n",
    "                self.events.put(next_event) #15\n",
    "        \n",
    "        else:\n",
    "            msg = '***时间结束, 还有 {} 件事情没有完成.'\n",
    "            print(msg.format(self.events.qsize()))"
   ]
  },
  {
   "cell_type": "markdown",
   "metadata": {},
   "source": [
    "<center>逐行解释</center>\n",
    "\n",
    "2. 将 `procs` 字典按key大小排序, 这里的key是出租车编号\n",
    "3. 激活生成器, 并且使它 yield 第一个值(出租车离站的事件)\n",
    "4. 将3 yield 的第一个值 加到优先队列`events`中. 注意潜在的序关系: 编号靠前的出租车被优先加入, **它们的离站时间也是最早的**.\n",
    "5. sim\\_time 初始化为 0\n",
    "6. 当 sim\\_time 不小于 end\\_time 时终止循环\n",
    "7. 当 `events` 不再有事件时也终止循环\n",
    "8. 获得当前最近的事件\n",
    "9. tuple 解包, 获得当前事件的 time, proc, action. **并且更新 sim_\\time**.\n",
    "10. 打印当前事件\n",
    "11. 从`procs`字典中取出当前出租车(proc)的生成器函数\n",
    "12. 计算下个动作完成的时刻\n",
    "13. 将 12 中计算的时刻发送至当前出租车的生成器函数\n",
    "14. 如果生成器抛出了 StopIteration异常, 说明当前出租车已经回家了, 将**它从 `procs`中删除**.\n",
    "15. 如果生成器函数没有终止, 那么就将生成器发送的值(nect_event)加入到`event`.\n",
    "        优先队列`event`按照Event对象中的 time 大小来维护队列!!!"
   ]
  },
  {
   "cell_type": "code",
   "execution_count": 14,
   "metadata": {
    "ExecuteTime": {
     "end_time": "2019-07-12T01:34:14.742218Z",
     "start_time": "2019-07-12T01:34:14.736740Z"
    }
   },
   "outputs": [],
   "source": [
    "def main(end_time=DEFAULT_END_TIME, num_taxis=DEFAULT_NUMBER_OF_TAXIS,\n",
    "         seed=None, delay=False):\n",
    "    \"\"\"Initialize random generator, build procs and run simulation\"\"\"\n",
    "    if seed is not None:\n",
    "        random.seed(seed)  # get reproducible results\n",
    "\n",
    "    taxis = {i: taxi_process(i, (i+1)*2, i*DEPARTURE_INTERVAL)\n",
    "             for i in range(num_taxis)}\n",
    "    sim = Simulator(taxis)\n",
    "    sim.run(end_time, delay)"
   ]
  },
  {
   "cell_type": "code",
   "execution_count": 16,
   "metadata": {
    "ExecuteTime": {
     "end_time": "2019-07-12T01:36:27.875855Z",
     "start_time": "2019-07-12T01:34:57.182208Z"
    }
   },
   "outputs": [
    {
     "name": "stdout",
     "output_type": "stream",
     "text": [
      "taxi:  0  Event(time=0, proc=0, action='离开车站')\n",
      "taxi:  0  Event(time=1, proc=0, action='乘客上车')\n",
      "taxi:  1    Event(time=5, proc=1, action='离开车站')\n",
      "taxi:  1    Event(time=8, proc=1, action='乘客上车')\n",
      "taxi:  2      Event(time=10, proc=2, action='离开车站')\n",
      "taxi:  2      Event(time=13, proc=2, action='乘客上车')\n",
      "taxi:  2      Event(time=15, proc=2, action='乘客下车')\n",
      "taxi:  3        Event(time=15, proc=3, action='离开车站')\n",
      "taxi:  3        Event(time=17, proc=3, action='乘客上车')\n",
      "taxi:  2      Event(time=18, proc=2, action='乘客上车')\n",
      "taxi:  4          Event(time=20, proc=4, action='离开车站')\n",
      "taxi:  3        Event(time=22, proc=3, action='乘客下车')\n",
      "taxi:  3        Event(time=23, proc=3, action='乘客上车')\n",
      "taxi:  1    Event(time=24, proc=1, action='乘客下车')\n",
      "taxi:  0  Event(time=25, proc=0, action='乘客下车')\n",
      "taxi:  1    Event(time=25, proc=1, action='乘客上车')\n",
      "taxi:  5            Event(time=25, proc=5, action='离开车站')\n",
      "taxi:  0  Event(time=27, proc=0, action='乘客上车')\n",
      "taxi:  3        Event(time=27, proc=3, action='乘客下车')\n",
      "taxi:  0  Event(time=30, proc=0, action='乘客下车')\n",
      "taxi:  6              Event(time=30, proc=6, action='离开车站')\n",
      "taxi:  4          Event(time=32, proc=4, action='乘客上车')\n",
      "taxi:  0  Event(time=33, proc=0, action='下班回家')\n",
      "taxi:  3        Event(time=33, proc=3, action='乘客上车')\n",
      "taxi:  5            Event(time=33, proc=5, action='乘客上车')\n",
      "taxi:  6              Event(time=34, proc=6, action='乘客上车')\n",
      "taxi:  6              Event(time=35, proc=6, action='乘客下车')\n",
      "taxi:  7                Event(time=35, proc=7, action='离开车站')\n",
      "taxi:  5            Event(time=36, proc=5, action='乘客下车')\n",
      "taxi:  5            Event(time=38, proc=5, action='乘客上车')\n",
      "taxi:  8                  Event(time=40, proc=8, action='离开车站')\n",
      "taxi:  3        Event(time=41, proc=3, action='乘客下车')\n",
      "taxi:  6              Event(time=41, proc=6, action='乘客上车')\n",
      "taxi:  7                Event(time=43, proc=7, action='乘客上车')\n",
      "taxi:  8                  Event(time=44, proc=8, action='乘客上车')\n",
      "taxi:  9                    Event(time=45, proc=9, action='离开车站')\n",
      "taxi:  9                    Event(time=46, proc=9, action='乘客上车')\n",
      "taxi:  9                    Event(time=47, proc=9, action='乘客下车')\n",
      "taxi:  3        Event(time=48, proc=3, action='乘客上车')\n",
      "taxi:  2      Event(time=49, proc=2, action='乘客下车')\n",
      "taxi:  10                      Event(time=50, proc=10, action='离开车站')\n",
      "taxi:  9                    Event(time=51, proc=9, action='乘客上车')\n",
      "taxi:  10                      Event(time=53, proc=10, action='乘客上车')\n",
      "taxi:  11                        Event(time=55, proc=11, action='离开车站')\n",
      "taxi:  3        Event(time=56, proc=3, action='乘客下车')\n",
      "taxi:  2      Event(time=57, proc=2, action='乘客上车')\n",
      "taxi:  4          Event(time=57, proc=4, action='乘客下车')\n",
      "taxi:  4          Event(time=59, proc=4, action='乘客上车')\n",
      "taxi:  5            Event(time=59, proc=5, action='乘客下车')\n",
      "taxi:  5            Event(time=60, proc=5, action='乘客上车')\n",
      "taxi:  12                          Event(time=60, proc=12, action='离开车站')\n",
      "taxi:  5            Event(time=61, proc=5, action='乘客下车')\n",
      "taxi:  11                        Event(time=62, proc=11, action='乘客上车')\n",
      "taxi:  5            Event(time=64, proc=5, action='乘客上车')\n",
      "taxi:  13                            Event(time=65, proc=13, action='离开车站')\n",
      "taxi:  4          Event(time=66, proc=4, action='乘客下车')\n",
      "taxi:  12                          Event(time=66, proc=12, action='乘客上车')\n",
      "taxi:  3        Event(time=68, proc=3, action='乘客上车')\n",
      "taxi:  10                      Event(time=68, proc=10, action='乘客下车')\n",
      "taxi:  13                            Event(time=70, proc=13, action='乘客上车')\n",
      "taxi:  14                              Event(time=70, proc=14, action='离开车站')\n",
      "taxi:  12                          Event(time=71, proc=12, action='乘客下车')\n",
      "taxi:  4          Event(time=72, proc=4, action='乘客上车')\n",
      "taxi:  10                      Event(time=73, proc=10, action='乘客上车')\n",
      "taxi:  14                              Event(time=73, proc=14, action='乘客上车')\n",
      "taxi:  2      Event(time=74, proc=2, action='乘客下车')\n",
      "taxi:  14                              Event(time=74, proc=14, action='乘客下车')\n",
      "taxi:  7                Event(time=75, proc=7, action='乘客下车')\n",
      "taxi:  2      Event(time=76, proc=2, action='乘客上车')\n",
      "taxi:  14                              Event(time=76, proc=14, action='乘客上车')\n",
      "taxi:  7                Event(time=77, proc=7, action='乘客上车')\n",
      "taxi:  5            Event(time=78, proc=5, action='乘客下车')\n",
      "taxi:  11                        Event(time=80, proc=11, action='乘客下车')\n",
      "taxi:  5            Event(time=81, proc=5, action='乘客上车')\n",
      "taxi:  7                Event(time=84, proc=7, action='乘客下车')\n",
      "taxi:  8                  Event(time=85, proc=8, action='乘客下车')\n",
      "taxi:  9                    Event(time=85, proc=9, action='乘客下车')\n",
      "taxi:  11                        Event(time=85, proc=11, action='乘客上车')\n",
      "taxi:  1    Event(time=86, proc=1, action='乘客下车')\n",
      "taxi:  7                Event(time=86, proc=7, action='乘客上车')\n",
      "taxi:  12                          Event(time=86, proc=12, action='乘客上车')\n",
      "taxi:  6              Event(time=87, proc=6, action='乘客下车')\n",
      "taxi:  3        Event(time=88, proc=3, action='乘客下车')\n",
      "taxi:  6              Event(time=89, proc=6, action='乘客上车')\n",
      "taxi:  2      Event(time=90, proc=2, action='乘客下车')\n",
      "taxi:  5            Event(time=90, proc=5, action='乘客下车')\n",
      "taxi:  2      Event(time=91, proc=2, action='乘客上车')\n",
      "taxi:  8                  Event(time=92, proc=8, action='乘客上车')\n",
      "taxi:  9                    Event(time=94, proc=9, action='乘客上车')\n",
      "taxi:  10                      Event(time=96, proc=10, action='乘客下车')\n",
      "taxi:  1    Event(time=97, proc=1, action='乘客上车')\n",
      "taxi:  2      Event(time=99, proc=2, action='乘客下车')\n",
      "taxi:  3        Event(time=99, proc=3, action='乘客上车')\n",
      "taxi:  10                      Event(time=100, proc=10, action='乘客上车')\n",
      "taxi:  10                      Event(time=101, proc=10, action='乘客下车')\n",
      "taxi:  14                              Event(time=101, proc=14, action='乘客下车')\n",
      "taxi:  14                              Event(time=102, proc=14, action='乘客上车')\n",
      "taxi:  12                          Event(time=103, proc=12, action='乘客下车')\n",
      "taxi:  2      Event(time=105, proc=2, action='乘客上车')\n",
      "taxi:  5            Event(time=105, proc=5, action='乘客上车')\n",
      "taxi:  9                    Event(time=105, proc=9, action='乘客下车')\n",
      "taxi:  14                              Event(time=106, proc=14, action='乘客下车')\n",
      "taxi:  9                    Event(time=107, proc=9, action='乘客上车')\n",
      "taxi:  12                          Event(time=109, proc=12, action='乘客上车')\n",
      "taxi:  13                            Event(time=109, proc=13, action='乘客下车')\n",
      "taxi:  13                            Event(time=110, proc=13, action='乘客上车')\n",
      "taxi:  4          Event(time=113, proc=4, action='乘客下车')\n",
      "taxi:  11                        Event(time=113, proc=11, action='乘客下车')\n",
      "taxi:  11                        Event(time=114, proc=11, action='乘客上车')\n",
      "taxi:  4          Event(time=116, proc=4, action='乘客上车')\n",
      "taxi:  5            Event(time=118, proc=5, action='乘客下车')\n",
      "taxi:  6              Event(time=119, proc=6, action='乘客下车')\n",
      "taxi:  8                  Event(time=121, proc=8, action='乘客下车')\n",
      "taxi:  11                        Event(time=121, proc=11, action='乘客下车')\n",
      "taxi:  9                    Event(time=122, proc=9, action='乘客下车')\n",
      "taxi:  3        Event(time=123, proc=3, action='乘客下车')\n",
      "taxi:  13                            Event(time=123, proc=13, action='乘客下车')\n",
      "taxi:  3        Event(time=124, proc=3, action='乘客上车')\n",
      "taxi:  11                        Event(time=124, proc=11, action='乘客上车')\n",
      "taxi:  5            Event(time=126, proc=5, action='乘客上车')\n",
      "taxi:  8                  Event(time=129, proc=8, action='乘客上车')\n",
      "taxi:  3        Event(time=130, proc=3, action='乘客下车')\n",
      "taxi:  12                          Event(time=130, proc=12, action='乘客下车')\n",
      "taxi:  5            Event(time=131, proc=5, action='乘客下车')\n",
      "taxi:  12                          Event(time=132, proc=12, action='乘客上车')\n",
      "taxi:  14                              Event(time=133, proc=14, action='乘客上车')\n",
      "taxi:  1    Event(time=134, proc=1, action='乘客下车')\n",
      "taxi:  5            Event(time=134, proc=5, action='乘客上车')\n",
      "taxi:  10                      Event(time=135, proc=10, action='乘客上车')\n",
      "taxi:  13                            Event(time=136, proc=13, action='乘客上车')\n",
      "taxi:  1    Event(time=137, proc=1, action='乘客上车')\n",
      "taxi:  6              Event(time=137, proc=6, action='乘客上车')\n",
      "taxi:  7                Event(time=138, proc=7, action='乘客下车')\n",
      "taxi:  14                              Event(time=138, proc=14, action='乘客下车')\n"
     ]
    },
    {
     "name": "stdout",
     "output_type": "stream",
     "text": [
      "taxi:  14                              Event(time=139, proc=14, action='乘客上车')\n",
      "taxi:  3        Event(time=141, proc=3, action='乘客上车')\n",
      "taxi:  4          Event(time=142, proc=4, action='乘客下车')\n",
      "taxi:  8                  Event(time=142, proc=8, action='乘客下车')\n",
      "taxi:  9                    Event(time=143, proc=9, action='乘客上车')\n",
      "taxi:  8                  Event(time=144, proc=8, action='乘客上车')\n",
      "taxi:  9                    Event(time=144, proc=9, action='乘客下车')\n",
      "taxi:  4          Event(time=145, proc=4, action='乘客上车')\n",
      "taxi:  7                Event(time=145, proc=7, action='乘客上车')\n",
      "taxi:  14                              Event(time=145, proc=14, action='乘客下车')\n",
      "taxi:  4          Event(time=146, proc=4, action='乘客下车')\n",
      "taxi:  5            Event(time=146, proc=5, action='乘客下车')\n",
      "taxi:  4          Event(time=147, proc=4, action='乘客上车')\n",
      "taxi:  13                            Event(time=147, proc=13, action='乘客下车')\n",
      "taxi:  14                              Event(time=147, proc=14, action='乘客上车')\n",
      "taxi:  8                  Event(time=153, proc=8, action='乘客下车')\n",
      "taxi:  11                        Event(time=153, proc=11, action='乘客下车')\n",
      "taxi:  13                            Event(time=153, proc=13, action='乘客上车')\n",
      "taxi:  4          Event(time=154, proc=4, action='乘客下车')\n",
      "taxi:  8                  Event(time=154, proc=8, action='乘客上车')\n",
      "taxi:  11                        Event(time=154, proc=11, action='乘客上车')\n",
      "taxi:  10                      Event(time=156, proc=10, action='乘客下车')\n",
      "taxi:  14                              Event(time=157, proc=14, action='乘客下车')\n",
      "taxi:  12                          Event(time=158, proc=12, action='乘客下车')\n",
      "taxi:  14                              Event(time=158, proc=14, action='乘客上车')\n",
      "taxi:  4          Event(time=159, proc=4, action='乘客上车')\n",
      "taxi:  5            Event(time=159, proc=5, action='乘客上车')\n",
      "taxi:  7                Event(time=160, proc=7, action='乘客下车')\n",
      "taxi:  10                      Event(time=160, proc=10, action='乘客上车')\n",
      "taxi:  14                              Event(time=160, proc=14, action='乘客下车')\n",
      "taxi:  9                    Event(time=161, proc=9, action='乘客上车')\n",
      "taxi:  6              Event(time=162, proc=6, action='乘客下车')\n",
      "taxi:  7                Event(time=164, proc=7, action='乘客上车')\n",
      "taxi:  12                          Event(time=164, proc=12, action='乘客上车')\n",
      "taxi:  14                              Event(time=164, proc=14, action='乘客上车')\n",
      "taxi:  8                  Event(time=165, proc=8, action='乘客下车')\n",
      "taxi:  8                  Event(time=166, proc=8, action='乘客上车')\n",
      "taxi:  13                            Event(time=166, proc=13, action='乘客下车')\n",
      "taxi:  7                Event(time=167, proc=7, action='乘客下车')\n",
      "taxi:  1    Event(time=169, proc=1, action='乘客下车')\n",
      "taxi:  2      Event(time=170, proc=2, action='乘客下车')\n",
      "taxi:  11                        Event(time=170, proc=11, action='乘客下车')\n",
      "taxi:  1    Event(time=171, proc=1, action='下班回家')\n",
      "taxi:  7                Event(time=171, proc=7, action='乘客上车')\n",
      "taxi:  6              Event(time=172, proc=6, action='乘客上车')\n",
      "taxi:  11                        Event(time=172, proc=11, action='乘客上车')\n",
      "taxi:  13                            Event(time=174, proc=13, action='乘客上车')\n",
      "taxi:  14                              Event(time=175, proc=14, action='乘客下车')\n",
      "taxi:  7                Event(time=177, proc=7, action='乘客下车')\n",
      "taxi:  9                    Event(time=179, proc=9, action='乘客下车')\n",
      "taxi:  8                  Event(time=181, proc=8, action='乘客下车')\n",
      "***时间结束, 还有 13 件事情没有完成.\n"
     ]
    }
   ],
   "source": [
    "main(num_taxis=15, delay=True)"
   ]
  },
  {
   "cell_type": "code",
   "execution_count": null,
   "metadata": {},
   "outputs": [],
   "source": []
  }
 ],
 "metadata": {
  "kernelspec": {
   "display_name": "Python 3",
   "language": "python",
   "name": "python3"
  },
  "language_info": {
   "codemirror_mode": {
    "name": "ipython",
    "version": 3
   },
   "file_extension": ".py",
   "mimetype": "text/x-python",
   "name": "python",
   "nbconvert_exporter": "python",
   "pygments_lexer": "ipython3",
   "version": "3.6.8"
  },
  "toc": {
   "base_numbering": 1,
   "nav_menu": {},
   "number_sections": true,
   "sideBar": true,
   "skip_h1_title": true,
   "title_cell": "Table of Contents",
   "title_sidebar": "Contents",
   "toc_cell": true,
   "toc_position": {},
   "toc_section_display": true,
   "toc_window_display": false
  }
 },
 "nbformat": 4,
 "nbformat_minor": 2
}
