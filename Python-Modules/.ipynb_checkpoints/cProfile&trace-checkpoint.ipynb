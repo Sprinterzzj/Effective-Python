{
 "cells": [
  {
   "cell_type": "markdown",
   "metadata": {
    "toc": true
   },
   "source": [
    "<h1>Table of Contents<span class=\"tocSkip\"></span></h1>\n",
    "<div class=\"toc\"><ul class=\"toc-item\"></ul></div>"
   ]
  },
  {
   "cell_type": "code",
   "execution_count": 3,
   "metadata": {
    "ExecuteTime": {
     "end_time": "2019-09-12T05:35:10.006051Z",
     "start_time": "2019-09-12T05:35:10.003534Z"
    }
   },
   "outputs": [],
   "source": [
    "import cProfile"
   ]
  },
  {
   "cell_type": "code",
   "execution_count": 40,
   "metadata": {
    "ExecuteTime": {
     "end_time": "2019-09-12T05:51:27.108473Z",
     "start_time": "2019-09-12T05:51:27.104963Z"
    }
   },
   "outputs": [],
   "source": [
    "def foo():\n",
    "    result = 0\n",
    "    for i in range(1000000):\n",
    "        result += i\n",
    "    return result\n",
    "def bar():\n",
    "    result = foo()\n",
    "    for i in range(1000000):\n",
    "        result += i\n",
    "    return result"
   ]
  },
  {
   "cell_type": "code",
   "execution_count": 41,
   "metadata": {
    "ExecuteTime": {
     "end_time": "2019-09-12T05:51:28.046530Z",
     "start_time": "2019-09-12T05:51:27.944891Z"
    }
   },
   "outputs": [
    {
     "name": "stdout",
     "output_type": "stream",
     "text": [
      "         3 function calls in 0.098 seconds\n",
      "\n",
      "   Ordered by: standard name\n",
      "\n",
      "   ncalls  tottime  percall  cumtime  percall filename:lineno(function)\n",
      "        1    0.052    0.052    0.052    0.052 <ipython-input-40-40fbfd852822>:1(foo)\n",
      "        1    0.046    0.046    0.098    0.098 <ipython-input-40-40fbfd852822>:6(bar)\n",
      "        1    0.000    0.000    0.000    0.000 {method 'disable' of '_lsprof.Profiler' objects}\n",
      "\n",
      "\n"
     ]
    }
   ],
   "source": [
    "# 创建一个 Profiler 的实例\n",
    "profiler = cProfile.Profile()\n",
    "# 运行一个函数\n",
    "profiler.runcall(func=bar)\n",
    "# 打印统计数据\n",
    "profiler.print_stats()"
   ]
  },
  {
   "cell_type": "code",
   "execution_count": 42,
   "metadata": {
    "ExecuteTime": {
     "end_time": "2019-09-12T05:54:36.860804Z",
     "start_time": "2019-09-12T05:54:36.858213Z"
    }
   },
   "outputs": [],
   "source": [
    "import trace"
   ]
  },
  {
   "cell_type": "code",
   "execution_count": 49,
   "metadata": {
    "ExecuteTime": {
     "end_time": "2019-09-12T05:56:25.249376Z",
     "start_time": "2019-09-12T05:56:25.246180Z"
    }
   },
   "outputs": [],
   "source": [
    "tracer = trace.Trace(countfuncs=1, countcallers=1, outfile='r.txt')"
   ]
  },
  {
   "cell_type": "code",
   "execution_count": 50,
   "metadata": {
    "ExecuteTime": {
     "end_time": "2019-09-12T05:56:26.379979Z",
     "start_time": "2019-09-12T05:56:26.130948Z"
    }
   },
   "outputs": [
    {
     "data": {
      "text/plain": [
       "999999000000"
      ]
     },
     "execution_count": 50,
     "metadata": {},
     "output_type": "execute_result"
    }
   ],
   "source": [
    "tracer.runfunc(func=bar)"
   ]
  },
  {
   "cell_type": "code",
   "execution_count": 51,
   "metadata": {
    "ExecuteTime": {
     "end_time": "2019-09-12T05:56:30.014959Z",
     "start_time": "2019-09-12T05:56:30.012083Z"
    },
    "run_control": {
     "marked": true
    }
   },
   "outputs": [],
   "source": [
    "r = tracer.results()"
   ]
  },
  {
   "cell_type": "code",
   "execution_count": 52,
   "metadata": {
    "ExecuteTime": {
     "end_time": "2019-09-12T05:56:30.514442Z",
     "start_time": "2019-09-12T05:56:30.510759Z"
    }
   },
   "outputs": [
    {
     "name": "stdout",
     "output_type": "stream",
     "text": [
      "\n",
      "calling relationships:\n",
      "\n",
      "*** /Users/zhangzijie/miniconda3/envs/zzj/lib/python3.6/trace.py ***\n",
      "  --> <ipython-input-40-40fbfd852822>\n",
      "    trace.Trace.runfunc -> <ipython-input-40-40fbfd852822>.bar\n",
      "\n",
      "*** <ipython-input-40-40fbfd852822> ***\n",
      "    <ipython-input-40-40fbfd852822>.bar -> <ipython-input-40-40fbfd852822>.foo\n"
     ]
    }
   ],
   "source": [
    "r.write_results(show_missing=True, summary=True)"
   ]
  }
 ],
 "metadata": {
  "kernelspec": {
   "display_name": "Python 3",
   "language": "python",
   "name": "python3"
  },
  "language_info": {
   "codemirror_mode": {
    "name": "ipython",
    "version": 3
   },
   "file_extension": ".py",
   "mimetype": "text/x-python",
   "name": "python",
   "nbconvert_exporter": "python",
   "pygments_lexer": "ipython3",
   "version": "3.6.7"
  },
  "toc": {
   "base_numbering": 1,
   "nav_menu": {},
   "number_sections": true,
   "sideBar": true,
   "skip_h1_title": true,
   "title_cell": "Table of Contents",
   "title_sidebar": "Contents",
   "toc_cell": true,
   "toc_position": {},
   "toc_section_display": true,
   "toc_window_display": true
  }
 },
 "nbformat": 4,
 "nbformat_minor": 2
}
