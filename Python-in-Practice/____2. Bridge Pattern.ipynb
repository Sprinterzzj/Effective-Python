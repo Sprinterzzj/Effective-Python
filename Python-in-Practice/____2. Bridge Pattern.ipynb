{
 "cells": [
  {
   "cell_type": "markdown",
   "metadata": {
    "toc": true
   },
   "source": [
    "<h1>Table of Contents<span class=\"tocSkip\"></span></h1>\n",
    "<div class=\"toc\"><ul class=\"toc-item\"><li><span><a href=\"#Bridge-Pattern\" data-toc-modified-id=\"Bridge-Pattern-1\"><span class=\"toc-item-num\">1&nbsp;&nbsp;</span>Bridge Pattern</a></span></li></ul></div>"
   ]
  },
  {
   "cell_type": "markdown",
   "metadata": {},
   "source": [
    "#### Bridge Pattern\n",
    "The Bridge Pattern is used in situations where we want to separate an abstraction from how it is implemented.\n",
    "\n",
    "With the Bridge Pattern the approach is to create two independent class hierarchies:the “abstract” one defining the operations, \n",
    "and the concrete one providing the implementations that the abstract operations will ultimately call.\n",
    "\n",
    "The “abstract” class aggregates an instance of one of the concrete implementa- tion classes—and this instance serves as a bridge between the abstract interface and the concrete operations."
   ]
  },
  {
   "cell_type": "code",
   "execution_count": 1,
   "metadata": {
    "ExecuteTime": {
     "end_time": "2019-09-13T02:21:26.535969Z",
     "start_time": "2019-09-13T02:21:26.529753Z"
    }
   },
   "outputs": [],
   "source": [
    "class BarCharter(object):\n",
    "    \n",
    "    def __init__(self, renderer):\n",
    "        \n",
    "        if not isinstance(renderer, BarRenderer):\n",
    "            raise TypeError(f'Expceted object of type BarRenderer, got {type(rednerer).__name__}.')\n",
    "        self.__renderer = renderer\n",
    "    \n",
    "    def render(self, caption, pairs):\n",
    "        \"\"\"Implements a bar chart drawing algorithm,\n",
    "        depending on the rednerer implementation\n",
    "        \"\"\"\n",
    "        maximum = max(value for _, value in pairs)\n",
    "        self.__renderer.initialize(len(pairs), maximum)\n",
    "        self.__renderer.draw_caption(caption)\n",
    "        for name, value in pairs:\n",
    "            self.__renderer.draw_bar(name, value)\n",
    "        self.__renderer.finalize()"
   ]
  },
  {
   "cell_type": "markdown",
   "metadata": {},
   "source": [
    "下面实现 BarRednerer 抽象类 以及 \\_\\_subclasshook\\_\\_"
   ]
  },
  {
   "cell_type": "code",
   "execution_count": 2,
   "metadata": {
    "ExecuteTime": {
     "end_time": "2019-09-13T02:21:26.912276Z",
     "start_time": "2019-09-13T02:21:26.907071Z"
    }
   },
   "outputs": [],
   "source": [
    "import collections\n",
    "import abc\n",
    "\n",
    "def has_methods(*methods):\n",
    "    def decorator(cls):\n",
    "        def __subclasshook__(Class, Subclass):\n",
    "\n",
    "            if Class is cls:\n",
    "                attributes = collections.ChainMap(*(cls_.__dict__ \n",
    "                                         for cls_ in Subclass.__mro__))\n",
    "                if all(method in attributes for method in methods):\n",
    "                    return True\n",
    "                else:\n",
    "                    return False\n",
    "            return NotImplemented\n",
    "        cls.__subclasshook__ = classmethod(__subclasshook__)\n",
    "        return cls\n",
    "    return decorator\n",
    "\n",
    "@has_methods('initialize', 'draw_caption', 'draw_bar', 'finalize')\n",
    "class BarRenderer(metaclass=abc.ABCMeta):\n",
    "    pass"
   ]
  },
  {
   "cell_type": "markdown",
   "metadata": {},
   "source": [
    "下面实现两种不同的Renderer"
   ]
  },
  {
   "cell_type": "code",
   "execution_count": 3,
   "metadata": {
    "ExecuteTime": {
     "end_time": "2019-09-13T02:21:27.697918Z",
     "start_time": "2019-09-13T02:21:27.692953Z"
    }
   },
   "outputs": [],
   "source": [
    "class TextBarRenderer(object):\n",
    "    \n",
    "    def __init__(self, scaleFactor=40):\n",
    "        \n",
    "        self.scaleFactor = scaleFactor\n",
    "    \n",
    "    def initialize(self, bars, maximum):\n",
    "        \n",
    "        assert bars > 0 and maximum > 0\n",
    "        self.scale = self.scaleFactor / maximum\n",
    "    \n",
    "    def draw_caption(self, caption):\n",
    "        \n",
    "        print('{0:^{2}}\\n{1:^{2}}'\n",
    "              .format(caption, \"=\" * len(caption), self.scaleFactor))\n",
    "    \n",
    "    def draw_bar(self, name, value):\n",
    "        \n",
    "        print('{} {}'.format('*' * int(value * self.scale), name))\n",
    "    \n",
    "    def finalize(self):\n",
    "        \n",
    "        pass"
   ]
  },
  {
   "cell_type": "code",
   "execution_count": 4,
   "metadata": {
    "ExecuteTime": {
     "end_time": "2019-09-13T02:21:28.444166Z",
     "start_time": "2019-09-13T02:21:28.439095Z"
    }
   },
   "outputs": [
    {
     "name": "stdout",
     "output_type": "stream",
     "text": [
      "              Forecast 6/8              \n",
      "              ============              \n",
      "************************** Mon\n",
      "**************************** Tue\n",
      "******************************* Wed\n",
      "************************************ Thu\n",
      "**************************************** Fri\n",
      "*********************************** Sat\n",
      "******************************* Sun\n"
     ]
    }
   ],
   "source": [
    "pairs = ((\"Mon\", 16), (\"Tue\", 17), (\"Wed\", 19), \n",
    "         (\"Thu\", 22),(\"Fri\", 24), (\"Sat\", 21), \n",
    "         (\"Sun\", 19))\n",
    "\n",
    "textBarCharter = BarCharter(TextBarRenderer())\n",
    "textBarCharter.render('Forecast 6/8', pairs)"
   ]
  },
  {
   "cell_type": "code",
   "execution_count": 7,
   "metadata": {
    "ExecuteTime": {
     "end_time": "2019-09-13T02:25:18.984090Z",
     "start_time": "2019-09-13T02:25:18.981224Z"
    }
   },
   "outputs": [],
   "source": [
    "class ImageBarRenderer(object):\n",
    "    pass"
   ]
  }
 ],
 "metadata": {
  "kernelspec": {
   "display_name": "Python 3",
   "language": "python",
   "name": "python3"
  },
  "language_info": {
   "codemirror_mode": {
    "name": "ipython",
    "version": 3
   },
   "file_extension": ".py",
   "mimetype": "text/x-python",
   "name": "python",
   "nbconvert_exporter": "python",
   "pygments_lexer": "ipython3",
   "version": "3.6.7"
  },
  "toc": {
   "base_numbering": 1,
   "nav_menu": {},
   "number_sections": true,
   "sideBar": true,
   "skip_h1_title": true,
   "title_cell": "Table of Contents",
   "title_sidebar": "Contents",
   "toc_cell": true,
   "toc_position": {},
   "toc_section_display": true,
   "toc_window_display": false
  }
 },
 "nbformat": 4,
 "nbformat_minor": 2
}
