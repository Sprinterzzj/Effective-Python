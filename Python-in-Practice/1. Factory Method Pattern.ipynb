{
 "cells": [
  {
   "cell_type": "markdown",
   "metadata": {
    "toc": true
   },
   "source": [
    "<h1>Table of Contents<span class=\"tocSkip\"></span></h1>\n",
    "<div class=\"toc\"><ul class=\"toc-item\"><li><span><a href=\"#工厂模式:-一个简单的例子\" data-toc-modified-id=\"工厂模式:-一个简单的例子-1\"><span class=\"toc-item-num\">1&nbsp;&nbsp;</span>工厂模式: 一个简单的例子</a></span></li></ul></div>"
   ]
  },
  {
   "cell_type": "markdown",
   "metadata": {},
   "source": [
    "###### 工厂模式: 一个简单的例子\n",
    "\n",
    "解决对象的创建"
   ]
  },
  {
   "cell_type": "code",
   "execution_count": 2,
   "metadata": {
    "ExecuteTime": {
     "end_time": "2019-09-13T01:14:46.605499Z",
     "start_time": "2019-09-13T01:14:46.598088Z"
    }
   },
   "outputs": [],
   "source": [
    "import json\n",
    "from xml.etree import ElementTree as etree\n",
    "\n",
    "\n",
    "class JSONConnector(object):\n",
    "    \n",
    "    def __init__(self, filepath):\n",
    "        \n",
    "        self.data = dict()\n",
    "        with open(filepath, mode='r', encoding='utf-8') as f:\n",
    "            self.data = json.load(f)\n",
    "    \n",
    "    @property\n",
    "    def parse_data(self):\n",
    "        \n",
    "        return self.data\n",
    "\n",
    "\n",
    "class XMLConnector(object):\n",
    "    \n",
    "    def __init__(self, filepath):\n",
    "        \n",
    "        self.tree = etree.parse(filepath)\n",
    "    \n",
    "    @property\n",
    "    def parse_data(self):\n",
    "        \n",
    "        return self.data\n",
    "\n",
    "\n",
    "# 工厂函数\n",
    "def connector_factory(filepath):\n",
    "    \n",
    "    if filepath.endswith('json'):\n",
    "        connector = JSONConnector\n",
    "    elif filepath.endswith('xml'):\n",
    "        connector = XMLConnector\n",
    "    else:\n",
    "        raise ValueError('Cannot connect to {}'.format(filepath))\n",
    "    return connector(filepath)"
   ]
  },
  {
   "cell_type": "code",
   "execution_count": null,
   "metadata": {},
   "outputs": [],
   "source": []
  }
 ],
 "metadata": {
  "kernelspec": {
   "display_name": "Python 3",
   "language": "python",
   "name": "python3"
  },
  "language_info": {
   "codemirror_mode": {
    "name": "ipython",
    "version": 3
   },
   "file_extension": ".py",
   "mimetype": "text/x-python",
   "name": "python",
   "nbconvert_exporter": "python",
   "pygments_lexer": "ipython3",
   "version": "3.6.7"
  },
  "toc": {
   "base_numbering": 1,
   "nav_menu": {},
   "number_sections": true,
   "sideBar": true,
   "skip_h1_title": true,
   "title_cell": "Table of Contents",
   "title_sidebar": "Contents",
   "toc_cell": true,
   "toc_position": {},
   "toc_section_display": true,
   "toc_window_display": false
  }
 },
 "nbformat": 4,
 "nbformat_minor": 2
}
