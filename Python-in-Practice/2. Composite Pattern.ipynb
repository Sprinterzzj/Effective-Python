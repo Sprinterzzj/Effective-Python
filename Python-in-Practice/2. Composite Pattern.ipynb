{
 "cells": [
  {
   "cell_type": "markdown",
   "metadata": {
    "toc": true
   },
   "source": [
    "<h1>Table of Contents<span class=\"tocSkip\"></span></h1>\n",
    "<div class=\"toc\"><ul class=\"toc-item\"><li><span><a href=\"#Composite-Pattern\" data-toc-modified-id=\"Composite-Pattern-1\"><span class=\"toc-item-num\">1&nbsp;&nbsp;</span>Composite Pattern</a></span><ul class=\"toc-item\"><li><ul class=\"toc-item\"><li><span><a href=\"#A-classic-composite/noncomposite-hierarchy\" data-toc-modified-id=\"A-classic-composite/noncomposite-hierarchy-1.0.1\"><span class=\"toc-item-num\">1.0.1&nbsp;&nbsp;</span>A classic composite/noncomposite hierarchy</a></span></li><li><span><a href=\"#A-single-class-for-both-composites-and-non-composites\" data-toc-modified-id=\"A-single-class-for-both-composites-and-non-composites-1.0.2\"><span class=\"toc-item-num\">1.0.2&nbsp;&nbsp;</span>A single class for both composites and non-composites</a></span></li></ul></li></ul></li></ul></div>"
   ]
  },
  {
   "cell_type": "markdown",
   "metadata": {},
   "source": [
    "The Composite Pattern is designed to support the uniform treatment of objects in a hierarchy, whether they contain other objects (as part of the hierarchy) or not. Such objects are called composite."
   ]
  },
  {
   "cell_type": "markdown",
   "metadata": {},
   "source": [
    "#### Composite Pattern"
   ]
  },
  {
   "cell_type": "markdown",
   "metadata": {},
   "source": [
    "###### A classic composite/noncomposite hierarchy"
   ]
  },
  {
   "cell_type": "code",
   "execution_count": 16,
   "metadata": {
    "ExecuteTime": {
     "end_time": "2019-09-18T00:47:14.554601Z",
     "start_time": "2019-09-18T00:47:14.550380Z"
    }
   },
   "outputs": [],
   "source": [
    "# The classic approach is based on having an abstract base class\n",
    "# for all kinds of composite\n",
    "import abc\n",
    "\n",
    "\n",
    "class AbstractItem(metaclass=abc.ABCMeta):\n",
    "\n",
    "    @abc.abstractproperty\n",
    "    def composite(self):\n",
    "\n",
    "        raise NotImplementedError\n",
    "\n",
    "    def __iter__(self):\n",
    "\n",
    "        return iter([])\n",
    "    \n",
    "    def __str__(self):\n",
    "        \n",
    "        raise NotImplementedError"
   ]
  },
  {
   "cell_type": "code",
   "execution_count": 17,
   "metadata": {
    "ExecuteTime": {
     "end_time": "2019-09-18T00:47:15.521454Z",
     "start_time": "2019-09-18T00:47:15.516915Z"
    }
   },
   "outputs": [],
   "source": [
    "class SimpleItem(AbstractItem):\n",
    "    \"\"\"代表了基本部件(noncomposite)的类,\n",
    "    因为是基本部件, 所以他不需要重载 __iter__ 方法\n",
    "    \"\"\"\n",
    "    \n",
    "    def __init__(self, name, price=0.0):\n",
    "        \n",
    "        self.name = name\n",
    "        self.price = price\n",
    "    \n",
    "    @property\n",
    "    def composite(self):\n",
    "        \n",
    "        return False\n",
    "    \n",
    "    def __str__(self):\n",
    "        \n",
    "        return '{} : {:.2f}'.format(self.name, self.price)"
   ]
  },
  {
   "cell_type": "code",
   "execution_count": 24,
   "metadata": {
    "ExecuteTime": {
     "end_time": "2019-09-18T00:49:34.309273Z",
     "start_time": "2019-09-18T00:49:34.302818Z"
    }
   },
   "outputs": [],
   "source": [
    "# 我们没有让 CompositemItem 直接继承 AbstractItem,\n",
    "# 而是定义一个 AbstractCompositeItem 的中间件\n",
    "# 他定义了一些组合对象的必须方法: add, remove\n",
    "\n",
    "\n",
    "class AbstractCompositeItem(AbstractItem):\n",
    "\n",
    "    def __init__(self, *items):\n",
    "\n",
    "        self.childern = []\n",
    "        if items is not None:\n",
    "            self.add(*items)\n",
    "\n",
    "    def add(self, first, *items):\n",
    "\n",
    "        self.childern.append(first)\n",
    "        if items is not None:\n",
    "            self.childern.extend(items)\n",
    "\n",
    "    def remove(self, item):\n",
    "        self.childern.remove(item)\n",
    "\n",
    "    def __iter__(self):\n",
    "\n",
    "        return iter(self.childern)\n",
    "    \n",
    "    def __str__(self):\n",
    "        \n",
    "        result = ''\n",
    "        for child in self:\n",
    "            result += str(child)\n",
    "            result += '\\n'\n",
    "        return result"
   ]
  },
  {
   "cell_type": "code",
   "execution_count": 25,
   "metadata": {
    "ExecuteTime": {
     "end_time": "2019-09-18T00:50:21.338430Z",
     "start_time": "2019-09-18T00:50:21.332945Z"
    }
   },
   "outputs": [],
   "source": [
    "# 下面定义 CompositeItem 类\n",
    "\n",
    "\n",
    "class CompositeItem(AbstractCompositeItem):\n",
    "    \n",
    "    def __init__(self, name, *items):\n",
    "        \n",
    "        super().__init__(*items)\n",
    "        self.name = name\n",
    "    \n",
    "    @property\n",
    "    def composite(self):\n",
    "        \n",
    "        return True\n",
    "    \n",
    "    @property\n",
    "    def price(self):\n",
    "        \"\"\"递归计算各个组件的单价\n",
    "        \"\"\"        \n",
    "        return sum(item.price for item in self)\n",
    "    \n",
    "    def __str__(self):\n",
    "        \n",
    "        result = '{} : {:.2f}'.format(self.name, self.price)\n",
    "        result += '\\n'\n",
    "        for child in self:\n",
    "            result += str(child)\n",
    "            result += '\\n'\n",
    "        return result"
   ]
  },
  {
   "cell_type": "code",
   "execution_count": 26,
   "metadata": {
    "ExecuteTime": {
     "end_time": "2019-09-18T00:50:22.391972Z",
     "start_time": "2019-09-18T00:50:22.388803Z"
    }
   },
   "outputs": [],
   "source": [
    "Pencil = SimpleItem('Pencil', 2.5)\n",
    "Ruler = SimpleItem('Ruler', 3.5)\n",
    "Eraser = SimpleItem('Eraser', 4.5)"
   ]
  },
  {
   "cell_type": "code",
   "execution_count": 27,
   "metadata": {
    "ExecuteTime": {
     "end_time": "2019-09-18T00:50:23.015721Z",
     "start_time": "2019-09-18T00:50:23.012110Z"
    }
   },
   "outputs": [
    {
     "name": "stdout",
     "output_type": "stream",
     "text": [
      "Pencil : 2.50\n",
      "Ruler : 3.50\n",
      "Eraser : 4.50\n"
     ]
    }
   ],
   "source": [
    "print(Pencil)\n",
    "print(Ruler)\n",
    "print(Eraser)"
   ]
  },
  {
   "cell_type": "code",
   "execution_count": 28,
   "metadata": {
    "ExecuteTime": {
     "end_time": "2019-09-18T00:50:23.919008Z",
     "start_time": "2019-09-18T00:50:23.916213Z"
    }
   },
   "outputs": [],
   "source": [
    "PencilSet = CompositeItem('Pencil Set', SimpleItem('Pencil', 2.5), \n",
    "                          SimpleItem('Ruler', 3.5), SimpleItem('Eraser', 4.5))"
   ]
  },
  {
   "cell_type": "code",
   "execution_count": 29,
   "metadata": {
    "ExecuteTime": {
     "end_time": "2019-09-18T00:50:31.537569Z",
     "start_time": "2019-09-18T00:50:31.534642Z"
    }
   },
   "outputs": [
    {
     "name": "stdout",
     "output_type": "stream",
     "text": [
      "Pencil Set : 10.50\n",
      "Pencil : 2.50\n",
      "Ruler : 3.50\n",
      "Eraser : 4.50\n",
      "\n"
     ]
    }
   ],
   "source": [
    "print(PencilSet)"
   ]
  },
  {
   "cell_type": "markdown",
   "metadata": {},
   "source": [
    "###### A single class for both composites and non-composites"
   ]
  },
  {
   "cell_type": "code",
   "execution_count": 34,
   "metadata": {
    "ExecuteTime": {
     "end_time": "2019-09-18T01:17:39.650334Z",
     "start_time": "2019-09-18T01:17:39.639692Z"
    }
   },
   "outputs": [],
   "source": [
    "import itertools\n",
    "\n",
    "\n",
    "class Item(object):\n",
    "\n",
    "    def __init__(self, name, *items, price=0.00):\n",
    "\n",
    "        self.name = name\n",
    "        self.price = price  # Call setter method\n",
    "        self.childern = []\n",
    "        if items is not None:\n",
    "            self.add(*items)\n",
    "\n",
    "    @classmethod\n",
    "    def create(cls, name, price):\n",
    "\n",
    "        return cls(name, price=price)\n",
    "\n",
    "    @classmethod\n",
    "    def compose(cle, name, *items):\n",
    "\n",
    "        return cls(name, *items)\n",
    "\n",
    "    @property\n",
    "    def composite(self):\n",
    "\n",
    "        return bool(len(self.childern))\n",
    "\n",
    "    @property\n",
    "    def price(self):\n",
    "\n",
    "        if len(self.childern) != 0:\n",
    "            return sum(item.price for item in self)\n",
    "        else:\n",
    "            return self.__price\n",
    "\n",
    "    @price.setter\n",
    "    def price(self, price):\n",
    "\n",
    "        if price < 0:\n",
    "            raise ValueError('price must be > 0.')\n",
    "        else:\n",
    "            self.__price = price\n",
    "\n",
    "    def add(self, first, *items):\n",
    "\n",
    "        self.childern.extend(itertools.chain((first, ), items))\n",
    "\n",
    "    def remove(self, item):\n",
    "\n",
    "        self.childern.remove(item)\n",
    "\n",
    "    def __iter__(self):\n",
    "\n",
    "        return iter(self.childern)\n",
    "\n",
    "    def __str__(self):\n",
    "\n",
    "        result = '{} : {:.2f}'.format(self.name, self.price)\n",
    "        for child in self:\n",
    "            result += '\\n'\n",
    "            result += str(child)\n",
    "        return result\n",
    "\n",
    "\n",
    "def make_item(name, price):\n",
    "\n",
    "    return Item(name, price=price)\n",
    "\n",
    "def make_composite(name, *items):\n",
    "    \n",
    "    return Item(name, *items)"
   ]
  },
  {
   "cell_type": "code",
   "execution_count": null,
   "metadata": {},
   "outputs": [],
   "source": []
  }
 ],
 "metadata": {
  "kernelspec": {
   "display_name": "Python 3",
   "language": "python",
   "name": "python3"
  },
  "language_info": {
   "codemirror_mode": {
    "name": "ipython",
    "version": 3
   },
   "file_extension": ".py",
   "mimetype": "text/x-python",
   "name": "python",
   "nbconvert_exporter": "python",
   "pygments_lexer": "ipython3",
   "version": "3.6.7"
  },
  "toc": {
   "base_numbering": 1,
   "nav_menu": {},
   "number_sections": true,
   "sideBar": true,
   "skip_h1_title": true,
   "title_cell": "Table of Contents",
   "title_sidebar": "Contents",
   "toc_cell": true,
   "toc_position": {},
   "toc_section_display": true,
   "toc_window_display": false
  }
 },
 "nbformat": 4,
 "nbformat_minor": 2
}
