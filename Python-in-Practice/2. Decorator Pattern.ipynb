{
 "cells": [
  {
   "cell_type": "markdown",
   "metadata": {},
   "source": [
    "#### Decorator pattern"
   ]
  },
  {
   "cell_type": "markdown",
   "metadata": {},
   "source": [
    "###### a decorator factory"
   ]
  },
  {
   "cell_type": "code",
   "execution_count": 2,
   "metadata": {
    "ExecuteTime": {
     "end_time": "2019-08-22T04:56:59.458185Z",
     "start_time": "2019-08-22T04:56:59.452137Z"
    }
   },
   "outputs": [],
   "source": [
    "import functools\n",
    "def statically_typed(*types, return_type=None):\n",
    "    \"\"\"statically_type 是一个装饰器工厂, 接受参数并且返回一个装饰器\n",
    "    \"\"\"\n",
    "    def decorator(function):\n",
    "        @functools.wraps(function)\n",
    "        def wrapper(*args, **kwargs):\n",
    "            \"\"\"wrapper 函数只检查位置参数的类型.\n",
    "            \"\"\"\n",
    "            if len(args) > len(types):\n",
    "                raise ValueError('Too Many Arguments.')\n",
    "            elif len(args) < len(types):\n",
    "                raise ValueError('Too Few Arguments.')\n",
    "            else:\n",
    "                for i, (arg, arg_type) in enumerate(zip(args, types)):\n",
    "                    if not isinstance(arg, type_):\n",
    "                        raise ValueError(f'Arguments {i} must be'\n",
    "                                         f'of type {type_.__name__}.')\n",
    "            result = function(*args, **kwargs)\n",
    "            if (return_type is not None and\\\n",
    "                not isinstance(result, return_type)):\n",
    "                raise ValueError(f'Return value must be of type'\n",
    "                                 f'{return_type.__name__}.')\n",
    "            else:\n",
    "                return result\n",
    "        return wrapper\n",
    "    return decorator"
   ]
  },
  {
   "cell_type": "markdown",
   "metadata": {},
   "source": [
    "###### class decorators"
   ]
  },
  {
   "cell_type": "code",
   "execution_count": 14,
   "metadata": {
    "ExecuteTime": {
     "end_time": "2019-08-22T05:52:25.660601Z",
     "start_time": "2019-08-22T05:52:25.653397Z"
    }
   },
   "outputs": [],
   "source": [
    "import numbers\n",
    "\n",
    "\n",
    "def ensure(name, validate_func, doc=None):\n",
    "    \"\"\"A property factory\n",
    "    \"\"\"\n",
    "    def decorator(cls):\n",
    "        \"\"\"为 Cass 增加一个Property, \n",
    "        Property 的 setter 方法附有一个 validate function.\n",
    "        \"\"\"\n",
    "        private_name = '__' + name\n",
    "\n",
    "        def getter(self):\n",
    "            return getattr(self, private_name)\n",
    "\n",
    "        def setter(self, value):\n",
    "            validate_func(name, value)\n",
    "            setattr(self, private_name, value)\n",
    "        # 构造Property\n",
    "        prop = property(fget=getter, fset=setter, doc=doc)\n",
    "        # 设置Property\n",
    "        # 注意 setattr 也可以用来设置类属性\n",
    "        setattr(cls, name, prop)\n",
    "        return cls\n",
    "    return decorator\n",
    "\n",
    "# Some validate function\n",
    "\n",
    "\n",
    "def is_non_empty_str(name, value):\n",
    "    if not isinstance(value, str):\n",
    "        raise ValueError(f'{name} must be of type str.')\n",
    "    if len(value) == 0:\n",
    "        raise ValueError(f'{name} should not be empty.')\n",
    "\n",
    "\n",
    "def is_in_range(minimum=None, maximum=None):\n",
    "    assert minimum is not None or maximum is not None\n",
    "\n",
    "    def _is_in_range(name, value):\n",
    "        if not isinstance(value, numbers.Number):\n",
    "            raise ValueError(f'{name} must be a number.')\n",
    "        if minimum is not None and value < minimum:\n",
    "            raise ValueError(f'{name} {value} is too small.')\n",
    "        if maximum is not None and value > maximum:\n",
    "            raise ValueError(f'{name} {value} is too big.')\n",
    "    return _is_in_range"
   ]
  },
  {
   "cell_type": "code",
   "execution_count": 15,
   "metadata": {
    "ExecuteTime": {
     "end_time": "2019-08-22T05:52:26.180281Z",
     "start_time": "2019-08-22T05:52:26.174311Z"
    }
   },
   "outputs": [],
   "source": [
    "@ensure('title', is_non_empty_str)\n",
    "@ensure('price', is_in_range(1, 1000))\n",
    "@ensure('quantity', is_in_range(0, 10000))\n",
    "class Book(object):\n",
    "    def __init__(self, title, price, quantity):\n",
    "        self.title = title\n",
    "        self.price = price\n",
    "        self.quantity = quantity\n",
    "    \n",
    "    @property\n",
    "    def value(self):\n",
    "        return self.price * self.quantity"
   ]
  },
  {
   "cell_type": "code",
   "execution_count": 18,
   "metadata": {
    "ExecuteTime": {
     "end_time": "2019-08-22T05:54:42.604280Z",
     "start_time": "2019-08-22T05:54:42.599186Z"
    }
   },
   "outputs": [
    {
     "name": "stdout",
     "output_type": "stream",
     "text": [
      "{'__module__': '__main__', '__init__': <function Book.__init__ at 0x7f992f56a9d8>, 'value': <property object at 0x7f992f53c9f8>, '__dict__': <attribute '__dict__' of 'Book' objects>, '__weakref__': <attribute '__weakref__' of 'Book' objects>, '__doc__': None, 'quantity': <property object at 0x7f992f4f2408>, 'price': <property object at 0x7f992f53cb38>, 'title': <property object at 0x7f992f53cb88>}\n",
      "{'__title': 'zzj', '__price': 450, '__quantity': 1}\n"
     ]
    }
   ],
   "source": [
    "book = Book('zzj', 450, 1)\n",
    "print(Book.__dict__)\n",
    "print(book.__dict__)"
   ]
  },
  {
   "cell_type": "markdown",
   "metadata": {},
   "source": [
    "上面的 stacking decorators 的方式显得比较冗长,\n",
    "有什么方法可以改进?\n",
    "\n",
    "1. 创建两个描述符: NumberField 和 StringField 并且把 validate_func 设置成实例属性\n",
    "2. 创建 Ensure 描述符, 然后用 class decorator"
   ]
  },
  {
   "cell_type": "code",
   "execution_count": 26,
   "metadata": {
    "ExecuteTime": {
     "end_time": "2019-08-22T06:25:04.447948Z",
     "start_time": "2019-08-22T06:25:04.441076Z"
    }
   },
   "outputs": [],
   "source": [
    "#下面给出第二种解决方案\n",
    "\n",
    "class Ensure(object):\n",
    "    def __init__(self, validate_func, doc=None):\n",
    "        self.validate_func = validate_func\n",
    "        self.doc = doc\n",
    "\n",
    "def do_ensure(cls):\n",
    "    def make_property(name, attribute):\n",
    "        private_name = '__' + name\n",
    "        def getter(self):\n",
    "            return getattr(self, private_name)\n",
    "        def setter(self, value):\n",
    "            attribute.validate_func(name, value)\n",
    "            setattr(self, private_name, value)\n",
    "        return property(fget=getter, fset=setter, doc=attribute.doc)\n",
    "    \n",
    "    #下面遍历 cls 的类属性\n",
    "    for name, attribute in cls.__dict__.items():\n",
    "        if isinstance(attribute, Ensure):\n",
    "            setattr(cls, name, make_property(name, attribute))\n",
    "    return cls\n",
    "\n",
    "\n",
    "@do_ensure\n",
    "class Book(object):\n",
    "    title = Ensure(is_non_empty_str)\n",
    "    price = Ensure(is_in_range(1, 1000))\n",
    "    quantity = Ensure(is_in_range(0, 10000))\n",
    "    \n",
    "    def __init__(self, title, price, quantity):\n",
    "        self.title = title\n",
    "        self.price = price\n",
    "        self.quantity = quantity\n",
    "    \n",
    "    @property\n",
    "    def value(self):\n",
    "        return self.price * self.quantity"
   ]
  },
  {
   "cell_type": "code",
   "execution_count": 27,
   "metadata": {
    "ExecuteTime": {
     "end_time": "2019-08-22T06:25:05.609862Z",
     "start_time": "2019-08-22T06:25:05.607377Z"
    }
   },
   "outputs": [
    {
     "name": "stdout",
     "output_type": "stream",
     "text": [
      "{'__module__': '__main__', 'title': <property object at 0x7f992f56cd18>, 'price': <property object at 0x7f992f56ce08>, 'quantity': <property object at 0x7f992f56cc78>, '__init__': <function Book.__init__ at 0x7f99409870d0>, 'value': <property object at 0x7f992f56cef8>, '__dict__': <attribute '__dict__' of 'Book' objects>, '__weakref__': <attribute '__weakref__' of 'Book' objects>, '__doc__': None}\n",
      "{'__title': 'zzj', '__price': 450, '__quantity': 1}\n"
     ]
    }
   ],
   "source": [
    "book = Book('zzj', 450, 1)\n",
    "print(Book.__dict__)\n",
    "print(book.__dict__)"
   ]
  },
  {
   "cell_type": "markdown",
   "metadata": {},
   "source": [
    "###### Using a Class Decorator Instead of Subclassing\n",
    "如果父类中的一些非抽象的方法或者属性, 在子类中从来没有更改过, 可以考虑用装饰器"
   ]
  },
  {
   "cell_type": "code",
   "execution_count": 29,
   "metadata": {
    "ExecuteTime": {
     "end_time": "2019-08-22T06:37:06.594411Z",
     "start_time": "2019-08-22T06:37:06.588553Z"
    }
   },
   "outputs": [],
   "source": [
    "class Mediated(object):\n",
    "    def __init__(self):\n",
    "        self.mediator = None\n",
    "    def on_change(self):\n",
    "        if self.mediator is not None:\n",
    "            self.mediator.on_change(self)\n",
    "\n",
    "#如果在子类中我们永远不需要重载 on_change 方法, 那么把上面的基类变成装饰器\n",
    "\n",
    "def Mediated(cls):\n",
    "    setattr(cls, 'mediator', None)\n",
    "    def on_change(self):\n",
    "        if self.mediator is not None:\n",
    "            self.mediator.on_change(self)\n",
    "    setattr(cls, 'on_change', on_change)\n",
    "    return cls"
   ]
  },
  {
   "cell_type": "code",
   "execution_count": 30,
   "metadata": {
    "ExecuteTime": {
     "end_time": "2019-08-22T06:37:22.206652Z",
     "start_time": "2019-08-22T06:37:22.201945Z"
    }
   },
   "outputs": [],
   "source": [
    "@Mediated\n",
    "class A(object):\n",
    "    pass"
   ]
  },
  {
   "cell_type": "code",
   "execution_count": 31,
   "metadata": {
    "ExecuteTime": {
     "end_time": "2019-08-22T06:37:25.962991Z",
     "start_time": "2019-08-22T06:37:25.954716Z"
    }
   },
   "outputs": [
    {
     "data": {
      "text/plain": [
       "mappingproxy({'__module__': '__main__',\n",
       "              '__dict__': <attribute '__dict__' of 'A' objects>,\n",
       "              '__weakref__': <attribute '__weakref__' of 'A' objects>,\n",
       "              '__doc__': None,\n",
       "              'mediator': None,\n",
       "              'on_change': <function __main__.Mediated.<locals>.on_change(self)>})"
      ]
     },
     "execution_count": 31,
     "metadata": {},
     "output_type": "execute_result"
    }
   ],
   "source": [
    "A.__dict__"
   ]
  },
  {
   "cell_type": "code",
   "execution_count": null,
   "metadata": {},
   "outputs": [],
   "source": []
  }
 ],
 "metadata": {
  "kernelspec": {
   "display_name": "Python 3",
   "language": "python",
   "name": "python3"
  },
  "language_info": {
   "codemirror_mode": {
    "name": "ipython",
    "version": 3
   },
   "file_extension": ".py",
   "mimetype": "text/x-python",
   "name": "python",
   "nbconvert_exporter": "python",
   "pygments_lexer": "ipython3",
   "version": "3.6.7"
  },
  "toc": {
   "base_numbering": 1,
   "nav_menu": {},
   "number_sections": true,
   "sideBar": true,
   "skip_h1_title": false,
   "title_cell": "Table of Contents",
   "title_sidebar": "Contents",
   "toc_cell": false,
   "toc_position": {},
   "toc_section_display": true,
   "toc_window_display": false
  },
  "varInspector": {
   "cols": {
    "lenName": 16,
    "lenType": 16,
    "lenVar": 40
   },
   "kernels_config": {
    "python": {
     "delete_cmd_postfix": "",
     "delete_cmd_prefix": "del ",
     "library": "var_list.py",
     "varRefreshCmd": "print(var_dic_list())"
    },
    "r": {
     "delete_cmd_postfix": ") ",
     "delete_cmd_prefix": "rm(",
     "library": "var_list.r",
     "varRefreshCmd": "cat(var_dic_list()) "
    }
   },
   "types_to_exclude": [
    "module",
    "function",
    "builtin_function_or_method",
    "instance",
    "_Feature"
   ],
   "window_display": false
  }
 },
 "nbformat": 4,
 "nbformat_minor": 2
}
