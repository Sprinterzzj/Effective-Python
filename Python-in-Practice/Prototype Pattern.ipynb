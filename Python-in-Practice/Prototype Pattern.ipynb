{
 "cells": [
  {
   "cell_type": "markdown",
   "metadata": {
    "toc": true
   },
   "source": [
    "<h1>Table of Contents<span class=\"tocSkip\"></span></h1>\n",
    "<div class=\"toc\"><ul class=\"toc-item\"><li><ul class=\"toc-item\"><li><ul class=\"toc-item\"><li><span><a href=\"#Prototype-pattern:-一个简单的例子\" data-toc-modified-id=\"Prototype-pattern:-一个简单的例子-0.0.1\"><span class=\"toc-item-num\">0.0.1&nbsp;&nbsp;</span>Prototype pattern: 一个简单的例子</a></span></li></ul></li></ul></li><li><span><a href=\"#Prototype-Pattern\" data-toc-modified-id=\"Prototype-Pattern-1\"><span class=\"toc-item-num\">1&nbsp;&nbsp;</span>Prototype Pattern</a></span></li></ul></div>"
   ]
  },
  {
   "cell_type": "markdown",
   "metadata": {},
   "source": [
    "###### Prototype pattern: 一个简单的例子\n",
    "\n",
    "用来解决对象的 copy 的问题. copy 分成两种: shallow copy 和 deep copy.\n",
    "\n",
    "1. 浅拷贝会利用引用指向同一个对象.\n",
    "2. 深拷贝递归复制并且创建新的对象.\n",
    "\n",
    "如果不需要修改对象那就用浅拷贝"
   ]
  },
  {
   "cell_type": "code",
   "execution_count": 8,
   "metadata": {
    "ExecuteTime": {
     "end_time": "2019-09-12T06:52:54.373644Z",
     "start_time": "2019-09-12T06:52:54.363177Z"
    }
   },
   "outputs": [],
   "source": [
    "import copy \n",
    "from collections import OrderedDict\n",
    "\n",
    "\n",
    "class Prototype(object):\n",
    "    \n",
    "    def __init__(self, valid_types:list=None):\n",
    "        \n",
    "        self._objects = {}\n",
    "        self._valid_types = valid_types \n",
    "    \n",
    "    def register(self, obj_name, obj):\n",
    "        \n",
    "        if self._valid_types is not None:\n",
    "            if not isinstance(obj, tuple(self._valid_types)):\n",
    "                raise ValueError(f'The type of obj should be in {self._valid_types}, '\n",
    "                                 f'{type(obj)} found.')\n",
    "        self._objects.update({obj_name : obj})\n",
    "    \n",
    "    def unregister(self, obj_name):\n",
    "        \n",
    "        if obj_name in self._objects:\n",
    "            del self._objects[obj_name]\n",
    "    \n",
    "    def clone(self, obj_name, **attributes):\n",
    "        \"\"\"Deep copy\n",
    "        \"\"\"\n",
    "        if obj_name not in self._objects:\n",
    "            raise ValueError(f'Incorrect object name: {obj_name}.')\n",
    "        \n",
    "        new_obj = copy.deepcopy(self._objects[obj_name])\n",
    "        new_obj.__dict__.update(attributes)\n",
    "        return new_obj\n",
    "\n",
    "\n",
    "class Book(object):\n",
    "    \n",
    "    def __init__(self, name, authors, price, **rest):\n",
    "        \n",
    "        self.name = name\n",
    "        self.authors = authors\n",
    "        self.price = price\n",
    "        self.__dict__.update(rest)\n",
    "    \n",
    "    def __str__(self):\n",
    "\n",
    "        mylist = []\n",
    "        ordered = OrderedDict(sorted(self.__dict__.items()))\n",
    "        for i in ordered.keys():\n",
    "            mylist.append('{}: {}'.format(i, ordered[i]))\n",
    "            if i == 'price':\n",
    "                mylist.append('$')\n",
    "            mylist.append('\\n')\n",
    "        return ''.join(mylist)"
   ]
  },
  {
   "cell_type": "code",
   "execution_count": 9,
   "metadata": {
    "ExecuteTime": {
     "end_time": "2019-09-12T06:52:54.803134Z",
     "start_time": "2019-09-12T06:52:54.799779Z"
    }
   },
   "outputs": [],
   "source": [
    "book = Book('The C Programming Language', \n",
    "            ('Brian W. Kernighan', 'Dennis M.Ritchie'),\n",
    "            price=118, publisher='Prentice Hall', \n",
    "            length=228, publication_date='1978-02-22',\n",
    "            tags=('C', 'programming', 'algorithms', 'data structures'))\n",
    "prototype = Prototype([Book, ])\n",
    "prototype.register('k&r-first', book)"
   ]
  },
  {
   "cell_type": "code",
   "execution_count": 10,
   "metadata": {
    "ExecuteTime": {
     "end_time": "2019-09-12T06:52:55.436878Z",
     "start_time": "2019-09-12T06:52:55.433926Z"
    }
   },
   "outputs": [],
   "source": [
    "another_book = prototype.clone('k&r-first', name='The C Programming Language (ANSI)', \n",
    "                               price=48.99, length=274,\n",
    "                               publication_date='1988-04-01', edition=2)"
   ]
  },
  {
   "cell_type": "code",
   "execution_count": 11,
   "metadata": {
    "ExecuteTime": {
     "end_time": "2019-09-12T06:53:25.500334Z",
     "start_time": "2019-09-12T06:53:25.497427Z"
    }
   },
   "outputs": [
    {
     "name": "stdout",
     "output_type": "stream",
     "text": [
      "authors: ('Brian W. Kernighan', 'Dennis M.Ritchie')\n",
      "length: 228\n",
      "name: The C Programming Language\n",
      "price: 118$\n",
      "publication_date: 1978-02-22\n",
      "publisher: Prentice Hall\n",
      "tags: ('C', 'programming', 'algorithms', 'data structures')\n",
      "\n"
     ]
    }
   ],
   "source": [
    "print(book)"
   ]
  },
  {
   "cell_type": "code",
   "execution_count": 12,
   "metadata": {
    "ExecuteTime": {
     "end_time": "2019-09-12T06:53:32.375447Z",
     "start_time": "2019-09-12T06:53:32.372661Z"
    }
   },
   "outputs": [
    {
     "name": "stdout",
     "output_type": "stream",
     "text": [
      "authors: ('Brian W. Kernighan', 'Dennis M.Ritchie')\n",
      "edition: 2\n",
      "length: 274\n",
      "name: The C Programming Language (ANSI)\n",
      "price: 48.99$\n",
      "publication_date: 1988-04-01\n",
      "publisher: Prentice Hall\n",
      "tags: ('C', 'programming', 'algorithms', 'data structures')\n",
      "\n"
     ]
    }
   ],
   "source": [
    "print(another_book)"
   ]
  },
  {
   "cell_type": "code",
   "execution_count": 13,
   "metadata": {
    "ExecuteTime": {
     "end_time": "2019-09-12T06:53:45.463771Z",
     "start_time": "2019-09-12T06:53:45.454469Z"
    }
   },
   "outputs": [
    {
     "data": {
      "text/plain": [
       "False"
      ]
     },
     "execution_count": 13,
     "metadata": {},
     "output_type": "execute_result"
    }
   ],
   "source": [
    "book is another_book"
   ]
  },
  {
   "cell_type": "markdown",
   "metadata": {},
   "source": [
    "#### Prototype Pattern"
   ]
  },
  {
   "cell_type": "code",
   "execution_count": 21,
   "metadata": {
    "ExecuteTime": {
     "end_time": "2019-09-12T07:08:37.613405Z",
     "start_time": "2019-09-12T07:08:37.608758Z"
    }
   },
   "outputs": [],
   "source": [
    "class Point(object):\n",
    "    \n",
    "    __slots__ = ('x', 'y')\n",
    "    \n",
    "    def __init__(self, x, y):\n",
    "        \n",
    "        self.x = x\n",
    "        self.y = y\n",
    "    \n",
    "    def __str__(self):\n",
    "        \n",
    "        return f'{self.x}, {self.y}'\n",
    "    \n",
    "    @classmethod\n",
    "    def create_points(cls, xs:list, ys:list):\n",
    "        \n",
    "        assert len(xs) == len(ys)\n",
    "        for x, y in zip(xs, ys):\n",
    "            yield cls(x, y)\n",
    "\n",
    "def create_instance(cls, *args, **kwargs):\n",
    "    \n",
    "    return cls(*args, **kwargs)"
   ]
  },
  {
   "cell_type": "markdown",
   "metadata": {},
   "source": [
    "下面演示创建实例的若干种方法"
   ]
  },
  {
   "cell_type": "code",
   "execution_count": 26,
   "metadata": {
    "ExecuteTime": {
     "end_time": "2019-09-12T07:12:52.329254Z",
     "start_time": "2019-09-12T07:12:52.324879Z"
    }
   },
   "outputs": [],
   "source": [
    "import sys\n",
    "point1 = Point(1, 2) #静态创建, 其他全部是动态创建\n",
    "point2 = eval('{}({}, {})'.format('Point', 2, 4))\n",
    "point3 = getattr(sys.modules[__name__], 'Point')(3, 6)\n",
    "point4 = globals()['Point'](4, 8)\n",
    "point5 = create_instance(Point, 5, 10)\n",
    "point6 = copy.deepcopy(point5)\n",
    "point7 = point1.__class__(7, 14)\n",
    "points = list(Point.create_points([1,2,3], [4,5,6]))"
   ]
  },
  {
   "cell_type": "code",
   "execution_count": null,
   "metadata": {},
   "outputs": [],
   "source": []
  }
 ],
 "metadata": {
  "kernelspec": {
   "display_name": "Python 3",
   "language": "python",
   "name": "python3"
  },
  "language_info": {
   "codemirror_mode": {
    "name": "ipython",
    "version": 3
   },
   "file_extension": ".py",
   "mimetype": "text/x-python",
   "name": "python",
   "nbconvert_exporter": "python",
   "pygments_lexer": "ipython3",
   "version": "3.6.7"
  },
  "toc": {
   "base_numbering": 1,
   "nav_menu": {},
   "number_sections": true,
   "sideBar": true,
   "skip_h1_title": true,
   "title_cell": "Table of Contents",
   "title_sidebar": "Contents",
   "toc_cell": true,
   "toc_position": {},
   "toc_section_display": true,
   "toc_window_display": false
  }
 },
 "nbformat": 4,
 "nbformat_minor": 2
}
