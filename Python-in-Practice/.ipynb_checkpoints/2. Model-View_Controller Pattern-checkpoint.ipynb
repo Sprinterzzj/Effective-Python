{
 "cells": [
  {
   "cell_type": "markdown",
   "metadata": {
    "toc": true
   },
   "source": [
    "<h1>Table of Contents<span class=\"tocSkip\"></span></h1>\n",
    "<div class=\"toc\"><ul class=\"toc-item\"><li><span><a href=\"#MVC模式:-一个简单的例子\" data-toc-modified-id=\"MVC模式:-一个简单的例子-1\"><span class=\"toc-item-num\">1&nbsp;&nbsp;</span>MVC模式: 一个简单的例子</a></span></li></ul></div>"
   ]
  },
  {
   "cell_type": "markdown",
   "metadata": {},
   "source": [
    "###### MVC模式: 一个简单的例子\n",
    "\n",
    "MVC模式既是一种设计模式，也是软件架构模式。比如流行的django框架就是mvc(MTV)模式。\n",
    "\n",
    "Model层负责和数据库交互，View层负责展现逻辑，Controller层负责粘合Model和View层，将各个部分解耦，使代码更易扩展和维护。"
   ]
  },
  {
   "cell_type": "code",
   "execution_count": 1,
   "metadata": {
    "ExecuteTime": {
     "end_time": "2019-09-18T23:51:24.302740Z",
     "start_time": "2019-09-18T23:51:24.300633Z"
    }
   },
   "outputs": [],
   "source": [
    "quotes = ('A man is not complete until he is married. Then he is finished.',\n",
    "          'As I said before, I never repeat myself.',\n",
    "          'Behind a successful man is an exhausted woman.',\n",
    "          'Black holes really suck...', 'Facts are stubborn things.')"
   ]
  },
  {
   "cell_type": "code",
   "execution_count": 2,
   "metadata": {
    "ExecuteTime": {
     "end_time": "2019-09-19T00:18:20.163115Z",
     "start_time": "2019-09-19T00:18:20.155774Z"
    }
   },
   "outputs": [],
   "source": [
    "class QuoteModel(object):\n",
    "    \n",
    "    def get_quote(self, index):\n",
    "        \n",
    "        try:\n",
    "            return quotes[index]\n",
    "        except IndexError:\n",
    "            return 'Not Found'\n",
    "\n",
    "\n",
    "class QuoteTerminalView(object):\n",
    "    \n",
    "    def show(self, quote):\n",
    "        \n",
    "        print('And the quote is: `{}`.'.format(quote))\n",
    "    \n",
    "    def error(self, msg):\n",
    "        \n",
    "        print('Error: `{}`.'.format(msg))\n",
    "    \n",
    "    def select_quote(self):\n",
    "        \n",
    "        return input('Which quote number would you like to see?')\n",
    "\n",
    "\n",
    "class QuoteTerminalController(object):\n",
    "    \n",
    "    def __init__(self):\n",
    "        \n",
    "        self.model = QuoteModel()\n",
    "        self.view = QuoteTerminalView()\n",
    "    \n",
    "    def run(self):\n",
    "        \n",
    "        valid_input = False\n",
    "        while not valid_input:\n",
    "            index = self.view.select_quote()\n",
    "            try:\n",
    "                index = int(index)\n",
    "            except ValueError:\n",
    "                self.view.error('Incorrect index `{}`'.format(index))\n",
    "            else:\n",
    "                valid_input = True\n",
    "                quote = self.model.get_quote(index)\n",
    "                self.view.show(quote)"
   ]
  },
  {
   "cell_type": "code",
   "execution_count": null,
   "metadata": {},
   "outputs": [],
   "source": []
  }
 ],
 "metadata": {
  "kernelspec": {
   "display_name": "Python 3",
   "language": "python",
   "name": "python3"
  },
  "language_info": {
   "codemirror_mode": {
    "name": "ipython",
    "version": 3
   },
   "file_extension": ".py",
   "mimetype": "text/x-python",
   "name": "python",
   "nbconvert_exporter": "python",
   "pygments_lexer": "ipython3",
   "version": "3.6.7"
  },
  "toc": {
   "base_numbering": 1,
   "nav_menu": {},
   "number_sections": true,
   "sideBar": true,
   "skip_h1_title": true,
   "title_cell": "Table of Contents",
   "title_sidebar": "Contents",
   "toc_cell": true,
   "toc_position": {},
   "toc_section_display": true,
   "toc_window_display": false
  }
 },
 "nbformat": 4,
 "nbformat_minor": 2
}
