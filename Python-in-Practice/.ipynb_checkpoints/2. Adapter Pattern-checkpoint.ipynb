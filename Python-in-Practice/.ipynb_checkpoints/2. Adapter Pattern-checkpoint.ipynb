{
 "cells": [
  {
   "cell_type": "markdown",
   "metadata": {
    "toc": true
   },
   "source": [
    "<h1>Table of Contents<span class=\"tocSkip\"></span></h1>\n",
    "<div class=\"toc\"><ul class=\"toc-item\"><li><ul class=\"toc-item\"><li><ul class=\"toc-item\"><li><span><a href=\"#适配器模式:-一个简单的例子\" data-toc-modified-id=\"适配器模式:-一个简单的例子-0.0.1\"><span class=\"toc-item-num\">0.0.1&nbsp;&nbsp;</span>适配器模式: 一个简单的例子</a></span></li></ul></li></ul></li><li><span><a href=\"#Adapter-Pattern\" data-toc-modified-id=\"Adapter-Pattern-1\"><span class=\"toc-item-num\">1&nbsp;&nbsp;</span>Adapter Pattern</a></span></li></ul></div>"
   ]
  },
  {
   "cell_type": "markdown",
   "metadata": {},
   "source": [
    "###### 适配器模式: 一个简单的例子\n",
    "\n",
    "适配器模式通过引入间接层来实现不兼容接口之间的适配。\n",
    "\n",
    "开闭原则：适配器模式和OOP中的开闭原则关系密切，开闭原则强调对扩展开放，对修改关闭。通过适配器模式我们可以通过创建适配器模式在不修改原有类代码的情况下实现新的功能。"
   ]
  },
  {
   "cell_type": "code",
   "execution_count": 3,
   "metadata": {
    "ExecuteTime": {
     "end_time": "2019-09-12T07:37:21.135598Z",
     "start_time": "2019-09-12T07:37:21.128884Z"
    }
   },
   "outputs": [],
   "source": [
    "class Computer(object):\n",
    "\n",
    "    def __init__(self, name):\n",
    "\n",
    "        self.name = name\n",
    "\n",
    "    def __str__(self):\n",
    "\n",
    "        return f'the {self.name} computer'\n",
    "\n",
    "    def execute(self):\n",
    "\n",
    "        print('Execute a program.')\n",
    "\n",
    "\n",
    "class Synthesizer(object):\n",
    "\n",
    "    def __init__(self, name):\n",
    "\n",
    "        self.name = name\n",
    "\n",
    "    def __str__(self):\n",
    "\n",
    "        return f'the {self.name} synthesizer'\n",
    "\n",
    "    def play(self):\n",
    "\n",
    "        print('Playing a song.')\n",
    "\n",
    "\n",
    "class Human(object):\n",
    "    \n",
    "    def __init__(self, name):\n",
    "        self.name = name\n",
    "\n",
    "    def __str__(self):\n",
    "        return 'the {} human'.format(self.name)\n",
    "\n",
    "    def speak(self):\n",
    "        print('Saying hello.')"
   ]
  },
  {
   "cell_type": "code",
   "execution_count": 5,
   "metadata": {
    "ExecuteTime": {
     "end_time": "2019-09-12T07:44:22.980148Z",
     "start_time": "2019-09-12T07:44:22.976321Z"
    }
   },
   "outputs": [],
   "source": [
    "class Adapter(object):\n",
    "    \n",
    "    def __init__(self, obj, adapted_method:dict):\n",
    "        \"\"\"不使用继承, 使用 __dict__ 实现适配器模式.\n",
    "        \"\"\"\n",
    "        self.obj = obj\n",
    "        self.__dict__.update(adapted_method)\n",
    "    \n",
    "    def __str__(self):\n",
    "        \n",
    "        return str(self.obj)"
   ]
  },
  {
   "cell_type": "code",
   "execution_count": 7,
   "metadata": {
    "ExecuteTime": {
     "end_time": "2019-09-12T07:52:50.145921Z",
     "start_time": "2019-09-12T07:52:50.142061Z"
    }
   },
   "outputs": [],
   "source": [
    "# 使用示例\n",
    "objs = [Computer('ASUS'), ]\n",
    "\n",
    "synth = Synthesizer('MOOG')\n",
    "objs.append(Adapter(obj=synth, adapted_method=dict(execute=synth.play)))\n",
    "\n",
    "human = Human('WNN')\n",
    "objs.append(Adapter(obj=human, adapted_method=dict(execute=human.speak)))"
   ]
  },
  {
   "cell_type": "code",
   "execution_count": 8,
   "metadata": {
    "ExecuteTime": {
     "end_time": "2019-09-12T07:57:47.208236Z",
     "start_time": "2019-09-12T07:57:47.204526Z"
    }
   },
   "outputs": [
    {
     "name": "stdout",
     "output_type": "stream",
     "text": [
      "the ASUS computer\n",
      "Execute a program.\n",
      "the MOOG synthesizer\n",
      "Playing a song.\n",
      "the WNN human\n",
      "Saying hello.\n"
     ]
    }
   ],
   "source": [
    "for obj in objs:\n",
    "    # 用统一的 execute 接口适配不同对象的方法, 这样\n",
    "    # 在无需修改源码的情况下完成了不同方法的适配\n",
    "    print(obj)\n",
    "    obj.execute()"
   ]
  },
  {
   "cell_type": "markdown",
   "metadata": {
    "run_control": {
     "marked": true
    }
   },
   "source": [
    "#### Adapter Pattern"
   ]
  },
  {
   "cell_type": "code",
   "execution_count": 9,
   "metadata": {
    "ExecuteTime": {
     "end_time": "2019-09-12T08:18:27.148184Z",
     "start_time": "2019-09-12T08:18:27.143759Z"
    },
    "run_control": {
     "marked": true
    }
   },
   "outputs": [],
   "source": [
    "class Page(object):\n",
    "    \"\"\"用来渲染页面的类, Page class\n",
    "    不知道 renderer 属性的类的定义,\n",
    "    它只需要调用三个方法: header, paragraph 和 footer\n",
    "\n",
    "    \"\"\"\n",
    "\n",
    "    def __init__(self, title, renderer):\n",
    "\n",
    "        if not isinstance(renderer, Renderer):\n",
    "            raise TypeError(\n",
    "                f'Excepted object of type Renderer, found {type(renderer).__name__}')\n",
    "\n",
    "        self.title = title\n",
    "        self.renderer = renderer\n",
    "        self.paragraphs = []\n",
    "\n",
    "    def add_paragraph(self, paragraph):\n",
    "\n",
    "        self.paragraphs.append(paragraph)\n",
    "\n",
    "    def render(self):\n",
    "\n",
    "        self.renderer.header(self.title)\n",
    "        for paragraph in self.paragraphs:\n",
    "            self.renderer.paragraph(paragraph)\n",
    "        self.renderer.footer()"
   ]
  },
  {
   "cell_type": "markdown",
   "metadata": {},
   "source": [
    "上面的实现带来的一个问题是: 我们所有的 renderer 实例都必须是 Renderer或者其子类的实例.\n",
    "我们可以用 \\_\\_subclasshook\\_\\_ 解决这个问题"
   ]
  },
  {
   "cell_type": "code",
   "execution_count": 4,
   "metadata": {
    "ExecuteTime": {
     "end_time": "2019-09-13T00:05:15.229619Z",
     "start_time": "2019-09-13T00:05:15.224887Z"
    }
   },
   "outputs": [],
   "source": [
    "import abc\n",
    "import collections\n",
    "\n",
    "\n",
    "class Renderer(metaclass=abc.ABCMeta):\n",
    "    \n",
    "    @classmethod\n",
    "    def __subclasshook__(class_, subclass_):\n",
    "        \"\"\"__subclasshook__ 函数在 isinstance() 调用的\n",
    "        时候被调用, 用来判断:\n",
    "        if the object it is given as its first argument is a subclass of the class \n",
    "        (or any of the tuple of classes) it is passed as its second argument.\n",
    "        \n",
    "        Parameters\n",
    "        ----------\n",
    "        classs_: isinstance 的第二个参数, class or tuple of cls\n",
    "        subclass_: class_ 子类的 instance, 注意subclass_ 是 class_ 的实例是不会调用 __subclasshook_ 的.\n",
    "        \"\"\"\n",
    "        print('Calling __subclasshook__.')\n",
    "        print('class_ is: ', class_)\n",
    "        print('subclass_ is: ', subclass_)\n",
    "        if class_ is Renderer: # 只有 isinstance(instance, Renderer)的时候才会被执行下面的代码, subcalss的话不会执行\n",
    "            attributes = collections.ChainMap(*( cls_.__dict__ for cls_ in subclass_.__mro__))\n",
    "            methods = ('header', 'paragraph', 'footer')\n",
    "            if all(method in attributes for method in methods):\n",
    "                return True\n",
    "        return NotImplemented"
   ]
  },
  {
   "cell_type": "code",
   "execution_count": 11,
   "metadata": {
    "ExecuteTime": {
     "end_time": "2019-09-13T00:37:19.091880Z",
     "start_time": "2019-09-13T00:37:19.086317Z"
    }
   },
   "outputs": [],
   "source": [
    "import sys\n",
    "import textwrap\n",
    "\n",
    "\n",
    "class TextRenderer(object):\n",
    "    \"\"\"a simple class that supports the page renderer interface\n",
    "    \"\"\"\n",
    "\n",
    "    def __init__(self, width=80, file=sys.stdout):\n",
    "\n",
    "        self.width = width\n",
    "        self.file = file\n",
    "        self.previous = False\n",
    "\n",
    "    def header(self, title):\n",
    "\n",
    "        self.file.write('{0:^{2}}\\n{1:^{2}}\\n'.\n",
    "                        format(title, '=' * len(title), self.width))\n",
    "\n",
    "    def paragraph(self, text):\n",
    "\n",
    "        if self.previous == True: # ensure that each paragraph is separated by a blank line from the one before\n",
    "            self.file.write('\\n')\n",
    "        \n",
    "        self.file.write(textwrap.fill(text, self.width))\n",
    "        self.file.write('\\n')\n",
    "        self.previous = True\n",
    "    \n",
    "    def footer(self):\n",
    "        \n",
    "        pass"
   ]
  },
  {
   "cell_type": "code",
   "execution_count": 15,
   "metadata": {
    "ExecuteTime": {
     "end_time": "2019-09-13T00:40:21.071505Z",
     "start_time": "2019-09-13T00:40:21.067537Z"
    }
   },
   "outputs": [
    {
     "data": {
      "text/plain": [
       "True"
      ]
     },
     "execution_count": 15,
     "metadata": {},
     "output_type": "execute_result"
    }
   ],
   "source": [
    "t = TextRenderer()\n",
    "\n",
    "# 由于我们的 __subclasshook__ 的实现,\n",
    "# 只要是具备了 上面三个 method 的 class\n",
    "# 都算是 Renderer 的子类.\n",
    "isinstance(t, Renderer)"
   ]
  },
  {
   "cell_type": "code",
   "execution_count": 12,
   "metadata": {
    "ExecuteTime": {
     "end_time": "2019-09-13T00:37:19.496333Z",
     "start_time": "2019-09-13T00:37:19.490493Z"
    }
   },
   "outputs": [],
   "source": [
    "import html\n",
    "\n",
    "\n",
    "class HtmlWriter(object):\n",
    "\n",
    "    def __init__(self, file=sys.stdout):\n",
    "\n",
    "        self.file = file\n",
    "\n",
    "    def header(self):\n",
    "\n",
    "        self.file.write('<!doctype html>\\n<html>\\n')\n",
    "\n",
    "    def title(self, title):\n",
    "\n",
    "        self.file.write(\n",
    "            \"<head><title>{}</title></head>\\n\".format(html.escape(title)))\n",
    "\n",
    "    def start_body(self):\n",
    "\n",
    "        self.file.write('<body>\\n')\n",
    "\n",
    "    def body(self, text):\n",
    "\n",
    "        self.file.write('<p>{}</p>\\n'.format(html.escape(text)))\n",
    "\n",
    "    def end_body(self):\n",
    "\n",
    "        self.file.write('</body>\\n')\n",
    "\n",
    "    def footer(self):\n",
    "\n",
    "        self.file.write('</html>\\n')"
   ]
  },
  {
   "cell_type": "markdown",
   "metadata": {},
   "source": [
    "上面的HtmlWriter可以被用来写一个简单的heml页面, 但是他不能直接用作 Page 类的 renderer 成员.\n",
    "\n",
    "解决方案:\n",
    "\n",
    "1. 继承 HtemlWriter, 让子类实现三个接口.\n",
    "2. 更好的方法: Adapter"
   ]
  },
  {
   "cell_type": "code",
   "execution_count": null,
   "metadata": {},
   "outputs": [],
   "source": [
    "class HtmlRender(object):\n",
    "    \"\"\" HtmlWriter 的适配器类\n",
    "    \"\"\"\n",
    "    def __init__(self, htmlWriter):\n",
    "        \n",
    "        self.htmlWriter = htmlWriter\n",
    "    \n",
    "    def header(self, title):\n",
    "        \n",
    "        self.htmlWriter.head()\n",
    "        self.htmlWriter.title(title)\n",
    "        self.htmlWriter.start_body()\n",
    "    \n",
    "    def paragraph(self, text):\n",
    "        \n",
    "        self.htmlWriter.body(text)\n",
    "    \n",
    "    def footer(self):\n",
    "        \n",
    "        self.htmlWriter.end_body()\n",
    "        self.htmlWriter.footer()"
   ]
  }
 ],
 "metadata": {
  "kernelspec": {
   "display_name": "Python 3",
   "language": "python",
   "name": "python3"
  },
  "language_info": {
   "codemirror_mode": {
    "name": "ipython",
    "version": 3
   },
   "file_extension": ".py",
   "mimetype": "text/x-python",
   "name": "python",
   "nbconvert_exporter": "python",
   "pygments_lexer": "ipython3",
   "version": "3.6.7"
  },
  "toc": {
   "base_numbering": 1,
   "nav_menu": {},
   "number_sections": true,
   "sideBar": true,
   "skip_h1_title": true,
   "title_cell": "Table of Contents",
   "title_sidebar": "Contents",
   "toc_cell": true,
   "toc_position": {},
   "toc_section_display": true,
   "toc_window_display": false
  }
 },
 "nbformat": 4,
 "nbformat_minor": 2
}
