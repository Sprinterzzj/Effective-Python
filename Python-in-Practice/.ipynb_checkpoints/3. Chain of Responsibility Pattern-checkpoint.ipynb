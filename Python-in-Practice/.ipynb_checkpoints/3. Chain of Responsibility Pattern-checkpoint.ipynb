{
 "cells": [
  {
   "cell_type": "markdown",
   "metadata": {
    "toc": true
   },
   "source": [
    "<h1>Table of Contents<span class=\"tocSkip\"></span></h1>\n",
    "<div class=\"toc\"><ul class=\"toc-item\"><li><ul class=\"toc-item\"><li><ul class=\"toc-item\"><li><span><a href=\"#责任链模式:-一个简单的例子\" data-toc-modified-id=\"责任链模式:-一个简单的例子-0.0.1\"><span class=\"toc-item-num\">0.0.1&nbsp;&nbsp;</span>责任链模式: 一个简单的例子</a></span></li></ul></li></ul></li><li><span><a href=\"#Chain-of-Responsibility-Pattern\" data-toc-modified-id=\"Chain-of-Responsibility-Pattern-1\"><span class=\"toc-item-num\">1&nbsp;&nbsp;</span>Chain of Responsibility Pattern</a></span><ul class=\"toc-item\"><li><ul class=\"toc-item\"><li><span><a href=\"#a-conventional-chain\" data-toc-modified-id=\"a-conventional-chain-1.0.1\"><span class=\"toc-item-num\">1.0.1&nbsp;&nbsp;</span>a conventional chain</a></span></li><li><span><a href=\"#A-Coroutine-Based-Chain\" data-toc-modified-id=\"A-Coroutine-Based-Chain-1.0.2\"><span class=\"toc-item-num\">1.0.2&nbsp;&nbsp;</span>A Coroutine-Based Chain</a></span></li></ul></li></ul></li></ul></div>"
   ]
  },
  {
   "cell_type": "markdown",
   "metadata": {},
   "source": [
    "###### 责任链模式: 一个简单的例子\n",
    "创建链式对象用来接受广播消息:\n",
    "\n",
    "* 我们把消息发送给一系列对象的首个节点，对象可以选择处理消息或者向下一个对象传递,只有对消息感兴趣的节点处理。\n",
    "* 用来解耦发送者和接收者。\n",
    "* 在python里通过dynamic dispatching来实现。"
   ]
  },
  {
   "cell_type": "code",
   "execution_count": 1,
   "metadata": {
    "ExecuteTime": {
     "end_time": "2019-09-19T04:28:37.170043Z",
     "start_time": "2019-09-19T04:28:37.163563Z"
    }
   },
   "outputs": [],
   "source": [
    "# 一个事件驱动系统\n",
    "class Event(object):\n",
    "\n",
    "    def __init__(self, name):\n",
    "\n",
    "        self.name = name\n",
    "\n",
    "    def __str__(self):\n",
    "\n",
    "        return self.name\n",
    "\n",
    "\n",
    "class Widget(object):\n",
    "    \"\"\"组件的基类\n",
    "    \"\"\"\n",
    "\n",
    "    def __init__(self, parent=None):\n",
    "\n",
    "        self.parent = parent\n",
    "\n",
    "    def handle(self, event):\n",
    "        \"\"\" dynamic dispatching\n",
    "        \"\"\"\n",
    "        handler = f'handle_{event}'\n",
    "        if hasattr(self, handler):\n",
    "            method = getattr(self, handler)\n",
    "            method(event)\n",
    "        elif self.parent is not None:\n",
    "            self.parent.handle(event)\n",
    "        elif hasattr(self, 'handle_default'):\n",
    "            self.handle_default(event)\n",
    "        else:\n",
    "            raise NotImplementedError\n",
    "\n",
    "# 子类负责实现具体的操作\n",
    "\n",
    "\n",
    "class MainWindow(Widget):\n",
    "\n",
    "    def handle_close(self, event):\n",
    "\n",
    "        print(f'MainWindow: {event}')\n",
    "\n",
    "    def handle_default(self, event):\n",
    "\n",
    "        print(f'MainWindow: Default {event}')\n",
    "\n",
    "\n",
    "class SendDialog(Widget):\n",
    "\n",
    "    def handle_paint(self, event):\n",
    "\n",
    "        print(f'SendDialog: {event}')\n",
    "\n",
    "\n",
    "class MsgText(Widget):\n",
    "\n",
    "    def handle_down(self, event):\n",
    "\n",
    "        print(f'MsgText: {event}')"
   ]
  },
  {
   "cell_type": "code",
   "execution_count": 2,
   "metadata": {
    "ExecuteTime": {
     "end_time": "2019-09-19T04:42:13.078020Z",
     "start_time": "2019-09-19T04:42:13.072628Z"
    }
   },
   "outputs": [
    {
     "name": "stdout",
     "output_type": "stream",
     "text": [
      "\n",
      "Sending event -down- to MainWindow\n",
      "MainWindow: Default down\n",
      "Sending event -down- to SendDialog\n",
      "MainWindow: Default down\n",
      "Sending event -down- to MsgText\n",
      "MsgText: down\n",
      "\n",
      "Sending event -paint- to MainWindow\n",
      "MainWindow: Default paint\n",
      "Sending event -paint- to SendDialog\n",
      "SendDialog: paint\n",
      "Sending event -paint- to MsgText\n",
      "SendDialog: paint\n",
      "\n",
      "Sending event -unhandled- to MainWindow\n",
      "MainWindow: Default unhandled\n",
      "Sending event -unhandled- to SendDialog\n",
      "MainWindow: Default unhandled\n",
      "Sending event -unhandled- to MsgText\n",
      "MainWindow: Default unhandled\n",
      "\n",
      "Sending event -close- to MainWindow\n",
      "MainWindow: close\n",
      "Sending event -close- to SendDialog\n",
      "MainWindow: close\n",
      "Sending event -close- to MsgText\n",
      "MainWindow: close\n"
     ]
    }
   ],
   "source": [
    "# 创建链式对象\n",
    "main_window = MainWindow()\n",
    "send_dialog = SendDialog(main_window)\n",
    "msg_text = MsgText(send_dialog)\n",
    "\n",
    "for e in ('down', 'paint', 'unhandled', 'close'):\n",
    "    event = Event(e)\n",
    "    print('\\nSending event -{}- to MainWindow'.format(event))\n",
    "    main_window.handle(event)\n",
    "    print('Sending event -{}- to SendDialog'.format(event))\n",
    "    send_dialog.handle(event)\n",
    "    print('Sending event -{}- to MsgText'.format(event))\n",
    "    msg_text.handle(event)"
   ]
  },
  {
   "cell_type": "markdown",
   "metadata": {},
   "source": [
    "#### Chain of Responsibility Pattern\n",
    "\n",
    "Instead of one function directly calling another, the first function sends a request to a chain of receivers. \n",
    "\n",
    "The first receiver in the chain either can handle the request and stop the chain (by not passing the request on) or can pass on the request to the next receiver in the chain."
   ]
  },
  {
   "cell_type": "markdown",
   "metadata": {},
   "source": [
    "###### a conventional chain\n",
    "\n",
    "event --> TimerHandler --> KeyHandler --> MouseHandler --> NullHandler"
   ]
  },
  {
   "cell_type": "code",
   "execution_count": 45,
   "metadata": {
    "ExecuteTime": {
     "end_time": "2019-09-19T06:51:48.127899Z",
     "start_time": "2019-09-19T06:51:48.119714Z"
    }
   },
   "outputs": [],
   "source": [
    "import sys\n",
    "from enum import Enum\n",
    "\n",
    "Event = Enum('Event', 'MOUSE KEY TIMER DISCARD TERMINATE')\n",
    "\n",
    "\n",
    "class NullHandler(object):\n",
    "    \"\"\"Handler 的基类, Handler 的最末端\n",
    "    \"\"\"\n",
    "    __event = Event.DISCARD\n",
    "\n",
    "    def __init__(self, successor=None):\n",
    "        \"\"\"successor 是下一个 Handler 的实例\n",
    "        \"\"\"\n",
    "        self.__successor = successor\n",
    "\n",
    "    def handle(self, event):\n",
    "        \"\"\"\n",
    "        首先判断 event 类型是不是自己能够处理的, 如果不是并且\n",
    "        有后继 Handler就调用后继 Handler 的 handle 方法.\n",
    "        \"\"\"\n",
    "        if event.kind == __event:\n",
    "            # Do something here\n",
    "            print('Click: {}'.format(event))\n",
    "            self._handle()\n",
    "        elif self.__successor is not None:\n",
    "            self.__successor.handle(event)\n",
    "        else:\n",
    "            raise NotImplementedError\n",
    "\n",
    "    def _handle(self):\n",
    "\n",
    "        raise NotImplementedError\n",
    "\n",
    "\n",
    "class MouseHandler(NullHandler):\n",
    "\n",
    "    __event = Event.MOUSE\n",
    "\n",
    "    def _handle(self):\n",
    "        pass\n",
    "\n",
    "\n",
    "class KeyHandler(NullHandler):\n",
    "\n",
    "    __event = Event.KEY\n",
    "\n",
    "    def _handle(self):\n",
    "        pass\n",
    "\n",
    "\n",
    "class TimerHandler(NullHandler):\n",
    "\n",
    "    __event = Event.TIMER\n",
    "\n",
    "    def _handle(self):\n",
    "        pass\n",
    "\n",
    "\n",
    "class DebugHandler(NullHandler):\n",
    "    \"\"\"DebugHandler 不处理任何事件\n",
    "    \"\"\"\n",
    "\n",
    "    def __init__(self, successor=None, file=sys.stdout):\n",
    "\n",
    "        super().__init__(successor)\n",
    "        self.__file = file\n",
    "\n",
    "    def handle(self, event):\n",
    "\n",
    "        self.__file.write(f'*DEBUG* : {event}\\n')\n",
    "        super().handle(event)"
   ]
  },
  {
   "cell_type": "markdown",
   "metadata": {},
   "source": [
    "###### A Coroutine-Based Chain"
   ]
  },
  {
   "cell_type": "code",
   "execution_count": 46,
   "metadata": {
    "ExecuteTime": {
     "end_time": "2019-09-19T06:51:49.230464Z",
     "start_time": "2019-09-19T06:51:49.226705Z"
    },
    "run_control": {
     "marked": true
    }
   },
   "outputs": [],
   "source": [
    "import functools\n",
    "\n",
    "\n",
    "def coroutine(func):\n",
    "    \"\"\"协程函数装饰器, 自动启动生成器函数\n",
    "    \"\"\"\n",
    "    @functools.wraps(func)\n",
    "    def wrapper(*args, **kwargs):  \n",
    "        generator = func(*args, **kwargs)\n",
    "        next(generator)\n",
    "        return generator\n",
    "    \n",
    "    return wrapper"
   ]
  },
  {
   "cell_type": "code",
   "execution_count": 51,
   "metadata": {
    "ExecuteTime": {
     "end_time": "2019-09-19T06:52:18.310425Z",
     "start_time": "2019-09-19T06:52:18.301954Z"
    }
   },
   "outputs": [],
   "source": [
    "# 这样我们的 生成器函数 这么写\n",
    "\n",
    "\n",
    "@coroutine\n",
    "def key_handler(successor=None):\n",
    "\n",
    "    while True:\n",
    "        event = (yield)\n",
    "        if event == Event.KEY:\n",
    "            print(f'Input: {event}')\n",
    "            # Do something here\n",
    "        elif successor is not None:\n",
    "            successor.send(event)\n",
    "        else:\n",
    "            raise NotImplementedError\n",
    "\n",
    "\n",
    "@coroutine\n",
    "def null_handler(successor=None):\n",
    "    while True:\n",
    "        event = (yield)\n",
    "        if event == Event.DISCARD:\n",
    "            print(f'Discard: {event}')\n",
    "            # Do something here\n",
    "        elif successor is not None:\n",
    "            successor.send(event)\n",
    "        else:\n",
    "            raise NotImplementedError\n",
    "    \n",
    "\n",
    "\n",
    "@coroutine\n",
    "def time_handler(successor=None):\n",
    "    while True:\n",
    "        event = (yield)\n",
    "        if event == Event.TIMER:\n",
    "            print(f'Timing: {event}')\n",
    "            # Do something here\n",
    "        elif successor is not None:\n",
    "            successor.send(event)\n",
    "        else:\n",
    "            raise NotImplementedError\n",
    "\n",
    "\n",
    "@coroutine\n",
    "def mouse_handler(successor=None):\n",
    "    while True:\n",
    "        event = (yield)\n",
    "        if event == Event.MOUSE:\n",
    "            print(f'Press: {event}')\n",
    "            # Do something here\n",
    "        elif successor is not None:\n",
    "            successor.send(event)\n",
    "        else:\n",
    "            raise NotImplementedError"
   ]
  },
  {
   "cell_type": "code",
   "execution_count": 52,
   "metadata": {
    "ExecuteTime": {
     "end_time": "2019-09-19T06:52:18.791334Z",
     "start_time": "2019-09-19T06:52:18.788639Z"
    }
   },
   "outputs": [],
   "source": [
    "pipeline = key_handler(mouse_handler(time_handler(null_handler(None))))"
   ]
  },
  {
   "cell_type": "code",
   "execution_count": 56,
   "metadata": {
    "ExecuteTime": {
     "end_time": "2019-09-19T06:52:32.737648Z",
     "start_time": "2019-09-19T06:52:32.733714Z"
    }
   },
   "outputs": [
    {
     "name": "stdout",
     "output_type": "stream",
     "text": [
      "Press: Event.MOUSE\n",
      "Input: Event.KEY\n",
      "Timing: Event.TIMER\n",
      "Discard: Event.DISCARD\n"
     ]
    }
   ],
   "source": [
    "Event_ = iter(Event)\n",
    "\n",
    "# 事件循环\n",
    "while True:\n",
    "    event = next(Event_)\n",
    "    if event == Event.TERMINATE:\n",
    "        break\n",
    "    pipeline.send(event)"
   ]
  },
  {
   "cell_type": "code",
   "execution_count": null,
   "metadata": {},
   "outputs": [],
   "source": []
  }
 ],
 "metadata": {
  "kernelspec": {
   "display_name": "Python 3",
   "language": "python",
   "name": "python3"
  },
  "language_info": {
   "codemirror_mode": {
    "name": "ipython",
    "version": 3
   },
   "file_extension": ".py",
   "mimetype": "text/x-python",
   "name": "python",
   "nbconvert_exporter": "python",
   "pygments_lexer": "ipython3",
   "version": "3.6.7"
  },
  "toc": {
   "base_numbering": 1,
   "nav_menu": {},
   "number_sections": true,
   "sideBar": true,
   "skip_h1_title": true,
   "title_cell": "Table of Contents",
   "title_sidebar": "Contents",
   "toc_cell": true,
   "toc_position": {},
   "toc_section_display": true,
   "toc_window_display": false
  }
 },
 "nbformat": 4,
 "nbformat_minor": 2
}
