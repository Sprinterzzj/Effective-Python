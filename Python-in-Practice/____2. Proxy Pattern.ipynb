{
 "cells": [
  {
   "cell_type": "markdown",
   "metadata": {
    "toc": true
   },
   "source": [
    "<h1>Table of Contents<span class=\"tocSkip\"></span></h1>\n",
    "<div class=\"toc\"><ul class=\"toc-item\"><li><ul class=\"toc-item\"><li><ul class=\"toc-item\"><li><span><a href=\"#代理模式:-一个简单的例子\" data-toc-modified-id=\"代理模式:-一个简单的例子-0.0.1\"><span class=\"toc-item-num\">0.0.1&nbsp;&nbsp;</span>代理模式: 一个简单的例子</a></span></li></ul></li></ul></li><li><span><a href=\"#Proxy-Pattern\" data-toc-modified-id=\"Proxy-Pattern-1\"><span class=\"toc-item-num\">1&nbsp;&nbsp;</span>Proxy Pattern</a></span></li></ul></div>"
   ]
  },
  {
   "cell_type": "markdown",
   "metadata": {},
   "source": [
    "###### 代理模式: 一个简单的例子\n",
    "\n",
    "有常见的四种代理类型:\n",
    "\n",
    "1. A remote proxy.使得访问远程对象就像本地访问一样，例如网络服务器。隐藏复杂性，使得访问本地远程统一。比如ORM\n",
    "2. A virtual proxy。用来实现延迟访问，比如一些需要复杂计算的对象，python里可以实现lazy_property，性能改善\n",
    "3. A protection/protective proxy. 控制敏感对象的访问，加上一层保护层，实现安全控制\n",
    "4. A smart(reference) proxy. 访问对象时加上一层额外操作，例如引用计数和线程安全检查。weakref.proxy()"
   ]
  },
  {
   "cell_type": "code",
   "execution_count": 4,
   "metadata": {
    "ExecuteTime": {
     "end_time": "2019-09-19T00:45:29.870264Z",
     "start_time": "2019-09-19T00:45:29.863704Z"
    }
   },
   "outputs": [],
   "source": [
    "# 是用描述符实现 Lazy Property\n",
    "\n",
    "class LazyProperty(object):\n",
    "    \"\"\"用描述符实现延迟加载的属性\n",
    "    \"\"\"\n",
    "    def __init__(self, method):\n",
    "        \n",
    "        self.method = method\n",
    "        self.method_name = method.__name__\n",
    "    \n",
    "    def __get__(self, instance, instance_type):\n",
    "        \n",
    "        if instance is None:    \n",
    "            return None\n",
    "        value = self.method(instance)\n",
    "        print(f'value : {value}')\n",
    "        setattr(instance, self.method_name, value) # 在第一次调用 __get__ 方法时会调用 method, 然后设置属性\n",
    "        return value\n",
    "    \n",
    "class Test(object):\n",
    "        \n",
    "    def __init__(self):\n",
    "            \n",
    "        self.x = 'foo'\n",
    "        self.y = 'bar'\n",
    "        self._resource = None\n",
    "        \n",
    "    @LazyProperty\n",
    "    def resource(self):\n",
    "        print(f'Initializing self._resource which is : {self._resource}.')\n",
    "        self._resource = tuple(range(10))\n",
    "        return self._resource\n",
    "        "
   ]
  },
  {
   "cell_type": "code",
   "execution_count": 5,
   "metadata": {
    "ExecuteTime": {
     "end_time": "2019-09-19T00:45:30.488054Z",
     "start_time": "2019-09-19T00:45:30.484450Z"
    }
   },
   "outputs": [
    {
     "name": "stdout",
     "output_type": "stream",
     "text": [
      "Initializing self._resource which is : None.\n",
      "value : (0, 1, 2, 3, 4, 5, 6, 7, 8, 9)\n",
      "(0, 1, 2, 3, 4, 5, 6, 7, 8, 9)\n",
      "(0, 1, 2, 3, 4, 5, 6, 7, 8, 9)\n"
     ]
    }
   ],
   "source": [
    "t = Test()\n",
    "print(t.resource)\n",
    "print(t.resource)"
   ]
  },
  {
   "cell_type": "code",
   "execution_count": 6,
   "metadata": {
    "ExecuteTime": {
     "end_time": "2019-09-19T00:45:48.250111Z",
     "start_time": "2019-09-19T00:45:48.240618Z"
    }
   },
   "outputs": [
    {
     "data": {
      "text/plain": [
       "{'x': 'foo',\n",
       " 'y': 'bar',\n",
       " '_resource': (0, 1, 2, 3, 4, 5, 6, 7, 8, 9),\n",
       " 'resource': (0, 1, 2, 3, 4, 5, 6, 7, 8, 9)}"
      ]
     },
     "execution_count": 6,
     "metadata": {},
     "output_type": "execute_result"
    }
   ],
   "source": [
    "t.__dict__"
   ]
  },
  {
   "cell_type": "code",
   "execution_count": 8,
   "metadata": {
    "ExecuteTime": {
     "end_time": "2019-09-19T01:20:30.623045Z",
     "start_time": "2019-09-19T01:20:30.617466Z"
    }
   },
   "outputs": [],
   "source": [
    "# 用代理实现安全控制\n",
    "\n",
    "class SensitiveInfo(object):\n",
    "    \n",
    "    def __init__(self):\n",
    "        \n",
    "        self.users = ['nick', 'tom', 'ben', 'mike']\n",
    "    \n",
    "    def read(self):\n",
    "        \n",
    "        print('There are {} users : {}.'\n",
    "              .format(len(self.users), ' '.join(self.users)))\n",
    "    \n",
    "    def add(self, user):\n",
    "        \n",
    "        self.users.append(user)\n",
    "        print('Added user {}'.format(user))\n",
    "\n",
    "\n",
    "class Info(object):\n",
    "    \"\"\"Protection proxy to SensitiveInfo\n",
    "    \"\"\"\n",
    "    def __init__(self):\n",
    "        \n",
    "        self.protected = SensitiveInfo()\n",
    "        # 为了方便展示, 这里直接把安全密钥写在代码里, 为了安全不应该这么做\n",
    "        self.secret = '123'\n",
    "    \n",
    "    def read(self):\n",
    "        \n",
    "        self.protected.read()\n",
    "    \n",
    "    def add(self, user):\n",
    "        \"\"\"给 add 操作加上秘钥验证, 保护 add 操作\n",
    "        \"\"\"\n",
    "        sec = input('What is the secret ?')\n",
    "        self.protected.add(user) if sec == self.secret else print('That is wrong.')"
   ]
  },
  {
   "cell_type": "markdown",
   "metadata": {},
   "source": [
    "上面这个示例有几个缺点:\n",
    "\n",
    "1. SensitiveInfo可以被直接实例化使用，绕过Info类，可以考虑使用abc模块避免SensitiveInfo被直接实例化 \n",
    "2. 密钥直接写死在代码里，应该用安全性较高密钥写到配置或者环境变量里"
   ]
  },
  {
   "cell_type": "markdown",
   "metadata": {
    "run_control": {
     "marked": true
    }
   },
   "source": [
    "#### Proxy Pattern"
   ]
  },
  {
   "cell_type": "code",
   "execution_count": null,
   "metadata": {},
   "outputs": [],
   "source": []
  },
  {
   "cell_type": "code",
   "execution_count": null,
   "metadata": {},
   "outputs": [],
   "source": []
  }
 ],
 "metadata": {
  "kernelspec": {
   "display_name": "Python 3",
   "language": "python",
   "name": "python3"
  },
  "language_info": {
   "codemirror_mode": {
    "name": "ipython",
    "version": 3
   },
   "file_extension": ".py",
   "mimetype": "text/x-python",
   "name": "python",
   "nbconvert_exporter": "python",
   "pygments_lexer": "ipython3",
   "version": "3.6.8"
  },
  "toc": {
   "base_numbering": 1,
   "nav_menu": {},
   "number_sections": true,
   "sideBar": true,
   "skip_h1_title": true,
   "title_cell": "Table of Contents",
   "title_sidebar": "Contents",
   "toc_cell": true,
   "toc_position": {},
   "toc_section_display": true,
   "toc_window_display": false
  }
 },
 "nbformat": 4,
 "nbformat_minor": 2
}
