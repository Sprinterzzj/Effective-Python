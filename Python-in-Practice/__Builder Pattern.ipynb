{
 "cells": [
  {
   "cell_type": "markdown",
   "metadata": {},
   "source": [
    "###### Builder 模式 一个简单例子"
   ]
  },
  {
   "cell_type": "markdown",
   "metadata": {},
   "source": [
    "1. 对象需要多个部分组合来一步一步创建, 并且创建和表示分离\n",
    "2. 比如你要买电脑, 工厂模式直接返回一个你需要型号的电脑, 构造模式允许你自定义电脑的各种配置类型"
   ]
  },
  {
   "cell_type": "code",
   "execution_count": 3,
   "metadata": {
    "ExecuteTime": {
     "end_time": "2019-08-22T01:35:11.123924Z",
     "start_time": "2019-08-22T01:35:11.117498Z"
    }
   },
   "outputs": [],
   "source": [
    "# Factory Pattern\n",
    "MINI14 = '1.4GHz Mac mini'\n",
    "\n",
    "\n",
    "class AppleFactory(object):\n",
    "    class MacMini14(object):\n",
    "        def __init__(self):\n",
    "            self.memory = 4  # GB\n",
    "            self.hdd = 500  # GB\n",
    "            self.gpu = 'Intel HD Graphics 5000'\n",
    "\n",
    "        def __str__(self):\n",
    "            info = (\n",
    "                f'Model : {MINI14}',\n",
    "                f'Memory : {self.memory} GB',\n",
    "                f'Hard Disk : {self.hdd} GB',\n",
    "                f'Graphics Card : {self.gpu}'\n",
    "            )\n",
    "            return '\\n'.join(info)\n",
    "\n",
    "    @classmethod\n",
    "    def build_computer(cls, model_name):\n",
    "        if model_name == MINI14:\n",
    "            # 返回一个 MacMini14的实例\n",
    "            return cls.MacMini14()\n",
    "        else:\n",
    "            print(f'I don\\'t how to build {model_name}.')\n",
    "\n",
    "\n",
    "def build_computer(product_name):\n",
    "    if product_name == MINI14:\n",
    "        return AppleFactory.build_computer(MINI14)"
   ]
  },
  {
   "cell_type": "code",
   "execution_count": 5,
   "metadata": {
    "ExecuteTime": {
     "end_time": "2019-08-22T01:35:26.970699Z",
     "start_time": "2019-08-22T01:35:26.965708Z"
    }
   },
   "outputs": [
    {
     "name": "stdout",
     "output_type": "stream",
     "text": [
      "Model : 1.4GHz Mac mini\n",
      "Memory : 4 GB\n",
      "Hard Disk : 500 GB\n",
      "Graphics Card : Intel HD Graphics 5000\n"
     ]
    }
   ],
   "source": [
    "print(build_computer(MINI14))"
   ]
  },
  {
   "cell_type": "code",
   "execution_count": 6,
   "metadata": {
    "ExecuteTime": {
     "end_time": "2019-08-22T01:45:08.031378Z",
     "start_time": "2019-08-22T01:45:08.025562Z"
    }
   },
   "outputs": [],
   "source": [
    "# builder 模式\n",
    "\n",
    "\n",
    "class Computer(object):\n",
    "    \"\"\"Product Class\n",
    "    这个类表示了我们的电脑\n",
    "    \"\"\"\n",
    "\n",
    "    def __init__(self, serial_number):\n",
    "        self.serial = serial_number\n",
    "        self.memory = None\n",
    "        self.hdd = None\n",
    "        self.gpu = None\n",
    "\n",
    "    def __str__(self):\n",
    "        info = (\n",
    "            f'Serial Number : {self.serial}',\n",
    "            f'Memory : {self.memory} GB',\n",
    "            f'Hard Disk : {self.hdd} GB',\n",
    "            f'Graphics Card : {self.gpu}'\n",
    "        )\n",
    "        return '\\n'.join(info)\n",
    "\n",
    "\n",
    "class ComputerBuilder(object):\n",
    "    \"\"\"配置 Computer 的类. 用户可以通过这个类\n",
    "    来配置他需要的电脑.  创建过程在这个类中进行\n",
    "    \"\"\"\n",
    "    def __init__(self, serial_number):\n",
    "        self.computer = Computer(serial_number)\n",
    "\n",
    "    def configure_memory(self, amount):\n",
    "        self.computer.memory = amount\n",
    "\n",
    "    def configure_hdd(self, amount):\n",
    "        self.computer.hdd = amount\n",
    "\n",
    "    def configure_gpu(self, gpu_model):\n",
    "        self.computer.gpu = gpu_model"
   ]
  },
  {
   "cell_type": "code",
   "execution_count": 17,
   "metadata": {
    "ExecuteTime": {
     "end_time": "2019-08-22T03:48:27.612057Z",
     "start_time": "2019-08-22T03:48:27.606187Z"
    }
   },
   "outputs": [],
   "source": [
    "class Customer(object):\n",
    "    \"\"\"在构造模式中, 创建和表示是分离的, 用户可以控制创建的\n",
    "    过程(通过调用 builder)来完成他想要的产品\n",
    "    \"\"\"\n",
    "    def __init__(self):\n",
    "        self.builder = None\n",
    "    \n",
    "    def construct_computer(self, **kwargs):\n",
    "        \"\"\"用于通过这个接口来DIY它的电脑\n",
    "        \"\"\"\n",
    "        self.builder = kwargs.get('builder', None)\n",
    "        if self.builder is None:\n",
    "            self.builder = ComputerBuilder('AG23385193')\n",
    "            \n",
    "        memory = kwargs.get('memory', 16)\n",
    "        hdd = kwargs.get('hdd', 500)\n",
    "        gpu = kwargs.get('gpu', 'Intel HD Graphics 5000')\n",
    "        # 开始配置电脑\n",
    "        self.builder.configure_memory(memory)\n",
    "        self.builder.configure_hdd(hdd)\n",
    "        self.builder.configure_gpu(gpu)\n",
    "    \n",
    "    @property\n",
    "    def computer(self):\n",
    "        return self.builder.computer\n",
    "      "
   ]
  },
  {
   "cell_type": "code",
   "execution_count": 21,
   "metadata": {
    "ExecuteTime": {
     "end_time": "2019-08-22T03:48:45.128681Z",
     "start_time": "2019-08-22T03:48:45.119389Z"
    }
   },
   "outputs": [
    {
     "name": "stdout",
     "output_type": "stream",
     "text": [
      "Serial Number : AG23385193\n",
      "Memory : 16 GB\n",
      "Hard Disk : 500 GB\n",
      "Graphics Card : GeForce GTX 750 Ti\n"
     ]
    }
   ],
   "source": [
    "customer = Customer()\n",
    "customer.construct_computer(hdd=500, memory=16, \n",
    "                            gpu='GeForce GTX 750 Ti')\n",
    "print(customer.computer)"
   ]
  },
  {
   "cell_type": "markdown",
   "metadata": {},
   "source": [
    "##### 构造模式"
   ]
  },
  {
   "cell_type": "code",
   "execution_count": 1,
   "metadata": {
    "ExecuteTime": {
     "end_time": "2019-08-22T04:16:06.647407Z",
     "start_time": "2019-08-22T04:16:06.642068Z"
    }
   },
   "outputs": [],
   "source": [
    "from abc import ABCMeta, abstractmethod\n",
    "# 让metaclass为abc.ABCMeta可以保证基类无法被实例化\n",
    "\n",
    "\n",
    "class AbstractFormBuilder(metaclass=ABCMeta):\n",
    "    \"\"\"所有继承该抽象基类的子类, 都必须实现下面的抽象方法.\n",
    "    \"\"\"\n",
    "\n",
    "    @abstractmethod\n",
    "    def add_title(self, title):\n",
    "        self.title = title\n",
    "\n",
    "    @abstractmethod\n",
    "    def form(self):\n",
    "        pass\n",
    "\n",
    "    @abstractmethod\n",
    "    def add_label(self, text, row, column, **kwargs):\n",
    "        pass"
   ]
  },
  {
   "cell_type": "code",
   "execution_count": 2,
   "metadata": {
    "ExecuteTime": {
     "end_time": "2019-08-22T04:16:11.087410Z",
     "start_time": "2019-08-22T04:16:11.079906Z"
    }
   },
   "outputs": [],
   "source": [
    "from html import escape\n",
    "class HtmlFormBuilder(AbstractFormBuilder):\n",
    "    def __init__(self):\n",
    "        self.title = 'HtmlFormBuilder'\n",
    "        self.items = {}\n",
    "    \n",
    "    def add_title(self, title):\n",
    "        #需要用html.escape函数处理title\n",
    "        super().add_title(escape(title))\n",
    "    \n",
    "    def add_label(self, text, row, column, **kwargs):\n",
    "        self.items[(row, column)] = (\n",
    "            '<td><label for=\"{}\">{}:</label></td>'.\n",
    "            format(kwargs['target'], escape(text))\n",
    "        )\n",
    "    def add_entry(self, variable, row, column, **kwargs):\n",
    "        html =\\\n",
    "        \"\"\"\n",
    "        <td><input name=\"{}\" type=\"{}\" /></td>\n",
    "        \"\"\".format(variable, kwargs.get('kind', 'text'))\n",
    "        self.items[(row, column)] = html\n",
    "    def add_button(self, text, row, column, **kwargs):\n",
    "        html =\\\n",
    "        \"\"\"\n",
    "        <td><input type=\"submit\" value=\"{}\" /></td>\n",
    "        \"\"\".format(escape(text))\n",
    "        self.items[(row, column)] = html\n",
    "    def form(self):\n",
    "        html =\\\n",
    "        [\n",
    "            '<!doctype html>\\n<html><head><title>{}</title></head>'\n",
    "            '<body>'.format(self.title), '<form><table border=\"0\">'\n",
    "        ]\n",
    "        thisRow = None\n",
    "        for key, value in sorted(self.items.items()):\n",
    "            row, column = key\n",
    "            if thisRow is None:\n",
    "                html.append(' <tr>')\n",
    "            elif thisRow != row:\n",
    "                html.append(' </tr>\\n <tr>')\n",
    "            thisRow = row\n",
    "            html.append('  ' + value)\n",
    "        html.append(' </tr>\\n</table></form></body></html>')\n",
    "        return '\\n'.join(html)"
   ]
  },
  {
   "cell_type": "code",
   "execution_count": null,
   "metadata": {},
   "outputs": [],
   "source": [
    "class TkFormBuilder(AbstractFormBuilder):\n",
    "    def __init__(self):\n",
    "        self.title = 'TKFormBuilder'\n",
    "        self.statements = []\n",
    "        \n",
    "    def add_title(self, title):\n",
    "        super().add_title(title)\n",
    "    \n",
    "    def add_label(self, text, row, column, **kwargs):\n",
    "        name = self._canonicalize(text)\n",
    "        create = f\"\"\"self.{name}Label=ttk.Label(self, text=\"{text}:\")\"\"\"\n",
    "        layout = f\"\"\"self.{name}Label.grid(row={row}, column={column},\n",
    "        sticky=tk.W, padx=\"0.75m\", pady=\"0.75m\")\"\"\"\n",
    "        self.statements.extend((create, layout))\n",
    "        \n",
    "    "
   ]
  }
 ],
 "metadata": {
  "kernelspec": {
   "display_name": "Python 3",
   "language": "python",
   "name": "python3"
  },
  "language_info": {
   "codemirror_mode": {
    "name": "ipython",
    "version": 3
   },
   "file_extension": ".py",
   "mimetype": "text/x-python",
   "name": "python",
   "nbconvert_exporter": "python",
   "pygments_lexer": "ipython3",
   "version": "3.6.8"
  },
  "toc": {
   "base_numbering": 1,
   "nav_menu": {},
   "number_sections": true,
   "sideBar": true,
   "skip_h1_title": false,
   "title_cell": "Table of Contents",
   "title_sidebar": "Contents",
   "toc_cell": false,
   "toc_position": {},
   "toc_section_display": true,
   "toc_window_display": false
  },
  "varInspector": {
   "cols": {
    "lenName": 16,
    "lenType": 16,
    "lenVar": 40
   },
   "kernels_config": {
    "python": {
     "delete_cmd_postfix": "",
     "delete_cmd_prefix": "del ",
     "library": "var_list.py",
     "varRefreshCmd": "print(var_dic_list())"
    },
    "r": {
     "delete_cmd_postfix": ") ",
     "delete_cmd_prefix": "rm(",
     "library": "var_list.r",
     "varRefreshCmd": "cat(var_dic_list()) "
    }
   },
   "types_to_exclude": [
    "module",
    "function",
    "builtin_function_or_method",
    "instance",
    "_Feature"
   ],
   "window_display": false
  }
 },
 "nbformat": 4,
 "nbformat_minor": 2
}
