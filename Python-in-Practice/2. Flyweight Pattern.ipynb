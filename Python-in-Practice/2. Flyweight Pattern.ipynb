{
 "cells": [
  {
   "cell_type": "markdown",
   "metadata": {
    "toc": true
   },
   "source": [
    "<h1>Table of Contents<span class=\"tocSkip\"></span></h1>\n",
    "<div class=\"toc\"><ul class=\"toc-item\"><li><ul class=\"toc-item\"><li><ul class=\"toc-item\"><li><span><a href=\"#享元模式:-一个简单的例子\" data-toc-modified-id=\"享元模式:-一个简单的例子-0.0.1\"><span class=\"toc-item-num\">0.0.1&nbsp;&nbsp;</span>享元模式: 一个简单的例子</a></span></li></ul></li></ul></li><li><span><a href=\"#Flyweight-Pattern\" data-toc-modified-id=\"Flyweight-Pattern-1\"><span class=\"toc-item-num\">1&nbsp;&nbsp;</span>Flyweight Pattern</a></span></li></ul></div>"
   ]
  },
  {
   "cell_type": "markdown",
   "metadata": {},
   "source": [
    "###### 享元模式: 一个简单的例子\n",
    "\n",
    "OOP编程中容易出现对象创建带来的性能和内存占用问题，需要满足以下条件：\n",
    "\n",
    "1. 需要使用大量属性(可用 \\_\\_slots\\_\\_ 节省内存占用)\n",
    "2. 对象太多, 难以存储或解析\n",
    "3. 对象识别不是特别重要\n",
    "\n",
    "经常使用对象池技术来实现共享对象，比如数据库中经常使用连接池来减少开销，预先建立一些连接池，每次取一个连接和数据库交互。"
   ]
  },
  {
   "cell_type": "code",
   "execution_count": 1,
   "metadata": {
    "ExecuteTime": {
     "end_time": "2019-09-18T05:44:33.991206Z",
     "start_time": "2019-09-18T05:44:33.986732Z"
    }
   },
   "outputs": [],
   "source": [
    "# 使用对象池技术实现享元模式\n",
    "\n",
    "import random\n",
    "from enum import Enum\n",
    "TreeType = Enum('TreeType', 'apple_tree cherry_tree peach_tree')\n",
    "\n",
    "class Tree(object):\n",
    "    \n",
    "    pool = dict()\n",
    "    \n",
    "    def __new__(cls, tree_type):\n",
    "        \n",
    "        obj = cls.pool.get(tree_type, None)\n",
    "        if obj is None:\n",
    "            obj = super().__new__(cls)\n",
    "            cls.pool[tree_type] = obj\n",
    "            obj.tree_type = tree_type\n",
    "        return obj\n",
    "    \n",
    "    def render(self, age, x, y):\n",
    "        \n",
    "        print(f'Render a tree of type {self.tree_type} and '\n",
    "              f'age {age} at ({x}, {y}).')"
   ]
  },
  {
   "cell_type": "markdown",
   "metadata": {},
   "source": [
    "#### Flyweight Pattern\n",
    "\n",
    "Designed for handling large numbers of relatively small objects, where many of the small objects are duplicates of each other."
   ]
  },
  {
   "cell_type": "code",
   "execution_count": 2,
   "metadata": {
    "ExecuteTime": {
     "end_time": "2019-09-18T05:56:40.166522Z",
     "start_time": "2019-09-18T05:56:40.163158Z"
    }
   },
   "outputs": [],
   "source": [
    "class Point(object):\n",
    "\n",
    "    __slots__ = ('x', 'y', 'z', 'color')\n",
    "\n",
    "    def __init__(self, x=0, y=0,\n",
    "                 z=0, color=None):\n",
    "        self.x = x\n",
    "        self.y = y\n",
    "        self.z = z\n",
    "        self.color = color"
   ]
  },
  {
   "cell_type": "code",
   "execution_count": 9,
   "metadata": {
    "ExecuteTime": {
     "end_time": "2019-09-18T07:48:09.605592Z",
     "start_time": "2019-09-18T07:48:09.599198Z"
    }
   },
   "outputs": [],
   "source": [
    "import atexit\n",
    "import os\n",
    "import shelve\n",
    "import sys\n",
    "import tempfile\n",
    "import time\n",
    "\n",
    "class Point(object):\n",
    "    \"\"\"Use a DBM (key–value) database that is stored in a file on disk to store its data.\n",
    "    \"\"\"    \n",
    "    __slots__ = ()\n",
    "    __dbm = shelve.open(os.path.join(tempfile.gettempdir(), 'point.db'))\n",
    "    \n",
    "    def __init__(self, x=0, y=0, z=0, color=None):\n",
    "        \n",
    "        self.x = x\n",
    "        self.y = y\n",
    "        self.z = z\n",
    "        self.color = color\n",
    "    \n",
    "    def __key(self, name):\n",
    "        \n",
    "        return '{:X} : {}'.format(id(self), name)\n",
    "    \n",
    "    #下面是重点\n",
    "    def __getattr__(self, name):\n",
    "        \n",
    "        return self.__class__.__dbm[self.__key(name)]\n",
    "    \n",
    "    def __setattr__(self, name, value):\n",
    "        \n",
    "        self.__class__.__dbm[self.__key(name)] = value\n",
    "    \n",
    "    atexit.register(__dbm.close)"
   ]
  },
  {
   "cell_type": "code",
   "execution_count": null,
   "metadata": {},
   "outputs": [],
   "source": []
  }
 ],
 "metadata": {
  "kernelspec": {
   "display_name": "Python 3",
   "language": "python",
   "name": "python3"
  },
  "language_info": {
   "codemirror_mode": {
    "name": "ipython",
    "version": 3
   },
   "file_extension": ".py",
   "mimetype": "text/x-python",
   "name": "python",
   "nbconvert_exporter": "python",
   "pygments_lexer": "ipython3",
   "version": "3.6.7"
  },
  "toc": {
   "base_numbering": 1,
   "nav_menu": {},
   "number_sections": true,
   "sideBar": true,
   "skip_h1_title": true,
   "title_cell": "Table of Contents",
   "title_sidebar": "Contents",
   "toc_cell": true,
   "toc_position": {},
   "toc_section_display": true,
   "toc_window_display": false
  }
 },
 "nbformat": 4,
 "nbformat_minor": 2
}
