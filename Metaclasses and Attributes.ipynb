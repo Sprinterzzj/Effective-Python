{
 "cells": [
  {
   "cell_type": "markdown",
   "metadata": {},
   "source": [
    "### 用 @property 实现 set 和 get 方法"
   ]
  },
  {
   "cell_type": "code",
   "execution_count": 1,
   "metadata": {
    "ExecuteTime": {
     "end_time": "2019-02-25T06:39:35.771590Z",
     "start_time": "2019-02-25T06:39:35.765878Z"
    }
   },
   "outputs": [],
   "source": [
    "# 在Python里 无需显式地调用setter和getter方法\n",
    "# 在大多数情况下，你应该用简单公共属性。\n",
    "# 公共属性 用 X.y的方式就可以访问。\n",
    "class Resistor(object):\n",
    "    def __init__(self, ohms):\n",
    "        self.ohms = ohms\n",
    "        self.voltage = 0\n",
    "        self.current = 0\n",
    "\n",
    "r1 = Resistor(500)\n",
    "r1.ohms += 1000\n",
    "r1.ohms"
   ]
  },
  {
   "cell_type": "code",
   "execution_count": 5,
   "metadata": {
    "ExecuteTime": {
     "end_time": "2019-02-25T06:44:04.689621Z",
     "start_time": "2019-02-25T06:44:04.682985Z"
    }
   },
   "outputs": [],
   "source": [
    "# 如果你要实现自己的setter方法，你可以用@property装饰器\n",
    "# 和setter方法\n",
    "class VoltageResistance(Resistor):\n",
    "    def __init__(self, ohms): super().__init__(ohms)\n",
    "        #设置私有属性voltage\n",
    "        self._voltage = 0\n",
    "    #getter方法\n",
    "    @property\n",
    "    def voltage(self):\n",
    "        return self._voltage\n",
    "    #setter方法\n",
    "    @voltage.setter\n",
    "    def voltage(self, voltage):\n",
    "        self._voltage = voltage\n",
    "        self.current = self._voltage / self.ohms\n",
    "\n",
    "r2 = VoltageResistance(1000)\n",
    "r2.current\n",
    "\n",
    "r2.voltage = 10\n",
    "r2.current"
   ]
  },
  {
   "cell_type": "code",
   "execution_count": 9,
   "metadata": {
    "ExecuteTime": {
     "end_time": "2019-02-25T07:00:39.663976Z",
     "start_time": "2019-02-25T07:00:39.658342Z"
    }
   },
   "outputs": [],
   "source": [
    "#你也可以在setter方法里面加入其他功能, 例如类型检查\n",
    "class BoundResistance(Resistor):\n",
    "    def __init__(self, ohms):\n",
    "        super().__init__(ohms)\n",
    "    @property\n",
    "    def ohms(self):\n",
    "        return self._ohms\n",
    "    @ohms.setter\n",
    "    def ohms(self, ohms):\n",
    "        if ohms <= 0:\n",
    "            raise ValueError('%f ohms must be > 0' % ohms)\n",
    "        self._ohms = ohms  \n",
    "\n",
    "r3 = BoundResistance(1000)\n",
    "r3.ohms = 0\n",
    "\n",
    "#初始化类的时候会调用__init__函数，而self.ohms = -5会调用 setter方法进行类型检查和值检查\n",
    "r4 = BoundResistance(-5)"
   ]
  },
  {
   "cell_type": "code",
   "execution_count": 12,
   "metadata": {
    "ExecuteTime": {
     "end_time": "2019-02-25T07:10:19.270842Z",
     "start_time": "2019-02-25T07:10:19.265792Z"
    }
   },
   "outputs": [],
   "source": [
    "#你甚至可以用setter方法保证属性的值不被重置\n",
    "#注意这个用法\n",
    "class FixedResistance(Resistor):\n",
    "    @property\n",
    "    def ohms(self):\n",
    "        return self._ohms\n",
    "    @ohms.setter\n",
    "    def ohms(self, ohms):\n",
    "        #如此一来，ohms属性只能在初始化时被赋值\n",
    "        if hasattr(self, '_ohms'):\n",
    "            raise AttributeError('Can not set attribute')\n",
    "        self._ohms = ohms"
   ]
  },
  {
   "cell_type": "code",
   "execution_count": 1,
   "metadata": {},
   "outputs": [],
   "source": [
    "#@property的注意点\n",
    "##1.@property指定的属性 只能在类和子类之间共享。\n",
    "##2.@property指定的方法无法被其他属性复用\n",
    "##3.不要在@property指定的属性的方法中修改其他属性的值\n",
    "##4.确保你的@property的方法 simple and fast"
   ]
  },
  {
   "cell_type": "code",
   "execution_count": 15,
   "metadata": {
    "ExecuteTime": {
     "end_time": "2019-02-25T07:58:00.603628Z",
     "start_time": "2019-02-25T07:58:00.592906Z"
    }
   },
   "outputs": [],
   "source": [
    "#一个 @property的高级用法\n",
    "from datetime import datetime\n",
    "class Bucket(object):\n",
    "    def __init__(self, period):\n",
    "        self.period_delta = timedelta(seconds = period)\n",
    "        self.reset_time = datetime.now()\n",
    "        self.max_quota = 0\n",
    "        self.quota_consumed = 0\n",
    "    def __repr__(self):\n",
    "        return ('Bucket(max_quota = %d, quota_consumed = %d)' %\\\n",
    "                (self.max_quota, self.quota_consumed))\n",
    "    # 用@property的方法 maintain那些经常改变(例如数值变化)\n",
    "    # 的属性\n",
    "    # 这样写的好处是，Bucket.quota 属性不需要知道class的变化，他只需要枚举\n",
    "    #所有可能的状态在做相应的改变就可以了。\n",
    "    @property\n",
    "    def quota(self):\n",
    "        return self.max_quota - self.quota_consumed\n",
    "    @quota.setter\n",
    "    def quota(self, amount):\n",
    "        delta = self.max_quota - amount      \n",
    "        if amount == 0:\n",
    "            #Quota being reset for a new period\n",
    "            self.quota_consumed = 0\n",
    "            self.max_quota = 0\n",
    "        elif delta < 0:\n",
    "            #Quota being filled for the new period\n",
    "            assert self.quota_consumed == 0\n",
    "            self.max_quota = amnount\n",
    "        else:\n",
    "            #Quota being consumed during the period\n",
    "            assert self.max_quota >= self.quota_consumed\n",
    "            self.quota_consumed += delta\n",
    "\n",
    "def fill(bucket, amount):\n",
    "    now = datetime.now()\n",
    "    if now - bucket.reset_time > bucket.period_delta:\n",
    "        #此时bucket需要被重置\n",
    "        bucket.quota = 0\n",
    "        bucket.reset_time = now\n",
    "    bucket.quota += amount\n",
    "def deduct(bucket, amount):\n",
    "    now = datetime.now()\n",
    "    if now - bucket.reset_time > bucket.period_delta:\n",
    "        return False\n",
    "    if bucket.quota - amount < 0:\n",
    "        return False\n",
    "    bucket.quota - amount\n",
    "    return True\n",
    "        "
   ]
  },
  {
   "cell_type": "markdown",
   "metadata": {},
   "source": [
    "### 用描述器实现对 getter和setter的复用"
   ]
  },
  {
   "cell_type": "code",
   "execution_count": 23,
   "metadata": {
    "ExecuteTime": {
     "end_time": "2019-02-25T08:18:07.733638Z",
     "start_time": "2019-02-25T08:18:07.723039Z"
    }
   },
   "outputs": [],
   "source": [
    "class Grade(object):\n",
    "    def __init__(self):\n",
    "        self._value = 0\n",
    "    def __get__(self, instance, instance_type):\n",
    "        return self._value\n",
    "    def __set__(self, instance, value):\n",
    "        if not (0 <= value <= 100):\n",
    "            raise ValueError('Grade must be between 0 and 100')\n",
    "        self._value = value\n",
    "class Exam(object):\n",
    "    #类成员，没用用self.math_grade!\n",
    "    #该类的实例的__dict__方法返回空字典\n",
    "    #显然，这要比单独为每个*_grade实现@property方法来的简单\n",
    "    math_grade = Grade()\n",
    "    writing_grade = Grade()\n",
    "    science_grade = Grade()"
   ]
  },
  {
   "cell_type": "code",
   "execution_count": 24,
   "metadata": {
    "ExecuteTime": {
     "end_time": "2019-02-25T08:18:08.118136Z",
     "start_time": "2019-02-25T08:18:08.111826Z"
    }
   },
   "outputs": [
    {
     "data": {
      "text/plain": [
       "{}"
      ]
     },
     "execution_count": 24,
     "metadata": {},
     "output_type": "execute_result"
    }
   ],
   "source": [
    "a = Exam()\n",
    "#返回{}\n",
    "a.__dict__\n",
    "#Exam类里面没有writing_grade属性时，python会从类属性里面找，如果该类定义了__get__\n",
    "#和__set__那么Python默认你想使用descriptor\n",
    "a.writing_grade = 40"
   ]
  },
  {
   "cell_type": "code",
   "execution_count": 28,
   "metadata": {
    "ExecuteTime": {
     "end_time": "2019-02-25T08:31:18.557971Z",
     "start_time": "2019-02-25T08:31:18.544312Z"
    }
   },
   "outputs": [
    {
     "name": "stdout",
     "output_type": "stream",
     "text": [
      "Writing 82\n",
      "Science 99\n",
      "Second 75 is right\n",
      "First  75 is wrong\n"
     ]
    }
   ],
   "source": [
    "#上面的Exam类是有bug的：\n",
    "##因为三个类属性只会在Exam类第一次实例化时初始化，此后不会在初始化！！！\n",
    "first_exam = Exam() \n",
    "first_exam.writing_grade = 82 \n",
    "first_exam.science_grade = 99 \n",
    "print('Writing', first_exam.writing_grade) \n",
    "print('Science', first_exam.science_grade)\n",
    "second_exam = Exam() \n",
    "second_exam.writing_grade = 75 \n",
    "print('Second', second_exam.writing_grade, 'is right') \n",
    "print('First ', first_exam.writing_grade, 'is wrong')"
   ]
  },
  {
   "cell_type": "code",
   "execution_count": 13,
   "metadata": {
    "ExecuteTime": {
     "end_time": "2019-02-25T08:44:19.830398Z",
     "start_time": "2019-02-25T08:44:19.823788Z"
    }
   },
   "outputs": [],
   "source": [
    "#解决方案：在基类中维护一个储存实例的字典\n",
    "class Grade_v2(object):\n",
    "    def __init__(self):\n",
    "        #这一方法的缺点就是消耗内存\n",
    "        self._values = {}\n",
    "    def __get__(self, instance, instance_type):\n",
    "        if instance is None: return self\n",
    "        print(instance)\n",
    "        return self._values.get(instance, 0) #第二个参数是没有找到instance时默认创建的\n",
    "    def __set__(self, instance, value):\n",
    "        if not (0 <= value <= 100):\n",
    "            raise ValueError('Grade must be between 0 and 100')\n",
    "        self._values[instance] = value\n",
    "class Exam_v2(object):\n",
    "    math_grade = Grade_v2()\n",
    "    writing_grade = Grade_v2()\n",
    "    science_grade = Grade_v2()"
   ]
  },
  {
   "cell_type": "code",
   "execution_count": 14,
   "metadata": {
    "ExecuteTime": {
     "end_time": "2019-02-25T08:44:21.291130Z",
     "start_time": "2019-02-25T08:44:21.286858Z"
    }
   },
   "outputs": [],
   "source": [
    "a = Exam_v2()\n",
    "b = Exam_v2()\n",
    "a.math_grade = 30\n",
    "b.math_grade = 70"
   ]
  },
  {
   "cell_type": "code",
   "execution_count": 1,
   "metadata": {},
   "outputs": [],
   "source": [
    "#解决方安: 用weakref内置模块,这样会触发Python的自动垃圾回收机制\n",
    "from weakref import WeakKeyDictionary"
   ]
  },
  {
   "cell_type": "code",
   "execution_count": 2,
   "metadata": {},
   "outputs": [],
   "source": [
    "class Grade_v3(object):\n",
    "    def __init__(self):\n",
    "        self.__values = WeakKeyDictionary()\n",
    "    pass #下同Grade_v2"
   ]
  },
  {
   "cell_type": "markdown",
   "metadata": {},
   "source": [
    "### 动态方法 __getattr__, __setattr__"
   ]
  },
  {
   "cell_type": "code",
   "execution_count": 10,
   "metadata": {},
   "outputs": [],
   "source": [
    "#设想你需要设计一个数据库的class\n",
    "#这个class的每个属性属性代表了数据库的 一个row\n",
    "#但你的数据库的row是不确定的, 这时候可以考虑动态方法\n",
    "class LazyDB(object):\n",
    "    #LayDB的属性是你数据库的row\n",
    "    #但是你数据库的row是未确定的\n",
    "    #这时候可以用__getattr__和__setattr__，\n",
    "    #当你访问的attribute不存在时， python会调用这俩方法\n",
    "    def __init__(self):\n",
    "        self.exists = 5\n",
    "    def __getattr__(self, name):\n",
    "        value = 'value for %s' % name\n",
    "        #setattr方法将属性放入实例的字典\n",
    "        setattr(self, name, value)\n",
    "        return value"
   ]
  },
  {
   "cell_type": "code",
   "execution_count": 11,
   "metadata": {},
   "outputs": [
    {
     "name": "stdout",
     "output_type": "stream",
     "text": [
      "Before: {'exists': 5}\n",
      "foo: value for foo\n",
      "After: {'exists': 5, 'foo': 'value for foo'}\n"
     ]
    }
   ],
   "source": [
    "data = LazyDB()\n",
    "print('Before:', data.__dict__)\n",
    "print('foo:', data.foo)\n",
    "print('After:', data.__dict__)"
   ]
  },
  {
   "cell_type": "code",
   "execution_count": 12,
   "metadata": {},
   "outputs": [
    {
     "data": {
      "text/plain": [
       "True"
      ]
     },
     "execution_count": 12,
     "metadata": {},
     "output_type": "execute_result"
    }
   ],
   "source": [
    "hasattr(data, 'foo')"
   ]
  },
  {
   "cell_type": "code",
   "execution_count": 13,
   "metadata": {},
   "outputs": [],
   "source": [
    "#在哦子类中使用 getattr 需要注意:\n",
    "class LoggingLayDB(LazyDB):\n",
    "    def __getattr__(self, name):\n",
    "        print('called __getattr__(%s)' % name)\n",
    "        #在子类中，用super().__getattr__()方法来避免死循环\n",
    "        return super().__getattr__(name)"
   ]
  },
  {
   "cell_type": "code",
   "execution_count": 14,
   "metadata": {},
   "outputs": [
    {
     "name": "stdout",
     "output_type": "stream",
     "text": [
      "exists: 5\n",
      "called __getattr__(foo)\n",
      "foo: value for foo\n",
      "foo: value for foo\n"
     ]
    }
   ],
   "source": [
    "data = LoggingLayDB()\n",
    "#exists 是父类的属性因而不会调用__getattr__\n",
    "print('exists:', data.exists)\n",
    "print('foo:', data.foo)\n",
    "print('foo:', data.foo)"
   ]
  },
  {
   "cell_type": "markdown",
   "metadata": {},
   "source": [
    "### __getattribute__, __setattribute__, __setattr__"
   ]
  },
  {
   "cell_type": "code",
   "execution_count": 16,
   "metadata": {},
   "outputs": [],
   "source": [
    "#假设用户访问一个属性时，他想知道该属性在数据库中的row是否还存在。\n",
    "#用__getattr__无法满足上述需求，因为他会访问实例的字典\n",
    "#此时可以用__getattribute__方法， 每次都会调用这个方法拿到对象的属性，即使对象存在。\n",
    "class ValidatingDB(object):\n",
    "    def __init__(self):\n",
    "        self.exists = 5\n",
    "    def __getattribute__(self, name):\n",
    "        print('called __getattribute__(%s)' % name)\n",
    "        try:\n",
    "            return super().__getattribute__(name)\n",
    "        except AttributeError:\n",
    "            value = 'Value for %s' % name\n",
    "            setattr(self, name, value)\n",
    "            return value"
   ]
  },
  {
   "cell_type": "code",
   "execution_count": 17,
   "metadata": {},
   "outputs": [
    {
     "name": "stdout",
     "output_type": "stream",
     "text": [
      "called __getattribute__(exists)\n",
      "exists: 5\n",
      "called __getattribute__(foo)\n",
      "foo: Value for foo\n",
      "called __getattribute__(foo)\n",
      "foo: Value for foo\n"
     ]
    }
   ],
   "source": [
    "data = ValidatingDB()\n",
    "print('exists:', data.exists)\n",
    "print('foo:', data.foo)\n",
    "print('foo:', data.foo)"
   ]
  },
  {
   "cell_type": "code",
   "execution_count": 4,
   "metadata": {},
   "outputs": [],
   "source": [
    "#__setattr__每次在对象设置属性的时候都会调用\n",
    "#setattr也要会调用__setattr__\n",
    "class SavingDB(object):\n",
    "    def __setattr__(self, name, value):\n",
    "        super().__setattr__(name, value)\n",
    "class LoggingSavingDB(SavingDB):\n",
    "    def __setattr__(self, name, value):\n",
    "        print('Called __setattr__(%s, %r)' % (name, value))\n",
    "        super().__setattr__(name, value)"
   ]
  },
  {
   "cell_type": "code",
   "execution_count": 5,
   "metadata": {},
   "outputs": [
    {
     "name": "stdout",
     "output_type": "stream",
     "text": [
      "Before: {}\n",
      "Called __setattr__(foo, 5)\n",
      "After: {'foo': 5}\n",
      "Called __setattr__(foo, 7)\n",
      "Finally {'foo': 7}\n"
     ]
    }
   ],
   "source": [
    "data = LoggingSavingDB()\n",
    "print('Before:', data.__dict__)\n",
    "#注意这个之前的访问不同，这里是对未必存在的属性赋值!!!!!\n",
    "data.foo = 5\n",
    "print('After:', data.__dict__)\n",
    "data.foo = 7\n",
    "print('Finally', data.__dict__)"
   ]
  },
  {
   "cell_type": "code",
   "execution_count": 6,
   "metadata": {},
   "outputs": [],
   "source": [
    "#__getattribute__和__setarrt__在每次访问以及赋值的时候都会被调用,无论属性是否存在，这其实也是他们的缺点!!!\n",
    "class BrokenDictionaryDB(object):\n",
    "    def __init__(self,data):\n",
    "        self._data = data\n",
    "    def __getattribute__(self, name):\n",
    "        print('Called __getattribute__()%s' % name)\n",
    "        #你在__getattrbute__里访问slef._data这也会导致\n",
    "        #__getattribute__被调用，最终导致死循环\n",
    "        return self._data[name]\n",
    "#解决方案，在__getattribute__里调用父类的__getattribute__\n",
    "class DictionaryDB(object):\n",
    "    def __init__(self, data):\n",
    "        self._data = data\n",
    "    def __getattribute__(self, name):\n",
    "        data_dict = super().__getattribute__('data')\n",
    "        return data_dict[name]"
   ]
  },
  {
   "cell_type": "markdown",
   "metadata": {},
   "source": [
    "## Meta Class"
   ]
  },
  {
   "cell_type": "code",
   "execution_count": 2,
   "metadata": {},
   "outputs": [
    {
     "name": "stdout",
     "output_type": "stream",
     "text": [
      "<class '__main__.Meta'> MyClass (<class 'object'>,) {'__module__': '__main__', '__qualname__': 'MyClass', 'stuff': 123, 'foo': <function MyClass.foo at 0x7fdb4005e2f0>}\n"
     ]
    }
   ],
   "source": [
    "#1. 用metaclass确认一个class是否正确定义, 尤其当你的class层次复杂时\n",
    "#metaclass的定义方式\n",
    "class Meta(type):\n",
    "    #我们可以在__new__方法里增加验证参数的代码\n",
    "    def __new__(meta, name, bases, class_dict):\n",
    "        print(meta, name, bases, class_dict)\n",
    "        return type.__new__(meta, name, bases, class_dict)\n",
    "\n",
    "\n",
    "#The __new__ method of metaclasses is run \n",
    "#after the class statement’s entire body has been processed.\n",
    "class MyClass(object, metaclass = Meta):\n",
    "    stuff = 123\n",
    "    def foo(self):\n",
    "        pass"
   ]
  },
  {
   "cell_type": "code",
   "execution_count": 4,
   "metadata": {},
   "outputs": [],
   "source": [
    "#演示一下 复杂继承的情况。\n",
    "#meta class\n",
    "class ValidatePolygon(type):\n",
    "    def __new__(meta, name, bases, class_dict):\n",
    "        if bases != (object, ): #如果不是基类\n",
    "            #特别注意，不要在基类重新验证了\n",
    "            if class_dict['sides'] < 3:\n",
    "                raise ValueError('Polygons need 3+ sides')\n",
    "        return type.__new__(meta, name, bases, class_dict)\n",
    "#基类, base = object\n",
    "class Polygon(object, metaclass = ValidatePolygon):\n",
    "    sides = None \n",
    "    @classmethod\n",
    "    def interior_angles(cls):\n",
    "        return (cls.sides - 2) * 180\n",
    "class Triangle(Polygon):\n",
    "    sides = 3"
   ]
  },
  {
   "cell_type": "code",
   "execution_count": 7,
   "metadata": {},
   "outputs": [
    {
     "name": "stdout",
     "output_type": "stream",
     "text": [
      "Before class\n",
      "Before sides\n",
      "After sides\n"
     ]
    },
    {
     "ename": "ValueError",
     "evalue": "Polygons need 3+ sides",
     "output_type": "error",
     "traceback": [
      "\u001b[0;31m---------------------------------------------------------------------------\u001b[0m",
      "\u001b[0;31mValueError\u001b[0m                                Traceback (most recent call last)",
      "\u001b[0;32m<ipython-input-7-f6e966ba97be>\u001b[0m in \u001b[0;36m<module>\u001b[0;34m()\u001b[0m\n\u001b[1;32m      1\u001b[0m \u001b[0mprint\u001b[0m\u001b[0;34m(\u001b[0m\u001b[0;34m'Before class'\u001b[0m\u001b[0;34m)\u001b[0m\u001b[0;34m\u001b[0m\u001b[0;34m\u001b[0m\u001b[0m\n\u001b[1;32m      2\u001b[0m \u001b[0;34m\u001b[0m\u001b[0m\n\u001b[0;32m----> 3\u001b[0;31m \u001b[0;32mclass\u001b[0m \u001b[0mLine\u001b[0m\u001b[0;34m(\u001b[0m\u001b[0mPolygon\u001b[0m\u001b[0;34m)\u001b[0m\u001b[0;34m:\u001b[0m\u001b[0;34m\u001b[0m\u001b[0;34m\u001b[0m\u001b[0m\n\u001b[0m\u001b[1;32m      4\u001b[0m     \u001b[0mprint\u001b[0m\u001b[0;34m(\u001b[0m\u001b[0;34m'Before sides'\u001b[0m\u001b[0;34m)\u001b[0m\u001b[0;34m\u001b[0m\u001b[0;34m\u001b[0m\u001b[0m\n\u001b[1;32m      5\u001b[0m     \u001b[0msides\u001b[0m \u001b[0;34m=\u001b[0m \u001b[0;36m1\u001b[0m\u001b[0;34m\u001b[0m\u001b[0;34m\u001b[0m\u001b[0m\n",
      "\u001b[0;32m<ipython-input-4-8c1a7e8d771e>\u001b[0m in \u001b[0;36m__new__\u001b[0;34m(meta, name, bases, class_dict)\u001b[0m\n\u001b[1;32m      4\u001b[0m         \u001b[0;32mif\u001b[0m \u001b[0mbases\u001b[0m \u001b[0;34m!=\u001b[0m \u001b[0;34m(\u001b[0m\u001b[0mobject\u001b[0m\u001b[0;34m,\u001b[0m \u001b[0;34m)\u001b[0m\u001b[0;34m:\u001b[0m \u001b[0;31m#如果不是基类\u001b[0m\u001b[0;34m\u001b[0m\u001b[0;34m\u001b[0m\u001b[0m\n\u001b[1;32m      5\u001b[0m             \u001b[0;32mif\u001b[0m \u001b[0mclass_dict\u001b[0m\u001b[0;34m[\u001b[0m\u001b[0;34m'sides'\u001b[0m\u001b[0;34m]\u001b[0m \u001b[0;34m<\u001b[0m \u001b[0;36m3\u001b[0m\u001b[0;34m:\u001b[0m\u001b[0;34m\u001b[0m\u001b[0;34m\u001b[0m\u001b[0m\n\u001b[0;32m----> 6\u001b[0;31m                 \u001b[0;32mraise\u001b[0m \u001b[0mValueError\u001b[0m\u001b[0;34m(\u001b[0m\u001b[0;34m'Polygons need 3+ sides'\u001b[0m\u001b[0;34m)\u001b[0m\u001b[0;34m\u001b[0m\u001b[0;34m\u001b[0m\u001b[0m\n\u001b[0m\u001b[1;32m      7\u001b[0m         \u001b[0;32mreturn\u001b[0m \u001b[0mtype\u001b[0m\u001b[0;34m.\u001b[0m\u001b[0m__new__\u001b[0m\u001b[0;34m(\u001b[0m\u001b[0mmeta\u001b[0m\u001b[0;34m,\u001b[0m \u001b[0mname\u001b[0m\u001b[0;34m,\u001b[0m \u001b[0mbases\u001b[0m\u001b[0;34m,\u001b[0m \u001b[0mclass_dict\u001b[0m\u001b[0;34m)\u001b[0m\u001b[0;34m\u001b[0m\u001b[0;34m\u001b[0m\u001b[0m\n\u001b[1;32m      8\u001b[0m \u001b[0;31m#基类, base = object\u001b[0m\u001b[0;34m\u001b[0m\u001b[0;34m\u001b[0m\u001b[0;34m\u001b[0m\u001b[0m\n",
      "\u001b[0;31mValueError\u001b[0m: Polygons need 3+ sides"
     ]
    }
   ],
   "source": [
    "print('Before class') \n",
    "\n",
    "class Line(Polygon):\n",
    "    print('Before sides')\n",
    "    sides = 1\n",
    "    print('After sides') \n",
    "    \n",
    "print('After class')"
   ]
  },
  {
   "cell_type": "code",
   "execution_count": 12,
   "metadata": {},
   "outputs": [],
   "source": [
    "#2. meta class的另一个作用是， 自动类型注册\n",
    "\n",
    "#基类:把参数序列化\n",
    "import json\n",
    "class Serializable(object):\n",
    "    def __init__(self, *args):\n",
    "        self.args = args\n",
    "    def serialize(self):\n",
    "        return json.dumps({'args': self.args})"
   ]
  },
  {
   "cell_type": "code",
   "execution_count": 13,
   "metadata": {},
   "outputs": [],
   "source": [
    "class Point2D(Serializable):\n",
    "    def __init__(self, x, y):\n",
    "        super().__init__(x, y)\n",
    "        self.x = x\n",
    "        self. y = y\n",
    "    def __repr__(self):\n",
    "        return 'Point2D(%d, %d)' % (self.x, self.y)"
   ]
  },
  {
   "cell_type": "code",
   "execution_count": 14,
   "metadata": {},
   "outputs": [
    {
     "name": "stdout",
     "output_type": "stream",
     "text": [
      "Object: Point2D(5, 3)\n",
      "Serialized: {\"args\": [5, 3]}\n"
     ]
    }
   ],
   "source": [
    "point = Point2D(5, 3)\n",
    "print('Object:', point) \n",
    "print('Serialized:', point.serialize())"
   ]
  },
  {
   "cell_type": "code",
   "execution_count": 15,
   "metadata": {},
   "outputs": [],
   "source": [
    "#下面我们要对参数解序列化， 来获得类的实例\n",
    "class Deserializeable(Serializable):\n",
    "    @classmethod\n",
    "    def deserialize(cls, json_data):\n",
    "        params = json.loads(json_data)\n",
    "        return cls(*params['args'])\n",
    "\n",
    "class BetterPoint2D(Deserializeable):\n",
    "    def __init__(self, x, y):\n",
    "        super().__init__(x, y)\n",
    "        self.x = x\n",
    "        self. y = y\n",
    "    def __repr__(self):\n",
    "        return 'BetterPoint2D(%d, %d)' % (self.x, self.y)"
   ]
  },
  {
   "cell_type": "code",
   "execution_count": 17,
   "metadata": {},
   "outputs": [
    {
     "name": "stdout",
     "output_type": "stream",
     "text": [
      "Before: BetterPoint2D(5, 3)\n",
      "Serialized: {\"args\": [5, 3]}\n",
      "After: BetterPoint2D(5, 3)\n"
     ]
    }
   ],
   "source": [
    "point = BetterPoint2D(5, 3) \n",
    "print('Before:', point) \n",
    "data = point.serialize() \n",
    "print('Serialized:', data) \n",
    "after = BetterPoint2D.deserialize(data) \n",
    "print('After:', after)"
   ]
  },
  {
   "cell_type": "code",
   "execution_count": 24,
   "metadata": {},
   "outputs": [],
   "source": [
    "#上面一套持久化的办法的一个问题是， 你需要提前决定Point2D和BetterPoint2D的结构\n",
    "#解决方案, 将类名一并序列化,并且维护一个类的字典\n",
    "class BetterSerializable(object):\n",
    "    def __init__(self, *args):\n",
    "        self.args = args\n",
    "    def serialize(self):\n",
    "        return json.dumps(\n",
    "            {\n",
    "                'class' : self.__class__.__name__, \n",
    "                'args' : self.args\n",
    "            }\n",
    "        )\n",
    "\n",
    "#registry字典: 类名字 : 类\n",
    "registry = {}\n",
    "def register_class(target_class):\n",
    "    registry[target_class.__name__] = target_class\n",
    "\n",
    "    def deserialize(data):\n",
    "    params = json.loads(data)\n",
    "    name = params['class']\n",
    "    #从字典中取得需要解序列化的class\n",
    "    target_class = registry[name]\n",
    "    #返回一个实例\n",
    "    return target_class(*params['args'])"
   ]
  },
  {
   "cell_type": "code",
   "execution_count": 25,
   "metadata": {},
   "outputs": [],
   "source": [
    "class EvenBetterPoint2D(BetterSerializable):\n",
    "    def __init__(self, x, y):\n",
    "        super().__init__(x, y)\n",
    "        self.x = x\n",
    "        self. y = y\n",
    "register_class(EvenBetterPoint2D)"
   ]
  },
  {
   "cell_type": "code",
   "execution_count": 26,
   "metadata": {},
   "outputs": [
    {
     "name": "stdout",
     "output_type": "stream",
     "text": [
      "Before:  <__main__.EvenBetterPoint2D object at 0x7fdb31f8c3c8>\n",
      "Serialized:  {\"class\": \"EvenBetterPoint2D\", \"args\": [5, 3]}\n",
      "After:  <__main__.EvenBetterPoint2D object at 0x7fdb31f8c978>\n"
     ]
    }
   ],
   "source": [
    "point = EvenBetterPoint2D(5, 3)\n",
    "print('Before: ', point)\n",
    "data = point.serialize()\n",
    "print('Serialized: ', data)\n",
    "after = deserialize(data)\n",
    "print('After: ', after)"
   ]
  },
  {
   "cell_type": "code",
   "execution_count": null,
   "metadata": {},
   "outputs": [],
   "source": [
    "#上面的方法的问题是， 你可能忘记register_class！！\n",
    "class Point3D(BetterSerializable):\n",
    "    def __init__(self, x, y, z):\n",
    "        super().__init__(x, y, z)\n",
    "        self.x = x\n",
    "        self.y = y\n",
    "        self.z = z"
   ]
  },
  {
   "cell_type": "code",
   "execution_count": 27,
   "metadata": {},
   "outputs": [],
   "source": [
    "#解决方案,用meta class完成类的注册操作\n",
    "class Meta(type):\n",
    "    def __new__(meta, name, bases, class_dict):\n",
    "        cls = type.__new__(meta, name, bases, class_dict)\n",
    "        #通过调用父类的__new__方法， 来完成 class的注册\n",
    "        register_class(cls)\n",
    "        return cls\n",
    "class RegisterSerializable(BetterSerializable, metaclass = Meta):\n",
    "    pass\n",
    "class Vector3D(RegisterSerializable):\n",
    "    def __init__(self, x, y, z):\n",
    "        super().__init__(x, y, z)\n",
    "        self.x, self.y, self.z = x, y, z"
   ]
  },
  {
   "cell_type": "code",
   "execution_count": 32,
   "metadata": {},
   "outputs": [
    {
     "name": "stdout",
     "output_type": "stream",
     "text": [
      "Before:  <__main__.Vector3D object at 0x7fdb31fa68d0>\n",
      "Serialized:  {\"class\": \"Vector3D\", \"args\": [10, -7, 3]}\n",
      "After:  <__main__.Vector3D object at 0x7fdb31fa6b38>\n"
     ]
    }
   ],
   "source": [
    "v3 = Vector3D(10, -7, 3)\n",
    "print('Before: ', v3)\n",
    "data = v3.serialize()\n",
    "print('Serialized: ', data)\n",
    "print('After: ', deserialize(data))"
   ]
  },
  {
   "cell_type": "code",
   "execution_count": 2,
   "metadata": {},
   "outputs": [],
   "source": [
    "#3. 用meta class为类增加属性和方法"
   ]
  },
  {
   "cell_type": "code",
   "execution_count": 52,
   "metadata": {},
   "outputs": [],
   "source": [
    "#下面的customer class的每一个属性代表了数据库的一列\n",
    "#通过下面的 Field class, 可以为Customer class 增加一个受保护的属性\n",
    "#这一受保护的属性的名字为 _interval_name, 由用户定义！！！\n",
    "class Field(object):\n",
    "    def __init__(self, name):\n",
    "        self.name = name\n",
    "        self.internal_name = '_' + self.name\n",
    "    def __get__(self, instance, isntance_type):\n",
    "        if instance is None:\n",
    "            return self\n",
    "        print(instance.__class__.__name__, self.internal_name)\n",
    "        return getattr(instance, self.internal_name, '')\n",
    "    def __set__(self, instance, value):\n",
    "        setattr(instance, self.internal_name, value)\n",
    "\n",
    "class Customer(object):\n",
    "    #类属性\n",
    "    first_name = Field('first_name')\n",
    "    last_name = Field('last_name')\n",
    "    prefix = Field('prefix')\n",
    "    suffix = Field('suffix')"
   ]
  },
  {
   "cell_type": "code",
   "execution_count": 53,
   "metadata": {},
   "outputs": [
    {
     "name": "stdout",
     "output_type": "stream",
     "text": [
      "Customer _first_name\n",
      "Before: '' {}\n",
      "Customer _first_name\n",
      "After: 'zzj' {'_first_name': 'zzj'}\n"
     ]
    }
   ],
   "source": [
    "#注意 调用 __get__和__set__的实例是 foo， 因此instance 是 foo\n",
    "foo = Customer()\n",
    "print('Before:', repr(foo.first_name), foo.__dict__)\n",
    "foo.first_name = 'zzj'\n",
    "print('After:', repr(foo.first_name), foo.__dict__)"
   ]
  },
  {
   "cell_type": "code",
   "execution_count": 3,
   "metadata": {},
   "outputs": [
    {
     "data": {
      "text/plain": [
       "\"\\n    first_name = Field('first_name')\\n\""
      ]
     },
     "execution_count": 3,
     "metadata": {},
     "output_type": "execute_result"
    }
   ],
   "source": [
    "#上面的方法是冗余的，因为在Customer声明中我已经set了属性的名字 first_name\n",
    "#那么接着把 字符串 'first_name'传递到Field的构造函数里显得多余了:\n",
    "\"\"\"\n",
    "    first_name = Field('first_name')\n",
    "\"\"\"\n",
    "#解决方案, 用meta class + descriptors, 这样你可以不用上面的 weakref 模块了"
   ]
  },
  {
   "cell_type": "code",
   "execution_count": 82,
   "metadata": {},
   "outputs": [],
   "source": [
    "class Meta(type):\n",
    "    def __new__(meta, name, bases, class_dict):\n",
    "       #class_dict是类的 属性名:属性 字典\n",
    "        for key, value in class_dict.items():\n",
    "            #如果属性是Field类型,为其属性赋值\n",
    "            if isinstance(value, Field):\n",
    "                value.name = key\n",
    "                value.internal_name = '_' + key\n",
    "        cls = type.__new__(meta, name, bases, class_dict)\n",
    "        return cls\n",
    "class DatabaseRow(object, metaclass = Meta):\n",
    "    pass\n",
    "#注意Field不用metaclass\n",
    "class Field(object):\n",
    "    def __init__(self):\n",
    "        #这属性在 meta class 中初始化\n",
    "        self.name = None\n",
    "        self.internal_name = None\n",
    "\n"
   ]
  },
  {
   "cell_type": "code",
   "execution_count": 84,
   "metadata": {},
   "outputs": [],
   "source": [
    "class BetterCustomer(DatabaseRow):\n",
    "    first_name = Field()\n",
    "    last_name = Field()\n",
    "    prefix = Field()\n",
    "    suffix = Field()"
   ]
  },
  {
   "cell_type": "code",
   "execution_count": 85,
   "metadata": {},
   "outputs": [
    {
     "name": "stdout",
     "output_type": "stream",
     "text": [
      "Before:  <__main__.Field object at 0x7fdb31fb44a8> {}\n",
      "After:  'Euler' {'first_name': 'Euler'}\n"
     ]
    }
   ],
   "source": [
    "foo = BetterCustomer()\n",
    "print('Before: ', repr(foo.first_name), foo.__dict__)\n",
    "foo.first_name = 'Euler'\n",
    "print('After: ', repr(foo.first_name), foo.__dict__)"
   ]
  },
  {
   "cell_type": "code",
   "execution_count": null,
   "metadata": {},
   "outputs": [],
   "source": []
  }
 ],
 "metadata": {
  "kernelspec": {
   "display_name": "Python 3",
   "language": "python",
   "name": "python3"
  },
  "language_info": {
   "codemirror_mode": {
    "name": "ipython",
    "version": 3
   },
   "file_extension": ".py",
   "mimetype": "text/x-python",
   "name": "python",
   "nbconvert_exporter": "python",
   "pygments_lexer": "ipython3",
   "version": "3.6.7"
  },
  "toc": {
   "base_numbering": 1,
   "nav_menu": {},
   "number_sections": true,
   "sideBar": true,
   "skip_h1_title": false,
   "title_cell": "Table of Contents",
   "title_sidebar": "Contents",
   "toc_cell": false,
   "toc_position": {},
   "toc_section_display": true,
   "toc_window_display": false
  }
 },
 "nbformat": 4,
 "nbformat_minor": 2
}
