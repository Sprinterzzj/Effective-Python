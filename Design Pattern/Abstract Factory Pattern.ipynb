{
 "cells": [
  {
   "cell_type": "markdown",
   "metadata": {},
   "source": [
    "#### 抽象工厂\n",
    "\n",
    "1. 用来生成复杂的对象\n",
    "2. 所生成的对象由其他对象\"组装\"\n",
    "3. 用来组装的对象全部来自同一个\"家族\""
   ]
  },
  {
   "cell_type": "code",
   "execution_count": 19,
   "metadata": {
    "ExecuteTime": {
     "end_time": "2019-06-21T07:51:47.994273Z",
     "start_time": "2019-06-21T07:51:47.989865Z"
    }
   },
   "outputs": [],
   "source": [
    "def create_diagram(factory):\n",
    "    \"\"\"接受一个 `对话框工厂类` 然后生成对话框\n",
    "    \"\"\"\n",
    "    diagram = factory.make_diagram(30, 7)\n",
    "    rectangle = factory.make_rectangle(4, 1, 22, 5, 'yellow')\n",
    "    text = factory.make_text(7, 3, 'Abstract Factory')\n",
    "    diagram.add(rectangle)\n",
    "    diagram.add(text)\n",
    "    return diagram  "
   ]
  },
  {
   "cell_type": "code",
   "execution_count": 20,
   "metadata": {
    "ExecuteTime": {
     "end_time": "2019-06-21T07:51:48.529700Z",
     "start_time": "2019-06-21T07:51:48.524720Z"
    }
   },
   "outputs": [],
   "source": [
    "class DiagramFactory(object):\n",
    "    \"\"\"用于生成对话框的抽象工厂类, 它主要:\n",
    "    1. 作为基类, 提供了接口\n",
    "    2. 它本身也是一个具体的类\n",
    "    \"\"\"\n",
    "\n",
    "    def make_diagram(self, width, height):\n",
    "        return Diagram(width, height)\n",
    "\n",
    "    def make_rectangle(self, x, y, width, height,\n",
    "                       fill='white', stroke='black'):\n",
    "        return Rectangle(x, y, width, height, fill, stroke)\n",
    "\n",
    "    def make_text(self, x, y, text, fontsize=12):\n",
    "        return Text(x, y, text, fontsize)"
   ]
  },
  {
   "cell_type": "code",
   "execution_count": 21,
   "metadata": {
    "ExecuteTime": {
     "end_time": "2019-06-21T07:51:48.728155Z",
     "start_time": "2019-06-21T07:51:48.723187Z"
    }
   },
   "outputs": [],
   "source": [
    "class SvgDiagramFactory(DiagramFactory):\n",
    "    \"\"\"Svg对话框抽象工厂提供了和父类一样的接口但是返回的值不同\n",
    "    \"\"\"\n",
    "    \n",
    "    def make_diagram(self, width, height):\n",
    "        return SvgDiagram(width, height)\n",
    "\n",
    "    def make_rectangle(self, x, y, width, height,\n",
    "                       fill='white', stroke='black'):\n",
    "        return SvgRectangle(x, y, width, height, fill, stroke)\n",
    "\n",
    "    def make_text(self, x, y, text, fontsize=12):\n",
    "        return SvgText(x, y, text, fontsize)"
   ]
  },
  {
   "cell_type": "code",
   "execution_count": 22,
   "metadata": {
    "ExecuteTime": {
     "end_time": "2019-06-21T07:51:48.912879Z",
     "start_time": "2019-06-21T07:51:48.910183Z"
    }
   },
   "outputs": [],
   "source": [
    "BLANK = \" \"\n",
    "CORNER = \"+\"\n",
    "HORIZONTAL = \"-\"\n",
    "VERTICAL = \"|\""
   ]
  },
  {
   "cell_type": "code",
   "execution_count": 27,
   "metadata": {
    "ExecuteTime": {
     "end_time": "2019-06-21T07:52:25.530718Z",
     "start_time": "2019-06-21T07:52:25.514836Z"
    }
   },
   "outputs": [],
   "source": [
    " def _create_rectangle(width, height, fill=BLANK):\n",
    "    \"\"\"首先生成一个由空串组成的矩阵然后依次填入元素\n",
    "    \"\"\"\n",
    "    #产生空字符串框\n",
    "    rows = [[fill for _ in range(width)] for _ in range(height)]\n",
    "    #在每一列的首尾填充\n",
    "    for x in range(1, width - 1):\n",
    "        rows[0][x] = HORIZONTAL\n",
    "        rows[height - 1][x] = HORIZONTAL\n",
    "    #在没一行的收尾填充\n",
    "    for y in range(1, height - 1):\n",
    "        rows[y][0] = VERTICAL\n",
    "        rows[y][width - 1] = VERTICAL\n",
    "    #在四个角填充\n",
    "    for y, x in ((0, 0), (0, width - 1), \n",
    "                 (height - 1, 0), (height - 1, width - 1)):\n",
    "        rows[y][x] = CORNER\n",
    "    return rows\n",
    "\n",
    "#下面实现 对话框抽象工厂类生产的三个组件:对话框, 文本, 矩形\n",
    "class Diagram(object):\n",
    "    \n",
    "    def __init__(self, width, height):\n",
    "        self.width = width\n",
    "        self.height = height\n",
    "        self.diagram  = _create_rectangle(self.width, self.height)\n",
    "    \n",
    "    #add方法完成零件的组装\n",
    "    def add(self, component):\n",
    "        \"\"\"为对话框加入组件, 这组件同样由对话框抽象工厂类生成\n",
    "        \"\"\"\n",
    "        for y, row in enumerate(component.rows):\n",
    "            for x, char in enumerate(row):\n",
    "                self.diagram[y+component.y][x+component.x] = char\n",
    "        return\n",
    "    def save(self, filenameOrFile):\n",
    "        \"\"\"将对话框类保存到文件.\n",
    "        如果参数是字符串, 就用它为名字新建文件; 如果参数是一个文件的句柄就直接写入.\n",
    "        写入文件时,将每一行(一个字符串列表)合并为一个字符串写入\n",
    "        \"\"\"\n",
    "        file = None if isinstance(filenameOrFile, str) else filenameOrFile\n",
    "        try:\n",
    "            if file is None:\n",
    "                file = open(filenameOrFile, 'w', encoding='utf-8')\n",
    "            for row in self.diagram:\n",
    "                print(''.join(row), file=file)\n",
    "        finally:\n",
    "            #当 filenameOrFile是字符串时并且文件成功创建时, 需要在函数里\n",
    "            #关闭它\n",
    "            if isinstance(filenameOrFile, str) and file is not None:\n",
    "                file.close()\n",
    "        return\n",
    "\n",
    "class Rectangle(object):\n",
    "    \n",
    "    def __init__(self, x, y, width, height, fill, stroke):\n",
    "        self.x = x\n",
    "        self.y = y\n",
    "        self.rows = _create_rectangle(width, height, \n",
    "                                      BLANK if fill == 'white' else '%')\n",
    "class Text(object):\n",
    "    \n",
    "    def __init__(self, x, y, text, fontsize):\n",
    "        self.x = x\n",
    "        self.y = y\n",
    "        self.rows = [list(text)]"
   ]
  },
  {
   "cell_type": "code",
   "execution_count": 28,
   "metadata": {
    "ExecuteTime": {
     "end_time": "2019-06-21T07:52:25.974774Z",
     "start_time": "2019-06-21T07:52:25.971707Z"
    }
   },
   "outputs": [],
   "source": [
    "SVG_START = \"\"\"<?xml version=\"1.0\" encoding=\"UTF-8\" standalone=\"no\"?>\n",
    "<!DOCTYPE svg PUBLIC \"-//W3C//DTD SVG 20010904//EN\"\n",
    "    \"http://www.w3.org/TR/2001/REC-SVG-20010904/DTD/svg10.dtd\">\n",
    "<svg xmlns=\"http://www.w3.org/2000/svg\"\n",
    "    xmlns:xlink=\"http://www.w3.org/1999/xlink\" xml:space=\"preserve\"\n",
    "    width=\"{pxwidth}px\" height=\"{pxheight}px\">\"\"\"\n",
    "\n",
    "SVG_END = \"</svg>\\n\"\n",
    "\n",
    "SVG_RECTANGLE = \"\"\"<rect x=\"{x}\" y=\"{y}\" width=\"{width}\" \\\n",
    "height=\"{height}\" fill=\"{fill}\" stroke=\"{stroke}\"/>\"\"\"\n",
    "\n",
    "SVG_TEXT = \"\"\"<text x=\"{x}\" y=\"{y}\" text-anchor=\"left\" \\\n",
    "font-family=\"sans-serif\" font-size=\"{fontsize}\">{text}</text>\"\"\"\n",
    "\n",
    "SVG_SCALE = 20"
   ]
  },
  {
   "cell_type": "code",
   "execution_count": 29,
   "metadata": {
    "ExecuteTime": {
     "end_time": "2019-06-21T07:52:26.251715Z",
     "start_time": "2019-06-21T07:52:26.241188Z"
    }
   },
   "outputs": [],
   "source": [
    "#下面实现Svg对话框\n",
    "class SvgDiagram(object):\n",
    "    \n",
    "    def __init__(self, width, height):\n",
    "        pxwidth = width * SVG_SCALE\n",
    "        pxheight = width * SVG_SCALE\n",
    "        self.diagram = [SVG_START.format(**locals())]\n",
    "        outline = SvgRectangle(0, 0, width, height,\n",
    "                               'lightgreen', 'black')\n",
    "        self.diagram.append(outline.svg)\n",
    "    \n",
    "    def add(self, component):\n",
    "        self.diagram.append(component.svg)\n",
    "        return\n",
    "    \n",
    "    def save(self, filenameOrFile):\n",
    "        file = None if isinstance(filenameOrFile, str) else filenameOrFile\n",
    "        try:\n",
    "            if file is None:\n",
    "                file = open(filenameOrFile, \"w\", encoding=\"utf-8\")\n",
    "            file.write(\"\\n\".join(self.diagram))\n",
    "            file.write(\"\\n\" + SVG_END)\n",
    "        finally:\n",
    "            if isinstance(filenameOrFile, str) and file is not None:\n",
    "                file.close()\n",
    "        return\n",
    "\n",
    "class SvgRectangle(object):\n",
    "    \n",
    "    def __init__(self, x, y, width, height, \n",
    "                 fill, stroke):\n",
    "        x *= SVG_SCALE\n",
    "        y *= SVG_SCALE\n",
    "        width *= SVG_SCALE\n",
    "        height *= SVG_SCALE\n",
    "        self.svg = SVG_RECTANGLE.format(**locals())\n",
    "\n",
    "class SvgText(object):\n",
    "    \n",
    "    def __init__(self, x, y, text, fontsize):\n",
    "        x *= SVG_SCALE\n",
    "        y *= SVG_SCALE\n",
    "        fontsize *= SVG_SCALE // 10\n",
    "        self.svg = SVG_TEXT.format(**locals())\n",
    "    "
   ]
  },
  {
   "cell_type": "markdown",
   "metadata": {},
   "source": [
    "<center>抽象工厂类的流程</center>\n",
    "\n",
    "1. {Diagram, Rectangle, Text}--->DiagramFactory--->make_diagram\n",
    "2. {SvgDiagram, SvgRectangle, SvgText}--->SvgDiagramFactory--->make_diagram\n",
    "3. {Diagram, Rectangle, Text} 与 {SvgDiagram, SvgRectangle, SvgText}是两类不同的零件, 可以看到实现方式是不同的, 因而无法混用！！！其中Diagram与SvgDiagram实现了同样的接口, 这是因为make_diagram里要调用他们分别实现对话框的组装和保存\n",
    "4. DiagramFactory和SvgDiagramFactory只负责*生产全部零件*, 拼装过程放在make_diagram函数里, 因而这俩抽象工厂也要实现完全相同的接口.\n",
    "5. make_diagram 函数接受一个抽象工厂类, 用它生成配件再把配件拼装起来(调用add方法)"
   ]
  },
  {
   "cell_type": "code",
   "execution_count": 1,
   "metadata": {
    "ExecuteTime": {
     "end_time": "2019-06-21T08:17:58.420454Z",
     "start_time": "2019-06-21T08:17:58.417890Z"
    }
   },
   "outputs": [],
   "source": [
    "# import os\n",
    "# import tempfile\n",
    "\n",
    "# textFilename = os.path.join(\"diagram.txt\")\n",
    "# txtDiagram = create_diagram(DiagramFactory())\n",
    "# txtDiagram.save(textFilename)\n",
    "\n",
    "# svgFilename = os.path.join(\"diagram.svg\")\n",
    "# svgDiagram = create_diagram(SvgDiagramFactory())\n",
    "# svgDiagram.save(svgFilename)"
   ]
  },
  {
   "cell_type": "markdown",
   "metadata": {},
   "source": [
    "###### 改进: 更加pythonic的抽象工厂类\n",
    "上面实现的缺点:\n",
    "\n",
    "1. 工厂类是纯虚的, 它们没有自己的state--我们无需用到它们的实例化!!!\n",
    "2. SvgDiagramFactory与它的父类实现几乎一样, 除了返回值不同--代码复用性差!!!\n",
    "3. 我们的命名空间里包含了从零件到工厂的所有的class: : DiagramFactory, Diagram, Rectangle, Text, etc.但是我们实际上只需要访问两个工厂类. 我们需要注意命名冲突问题,\n",
    "这其实是不必要的."
   ]
  },
  {
   "cell_type": "code",
   "execution_count": 2,
   "metadata": {
    "ExecuteTime": {
     "end_time": "2019-06-21T08:31:27.559562Z",
     "start_time": "2019-06-21T08:31:27.539859Z"
    },
    "code_folding": [
     8,
     23,
     27,
     32,
     36,
     64,
     73
    ]
   },
   "outputs": [],
   "source": [
    "class DiagramFactory(object):\n",
    "    \n",
    "    #类变量\n",
    "    BLANK = \" \"\n",
    "    CORNER = \"+\"\n",
    "    HORIZONTAL = \"-\"\n",
    "    VERTICAL = \"|\"\n",
    "    \n",
    "    #私有函数\n",
    "    def _create_rectangle(width, height, fill):\n",
    "        rows = [[fill for _ in range(width)] for _ in range(height)]\n",
    "        for x in range(1, width - 1):\n",
    "            rows[0][x] = DiagramFactory.HORIZONTAL\n",
    "            rows[height - 1][x] = DiagramFactory.HORIZONTAL\n",
    "        for y in range(1, height - 1):\n",
    "            rows[y][0] = DiagramFactory.VERTICAL\n",
    "            rows[y][width - 1] = DiagramFactory.VERTICAL\n",
    "        for y, x in ((0, 0), (0, width - 1), (height - 1, 0),\n",
    "                (height - 1, width -1)):\n",
    "            rows[y][x] = DiagramFactory.CORNER\n",
    "        return rows    \n",
    "    \n",
    "    #类方法用于实例化\n",
    "    @classmethod\n",
    "    def make_diagram(cls, width, height):\n",
    "        return cls.Diagram(width, height)\n",
    "    \n",
    "    @classmethod\n",
    "    def make_rectangle(cls, x, y, width, height, \n",
    "                       fill='white', stroke='black'):\n",
    "        return cls.Rectangle(x, y, width, height, fill, stroke)\n",
    "    \n",
    "    @classmethod\n",
    "    def make_text(cls, x, y, text, fontsize=12):\n",
    "        return cls.Text(x, y, text, fontsize)\n",
    "    \n",
    "    #将三个部件类嵌套在抽象工厂类里\n",
    "    class Diagram:\n",
    "\n",
    "        def __init__(self, width, height):\n",
    "            self.width = width\n",
    "            self.height = height\n",
    "            self.diagram = DiagramFactory._create_rectangle(self.width,\n",
    "                    self.height, DiagramFactory.BLANK)\n",
    "\n",
    "\n",
    "        def add(self, component):\n",
    "            for y, row in enumerate(component.rows):\n",
    "                for x, char in enumerate(row):\n",
    "                    self.diagram[y + component.y][x + component.x] = char\n",
    "\n",
    "\n",
    "        def save(self, filenameOrFile):\n",
    "            file = (None if isinstance(filenameOrFile, str) else\n",
    "                    filenameOrFile)\n",
    "            try:\n",
    "                if file is None:\n",
    "                    file = open(filenameOrFile, \"w\", encoding=\"utf-8\")\n",
    "                for row in self.diagram:\n",
    "                    print(\"\".join(row), file=file)\n",
    "            finally:\n",
    "                if isinstance(filenameOrFile, str) and file is not None:\n",
    "                    file.close()\n",
    "\n",
    "\n",
    "    class Rectangle:\n",
    "\n",
    "        def __init__(self, x, y, width, height, fill, stroke):\n",
    "            self.x = x\n",
    "            self.y = y\n",
    "            self.rows = DiagramFactory._create_rectangle(width, height,\n",
    "                    DiagramFactory.BLANK if fill == \"white\" else \"%\")\n",
    "\n",
    "\n",
    "    class Text:\n",
    "\n",
    "        def __init__(self, x, y, text, fontsize):\n",
    "            self.x = x\n",
    "            self.y = y\n",
    "            self.rows = [list(text)]\n",
    "    "
   ]
  },
  {
   "cell_type": "code",
   "execution_count": null,
   "metadata": {
    "code_folding": [
     18,
     46,
     56
    ]
   },
   "outputs": [],
   "source": [
    "class SvgDiagramFactory(DiagramFactory):\n",
    "    # 我们无须再写工厂方法了直接调用基类的即可\n",
    "    SVG_START = \"\"\"<?xml version=\"1.0\" encoding=\"UTF-8\" standalone=\"no\"?>\n",
    "<!DOCTYPE svg PUBLIC \"-//W3C//DTD SVG 20010904//EN\"\n",
    "    \"http://www.w3.org/TR/2001/REC-SVG-20010904/DTD/svg10.dtd\">\n",
    "<svg xmlns=\"http://www.w3.org/2000/svg\"\n",
    "    xmlns:xlink=\"http://www.w3.org/1999/xlink\" xml:space=\"preserve\"\n",
    "    width=\"{pxwidth}px\" height=\"{pxheight}px\">\"\"\"\n",
    "\n",
    "    SVG_END = \"</svg>\\n\"\n",
    "\n",
    "    SVG_RECTANGLE = \"\"\"<rect x=\"{x}\" y=\"{y}\" width=\"{width}\" \\\n",
    "height=\"{height}\" fill=\"{fill}\" stroke=\"{stroke}\"/>\"\"\"\n",
    "\n",
    "    SVG_TEXT = \"\"\"<text x=\"{x}\" y=\"{y}\" text-anchor=\"left\" \\\n",
    "font-family=\"sans-serif\" font-size=\"{fontsize}\">{text}</text>\"\"\"\n",
    "\n",
    "    SVG_SCALE = 20\n",
    "    \n",
    "    # 这样无需担心部件的名字冲突问题了\n",
    "    class Diagram:\n",
    "\n",
    "        def __init__(self, width, height):\n",
    "            pxwidth = width * SvgDiagramFactory.SVG_SCALE\n",
    "            pxheight = height * SvgDiagramFactory.SVG_SCALE\n",
    "            self.diagram = [SvgDiagramFactory.SVG_START.format(**locals())]\n",
    "            outline = SvgDiagramFactory.Rectangle(0, 0, width, height,\n",
    "                    \"lightgreen\", \"black\")\n",
    "            self.diagram.append(outline.svg)\n",
    "\n",
    "\n",
    "        def add(self, component):\n",
    "            self.diagram.append(component.svg)\n",
    "\n",
    "\n",
    "        def save(self, filenameOrFile):\n",
    "            file = (None if isinstance(filenameOrFile, str) else\n",
    "                    filenameOrFile)\n",
    "            try:\n",
    "                if file is None:\n",
    "                    file = open(filenameOrFile, \"w\", encoding=\"utf-8\")\n",
    "                file.write(\"\\n\".join(self.diagram))\n",
    "                file.write(\"\\n\" + SvgDiagramFactory.SVG_END)\n",
    "            finally:\n",
    "                if isinstance(filenameOrFile, str) and file is not None:\n",
    "                    file.close()\n",
    "\n",
    "\n",
    "    class Rectangle:\n",
    "\n",
    "        def __init__(self, x, y, width, height, fill, stroke):\n",
    "            x *= SvgDiagramFactory.SVG_SCALE\n",
    "            y *= SvgDiagramFactory.SVG_SCALE\n",
    "            width *= SvgDiagramFactory.SVG_SCALE\n",
    "            height *= SvgDiagramFactory.SVG_SCALE\n",
    "            self.svg = SvgDiagramFactory.SVG_RECTANGLE.format(**locals())\n",
    "\n",
    "\n",
    "    class Text:\n",
    "\n",
    "        def __init__(self, x, y, text, fontsize):\n",
    "            x *= SvgDiagramFactory.SVG_SCALE\n",
    "            y *= SvgDiagramFactory.SVG_SCALE\n",
    "            fontsize *= SvgDiagramFactory.SVG_SCALE // 10\n",
    "            self.svg = SvgDiagramFactory.SVG_TEXT.format(**locals())\n",
    "\n"
   ]
  }
 ],
 "metadata": {
  "kernelspec": {
   "display_name": "Python 3",
   "language": "python",
   "name": "python3"
  },
  "language_info": {
   "codemirror_mode": {
    "name": "ipython",
    "version": 3
   },
   "file_extension": ".py",
   "mimetype": "text/x-python",
   "name": "python",
   "nbconvert_exporter": "python",
   "pygments_lexer": "ipython3",
   "version": "3.6.8"
  },
  "toc": {
   "base_numbering": 1,
   "nav_menu": {},
   "number_sections": true,
   "sideBar": true,
   "skip_h1_title": false,
   "title_cell": "Table of Contents",
   "title_sidebar": "Contents",
   "toc_cell": false,
   "toc_position": {},
   "toc_section_display": true,
   "toc_window_display": false
  },
  "varInspector": {
   "cols": {
    "lenName": 16,
    "lenType": 16,
    "lenVar": 40
   },
   "kernels_config": {
    "python": {
     "delete_cmd_postfix": "",
     "delete_cmd_prefix": "del ",
     "library": "var_list.py",
     "varRefreshCmd": "print(var_dic_list())"
    },
    "r": {
     "delete_cmd_postfix": ") ",
     "delete_cmd_prefix": "rm(",
     "library": "var_list.r",
     "varRefreshCmd": "cat(var_dic_list()) "
    }
   },
   "types_to_exclude": [
    "module",
    "function",
    "builtin_function_or_method",
    "instance",
    "_Feature"
   ],
   "window_display": false
  }
 },
 "nbformat": 4,
 "nbformat_minor": 2
}
