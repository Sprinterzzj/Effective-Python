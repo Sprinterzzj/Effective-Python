{
 "cells": [
  {
   "cell_type": "markdown",
   "metadata": {},
   "source": []
  },
  {
   "cell_type": "code",
   "execution_count": 6,
   "metadata": {
    "ExecuteTime": {
     "end_time": "2019-06-23T13:01:11.975695Z",
     "start_time": "2019-06-23T13:01:11.970853Z"
    }
   },
   "outputs": [],
   "source": [
    "from abc import ABCMeta, abstractmethod\n",
    "# 让metaclass为abc.ABCMeta可以保证基类无法被实例化\n",
    "\n",
    "\n",
    "class AbstractFormBuilder(metaclass=ABCMeta):\n",
    "    \"\"\"所有继承该抽象基类的子类, 都必须实现下面的抽象方法.\n",
    "    \"\"\"\n",
    "\n",
    "    @abstractmethod\n",
    "    def add_title(self, title):\n",
    "        self.title = title\n",
    "\n",
    "    @abstractmethod\n",
    "    def form(self):\n",
    "        pass\n",
    "\n",
    "    @abstractmethod\n",
    "    def add_label(self, text, row, column, **kwargs):\n",
    "        pass"
   ]
  },
  {
   "cell_type": "code",
   "execution_count": 8,
   "metadata": {
    "ExecuteTime": {
     "end_time": "2019-06-23T13:39:44.612652Z",
     "start_time": "2019-06-23T13:39:44.601568Z"
    }
   },
   "outputs": [],
   "source": [
    "from html import escape\n",
    "class HtmlFormBuilder(AbstractFormBuilder):\n",
    "    def __init__(self):\n",
    "        self.title = 'HtmlFormBuilder'\n",
    "        self.items = {}\n",
    "    \n",
    "    def add_title(self, title):\n",
    "        #需要用html.escape函数处理title\n",
    "        super().add_title(escape(title))\n",
    "    \n",
    "    def add_label(self, text, row, column, **kwargs):\n",
    "        self.items[(row, column)] = (\n",
    "            '<td><label for=\"{}\">{}:</label></td>'.\n",
    "            format(kwargs['target'], escape(text))\n",
    "        )\n",
    "    def add_entry(self, variable, row, column, **kwargs):\n",
    "        html =\\\n",
    "        \"\"\"\n",
    "        <td><input name=\"{}\" type=\"{}\" /></td>\n",
    "        \"\"\".format(variable, kwargs.get('kind', 'text'))\n",
    "        self.items[(row, column)] = html\n",
    "    def add_button(self, text, row, column, **kwargs):\n",
    "        html =\\\n",
    "        \"\"\"\n",
    "        <td><input type=\"submit\" value=\"{}\" /></td>\n",
    "        \"\"\".format(escape(text))\n",
    "        self.items[(row, column)] = html\n",
    "    def form(self):\n",
    "        html =\\\n",
    "        [\n",
    "            '<!doctype html>\\n<html><head><title>{}</title></head>'\n",
    "            '<body>'.format(self.title), '<form><table border=\"0\">'\n",
    "        ]\n",
    "        thisRow = None\n",
    "        for key, value in sorted(self.items.items()):\n",
    "            row, column = key\n",
    "            if thisRow is None:\n",
    "                html.append(' <tr>')\n",
    "            elif thisRow != row:\n",
    "                html.append(' </tr>\\n <tr>')\n",
    "            thisRow = row\n",
    "            html.append('  ' + value)\n",
    "        html.append(' </tr>\\n</table></form></body></html>')\n",
    "        return '\\n'.join(html)"
   ]
  },
  {
   "cell_type": "code",
   "execution_count": null,
   "metadata": {},
   "outputs": [],
   "source": []
  }
 ],
 "metadata": {
  "kernelspec": {
   "display_name": "Python 3",
   "language": "python",
   "name": "python3"
  },
  "language_info": {
   "codemirror_mode": {
    "name": "ipython",
    "version": 3
   },
   "file_extension": ".py",
   "mimetype": "text/x-python",
   "name": "python",
   "nbconvert_exporter": "python",
   "pygments_lexer": "ipython3",
   "version": "3.6.8"
  },
  "toc": {
   "base_numbering": 1,
   "nav_menu": {},
   "number_sections": true,
   "sideBar": true,
   "skip_h1_title": false,
   "title_cell": "Table of Contents",
   "title_sidebar": "Contents",
   "toc_cell": false,
   "toc_position": {},
   "toc_section_display": true,
   "toc_window_display": false
  },
  "varInspector": {
   "cols": {
    "lenName": 16,
    "lenType": 16,
    "lenVar": 40
   },
   "kernels_config": {
    "python": {
     "delete_cmd_postfix": "",
     "delete_cmd_prefix": "del ",
     "library": "var_list.py",
     "varRefreshCmd": "print(var_dic_list())"
    },
    "r": {
     "delete_cmd_postfix": ") ",
     "delete_cmd_prefix": "rm(",
     "library": "var_list.r",
     "varRefreshCmd": "cat(var_dic_list()) "
    }
   },
   "types_to_exclude": [
    "module",
    "function",
    "builtin_function_or_method",
    "instance",
    "_Feature"
   ],
   "window_display": false
  }
 },
 "nbformat": 4,
 "nbformat_minor": 2
}
