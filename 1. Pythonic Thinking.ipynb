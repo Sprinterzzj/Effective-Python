{
 "cells": [
  {
   "cell_type": "code",
   "execution_count": 1,
   "metadata": {},
   "outputs": [],
   "source": [
    "#Python支持链式比较\n",
    "\n",
    "a = 5\n",
    "assert 3<=a<=7"
   ]
  },
  {
   "cell_type": "code",
   "execution_count": 2,
   "metadata": {},
   "outputs": [],
   "source": [
    "#Python交换变量\n",
    "\n",
    "x = 100\n",
    "y = 50\n",
    "x, y = y, x"
   ]
  },
  {
   "cell_type": "code",
   "execution_count": 3,
   "metadata": {},
   "outputs": [],
   "source": [
    "#Python中替代三目运算符\n",
    "\n",
    "a = 10\n",
    "b = 5\n",
    "c = a if a > b else b"
   ]
  },
  {
   "cell_type": "code",
   "execution_count": 4,
   "metadata": {},
   "outputs": [
    {
     "data": {
      "text/plain": [
       "['a', 'b', 'c']"
      ]
     },
     "execution_count": 4,
     "metadata": {},
     "output_type": "execute_result"
    }
   ],
   "source": [
    "#join 函数拼接字符表\n",
    "\n",
    "s = '_'.join(['a', 'b', 'c'])\n",
    "\n",
    "#split函数分割字符表\n",
    "\n",
    "s.split('_')"
   ]
  },
  {
   "cell_type": "code",
   "execution_count": 5,
   "metadata": {},
   "outputs": [
    {
     "name": "stdout",
     "output_type": "stream",
     "text": [
      "My name: zijie, My age: 19\n",
      "My name: zijie, My age: 19\n"
     ]
    }
   ],
   "source": [
    "#用format格式化字符串\n",
    "str1 = \"My name: {name}, My age: {age}\".format(name = 'zijie', age = '19')\n",
    "print(str1)\n",
    "str2 = \"My name: {0}, My age: {1}\"\n",
    "print(str2.format('zijie', '19'))"
   ]
  },
  {
   "cell_type": "code",
   "execution_count": 6,
   "metadata": {},
   "outputs": [
    {
     "data": {
      "text/plain": [
       "{1: 1, 2: 2, 3: 3, 4: 4, 5: 5, 6: 6, 7: 7, 8: 8, 9: 9}"
      ]
     },
     "execution_count": 6,
     "metadata": {},
     "output_type": "execute_result"
    }
   ],
   "source": [
    "#字典/列表生成\n",
    "[i for i in range(1, 10)]\n",
    "{i : i for i in range(1, 10)}"
   ]
  },
  {
   "cell_type": "code",
   "execution_count": 7,
   "metadata": {},
   "outputs": [
    {
     "name": "stdout",
     "output_type": "stream",
     "text": [
      "0 a\n",
      "1 b\n",
      "2 c\n",
      "3 d\n",
      "4 e\n"
     ]
    }
   ],
   "source": [
    "#使用 enumerate代替索引遍历\n",
    "for index, element in enumerate(list('abcde')):\n",
    "    print(index, element)"
   ]
  },
  {
   "cell_type": "markdown",
   "metadata": {},
   "source": [
    "### 一切皆对象！！！"
   ]
  },
  {
   "cell_type": "code",
   "execution_count": 8,
   "metadata": {},
   "outputs": [
    {
     "name": "stdout",
     "output_type": "stream",
     "text": [
      "2\n",
      "\n",
      "3\n",
      "\n",
      "3\n",
      "\n",
      "4\n",
      "\n",
      "0\n",
      "\n",
      "-1\n",
      "\n",
      "1\n",
      "\n",
      "0\n",
      "\n",
      "1\n",
      "\n",
      "2\n",
      "\n",
      "2\n",
      "\n",
      "4\n",
      "\n",
      "1.0\n",
      "\n",
      "0.5\n",
      "\n",
      "2.0\n",
      "\n",
      "1.0\n",
      "\n"
     ]
    }
   ],
   "source": [
    "def print_table(op):\n",
    "    for x in range(1, 3):\n",
    "        for y in range(1, 3):\n",
    "            print(str(op(x, y)) + '\\n')\n",
    "\n",
    "import operator as op\n",
    "for operator in [op.add, op.sub, op.mul, op.truediv]:\n",
    "    #一切皆对象, 你可以传递函数参数\n",
    "    print_table(operator)"
   ]
  },
  {
   "cell_type": "markdown",
   "metadata": {},
   "source": [
    "### EAFP vs LBYL"
   ]
  },
  {
   "cell_type": "code",
   "execution_count": 9,
   "metadata": {},
   "outputs": [],
   "source": [
    "#EAFP可以理解成一切按正常的逻辑编码，不用管可能出现的错误，等出了错误再说；\n",
    "#而LBYL就是尽可能每写一行代码，都要提前考虑下当前的前置条件是否成立\n",
    "\n",
    "#LBYL\n",
    "def getPersonInfo(person):\n",
    "    if person is None:\n",
    "        print('person must be not null')\n",
    "    print(person.info)\n",
    "\n",
    "#Prefer EAFP\n",
    "def getPersonInfo(person):\n",
    "    try:\n",
    "        print(person.info)\n",
    "    except NameError:\n",
    "        print('Person must not be null')"
   ]
  },
  {
   "cell_type": "markdown",
   "metadata": {},
   "source": [
    "### 用dict来代替switch...case...的功能"
   ]
  },
  {
   "cell_type": "code",
   "execution_count": 10,
   "metadata": {},
   "outputs": [],
   "source": [
    "import operator as op\n",
    "def apply_operation(left_operand, right_operand, operator):\n",
    "    operator_mapper = {'+' : op.add, '-' : op.sub, '*' : op.mul, '/' : op.truediv}\n",
    "    return operator_mapper[operator](left_operand, right_operand)"
   ]
  },
  {
   "cell_type": "markdown",
   "metadata": {},
   "source": [
    "### 访问Tuple时用namedtuple来代替index访问"
   ]
  },
  {
   "cell_type": "code",
   "execution_count": 12,
   "metadata": {},
   "outputs": [],
   "source": [
    "from collections import namedtuple\n",
    "Employee = namedtuple('Employee', ('name', 'age', 'salary'))\n",
    "# for row in rows:\n",
    "#     employee = Employee._make(row)\n",
    "#     print('{}`age is {}, salary is {} '.format(employee.name, employee.age, employee.salary))"
   ]
  },
  {
   "cell_type": "code",
   "execution_count": 13,
   "metadata": {},
   "outputs": [],
   "source": [
    "#用isinstance来判断对象类型\n",
    "def get_size(some_object):\n",
    "    if isinstance(some_object, (list, dict, str, tuple)):\n",
    "        return len(some_object)\n",
    "    elif isinstance(some_object, (bool, type(None))):\n",
    "        return 1\n",
    "    elif isinstance(some_object, (int, float)):\n",
    "        return int(some_object)\n",
    "    else:\n",
    "        return 0"
   ]
  },
  {
   "cell_type": "markdown",
   "metadata": {},
   "source": [
    "### bytes, str, unicode"
   ]
  },
  {
   "cell_type": "code",
   "execution_count": 1,
   "metadata": {},
   "outputs": [],
   "source": [
    "#bytes 包含了原始的 8-bit值\n",
    "#str 包含了Unicode 字符\n",
    "\n",
    "#encoding: unicode --> 8-bit\n",
    "#decoding: 8-bit --> unicode\n",
    "\n",
    "def to_str(bytes_or_str):\n",
    "    if isinstance(bytes_or_str, bytes):\n",
    "        value = bytes_or_str.decode('utf-8')\n",
    "    else:\n",
    "        value = bytes_or_str\n",
    "    return value\n",
    "\n",
    "def to_bytes(bytes_or_str):\n",
    "    if isinstance(bytes_or_str, str):\n",
    "        value = bytes_or_str.encode('utf-8')\n",
    "    else:\n",
    "        value = bytes_or_str\n",
    "    return value\n",
    "#注意 write文件的时候, 选好是 'w'还是'wb'"
   ]
  },
  {
   "cell_type": "markdown",
   "metadata": {},
   "source": [
    "### 写Helper函数来避免复杂的表达式"
   ]
  },
  {
   "cell_type": "markdown",
   "metadata": {},
   "source": [
    "### 切片操作"
   ]
  },
  {
   "cell_type": "markdown",
   "metadata": {},
   "source": [
    "### 用好 try/except/else/finally"
   ]
  },
  {
   "cell_type": "markdown",
   "metadata": {},
   "source": [
    "### 避免过于复杂的列表生成式"
   ]
  },
  {
   "cell_type": "markdown",
   "metadata": {},
   "source": [
    "### 用()生成 生成器来代替列表生成式"
   ]
  },
  {
   "cell_type": "code",
   "execution_count": null,
   "metadata": {},
   "outputs": [],
   "source": []
  }
 ],
 "metadata": {
  "kernelspec": {
   "display_name": "Python 3",
   "language": "python",
   "name": "python3"
  },
  "language_info": {
   "codemirror_mode": {
    "name": "ipython",
    "version": 3
   },
   "file_extension": ".py",
   "mimetype": "text/x-python",
   "name": "python",
   "nbconvert_exporter": "python",
   "pygments_lexer": "ipython3",
   "version": "3.6.7"
  }
 },
 "nbformat": 4,
 "nbformat_minor": 2
}
