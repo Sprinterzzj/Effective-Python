{
 "cells": [
  {
   "cell_type": "markdown",
   "metadata": {},
   "source": [
    "### subprocess 模块"
   ]
  },
  {
   "cell_type": "code",
   "execution_count": 3,
   "metadata": {
    "ExecuteTime": {
     "end_time": "2019-05-29T07:11:38.908518Z",
     "start_time": "2019-05-29T07:11:38.905741Z"
    }
   },
   "outputs": [],
   "source": [
    "#用 subprocess 模块管理子进程\n",
    "import subprocess"
   ]
  },
  {
   "cell_type": "code",
   "execution_count": 4,
   "metadata": {
    "ExecuteTime": {
     "end_time": "2019-05-29T07:11:39.159509Z",
     "start_time": "2019-05-29T07:11:39.145495Z"
    }
   },
   "outputs": [
    {
     "name": "stdout",
     "output_type": "stream",
     "text": [
      "Hello from the child!\n",
      "\n"
     ]
    }
   ],
   "source": [
    "#Popen 开始进程\n",
    "proc = subprocess.Popen(\n",
    "    ['echo', 'Hello from the child!'],\n",
    "    stdout = subprocess.PIPE\n",
    ")\n",
    "out, err = proc.communicate()\n",
    "print(out.decode('utf-8'))"
   ]
  },
  {
   "cell_type": "code",
   "execution_count": 5,
   "metadata": {
    "ExecuteTime": {
     "end_time": "2019-05-29T07:11:39.335800Z",
     "start_time": "2019-05-29T07:11:39.328310Z"
    }
   },
   "outputs": [],
   "source": [
    "#子进程的状态可以每隔一段时间被检测到, 通过poll函数\n",
    "proc = subprocess.Popen(['sleep', '0.3'])\n",
    "# while proc.poll() is None:\n",
    "#     print('Working ...')\n",
    "#     # Some time-consuming work here\n",
    "# print('Exist status', proc.poll())"
   ]
  },
  {
   "cell_type": "code",
   "execution_count": 6,
   "metadata": {
    "ExecuteTime": {
     "end_time": "2019-05-29T07:11:39.731847Z",
     "start_time": "2019-05-29T07:11:39.596062Z"
    }
   },
   "outputs": [],
   "source": [
    "from time import time\n",
    "#父进程可以平行的运行多个子进程\n",
    "def run_sleep(period):\n",
    "    proc = subprocess.Popen(['sleep', str(period)])\n",
    "    return proc\n",
    "start = time()\n",
    "procs = []\n",
    "for _ in range(10):\n",
    "    proc = run_sleep(.1)\n",
    "    procs.append(proc)\n",
    "\n",
    "#通过 communicate方法终止这些进程\n",
    "for proc in procs:\n",
    "    proc.communicate()\n",
    "end = time()"
   ]
  },
  {
   "cell_type": "code",
   "execution_count": 7,
   "metadata": {
    "ExecuteTime": {
     "end_time": "2019-05-29T07:11:39.993290Z",
     "start_time": "2019-05-29T07:11:39.990096Z"
    }
   },
   "outputs": [
    {
     "name": "stdout",
     "output_type": "stream",
     "text": [
      "Finished in 0.130 seconds\n"
     ]
    }
   ],
   "source": [
    "#如果这些进程是顺序执行的， 那么总运行时间大约是1s\n",
    "print('Finished in %.3f seconds' % (end - start))"
   ]
  },
  {
   "cell_type": "code",
   "execution_count": 8,
   "metadata": {
    "ExecuteTime": {
     "end_time": "2019-05-29T07:11:40.195605Z",
     "start_time": "2019-05-29T07:11:40.191618Z"
    }
   },
   "outputs": [],
   "source": [
    "#你也可以接收子进程的返回值\n",
    "#假设你需要用 openssl 命令行工具 加密某些文件\n",
    "def run_openssl(data):\n",
    "    env = os.environ.copy()\n",
    "    env['password'] = b'\\xe24U\\n\\xd0Ql3S\\x11'\n",
    "    proc = subprocess.Popen(\n",
    "        ['openssl', 'enc', '-des3', '-pass', 'env:password'],\n",
    "        env = env,\n",
    "        stdin = subprocess.PIPE,\n",
    "        stdout = subprocess.PIPE\n",
    "    )\n",
    "    #这两行保证了子进程得到输入\n",
    "    proc.stdin.write(data)\n",
    "    proc.stdin.flush()\n",
    "    return proc"
   ]
  },
  {
   "cell_type": "code",
   "execution_count": 9,
   "metadata": {
    "ExecuteTime": {
     "end_time": "2019-05-29T07:11:40.700541Z",
     "start_time": "2019-05-29T07:11:40.684338Z"
    }
   },
   "outputs": [],
   "source": [
    "import os\n",
    "procs = []\n",
    "for _ in range(3):\n",
    "    data = os.urandom(10)\n",
    "    proc = run_openssl(data)\n",
    "    procs.append(proc)"
   ]
  },
  {
   "cell_type": "code",
   "execution_count": 10,
   "metadata": {
    "ExecuteTime": {
     "end_time": "2019-05-29T07:11:41.105570Z",
     "start_time": "2019-05-29T07:11:41.099495Z"
    }
   },
   "outputs": [
    {
     "name": "stdout",
     "output_type": "stream",
     "text": [
      "b'\\xce\\xb8#h\\xe9q.\\xe0\\xfc@'\n",
      "b'\\x11\\xe4p-a\\xc4\\xf8\\x93\\xb9\\xa3'\n",
      "b\"\\x86\\xae\\xdf\\x1a\\x11:'V\\xf2\\xf8\"\n"
     ]
    }
   ],
   "source": [
    "for proc in procs:\n",
    "    out, err = proc.communicate()\n",
    "    print(out[-10 :])"
   ]
  },
  {
   "cell_type": "code",
   "execution_count": 12,
   "metadata": {
    "ExecuteTime": {
     "end_time": "2019-05-29T07:11:53.535237Z",
     "start_time": "2019-05-29T07:11:53.532393Z"
    }
   },
   "outputs": [],
   "source": [
    "#from hashlib import md5\n",
    "#你也可以将两个子进程串联起来\n",
    "def run_md5(input_stdin):\n",
    "    proc = subprocess.Popen(\n",
    "        ['md5sum'],\n",
    "        stdin = input_stdin, #注意这里的标准输入来自于另一个子进程的输出\n",
    "        stdout = subprocess.PIPE\n",
    "    )\n",
    "    return proc\n",
    "input_procs = []\n",
    "hash_procs = []\n",
    "for _ in range(3):\n",
    "    data = os.urandom(10)\n",
    "    \n",
    "    proc = run_openssl(data)\n",
    "    input_procs.append(proc)\n",
    "    #用proc的标准化输出来作为has_proc的输入\n",
    "    hash_proc = run_md5(proc.stdout)\n",
    "    hash_procs.append(hash_proc)"
   ]
  },
  {
   "cell_type": "code",
   "execution_count": 25,
   "metadata": {},
   "outputs": [
    {
     "name": "stdout",
     "output_type": "stream",
     "text": [
      "b'd41d8cd98f00b204e9800998ecf8427e  -'\n",
      "b'd41d8cd98f00b204e9800998ecf8427e  -'\n",
      "b'211df522cb928f69369779a2f7e620ae  -'\n"
     ]
    }
   ],
   "source": [
    "for proc in input_procs:\n",
    "    proc.communicate()\n",
    "for proc in hash_procs:\n",
    "    out, err = proc.communicate()\n",
    "    print(out.strip())"
   ]
  },
  {
   "cell_type": "code",
   "execution_count": 26,
   "metadata": {},
   "outputs": [
    {
     "name": "stdout",
     "output_type": "stream",
     "text": [
      "Exit status -15\n"
     ]
    }
   ],
   "source": [
    "#如果你担心子进程可能不会终止, 那么给communicate()方法传递 timeout参数\n",
    "proc = run_sleep(.5)\n",
    "try:\n",
    "    proc.communicate(timeout = .1)\n",
    "except subprocess.TimeoutExpired:\n",
    "    proc.terminate()\n",
    "    proc.wait()\n",
    "print('Exit status', proc.poll())"
   ]
  },
  {
   "cell_type": "markdown",
   "metadata": {},
   "source": [
    "### Thread模块\n",
    "* 对于IO操作而言, 多线程与多进程性能差别不大\n",
    "* Python中使用多线程的方式:\n",
    "   1. Thread模块\n",
    "   2. 继承Thread类"
   ]
  },
  {
   "cell_type": "code",
   "execution_count": 13,
   "metadata": {
    "ExecuteTime": {
     "end_time": "2019-05-29T07:12:12.371922Z",
     "start_time": "2019-05-29T07:12:12.009431Z"
    }
   },
   "outputs": [
    {
     "name": "stdout",
     "output_type": "stream",
     "text": [
      "Took 0.358 seconds\n"
     ]
    }
   ],
   "source": [
    "#Python的并行是伪并行, 因为GIL的存在\n",
    "#因数分解，串行版本\n",
    "def factorize(number):\n",
    "    for i in range(1, number + 1):\n",
    "        if number % i ==0:\n",
    "            yield i \n",
    "\n",
    "numbers = [2139079, 1214759, 1516637, 1852285]\n",
    "start = time()\n",
    "for number in numbers:\n",
    "    list(factorize(number))\n",
    "end = time()\n",
    "print('Took %.3f seconds' % (end - start))"
   ]
  },
  {
   "cell_type": "code",
   "execution_count": 14,
   "metadata": {
    "ExecuteTime": {
     "end_time": "2019-05-29T07:12:14.039228Z",
     "start_time": "2019-05-29T07:12:13.673488Z"
    }
   },
   "outputs": [
    {
     "name": "stdout",
     "output_type": "stream",
     "text": [
      "Took 0.360 seconds\n"
     ]
    }
   ],
   "source": [
    "#下面用Thread 模块给出并行版本\n",
    "from threading import Thread\n",
    "from time import time\n",
    "class FactorizeThread(Thread):\n",
    "    def __init__(self, number):\n",
    "        super().__init__()\n",
    "        self.number = number\n",
    "    def run(self):\n",
    "        self.factors = list(factorize(self.number))\n",
    "\n",
    "start = time()\n",
    "threads = []\n",
    "for number in numbers:\n",
    "    thread = FactorizeThread(number)\n",
    "    thread.start()\n",
    "    threads.append(thread)\n",
    "for thread in threads:\n",
    "    thread.join()\n",
    "end = time()\n",
    "print('Took %.3f seconds' % (end - start))"
   ]
  },
  {
   "cell_type": "code",
   "execution_count": 15,
   "metadata": {
    "ExecuteTime": {
     "end_time": "2019-05-29T07:12:17.316169Z",
     "start_time": "2019-05-29T07:12:17.314307Z"
    }
   },
   "outputs": [],
   "source": [
    "#那么为什么Python要支持多线程呢?\n",
    "#1.多线程使你的程序 看上去 像是在干一件事。用多线程，你可以让Python来manage function in parallel\n",
    "#2.用多线程处理I/O中断"
   ]
  },
  {
   "cell_type": "code",
   "execution_count": 16,
   "metadata": {
    "ExecuteTime": {
     "end_time": "2019-05-29T07:12:19.066643Z",
     "start_time": "2019-05-29T07:12:18.536395Z"
    }
   },
   "outputs": [
    {
     "name": "stdout",
     "output_type": "stream",
     "text": [
      "Took 0.523 seconds\n"
     ]
    }
   ],
   "source": [
    "#比如有如下的需求:我们需要请求操作系统中断.1, 然后回到程序的控制\n",
    "import select\n",
    "def slow_systemcall():\n",
    "    select.select([], [], [], .1)\n",
    "#slow_systemcall()串行调用将线性增加运行时间\n",
    "start = time()\n",
    "for _ in range(5):\n",
    "    slow_systemcall()\n",
    "end = time()\n",
    "print('Took %.3f seconds' % (end - start))"
   ]
  },
  {
   "cell_type": "code",
   "execution_count": 17,
   "metadata": {
    "ExecuteTime": {
     "end_time": "2019-05-29T07:12:20.121545Z",
     "start_time": "2019-05-29T07:12:20.009179Z"
    }
   },
   "outputs": [
    {
     "name": "stdout",
     "output_type": "stream",
     "text": [
      "Took 0.106 seconds\n"
     ]
    }
   ],
   "source": [
    "#上面操作的问题是: 当 system_call运行时你的程序 cannot do anything, 因为你主线程被block了5s.\n",
    "#正因如此, 你需要多线程~~\n",
    "start = time()\n",
    "threads = []\n",
    "for _ in range(5):\n",
    "    thread = Thread(target = slow_systemcall)\n",
    "    thread.start()\n",
    "    threads.append(thread)\n",
    "#With the threads started, you can do other things you need\n",
    "for thread in threads:\n",
    "    thread.join()\n",
    "end = time()\n",
    "# 5x speed up!\n",
    "print('Took %.3f seconds' % (end - start))"
   ]
  },
  {
   "cell_type": "markdown",
   "metadata": {},
   "source": [
    "###### 通过继承Thread类实现多线程"
   ]
  },
  {
   "cell_type": "code",
   "execution_count": 19,
   "metadata": {
    "ExecuteTime": {
     "end_time": "2019-05-29T07:18:56.194528Z",
     "start_time": "2019-05-29T07:18:56.191082Z"
    }
   },
   "outputs": [],
   "source": [
    "class GetDetailedHtml(Thread):\n",
    "    \n",
    "    def __init__(self, *args, **kwargs):\n",
    "        super().__init__(*args, **kwargs)\n",
    "           \n",
    "    #重点: 重载run方法\n",
    "    def run(self):\n",
    "        print('Get detailed html started.')\n",
    "        time.sleep(4)\n",
    "        print('Get detailed html end.')"
   ]
  },
  {
   "cell_type": "markdown",
   "metadata": {},
   "source": [
    "#### Lock模块\n",
    "1. lock会影响多线程性能\n",
    "2. 会引起死锁"
   ]
  },
  {
   "cell_type": "code",
   "execution_count": 9,
   "metadata": {},
   "outputs": [],
   "source": [
    "#用锁来阻止 线程之间的竞争\n",
    "#注意,即使python有global interpreter lock，你的数据结构也不是线程安全的！！！\n",
    "from threading import Thread\n",
    "#*1. work类\n",
    "class Counter(object):\n",
    "    def __init__(self):\n",
    "        self.count = 0\n",
    "    def increment(self, offset):\n",
    "        # `+=`不是线程安全的\n",
    "        self.count += offset"
   ]
  },
  {
   "cell_type": "code",
   "execution_count": 10,
   "metadata": {},
   "outputs": [],
   "source": [
    "#*2. worker函数/类\n",
    "def worker(senser_index, how_many, counter):\n",
    "    for _ in range(how_many):\n",
    "        #Do something\n",
    "        counter.increment(1)"
   ]
  },
  {
   "cell_type": "code",
   "execution_count": 13,
   "metadata": {},
   "outputs": [],
   "source": [
    "#*3. run thread 的函数\n",
    "def run_threads(func, how_many, counter):\n",
    "    threads = []\n",
    "    for i in range(5):\n",
    "        args = (i, how_many, counter)\n",
    "        thread = Thread(target = func, args =args)\n",
    "        threads.append(thread)\n",
    "        thread.start()\n",
    "    for thread in threads:\n",
    "        thread.join()"
   ]
  },
  {
   "cell_type": "code",
   "execution_count": 14,
   "metadata": {},
   "outputs": [],
   "source": [
    "how_many = 10**5\n",
    "counter = Counter()\n",
    "#共5个线程, 它们访问相同的类的实例。调用increment函数 how_many次\n",
    "run_threads(worker, how_many, counter)"
   ]
  },
  {
   "cell_type": "code",
   "execution_count": 15,
   "metadata": {},
   "outputs": [
    {
     "name": "stdout",
     "output_type": "stream",
     "text": [
      "Counter should be 500000, found 377175\n"
     ]
    }
   ],
   "source": [
    "print('Counter should be %d, found %d' % (5 * how_many, counter.count))"
   ]
  },
  {
   "cell_type": "code",
   "execution_count": 16,
   "metadata": {},
   "outputs": [
    {
     "data": {
      "text/plain": [
       "\"\\nvalue = getattr(counter, 'count')\\nresult = value + offset\\nsetattr(counter, 'count', result)\\n\""
      ]
     },
     "execution_count": 16,
     "metadata": {},
     "output_type": "execute_result"
    }
   ],
   "source": [
    "# counter.count += offset 相当于三句话:\n",
    "\"\"\"\n",
    "value = getattr(counter, 'count')\n",
    "result = value + offset\n",
    "setattr(counter, 'count', result)\n",
    "\"\"\"\n",
    "#Python 的线程在执行上面三个语句时的任何时刻,都可能被挂起"
   ]
  },
  {
   "cell_type": "code",
   "execution_count": 21,
   "metadata": {},
   "outputs": [],
   "source": [
    "#竞争条件的解决方案: Lock\n",
    "from threading import Lock\n",
    "class LockingCounter(object):\n",
    "    def __init__(self):\n",
    "        self.lock = Lock()\n",
    "        self.count = 0\n",
    "    def increment(self, offset):\n",
    "        #self.lock.acquire()\n",
    "        with self.lock:\n",
    "            self.count += offset\n",
    "        #self.lock.acquire()"
   ]
  },
  {
   "cell_type": "code",
   "execution_count": 23,
   "metadata": {},
   "outputs": [
    {
     "name": "stdout",
     "output_type": "stream",
     "text": [
      "Counter should be 500000, found 500000\n"
     ]
    }
   ],
   "source": [
    "counter = LockingCounter()\n",
    "run_threads(worker, how_many, counter)\n",
    "print('Counter should be %d, found %d' % (5 * how_many, counter.count))"
   ]
  },
  {
   "cell_type": "markdown",
   "metadata": {},
   "source": [
    "#### RLock模块\n",
    "在同一个线程里面, 你可以连续调用多次 acquire, 但是注意 release的次数必须和acquire次数相等"
   ]
  },
  {
   "cell_type": "code",
   "execution_count": 2,
   "metadata": {
    "ExecuteTime": {
     "end_time": "2019-05-30T02:37:27.637487Z",
     "start_time": "2019-05-30T02:37:27.633726Z"
    }
   },
   "outputs": [],
   "source": [
    "from threading import RLock\n",
    "lock = RLock()\n",
    "total = 0\n",
    "def add():\n",
    "    global total\n",
    "    global RLock\n",
    "    for i in range(10):\n",
    "        #如果是普通的Lock, 你连续acquire两次会造成死锁\n",
    "        #但是用RLock不会造成死锁.注意在同一个线程里这么用才可以\n",
    "        lock.acquire()\n",
    "        lock.acquire()\n",
    "        total += 1\n",
    "        lock.release()\n",
    "        lock.release()\n",
    "    "
   ]
  },
  {
   "cell_type": "code",
   "execution_count": 4,
   "metadata": {
    "ExecuteTime": {
     "end_time": "2019-05-30T02:40:45.347104Z",
     "start_time": "2019-05-30T02:40:45.342561Z"
    }
   },
   "outputs": [],
   "source": [
    "from threading import Thread\n",
    "threads = []\n",
    "for i in range(5):\n",
    "    thread = Thread(target=add, args=())\n",
    "    threads.append(thread)\n",
    "for thread in threads:\n",
    "    thread.start()\n",
    "for thread in threads:\n",
    "    thread.join()"
   ]
  },
  {
   "cell_type": "code",
   "execution_count": 5,
   "metadata": {
    "ExecuteTime": {
     "end_time": "2019-05-30T02:40:51.277076Z",
     "start_time": "2019-05-30T02:40:51.273502Z"
    }
   },
   "outputs": [
    {
     "name": "stdout",
     "output_type": "stream",
     "text": [
      "50\n"
     ]
    }
   ],
   "source": [
    "print(total)"
   ]
  },
  {
   "cell_type": "markdown",
   "metadata": {},
   "source": [
    "#### Condition模块\n",
    "用于复杂的线程同步:\n",
    "1. 用同一个condition的两个线程, 需要注意启动顺序! 首先启动的是 首先调用wait的线程.\n",
    "2. 要首先调用 with condition 语句(也就是condition.acquire()).\n",
    "3. condtion里默认用RLock, 调用\\_\\_enter\\_\\_方法时,acquire这把锁. 当调用wait时, 首先:\n",
    "    1. 新建一把锁 waiter.\n",
    "    2. waiter 调用 acquire 方法\n",
    "    3. 将新建的锁加入到双端队列 waiters 中\n",
    "    4. 释放condition的锁, 并且保存当前状态\n",
    "    5. waiter 再一次调用 acquire 方法, **造成阻塞**, 只有使用同一个condition的另外一个线程调用notify方法(notify方法会调用 waiter的 release方法), 才有可能解除阻塞.\n",
    "    6. 无论是成功解除阻塞或者time out, 都会重新获取condition的锁, 回到原始状态.\n",
    "    7. 如果 5 中 waiter没有成功acquire, 会将它从waiters中移除.\n",
    "4. 线程1调用 cond.acquire() --> 线程1调用wait(),首先释放cond的锁, 然后新建waiter,将waiter加入到双端队列,waiter调用两次acquire;</br>\n",
    "   线程2 因为线程1在wait中释放了cond的锁, 它得以acquire之.然后线程2 do something后, 首先调用notify, notify会调用waiter的release()</br>.\n",
    "   注意此时线程1任然堵塞, **只有线程2调用了wait()后, 线程1才能重新acquire cond的锁, 继续运行**."
   ]
  },
  {
   "cell_type": "code",
   "execution_count": 3,
   "metadata": {
    "ExecuteTime": {
     "end_time": "2019-06-06T05:05:26.901683Z",
     "start_time": "2019-06-06T05:05:26.894825Z"
    }
   },
   "outputs": [],
   "source": [
    "from threading import Thread\n",
    "from threading import Condition\n",
    "#通过Condition实现两个线程对话\n",
    "#首先需要调用 with语句:\n",
    "##1. wait 方法, 用于等待某个条件变量的通知\n",
    "##2. notify 方法, 用于通知调用了wait方法的线程启动\n",
    "class XiaoAi(Thread):\n",
    "    def __init__(self, condition):\n",
    "        super().__init__(name='小爱')\n",
    "        self.cond = condition\n",
    "    def run(self):\n",
    "        with self.cond:\n",
    "            self.cond.wait() #1\n",
    "            print(\"{} : 在.\".format(self.name))#2\n",
    "            self.cond.notify() #2\n",
    "            self.cond.wait() #3\n",
    "            print('{} : 好啊.'.format(self.name))\n",
    "class TianMao(Thread):\n",
    "    def __init__(self, condition):\n",
    "        super().__init__(name='天猫')\n",
    "        self.cond = condition\n",
    "    def run(self):\n",
    "        with self.cond:\n",
    "            print(\"{} : 小爱同学.\".format(self.name))#1\n",
    "            self.cond.notify() #1\n",
    "            print('hahaha1')\n",
    "            self.cond.wait() #2\n",
    "            print('hahaha2')\n",
    "            print('{} : 我们来对古诗吧.'.format(self.name))\n",
    "            self.cond.notify() #3       "
   ]
  },
  {
   "cell_type": "code",
   "execution_count": 4,
   "metadata": {
    "ExecuteTime": {
     "end_time": "2019-06-06T05:05:27.399423Z",
     "start_time": "2019-06-06T05:05:27.394758Z"
    }
   },
   "outputs": [
    {
     "name": "stdout",
     "output_type": "stream",
     "text": [
      "天猫 : 小爱同学.\n",
      "hahaha1\n",
      "小爱 : 在.\n",
      "hahaha2\n",
      "天猫 : 我们来对古诗吧.\n",
      "小爱 : 好啊.\n"
     ]
    }
   ],
   "source": [
    "condition = Condition()\n",
    "Xiaoai = XiaoAi(condition)\n",
    "Tianmao = TianMao(condition)\n",
    "####!!!!注意用条件变量的时候现成先后启动的循序非常重要!!!先wait的线程先启动\n",
    "Xiaoai.start()\n",
    "Tianmao.start()"
   ]
  },
  {
   "cell_type": "markdown",
   "metadata": {},
   "source": [
    "#### Semaphore\n",
    "用于控制锁的进入数量"
   ]
  },
  {
   "cell_type": "code",
   "execution_count": 16,
   "metadata": {
    "ExecuteTime": {
     "end_time": "2019-06-06T06:26:37.804706Z",
     "start_time": "2019-06-06T06:26:37.802149Z"
    }
   },
   "outputs": [],
   "source": [
    "from threading import Semaphore, Thread\n",
    "import time"
   ]
  },
  {
   "cell_type": "code",
   "execution_count": 17,
   "metadata": {
    "ExecuteTime": {
     "end_time": "2019-06-06T06:26:53.182918Z",
     "start_time": "2019-06-06T06:26:53.177928Z"
    }
   },
   "outputs": [],
   "source": [
    "#模拟爬虫\n",
    "class HtmlSpider(Thread):\n",
    "    def __init__(self, url):\n",
    "        super().__init__()\n",
    "        self.url = url\n",
    "    def run(self):\n",
    "        time.sleep(2)\n",
    "        print('成功爬取页面 : {0}.\\n'.format(self.url))\n",
    "class UrlProducer(Thread):\n",
    "    #每次run就调用20个HtmlSpider线程\n",
    "    def run(self):\n",
    "        for i in range(10):\n",
    "            html_thread = HtmlSpider(\"https://baidu.com/{0}\".format(i))\n",
    "            html_thread.start()"
   ]
  },
  {
   "cell_type": "code",
   "execution_count": 18,
   "metadata": {
    "ExecuteTime": {
     "end_time": "2019-06-06T06:26:53.488319Z",
     "start_time": "2019-06-06T06:26:53.485765Z"
    }
   },
   "outputs": [
    {
     "name": "stdout",
     "output_type": "stream",
     "text": [
      "成功爬取页面 : https://baidu.com/1.\n",
      "\n",
      "成功爬取页面 : https://baidu.com/0.\n",
      "\n",
      "成功爬取页面 : https://baidu.com/2.\n",
      "\n",
      "成功爬取页面 : https://baidu.com/4.\n",
      "\n",
      "成功爬取页面 : https://baidu.com/6.\n",
      "\n",
      "成功爬取页面 : https://baidu.com/8.\n",
      "\n",
      "成功爬取页面 : https://baidu.com/3.\n",
      "\n",
      "成功爬取页面 : https://baidu.com/9.\n",
      "\n",
      "成功爬取页面 : https://baidu.com/7.\n",
      "\n",
      "成功爬取页面 : https://baidu.com/5.\n",
      "\n"
     ]
    }
   ],
   "source": [
    "url_producer = UrlProducer()\n",
    "url_producer.start()"
   ]
  },
  {
   "cell_type": "code",
   "execution_count": 24,
   "metadata": {
    "ExecuteTime": {
     "end_time": "2019-06-06T06:41:11.127731Z",
     "start_time": "2019-06-06T06:41:11.122312Z"
    }
   },
   "outputs": [],
   "source": [
    "#需求: 我们要控制并发爬虫的数量.\n",
    "#解决方案: threading中的信号量模块\n",
    "class HtmlSpider(Thread):\n",
    "    def __init__(self, url, semaphore):\n",
    "        super().__init__()\n",
    "        self.url = url\n",
    "        self.semaphore = semaphore\n",
    "    def run(self):\n",
    "        time.sleep(2)\n",
    "        print('成功爬取页面 : {0}.'.format(self.url))\n",
    "        #调用了信号量的release方法后, value会加1, 直到加到初始的值\n",
    "        self.semaphore.release()\n",
    "        \n",
    "class UrlProducer(Thread):\n",
    "    def __init__(self, semaphore):\n",
    "        super().__init__()\n",
    "        self.semaphore = semaphore\n",
    "    def run(self):\n",
    "        for i in range(10):\n",
    "            # 调用了信号量的acquire方法后, 信号量会检查它的value属性, \n",
    "            # 每有一个新的线程 value减一, 减到零就阻塞.\n",
    "            self.semaphore.acquire()\n",
    "            html_thread = HtmlSpider(\"https://baidu.com/{0}\".format(i), self.semaphore)\n",
    "            html_thread.start()"
   ]
  },
  {
   "cell_type": "code",
   "execution_count": 25,
   "metadata": {
    "ExecuteTime": {
     "end_time": "2019-06-06T06:41:11.763820Z",
     "start_time": "2019-06-06T06:41:11.761195Z"
    }
   },
   "outputs": [
    {
     "name": "stdout",
     "output_type": "stream",
     "text": [
      "成功爬取页面 : https://baidu.com/0.成功爬取页面 : https://baidu.com/1.\n",
      "成功爬取页面 : https://baidu.com/2.\n",
      "\n",
      "成功爬取页面 : https://baidu.com/3.\n",
      "成功爬取页面 : https://baidu.com/4.\n",
      "成功爬取页面 : https://baidu.com/5.\n",
      "成功爬取页面 : https://baidu.com/6.\n",
      "成功爬取页面 : https://baidu.com/7.\n",
      "成功爬取页面 : https://baidu.com/8.\n",
      "成功爬取页面 : https://baidu.com/9.\n"
     ]
    }
   ],
   "source": [
    "semaphore = Semaphore(3)\n",
    "url_producer = UrlProducer(semaphore)\n",
    "url_producer.start()"
   ]
  },
  {
   "cell_type": "markdown",
   "metadata": {},
   "source": [
    "### 线程池"
   ]
  },
  {
   "cell_type": "code",
   "execution_count": 2,
   "metadata": {
    "ExecuteTime": {
     "end_time": "2019-06-10T10:48:56.555064Z",
     "start_time": "2019-06-10T10:48:56.552788Z"
    }
   },
   "outputs": [],
   "source": [
    "from concurrent import futures"
   ]
  },
  {
   "cell_type": "code",
   "execution_count": 3,
   "metadata": {
    "ExecuteTime": {
     "end_time": "2019-06-10T10:57:20.829941Z",
     "start_time": "2019-06-10T10:57:20.828055Z"
    }
   },
   "outputs": [],
   "source": [
    "#为什么需要线程池\n",
    "## 1. 控制线程并发的数量\n",
    "## 2. 在主线程中管理子线程的状态, 返回值\n",
    "## 3. 子线程结束时, 主线程可以获知\n",
    "## 4. 使得多线程多进程接口一致"
   ]
  },
  {
   "cell_type": "code",
   "execution_count": 9,
   "metadata": {
    "ExecuteTime": {
     "end_time": "2019-06-10T11:09:33.590055Z",
     "start_time": "2019-06-10T11:09:33.586895Z"
    }
   },
   "outputs": [],
   "source": [
    "import time\n",
    "def sleep(times):\n",
    "    time.sleep(times)\n",
    "    print('You sleep {0} s'.format(times))\n",
    "    return 233"
   ]
  },
  {
   "cell_type": "code",
   "execution_count": 10,
   "metadata": {
    "ExecuteTime": {
     "end_time": "2019-06-10T11:09:37.222120Z",
     "start_time": "2019-06-10T11:09:34.217430Z"
    }
   },
   "outputs": [
    {
     "name": "stdout",
     "output_type": "stream",
     "text": [
      "False\n",
      "You sleep 3 s\n",
      "233\n",
      "You sleep 4 s\n"
     ]
    }
   ],
   "source": [
    "executor = futures.ThreadPoolExecutor(max_workers=4)\n",
    "#注意 submit方法是会立刻返回的\n",
    "task_1 = executor.submit(sleep, (3))\n",
    "task_2 = executor.submit(sleep, (4))\n",
    "\n",
    "#down 方法用于判断任务是否完成\n",
    "print(task_1.done())\n",
    "\n",
    "# result 方法会阻塞直到返回值\n",
    "print(task_1.result())\n",
    "\n",
    "# cancel 方法用于取消任务, 但是如果任务正在执行中, 就无法取消\n",
    "## print(task_2.cancel())"
   ]
  },
  {
   "cell_type": "code",
   "execution_count": 11,
   "metadata": {
    "ExecuteTime": {
     "end_time": "2019-06-10T11:09:41.600529Z",
     "start_time": "2019-06-10T11:09:41.597464Z"
    }
   },
   "outputs": [
    {
     "name": "stdout",
     "output_type": "stream",
     "text": [
      "True\n"
     ]
    }
   ],
   "source": [
    "print(task_1.done())"
   ]
  },
  {
   "cell_type": "code",
   "execution_count": 12,
   "metadata": {
    "ExecuteTime": {
     "end_time": "2019-06-10T11:15:39.848891Z",
     "start_time": "2019-06-10T11:15:39.846724Z"
    }
   },
   "outputs": [],
   "source": [
    "#用 as_completed 获取已经成功的任务的返回值\n",
    "#用 wait 方法 阻塞主线程直到一些子线程的任务返回\n",
    "from concurrent.futures import as_completed, wait\n",
    "\n",
    "#as_completed 方法返回成功执行任务的生成器\n",
    "# for task in as_completed(all_task):\n",
    "#     data = task.result()\n",
    "\n",
    "#wait(all_task, return_when=FIRST_COMPLETED)"
   ]
  },
  {
   "cell_type": "markdown",
   "metadata": {},
   "source": [
    "### 用队列实现线程之间的协作"
   ]
  },
  {
   "cell_type": "code",
   "execution_count": 1,
   "metadata": {},
   "outputs": [],
   "source": [
    "#用 Queue来实现线程之间的协作\n",
    "#假设你要做这么一个系统:1. 用你的照相机照连续的相片，然后download到本地 2. 本地resize 照片 3. 把你的照片加进 online gallery里\n",
    "#你的程序有三个Pipeline: 1.download 2.resize 3. upload"
   ]
  },
  {
   "cell_type": "code",
   "execution_count": 1,
   "metadata": {},
   "outputs": [],
   "source": [
    "#可以用生产者-消费者 Queue\n",
    "from collections import deque\n",
    "class MyQueue(object):\n",
    "    def __init__(self):\n",
    "        self.items = deque()\n",
    "        self.lock = Lock()\n",
    "    #生产者, 你的相机, 在队列尾部添加元素\n",
    "    def put(self, item):\n",
    "        with self.lock:\n",
    "            self.items.append(item)\n",
    "    #消费者, 从队列头部取走元素\n",
    "    def get(self):\n",
    "        with self.lock:\n",
    "            return self.items.popleft()"
   ]
  },
  {
   "cell_type": "code",
   "execution_count": 8,
   "metadata": {},
   "outputs": [],
   "source": [
    "#下面把每个pipline用Python thread 表示\n",
    "from threading import Thread, Lock\n",
    "from time import sleep\n",
    "#Worker类, 负责链接管道，输入->工作->输出\n",
    "class Worker(Thread):\n",
    "    def __init__(self, func, in_queue, out_queue):\n",
    "        super().__init__()\n",
    "        self.func = func\n",
    "        self.in_queue = in_queue\n",
    "        self.out_queue = out_queue\n",
    "        self.polled_count = 0\n",
    "        self.work_done = 0\n",
    "    def run(self):\n",
    "        #每个worker不断的工作，这其实是一个副作用\n",
    "        while True:\n",
    "            self.polled_count += 1\n",
    "            try:\n",
    "                item = self.in_queue.get()\n",
    "            except IndexError:\n",
    "            #如果 in_queue是空\n",
    "                sleep(.01)\n",
    "            else:\n",
    "            #如果in_queue不空,那么取走队列头部的元素后,开始工作\n",
    "                result = self.func(item)\n",
    "                self.out_queue.put(result)\n",
    "                self.work_done +=1"
   ]
  },
  {
   "cell_type": "code",
   "execution_count": 9,
   "metadata": {},
   "outputs": [],
   "source": [
    "#下面可以将pipline的三个状态连接起来了\n",
    "download_queue = MyQueue()\n",
    "resize_queue = MyQueue()\n",
    "upload_queue = MyQueue()\n",
    "done_queue = MyQueue()\n",
    "def download(item):\n",
    "    return item\n",
    "def resize(item):\n",
    "    return item\n",
    "def upload(item):\n",
    "    return item\n",
    "threads = [\n",
    "    #downlaod 函数, 从保存照片的downloaded_queue取走照片, 放到resize_queue里\n",
    "    Worker(download, download_queue, resize_queue),\n",
    "    #resize 函数, 从保存照片的resize_queue取走照片, 放到upload_queue里\n",
    "    Worker(resize, resize_queue, upload_queue),\n",
    "    #upload 函数, 从保存照片的upload_queue取走照片, 放到done_queue里\n",
    "    Worker(upload, upload_queue, done_queue)\n",
    "]\n"
   ]
  },
  {
   "cell_type": "code",
   "execution_count": 10,
   "metadata": {},
   "outputs": [],
   "source": [
    "#下面可以开始线程了\n",
    "#向download_queue 放进1000张\"图片\", 模拟你的相机\n",
    "for _ in range(1000):\n",
    "    download_queue.put(object())"
   ]
  },
  {
   "cell_type": "code",
   "execution_count": 11,
   "metadata": {},
   "outputs": [],
   "source": [
    "for thread in threads:\n",
    "    thread.start()"
   ]
  },
  {
   "cell_type": "code",
   "execution_count": 12,
   "metadata": {},
   "outputs": [],
   "source": [
    "while len(done_queue.items) < 1000:\n",
    "    #Do something else\n",
    "    pass"
   ]
  },
  {
   "cell_type": "code",
   "execution_count": 18,
   "metadata": {},
   "outputs": [
    {
     "name": "stdout",
     "output_type": "stream",
     "text": [
      "Processed 1000 items after polling 49026 times\n"
     ]
    }
   ],
   "source": [
    "#上面的模式可以运行，但是有一个副作用: except的分支太多!!\n",
    "#因为每个worker function 的速度不尽相同\n",
    "#链接两个状态的queue太多， 如果数据很大的话程序可能会崩溃\n",
    "processed = len(done_queue.items)\n",
    "polled = sum(t.polled_count for t in threads)\n",
    "print('Processed', processed, 'items after polling', polled, 'times')"
   ]
  },
  {
   "cell_type": "code",
   "execution_count": 21,
   "metadata": {
    "ExecuteTime": {
     "end_time": "2019-05-29T07:29:41.528039Z",
     "start_time": "2019-05-29T07:29:41.523476Z"
    }
   },
   "outputs": [
    {
     "name": "stdout",
     "output_type": "stream",
     "text": [
      "Comsumer waiting\n"
     ]
    }
   ],
   "source": [
    "#解决方案， 用Queue代替 Myqueue\n",
    "from queue import Queue\n",
    "###Queue的get方法会自动挂起, 当Queue为空时\n",
    "queue = Queue()\n",
    "def consumer():\n",
    "    print('Comsumer waiting')\n",
    "    queue.get()\n",
    "    print('Consumer done')\n",
    "thread = Thread(target = consumer)\n",
    "thread.start()"
   ]
  },
  {
   "cell_type": "code",
   "execution_count": 22,
   "metadata": {
    "ExecuteTime": {
     "end_time": "2019-05-29T07:29:43.373517Z",
     "start_time": "2019-05-29T07:29:43.369799Z"
    }
   },
   "outputs": [
    {
     "name": "stdout",
     "output_type": "stream",
     "text": [
      "Producer putting\n",
      "Consumer done\n",
      "Producer done\n"
     ]
    }
   ],
   "source": [
    "print('Producer putting')\n",
    "queue.put(object())\n",
    "thread.join()\n",
    "print('Producer done')"
   ]
  },
  {
   "cell_type": "code",
   "execution_count": 28,
   "metadata": {},
   "outputs": [],
   "source": [
    "#为了解决管道的挂起问题, Queue可以指定缓存大小\n",
    "#缓存大小为1, 这意味着producer往 空queue 投放了一个item后, 他必须等待item被取出才能放进下一个\n",
    "from time import sleep\n",
    "queue = Queue(maxsize=1)\n",
    "def consumer():\n",
    "    sleep(.1)\n",
    "    #这一句会挂起直到空queue里放进第一个元素\n",
    "    queue.get()\n",
    "    print('Consumer got 1') # 2\n",
    "    queue.get()\n",
    "    print('consumer got 2') # 4\n",
    "\n",
    "thread = Thread(target = consumer)\n",
    "thread.start()\n",
    "\n",
    "queue.put(object()) \n",
    "print('Producer put 1') # 1\n",
    "queue.put(object()) \n",
    "print('Producer put 2') # 3\n",
    "thread.join() \n",
    "print('Producer done')"
   ]
  },
  {
   "cell_type": "code",
   "execution_count": 25,
   "metadata": {
    "ExecuteTime": {
     "end_time": "2019-05-29T07:32:05.921879Z",
     "start_time": "2019-05-29T07:32:05.916600Z"
    }
   },
   "outputs": [
    {
     "name": "stdout",
     "output_type": "stream",
     "text": [
      "Consumer waiting\n",
      "Producer waiting\n",
      "Consumer working\n",
      "Consumer done\n",
      "Producer done\n"
     ]
    }
   ],
   "source": [
    "#Queue也可以跟踪工作进程,通过**task_done方法**和**join**方法\n",
    "in_queue = Queue()\n",
    "def consumer():\n",
    "    print('Consumer waiting')\n",
    "    work = in_queue.get() #2\n",
    "    print('Consumer working')\n",
    "    #Doing work\n",
    "    print('Consumer done')\n",
    "    in_queue.task_done() #3\n",
    "Thread(target = consumer).start()\n",
    "\n",
    "in_queue.put(object())  #1\n",
    "print('Producer waiting') \n",
    "#你必须在某个地方调用task_done方法, 不然join这里会一直阻塞!!!!!!!!\n",
    "in_queue.join() #4\n",
    "print('Producer done')"
   ]
  },
  {
   "cell_type": "code",
   "execution_count": 62,
   "metadata": {},
   "outputs": [],
   "source": [
    "#让我们为Queue加入一些新的功能让他更加适合我们的任务\n",
    "\n",
    "#ClosableQueue继承了Queue, 增加了队列尾部的Flag\n",
    "#ClosableQueue 实现了 __iter__他是一个可迭代对象, 并且自带for循环终止判断\n",
    "class ClosableQueue(Queue):\n",
    "    SENTINEL = object()\n",
    "    #子类增加一个close方法, 在尾部放入 SENTINEL元素, 这是你放入的最后一个元素, \n",
    "    #当get到这一个元素时, 说明Queue已经为空\n",
    "    def close(self):\n",
    "        self.put(self.SENTINEL)\n",
    "    def __iter__(self):\n",
    "        while True:\n",
    "            item = self.get()\n",
    "            try:\n",
    "                #如果迭代到最后一个元素,就 return 使得Thread终止\n",
    "                if item is self.SENTINEL:\n",
    "                    return\n",
    "                #别忘了这句\n",
    "                yield item\n",
    "            finally:\n",
    "                self.task_done()"
   ]
  },
  {
   "cell_type": "code",
   "execution_count": 63,
   "metadata": {},
   "outputs": [],
   "source": [
    "class StoppableWorker(Thread):\n",
    "    def __init__(self, func, in_queue, out_queue):\n",
    "        super().__init__()\n",
    "        self.func = func\n",
    "        self.in_queue = in_queue\n",
    "        self.out_queue = out_queue\n",
    "        self.polled_count = 0\n",
    "        self.work_done = 0\n",
    "    def run(self):\n",
    "        #ClosableQueue定义了 __iter__方法后,便能如此遍历queue了\n",
    "        #循环退出的标志是get到最后一个元素\n",
    "        for item in self.in_queue:\n",
    "            result = self.func(item)\n",
    "            self.out_queue.put(result)        "
   ]
  },
  {
   "cell_type": "code",
   "execution_count": 64,
   "metadata": {},
   "outputs": [],
   "source": [
    "#Re-create pipelines\n",
    "download_queue = ClosableQueue()\n",
    "resize_queue = ClosableQueue()\n",
    "upload_queue = ClosableQueue()\n",
    "done_queue = ClosableQueue()\n",
    "def download(item):\n",
    "    return item\n",
    "def resize(item):\n",
    "    return item\n",
    "def upload(item):\n",
    "    return item\n",
    "threads = [\n",
    "    #downlaod 函数, 从保存照片的downloaded_queue取走照片, 放到resize_queue里\n",
    "    StoppableWorker(download, download_queue, resize_queue),\n",
    "    #resize 函数, 从保存照片的resize_queue取走照片, 放到upload_queue里\n",
    "    StoppableWorker(resize, resize_queue, upload_queue),\n",
    "    #upload 函数, 从保存照片的upload_queue取走照片, 放到done_queue里\n",
    "    StoppableWorker(upload, upload_queue, done_queue)\n",
    "]"
   ]
  },
  {
   "cell_type": "code",
   "execution_count": 65,
   "metadata": {},
   "outputs": [],
   "source": [
    "#启动线程\n",
    "for thread in threads:\n",
    "    thread.start()\n",
    "#模拟在线环境, 为download_queue填入元素, 然后关闭它\n",
    "for _ in range(1000):\n",
    "    download_queue.put(object())\n",
    "download_queue.close()"
   ]
  },
  {
   "cell_type": "code",
   "execution_count": 66,
   "metadata": {},
   "outputs": [],
   "source": [
    "#help(Queue.join)"
   ]
  },
  {
   "cell_type": "code",
   "execution_count": 67,
   "metadata": {},
   "outputs": [],
   "source": [
    "#如何掌握线程的进度?\n",
    "#Queue的 join方法, 程序暂停，直到queue里面所有的元素都被取出,程序继续运行\n",
    "download_queue.join() \n",
    "resize_queue.close() \n",
    "resize_queue.join() \n",
    "upload_queue.close() \n",
    "upload_queue.join()"
   ]
  },
  {
   "cell_type": "code",
   "execution_count": 68,
   "metadata": {},
   "outputs": [
    {
     "name": "stdout",
     "output_type": "stream",
     "text": [
      "1000 items finished\n"
     ]
    }
   ],
   "source": [
    "print(done_queue.qsize(), 'items finished')"
   ]
  },
  {
   "cell_type": "code",
   "execution_count": 69,
   "metadata": {},
   "outputs": [],
   "source": [
    "#在用Pipeline时需要注意三个点: busy waiting, stopping workers, memory explosion"
   ]
  },
  {
   "cell_type": "markdown",
   "metadata": {},
   "source": [
    "### 协程"
   ]
  },
  {
   "cell_type": "code",
   "execution_count": 70,
   "metadata": {},
   "outputs": [],
   "source": [
    "#用协程并发的跑若干函数\n",
    "#python的Thread模块有以下缺点:\n",
    "##1.Thread需要借助其他的工具来实现communicate, 如 Lock 和 Queue。增加了扩展和维护成本\n",
    "##2.每个Thread需要大概 8MB 内存，如果要并发运行大量函数，那么给每个函数分配一个线程显然不现实\n",
    "##3. 开启每个Thread耗费时间，要是你要并发运行大量函数那么线程的开启耗时是很可观的"
   ]
  },
  {
   "cell_type": "code",
   "execution_count": 71,
   "metadata": {},
   "outputs": [],
   "source": [
    "#下面展示routine的用法\n",
    "def my_coroutine():\n",
    "    while True:\n",
    "        received = yield\n",
    "        print('Received:', received)"
   ]
  },
  {
   "cell_type": "code",
   "execution_count": 73,
   "metadata": {},
   "outputs": [],
   "source": [
    "it = my_coroutine()\n",
    "#首次使用协程时需要调用next方法\n",
    "#这将使得生成器为 第一次接受 send() 函数的值做准备\n",
    "next(it)"
   ]
  },
  {
   "cell_type": "code",
   "execution_count": 74,
   "metadata": {},
   "outputs": [
    {
     "name": "stdout",
     "output_type": "stream",
     "text": [
      "Received: First\n",
      "Received: Second\n"
     ]
    }
   ],
   "source": [
    "it.send('First')\n",
    "it.send('Second')"
   ]
  },
  {
   "cell_type": "code",
   "execution_count": 78,
   "metadata": {},
   "outputs": [],
   "source": [
    "#下面展示一个具体的例子\n",
    "def minimize():\n",
    "    #接受第一次的send()\n",
    "    current = yield\n",
    "    while True:\n",
    "        value = yield current\n",
    "        print(current, value)\n",
    "        current = min(value, current)\n",
    "        "
   ]
  },
  {
   "cell_type": "code",
   "execution_count": 79,
   "metadata": {},
   "outputs": [
    {
     "name": "stdout",
     "output_type": "stream",
     "text": [
      "10\n"
     ]
    }
   ],
   "source": [
    "it = minimize()\n",
    "next(it)\n",
    "print(it.send(10))"
   ]
  },
  {
   "cell_type": "code",
   "execution_count": 80,
   "metadata": {},
   "outputs": [
    {
     "name": "stdout",
     "output_type": "stream",
     "text": [
      "10 4\n",
      "4\n"
     ]
    }
   ],
   "source": [
    "print(it.send(4))"
   ]
  },
  {
   "cell_type": "markdown",
   "metadata": {},
   "source": [
    "### 使用cocurrent.futures 实现真正的并行化"
   ]
  },
  {
   "cell_type": "code",
   "execution_count": 1,
   "metadata": {},
   "outputs": [],
   "source": [
    "#下面用最大公约数算法来模拟 计算密集型的应用\n",
    "#时间复杂度 O(n)\n",
    "def gcd(pair):\n",
    "    a, b = pair\n",
    "    low = min(a, b)\n",
    "    for i in range(low, 0, -1):\n",
    "        if a % i == 0 and b % i == 0 :\n",
    "            return i"
   ]
  },
  {
   "cell_type": "code",
   "execution_count": 2,
   "metadata": {},
   "outputs": [],
   "source": [
    "numbers = [(1963309, 2265973), (2030677, 3814172), \n",
    "           (1551645, 2229620), (2039045, 2020802)]"
   ]
  },
  {
   "cell_type": "code",
   "execution_count": 3,
   "metadata": {},
   "outputs": [
    {
     "name": "stdout",
     "output_type": "stream",
     "text": [
      "Took 0.488 seconds\n"
     ]
    }
   ],
   "source": [
    "from time import time\n",
    "start = time()\n",
    "results = list(map(gcd, numbers))\n",
    "end = time()\n",
    "print('Took %.3f seconds' % (end - start))"
   ]
  },
  {
   "cell_type": "code",
   "execution_count": 5,
   "metadata": {},
   "outputs": [],
   "source": [
    "#按照前面的结论, 用Thread模块不会加速, 因为GIL\n",
    "#解决方案: concurrent.futures"
   ]
  },
  {
   "cell_type": "code",
   "execution_count": 6,
   "metadata": {},
   "outputs": [],
   "source": [
    "from concurrent.futures import ThreadPoolExecutor"
   ]
  },
  {
   "cell_type": "code",
   "execution_count": 8,
   "metadata": {},
   "outputs": [
    {
     "name": "stdout",
     "output_type": "stream",
     "text": [
      "Took 0.506 seconds\n"
     ]
    }
   ],
   "source": [
    "#这样会更慢, 因为线程的启动和交流耗时\n",
    "start = time()\n",
    "pool = ThreadPoolExecutor(max_workers = 2)\n",
    "results = list(pool.map(gcd, numbers))\n",
    "end = time()\n",
    "print(\"Took %.3f seconds\" % (end - start))"
   ]
  },
  {
   "cell_type": "code",
   "execution_count": 9,
   "metadata": {},
   "outputs": [
    {
     "name": "stdout",
     "output_type": "stream",
     "text": [
      "Took 0.320 seconds\n"
     ]
    }
   ],
   "source": [
    "from concurrent.futures import ProcessPoolExecutor\n",
    "start = time()\n",
    "pool = ProcessPoolExecutor(max_workers = 2)\n",
    "results = list(pool.map(gcd, numbers))\n",
    "end = time()\n",
    "print(\"Took %.3f seconds\" % (end - start))"
   ]
  },
  {
   "cell_type": "code",
   "execution_count": 10,
   "metadata": {},
   "outputs": [],
   "source": [
    "#下面简单解释一下 ProcessPoolExecutor 是如何工作的\n",
    "##1. 从 numbers 将每个元素元素取到 map里\n",
    "##2. 将map的数据 序列化, 通过pickle模块\n",
    "##3. 将序列化的数据从主进程copy到子进程里\n",
    "##4. 子进程中用pickle模块 将数据解序列化\n",
    "##5. 子进程中将包含有 gcd函数的模块导入\n",
    "##6. 每个子进程gcd函数\n",
    "##7. 将结果序列化\n",
    "##8. 将序列化的结果 copy回 socket\n",
    "##9. 在主进程中将结果解序列化\n",
    "##10. 主进程中将这些结果合并成列表"
   ]
  },
  {
   "cell_type": "code",
   "execution_count": 19,
   "metadata": {},
   "outputs": [
    {
     "data": {
      "text/plain": [
       "datetime.datetime(2019, 3, 12, 8, 17, 7, 744726)"
      ]
     },
     "execution_count": 19,
     "metadata": {},
     "output_type": "execute_result"
    }
   ],
   "source": [
    "from datetime import datetime\n",
    "datetime.utcnow()"
   ]
  },
  {
   "cell_type": "code",
   "execution_count": 20,
   "metadata": {},
   "outputs": [
    {
     "name": "stdout",
     "output_type": "stream",
     "text": [
      "Help on built-in function utcnow:\n",
      "\n",
      "utcnow(...) method of builtins.type instance\n",
      "    Return a new datetime representing UTC day and time.\n",
      "\n"
     ]
    }
   ],
   "source": [
    "help(datetime.utcnow)"
   ]
  },
  {
   "cell_type": "code",
   "execution_count": null,
   "metadata": {},
   "outputs": [],
   "source": []
  }
 ],
 "metadata": {
  "kernelspec": {
   "display_name": "Python 3",
   "language": "python",
   "name": "python3"
  },
  "language_info": {
   "codemirror_mode": {
    "name": "ipython",
    "version": 3
   },
   "file_extension": ".py",
   "mimetype": "text/x-python",
   "name": "python",
   "nbconvert_exporter": "python",
   "pygments_lexer": "ipython3",
   "version": "3.6.7"
  },
  "toc": {
   "base_numbering": 1,
   "nav_menu": {},
   "number_sections": true,
   "sideBar": false,
   "skip_h1_title": false,
   "title_cell": "Table of Contents",
   "title_sidebar": "Contents",
   "toc_cell": false,
   "toc_position": {},
   "toc_section_display": true,
   "toc_window_display": false
  },
  "varInspector": {
   "cols": {
    "lenName": 16,
    "lenType": 16,
    "lenVar": 40
   },
   "kernels_config": {
    "python": {
     "delete_cmd_postfix": "",
     "delete_cmd_prefix": "del ",
     "library": "var_list.py",
     "varRefreshCmd": "print(var_dic_list())"
    },
    "r": {
     "delete_cmd_postfix": ") ",
     "delete_cmd_prefix": "rm(",
     "library": "var_list.r",
     "varRefreshCmd": "cat(var_dic_list()) "
    }
   },
   "types_to_exclude": [
    "module",
    "function",
    "builtin_function_or_method",
    "instance",
    "_Feature"
   ],
   "window_display": false
  }
 },
 "nbformat": 4,
 "nbformat_minor": 2
}
