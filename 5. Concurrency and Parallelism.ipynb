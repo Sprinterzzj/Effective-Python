{
 "cells": [
  {
   "cell_type": "markdown",
   "metadata": {},
   "source": [
    "### subprocess 模块"
   ]
  },
  {
   "cell_type": "code",
   "execution_count": 3,
   "metadata": {
    "ExecuteTime": {
     "end_time": "2019-05-29T07:11:38.908518Z",
     "start_time": "2019-05-29T07:11:38.905741Z"
    }
   },
   "outputs": [],
   "source": [
    "#用 subprocess 模块管理子进程\n",
    "import subprocess"
   ]
  },
  {
   "cell_type": "code",
   "execution_count": 4,
   "metadata": {
    "ExecuteTime": {
     "end_time": "2019-05-29T07:11:39.159509Z",
     "start_time": "2019-05-29T07:11:39.145495Z"
    }
   },
   "outputs": [
    {
     "name": "stdout",
     "output_type": "stream",
     "text": [
      "Hello from the child!\n",
      "\n"
     ]
    }
   ],
   "source": [
    "#Popen 开始进程\n",
    "proc = subprocess.Popen(\n",
    "    ['echo', 'Hello from the child!'],\n",
    "    stdout = subprocess.PIPE\n",
    ")\n",
    "out, err = proc.communicate()\n",
    "print(out.decode('utf-8'))"
   ]
  },
  {
   "cell_type": "code",
   "execution_count": 5,
   "metadata": {
    "ExecuteTime": {
     "end_time": "2019-05-29T07:11:39.335800Z",
     "start_time": "2019-05-29T07:11:39.328310Z"
    }
   },
   "outputs": [],
   "source": [
    "#子进程的状态可以每隔一段时间被检测到, 通过poll函数\n",
    "proc = subprocess.Popen(['sleep', '0.3'])\n",
    "# while proc.poll() is None:\n",
    "#     print('Working ...')\n",
    "#     # Some time-consuming work here\n",
    "# print('Exist status', proc.poll())"
   ]
  },
  {
   "cell_type": "code",
   "execution_count": 6,
   "metadata": {
    "ExecuteTime": {
     "end_time": "2019-05-29T07:11:39.731847Z",
     "start_time": "2019-05-29T07:11:39.596062Z"
    }
   },
   "outputs": [],
   "source": [
    "from time import time\n",
    "#父进程可以平行的运行多个子进程\n",
    "def run_sleep(period):\n",
    "    proc = subprocess.Popen(['sleep', str(period)])\n",
    "    return proc\n",
    "start = time()\n",
    "procs = []\n",
    "for _ in range(10):\n",
    "    proc = run_sleep(.1)\n",
    "    procs.append(proc)\n",
    "\n",
    "#通过 communicate方法终止这些进程\n",
    "for proc in procs:\n",
    "    proc.communicate()\n",
    "end = time()"
   ]
  },
  {
   "cell_type": "code",
   "execution_count": 7,
   "metadata": {
    "ExecuteTime": {
     "end_time": "2019-05-29T07:11:39.993290Z",
     "start_time": "2019-05-29T07:11:39.990096Z"
    }
   },
   "outputs": [
    {
     "name": "stdout",
     "output_type": "stream",
     "text": [
      "Finished in 0.130 seconds\n"
     ]
    }
   ],
   "source": [
    "#如果这些进程是顺序执行的， 那么总运行时间大约是1s\n",
    "print('Finished in %.3f seconds' % (end - start))"
   ]
  },
  {
   "cell_type": "code",
   "execution_count": 8,
   "metadata": {
    "ExecuteTime": {
     "end_time": "2019-05-29T07:11:40.195605Z",
     "start_time": "2019-05-29T07:11:40.191618Z"
    }
   },
   "outputs": [],
   "source": [
    "#你也可以接收子进程的返回值\n",
    "#假设你需要用 openssl 命令行工具 加密某些文件\n",
    "def run_openssl(data):\n",
    "    env = os.environ.copy()\n",
    "    env['password'] = b'\\xe24U\\n\\xd0Ql3S\\x11'\n",
    "    proc = subprocess.Popen(\n",
    "        ['openssl', 'enc', '-des3', '-pass', 'env:password'],\n",
    "        env = env,\n",
    "        stdin = subprocess.PIPE,\n",
    "        stdout = subprocess.PIPE\n",
    "    )\n",
    "    #这两行保证了子进程得到输入\n",
    "    proc.stdin.write(data)\n",
    "    proc.stdin.flush()\n",
    "    return proc"
   ]
  },
  {
   "cell_type": "code",
   "execution_count": 9,
   "metadata": {
    "ExecuteTime": {
     "end_time": "2019-05-29T07:11:40.700541Z",
     "start_time": "2019-05-29T07:11:40.684338Z"
    }
   },
   "outputs": [],
   "source": [
    "import os\n",
    "procs = []\n",
    "for _ in range(3):\n",
    "    data = os.urandom(10)\n",
    "    proc = run_openssl(data)\n",
    "    procs.append(proc)"
   ]
  },
  {
   "cell_type": "code",
   "execution_count": 10,
   "metadata": {
    "ExecuteTime": {
     "end_time": "2019-05-29T07:11:41.105570Z",
     "start_time": "2019-05-29T07:11:41.099495Z"
    }
   },
   "outputs": [
    {
     "name": "stdout",
     "output_type": "stream",
     "text": [
      "b'\\xce\\xb8#h\\xe9q.\\xe0\\xfc@'\n",
      "b'\\x11\\xe4p-a\\xc4\\xf8\\x93\\xb9\\xa3'\n",
      "b\"\\x86\\xae\\xdf\\x1a\\x11:'V\\xf2\\xf8\"\n"
     ]
    }
   ],
   "source": [
    "for proc in procs:\n",
    "    out, err = proc.communicate()\n",
    "    print(out[-10 :])"
   ]
  },
  {
   "cell_type": "code",
   "execution_count": 12,
   "metadata": {
    "ExecuteTime": {
     "end_time": "2019-05-29T07:11:53.535237Z",
     "start_time": "2019-05-29T07:11:53.532393Z"
    }
   },
   "outputs": [],
   "source": [
    "#from hashlib import md5\n",
    "#你也可以将两个子进程串联起来\n",
    "def run_md5(input_stdin):\n",
    "    proc = subprocess.Popen(\n",
    "        ['md5sum'],\n",
    "        stdin = input_stdin, #注意这里的标准输入来自于另一个子进程的输出\n",
    "        stdout = subprocess.PIPE\n",
    "    )\n",
    "    return proc\n",
    "input_procs = []\n",
    "hash_procs = []\n",
    "for _ in range(3):\n",
    "    data = os.urandom(10)\n",
    "    \n",
    "    proc = run_openssl(data)\n",
    "    input_procs.append(proc)\n",
    "    #用proc的标准化输出来作为has_proc的输入\n",
    "    hash_proc = run_md5(proc.stdout)\n",
    "    hash_procs.append(hash_proc)"
   ]
  },
  {
   "cell_type": "code",
   "execution_count": 25,
   "metadata": {},
   "outputs": [
    {
     "name": "stdout",
     "output_type": "stream",
     "text": [
      "b'd41d8cd98f00b204e9800998ecf8427e  -'\n",
      "b'd41d8cd98f00b204e9800998ecf8427e  -'\n",
      "b'211df522cb928f69369779a2f7e620ae  -'\n"
     ]
    }
   ],
   "source": [
    "for proc in input_procs:\n",
    "    proc.communicate()\n",
    "for proc in hash_procs:\n",
    "    out, err = proc.communicate()\n",
    "    print(out.strip())"
   ]
  },
  {
   "cell_type": "code",
   "execution_count": 26,
   "metadata": {},
   "outputs": [
    {
     "name": "stdout",
     "output_type": "stream",
     "text": [
      "Exit status -15\n"
     ]
    }
   ],
   "source": [
    "#如果你担心子进程可能不会终止, 那么给communicate()方法传递 timeout参数\n",
    "proc = run_sleep(.5)\n",
    "try:\n",
    "    proc.communicate(timeout = .1)\n",
    "except subprocess.TimeoutExpired:\n",
    "    proc.terminate()\n",
    "    proc.wait()\n",
    "print('Exit status', proc.poll())"
   ]
  },
  {
   "cell_type": "markdown",
   "metadata": {},
   "source": [
    "### Thread模块\n",
    "* 对于IO操作而言, 多线程与多进程性能差别不大\n",
    "* Python中使用多线程的方式:\n",
    "   1. Thread模块\n",
    "   2. 继承Thread类"
   ]
  },
  {
   "cell_type": "code",
   "execution_count": 13,
   "metadata": {
    "ExecuteTime": {
     "end_time": "2019-05-29T07:12:12.371922Z",
     "start_time": "2019-05-29T07:12:12.009431Z"
    }
   },
   "outputs": [
    {
     "name": "stdout",
     "output_type": "stream",
     "text": [
      "Took 0.358 seconds\n"
     ]
    }
   ],
   "source": [
    "#Python的并行是伪并行, 因为GIL的存在\n",
    "#因数分解，串行版本\n",
    "def factorize(number):\n",
    "    for i in range(1, number + 1):\n",
    "        if number % i ==0:\n",
    "            yield i \n",
    "\n",
    "numbers = [2139079, 1214759, 1516637, 1852285]\n",
    "start = time()\n",
    "for number in numbers:\n",
    "    list(factorize(number))\n",
    "end = time()\n",
    "print('Took %.3f seconds' % (end - start))"
   ]
  },
  {
   "cell_type": "code",
   "execution_count": 14,
   "metadata": {
    "ExecuteTime": {
     "end_time": "2019-05-29T07:12:14.039228Z",
     "start_time": "2019-05-29T07:12:13.673488Z"
    }
   },
   "outputs": [
    {
     "name": "stdout",
     "output_type": "stream",
     "text": [
      "Took 0.360 seconds\n"
     ]
    }
   ],
   "source": [
    "#下面用Thread 模块给出并行版本\n",
    "from threading import Thread\n",
    "from time import time\n",
    "class FactorizeThread(Thread):\n",
    "    def __init__(self, number):\n",
    "        super().__init__()\n",
    "        self.number = number\n",
    "    def run(self):\n",
    "        self.factors = list(factorize(self.number))\n",
    "\n",
    "start = time()\n",
    "threads = []\n",
    "for number in numbers:\n",
    "    thread = FactorizeThread(number)\n",
    "    thread.start()\n",
    "    threads.append(thread)\n",
    "for thread in threads:\n",
    "    thread.join()\n",
    "end = time()\n",
    "print('Took %.3f seconds' % (end - start))"
   ]
  },
  {
   "cell_type": "code",
   "execution_count": 15,
   "metadata": {
    "ExecuteTime": {
     "end_time": "2019-05-29T07:12:17.316169Z",
     "start_time": "2019-05-29T07:12:17.314307Z"
    }
   },
   "outputs": [],
   "source": [
    "#那么为什么Python要支持多线程呢?\n",
    "#1.用多线程，你可以让Python来manage function in parallel\n",
    "#2.用多线程处理I/O中断"
   ]
  },
  {
   "cell_type": "code",
   "execution_count": 16,
   "metadata": {
    "ExecuteTime": {
     "end_time": "2019-05-29T07:12:19.066643Z",
     "start_time": "2019-05-29T07:12:18.536395Z"
    }
   },
   "outputs": [
    {
     "name": "stdout",
     "output_type": "stream",
     "text": [
      "Took 0.523 seconds\n"
     ]
    }
   ],
   "source": [
    "#比如有如下的需求:我们需要请求操作系统中断.1, 然后回到程序的控制\n",
    "import select\n",
    "def slow_systemcall():\n",
    "    select.select([], [], [], .1)\n",
    "#slow_systemcall()串行调用将线性增加运行时间\n",
    "start = time()\n",
    "for _ in range(5):\n",
    "    slow_systemcall()\n",
    "end = time()\n",
    "print('Took %.3f seconds' % (end - start))"
   ]
  },
  {
   "cell_type": "code",
   "execution_count": 17,
   "metadata": {
    "ExecuteTime": {
     "end_time": "2019-05-29T07:12:20.121545Z",
     "start_time": "2019-05-29T07:12:20.009179Z"
    }
   },
   "outputs": [
    {
     "name": "stdout",
     "output_type": "stream",
     "text": [
      "Took 0.106 seconds\n"
     ]
    }
   ],
   "source": [
    "#上面操作的问题是: 当 system_call运行时你的程序 cannot do anything, 因为你主线程被block了5s.\n",
    "#正因如此, 你需要多线程~~\n",
    "start = time()\n",
    "threads = []\n",
    "for _ in range(5):\n",
    "    thread = Thread(target = slow_systemcall)\n",
    "    thread.start()\n",
    "    threads.append(thread)\n",
    "#With the threads started, you can do other things you need\n",
    "for thread in threads:\n",
    "    thread.join()\n",
    "end = time()\n",
    "# 5x speed up!\n",
    "print('Took %.3f seconds' % (end - start))"
   ]
  },
  {
   "cell_type": "markdown",
   "metadata": {},
   "source": [
    "###### 通过继承Thread类实现多线程"
   ]
  },
  {
   "cell_type": "code",
   "execution_count": 19,
   "metadata": {
    "ExecuteTime": {
     "end_time": "2019-05-29T07:18:56.194528Z",
     "start_time": "2019-05-29T07:18:56.191082Z"
    }
   },
   "outputs": [],
   "source": [
    "class GetDetailedHtml(Thread):\n",
    "    \n",
    "    def __init__(self, *args, **kwargs):\n",
    "        super().__init__(*args, **kwargs)\n",
    "           \n",
    "    #重点: 重载run方法\n",
    "    def run(self):\n",
    "        print('Get detailed html started.')\n",
    "        time.sleep(4)\n",
    "        print('Get detailed html end.')"
   ]
  },
  {
   "cell_type": "markdown",
   "metadata": {},
   "source": [
    "python的Thread模块有以下缺点:\n",
    "\n",
    "1. Thread需要借助其他的工具来实现communicate, 如 Lock 和 Queue。增加了扩展和维护成本\n",
    "2. 每个Thread需要大概 8MB 内存，如果要并发运行大量函数，那么给每个函数分配一个线程显然不现实\n",
    "3. 开启每个Thread耗费时间，要是你要并发运行大量函数那么线程的开启耗时是很可观的"
   ]
  },
  {
   "cell_type": "markdown",
   "metadata": {},
   "source": [
    "#### Lock模块\n",
    "1. lock会影响多线程性能\n",
    "2. 会引起死锁"
   ]
  },
  {
   "cell_type": "code",
   "execution_count": 9,
   "metadata": {},
   "outputs": [],
   "source": [
    "#用锁来阻止 线程之间的竞争\n",
    "#注意,即使python有global interpreter lock，你的数据结构也不是线程安全的！！！\n",
    "from threading import Thread\n",
    "#*1. work类\n",
    "class Counter(object):\n",
    "    def __init__(self):\n",
    "        self.count = 0\n",
    "    def increment(self, offset):\n",
    "        # `+=`不是线程安全的\n",
    "        self.count += offset"
   ]
  },
  {
   "cell_type": "code",
   "execution_count": 10,
   "metadata": {},
   "outputs": [],
   "source": [
    "#*2. worker函数/类\n",
    "def worker(senser_index, how_many, counter):\n",
    "    for _ in range(how_many):\n",
    "        #Do something\n",
    "        counter.increment(1)"
   ]
  },
  {
   "cell_type": "code",
   "execution_count": 13,
   "metadata": {},
   "outputs": [],
   "source": [
    "#*3. run thread 的函数\n",
    "def run_threads(func, how_many, counter):\n",
    "    threads = []\n",
    "    for i in range(5):\n",
    "        args = (i, how_many, counter)\n",
    "        thread = Thread(target = func, args =args)\n",
    "        threads.append(thread)\n",
    "        thread.start()\n",
    "    for thread in threads:\n",
    "        thread.join()"
   ]
  },
  {
   "cell_type": "code",
   "execution_count": 14,
   "metadata": {},
   "outputs": [],
   "source": [
    "how_many = 10**5\n",
    "counter = Counter()\n",
    "#共5个线程, 它们访问相同的类的实例。调用increment函数 how_many次\n",
    "run_threads(worker, how_many, counter)"
   ]
  },
  {
   "cell_type": "code",
   "execution_count": 15,
   "metadata": {},
   "outputs": [
    {
     "name": "stdout",
     "output_type": "stream",
     "text": [
      "Counter should be 500000, found 377175\n"
     ]
    }
   ],
   "source": [
    "print('Counter should be %d, found %d' % (5 * how_many, counter.count))"
   ]
  },
  {
   "cell_type": "code",
   "execution_count": 16,
   "metadata": {},
   "outputs": [
    {
     "data": {
      "text/plain": [
       "\"\\nvalue = getattr(counter, 'count')\\nresult = value + offset\\nsetattr(counter, 'count', result)\\n\""
      ]
     },
     "execution_count": 16,
     "metadata": {},
     "output_type": "execute_result"
    }
   ],
   "source": [
    "# counter.count += offset 相当于三句话:\n",
    "\"\"\"\n",
    "value = getattr(counter, 'count')\n",
    "result = value + offset\n",
    "setattr(counter, 'count', result)\n",
    "\"\"\"\n",
    "#Python 的线程在执行上面三个语句时的任何时刻,都可能被挂起"
   ]
  },
  {
   "cell_type": "code",
   "execution_count": 21,
   "metadata": {},
   "outputs": [],
   "source": [
    "#竞争条件的解决方案: Lock\n",
    "from threading import Lock\n",
    "class LockingCounter(object):\n",
    "    def __init__(self):\n",
    "        self.lock = Lock()\n",
    "        self.count = 0\n",
    "    def increment(self, offset):\n",
    "        #self.lock.acquire()\n",
    "        with self.lock:\n",
    "            self.count += offset\n",
    "        #self.lock.acquire()"
   ]
  },
  {
   "cell_type": "code",
   "execution_count": 23,
   "metadata": {},
   "outputs": [
    {
     "name": "stdout",
     "output_type": "stream",
     "text": [
      "Counter should be 500000, found 500000\n"
     ]
    }
   ],
   "source": [
    "counter = LockingCounter()\n",
    "run_threads(worker, how_many, counter)\n",
    "print('Counter should be %d, found %d' % (5 * how_many, counter.count))"
   ]
  },
  {
   "cell_type": "markdown",
   "metadata": {},
   "source": [
    "#### RLock模块\n",
    "在同一个线程里面, 你可以连续调用多次 acquire, 但是注意 release的次数必须和acquire次数相等"
   ]
  },
  {
   "cell_type": "code",
   "execution_count": 2,
   "metadata": {
    "ExecuteTime": {
     "end_time": "2019-05-30T02:37:27.637487Z",
     "start_time": "2019-05-30T02:37:27.633726Z"
    }
   },
   "outputs": [],
   "source": [
    "from threading import RLock\n",
    "lock = RLock()\n",
    "total = 0\n",
    "def add():\n",
    "    global total\n",
    "    global RLock\n",
    "    for i in range(10):\n",
    "        #如果是普通的Lock, 你连续acquire两次会造成死锁\n",
    "        #但是用RLock不会造成死锁.注意在同一个线程里这么用才可以\n",
    "        lock.acquire()\n",
    "        lock.acquire()\n",
    "        total += 1\n",
    "        lock.release()\n",
    "        lock.release()\n",
    "    "
   ]
  },
  {
   "cell_type": "code",
   "execution_count": 4,
   "metadata": {
    "ExecuteTime": {
     "end_time": "2019-05-30T02:40:45.347104Z",
     "start_time": "2019-05-30T02:40:45.342561Z"
    }
   },
   "outputs": [],
   "source": [
    "from threading import Thread\n",
    "threads = []\n",
    "for i in range(5):\n",
    "    thread = Thread(target=add, args=())\n",
    "    threads.append(thread)\n",
    "for thread in threads:\n",
    "    thread.start()\n",
    "for thread in threads:\n",
    "    thread.join()"
   ]
  },
  {
   "cell_type": "code",
   "execution_count": 5,
   "metadata": {
    "ExecuteTime": {
     "end_time": "2019-05-30T02:40:51.277076Z",
     "start_time": "2019-05-30T02:40:51.273502Z"
    }
   },
   "outputs": [
    {
     "name": "stdout",
     "output_type": "stream",
     "text": [
      "50\n"
     ]
    }
   ],
   "source": [
    "print(total)"
   ]
  },
  {
   "cell_type": "markdown",
   "metadata": {},
   "source": [
    "#### Condition模块\n",
    "用于复杂的线程同步:\n",
    "1. 用同一个condition的两个线程, 需要注意启动顺序! 首先启动的是 首先调用wait的线程.\n",
    "2. 要首先调用 with condition 语句(也就是condition.acquire()).\n",
    "3. condtion里默认用RLock, 调用\\_\\_enter\\_\\_方法时,acquire这把锁. 当调用wait时, 首先:\n",
    "    1. 新建一把锁 waiter.\n",
    "    2. waiter 调用 acquire 方法\n",
    "    3. 将新建的锁加入到双端队列 waiters 中\n",
    "    4. 释放condition的锁, 并且保存当前状态\n",
    "    5. waiter 再一次调用 acquire 方法, **造成阻塞**, 只有使用同一个condition的另外一个线程调用notify方法(notify方法会调用 waiter的 release方法), 才有可能解除阻塞.\n",
    "    6. 无论是成功解除阻塞或者time out, 都会重新获取condition的锁, 回到原始状态.\n",
    "    7. 如果 5 中 waiter没有成功acquire, 会将它从waiters中移除.\n",
    "4. 线程1调用 cond.acquire() --> 线程1调用wait(),首先释放cond的锁, 然后新建waiter,将waiter加入到双端队列,waiter调用两次acquire;</br>\n",
    "   线程2 因为线程1在wait中释放了cond的锁, 它得以acquire之.然后线程2 do something后, 首先调用notify, notify会调用waiter的release()</br>.\n",
    "   注意此时线程1任然堵塞, **只有线程2调用了wait()后, 线程1才能重新acquire cond的锁, 继续运行**."
   ]
  },
  {
   "cell_type": "code",
   "execution_count": 3,
   "metadata": {
    "ExecuteTime": {
     "end_time": "2019-06-06T05:05:26.901683Z",
     "start_time": "2019-06-06T05:05:26.894825Z"
    }
   },
   "outputs": [],
   "source": [
    "from threading import Thread\n",
    "from threading import Condition\n",
    "#通过Condition实现两个线程对话\n",
    "#首先需要调用 with语句:\n",
    "##1. wait 方法, 用于等待某个条件变量的通知\n",
    "##2. notify 方法, 用于通知调用了wait方法的线程启动\n",
    "class XiaoAi(Thread):\n",
    "    def __init__(self, condition):\n",
    "        super().__init__(name='小爱')\n",
    "        self.cond = condition\n",
    "    def run(self):\n",
    "        with self.cond:\n",
    "            self.cond.wait() #1\n",
    "            print(\"{} : 在.\".format(self.name))#2\n",
    "            self.cond.notify() #2\n",
    "            self.cond.wait() #3\n",
    "            print('{} : 好啊.'.format(self.name))\n",
    "class TianMao(Thread):\n",
    "    def __init__(self, condition):\n",
    "        super().__init__(name='天猫')\n",
    "        self.cond = condition\n",
    "    def run(self):\n",
    "        with self.cond:\n",
    "            print(\"{} : 小爱同学.\".format(self.name))#1\n",
    "            self.cond.notify() #1\n",
    "            print('hahaha1')\n",
    "            self.cond.wait() #2\n",
    "            print('hahaha2')\n",
    "            print('{} : 我们来对古诗吧.'.format(self.name))\n",
    "            self.cond.notify() #3       "
   ]
  },
  {
   "cell_type": "code",
   "execution_count": 4,
   "metadata": {
    "ExecuteTime": {
     "end_time": "2019-06-06T05:05:27.399423Z",
     "start_time": "2019-06-06T05:05:27.394758Z"
    }
   },
   "outputs": [
    {
     "name": "stdout",
     "output_type": "stream",
     "text": [
      "天猫 : 小爱同学.\n",
      "hahaha1\n",
      "小爱 : 在.\n",
      "hahaha2\n",
      "天猫 : 我们来对古诗吧.\n",
      "小爱 : 好啊.\n"
     ]
    }
   ],
   "source": [
    "condition = Condition()\n",
    "Xiaoai = XiaoAi(condition)\n",
    "Tianmao = TianMao(condition)\n",
    "####!!!!注意用条件变量的时候现成先后启动的循序非常重要!!!先wait的线程先启动\n",
    "Xiaoai.start()\n",
    "Tianmao.start()"
   ]
  },
  {
   "cell_type": "markdown",
   "metadata": {},
   "source": [
    "#### Semaphore\n",
    "用于控制锁的进入数量"
   ]
  },
  {
   "cell_type": "code",
   "execution_count": 16,
   "metadata": {
    "ExecuteTime": {
     "end_time": "2019-06-06T06:26:37.804706Z",
     "start_time": "2019-06-06T06:26:37.802149Z"
    }
   },
   "outputs": [],
   "source": [
    "from threading import Semaphore, Thread\n",
    "import time"
   ]
  },
  {
   "cell_type": "code",
   "execution_count": 17,
   "metadata": {
    "ExecuteTime": {
     "end_time": "2019-06-06T06:26:53.182918Z",
     "start_time": "2019-06-06T06:26:53.177928Z"
    }
   },
   "outputs": [],
   "source": [
    "#模拟爬虫\n",
    "class HtmlSpider(Thread):\n",
    "    def __init__(self, url):\n",
    "        super().__init__()\n",
    "        self.url = url\n",
    "    def run(self):\n",
    "        time.sleep(2)\n",
    "        print('成功爬取页面 : {0}.\\n'.format(self.url))\n",
    "class UrlProducer(Thread):\n",
    "    #每次run就调用20个HtmlSpider线程\n",
    "    def run(self):\n",
    "        for i in range(10):\n",
    "            html_thread = HtmlSpider(\"https://baidu.com/{0}\".format(i))\n",
    "            html_thread.start()"
   ]
  },
  {
   "cell_type": "code",
   "execution_count": 18,
   "metadata": {
    "ExecuteTime": {
     "end_time": "2019-06-06T06:26:53.488319Z",
     "start_time": "2019-06-06T06:26:53.485765Z"
    }
   },
   "outputs": [
    {
     "name": "stdout",
     "output_type": "stream",
     "text": [
      "成功爬取页面 : https://baidu.com/1.\n",
      "\n",
      "成功爬取页面 : https://baidu.com/0.\n",
      "\n",
      "成功爬取页面 : https://baidu.com/2.\n",
      "\n",
      "成功爬取页面 : https://baidu.com/4.\n",
      "\n",
      "成功爬取页面 : https://baidu.com/6.\n",
      "\n",
      "成功爬取页面 : https://baidu.com/8.\n",
      "\n",
      "成功爬取页面 : https://baidu.com/3.\n",
      "\n",
      "成功爬取页面 : https://baidu.com/9.\n",
      "\n",
      "成功爬取页面 : https://baidu.com/7.\n",
      "\n",
      "成功爬取页面 : https://baidu.com/5.\n",
      "\n"
     ]
    }
   ],
   "source": [
    "url_producer = UrlProducer()\n",
    "url_producer.start()"
   ]
  },
  {
   "cell_type": "code",
   "execution_count": 24,
   "metadata": {
    "ExecuteTime": {
     "end_time": "2019-06-06T06:41:11.127731Z",
     "start_time": "2019-06-06T06:41:11.122312Z"
    }
   },
   "outputs": [],
   "source": [
    "#需求: 我们要控制并发爬虫的数量.\n",
    "#解决方案: threading中的信号量模块\n",
    "class HtmlSpider(Thread):\n",
    "    def __init__(self, url, semaphore):\n",
    "        super().__init__()\n",
    "        self.url = url\n",
    "        self.semaphore = semaphore\n",
    "    def run(self):\n",
    "        time.sleep(2)\n",
    "        print('成功爬取页面 : {0}.'.format(self.url))\n",
    "        #调用了信号量的release方法后, value会加1, 直到加到初始的值\n",
    "        self.semaphore.release()\n",
    "        \n",
    "class UrlProducer(Thread):\n",
    "    def __init__(self, semaphore):\n",
    "        super().__init__()\n",
    "        self.semaphore = semaphore\n",
    "    def run(self):\n",
    "        for i in range(10):\n",
    "            # 调用了信号量的acquire方法后, 信号量会检查它的value属性, \n",
    "            # 每有一个新的线程 value减一, 减到零就阻塞.\n",
    "            self.semaphore.acquire()\n",
    "            html_thread = HtmlSpider(\"https://baidu.com/{0}\".format(i), self.semaphore)\n",
    "            html_thread.start()"
   ]
  },
  {
   "cell_type": "code",
   "execution_count": 25,
   "metadata": {
    "ExecuteTime": {
     "end_time": "2019-06-06T06:41:11.763820Z",
     "start_time": "2019-06-06T06:41:11.761195Z"
    }
   },
   "outputs": [
    {
     "name": "stdout",
     "output_type": "stream",
     "text": [
      "成功爬取页面 : https://baidu.com/0.成功爬取页面 : https://baidu.com/1.\n",
      "成功爬取页面 : https://baidu.com/2.\n",
      "\n",
      "成功爬取页面 : https://baidu.com/3.\n",
      "成功爬取页面 : https://baidu.com/4.\n",
      "成功爬取页面 : https://baidu.com/5.\n",
      "成功爬取页面 : https://baidu.com/6.\n",
      "成功爬取页面 : https://baidu.com/7.\n",
      "成功爬取页面 : https://baidu.com/8.\n",
      "成功爬取页面 : https://baidu.com/9.\n"
     ]
    }
   ],
   "source": [
    "semaphore = Semaphore(3)\n",
    "url_producer = UrlProducer(semaphore)\n",
    "url_producer.start()"
   ]
  },
  {
   "cell_type": "markdown",
   "metadata": {},
   "source": [
    "### 线程池"
   ]
  },
  {
   "cell_type": "code",
   "execution_count": 2,
   "metadata": {
    "ExecuteTime": {
     "end_time": "2019-06-10T10:48:56.555064Z",
     "start_time": "2019-06-10T10:48:56.552788Z"
    }
   },
   "outputs": [],
   "source": [
    "from concurrent import futures"
   ]
  },
  {
   "cell_type": "code",
   "execution_count": 3,
   "metadata": {
    "ExecuteTime": {
     "end_time": "2019-06-10T10:57:20.829941Z",
     "start_time": "2019-06-10T10:57:20.828055Z"
    }
   },
   "outputs": [],
   "source": [
    "#为什么需要线程池\n",
    "## 1. 控制线程并发的数量\n",
    "## 2. 在主线程中管理子线程的状态, 返回值\n",
    "## 3. 子线程结束时, 主线程可以获知\n",
    "## 4. 使得多线程多进程接口一致"
   ]
  },
  {
   "cell_type": "code",
   "execution_count": 9,
   "metadata": {
    "ExecuteTime": {
     "end_time": "2019-06-10T11:09:33.590055Z",
     "start_time": "2019-06-10T11:09:33.586895Z"
    }
   },
   "outputs": [],
   "source": [
    "import time\n",
    "def sleep(times):\n",
    "    time.sleep(times)\n",
    "    print('You sleep {0} s'.format(times))\n",
    "    return 233"
   ]
  },
  {
   "cell_type": "code",
   "execution_count": 10,
   "metadata": {
    "ExecuteTime": {
     "end_time": "2019-06-10T11:09:37.222120Z",
     "start_time": "2019-06-10T11:09:34.217430Z"
    }
   },
   "outputs": [
    {
     "name": "stdout",
     "output_type": "stream",
     "text": [
      "False\n",
      "You sleep 3 s\n",
      "233\n",
      "You sleep 4 s\n"
     ]
    }
   ],
   "source": [
    "executor = futures.ThreadPoolExecutor(max_workers=4)\n",
    "#注意 submit方法是会立刻返回的\n",
    "task_1 = executor.submit(sleep, (3))\n",
    "task_2 = executor.submit(sleep, (4))\n",
    "\n",
    "#down 方法用于判断任务是否完成\n",
    "print(task_1.done())\n",
    "\n",
    "# result 方法会阻塞直到返回值\n",
    "print(task_1.result())\n",
    "\n",
    "# cancel 方法用于取消任务, 但是如果任务正在执行中, 就无法取消\n",
    "## print(task_2.cancel())"
   ]
  },
  {
   "cell_type": "code",
   "execution_count": 11,
   "metadata": {
    "ExecuteTime": {
     "end_time": "2019-06-10T11:09:41.600529Z",
     "start_time": "2019-06-10T11:09:41.597464Z"
    }
   },
   "outputs": [
    {
     "name": "stdout",
     "output_type": "stream",
     "text": [
      "True\n"
     ]
    }
   ],
   "source": [
    "print(task_1.done())"
   ]
  },
  {
   "cell_type": "code",
   "execution_count": 12,
   "metadata": {
    "ExecuteTime": {
     "end_time": "2019-06-10T11:15:39.848891Z",
     "start_time": "2019-06-10T11:15:39.846724Z"
    }
   },
   "outputs": [],
   "source": [
    "#用 as_completed 获取已经成功的任务的返回值\n",
    "#用 wait 方法 阻塞主线程直到一些子线程的任务返回\n",
    "from concurrent.futures import as_completed, wait\n",
    "\n",
    "#as_completed 方法返回成功执行任务的生成器\n",
    "# for task in as_completed(all_task):\n",
    "#     data = task.result()\n",
    "\n",
    "#wait(all_task, return_when=FIRST_COMPLETED)"
   ]
  },
  {
   "cell_type": "markdown",
   "metadata": {},
   "source": [
    "###### Future 对象\n",
    "1. executor submit后将返回一个 concurrent.futures 下面的 Future class的一个实例对象, 这是task的返回容器"
   ]
  },
  {
   "cell_type": "markdown",
   "metadata": {},
   "source": [
    "### 用队列实现线程之间的协作"
   ]
  },
  {
   "cell_type": "code",
   "execution_count": 1,
   "metadata": {},
   "outputs": [],
   "source": [
    "#用 Queue来实现线程之间的协作\n",
    "#假设你要做这么一个系统:1. 用你的照相机照连续的相片，然后download到本地 2. 本地resize 照片 3. 把你的照片加进 online gallery里\n",
    "#你的程序有三个Pipeline: 1.download 2.resize 3. upload"
   ]
  },
  {
   "cell_type": "code",
   "execution_count": 1,
   "metadata": {},
   "outputs": [],
   "source": [
    "#可以用生产者-消费者 Queue\n",
    "from collections import deque\n",
    "class MyQueue(object):\n",
    "    def __init__(self):\n",
    "        self.items = deque()\n",
    "        self.lock = Lock()\n",
    "    #生产者, 你的相机, 在队列尾部添加元素\n",
    "    def put(self, item):\n",
    "        with self.lock:\n",
    "            self.items.append(item)\n",
    "    #消费者, 从队列头部取走元素\n",
    "    def get(self):\n",
    "        with self.lock:\n",
    "            return self.items.popleft()"
   ]
  },
  {
   "cell_type": "code",
   "execution_count": 8,
   "metadata": {},
   "outputs": [],
   "source": [
    "#下面把每个pipline用Python thread 表示\n",
    "from threading import Thread, Lock\n",
    "from time import sleep\n",
    "#Worker类, 负责链接管道，输入->工作->输出\n",
    "class Worker(Thread):\n",
    "    def __init__(self, func, in_queue, out_queue):\n",
    "        super().__init__()\n",
    "        self.func = func\n",
    "        self.in_queue = in_queue\n",
    "        self.out_queue = out_queue\n",
    "        self.polled_count = 0\n",
    "        self.work_done = 0\n",
    "    def run(self):\n",
    "        #每个worker不断的工作，这其实是一个副作用\n",
    "        while True:\n",
    "            self.polled_count += 1\n",
    "            try:\n",
    "                item = self.in_queue.get()\n",
    "            except IndexError:\n",
    "            #如果 in_queue是空\n",
    "                sleep(.01)\n",
    "            else:\n",
    "            #如果in_queue不空,那么取走队列头部的元素后,开始工作\n",
    "                result = self.func(item)\n",
    "                self.out_queue.put(result)\n",
    "                self.work_done +=1"
   ]
  },
  {
   "cell_type": "code",
   "execution_count": 9,
   "metadata": {},
   "outputs": [],
   "source": [
    "#下面可以将pipline的三个状态连接起来了\n",
    "download_queue = MyQueue()\n",
    "resize_queue = MyQueue()\n",
    "upload_queue = MyQueue()\n",
    "done_queue = MyQueue()\n",
    "def download(item):\n",
    "    return item\n",
    "def resize(item):\n",
    "    return item\n",
    "def upload(item):\n",
    "    return item\n",
    "threads = [\n",
    "    #downlaod 函数, 从保存照片的downloaded_queue取走照片, 放到resize_queue里\n",
    "    Worker(download, download_queue, resize_queue),\n",
    "    #resize 函数, 从保存照片的resize_queue取走照片, 放到upload_queue里\n",
    "    Worker(resize, resize_queue, upload_queue),\n",
    "    #upload 函数, 从保存照片的upload_queue取走照片, 放到done_queue里\n",
    "    Worker(upload, upload_queue, done_queue)\n",
    "]\n"
   ]
  },
  {
   "cell_type": "code",
   "execution_count": 10,
   "metadata": {},
   "outputs": [],
   "source": [
    "#下面可以开始线程了\n",
    "#向download_queue 放进1000张\"图片\", 模拟你的相机\n",
    "for _ in range(1000):\n",
    "    download_queue.put(object())"
   ]
  },
  {
   "cell_type": "code",
   "execution_count": 11,
   "metadata": {},
   "outputs": [],
   "source": [
    "for thread in threads:\n",
    "    thread.start()"
   ]
  },
  {
   "cell_type": "code",
   "execution_count": 12,
   "metadata": {},
   "outputs": [],
   "source": [
    "while len(done_queue.items) < 1000:\n",
    "    #Do something else\n",
    "    pass"
   ]
  },
  {
   "cell_type": "code",
   "execution_count": 18,
   "metadata": {},
   "outputs": [
    {
     "name": "stdout",
     "output_type": "stream",
     "text": [
      "Processed 1000 items after polling 49026 times\n"
     ]
    }
   ],
   "source": [
    "#上面的模式可以运行，但是有一个副作用: except的分支太多!!\n",
    "#因为每个worker function 的速度不尽相同\n",
    "#链接两个状态的queue太多， 如果数据很大的话程序可能会崩溃\n",
    "processed = len(done_queue.items)\n",
    "polled = sum(t.polled_count for t in threads)\n",
    "print('Processed', processed, 'items after polling', polled, 'times')"
   ]
  },
  {
   "cell_type": "code",
   "execution_count": 21,
   "metadata": {
    "ExecuteTime": {
     "end_time": "2019-05-29T07:29:41.528039Z",
     "start_time": "2019-05-29T07:29:41.523476Z"
    }
   },
   "outputs": [
    {
     "name": "stdout",
     "output_type": "stream",
     "text": [
      "Comsumer waiting\n"
     ]
    }
   ],
   "source": [
    "#解决方案， 用Queue代替 Myqueue\n",
    "from queue import Queue\n",
    "###Queue的get方法会自动挂起, 当Queue为空时\n",
    "queue = Queue()\n",
    "def consumer():\n",
    "    print('Comsumer waiting')\n",
    "    queue.get()\n",
    "    print('Consumer done')\n",
    "thread = Thread(target = consumer)\n",
    "thread.start()"
   ]
  },
  {
   "cell_type": "code",
   "execution_count": 22,
   "metadata": {
    "ExecuteTime": {
     "end_time": "2019-05-29T07:29:43.373517Z",
     "start_time": "2019-05-29T07:29:43.369799Z"
    }
   },
   "outputs": [
    {
     "name": "stdout",
     "output_type": "stream",
     "text": [
      "Producer putting\n",
      "Consumer done\n",
      "Producer done\n"
     ]
    }
   ],
   "source": [
    "print('Producer putting')\n",
    "queue.put(object())\n",
    "thread.join()\n",
    "print('Producer done')"
   ]
  },
  {
   "cell_type": "code",
   "execution_count": 28,
   "metadata": {},
   "outputs": [],
   "source": [
    "#为了解决管道的挂起问题, Queue可以指定缓存大小\n",
    "#缓存大小为1, 这意味着producer往 空queue 投放了一个item后, 他必须等待item被取出才能放进下一个\n",
    "from time import sleep\n",
    "queue = Queue(maxsize=1)\n",
    "def consumer():\n",
    "    sleep(.1)\n",
    "    #这一句会挂起直到空queue里放进第一个元素\n",
    "    queue.get()\n",
    "    print('Consumer got 1') # 2\n",
    "    queue.get()\n",
    "    print('consumer got 2') # 4\n",
    "\n",
    "thread = Thread(target = consumer)\n",
    "thread.start()\n",
    "\n",
    "queue.put(object()) \n",
    "print('Producer put 1') # 1\n",
    "queue.put(object()) \n",
    "print('Producer put 2') # 3\n",
    "thread.join() \n",
    "print('Producer done')"
   ]
  },
  {
   "cell_type": "code",
   "execution_count": 25,
   "metadata": {
    "ExecuteTime": {
     "end_time": "2019-05-29T07:32:05.921879Z",
     "start_time": "2019-05-29T07:32:05.916600Z"
    }
   },
   "outputs": [
    {
     "name": "stdout",
     "output_type": "stream",
     "text": [
      "Consumer waiting\n",
      "Producer waiting\n",
      "Consumer working\n",
      "Consumer done\n",
      "Producer done\n"
     ]
    }
   ],
   "source": [
    "#Queue也可以跟踪工作进程,通过**task_done方法**和**join**方法\n",
    "in_queue = Queue()\n",
    "def consumer():\n",
    "    print('Consumer waiting')\n",
    "    work = in_queue.get() #2\n",
    "    print('Consumer working')\n",
    "    #Doing work\n",
    "    print('Consumer done')\n",
    "    in_queue.task_done() #3\n",
    "Thread(target = consumer).start()\n",
    "\n",
    "in_queue.put(object())  #1\n",
    "print('Producer waiting') \n",
    "#你必须在某个地方调用task_done方法, 不然join这里会一直阻塞!!!!!!!!\n",
    "in_queue.join() #4\n",
    "print('Producer done')"
   ]
  },
  {
   "cell_type": "code",
   "execution_count": 62,
   "metadata": {},
   "outputs": [],
   "source": [
    "#让我们为Queue加入一些新的功能让他更加适合我们的任务\n",
    "\n",
    "#ClosableQueue继承了Queue, 增加了队列尾部的Flag\n",
    "#ClosableQueue 实现了 __iter__他是一个可迭代对象, 并且自带for循环终止判断\n",
    "class ClosableQueue(Queue):\n",
    "    SENTINEL = object()\n",
    "    #子类增加一个close方法, 在尾部放入 SENTINEL元素, 这是你放入的最后一个元素, \n",
    "    #当get到这一个元素时, 说明Queue已经为空\n",
    "    def close(self):\n",
    "        self.put(self.SENTINEL)\n",
    "    def __iter__(self):\n",
    "        while True:\n",
    "            item = self.get()\n",
    "            try:\n",
    "                #如果迭代到最后一个元素,就 return 使得Thread终止\n",
    "                if item is self.SENTINEL:\n",
    "                    return\n",
    "                #别忘了这句\n",
    "                yield item\n",
    "            finally:\n",
    "                self.task_done()"
   ]
  },
  {
   "cell_type": "code",
   "execution_count": 63,
   "metadata": {},
   "outputs": [],
   "source": [
    "class StoppableWorker(Thread):\n",
    "    def __init__(self, func, in_queue, out_queue):\n",
    "        super().__init__()\n",
    "        self.func = func\n",
    "        self.in_queue = in_queue\n",
    "        self.out_queue = out_queue\n",
    "        self.polled_count = 0\n",
    "        self.work_done = 0\n",
    "    def run(self):\n",
    "        #ClosableQueue定义了 __iter__方法后,便能如此遍历queue了\n",
    "        #循环退出的标志是get到最后一个元素\n",
    "        for item in self.in_queue:\n",
    "            result = self.func(item)\n",
    "            self.out_queue.put(result)        "
   ]
  },
  {
   "cell_type": "code",
   "execution_count": 64,
   "metadata": {},
   "outputs": [],
   "source": [
    "#Re-create pipelines\n",
    "download_queue = ClosableQueue()\n",
    "resize_queue = ClosableQueue()\n",
    "upload_queue = ClosableQueue()\n",
    "done_queue = ClosableQueue()\n",
    "def download(item):\n",
    "    return item\n",
    "def resize(item):\n",
    "    return item\n",
    "def upload(item):\n",
    "    return item\n",
    "threads = [\n",
    "    #downlaod 函数, 从保存照片的downloaded_queue取走照片, 放到resize_queue里\n",
    "    StoppableWorker(download, download_queue, resize_queue),\n",
    "    #resize 函数, 从保存照片的resize_queue取走照片, 放到upload_queue里\n",
    "    StoppableWorker(resize, resize_queue, upload_queue),\n",
    "    #upload 函数, 从保存照片的upload_queue取走照片, 放到done_queue里\n",
    "    StoppableWorker(upload, upload_queue, done_queue)\n",
    "]"
   ]
  },
  {
   "cell_type": "code",
   "execution_count": 65,
   "metadata": {},
   "outputs": [],
   "source": [
    "#启动线程\n",
    "for thread in threads:\n",
    "    thread.start()\n",
    "#模拟在线环境, 为download_queue填入元素, 然后关闭它\n",
    "for _ in range(1000):\n",
    "    download_queue.put(object())\n",
    "download_queue.close()"
   ]
  },
  {
   "cell_type": "code",
   "execution_count": 66,
   "metadata": {},
   "outputs": [],
   "source": [
    "#help(Queue.join)"
   ]
  },
  {
   "cell_type": "code",
   "execution_count": 67,
   "metadata": {},
   "outputs": [],
   "source": [
    "#如何掌握线程的进度?\n",
    "#Queue的 join方法, 程序暂停，直到queue里面所有的元素都被取出,程序继续运行\n",
    "download_queue.join() \n",
    "resize_queue.close() \n",
    "resize_queue.join() \n",
    "upload_queue.close() \n",
    "upload_queue.join()"
   ]
  },
  {
   "cell_type": "code",
   "execution_count": 68,
   "metadata": {},
   "outputs": [
    {
     "name": "stdout",
     "output_type": "stream",
     "text": [
      "1000 items finished\n"
     ]
    }
   ],
   "source": [
    "print(done_queue.qsize(), 'items finished')"
   ]
  },
  {
   "cell_type": "code",
   "execution_count": 63,
   "metadata": {
    "ExecuteTime": {
     "end_time": "2019-06-12T06:49:13.588533Z",
     "start_time": "2019-06-12T06:49:13.586159Z"
    }
   },
   "outputs": [],
   "source": [
    "#在用Pipeline时需要注意三个点: busy waiting, stopping workers, memory explosion"
   ]
  },
  {
   "cell_type": "markdown",
   "metadata": {},
   "source": [
    "### 多进程multiprocessing\n",
    "1. 用多进程来执行 耗CPU的任务\n",
    "2. 用多线程来执行 IO任务"
   ]
  },
  {
   "cell_type": "code",
   "execution_count": 65,
   "metadata": {
    "ExecuteTime": {
     "end_time": "2019-06-12T07:28:56.553512Z",
     "start_time": "2019-06-12T07:28:56.551251Z"
    }
   },
   "outputs": [],
   "source": [
    "#使用 multiprocessing 的进程池\n",
    "import multiprocessing"
   ]
  },
  {
   "cell_type": "code",
   "execution_count": 4,
   "metadata": {
    "ExecuteTime": {
     "end_time": "2019-06-14T02:18:13.881634Z",
     "start_time": "2019-06-14T02:18:13.878353Z"
    }
   },
   "outputs": [],
   "source": [
    "import time\n",
    "def get_html(n):\n",
    "    time.sleep(n)\n",
    "    return [1, 2, 3]   "
   ]
  },
  {
   "cell_type": "code",
   "execution_count": 77,
   "metadata": {
    "ExecuteTime": {
     "end_time": "2019-06-12T07:46:34.884726Z",
     "start_time": "2019-06-12T07:46:31.756900Z"
    }
   },
   "outputs": [
    {
     "name": "stdout",
     "output_type": "stream",
     "text": [
      "[1, 2, 3]\n",
      "[1, 2, 3]\n"
     ]
    }
   ],
   "source": [
    "#创建一个最多容纳5个进程的进程池\n",
    "pool = multiprocessing.Pool(processes=5)\n",
    "\n",
    "#用异步调用函数来执行\n",
    "#注意args参数后面要有一个逗号\n",
    "result_1 = pool.apply_async(get_html, args=(3, ))\n",
    "result_2 = pool.apply_async(get_html, args=(3, ))\n",
    "\n",
    "#用join方法等待所有进程完成, 注意在join之前必须调用close方法!!!\n",
    "pool.close()\n",
    "pool.join()\n",
    "\n",
    "#打印结果\n",
    "print(result_1.get())\n",
    "print(result_2.get())"
   ]
  },
  {
   "cell_type": "markdown",
   "metadata": {},
   "source": [
    "### 使用Queue, Pipe 和 Manager 完成进程间通信\n",
    "1. 注意Thread模块中的各种锁显然不能在多进程中使用\n",
    "2. 同样线程安全的Queue也无法在多进程中使用, 取而代之用 multiprocessing 中的 Queue\n",
    "3. 但是多进程中的Queue模块无法用于进程的进程池(Pool), 取而代之用 Manager.Queue\n",
    "4. 共享全局变量无法用于多进程编程\n",
    "5. Pipe只能适用于两个指定的进程"
   ]
  },
  {
   "cell_type": "code",
   "execution_count": 5,
   "metadata": {
    "ExecuteTime": {
     "end_time": "2019-06-14T02:18:36.446255Z",
     "start_time": "2019-06-14T02:18:34.430776Z"
    }
   },
   "outputs": [
    {
     "name": "stdout",
     "output_type": "stream",
     "text": [
      "I get zzj.\n"
     ]
    }
   ],
   "source": [
    "from multiprocessing import Pipe, Queue, Manager\n",
    "from multiprocessing import Process\n",
    "import time\n",
    "\n",
    "#下面通过Pipe实现进程间通信\n",
    "#实例化Pipe后得到两个 connection对象: 接收管道和发送管道\n",
    "rev, send = Pipe()\n",
    "def producer(send_pipe):\n",
    "    send_pipe.send('zzj')\n",
    "    time.sleep(2)\n",
    "    return\n",
    "def consumer(recv_pipe):\n",
    "    print('I get {0}.'.format(recv_pipe.recv()))\n",
    "    return\n",
    "my_producer = Process(target=producer, args=(send, ))\n",
    "my_consumer = Process(target=consumer, args=(rev, ))\n",
    "\n",
    "my_producer.start()\n",
    "my_consumer.start()\n",
    "\n",
    "my_producer.join()\n",
    "my_consumer.join()"
   ]
  },
  {
   "cell_type": "markdown",
   "metadata": {},
   "source": [
    "###### 通过 Manager 进程间共享内存"
   ]
  },
  {
   "cell_type": "code",
   "execution_count": 11,
   "metadata": {
    "ExecuteTime": {
     "end_time": "2019-06-14T02:23:34.985084Z",
     "start_time": "2019-06-14T02:23:34.982307Z"
    }
   },
   "outputs": [],
   "source": [
    "from multiprocessing import Manager"
   ]
  },
  {
   "cell_type": "markdown",
   "metadata": {},
   "source": [
    "### 协程和异步IO\n",
    "一些常见概念:\n",
    "\n",
    "1. 并发: 一个*时间段*内有几个程序同时在*同个CPU*上运行, 但是任意时刻只准有一个程序在该CPU上运行.\n",
    "2. 并行: 在任意时间点上, 同时多个程序运行在多个CPU上\n",
    "3. 同步: 指代码调用IO操作时, 必须等待IO操作完成才能返回的调用方式\n",
    "4. 异步: 指代码调用IO操作时, 无需等待IO操作完成才能返回的调用方式\n",
    "5. 阻塞: 调用函数的时候当前线程被挂起\n",
    "6. 非阻塞: 调用函数的时候当前线程不会挂起, 而是立即返回"
   ]
  },
  {
   "cell_type": "markdown",
   "metadata": {},
   "source": [
    "###### Unix下的五种I/O模型\n",
    "1. 阻塞式IO\n",
    "2. 非阻塞式IO\n",
    "3. IO多路复用(重点!!!): 通过一种机制, 一个进程可以监视多个描述符, 一旦某个描述符就绪(一般是读就绪), 能够通知程序进行相应的读写操作.\n",
    "4. 信号驱动式IO\n",
    "5. 异步IO\n",
    "\n",
    "<center>select, poll, epoll</center>\n",
    "\n",
    "1. 三者都是I/O多路复用的机制, 本质上都是同步I/O, 因为都需要读写时间就绪后自己负责读写,也就是说读写过程是阻塞的.\n",
    "2. 注意真.异步I/O无需自己负责读写, 异步I/O的实现会负责把数据从内核拷贝到用户空间.\n",
    "3. select: select函数监事的文件描述符分为3类, 分别是 writefds, readfds 和 exceptfds. 调用select后会阻塞, 直到有描述符就绪或超时函数返回, select返回后便利fdset可以找到就绪的描述符\n",
    "4. poll: 不同于select使用三个位图来表示三个fdset, poll使用一个人pollfd指针实现. pollfd结构包含了要监视的event和发生的event, 不再使用select参数-值传递的方式. 同时pollfd**有最大数量限制**和select函数一样poll返回后通过pollfd来获取就绪的描述符\n",
    "5. epoll: 在linux2.6内核中提出. epoll没有描述符限制, epoll使用一个文件描述符管理多个描述符, 将用户关系的文件描述符的事件存放到内核的一个事件表中.这样在用户空间和内和空间的copy只需要一次."
   ]
  },
  {
   "cell_type": "markdown",
   "metadata": {},
   "source": [
    "###### select+回调+事件循环获取html"
   ]
  },
  {
   "cell_type": "code",
   "execution_count": 18,
   "metadata": {
    "ExecuteTime": {
     "end_time": "2019-06-21T05:18:08.659440Z",
     "start_time": "2019-06-21T05:18:08.655570Z"
    }
   },
   "outputs": [],
   "source": [
    "# 通过非阻塞io实现http请求\n",
    "# select + 回调 + 事件循环\n",
    "# 并发性高\n",
    "# 使用单线程\n",
    "\n",
    "import socket\n",
    "from urllib.parse import urlparse\n",
    "from selectors import DefaultSelector, EVENT_READ, EVENT_WRITE\n",
    "selector = DefaultSelector()\n",
    "urls = []\n",
    "stop = False\n",
    "request = \"GET {} HTTP/1.1\\r\\nHost:{}\\r\\nConnection:close\\r\\n\\r\\n\""
   ]
  },
  {
   "cell_type": "code",
   "execution_count": 19,
   "metadata": {
    "ExecuteTime": {
     "end_time": "2019-06-21T05:18:09.037840Z",
     "start_time": "2019-06-21T05:18:09.026409Z"
    }
   },
   "outputs": [],
   "source": [
    "class Fetcher(object):\n",
    "    def _connected(self, key):\n",
    "        \"\"\"socket 链接建立好之后的回调函数, 完成发送数据\n",
    "        \"\"\"\n",
    "        #首先需要取消原来注册的事件\n",
    "        selector.unregister(key.fd)\n",
    "        self.client.send(\n",
    "            request.format(self.path, self.host).encode(\"utf8\"))\n",
    "        #发送数据后, 继续监听socket是否可读\n",
    "        selector.register(self.client.fileno(), \n",
    "                          EVENT_READ, \n",
    "                           self._readable)\n",
    "\n",
    "    def _readable(self, key):\n",
    "        \"\"\"从内核空间读取数据到用户空间, 注意这里不能用while循环.\n",
    "        因为可读状态不代表内核空间的数据已经完成!而只要状态是可读的,\n",
    "        那么我们的时间循环里面就会一直调用回调函数完成隐式的while循环\n",
    "        \"\"\"\n",
    "        d = self.client.recv(1024)\n",
    "        if d:\n",
    "            self.data += d\n",
    "        else:\n",
    "            selector.unregister(key.fd)\n",
    "            data = self.data.decode('utf8')\n",
    "            html_data = data.split('\\r\\n\\r\\n')[1]\n",
    "            print(html_data)\n",
    "            self.client.close()\n",
    "            urls.remove(self.spider_url)\n",
    "            if not urls:\n",
    "                global stop\n",
    "                stop = True\n",
    "\n",
    "    def get_url(self, url):\n",
    "        self.spider_url = url\n",
    "        url = urlparse(url)\n",
    "        self.host = url.netloc\n",
    "        self.path = url.path\n",
    "        self.data = b''\n",
    "        if self.path == '':\n",
    "            self.path = '/'\n",
    "        # 建立socket链接\n",
    "        self.client = socket.socket(socket.AF_INET, socket.SOCK_STREAM)\n",
    "        self.client.setblocking(False)\n",
    "\n",
    "        try:\n",
    "            self.client.connect((self.host, 80))  # 阻塞不会消耗cpu\n",
    "        except BlockingIOError as e:\n",
    "            pass\n",
    "        # 注册\n",
    "        selector.register(fileobj=self.client.fileno(), #socket的文件描述符 \n",
    "                          events=EVENT_WRITE, #事件, 我们建立好链接后要向它发送请求\n",
    "                          data=self._connected #回调函数\n",
    "                         )"
   ]
  },
  {
   "cell_type": "markdown",
   "metadata": {},
   "source": [
    "1. selector 的 select方法返回一个 namedtuple list.\n",
    "2. 这个namedtuple(名字叫SelectorKey) 有四个值: fileobj, fd, events, data\n",
    "3. 回调函数放在data里, 注册时的文件描述符在fd里"
   ]
  },
  {
   "cell_type": "code",
   "execution_count": 20,
   "metadata": {
    "ExecuteTime": {
     "end_time": "2019-06-21T05:18:10.170980Z",
     "start_time": "2019-06-21T05:18:10.167178Z"
    }
   },
   "outputs": [],
   "source": [
    "def loop():\n",
    "    \"\"\"事件循环, 不停地请求socket的状态并且调用对应的回调函数, 注意:\n",
    "    1. select本身不支持register模式\n",
    "    2. socket状态变化后的回调是由程序员完成的\n",
    "    \"\"\"\n",
    "    while not stop:\n",
    "        ready = selector.select()\n",
    "        for key, value in ready:\n",
    "            #获得回调函数\n",
    "            call_back = key.data\n",
    "            call_back(key)"
   ]
  },
  {
   "cell_type": "code",
   "execution_count": 21,
   "metadata": {
    "ExecuteTime": {
     "end_time": "2019-06-21T05:18:13.444465Z",
     "start_time": "2019-06-21T05:18:11.107193Z"
    },
    "collapsed": true
   },
   "outputs": [
    {
     "name": "stdout",
     "output_type": "stream",
     "text": [
      "{\"detail\":\"未找到。\"}\n",
      "{\"id\":2,\"category\":{\"id\":116,\"sub_cat\":[{\"id\":117,\"sub_cat\":[],\"name\":\"参鲍\",\"code\":\"cb\",\"desc\":\"\",\"category_type\":3,\"is_tab\":false,\"add_time\":\"2017-07-29T18:56:33\",\"parent_category\":116},{\"id\":118,\"sub_cat\":[],\"name\":\"鱼\",\"code\":\"yu\",\"desc\":\"\",\"category_type\":3,\"is_tab\":false,\"add_time\":\"2017-07-29T18:56:33\",\"parent_category\":116},{\"id\":119,\"sub_cat\":[],\"name\":\"虾\",\"code\":\"xia\",\"desc\":\"\",\"category_type\":3,\"is_tab\":false,\"add_time\":\"2017-07-29T18:56:33\",\"parent_category\":116},{\"id\":120,\"sub_cat\":[],\"name\":\"蟹/贝\",\"code\":\"xb\",\"desc\":\"\",\"category_type\":3,\"is_tab\":false,\"add_time\":\"2017-07-29T18:56:33\",\"parent_category\":116}],\"name\":\"海鲜水产\",\"code\":\"hxsc\",\"desc\":\"\",\"category_type\":2,\"is_tab\":false,\"add_time\":\"2017-07-29T18:56:33\",\"parent_category\":110},\"images\":[{\"image\":\"http://shop.projectsedu.com/media/goods/images/2_P_1448945810202.jpg\"},{\"image\":\"http://shop.projectsedu.com/media/15_P_1448947257324.jpg\"},{\"image\":\"http://shop.projectsedu.com/media/2_20170719161405_249.jpg\"},{\"image\":\"http://shop.projectsedu.com/media/9_P_1448944791617.jpg\"}],\"goods_sn\":\"sssss\",\"name\":\"田然牛肉大黄瓜条生鲜牛肉冷冻真空黄牛\",\"click_num\":2325,\"sold_num\":100,\"fav_num\":0,\"goods_num\":-5,\"market_price\":106.0,\"shop_price\":88.0,\"goods_brief\":\"前腿+后腿+羊排共8斤，原生态大山放牧羊羔，曾经的皇室贡品，央视推荐，2005年北京招待全球财金首脑。五层专用包装箱+真空包装+冰袋+保鲜箱+顺丰冷链发货，路途保质期8天\",\"goods_desc\":\"<p><img src=\\\"/media/goods/images/2_20170719161405_249.jpg\\\" title=\\\"\\\" alt=\\\"2.jpg\\\"/> </p><p><img src=\\\"/media/goods/images/2_20170719161414_628.jpg\\\" title=\\\"\\\" alt=\\\"2.jpg\\\"/> </p><p><img src=\\\"/media/goods/images/2_20170719161435_381.jpg\\\" title=\\\"\\\" alt=\\\"2.jpg\\\"/> </p>\",\"ship_free\":true,\"goods_front_image\":\"http://shop.projectsedu.com/media/goods/images/2_P_1448945810202.jpg\",\"is_new\":false,\"is_hot\":false,\"add_time\":\"2017-07-31T23:53:00\"}\n",
      "{\"id\":1,\"category\":{\"id\":129,\"sub_cat\":[],\"name\":\"根茎类\",\"code\":\"gjl\",\"desc\":\"\",\"category_type\":2,\"is_tab\":false,\"add_time\":\"2017-07-29T18:56:34\",\"parent_category\":110},\"images\":[{\"image\":\"http://shop.projectsedu.com/media/goods/images/1_P_1449024889889.jpg\"},{\"image\":\"http://shop.projectsedu.com/media/goods/images/1_P_1449024889264.jpg\"},{\"image\":\"http://shop.projectsedu.com/media/goods/images/1_P_1449024889726.jpg\"},{\"image\":\"http://shop.projectsedu.com/media/goods/images/1_P_1449024889018.jpg\"},{\"image\":\"http://shop.projectsedu.com/media/goods/images/1_P_1449024889287.jpg\"}],\"goods_sn\":\"\",\"name\":\"新鲜水果甜蜜香脆单果约800克\",\"click_num\":2794,\"sold_num\":0,\"fav_num\":0,\"goods_num\":-16,\"market_price\":232.0,\"shop_price\":156.0,\"goods_brief\":\"食用百香果可以增加胃部饱腹感，减少余热量的摄入，还可以吸附胆固醇和胆汁之类有机分子，抑制人体对脂肪的吸收。因此，长期食用有利于改善人体营养吸收结构，降低体内脂肪，塑造健康优美体态。\",\"goods_desc\":\"<p><img src=\\\"/media/goods/images/2_20170719161405_249.jpg\\\" title=\\\"\\\" alt=\\\"2.jpg\\\"/></p><p><img src=\\\"/media/goods/images/2_20170719161414_628.jpg\\\" title=\\\"\\\" alt=\\\"2.jpg\\\"/></p><p><img src=\\\"/media/goods/images/2_20170719161435_381.jpg\\\" title=\\\"\\\" alt=\\\"2.jpg\\\"/></p>\",\"ship_free\":true,\"goods_front_image\":\"http://shop.projectsedu.com/media/goods/images/1_P_1449024889889.jpg\",\"is_new\":false,\"is_hot\":false,\"add_time\":\"2017-07-31T23:53:52\"}\n",
      "2.332660675048828\n"
     ]
    }
   ],
   "source": [
    "import time\n",
    "fetcher = Fetcher()\n",
    "start_time = time.time()\n",
    "for url in range(3):\n",
    "    url = 'http://shop.projectsedu.com/goods/{}/'.format(url)\n",
    "    urls.append(url)\n",
    "    fetcher = Fetcher()\n",
    "    fetcher.get_url(url)\n",
    "loop()\n",
    "print(time.time()-start_time)\n"
   ]
  },
  {
   "cell_type": "markdown",
   "metadata": {},
   "source": [
    "###### 回调之痛\n",
    "\n",
    "1. 原本深度优先的同步代码被割裂\n",
    "2. 回调函数执行不正常该怎么办?\n",
    "3. 回调里面嵌套回调怎么办??\n",
    "4. 嵌套回调里面出了异常怎么办??\n",
    "5. 变量共享??"
   ]
  },
  {
   "cell_type": "markdown",
   "metadata": {},
   "source": [
    "#### 协程"
   ]
  },
  {
   "cell_type": "markdown",
   "metadata": {},
   "source": [
    "###### 生成器的 send close 和 throw方法\n"
   ]
  },
  {
   "cell_type": "markdown",
   "metadata": {},
   "source": [
    "在生成器内部使用:\n",
    "```python\n",
    "a = yield 1\n",
    "```\n",
    "这行代码有两个用处: \n",
    "\n",
    "1. 向外部发送值(1) \n",
    "2. 从外部接受值并且赋值到 a\n",
    "当生成器运行到上面语句的位置时:\n",
    "\n",
    "```python\n",
    "#接收到1\n",
    "next(gen)\n",
    "#传递值并且赋值给a\n",
    "gen.send('a')\n",
    "\n",
    "```"
   ]
  },
  {
   "cell_type": "code",
   "execution_count": 28,
   "metadata": {
    "ExecuteTime": {
     "end_time": "2019-06-24T13:29:47.118806Z",
     "start_time": "2019-06-24T13:29:47.115871Z"
    }
   },
   "outputs": [],
   "source": [
    "def gen_func(): \n",
    "    yield 0\n",
    "    a = yield 1\n",
    "    print(a)\n",
    "    yield 2\n",
    "    yield 3"
   ]
  },
  {
   "cell_type": "code",
   "execution_count": 29,
   "metadata": {
    "ExecuteTime": {
     "end_time": "2019-06-24T13:29:47.636253Z",
     "start_time": "2019-06-24T13:29:47.632143Z"
    }
   },
   "outputs": [
    {
     "name": "stdout",
     "output_type": "stream",
     "text": [
      "0\n",
      "1\n",
      "a\n",
      "2\n"
     ]
    }
   ],
   "source": [
    "gen = gen_func()\n",
    "print(next(gen))\n",
    "#注意, 第二次调用next方法, 会先执行等式右边的语句, 传出 1\n",
    "print(next(gen))\n",
    "#send方法重启生成器并且执行到下一句yield\n",
    "print(gen.send('a'))"
   ]
  },
  {
   "cell_type": "markdown",
   "metadata": {},
   "source": [
    "通过使用\n",
    "\n",
    "```python\n",
    "gen.close()\n",
    "```\n",
    "在生成器暂停的yield语句之前抛入**GeneratorExit**异常, 注意:\n",
    "\n",
    "1. 调用了close方法后如果**生成器内部捕捉到异常并且不作任何处理**, 且**还有未执行的yield语句**则会向外抛出**RuntimeError**异常.\n",
    "2. 如果不想抛出RuntimeError异常可以不做异常捕捉, 或者在生成器内部捕捉到GeneratorExit异常后 raise StopIteraion"
   ]
  },
  {
   "cell_type": "code",
   "execution_count": 1,
   "metadata": {
    "ExecuteTime": {
     "end_time": "2019-06-26T10:10:12.346927Z",
     "start_time": "2019-06-26T10:10:12.343418Z"
    }
   },
   "outputs": [],
   "source": [
    "def gen_func():\n",
    "    yield 1\n",
    "    try:\n",
    "        yield 2\n",
    "    except RuntimeError:\n",
    "        yield 5\n",
    "    yield 3\n",
    "    yield 4"
   ]
  },
  {
   "cell_type": "markdown",
   "metadata": {},
   "source": [
    "下面调用生成器的throw方法, 注意:\n",
    "\n",
    "1. 在生成器内部异常的位置是当前**暂停处yield的之前的yield的位置**;\n",
    "2. 如果生成器内部捕捉到到了异常, 那么暂停处之前的yield不会被执行(它在try语句里面), 会转而执行except; 如果except为里面没有yield,当前暂停处的yield语句会被执行."
   ]
  },
  {
   "cell_type": "code",
   "execution_count": 2,
   "metadata": {
    "ExecuteTime": {
     "end_time": "2019-06-26T10:10:33.105557Z",
     "start_time": "2019-06-26T10:10:33.101762Z"
    }
   },
   "outputs": [
    {
     "name": "stdout",
     "output_type": "stream",
     "text": [
      "1\n",
      "2\n"
     ]
    }
   ],
   "source": [
    "gen = gen_func()\n",
    "print(next(gen))\n",
    "print(next(gen))\n",
    "#gen.throw(RuntimeError, '')"
   ]
  },
  {
   "cell_type": "code",
   "execution_count": 5,
   "metadata": {
    "ExecuteTime": {
     "end_time": "2019-06-26T10:12:26.139970Z",
     "start_time": "2019-06-26T10:12:26.135456Z"
    }
   },
   "outputs": [
    {
     "name": "stdout",
     "output_type": "stream",
     "text": [
      "1\n",
      "2\n",
      "5\n"
     ]
    }
   ],
   "source": [
    "gen = gen_func()\n",
    "print(next(gen))\n",
    "print(next(gen))\n",
    "#注意此时生成器停在 yield 3的位置,\n",
    "#调用 throw 方法后会进入 yield 3 之前的\n",
    "#那个 yield语句(也就是 yield 2)的位置\n",
    "#抛入异常\n",
    "print(gen.throw(RuntimeError, ''))"
   ]
  },
  {
   "cell_type": "markdown",
   "metadata": {},
   "source": [
    "###### 生成器的 yield from 方法\n",
    "\n",
    "yield from 后面需要跟 iterable 对象(注意生成器函数也是可迭代的)"
   ]
  },
  {
   "cell_type": "code",
   "execution_count": 6,
   "metadata": {
    "ExecuteTime": {
     "end_time": "2019-06-26T10:41:03.817926Z",
     "start_time": "2019-06-26T10:41:03.814686Z"
    }
   },
   "outputs": [],
   "source": [
    "#实现 itertools.chain方法\n",
    "def my_chain(*args):\n",
    "    for arg in args:\n",
    "        yield from arg"
   ]
  },
  {
   "cell_type": "code",
   "execution_count": 12,
   "metadata": {
    "ExecuteTime": {
     "end_time": "2019-06-26T13:20:16.299224Z",
     "start_time": "2019-06-26T13:20:16.294568Z"
    }
   },
   "outputs": [
    {
     "name": "stdout",
     "output_type": "stream",
     "text": [
      "1\n",
      "a\n",
      "-2\n"
     ]
    }
   ],
   "source": [
    "my_list = [1]\n",
    "my_dict = {'a': 1}\n",
    "my_range = range(-2,-1)\n",
    "for value in my_chain(my_list, my_dict, my_range):\n",
    "    print(value)"
   ]
  },
  {
   "cell_type": "markdown",
   "metadata": {},
   "source": [
    "注意 yield 和 yield from 的区别"
   ]
  },
  {
   "cell_type": "code",
   "execution_count": 17,
   "metadata": {
    "ExecuteTime": {
     "end_time": "2019-06-26T13:26:37.933072Z",
     "start_time": "2019-06-26T13:26:37.927870Z"
    }
   },
   "outputs": [
    {
     "name": "stdout",
     "output_type": "stream",
     "text": [
      "range(1, 3)\n",
      "1\n",
      "2\n"
     ]
    }
   ],
   "source": [
    "#直接生成 range(1, 3)\n",
    "def g1():\n",
    "    yield range(1, 3)\n",
    "\n",
    "#可以直接拿来迭代\n",
    "def g2():\n",
    "    yield from range(1, 3)\n",
    "\n",
    "for g in g1():\n",
    "    print(g)\n",
    "for g in g2():\n",
    "    print(g)"
   ]
  },
  {
   "cell_type": "markdown",
   "metadata": {},
   "source": [
    "**重要**: yield from 在调用方和子生成器之间建立了**双向通道**\n",
    "在下面的代码中:\n",
    "\n",
    "1. main函数: 调用方\n",
    "2. g1: 委托生成器\n",
    "3. gen: 子生成器\n",
    "\n",
    "**子生成器退出时会发出StopIteration异常**, 这个异常只能在调用者处处理, 如果不想处理\n",
    "需要在委托生成器中加入while循环"
   ]
  },
  {
   "cell_type": "code",
   "execution_count": 20,
   "metadata": {
    "ExecuteTime": {
     "end_time": "2019-06-27T01:41:06.398734Z",
     "start_time": "2019-06-27T01:41:06.390780Z"
    }
   },
   "outputs": [],
   "source": [
    "def gen():\n",
    "    print('子生成器激活')\n",
    "    x = yield\n",
    "    print(x)\n",
    "    print('子生成器终止')\n",
    "    return\n",
    "def g1():\n",
    "    print('委托生成器激活')\n",
    "    yield 3\n",
    "    print('委托生成器激活子生成器')\n",
    "    yield from gen()\n",
    "    print('委托生成器终止')\n",
    "\n",
    "def g2():\n",
    "    print('委托生成器激活')\n",
    "    yield 3\n",
    "    while True:\n",
    "        print('委托生成器激活子生成器')\n",
    "        yield from gen()\n",
    "    print('委托生成器终止')\n",
    "    \n",
    "\n",
    "#调用方可以直接访问到子生成器 gen\n",
    "def main1():\n",
    "    g = g1()\n",
    "    # 激活委托生成器\n",
    "    print(next(g))\n",
    "    # 激活子生成器\n",
    "    next(g)\n",
    "    try:\n",
    "        g.send(15)\n",
    "    except StopIteration:\n",
    "        print('调用者退出')\n",
    "\n",
    "\n",
    "def main2():\n",
    "    g = g2()\n",
    "    print(next(g))\n",
    "    # 激活子生成器\n",
    "    next(g)\n",
    "    g.send(15)\n",
    "    g.send(None)\n",
    "    print('调用者退出')    \n",
    "    "
   ]
  },
  {
   "cell_type": "code",
   "execution_count": 21,
   "metadata": {
    "ExecuteTime": {
     "end_time": "2019-06-27T01:41:06.976736Z",
     "start_time": "2019-06-27T01:41:06.972619Z"
    }
   },
   "outputs": [
    {
     "name": "stdout",
     "output_type": "stream",
     "text": [
      "委托生成器激活\n",
      "3\n",
      "委托生成器激活子生成器\n",
      "子生成器激活\n",
      "15\n",
      "子生成器终止\n",
      "委托生成器终止\n",
      "调用者退出\n"
     ]
    }
   ],
   "source": [
    "main1()"
   ]
  },
  {
   "cell_type": "code",
   "execution_count": 22,
   "metadata": {
    "ExecuteTime": {
     "end_time": "2019-06-27T01:41:08.246489Z",
     "start_time": "2019-06-27T01:41:08.241810Z"
    }
   },
   "outputs": [
    {
     "name": "stdout",
     "output_type": "stream",
     "text": [
      "委托生成器激活\n",
      "3\n",
      "委托生成器激活子生成器\n",
      "子生成器激活\n",
      "15\n",
      "子生成器终止\n",
      "委托生成器激活子生成器\n",
      "子生成器激活\n",
      "None\n",
      "子生成器终止\n",
      "委托生成器激活子生成器\n",
      "子生成器激活\n",
      "调用者退出\n"
     ]
    }
   ],
   "source": [
    "main2()"
   ]
  },
  {
   "cell_type": "markdown",
   "metadata": {},
   "source": [
    "一个简单的应用:"
   ]
  },
  {
   "cell_type": "code",
   "execution_count": 5,
   "metadata": {
    "ExecuteTime": {
     "end_time": "2019-06-27T00:38:16.032904Z",
     "start_time": "2019-06-27T00:38:16.021709Z"
    }
   },
   "outputs": [],
   "source": [
    "final_result = {}\n",
    "#子生成器\n",
    "def sales_sum(pro_name):\n",
    "    total = 0\n",
    "    nums = []\n",
    "    print('子生成器激活')\n",
    "    while True:\n",
    "        print(pro_name + '等待接受.')\n",
    "        x = yield\n",
    "        if x is None:\n",
    "            print('子生成器终止')\n",
    "            break\n",
    "        else:\n",
    "            print(pro_name+'销量: ', x)\n",
    "            total += x\n",
    "            nums.append(x)\n",
    "    print('子生成器循环终止.')\n",
    "    return total, nums\n",
    "    \n",
    "    \n",
    "        \n",
    "#委托生成器\n",
    "def middle(key):\n",
    "    print('委托生成器激活.')\n",
    "    i = 0\n",
    "    while True:\n",
    "        print('第{0}次进入while循环'.format(i+1))\n",
    "#         a = yield\n",
    "#         print(a)\n",
    "        final_result[key] = yield from sales_sum(key)\n",
    "        print(key+ '销量统计完成.')\n",
    "        i += 1\n",
    "    print('委托生成器循环终止.')\n",
    "\n",
    "def main():\n",
    "    #准备测试数据集,\n",
    "    #注意实际应用中数据集可能是不定长的\n",
    "    data_sets = {\n",
    "        '面膜' : [1200, 1500, 3000],\n",
    "        '手机' : [28, 55, 98, 108],\n",
    "        '大衣' : [280, 560, 778, 70]\n",
    "    }\n",
    "    for key, data_set in data_sets.items():\n",
    "        print('开始统计: ', key)\n",
    "        #建立子生成器和调用者的通道\n",
    "        m = middle(key)\n",
    "        \n",
    "        print('调用者开始激活.')\n",
    "        #重要: 调用者通过激活委托生成器来激活子生成器\n",
    "        #1. 委托生成器激活\n",
    "        #2. 第一次进入(委托生成器)while循环\n",
    "        #3. 子生成器激活\n",
    "        next(m)\n",
    "        for value in data_set:\n",
    "            #4. XX等待接受\n",
    "            m.send(value)\n",
    "            #5. XX销量: YY\n",
    "        \n",
    "        #6.子生成器终止\n",
    "        #7. 子生成器循环终止\n",
    "        \n",
    "        #子生成器return, 并且抛出 StopIteration异常;\n",
    "        #yield from 会自动将return赋值给等号左边\n",
    "        \n",
    "        #8. XX销量统计完成\n",
    "        #注意看这里: \n",
    "        ###9.第二次进入while循环\n",
    "        ###10. 自生成器激活\n",
    "        ###11. 面膜等待接受\n",
    "        m.send(None)\n",
    "        #这时我们可以再send一个, 当然无意义.....\n",
    "        m.send(30000)\n",
    "        break\n",
    "    print('Final Result:', final_result)"
   ]
  },
  {
   "cell_type": "code",
   "execution_count": 6,
   "metadata": {
    "ExecuteTime": {
     "end_time": "2019-06-27T00:38:16.613728Z",
     "start_time": "2019-06-27T00:38:16.607605Z"
    }
   },
   "outputs": [
    {
     "name": "stdout",
     "output_type": "stream",
     "text": [
      "开始统计:  面膜\n",
      "调用者开始激活.\n",
      "委托生成器激活.\n",
      "第1次进入while循环\n",
      "1200\n",
      "子生成器激活\n",
      "面膜等待接受.\n",
      "面膜销量:  1500\n",
      "面膜等待接受.\n",
      "面膜销量:  3000\n",
      "面膜等待接受.\n",
      "子生成器终止\n",
      "子生成器循环终止.\n",
      "面膜销量统计完成.\n",
      "第2次进入while循环\n",
      "30000\n",
      "子生成器激活\n",
      "面膜等待接受.\n",
      "Final Result: {'面膜': (4500, [1500, 3000])}\n"
     ]
    }
   ],
   "source": [
    "main()"
   ]
  },
  {
   "cell_type": "markdown",
   "metadata": {},
   "source": [
    "###### yield from 大致原理\n",
    "\n",
    "```python\n",
    "RESULT = yield from EXPR\n",
    "```\n",
    "\n",
    "一些说明:\n",
    "1. \\_i: 子生成器, 同时也是迭代器\n",
    "2. \\_y: 子生成器 yield的值\n",
    "3. \\_r: yield from 表达式的最终值\n",
    "4. \\_s: 调用者通过send 发送的值\n",
    "5. \\_e: 异常对象"
   ]
  },
  {
   "cell_type": "code",
   "execution_count": 23,
   "metadata": {
    "ExecuteTime": {
     "end_time": "2019-06-27T02:20:00.392597Z",
     "start_time": "2019-06-27T02:20:00.387258Z"
    }
   },
   "outputs": [],
   "source": [
    "#这个函数模拟了委托生成器内部的 yield from语句\n",
    "def do_not_run():\n",
    "    \n",
    "    # EXPR 是可迭代对象, _i 是子生成器\n",
    "    _i = iter(EXPR) \n",
    "    try:\n",
    "        #激活子生成器并且把子生成器\n",
    "        #第一个产出的值存储在_y中\n",
    "        _y = next(_i) \n",
    "    except StopIteration as _e:\n",
    "        #如果抛出了 StopIteration 异常,\n",
    "        #那么将异常的值储存在 _r中\n",
    "        _r = _e.value\n",
    "    else:\n",
    "        #子生成器进入循环\n",
    "        #委托生成器阻塞\n",
    "        while True:\n",
    "            #将子生成器的第一个值 _y发送给调用者并且\n",
    "            #等待调用者传递 _s给委托生成器\n",
    "            _s = yield _y\n",
    "            try:\n",
    "                #委托生成器将_s转发给子生成器_i\n",
    "                #并且接受子生成器生成的值 _y\n",
    "                _y = _i.send(_s)\n",
    "            except StopIteration as _e:\n",
    "                #获取异常\n",
    "                _r = _e.value\n",
    "                break\n",
    "    \n",
    "    #_r是整个 yield from 表达式的返回值\n",
    "    RESULT = _r"
   ]
  },
  {
   "cell_type": "markdown",
   "metadata": {},
   "source": [
    "上面的代码只是简化了 yield from 的流程, 我们还需要考虑更多的边界情况:\n",
    "\n",
    "1. 子生成器可能只是一个迭代器, 而不是生成器函数, 所以不支持throw和send方法\n",
    "2. 子生成器是生成器函数, 但是在调用子生成器的 throw 和 close 方法都会抛出异常\n",
    "3. 调用者让子生成器自己抛出异常\n",
    "4. 当调方使用next或者send时, 都要在子生成器上调用next函数; 当调用方使用send发送非 None值时, 才会调用子生成器的 send 方法."
   ]
  },
  {
   "cell_type": "code",
   "execution_count": null,
   "metadata": {
    "ExecuteTime": {
     "end_time": "2019-06-27T05:47:31.377303Z",
     "start_time": "2019-06-27T05:47:31.368455Z"
    },
    "code_folding": [
     3
    ]
   },
   "outputs": [],
   "source": [
    "import sys\n",
    "def do_not_fucking_run():\n",
    "    _i = iter(EXPR)\n",
    "    try:\n",
    "        _y = next(_i)\n",
    "    except StopIteration as _e:\n",
    "        _r = _e.value\n",
    "    else:\n",
    "        while True:\n",
    "            try:\n",
    "                _s = yield _y\n",
    "            ##调用者可能会终止委托生成器\n",
    "            ##此时如果_i是生成器需要调用_i 的close方法\n",
    "            except GeneratorExit as _e:\n",
    "                try:\n",
    "                    _m = _i.close\n",
    "                except AttributeError:\n",
    "                    pass\n",
    "                else:\n",
    "                    _m()\n",
    "                finally:\n",
    "                    raise _e\n",
    "            ## 委托生成器也可能捕获到其它异常\n",
    "            ## 此时如果_i是生成器需要调用_i的throw\n",
    "            ## 方法抛入这个异常;如果_i不是生成器\n",
    "            ## 就直接raise这个异常\n",
    "            except BaseException as _e:\n",
    "                _x = sys.exc_info()\n",
    "                try:\n",
    "                    _m = _i.throw\n",
    "                except AttributeError:\n",
    "                    raise _e\n",
    "                else:\n",
    "                    try:\n",
    "                        _y = _m(*_x)\n",
    "                    except StopIteration as _e:\n",
    "                        _r = _e.value\n",
    "                        break\n",
    "            ##如果成功yield了_i产生的第一个值\n",
    "            ##并且成功接收到调用者发送来的值\n",
    "            ##那么调用子生成器的next或者send方法\n",
    "            ##需要捕捉子生成器的StopIteration异常\n",
    "            else:\n",
    "                try:\n",
    "                    if _s is None:\n",
    "                        _y = next(_i)\n",
    "                    else:\n",
    "                        _y = _i.send(_s)\n",
    "                except StopIteration as _e:\n",
    "                    _r = _e.value\n",
    "                    break\n",
    "    RESULT = _r       "
   ]
  },
  {
   "cell_type": "markdown",
   "metadata": {},
   "source": [
    "<center>总结</center>\n",
    "\n",
    "1. 子生成器退出时在 return处会抛出StopIteration异常\n",
    "2. yield from表达式的值, 是子生成器终止时传递给子生成器的**SopIteration异常的第一个参数**\n",
    "3. 如果子生成器抛出StopIteration异常, 委托生成器会停止阻塞(while循环终止),同时StopIteration异常会\"冒泡\"上传\n",
    "4. 传入委托生成器的异常除了GeneratorExit外, 都会调用子生成器的throw方法传入子生成器\n",
    "5. 如果调用委托生成器的close方法 或者传入GeneratorExit异常, 会调用子生成器的close方法\n",
    "6. 4和5中调用子生成器的的throw和close方法时如果子生成器抛出StopIteration异常, 那么委托生成器停止阻塞, 异常向上\"冒泡\""
   ]
  },
  {
   "cell_type": "markdown",
   "metadata": {},
   "source": [
    "### 进程池"
   ]
  },
  {
   "cell_type": "code",
   "execution_count": 1,
   "metadata": {},
   "outputs": [],
   "source": [
    "#下面用最大公约数算法来模拟 计算密集型的应用\n",
    "#时间复杂度 O(n)\n",
    "def gcd(pair):\n",
    "    a, b = pair\n",
    "    low = min(a, b)\n",
    "    for i in range(low, 0, -1):\n",
    "        if a % i == 0 and b % i == 0 :\n",
    "            return i"
   ]
  },
  {
   "cell_type": "code",
   "execution_count": 2,
   "metadata": {},
   "outputs": [],
   "source": [
    "numbers = [(1963309, 2265973), (2030677, 3814172), \n",
    "           (1551645, 2229620), (2039045, 2020802)]"
   ]
  },
  {
   "cell_type": "code",
   "execution_count": 3,
   "metadata": {},
   "outputs": [
    {
     "name": "stdout",
     "output_type": "stream",
     "text": [
      "Took 0.488 seconds\n"
     ]
    }
   ],
   "source": [
    "from time import time\n",
    "start = time()\n",
    "results = list(map(gcd, numbers))\n",
    "end = time()\n",
    "print('Took %.3f seconds' % (end - start))"
   ]
  },
  {
   "cell_type": "code",
   "execution_count": 5,
   "metadata": {},
   "outputs": [],
   "source": [
    "#按照前面的结论, 用Thread模块不会加速, 因为GIL\n",
    "#解决方案: concurrent.futures"
   ]
  },
  {
   "cell_type": "code",
   "execution_count": 6,
   "metadata": {},
   "outputs": [],
   "source": [
    "from concurrent.futures import ThreadPoolExecutor"
   ]
  },
  {
   "cell_type": "code",
   "execution_count": 8,
   "metadata": {},
   "outputs": [
    {
     "name": "stdout",
     "output_type": "stream",
     "text": [
      "Took 0.506 seconds\n"
     ]
    }
   ],
   "source": [
    "#这样会更慢, 因为线程的启动和交流耗时\n",
    "start = time()\n",
    "pool = ThreadPoolExecutor(max_workers = 2)\n",
    "results = list(pool.map(gcd, numbers))\n",
    "end = time()\n",
    "print(\"Took %.3f seconds\" % (end - start))"
   ]
  },
  {
   "cell_type": "code",
   "execution_count": 9,
   "metadata": {},
   "outputs": [
    {
     "name": "stdout",
     "output_type": "stream",
     "text": [
      "Took 0.320 seconds\n"
     ]
    }
   ],
   "source": [
    "from concurrent.futures import ProcessPoolExecutor\n",
    "start = time()\n",
    "pool = ProcessPoolExecutor(max_workers = 2)\n",
    "results = list(pool.map(gcd, numbers))\n",
    "end = time()\n",
    "print(\"Took %.3f seconds\" % (end - start))"
   ]
  },
  {
   "cell_type": "code",
   "execution_count": 10,
   "metadata": {},
   "outputs": [],
   "source": [
    "#下面简单解释一下 ProcessPoolExecutor 是如何工作的\n",
    "##1. 从 numbers 将每个元素元素取到 map里\n",
    "##2. 将map的数据 序列化, 通过pickle模块\n",
    "##3. 将序列化的数据从主进程copy到子进程里\n",
    "##4. 子进程中用pickle模块 将数据解序列化\n",
    "##5. 子进程中将包含有 gcd函数的模块导入\n",
    "##6. 每个子进程gcd函数\n",
    "##7. 将结果序列化\n",
    "##8. 将序列化的结果 copy回 socket\n",
    "##9. 在主进程中将结果解序列化\n",
    "##10. 主进程中将这些结果合并成列表"
   ]
  }
 ],
 "metadata": {
  "kernelspec": {
   "display_name": "Python 3",
   "language": "python",
   "name": "python3"
  },
  "language_info": {
   "codemirror_mode": {
    "name": "ipython",
    "version": 3
   },
   "file_extension": ".py",
   "mimetype": "text/x-python",
   "name": "python",
   "nbconvert_exporter": "python",
   "pygments_lexer": "ipython3",
   "version": "3.6.8"
  },
  "toc": {
   "base_numbering": 1,
   "nav_menu": {},
   "number_sections": true,
   "sideBar": false,
   "skip_h1_title": false,
   "title_cell": "Table of Contents",
   "title_sidebar": "Contents",
   "toc_cell": false,
   "toc_position": {},
   "toc_section_display": true,
   "toc_window_display": false
  },
  "varInspector": {
   "cols": {
    "lenName": 16,
    "lenType": 16,
    "lenVar": 40
   },
   "kernels_config": {
    "python": {
     "delete_cmd_postfix": "",
     "delete_cmd_prefix": "del ",
     "library": "var_list.py",
     "varRefreshCmd": "print(var_dic_list())"
    },
    "r": {
     "delete_cmd_postfix": ") ",
     "delete_cmd_prefix": "rm(",
     "library": "var_list.r",
     "varRefreshCmd": "cat(var_dic_list()) "
    }
   },
   "types_to_exclude": [
    "module",
    "function",
    "builtin_function_or_method",
    "instance",
    "_Feature"
   ],
   "window_display": false
  }
 },
 "nbformat": 4,
 "nbformat_minor": 2
}
