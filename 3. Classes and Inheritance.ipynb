{
 "cells": [
  {
   "cell_type": "markdown",
   "metadata": {
    "toc": true
   },
   "source": [
    "<h1>Table of Contents<span class=\"tocSkip\"></span></h1>\n",
    "<div class=\"toc\"><ul class=\"toc-item\"><li><span><a href=\"#用Class来封装繁琐的字典和tuples\" data-toc-modified-id=\"用Class来封装繁琐的字典和tuples-1\"><span class=\"toc-item-num\">1&nbsp;&nbsp;</span>用Class来封装繁琐的字典和tuples</a></span></li><li><span><a href=\"#利用call方法将class当成hook\" data-toc-modified-id=\"利用call方法将class当成hook-2\"><span class=\"toc-item-num\">2&nbsp;&nbsp;</span>利用<strong>call</strong>方法将class当成hook</a></span></li><li><span><a href=\"#用类方法来生成类的实例\" data-toc-modified-id=\"用类方法来生成类的实例-3\"><span class=\"toc-item-num\">3&nbsp;&nbsp;</span>用类方法来生成类的实例</a></span></li><li><span><a href=\"#用-super().__init__初始化父类\" data-toc-modified-id=\"用-super().__init__初始化父类-4\"><span class=\"toc-item-num\">4&nbsp;&nbsp;</span>用 super().__init__初始化父类</a></span></li><li><span><a href=\"#Min-in-基础类\" data-toc-modified-id=\"Min-in-基础类-5\"><span class=\"toc-item-num\">5&nbsp;&nbsp;</span>Min-in 基础类</a></span></li><li><span><a href=\"#不要用私有成员,-用受保护的成员-+-文档标注\" data-toc-modified-id=\"不要用私有成员,-用受保护的成员-+-文档标注-6\"><span class=\"toc-item-num\">6&nbsp;&nbsp;</span>不要用私有成员, 用受保护的成员 + 文档标注</a></span></li><li><span><a href=\"#当基类的成员名字和子类的成员名字可能冲突时,-考虑私有成员\" data-toc-modified-id=\"当基类的成员名字和子类的成员名字可能冲突时,-考虑私有成员-7\"><span class=\"toc-item-num\">7&nbsp;&nbsp;</span>当基类的成员名字和子类的成员名字可能冲突时, 考虑私有成员</a></span></li><li><span><a href=\"#从-collections.abc-继承传统的容器类\" data-toc-modified-id=\"从-collections.abc-继承传统的容器类-8\"><span class=\"toc-item-num\">8&nbsp;&nbsp;</span>从 collections.abc 继承传统的容器类</a></span></li></ul></div>"
   ]
  },
  {
   "cell_type": "markdown",
   "metadata": {},
   "source": [
    "### 用Class来封装繁琐的字典和tuples"
   ]
  },
  {
   "cell_type": "code",
   "execution_count": 1,
   "metadata": {},
   "outputs": [],
   "source": [
    "#我们用namedtuple模块来抽象 Grade对象\n",
    "from collections import namedtuple\n",
    "Grade =  namedtuple('Grade', ('score', 'weight'))\n",
    "\n",
    "#namedtuple 的几个注意点\n",
    "##1. 你无法为namedtuple指定默认值\n",
    "##2. namedtuple的属性仍然可以通过索引和迭代来访问\n",
    "\n",
    "#因此做好权衡,要么自己定义Grade Class"
   ]
  },
  {
   "cell_type": "code",
   "execution_count": 2,
   "metadata": {},
   "outputs": [],
   "source": [
    "#下面定义学科类,他的元素是 grade的列表\n",
    "class Subject(object):\n",
    "    def __init__(self):\n",
    "        self._grades = []\n",
    "    def report_grade(self, score, weight):\n",
    "        self._grades.append(Grade(score, weight))\n",
    "    def average_grade(self):\n",
    "        total, total_weight = 0, 0\n",
    "        for grade in self._grades:\n",
    "            total += grade.score * grade.weight\n",
    "            total_weight += grade.weight\n",
    "        return total / total_weight"
   ]
  },
  {
   "cell_type": "code",
   "execution_count": 3,
   "metadata": {},
   "outputs": [],
   "source": [
    "#最后定义学生类,他有一个字典,里面储存了每个学科\n",
    "class Student(object):\n",
    "    def __init__(self):\n",
    "        self._subjects = {}\n",
    "    def subject(self, name):\n",
    "        if name not in self._subjects:\n",
    "            self._subjects[name] = Subject()\n",
    "        return self._subjects[name]\n",
    "    def average_grade(self):\n",
    "        total, count = 0, 0\n",
    "        for subject in self._subjects.values():\n",
    "            total += subject.average_grade()\n",
    "            count += 1\n",
    "        return total / count"
   ]
  },
  {
   "cell_type": "code",
   "execution_count": null,
   "metadata": {},
   "outputs": [],
   "source": [
    "#最后定义 成绩单类, 储存了每个学生\n",
    "class Gradebook(object):\n",
    "    def __init__(self):\n",
    "        self._students = {}\n",
    "    def student(self, name):\n",
    "        if name not in self._students:\n",
    "            self._students[name] = Student()\n",
    "        return self._students[name]"
   ]
  },
  {
   "cell_type": "code",
   "execution_count": null,
   "metadata": {},
   "outputs": [],
   "source": [
    "##层层封装,这样每个类的属性都是 另一个更小的类的实例的字典/列表"
   ]
  },
  {
   "cell_type": "markdown",
   "metadata": {},
   "source": [
    "### 利用__call__方法将class当成hook"
   ]
  },
  {
   "cell_type": "code",
   "execution_count": 1,
   "metadata": {},
   "outputs": [
    {
     "name": "stdout",
     "output_type": "stream",
     "text": [
      "Before: {'green': 12, 'blue': 13}\n",
      "Key added\n",
      "Key added\n",
      "After: {'green': 12, 'blue': 30, 'red': 5, 'orange': 9}\n"
     ]
    }
   ],
   "source": [
    "from collections import defaultdict\n",
    "current = {'green': 12, 'blue': 13}\n",
    "increments = [\n",
    "    ('red', 5), \n",
    "    ('blue', 17), \n",
    "    ('orange', 9),\n",
    "]\n",
    "def log_missing():\n",
    "    print('Key added')\n",
    "    return 0\n",
    "\n",
    "result = defaultdict(log_missing, current)\n",
    "print('Before:', dict(result))\n",
    "for key, amount in increments:\n",
    "    result[key] += amount\n",
    "print('After:', dict(result))"
   ]
  },
  {
   "cell_type": "code",
   "execution_count": 2,
   "metadata": {},
   "outputs": [],
   "source": [
    "#上面的实现不错, 它易于测试和阅读"
   ]
  },
  {
   "cell_type": "code",
   "execution_count": 4,
   "metadata": {},
   "outputs": [],
   "source": [
    "#如果你想为log_missing增加一些复杂的功能 比如维持一个状态，\n",
    "#你可以考虑封装成class\n",
    "\n",
    "class CountMissing(object):\n",
    "    def __init__(self):\n",
    "        self.added = 0\n",
    "    def __call__(self):\n",
    "        self.added += 1\n",
    "        return 0\n",
    "counter = CountMissing()\n",
    "assert callable(counter)"
   ]
  },
  {
   "cell_type": "code",
   "execution_count": 5,
   "metadata": {},
   "outputs": [
    {
     "name": "stdout",
     "output_type": "stream",
     "text": [
      "2\n"
     ]
    }
   ],
   "source": [
    "counter = CountMissing()\n",
    "#会调用__call__\n",
    "result = defaultdict(counter, current)\n",
    "for key, amount in increments:\n",
    "    result[key] += amount\n",
    "print(counter.added)"
   ]
  },
  {
   "cell_type": "markdown",
   "metadata": {},
   "source": [
    "### 用类方法来生成类的实例"
   ]
  },
  {
   "cell_type": "code",
   "execution_count": 6,
   "metadata": {},
   "outputs": [],
   "source": [
    "#假设你要实现一个MapReduce\n",
    "\n",
    "from threading import Thread\n",
    "#多线程执行函数\n",
    "def excute(workers):\n",
    "    #多线程map\n",
    "    threads = [Thread(target = w.map) for w in workers]\n",
    "    for thread in threads:\n",
    "        thread.start()\n",
    "    for thread in threads:\n",
    "        thread.join()\n",
    "    #将结果reduce到第一个worker\n",
    "    first, rest = workers[0], workers[1:]\n",
    "    for worker in rest:\n",
    "        first.reduce(worker)\n",
    "    return first.result"
   ]
  },
  {
   "cell_type": "code",
   "execution_count": 7,
   "metadata": {},
   "outputs": [],
   "source": [
    "#下面实现读取数据的接口\n",
    "import os\n",
    "#一个抽象的读取数据的基类\n",
    "class GenericInputData(object):\n",
    "    def read(self):\n",
    "        raise NotImplementedError\n",
    "    @classmethod\n",
    "    def generate_inputs(cls, config):\n",
    "        raise NotImplementedError\n",
    "\n",
    "class PathInputData(object):\n",
    "    def __init__(self, path):\n",
    "        super().__init__()\n",
    "        self.path = path\n",
    "    def read(self):\n",
    "        return open(self.path).read()\n",
    "    \n",
    "    #每一个PathInputData的实例负责读取一个文件\n",
    "    #用类方法将生成类的实例的代码包含在类里面,使得代码更加紧凑\n",
    "    @classmethod\n",
    "    def generate_inputs(cls, config):\n",
    "        data_dir = config['data_dir']\n",
    "        for name in os.listdir(data_dir):\n",
    "            yield cls(os.path.join(data_dir, name))"
   ]
  },
  {
   "cell_type": "code",
   "execution_count": 9,
   "metadata": {},
   "outputs": [],
   "source": [
    "#worker接口\n",
    "class GenericWorker(object):\n",
    "    def map(self):\n",
    "        raise NotImplementedError\n",
    "    def reduce(self, other):\n",
    "        raise NotImplementedError\n",
    "    @classmethod\n",
    "    def create_workers(cls, input_class, config):\n",
    "        workers = []\n",
    "        for input_data in input_class.generate_inputs(config):\n",
    "            workers.append(cls(input_data))\n",
    "        return workers\n",
    "class LineCountWorker(GenericWorker):\n",
    "    pass"
   ]
  },
  {
   "cell_type": "code",
   "execution_count": 11,
   "metadata": {},
   "outputs": [],
   "source": [
    "#mapreduce 函数将上面的两个类连接起来\n",
    "def mapreduce(worker_class, input_class, config):\n",
    "    workers = worker_class.create_workers(input_class, config)\n",
    "    return excute(workers)\n",
    "\n",
    "#mapreduce(LineCountWorker, PathInputData, config)"
   ]
  },
  {
   "cell_type": "markdown",
   "metadata": {},
   "source": [
    "### 用 super().\\_\\_init\\_\\_初始化父类"
   ]
  },
  {
   "cell_type": "markdown",
   "metadata": {},
   "source": [
    "### Min-in 基础类"
   ]
  },
  {
   "cell_type": "code",
   "execution_count": 12,
   "metadata": {},
   "outputs": [],
   "source": [
    "#Min-in 是一个很小的类,只提供了一些额外的操作来让继承它的子类使用"
   ]
  },
  {
   "cell_type": "code",
   "execution_count": 16,
   "metadata": {},
   "outputs": [],
   "source": [
    "#ToDictMixin类提供了返回类成员的嵌套字典的方法 \n",
    "class ToDictMixin(object):\n",
    "    #返回类本身的字典\n",
    "    def to_dict(self):\n",
    "        return self._traverse_dict(self.__dict__)\n",
    "    #中间函数，对类的每个属性和方法进行转换: 类的属性名/方法名 : <ahfduioahgfiowe>\n",
    "    def _traverse_dict(self, instance_dict):\n",
    "        output = {}\n",
    "        for key, value in instance_dict.items():\n",
    "            output[key] = self._traverse(key, value)\n",
    "        return output\n",
    "    #最底层的转换函数, 按照value的不同做不同的处理\n",
    "    #将实现细节封装到最底层！！\n",
    "    def _traverse(self, key, value):\n",
    "        if isinstance(value, ToDictMixin):\n",
    "            return value.to_dict()\n",
    "        elif isinstance(value, dict):\n",
    "            return self._traverse_dict(value)\n",
    "        elif isinstance(value, list):\n",
    "            return [self._traverse_dict(key, i) for i in value]\n",
    "        elif hasattr(value, '__dict__'):\n",
    "            return self._traverse_dict(value.__dict__)\n",
    "        else:\n",
    "            return value"
   ]
  },
  {
   "cell_type": "code",
   "execution_count": 17,
   "metadata": {},
   "outputs": [],
   "source": [
    "class BinaryTree(ToDictMixin):\n",
    "    def __init__(self, value, left = None, right = None):\n",
    "        self.value = value\n",
    "        self.left = left\n",
    "        self.right = right"
   ]
  },
  {
   "cell_type": "code",
   "execution_count": 18,
   "metadata": {},
   "outputs": [
    {
     "name": "stdout",
     "output_type": "stream",
     "text": [
      "{'value': 10, 'left': {'value': 7, 'left': None, 'right': {'value': 9, 'left': None, 'right': None}}, 'right': {'value': 13, 'left': {'value': 11, 'left': None, 'right': None}, 'right': None}}\n"
     ]
    }
   ],
   "source": [
    "tree = BinaryTree(10, left = BinaryTree(7, right = BinaryTree(9)),\n",
    "                  right = BinaryTree(13, left = BinaryTree(11)))\n",
    "print(tree.to_dict())"
   ]
  },
  {
   "cell_type": "code",
   "execution_count": 19,
   "metadata": {},
   "outputs": [],
   "source": [
    "#你可以在需要的时候, 子类中覆盖Mix-in基类的方法\n",
    "class BinaryTreeWithParent(BinaryTree):\n",
    "    def __init__(self, value, left = None, right = None, parent = None):\n",
    "        super().__init__(value, left = left, right = right)\n",
    "        self.parent = parent\n",
    "    def _traverse(self, key, value):\n",
    "        if (isinstance(value, BinaryTreeWithParent) and key == 'parent'):\n",
    "            #避免死循环！！\n",
    "            return value.value\n",
    "        else:\n",
    "            return super()._traverse(key, value)"
   ]
  },
  {
   "cell_type": "code",
   "execution_count": 20,
   "metadata": {},
   "outputs": [
    {
     "name": "stdout",
     "output_type": "stream",
     "text": [
      "{'value': 10, 'left': {'value': 7, 'left': None, 'right': {'value': 9, 'left': None, 'right': None, 'parent': 7}, 'parent': 10}, 'right': None, 'parent': None}\n"
     ]
    }
   ],
   "source": [
    "root = BinaryTreeWithParent(10)\n",
    "root.left = BinaryTreeWithParent(7, parent = root)\n",
    "root.left.right = BinaryTreeWithParent(9, parent = root.left)\n",
    "\n",
    "print(root.to_dict())"
   ]
  },
  {
   "cell_type": "code",
   "execution_count": 22,
   "metadata": {},
   "outputs": [
    {
     "name": "stdout",
     "output_type": "stream",
     "text": [
      "{'name': 'foobar', 'tree_with_parent': {'value': 9, 'left': None, 'right': None, 'parent': 7}}\n"
     ]
    }
   ],
   "source": [
    "#在子类中覆盖了mix-in的方法后, 任何含有子类实例成员的类也会覆盖掉mix-in的方法:\n",
    "class NamedSubTree(ToDictMixin):\n",
    "    def __init__(self, name, tree_with_parent):\n",
    "        self.name = name\n",
    "        self.tree_with_parent = tree_with_parent\n",
    "my_tree = NamedSubTree('foobar', root.left.right)\n",
    "#OK!\n",
    "print(my_tree.to_dict())"
   ]
  },
  {
   "cell_type": "code",
   "execution_count": 25,
   "metadata": {},
   "outputs": [],
   "source": [
    "#子类可以继承多个mix-in:\n",
    "#1.子类的__init__需要接受关键字参数赋值\n",
    "#2. 子类需要有to_dict方法\n",
    "class JsonMixin(object):\n",
    "    @classmethod\n",
    "    def from_json(cls, data):\n",
    "        kwargs = json.loads(data)\n",
    "        return cls(**kwargs)\n",
    "    def to_json(self):\n",
    "        return json.dumps(self.to_dict())"
   ]
  },
  {
   "cell_type": "code",
   "execution_count": 26,
   "metadata": {},
   "outputs": [],
   "source": [
    "class DatacenterRack(ToDictMixin, JsonMixin):\n",
    "    pass"
   ]
  },
  {
   "cell_type": "markdown",
   "metadata": {},
   "source": [
    "### 不要用私有成员, 用受保护的成员 + 文档标注\n",
    "### 当基类的成员名字和子类的成员名字可能冲突时, 考虑私有成员"
   ]
  },
  {
   "cell_type": "code",
   "execution_count": null,
   "metadata": {},
   "outputs": [],
   "source": []
  },
  {
   "cell_type": "markdown",
   "metadata": {},
   "source": [
    "### 从 collections.abc 继承传统的容器类"
   ]
  },
  {
   "cell_type": "code",
   "execution_count": 4,
   "metadata": {},
   "outputs": [],
   "source": [
    "#你可以继承现有的容器类\n",
    "class FrequencyList(list):\n",
    "    def __init__(self, members):\n",
    "        super().__init__(members)\n",
    "    def frequency(self):\n",
    "        counts = {}\n",
    "        for item in self:\n",
    "            counts.setdefault(item, 0)\n",
    "            counts[item] += 1\n",
    "        return counts\n",
    "    "
   ]
  },
  {
   "cell_type": "code",
   "execution_count": 5,
   "metadata": {},
   "outputs": [],
   "source": [
    "foo = FrequencyList(['a', 'b', 'a', 'c', 'b', 'a', 'd'])"
   ]
  },
  {
   "cell_type": "code",
   "execution_count": 6,
   "metadata": {},
   "outputs": [
    {
     "data": {
      "text/plain": [
       "{'a': 3, 'b': 2, 'c': 1, 'd': 1}"
      ]
     },
     "execution_count": 6,
     "metadata": {},
     "output_type": "execute_result"
    }
   ],
   "source": [
    "foo.frequency()"
   ]
  },
  {
   "cell_type": "code",
   "execution_count": 9,
   "metadata": {},
   "outputs": [],
   "source": [
    "#或者自己实现magic方法，例如你想实现一个支持索引的二叉树类\n",
    "class BinaryNode(object):\n",
    "    def __init__(self, value, left = None, right = None):\n",
    "        self.value = value\n",
    "        self.left = left\n",
    "        self.right = right\n",
    "#为了支持索引,你得自己实现 __getitem__方法\n",
    "class IndexableNode(BinaryNode):\n",
    "    def _search(self, count, index):\n",
    "        #returns (found, counts)\n",
    "        pass\n",
    "    def __getitem__(self, index):\n",
    "        found, _ = self._search(0, index)\n",
    "        if not found:\n",
    "            raise IndexError('Index out of range!')\n",
    "        return found.value"
   ]
  },
  {
   "cell_type": "code",
   "execution_count": 12,
   "metadata": {},
   "outputs": [],
   "source": [
    "#当然,如果你想要使你的二叉树类更像序列容器,你需要更多的__magic__方法\n",
    "#你可以继承collections.abc里面的容器类型\n",
    "from collections.abc import Sequence\n",
    "#这样你必须实现所有需要的magic method， 否则初始化会失败。"
   ]
  },
  {
   "cell_type": "code",
   "execution_count": null,
   "metadata": {},
   "outputs": [],
   "source": []
  }
 ],
 "metadata": {
  "kernelspec": {
   "display_name": "Python 3",
   "language": "python",
   "name": "python3"
  },
  "language_info": {
   "codemirror_mode": {
    "name": "ipython",
    "version": 3
   },
   "file_extension": ".py",
   "mimetype": "text/x-python",
   "name": "python",
   "nbconvert_exporter": "python",
   "pygments_lexer": "ipython3",
   "version": "3.7.7"
  },
  "toc": {
   "base_numbering": 1,
   "nav_menu": {},
   "number_sections": true,
   "sideBar": true,
   "skip_h1_title": true,
   "title_cell": "Table of Contents",
   "title_sidebar": "Contents",
   "toc_cell": true,
   "toc_position": {},
   "toc_section_display": true,
   "toc_window_display": false
  }
 },
 "nbformat": 4,
 "nbformat_minor": 2
}
