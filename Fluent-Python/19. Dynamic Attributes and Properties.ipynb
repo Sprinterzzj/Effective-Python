{
 "cells": [
  {
   "cell_type": "markdown",
   "metadata": {},
   "source": [
    "我们的示例数据集如下图所示:\n",
    "\n",
    "![img/19_1.png](img/19_1.png)\n",
    "\n",
    "这是一个 Json 文件. 注意 conference, events, speakers 和 venues 的 值是列表, 列表的每一个元素是字典"
   ]
  },
  {
   "cell_type": "code",
   "execution_count": 6,
   "metadata": {
    "ExecuteTime": {
     "end_time": "2019-08-12T08:57:25.476662Z",
     "start_time": "2019-08-12T08:57:25.471938Z"
    }
   },
   "outputs": [],
   "source": [
    "# 下载示例数据集\n",
    "\n",
    "from urllib.request import urlopen\n",
    "import warnings\n",
    "import os\n",
    "import json\n",
    "\n",
    "URL = 'http://www.oreilly.com/pub/sc/osconfeed' \n",
    "JSON = 'data/osconfeed.json'\n",
    "\n",
    "def load():\n",
    "    if not os.path.exists(JSON):\n",
    "        msg = 'downloading {} to {}'.format(URL, JSON)\n",
    "        warnings.warn(msg)\n",
    "        with urlopen(URL) as remote,\\\n",
    "             open(JSON, 'wb') as local:\n",
    "            local.write(remote.read())\n",
    "    with open(JSON) as fp:\n",
    "        return json.load(fp)"
   ]
  },
  {
   "cell_type": "code",
   "execution_count": 12,
   "metadata": {
    "ExecuteTime": {
     "end_time": "2019-08-12T09:27:58.057564Z",
     "start_time": "2019-08-12T09:27:58.043736Z"
    }
   },
   "outputs": [
    {
     "name": "stdout",
     "output_type": "stream",
     "text": [
      "['conferences', 'events', 'speakers', 'venues']\n",
      "  1 conferences\n",
      "494 events\n",
      "357 speakers\n",
      " 53 venues\n"
     ]
    }
   ],
   "source": [
    "# 检查下载的Json文件\n",
    "raw_feed = load()\n",
    "print(sorted(raw_feed['Schedule'].keys()))\n",
    "\n",
    "for key, value in sorted(raw_feed['Schedule'].items()):\n",
    "    print('{:3} {}'.format(len(value), key))"
   ]
  },
  {
   "cell_type": "markdown",
   "metadata": {},
   "source": [
    "###### Exploring JSON-Like Data with Dynamic Attributes"
   ]
  },
  {
   "cell_type": "code",
   "execution_count": 11,
   "metadata": {
    "ExecuteTime": {
     "end_time": "2019-08-12T09:13:14.076218Z",
     "start_time": "2019-08-12T09:13:14.070524Z"
    }
   },
   "outputs": [],
   "source": [
    "from collections import abc\n",
    "\n",
    "\n",
    "class FrozenJSON(object):\n",
    "    \"\"\"用于读取 Json 格式的类,\n",
    "    只提供读取方法.\n",
    "    \"\"\"\n",
    "\n",
    "    def __init__(self, mapping):\n",
    "        self.__data = dict(mapping) #1\n",
    "\n",
    "    def __getattr__(self, name): #2\n",
    "        if hasattr(self.__data, name):\n",
    "            return getattr(self.__data, name) #3\n",
    "        else:\n",
    "            return FrozenJSON.build(self.__data[name]) #4\n",
    "\n",
    "    @classmethod\n",
    "    def build(cls, obj): #5\n",
    "        if isinstance(obj, abc.Mapping): #6\n",
    "            return cls(obj)\n",
    "        elif isinstance(obj, abc.MutableSequence): #7\n",
    "            return [cls.build(item) for item in obj]\n",
    "        else: #8\n",
    "            return obj"
   ]
  },
  {
   "cell_type": "markdown",
   "metadata": {},
   "source": [
    "<center>总结</center>\n",
    "\n",
    "1. 获得 mapping 的 copy 并且获得一个 dict 对象.\n",
    "2. **只有实例而找不到 `name` 属性, 并且实例的类及其父类中也找不到时, 才会调用 \\_\\_getattr\\_\\_ 方法.**\n",
    "3. 如果 \\_\\_data 有名为 `name` 的属性, 就直接返回.\n",
    "4. 否则, 首先获取 \\_\\_data 中的名为 `name` 的 key, 然后调用 FrozenJSON.build() 函数.\n",
    "5. 用 classmethod 实现的工厂函数\n",
    "6. 如果 obj 是一个 mapping 对象, 用它构造一个 FrozenJSON 对象.\n",
    "7. 如果 obj 是一个 MutableSequence 对象, 他一定是一个 list. **这是因为 Json 格式中只能有 list 和 dict.** 那么返回一个列表生成式.\n",
    "8. 如果既不是 list 也不是 dict, 就返回他自身."
   ]
  },
  {
   "cell_type": "code",
   "execution_count": 19,
   "metadata": {
    "ExecuteTime": {
     "end_time": "2019-08-12T12:00:49.499811Z",
     "start_time": "2019-08-12T12:00:49.495026Z"
    }
   },
   "outputs": [
    {
     "data": {
      "text/plain": [
       "357"
      ]
     },
     "execution_count": 19,
     "metadata": {},
     "output_type": "execute_result"
    }
   ],
   "source": [
    "feed = FrozenJSON(raw_feed)\n",
    "len(feed.Schedule.speakers)"
   ]
  },
  {
   "cell_type": "code",
   "execution_count": 20,
   "metadata": {
    "ExecuteTime": {
     "end_time": "2019-08-12T12:00:53.296063Z",
     "start_time": "2019-08-12T12:00:53.292466Z"
    }
   },
   "outputs": [],
   "source": [
    "# 当原始数据中的 key 不是合法的属性名时, 比如 key 是 Python中的关键字\n",
    "# 需要在初始化时改变一下名字: 用 keyword 模块中的 iskeyWord 检测是否为关键字\n",
    "\n",
    "from keyword import iskeyword\n",
    "\n",
    "\n",
    "def __init__(self, mapping):\n",
    "    self.__data = {}\n",
    "    for key, value in mapping.items():\n",
    "        if iskeyword(key):\n",
    "            key += '_'\n",
    "        self.__data[key] = value"
   ]
  },
  {
   "cell_type": "markdown",
   "metadata": {},
   "source": [
    "###### 用 \\_\\_new\\_\\_ 方法完成实例化\n",
    "\n",
    "\\_\\_new\\_\\_ 创建了实例, 并且调用 \\_\\_init\\_\\_ 函数, 将实例作为第一个参数传递给 \\_\\_init\\_\\_ 函数."
   ]
  },
  {
   "cell_type": "code",
   "execution_count": 24,
   "metadata": {
    "ExecuteTime": {
     "end_time": "2019-08-12T12:01:13.680616Z",
     "start_time": "2019-08-12T12:01:13.674477Z"
    }
   },
   "outputs": [],
   "source": [
    "from keyword import iskeyword\n",
    "\n",
    "\n",
    "class FrozenJSON(object):\n",
    "    def __new__(cls, args):\n",
    "        print('Calling new.')\n",
    "        if isinstance(args, abc.Mapping):\n",
    "            return super().__new__(cls)\n",
    "        elif isinstance(args, abc.MutableSequence):\n",
    "            return [cls(item) for item in args]\n",
    "        else:\n",
    "            return args\n",
    "\n",
    "    def __init__(self, mapping):\n",
    "        print('Calling init.')\n",
    "        self.__data = {}\n",
    "        for key, value in mapping.items():\n",
    "            if iskeyword(key):\n",
    "                key += '_'\n",
    "            self.__data[key] = value\n",
    "\n",
    "    def __getattr__(self, name):\n",
    "        if hasattr(self.__data, name):\n",
    "            return getattr(self.__data, name)\n",
    "        else:\n",
    "            return FrozenJSON(self.__data[name])"
   ]
  },
  {
   "cell_type": "code",
   "execution_count": 27,
   "metadata": {
    "ExecuteTime": {
     "end_time": "2019-08-12T12:01:41.246814Z",
     "start_time": "2019-08-12T12:01:41.243971Z"
    }
   },
   "outputs": [
    {
     "name": "stdout",
     "output_type": "stream",
     "text": [
      "Calling new.\n",
      "Calling init.\n"
     ]
    }
   ],
   "source": [
    "feed = FrozenJSON(raw_feed)\n",
    "\n",
    "# feed.Schedule.speakers"
   ]
  },
  {
   "cell_type": "markdown",
   "metadata": {},
   "source": [
    "###### 用 shelve 模块来重新构建数据"
   ]
  },
  {
   "cell_type": "code",
   "execution_count": 30,
   "metadata": {
    "ExecuteTime": {
     "end_time": "2019-08-12T12:29:48.394286Z",
     "start_time": "2019-08-12T12:29:48.388898Z"
    }
   },
   "outputs": [],
   "source": [
    "import warnings\n",
    "\n",
    "DB_NAME = 'data/schedule1_db'\n",
    "CONFERENCE = 'conference.115'\n",
    "\n",
    "class Record(object):\n",
    "    def __init__(self, **kwargs):\n",
    "        self.__dict__.update(kwargs) #1\n",
    "    \n",
    "    def __eq__(self, other):\n",
    "        if isinstance(other, Record):\n",
    "            return self.__dict__ == other.__dict__\n",
    "        else:\n",
    "            return NotImplemented\n",
    "\n",
    "def load_db(db):\n",
    "    raw_data = load()\n",
    "    warnings.warn('loading ' + DB_NAME)\n",
    "    for collection, rec_list in raw_data['Schedule'].items(): #2\n",
    "        record_type = collection[:-1] #3\n",
    "        for record in rec_lsit:\n",
    "            key = '{}.{}'.format(record_type, record['serial']) #4\n",
    "            print(record['serial'])\n",
    "            record['serial'] = key #5\n",
    "            db[key] = Record(**record) #6"
   ]
  },
  {
   "cell_type": "markdown",
   "metadata": {},
   "source": [
    "<center>总结</center>\n",
    "\n",
    "1. 通过更新 \\_\\_dict\\_\\_ 来批量初始化实例变量 (Note: depending on the application context, the Record class may need to deal with keys that are not valid attribute names.)\n",
    "2. Iterate over collections under 'Schedule'(Schedule 是最上层的键)\n",
    "3. record_type is set to the collection name without the trailing 's' (i.e., 'events' becomes 'event')\n",
    "4. build key and 'serial' field\n",
    "5. Update the 'serial' field with the full key\n",
    "6. Build Record instance and save it to the database under the key"
   ]
  },
  {
   "cell_type": "markdown",
   "metadata": {},
   "source": [
    "下面扩展 Record class"
   ]
  },
  {
   "cell_type": "code",
   "execution_count": 31,
   "metadata": {
    "ExecuteTime": {
     "end_time": "2019-08-12T12:57:54.527513Z",
     "start_time": "2019-08-12T12:57:54.521218Z"
    }
   },
   "outputs": [],
   "source": [
    "class MissingDatabaseError(RuntimeError):\n",
    "    \"\"\"Raised when a database is required but was not set.\n",
    "    \"\"\"\n",
    "class DbRecord(Record):\n",
    "    __db = None\n",
    "\n",
    "    @staticmethod\n",
    "    def set_db(db):\n",
    "        DbRecord.__db = db\n",
    "\n",
    "    @staticmethod\n",
    "    def get_db():\n",
    "        return DbRecord.__db\n",
    "\n",
    "    @classmethod\n",
    "    def fetch(cls, ident):\n",
    "        db = cls.get_db()\n",
    "        try:\n",
    "            return db[ident]\n",
    "        except TypeError:\n",
    "            if db is None:\n",
    "                msg = \"database not set; call '{}.set_db(my_db)'\"\n",
    "                raise MissingDatabaseError(msg.format(cls.__name))\n",
    "            else:\n",
    "                raise\n",
    "    def __repr__(self):\n",
    "        if hasattr(self, 'serial'):\n",
    "            cls_name = self.__class__.__name__\n",
    "            return '<{} serial={!r}>'.format(cls_name, self.serial)\n",
    "        else:\n",
    "            return super().__repr__()"
   ]
  },
  {
   "cell_type": "code",
   "execution_count": 32,
   "metadata": {
    "ExecuteTime": {
     "end_time": "2019-08-12T13:06:43.706677Z",
     "start_time": "2019-08-12T13:06:43.701233Z"
    }
   },
   "outputs": [],
   "source": [
    "class Event(DbRecord):\n",
    "    \n",
    "    @property\n",
    "    def venue(self):\n",
    "        key = 'venue.{}'.format(self.venue_serial)\n",
    "        return self.__class__.fetch(key)\n",
    "    @property\n",
    "    def speakers(self):\n",
    "        if not hasattr(self, '_speaker_objs'):\n",
    "            spkr_serials = self.__dict__['speakers']\n",
    "            fetch = self.__class__.fetch\n",
    "            self._speaker_objs = [fetch('speaker.{}'.format(key))\\\n",
    "                                  for key in spkr_serials]\n",
    "        return self._speaker_objs\n",
    "    \n",
    "    def __repr__(self):\n",
    "        if hasattr(self, 'name'):\n",
    "            cls_name = self.__class__.__name__\n",
    "            return '<{} {!r}>'.format(cls_name, self.name)\n",
    "        else:\n",
    "            return super().__repr__()"
   ]
  },
  {
   "cell_type": "code",
   "execution_count": null,
   "metadata": {},
   "outputs": [],
   "source": [
    "import inspect\n",
    "def load_db_v2(db):\n",
    "    raw_data = load()\n",
    "    warnings.warn('loading ' + DB_NAME)\n",
    "    for collections, rec_list in raw_data['Schedule'].items():\n",
    "        record_type = collections[:-1]\n",
    "        cls_name = record_type.capitalize()\n",
    "        cls = globals().get(cls_name, DbRecord)\n",
    "        if inspect.isclass(cls) and issubclass(cls, DbRecord):\n",
    "            factory = cls\n",
    "        else:\n",
    "            factory = DbRecord\n",
    "        for record in rec_list:\n",
    "            key = '{}.{}'.format(record_type, record['serial'])\n",
    "            record['serial'] = key\n",
    "            db[key] = factory(**record)  # <8>\n",
    "        "
   ]
  }
 ],
 "metadata": {
  "kernelspec": {
   "display_name": "Python 3",
   "language": "python",
   "name": "python3"
  },
  "language_info": {
   "codemirror_mode": {
    "name": "ipython",
    "version": 3
   },
   "file_extension": ".py",
   "mimetype": "text/x-python",
   "name": "python",
   "nbconvert_exporter": "python",
   "pygments_lexer": "ipython3",
   "version": "3.6.8"
  },
  "toc": {
   "base_numbering": 1,
   "nav_menu": {},
   "number_sections": true,
   "sideBar": true,
   "skip_h1_title": false,
   "title_cell": "Table of Contents",
   "title_sidebar": "Contents",
   "toc_cell": false,
   "toc_position": {},
   "toc_section_display": true,
   "toc_window_display": false
  }
 },
 "nbformat": 4,
 "nbformat_minor": 2
}
