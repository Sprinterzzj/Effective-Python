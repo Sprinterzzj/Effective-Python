{
 "cells": [
  {
   "cell_type": "markdown",
   "metadata": {},
   "source": [
    "##### Data Wrangling with Dynamic Attributes"
   ]
  },
  {
   "cell_type": "markdown",
   "metadata": {},
   "source": [
    "我们的示例数据集如下图所示:\n",
    "\n",
    "![img/19_1.png](img/19_1.png)\n",
    "\n",
    "这是一个 Json 文件. 注意 conference, events, speakers 和 venues 的 值是列表, 列表的每一个元素是字典"
   ]
  },
  {
   "cell_type": "code",
   "execution_count": 5,
   "metadata": {
    "ExecuteTime": {
     "end_time": "2019-08-16T01:16:00.974008Z",
     "start_time": "2019-08-16T01:16:00.968194Z"
    }
   },
   "outputs": [],
   "source": [
    "# 下载示例数据集\n",
    "\n",
    "from urllib.request import urlopen\n",
    "import warnings\n",
    "import os\n",
    "import json\n",
    "\n",
    "URL = 'http://www.oreilly.com/pub/sc/osconfeed' \n",
    "JSON = 'data/osconfeed.json'\n",
    "\n",
    "def load():\n",
    "    if not os.path.exists(JSON):\n",
    "        msg = 'downloading {} to {}'.format(URL, JSON)\n",
    "        warnings.warn(msg)\n",
    "        with urlopen(URL) as remote,\\\n",
    "             open(JSON, 'wb') as local:\n",
    "            local.write(remote.read())\n",
    "    with open(JSON) as fp:\n",
    "        return json.load(fp)"
   ]
  },
  {
   "cell_type": "code",
   "execution_count": 6,
   "metadata": {
    "ExecuteTime": {
     "end_time": "2019-08-16T01:16:01.382254Z",
     "start_time": "2019-08-16T01:16:01.371685Z"
    }
   },
   "outputs": [
    {
     "name": "stdout",
     "output_type": "stream",
     "text": [
      "['conferences', 'events', 'speakers', 'venues']\n",
      "  1 conferences\n",
      "494 events\n",
      "357 speakers\n",
      " 53 venues\n"
     ]
    }
   ],
   "source": [
    "# 检查下载的Json文件\n",
    "raw_feed = load()\n",
    "print(sorted(raw_feed['Schedule'].keys()))\n",
    "\n",
    "for key, value in sorted(raw_feed['Schedule'].items()):\n",
    "    print('{:3} {}'.format(len(value), key))"
   ]
  },
  {
   "cell_type": "markdown",
   "metadata": {},
   "source": [
    "###### Exploring JSON-Like Data with Dynamic Attributes"
   ]
  },
  {
   "cell_type": "code",
   "execution_count": 7,
   "metadata": {
    "ExecuteTime": {
     "end_time": "2019-08-16T01:16:02.626518Z",
     "start_time": "2019-08-16T01:16:02.619897Z"
    }
   },
   "outputs": [],
   "source": [
    "from collections import abc\n",
    "\n",
    "\n",
    "class FrozenJSON(object):\n",
    "    \"\"\"用于读取 Json 格式的类,\n",
    "    只提供读取方法.\n",
    "    \"\"\"\n",
    "\n",
    "    def __init__(self, mapping):\n",
    "        self.__data = dict(mapping) #1\n",
    "\n",
    "    def __getattr__(self, name): #2\n",
    "        if hasattr(self.__data, name):\n",
    "            return getattr(self.__data, name) #3\n",
    "        else:\n",
    "            return FrozenJSON.build(self.__data[name]) #4\n",
    "\n",
    "    @classmethod\n",
    "    def build(cls, obj): #5\n",
    "        if isinstance(obj, abc.Mapping): #6\n",
    "            return cls(obj)\n",
    "        elif isinstance(obj, abc.MutableSequence): #7\n",
    "            return [cls.build(item) for item in obj]\n",
    "        else: #8\n",
    "            return obj"
   ]
  },
  {
   "cell_type": "markdown",
   "metadata": {},
   "source": [
    "<center>总结</center>\n",
    "\n",
    "1. 获得 mapping 的 copy 并且获得一个 dict 对象.\n",
    "2. **只有实例而找不到 `name` 属性, 并且实例的类及其父类中也找不到时, 才会调用 \\_\\_getattr\\_\\_ 方法.**\n",
    "3. 如果 \\_\\_data 有名为 `name` 的属性, 就直接返回.\n",
    "4. 否则, 首先获取 \\_\\_data 中的名为 `name` 的 key, 然后调用 FrozenJSON.build() 函数.\n",
    "5. 用 classmethod 实现的工厂函数\n",
    "6. 如果 obj 是一个 mapping 对象, 用它构造一个 FrozenJSON 对象.\n",
    "7. 如果 obj 是一个 MutableSequence 对象, 他一定是一个 list. **这是因为 Json 格式中只能有 list 和 dict.** 那么返回一个列表生成式.\n",
    "8. 如果既不是 list 也不是 dict, 就返回他自身."
   ]
  },
  {
   "cell_type": "code",
   "execution_count": 8,
   "metadata": {
    "ExecuteTime": {
     "end_time": "2019-08-16T01:16:03.326564Z",
     "start_time": "2019-08-16T01:16:03.318161Z"
    }
   },
   "outputs": [
    {
     "data": {
      "text/plain": [
       "357"
      ]
     },
     "execution_count": 8,
     "metadata": {},
     "output_type": "execute_result"
    }
   ],
   "source": [
    "feed = FrozenJSON(raw_feed)\n",
    "len(feed.Schedule.speakers)"
   ]
  },
  {
   "cell_type": "code",
   "execution_count": 9,
   "metadata": {
    "ExecuteTime": {
     "end_time": "2019-08-16T01:16:04.106371Z",
     "start_time": "2019-08-16T01:16:04.101160Z"
    }
   },
   "outputs": [],
   "source": [
    "# 当原始数据中的 key 不是合法的属性名时, 比如 key 是 Python中的关键字\n",
    "# 需要在初始化时改变一下名字: 用 keyword 模块中的 iskeyWord 检测是否为关键字\n",
    "\n",
    "from keyword import iskeyword\n",
    "\n",
    "\n",
    "def __init__(self, mapping):\n",
    "    self.__data = {}\n",
    "    for key, value in mapping.items():\n",
    "        if iskeyword(key):\n",
    "            key += '_'\n",
    "        self.__data[key] = value"
   ]
  },
  {
   "cell_type": "markdown",
   "metadata": {},
   "source": [
    "###### 用 \\_\\_new\\_\\_ 方法完成实例化\n",
    "\n",
    "\\_\\_new\\_\\_ 创建了实例, 并且调用 \\_\\_init\\_\\_ 函数, 将实例作为第一个参数传递给 \\_\\_init\\_\\_ 函数."
   ]
  },
  {
   "cell_type": "code",
   "execution_count": 10,
   "metadata": {
    "ExecuteTime": {
     "end_time": "2019-08-16T01:16:05.138515Z",
     "start_time": "2019-08-16T01:16:05.132102Z"
    }
   },
   "outputs": [],
   "source": [
    "from keyword import iskeyword\n",
    "\n",
    "\n",
    "class FrozenJSON(object):\n",
    "    def __new__(cls, args):\n",
    "        print('Calling new.')\n",
    "        if isinstance(args, abc.Mapping):\n",
    "            return super().__new__(cls)\n",
    "        elif isinstance(args, abc.MutableSequence):\n",
    "            return [cls(item) for item in args]\n",
    "        else:\n",
    "            return args\n",
    "\n",
    "    def __init__(self, mapping):\n",
    "        print('Calling init.')\n",
    "        self.__data = {}\n",
    "        for key, value in mapping.items():\n",
    "            if iskeyword(key):\n",
    "                key += '_'\n",
    "            self.__data[key] = value\n",
    "\n",
    "    def __getattr__(self, name):\n",
    "        if hasattr(self.__data, name):\n",
    "            return getattr(self.__data, name)\n",
    "        else:\n",
    "            return FrozenJSON(self.__data[name])"
   ]
  },
  {
   "cell_type": "code",
   "execution_count": 11,
   "metadata": {
    "ExecuteTime": {
     "end_time": "2019-08-16T01:16:05.814997Z",
     "start_time": "2019-08-16T01:16:05.807694Z"
    }
   },
   "outputs": [
    {
     "name": "stdout",
     "output_type": "stream",
     "text": [
      "Calling new.\n",
      "Calling init.\n"
     ]
    }
   ],
   "source": [
    "feed = FrozenJSON(raw_feed)\n",
    "\n",
    "# feed.Schedule.speakers"
   ]
  },
  {
   "cell_type": "markdown",
   "metadata": {},
   "source": [
    "###### 用 shelve 模块来重新构建数据"
   ]
  },
  {
   "cell_type": "code",
   "execution_count": 21,
   "metadata": {
    "ExecuteTime": {
     "end_time": "2019-08-16T01:19:52.314612Z",
     "start_time": "2019-08-16T01:19:52.306150Z"
    }
   },
   "outputs": [],
   "source": [
    "import warnings\n",
    "\n",
    "DB_NAME = 'data/schedule1_db'\n",
    "CONFERENCE = 'conference.115'\n",
    "\n",
    "class Record(object):\n",
    "    def __init__(self, **kwargs):\n",
    "        self.__dict__.update(kwargs) #1\n",
    "    \n",
    "    def __eq__(self, other):\n",
    "        if isinstance(other, Record):\n",
    "            return self.__dict__ == other.__dict__\n",
    "        else:\n",
    "            return NotImplemented\n",
    "\n",
    "def load_db(db):\n",
    "    raw_data = load()\n",
    "    warnings.warn('loading ' + DB_NAME)\n",
    "    for collection, rec_list in raw_data['Schedule'].items(): #2\n",
    "        record_type = collection[:-1] #3\n",
    "        for record in rec_list:\n",
    "            key = '{}.{}'.format(record_type, record['serial']) #4\n",
    "#             print(key)\n",
    "            record['serial'] = key #5\n",
    "            db[key] = Record(**record) #6"
   ]
  },
  {
   "cell_type": "markdown",
   "metadata": {},
   "source": [
    "<center>总结</center>\n",
    "\n",
    "1. 通过更新 \\_\\_dict\\_\\_ 来批量初始化实例变量 (Note: depending on the application context, the Record class may need to deal with keys that are not valid attribute names.)\n",
    "2. Iterate over collections under 'Schedule'(Schedule 是最上层的键)\n",
    "3. record_type is set to the collection name without the trailing 's' (i.e., 'events' becomes 'event')\n",
    "4. build key and 'serial' field\n",
    "5. Update the 'serial' field with the full key\n",
    "6. Build Record instance and save it to the database under the key.\n",
    "json 文件里面的一个字典就是 load_db 里面的一个 Record 对象."
   ]
  },
  {
   "cell_type": "code",
   "execution_count": 22,
   "metadata": {
    "ExecuteTime": {
     "end_time": "2019-08-16T01:19:52.811314Z",
     "start_time": "2019-08-16T01:19:52.768214Z"
    },
    "scrolled": true
   },
   "outputs": [
    {
     "name": "stderr",
     "output_type": "stream",
     "text": [
      "/home/sprinter/miniconda3/envs/zzj/lib/python3.6/site-packages/ipykernel_launcher.py:18: UserWarning: loading data/schedule1_db\n"
     ]
    }
   ],
   "source": [
    "# Let's test the aboveing code\n",
    "# Fisrt open `DB_NAME` and save json data in it.\n",
    "import shelve\n",
    "\n",
    "db = shelve.open(DB_NAME)\n",
    "if CONFERENCE not in db:\n",
    "    load_db(db)"
   ]
  },
  {
   "cell_type": "code",
   "execution_count": 37,
   "metadata": {
    "ExecuteTime": {
     "end_time": "2019-08-16T02:07:10.669522Z",
     "start_time": "2019-08-16T02:07:10.661979Z"
    }
   },
   "outputs": [],
   "source": [
    "# Test db\n",
    "def test_record_class():\n",
    "    rec = Record(spam=99, eggs=12)\n",
    "    assert rec.spam == 99\n",
    "    assert rec.eggs == 12\n",
    "\n",
    "\n",
    "def test_conference_record(db):\n",
    "    assert CONFERENCE in db\n",
    "\n",
    "\n",
    "def test_speaker_record(db):\n",
    "    speaker = db['speaker.3471']\n",
    "    assert speaker.name == 'Anna Ravenscroft'\n",
    "\n",
    "\n",
    "def test_event_record(db):\n",
    "    event = db['event.33950']\n",
    "    assert event.name == 'There *Will* Be Bugs'\n",
    "\n",
    "\n",
    "def test_event_venue(db):\n",
    "    event = db['event.33950']\n",
    "    assert event.venue_serial == 1449\n",
    "\n",
    "test_record_class()\n",
    "test_conference_record(db)\n",
    "test_speaker_record(db)\n",
    "test_event_record(db)\n",
    "test_event_venue(db)\n",
    "db.close()"
   ]
  },
  {
   "cell_type": "markdown",
   "metadata": {},
   "source": [
    "下面扩展 Record class\n",
    "\n",
    "New service: Automatically retrieving venue and speaker records referenced in an event record.\n",
    "\n",
    "![img/19_2.png](img/19_2.png)"
   ]
  },
  {
   "cell_type": "code",
   "execution_count": 53,
   "metadata": {
    "ExecuteTime": {
     "end_time": "2019-08-16T02:23:32.004304Z",
     "start_time": "2019-08-16T02:23:31.996089Z"
    }
   },
   "outputs": [],
   "source": [
    "class MissingDatabaseError(RuntimeError):\n",
    "    \"\"\"Raised when a database is required but was not set.\n",
    "    \"\"\"\n",
    "\n",
    "\n",
    "class DbRecord(Record):\n",
    "\n",
    "    __db = None\n",
    "\n",
    "    @staticmethod\n",
    "    def set_db(db):\n",
    "        DbRecord.__db = db\n",
    "\n",
    "    @staticmethod\n",
    "    def get_db():\n",
    "        return DbRecord.__db\n",
    "\n",
    "    @classmethod\n",
    "    def fetch(cls, ident):\n",
    "        \"\"\"Retrive records from the database\n",
    "        \"\"\"\n",
    "        db = cls.get_db()\n",
    "        try:\n",
    "            return db[ident]\n",
    "        except TypeError:\n",
    "            if db is None:\n",
    "                msg = \"database not set; call '{}.set_db(my_db)'\"\n",
    "                raise MissingDatabaseError(msg.format(cls.__name__))\n",
    "            else:\n",
    "                raise\n",
    "\n",
    "    def __repr__(self):\n",
    "        if hasattr(self, 'serial'):\n",
    "            cls_name = self.__class__.__name__\n",
    "            return '<{} serial={!r}>'.format(cls_name, self.serial)\n",
    "        else:\n",
    "            return super().__repr__()\n",
    "\n",
    "\n",
    "class Event(DbRecord):\n",
    "    \"\"\"Subclass of DbRecord adding `venue` and `speakers` prperties\n",
    "    to retrive linked records, and a specialized __repr__ method.\n",
    "    \"\"\"\n",
    "\n",
    "    @property\n",
    "    def venue(self):\n",
    "        key = 'venue.{}'.format(self.venue_serial)\n",
    "        return self.__class__.fetch(key)\n",
    "\n",
    "    @property\n",
    "    def speakers(self):\n",
    "        if not hasattr(self, '_speaker_objs'):\n",
    "            spkr_serials = self.__dict__['speakers']\n",
    "            # 用 self.__class__来获取 classmethod\n",
    "            fetch = self.__class__.fetch\n",
    "            self._speaker_objs = [fetch('speaker.{}'.format(key))\n",
    "                                  for key in spkr_serials]\n",
    "        return self._speaker_objs\n",
    "\n",
    "    def __repr__(self):\n",
    "        if hasattr(self, 'name'):\n",
    "            cls_name = self.__class__.__name__\n",
    "            return '<{} {!r}>'.format(cls_name, self.name)\n",
    "        else:\n",
    "            return super().__repr__()"
   ]
  },
  {
   "cell_type": "code",
   "execution_count": 54,
   "metadata": {
    "ExecuteTime": {
     "end_time": "2019-08-16T02:23:32.632861Z",
     "start_time": "2019-08-16T02:23:32.626530Z"
    }
   },
   "outputs": [],
   "source": [
    "import inspect\n",
    "def load_db_v2(db):\n",
    "    raw_data = load()\n",
    "    warnings.warn('loading ' + DB_NAME)\n",
    "    for collections, rec_list in raw_data['Schedule'].items():\n",
    "        record_type = collections[:-1] #1\n",
    "        cls_name = record_type.capitalize() #2\n",
    "        cls = globals().get(cls_name, DbRecord) #3\n",
    "        if inspect.isclass(cls) and issubclass(cls, DbRecord): #4\n",
    "            factory = cls #5\n",
    "        else:\n",
    "            factory = DbRecord #6\n",
    "        for record in rec_list: #7\n",
    "            key = '{}.{}'.format(record_type, record['serial'])\n",
    "            record['serial'] = key\n",
    "            db[key] = factory(**record)  # 8\n",
    "        "
   ]
  },
  {
   "cell_type": "markdown",
   "metadata": {},
   "source": [
    "<center>总结</center>\n",
    "\n",
    "1. 去掉 `s`, 没错就是这么完美~~\n",
    "2. 把原始的 key 搞成大写\n",
    "3. **Get an object by that name from the module global scope; get DbRecord if there’s no such object.**\n",
    "4. 如果3中 get 到的是 一个 class 并且是 DbRecord 的子类\n",
    "5. 那么工厂方法就是它\n",
    "6. 否则工厂方法就是基类 \n",
    "7. for 循环遍历 每一个字典\n",
    "8. 用先前得到的工厂函数构造实例, 并且写入 db 中."
   ]
  },
  {
   "cell_type": "code",
   "execution_count": 55,
   "metadata": {
    "ExecuteTime": {
     "end_time": "2019-08-16T02:23:33.450543Z",
     "start_time": "2019-08-16T02:23:33.439036Z"
    }
   },
   "outputs": [],
   "source": [
    "# Let's test the aboveing code\n",
    "# Fisrt open `DB_NAME` and save json data in it.\n",
    "import shelve\n",
    "\n",
    "db = shelve.open(DB_NAME)\n",
    "if CONFERENCE not in db:\n",
    "    load_db_v2(db)"
   ]
  },
  {
   "cell_type": "code",
   "execution_count": 56,
   "metadata": {
    "ExecuteTime": {
     "end_time": "2019-08-16T02:23:33.803568Z",
     "start_time": "2019-08-16T02:23:33.774550Z"
    }
   },
   "outputs": [],
   "source": [
    "import pytest\n",
    "def test_record_attr_access():\n",
    "    rec = Record(spam=99, eggs=12)\n",
    "    assert rec.spam == 99\n",
    "    assert rec.eggs == 12\n",
    "\n",
    "\n",
    "def test_record_repr():\n",
    "    rec = DbRecord(spam=99, eggs=12)\n",
    "    assert 'DbRecord object at 0x' in repr(rec)\n",
    "    rec2 = DbRecord(serial=13)\n",
    "    assert repr(rec2) == \"<DbRecord serial=13>\"\n",
    "\n",
    "\n",
    "def test_conference_record(db):\n",
    "    assert CONFERENCE in db\n",
    "\n",
    "\n",
    "def test_speaker_record(db):\n",
    "    speaker = db['speaker.3471']\n",
    "    assert speaker.name == 'Anna Ravenscroft'\n",
    "\n",
    "\n",
    "def test_missing_db_exception():\n",
    "    with pytest.raises(MissingDatabaseError):\n",
    "        DbRecord.fetch('venue.1585')\n",
    "\n",
    "\n",
    "def test_dbrecord(db):\n",
    "    # db 储存了 DbRecord 的实例,\n",
    "    # 通过 set_db 方法设置了 DbRecord 的类属性\n",
    "    # 然后就可以 fetch了~~\n",
    "    DbRecord.set_db(db)\n",
    "    venue = DbRecord.fetch('venue.1585')\n",
    "    assert venue.name == 'Exhibit Hall B'\n",
    "\n",
    "\n",
    "def test_event_record(db):\n",
    "    event = db['event.33950']\n",
    "    assert repr(event) == \"<Event 'There *Will* Be Bugs'>\"\n",
    "\n",
    "\n",
    "def test_event_venue(db):\n",
    "    Event.set_db(db)\n",
    "    event = db['event.33950']\n",
    "    assert event.venue_serial == 1449\n",
    "    assert event.venue == db['venue.1449']\n",
    "    assert event.venue.name == 'Portland 251'\n",
    "\n",
    "\n",
    "def test_event_speakers(db):\n",
    "    Event.set_db(db)\n",
    "    event = db['event.33950']\n",
    "    assert len(event.speakers) == 2\n",
    "    anna_and_alex = [db['speaker.3471'], db['speaker.5199']]\n",
    "    assert event.speakers == anna_and_alex\n",
    "\n",
    "\n",
    "def test_event_no_speakers(db):\n",
    "    Event.set_db(db)\n",
    "    event = db['event.36848']\n",
    "    assert len(event.speakers) == 0"
   ]
  },
  {
   "cell_type": "code",
   "execution_count": 62,
   "metadata": {
    "ExecuteTime": {
     "end_time": "2019-08-16T02:28:40.645008Z",
     "start_time": "2019-08-16T02:28:40.639545Z"
    }
   },
   "outputs": [],
   "source": [
    "test_record_attr_access()\n",
    "test_record_repr()\n",
    "test_conference_record(db)\n",
    "test_speaker_record(db)\n",
    "# test_missing_db_exception()\n",
    "test_dbrecord(db)\n",
    "test_event_venue(db)\n",
    "test_event_speakers(db)\n",
    "test_event_no_speakers(db)"
   ]
  },
  {
   "cell_type": "markdown",
   "metadata": {},
   "source": [
    "##### Using a Property for Attribute Validation"
   ]
  },
  {
   "cell_type": "code",
   "execution_count": 66,
   "metadata": {
    "ExecuteTime": {
     "end_time": "2019-08-16T04:14:39.974139Z",
     "start_time": "2019-08-16T04:14:39.969222Z"
    }
   },
   "outputs": [],
   "source": [
    "class LineItem(object):\n",
    "    \"\"\"订单类, 实例属性包含: \n",
    "    商品的描述\n",
    "    商品的数目/重量\n",
    "    商品的单价\n",
    "    \"\"\"\n",
    "    def __init__(self, description, weight, price):\n",
    "        self.description = description\n",
    "        self.weight = weight\n",
    "        self.price = price\n",
    "    \n",
    "    def subtotal(self):\n",
    "        return self.weight * self.price"
   ]
  },
  {
   "cell_type": "code",
   "execution_count": 69,
   "metadata": {
    "ExecuteTime": {
     "end_time": "2019-08-16T04:23:40.160134Z",
     "start_time": "2019-08-16T04:23:40.151970Z"
    }
   },
   "outputs": [],
   "source": [
    "class LineItem(object):\n",
    "    \"\"\"改进的订单类\n",
    "    \"\"\"\n",
    "    def __init__(self, description, weight, price):\n",
    "        self.description = description\n",
    "        # 在初始化的时候会调用 weight.setter\n",
    "        self.weight = weight\n",
    "        self.price = price\n",
    "    \n",
    "    def subtotal(self):\n",
    "        return self.weight * self.price\n",
    "    \n",
    "    @property\n",
    "    def weight(self):\n",
    "        return self.__weight\n",
    "    \n",
    "    @weight.setter\n",
    "    def weight(self, value):\n",
    "        if value > 0:\n",
    "            self.__weight = value\n",
    "        else:\n",
    "            raise ValueError('value must be > 0')"
   ]
  },
  {
   "cell_type": "markdown",
   "metadata": {},
   "source": [
    "<center>总结</center>\n",
    "\n",
    "property 的完整签名:\n",
    "\n",
    "```python\n",
    "property(fget=None, fset=None, fdel=None, doc=None)\n",
    "```\n",
    "\n",
    "1. 由此看见, property 是**类属性**. 但是, 它控制了实例的属性访问\n",
    "2. 一般的, 在使用点表达式时, **同名的实例属性会覆盖掉类属性**\n",
    "3. 但是如果**类属性是 property, 那么在实例上用点表达式会覆盖掉实例属性**\n",
    "4. 在类上用点表达式会 **destroy property** "
   ]
  },
  {
   "cell_type": "markdown",
   "metadata": {},
   "source": [
    "###### coding a property factory"
   ]
  },
  {
   "cell_type": "code",
   "execution_count": 79,
   "metadata": {
    "ExecuteTime": {
     "end_time": "2019-08-16T05:36:58.301321Z",
     "start_time": "2019-08-16T05:36:58.296187Z"
    }
   },
   "outputs": [],
   "source": [
    "def quantity(storage_name):\n",
    "    \"\"\"property factory function\n",
    "    \"\"\"\n",
    "    storage_name_ = '__' + storage_name\n",
    "    def getter(instance):\n",
    "        print('Calling getter.')\n",
    "        return instance.__dict__[storage_name_]\n",
    "    def setter(instance, value):\n",
    "        print('Calling setter.')\n",
    "        if value > 0:\n",
    "            instance.__dict__[storage_name_] = value\n",
    "        else:\n",
    "            raise ValueError('value must be > 0')\n",
    "    return property(fget=getter, fset=setter)"
   ]
  },
  {
   "cell_type": "code",
   "execution_count": 80,
   "metadata": {
    "ExecuteTime": {
     "end_time": "2019-08-16T05:36:58.878951Z",
     "start_time": "2019-08-16T05:36:58.873356Z"
    }
   },
   "outputs": [],
   "source": [
    "class LineItem(object):\n",
    "    # 创建两个 property\n",
    "    weight = quantity('weight')\n",
    "    price = quantity('price')\n",
    "\n",
    "    def __init__(self, description, weight, price):\n",
    "        self.description = description\n",
    "        self.weight = weight # The property is already active.\n",
    "        self.price = price\n",
    "\n",
    "    def subtotal(self):\n",
    "        return self.weight * self.price"
   ]
  },
  {
   "cell_type": "code",
   "execution_count": 81,
   "metadata": {
    "ExecuteTime": {
     "end_time": "2019-08-16T05:36:59.796787Z",
     "start_time": "2019-08-16T05:36:59.789143Z"
    }
   },
   "outputs": [
    {
     "name": "stdout",
     "output_type": "stream",
     "text": [
      "Calling setter.\n",
      "Calling setter.\n"
     ]
    }
   ],
   "source": [
    "test = LineItem('zzj', 90, 450)"
   ]
  },
  {
   "cell_type": "code",
   "execution_count": 86,
   "metadata": {
    "ExecuteTime": {
     "end_time": "2019-08-16T05:38:38.666462Z",
     "start_time": "2019-08-16T05:38:38.661312Z"
    }
   },
   "outputs": [
    {
     "data": {
      "text/plain": [
       "{'description': 'zzj', '__weight': 90, '__price': 450}"
      ]
     },
     "execution_count": 86,
     "metadata": {},
     "output_type": "execute_result"
    }
   ],
   "source": [
    "# 通过实例的字典看到真正的实例属性\n",
    "test.__dict__"
   ]
  },
  {
   "cell_type": "markdown",
   "metadata": {},
   "source": [
    "##### Essential Attributes and Functions for Attribute Handling"
   ]
  },
  {
   "cell_type": "markdown",
   "metadata": {},
   "source": [
    "类及其实例的特殊属性:\n",
    "\n",
    "1. \\_\\_class\\_\\_: obj.\\_\\_class\\_\\_ 等价于 type(obj)\n",
    "2. \\_\\_dict\\_\\_: 存放了类或者类的实例的所有**可写属性的字典**\n",
    "3. \\_\\_slots\\_\\_: An attribute that may be defined in a class to limit the attributes its instances can have. __slots__ is a tuple of strings naming the allowed attributes. If the '__dict__' name is not in __slots__, then the instances of that class will not have a __dict__ of their own, and only the named attributes will be allowed in them\n",
    "\n",
    "Built-in Functions for Attribute Handling:\n",
    "\n",
    "1. dir(\\[object\\]): 列出了类或类的实例的最多属性, 返回的是列表.\n",
    "2. **getattr(object, name\\[, default\\])**: Gets the attribute identified by the name string from the object. This may fetch an attribute from the object’s class or from a superclass. If no such attribute exists, getattr raises AttributeError or returns the default value, if given.\n",
    "3. hasattr\n",
    "4. setattr(object, name, value): Assigns the value to the named attribute of object, if the object allows it. This may create a new attribute or overwrite an existing one.\n",
    "5. Returns the __dict__ of object; vars can’t deal with instances of classes that define __slots__ and don’t have a __dict__ (contrast with dir, which handles such in‐stances). Without an argument, vars() does the same as locals(): returns a dict representing the local scope."
   ]
  },
  {
   "cell_type": "markdown",
   "metadata": {},
   "source": [
    "*Special Methods for Attribute Handling*:\n",
    "\n",
    "注意: \n",
    "* 下面的 methods 是作用在 class 上的, 即使点运算符左边的对象是实例.\n",
    "* 如果你直接访问了 \\_\\_dict\\_\\_ 那么不会出发这些 methods.\n",
    "* 这些 methods 不会被实例中同名的属性覆盖掉.\n",
    "\n",
    "\n",
    "1. cls.\\_\\_delattr(self, name)\n",
    "2. cls.\\_\\_dir\\_\\_(self)\n",
    "3. \\_\\_getattribute\\_\\_: Always called when there is an attempt to retrieve the named attribute, except when the attribute sought is a special attribute or method. Dot notation and the get attr and hasattr built-ins trigger this method. *__getattr__ is only invoked after __getattribute__, and only when __getattribute__ raises AttributeError*. To retrieve attributes of the instance obj without triggering an infinite recursion, im‐plementations of __getattribute__ should use super().__getattri bute__(obj, name).\n",
    "4. cls.\\_\\_setattr\\_\\_(self, name, value)"
   ]
  },
  {
   "cell_type": "code",
   "execution_count": 24,
   "metadata": {
    "ExecuteTime": {
     "end_time": "2019-12-05T07:42:44.233124Z",
     "start_time": "2019-12-05T07:42:44.227984Z"
    }
   },
   "outputs": [],
   "source": [
    "class A():\n",
    "    b = 3\n",
    "    def __init__(self, c):\n",
    "        self.c = c\n",
    "        self.b = 6"
   ]
  },
  {
   "cell_type": "code",
   "execution_count": 25,
   "metadata": {
    "ExecuteTime": {
     "end_time": "2019-12-05T07:42:45.503050Z",
     "start_time": "2019-12-05T07:42:45.497321Z"
    }
   },
   "outputs": [],
   "source": [
    "a = A(6)"
   ]
  },
  {
   "cell_type": "code",
   "execution_count": 26,
   "metadata": {
    "ExecuteTime": {
     "end_time": "2019-12-05T07:42:46.589346Z",
     "start_time": "2019-12-05T07:42:46.583574Z"
    }
   },
   "outputs": [
    {
     "data": {
      "text/plain": [
       "6"
      ]
     },
     "execution_count": 26,
     "metadata": {},
     "output_type": "execute_result"
    }
   ],
   "source": [
    "getattr(a, 'b')"
   ]
  },
  {
   "cell_type": "code",
   "execution_count": 29,
   "metadata": {
    "ExecuteTime": {
     "end_time": "2019-12-05T07:43:29.392580Z",
     "start_time": "2019-12-05T07:43:29.386623Z"
    }
   },
   "outputs": [
    {
     "data": {
      "text/plain": [
       "6"
      ]
     },
     "execution_count": 29,
     "metadata": {},
     "output_type": "execute_result"
    }
   ],
   "source": [
    "A.__getattribute__(a, 'b')"
   ]
  },
  {
   "cell_type": "code",
   "execution_count": null,
   "metadata": {},
   "outputs": [],
   "source": []
  }
 ],
 "metadata": {
  "kernelspec": {
   "display_name": "Python 3",
   "language": "python",
   "name": "python3"
  },
  "language_info": {
   "codemirror_mode": {
    "name": "ipython",
    "version": 3
   },
   "file_extension": ".py",
   "mimetype": "text/x-python",
   "name": "python",
   "nbconvert_exporter": "python",
   "pygments_lexer": "ipython3",
   "version": "3.7.5"
  },
  "toc": {
   "base_numbering": 1,
   "nav_menu": {},
   "number_sections": true,
   "sideBar": true,
   "skip_h1_title": false,
   "title_cell": "Table of Contents",
   "title_sidebar": "Contents",
   "toc_cell": false,
   "toc_position": {
    "height": "calc(100% - 180px)",
    "left": "10px",
    "top": "150px",
    "width": "216px"
   },
   "toc_section_display": true,
   "toc_window_display": false
  }
 },
 "nbformat": 4,
 "nbformat_minor": 2
}
