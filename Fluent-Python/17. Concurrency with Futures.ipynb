{
 "cells": [
  {
   "cell_type": "markdown",
   "metadata": {},
   "source": [
    "##### 例子: Web Downloads"
   ]
  },
  {
   "cell_type": "code",
   "execution_count": 22,
   "metadata": {
    "ExecuteTime": {
     "end_time": "2019-07-19T05:38:51.397822Z",
     "start_time": "2019-07-19T05:38:51.390406Z"
    }
   },
   "outputs": [],
   "source": [
    "import os\n",
    "import time\n",
    "import sys\n",
    "import requests\n",
    "\n",
    "POP20_CC = ('CN IN US ID BR PK NG BD RU JP '\n",
    "            'MX PH VN ET EG DE IR TR CD FR').split()\n",
    "BASE_URL = 'http://flupy.org/data/flags'\n",
    "DEST_DIR = 'downloads/'\n",
    "\n",
    "\n",
    "def save_flag(img, filename):\n",
    "    path = os.path.join(DEST_DIR, filename)\n",
    "    with open(path, 'wb') as fp:\n",
    "        fp.write(img)\n",
    "\n",
    "\n",
    "def get_flag(cc):\n",
    "    url = '{}/{cc}/{cc}.gif'.format(BASE_URL, cc=cc.lower())\n",
    "    resp = requests.get(url)\n",
    "    return resp.content\n",
    "\n",
    "\n",
    "def show(text):\n",
    "    print(text, end=' ')\n",
    "    sys.stdout.flush()\n",
    "\n",
    "\n",
    "def download_one(cc):\n",
    "    image = get_flag(cc)\n",
    "    show(cc)\n",
    "    save_flag(image, cc.lower() + '.gif')\n",
    "    return cc\n",
    "\n",
    "########################\n",
    "\n",
    "\n",
    "def main(download_func):\n",
    "    t0 = time.time()\n",
    "    count = download_func(POP20_CC)\n",
    "    elapsed = time.time() - t0\n",
    "    msg = '\\n{} flags downloaded in {:.2f}s'\n",
    "    print(msg.format(count, elapsed))"
   ]
  },
  {
   "cell_type": "markdown",
   "metadata": {},
   "source": [
    "###### 顺序下载"
   ]
  },
  {
   "cell_type": "code",
   "execution_count": 23,
   "metadata": {
    "ExecuteTime": {
     "end_time": "2019-07-19T05:38:52.506479Z",
     "start_time": "2019-07-19T05:38:52.501927Z"
    }
   },
   "outputs": [],
   "source": [
    "def download_sequentially(cc_list):\n",
    "    res = []\n",
    "    for cc in sorted(cc_list):\n",
    "        res.append(download_one(cc))\n",
    "    return len(res)"
   ]
  },
  {
   "cell_type": "code",
   "execution_count": 24,
   "metadata": {
    "ExecuteTime": {
     "end_time": "2019-07-19T05:38:55.743623Z",
     "start_time": "2019-07-19T05:38:53.173592Z"
    }
   },
   "outputs": [
    {
     "name": "stdout",
     "output_type": "stream",
     "text": [
      "BD BR CD CN DE EG ET FR ID IN IR JP MX NG PH PK RU TR US VN \n",
      "20 flags downloaded in 2.56s\n"
     ]
    }
   ],
   "source": [
    "main(download_sequentially)"
   ]
  },
  {
   "cell_type": "markdown",
   "metadata": {},
   "source": [
    "###### 线程池下载"
   ]
  },
  {
   "cell_type": "code",
   "execution_count": 26,
   "metadata": {
    "ExecuteTime": {
     "end_time": "2019-07-19T05:39:58.430784Z",
     "start_time": "2019-07-19T05:39:58.425756Z"
    }
   },
   "outputs": [],
   "source": [
    "from concurrent import futures\n",
    "MAX_WORKERS = 20\n",
    "\n",
    "\n",
    "def download_concurrently(cc_list):\n",
    "    \"\"\"该函数没有显式的调用Future\n",
    "    \"\"\"\n",
    "    num_workers = min(MAX_WORKERS, len(cc_list))\n",
    "    with futures.ThreadPoolExecutor(num_workers) as executor:\n",
    "        res = executor.map(download_one, sorted(cc_list))\n",
    "    return len(list(res))"
   ]
  },
  {
   "cell_type": "code",
   "execution_count": 27,
   "metadata": {
    "ExecuteTime": {
     "end_time": "2019-07-19T05:40:04.322498Z",
     "start_time": "2019-07-19T05:40:04.132657Z"
    }
   },
   "outputs": [
    {
     "name": "stdout",
     "output_type": "stream",
     "text": [
      "ET EG BDMX TR DE VN CN CD RU ID PH PK  FR NG US IN BR JP IR \n",
      "20 flags downloaded in 0.18s\n"
     ]
    }
   ],
   "source": [
    "main(download_concurrently)"
   ]
  },
  {
   "cell_type": "markdown",
   "metadata": {},
   "source": [
    "###### 显式地调用Furture对象的并发版本"
   ]
  },
  {
   "cell_type": "code",
   "execution_count": 29,
   "metadata": {
    "ExecuteTime": {
     "end_time": "2019-07-19T05:48:10.567980Z",
     "start_time": "2019-07-19T05:48:10.562616Z"
    }
   },
   "outputs": [],
   "source": [
    "def download_concurrently_v2(cc_list):\n",
    "    num_workers = min(MAX_WORKERS, len(cc_list))\n",
    "    with futures.ThreadPoolExecutor(num_workers) as executor:\n",
    "        \n",
    "        to_do = []\n",
    "        for cc in sorted(cc_list):\n",
    "            future = executor.submit(download_one, cc)\n",
    "            to_do.append(future)\n",
    "            msg = 'Scheduled for {} : {}'\n",
    "            print(msg.format(cc, future))\n",
    "        \n",
    "        results = []\n",
    "        for future in futures.as_completed(to_do):\n",
    "            res = future.result()\n",
    "            msg = '{} result : {!r}'\n",
    "            print(msg.format(future, res))\n",
    "            results.append(res)\n",
    "    \n",
    "    return len(results)      "
   ]
  },
  {
   "cell_type": "code",
   "execution_count": 30,
   "metadata": {
    "ExecuteTime": {
     "end_time": "2019-07-19T05:48:31.164576Z",
     "start_time": "2019-07-19T05:48:30.960992Z"
    }
   },
   "outputs": [
    {
     "name": "stdout",
     "output_type": "stream",
     "text": [
      "Scheduled for BD : <Future at 0x7f41963595c0 state=running>\n",
      "Scheduled for BR : <Future at 0x7f4196f927f0 state=running>\n",
      "Scheduled for CD : <Future at 0x7f4196f9f8d0 state=running>\n",
      "Scheduled for CN : <Future at 0x7f41963509e8 state=running>\n",
      "Scheduled for DE : <Future at 0x7f41964cb940 state=running>\n",
      "Scheduled for EG : <Future at 0x7f41963d17f0 state=running>\n",
      "Scheduled for ET : <Future at 0x7f4196fc3550 state=running>\n",
      "Scheduled for FR : <Future at 0x7f4196f9d048 state=running>\n",
      "Scheduled for ID : <Future at 0x7f4196d8a780 state=running>\n",
      "Scheduled for IN : <Future at 0x7f4196d8afd0 state=running>\n",
      "Scheduled for IR : <Future at 0x7f4194290668 state=running>\n",
      "Scheduled for JP : <Future at 0x7f41942970f0 state=running>\n",
      "Scheduled for MX : <Future at 0x7f4194297ac8 state=running>\n",
      "Scheduled for NG : <Future at 0x7f41942797b8 state=running>\n",
      "Scheduled for PH : <Future at 0x7f4194227240 state=running>\n",
      "Scheduled for PK : <Future at 0x7f4194227cc0 state=running>\n",
      "Scheduled for RU : <Future at 0x7f4194235780 state=running>\n",
      "Scheduled for TR : <Future at 0x7f419423e1d0 state=running>\n",
      "Scheduled for US : <Future at 0x7f419423ebe0 state=running>\n",
      "Scheduled for VN : <Future at 0x7f4194248550 state=running>\n",
      "CN <Future at 0x7f41963509e8 state=finished returned str> result : 'CN'\n",
      "BR <Future at 0x7f4196f927f0 state=finished returned str> result : 'BR'\n",
      "BD <Future at 0x7f41963595c0 state=finished returned str> result : 'BD'\n",
      "EG <Future at 0x7f41963d17f0 state=finished returned str> result : 'EG'\n",
      "DE <Future at 0x7f41964cb940 state=finished returned str> result : 'DE'\n",
      "IN CDFR  JP <Future at 0x7f4196d8afd0 state=finished returned str> result : 'IN'\n",
      "<Future at 0x7f41942970f0 state=finished returned str> result : 'JP'\n",
      "<Future at 0x7f4196f9d048 state=finished returned str> result : 'FR'\n",
      "<Future at 0x7f4196f9f8d0 state=finished returned str> result : 'CD'\n",
      "MX <Future at 0x7f4194297ac8 state=finished returned str> result : 'MX'\n",
      "ID <Future at 0x7f4196d8a780 state=finished returned str> result : 'ID'\n",
      "US <Future at 0x7f419423ebe0 state=finished returned str> result : 'US'\n",
      "ET RU TR <Future at 0x7f4196fc3550 state=finished returned str> result : 'ET'\n",
      "<Future at 0x7f4194235780 state=finished returned str> result : 'RU'NG\n",
      "<Future at 0x7f419423e1d0 state=finished returned str> result : 'TR'\n",
      " <Future at 0x7f41942797b8 state=finished returned str> result : 'NG'\n",
      "VN <Future at 0x7f4194248550 state=finished returned str> result : 'VN'\n",
      "PH <Future at 0x7f4194227240 state=finished returned str> result : 'PH'\n",
      "PK <Future at 0x7f4194227cc0 state=finished returned str> result : 'PK'\n",
      "IR <Future at 0x7f4194290668 state=finished returned str> result : 'IR'\n",
      "\n",
      "20 flags downloaded in 0.20s\n"
     ]
    }
   ],
   "source": [
    "main(download_concurrently_v2)"
   ]
  },
  {
   "cell_type": "markdown",
   "metadata": {},
   "source": [
    "<center>关于Python中的多线程</center>\n",
    "\n",
    "Every blocking I/O function in the Python standard library **releases the GIL**, allowing other threads to run. <br>\n",
    "The time.sleep() function also releases the GIL. <br>\n",
    "Therefore, Python threads are per‐fectly usable in I/O-bound applications, despite the GIL."
   ]
  },
  {
   "cell_type": "markdown",
   "metadata": {},
   "source": [
    "##### Concurrent.futures 的若干功能"
   ]
  },
  {
   "cell_type": "markdown",
   "metadata": {},
   "source": [
    "###### Executor.map"
   ]
  },
  {
   "cell_type": "code",
   "execution_count": 4,
   "metadata": {
    "ExecuteTime": {
     "end_time": "2019-07-20T00:57:07.069002Z",
     "start_time": "2019-07-20T00:57:07.063886Z"
    }
   },
   "outputs": [],
   "source": [
    "from time import sleep, strftime\n",
    "from concurrent import futures\n",
    "\n",
    "def display(*args):\n",
    "    print(strftime('[%H:%M:%S]'), end=' ')\n",
    "    print(*args)\n",
    "\n",
    "def loiter(n):\n",
    "    msg = '{}loiter({}): doing nothing for {}s...'\n",
    "    display(msg.format('\\t' * n, n, n))\n",
    "    sleep(n)\n",
    "    msg = '{}loiter({}): done.'\n",
    "    display(msg.format('\\t' * n, n))\n",
    "    return n * 10"
   ]
  },
  {
   "cell_type": "code",
   "execution_count": 7,
   "metadata": {
    "ExecuteTime": {
     "end_time": "2019-07-20T00:57:18.815376Z",
     "start_time": "2019-07-20T00:57:18.810783Z"
    }
   },
   "outputs": [],
   "source": [
    "def main():\n",
    "    display('Script starting.')\n",
    "    executor = futures.ThreadPoolExecutor(max_workers=4)\n",
    "    results = executor.map(loiter, range(8))\n",
    "    display('result:', results)\n",
    "    display('Waiting for individual results:')\n",
    "    for i, result in enumerate(results):\n",
    "        display('result {} : {}'.format(i, result))"
   ]
  },
  {
   "cell_type": "code",
   "execution_count": 8,
   "metadata": {
    "ExecuteTime": {
     "end_time": "2019-07-20T00:57:29.493070Z",
     "start_time": "2019-07-20T00:57:19.465753Z"
    }
   },
   "outputs": [
    {
     "name": "stdout",
     "output_type": "stream",
     "text": [
      "[09:57:19] Script starting.\n",
      "[09:57:19] loiter(0): doing nothing for 0s...\n",
      "[09:57:19] loiter(0): done.\n",
      "[09:57:19] \tloiter(1): doing nothing for 1s...\n",
      "[09:57:19][09:57:19] \t\t\tloiter(3): doing nothing for 3s...\n",
      " \t\tloiter(2): doing nothing for 2s...\n",
      "[09:57:19] result: <generator object Executor.map.<locals>.result_iterator at 0x7ff0b7533fc0>\n",
      "[09:57:19] Waiting for individual results:\n",
      "[09:57:19] result 0 : 0\n",
      "[09:57:19] \t\t\t\tloiter(4): doing nothing for 4s...\n",
      "[09:57:20] \tloiter(1): done.\n",
      "[09:57:20] \t\t\t\t\tloiter(5): doing nothing for 5s...\n",
      "[09:57:20] result 1 : 10\n",
      "[09:57:21] \t\tloiter(2): done.\n",
      "[09:57:21] \t\t\t\t\t\tloiter(6): doing nothing for 6s...\n",
      "[09:57:21] result 2 : 20\n",
      "[09:57:22] \t\t\tloiter(3): done.\n",
      "[09:57:22] \t\t\t\t\t\t\tloiter(7): doing nothing for 7s...\n",
      "[09:57:22] result 3 : 30\n",
      "[09:57:23] \t\t\t\tloiter(4): done.\n",
      "[09:57:23] result 4 : 40\n",
      "[09:57:25] \t\t\t\t\tloiter(5): done.\n",
      "[09:57:25] result 5 : 50\n",
      "[09:57:27] \t\t\t\t\t\tloiter(6): done.\n",
      "[09:57:27] result 6 : 60\n",
      "[09:57:29] \t\t\t\t\t\t\tloiter(7): done.\n",
      "[09:57:29] result 7 : 70\n"
     ]
    }
   ],
   "source": [
    "main()"
   ]
  },
  {
   "cell_type": "markdown",
   "metadata": {},
   "source": [
    "<center> Executor.map 的特点</center>\n",
    "\n",
    "1. 它返回一个生成器对象, 里面**按调用的顺序储存了运行结果**. 因此如果前面的调用耗时比较长, 生成器一开始可能阻塞"
   ]
  },
  {
   "cell_type": "markdown",
   "metadata": {},
   "source": [
    "###### Error Handling"
   ]
  },
  {
   "cell_type": "code",
   "execution_count": null,
   "metadata": {},
   "outputs": [],
   "source": []
  },
  {
   "cell_type": "code",
   "execution_count": null,
   "metadata": {},
   "outputs": [],
   "source": []
  }
 ],
 "metadata": {
  "kernelspec": {
   "display_name": "Python 3",
   "language": "python",
   "name": "python3"
  },
  "language_info": {
   "codemirror_mode": {
    "name": "ipython",
    "version": 3
   },
   "file_extension": ".py",
   "mimetype": "text/x-python",
   "name": "python",
   "nbconvert_exporter": "python",
   "pygments_lexer": "ipython3",
   "version": "3.7.5"
  },
  "toc": {
   "base_numbering": 1,
   "nav_menu": {},
   "number_sections": true,
   "sideBar": true,
   "skip_h1_title": false,
   "title_cell": "Table of Contents",
   "title_sidebar": "Contents",
   "toc_cell": false,
   "toc_position": {},
   "toc_section_display": true,
   "toc_window_display": true
  }
 },
 "nbformat": 4,
 "nbformat_minor": 2
}
