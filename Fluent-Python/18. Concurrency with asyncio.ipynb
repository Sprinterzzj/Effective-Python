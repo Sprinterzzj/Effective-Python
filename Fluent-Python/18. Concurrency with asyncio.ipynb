{
 "cells": [
  {
   "cell_type": "markdown",
   "metadata": {
    "toc": true
   },
   "source": [
    "<h1>Table of Contents<span class=\"tocSkip\"></span></h1>\n",
    "<div class=\"toc\"><ul class=\"toc-item\"><li><span><a href=\"#Thread-Versus-Coroutine:-A-Comparison\" data-toc-modified-id=\"Thread-Versus-Coroutine:-A-Comparison-1\"><span class=\"toc-item-num\">1&nbsp;&nbsp;</span>Thread Versus Coroutine: A Comparison</a></span></li></ul></div>"
   ]
  },
  {
   "cell_type": "markdown",
   "metadata": {},
   "source": [
    "##### Thread Versus Coroutine: A Comparison"
   ]
  },
  {
   "cell_type": "markdown",
   "metadata": {},
   "source": [
    "spinner with thread"
   ]
  },
  {
   "cell_type": "code",
   "execution_count": 4,
   "metadata": {
    "ExecuteTime": {
     "end_time": "2019-07-29T07:19:32.178708Z",
     "start_time": "2019-07-29T07:19:32.171043Z"
    }
   },
   "outputs": [],
   "source": [
    "import threading\n",
    "import itertools\n",
    "import time\n",
    "import sys\n",
    "\n",
    "\n",
    "class Signal: #1 Signal类有一个可变成员 go, 用它来控制线程的开启或者关闭.\n",
    "    go = True\n",
    "\n",
    "\n",
    "def spin(msg, signal): #2 第二个参数是 Signal的实例\n",
    "    write, flush = sys.stdout.write, sys.stdout.flush\n",
    "    for char in itertools.cycle('|/-\\\\'): #3 这是一个无限循环, 参考 itertools.cycle\n",
    "        status = char + '' + msg\n",
    "        write(status)\n",
    "        flush()\n",
    "        write('\\x08' * len(status)) #4 The trick to do text-mode animation: move the cursor back with backspace characters (\\x08).\n",
    "                                    #然而在jupyter里面看不到......\n",
    "        time.sleep(.1)\n",
    "        if not signal.go: #5 If the go attribute is no longer True, exit the loop.\n",
    "            break\n",
    "    write(' ' * len(status) + '\\x08' * len(status)) #6 Clear the status line by overwriting with spaces and \n",
    "                                                    #  moving the cursor back to the beginning.\n",
    "\n",
    "\n",
    "def slow_function(): #7 模拟一个耗时的计算\n",
    "    time.sleep(3) #8 sleep函数阻塞主线程, 同时使主线程释放GIL, 此时副线程得以运行.\n",
    "    return '高科技'\n",
    "\n",
    "\n",
    "def supervisor(): #9 开辟副线程, 运行副线程并且模拟耗时计算, 最后杀死线程\n",
    "    signal = Signal()\n",
    "    # 开一个线程\n",
    "    spinner = threading.Thread(target=spin, args=('thinking', signal))\n",
    "    print('spinner object:', spinner) #10\n",
    "    spinner.start() #11\n",
    "    result = slow_function() #12\n",
    "    signal.go = False #13\n",
    "    spinner.join() #14\n",
    "    return result\n",
    "\n",
    "\n",
    "def main():\n",
    "    result = supervisor() #15\n",
    "    print('Answer:', result)"
   ]
  },
  {
   "cell_type": "code",
   "execution_count": 5,
   "metadata": {
    "ExecuteTime": {
     "end_time": "2019-07-29T07:19:35.705475Z",
     "start_time": "2019-07-29T07:19:32.683967Z"
    }
   },
   "outputs": [
    {
     "name": "stdout",
     "output_type": "stream",
     "text": [
      "spinner object: <Thread(Thread-5, initial)>\n",
      "|thinkin/thinkin-thinkin\\thinkin|thinkin/thinkin-thinkin\\thinkin|thinkin/thinkin-thinkin\\thinkin|thinkin/thinkin-thinkin\\thinkin|thinkin/thinkin-thinkin\\thinkin|thinkin/thinkin-thinkin\\thinkin|thinkin/thinkin-thinkin\\thinkin|thinkin        Answer: 高科技\n"
     ]
    }
   ],
   "source": [
    "main()"
   ]
  },
  {
   "cell_type": "markdown",
   "metadata": {},
   "source": [
    "spinner with asyncio"
   ]
  },
  {
   "cell_type": "code",
   "execution_count": 7,
   "metadata": {
    "ExecuteTime": {
     "end_time": "2019-07-29T08:08:52.735740Z",
     "start_time": "2019-07-29T08:08:52.727606Z"
    }
   },
   "outputs": [],
   "source": [
    "import asyncio\n",
    "import itertools\n",
    "import sys\n",
    "\n",
    "\n",
    "@asyncio.coroutine #1\n",
    "def spin(msg): #2\n",
    "    write, flush = sys.stdout.write, sys.stdout.flush\n",
    "    for char in itertools.cycle('|/-\\\\'):\n",
    "        status = char + ' ' + msg\n",
    "        write(status)\n",
    "        flush()\n",
    "        write('\\x08' * len(status))\n",
    "        try:\n",
    "            yield from asyncio.sleep(.1) #3\n",
    "        except asyncio.CancelledError: #4\n",
    "            break\n",
    "    write(' ' * len(status) + '\\x08' * len(status))\n",
    "\n",
    "\n",
    "@asyncio.coroutine\n",
    "def slow_function(): #5\n",
    "    yield from asyncio.sleep(3) #6\n",
    "    return '高科技'\n",
    "\n",
    "\n",
    "@asyncio.coroutine\n",
    "def supervisor(): #7\n",
    "    spinner = asyncio.async(spin('thinking')) #8\n",
    "    print('spinner object:', spinner) #9\n",
    "    result = yield from slow_function() #10\n",
    "    spinner.cancel() #11\n",
    "    return result\n",
    "\n",
    "\n",
    "def main():\n",
    "    loop = asyncio.get_event_loop() #12\n",
    "    result = loop.run_until_complete(supervisor()) #13\n",
    "    loop.close()\n",
    "    print('Answer:', result)"
   ]
  },
  {
   "cell_type": "markdown",
   "metadata": {},
   "source": [
    "<center>总结</center>\n",
    "\n",
    "1. 如果你想使用 asyncio 来实现协程, 最好加上 @asyncio.coroutine 装饰器.\n",
    "2. 这里不需要外界提供一个信号来控制协程.\n",
    "3. 使用 asyncio 来实现协程时, IO-bound的操作要小心, 为了不阻塞事件循环, 需要用 yield from asyncio.sleep(.1).\n",
    "4. 如果抛出 asyncio.CancelledError 异常, 就退出循环, 协程中止.\n",
    "5. slow_function 现在也是一个协程(因为他原本有IO-bound的操作).\n",
    "6. The yield from asyncio.sleep(3) expression handles the control flow to the main loop, \n",
    "which will resume this coroutine after the sleep delay.\n",
    "7. supervisor 现在也是一个协程函数, 内部会 通过 yield from 调用协程函数 slow_function.\n",
    "8. asyncio.async(…) schedules the spin coroutine to run, wrapping it in a ***Task*** object, which is ***returned immediately***.\n",
    "9. 打印 Task 对象.\n",
    "10. yield from slow_function(), 并获得其返回值. 同时 时间循环将会继续运行, 这是因为 slow_fucntion 内部 yield from 了 asyncio.sleep(3), 控制权会立刻回到主循环.\n",
    "11. 通过调用 Task 对象的 cancell 方法, raise asyncio.CancelledError, 抛出异常的地方是Task包装的协程函数**当前挂起的 yield 语句的位置**. 协程函数可以捕获异常, 延迟异常甚至拒绝异常.\n",
    "12. 获得事件循环的***引用***.\n",
    "13. 启动 supervisor 协程函数直到他终止并且获取其返回值."
   ]
  },
  {
   "cell_type": "code",
   "execution_count": null,
   "metadata": {},
   "outputs": [],
   "source": []
  }
 ],
 "metadata": {
  "kernelspec": {
   "display_name": "Python 3",
   "language": "python",
   "name": "python3"
  },
  "language_info": {
   "codemirror_mode": {
    "name": "ipython",
    "version": 3
   },
   "file_extension": ".py",
   "mimetype": "text/x-python",
   "name": "python",
   "nbconvert_exporter": "python",
   "pygments_lexer": "ipython3",
   "version": "3.6.7"
  },
  "toc": {
   "base_numbering": 1,
   "nav_menu": {},
   "number_sections": true,
   "sideBar": true,
   "skip_h1_title": true,
   "title_cell": "Table of Contents",
   "title_sidebar": "Contents",
   "toc_cell": true,
   "toc_position": {},
   "toc_section_display": true,
   "toc_window_display": false
  }
 },
 "nbformat": 4,
 "nbformat_minor": 2
}
