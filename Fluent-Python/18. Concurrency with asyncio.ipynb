{
 "cells": [
  {
   "cell_type": "markdown",
   "metadata": {
    "toc": true
   },
   "source": [
    "<h1>Table of Contents<span class=\"tocSkip\"></span></h1>\n",
    "<div class=\"toc\"><ul class=\"toc-item\"><li><span><a href=\"#Thread-Versus-Coroutine:-A-Comparison\" data-toc-modified-id=\"Thread-Versus-Coroutine:-A-Comparison-1\"><span class=\"toc-item-num\">1&nbsp;&nbsp;</span>Thread Versus Coroutine: A Comparison</a></span></li></ul></div>"
   ]
  },
  {
   "cell_type": "markdown",
   "metadata": {},
   "source": [
    "##### Thread Versus Coroutine: A Comparison"
   ]
  },
  {
   "cell_type": "markdown",
   "metadata": {},
   "source": [
    "spinner with thread"
   ]
  },
  {
   "cell_type": "code",
   "execution_count": 4,
   "metadata": {
    "ExecuteTime": {
     "end_time": "2019-07-29T07:19:32.178708Z",
     "start_time": "2019-07-29T07:19:32.171043Z"
    }
   },
   "outputs": [],
   "source": [
    "import threading\n",
    "import itertools\n",
    "import time\n",
    "import sys\n",
    "\n",
    "\n",
    "class Signal: #1 Signal类有一个可变成员 go, 用它来控制线程的开启或者关闭.\n",
    "    go = True\n",
    "\n",
    "\n",
    "def spin(msg, signal): #2 第二个参数是 Signal的实例\n",
    "    write, flush = sys.stdout.write, sys.stdout.flush\n",
    "    for char in itertools.cycle('|/-\\\\'): #3 这是一个无限循环, 参考 itertools.cycle\n",
    "        status = char + '' + msg\n",
    "        write(status)\n",
    "        flush()\n",
    "        write('\\x08' * len(status)) #4 The trick to do text-mode animation: move the cursor back with backspace characters (\\x08).\n",
    "                                    #然而在jupyter里面看不到......\n",
    "        time.sleep(.1)\n",
    "        if not signal.go: #5 If the go attribute is no longer True, exit the loop.\n",
    "            break\n",
    "    write(' ' * len(status) + '\\x08' * len(status)) #6 Clear the status line by overwriting with spaces and \n",
    "                                                    #  moving the cursor back to the beginning.\n",
    "\n",
    "\n",
    "def slow_function(): #7 模拟一个耗时的计算\n",
    "    time.sleep(3) #8 sleep函数阻塞主线程, 同时使主线程释放GIL, 此时副线程得以运行.\n",
    "    return '高科技'\n",
    "\n",
    "\n",
    "def supervisor(): #9 开辟副线程, 运行副线程并且模拟耗时计算, 最后杀死线程\n",
    "    signal = Signal()\n",
    "    # 开一个线程\n",
    "    spinner = threading.Thread(target=spin, args=('thinking', signal))\n",
    "    print('spinner object:', spinner) #10\n",
    "    spinner.start() #11\n",
    "    result = slow_function() #12\n",
    "    signal.go = False #13\n",
    "    spinner.join() #14\n",
    "    return result\n",
    "\n",
    "\n",
    "def main():\n",
    "    result = supervisor() #15\n",
    "    print('Answer:', result)"
   ]
  },
  {
   "cell_type": "code",
   "execution_count": 5,
   "metadata": {
    "ExecuteTime": {
     "end_time": "2019-07-29T07:19:35.705475Z",
     "start_time": "2019-07-29T07:19:32.683967Z"
    }
   },
   "outputs": [
    {
     "name": "stdout",
     "output_type": "stream",
     "text": [
      "spinner object: <Thread(Thread-5, initial)>\n",
      "|thinkin/thinkin-thinkin\\thinkin|thinkin/thinkin-thinkin\\thinkin|thinkin/thinkin-thinkin\\thinkin|thinkin/thinkin-thinkin\\thinkin|thinkin/thinkin-thinkin\\thinkin|thinkin/thinkin-thinkin\\thinkin|thinkin/thinkin-thinkin\\thinkin|thinkin        Answer: 高科技\n"
     ]
    }
   ],
   "source": [
    "main()"
   ]
  },
  {
   "cell_type": "markdown",
   "metadata": {},
   "source": [
    "spinner with asyncio"
   ]
  },
  {
   "cell_type": "code",
   "execution_count": 7,
   "metadata": {
    "ExecuteTime": {
     "end_time": "2019-07-29T08:08:52.735740Z",
     "start_time": "2019-07-29T08:08:52.727606Z"
    }
   },
   "outputs": [],
   "source": [
    "import asyncio\n",
    "import itertools\n",
    "import sys\n",
    "\n",
    "\n",
    "@asyncio.coroutine #1\n",
    "def spin(msg): #2\n",
    "    write, flush = sys.stdout.write, sys.stdout.flush\n",
    "    for char in itertools.cycle('|/-\\\\'):\n",
    "        status = char + ' ' + msg\n",
    "        write(status)\n",
    "        flush()\n",
    "        write('\\x08' * len(status))\n",
    "        try:\n",
    "            yield from asyncio.sleep(.1) #3\n",
    "        except asyncio.CancelledError: #4\n",
    "            break\n",
    "    write(' ' * len(status) + '\\x08' * len(status))\n",
    "\n",
    "\n",
    "@asyncio.coroutine\n",
    "def slow_function(): #5\n",
    "    yield from asyncio.sleep(3) #6\n",
    "    return '高科技'\n",
    "\n",
    "\n",
    "@asyncio.coroutine\n",
    "def supervisor(): #7\n",
    "    spinner = asyncio.async(spin('thinking')) #8\n",
    "    print('spinner object:', spinner) #9\n",
    "    result = yield from slow_function() #10\n",
    "    spinner.cancel() #11\n",
    "    return result\n",
    "\n",
    "\n",
    "def main():\n",
    "    loop = asyncio.get_event_loop() #12\n",
    "    result = loop.run_until_complete(supervisor()) #13\n",
    "    loop.close()\n",
    "    print('Answer:', result)"
   ]
  },
  {
   "cell_type": "markdown",
   "metadata": {},
   "source": [
    "<center>总结</center>\n",
    "\n",
    "1. 如果你想使用 asyncio 来实现协程, 最好加上 @asyncio.coroutine 装饰器.\n",
    "2. 这里不需要外界提供一个信号来控制协程.\n",
    "3. 使用 asyncio 来实现协程时, IO-bound的操作要小心, 为了不阻塞事件循环, 需要用 yield from asyncio.sleep(.1).\n",
    "4. 如果抛出 asyncio.CancelledError 异常, 就退出循环, 协程中止.\n",
    "5. slow_function 现在也是一个协程(因为他原本有IO-bound的操作).\n",
    "6. The yield from asyncio.sleep(3) expression handles the control flow to the main loop, \n",
    "which will resume this coroutine after the sleep delay.\n",
    "7. supervisor 现在也是一个协程函数, 内部会 通过 yield from 调用协程函数 slow_function.\n",
    "8. asyncio.async(…) schedules the spin coroutine to run, wrapping it in a ***Task*** object, which is ***returned immediately***.\n",
    "9. 打印 Task 对象.\n",
    "10. yield from slow_function(), 并获得其返回值. 同时 时间循环将会继续运行, 这是因为 slow_fucntion 内部 yield from 了 asyncio.sleep(3), 控制权会立刻回到主循环.\n",
    "11. 通过调用 Task 对象的 cancell 方法, raise asyncio.CancelledError, 抛出异常的地方是Task包装的协程函数**当前挂起的 yield 语句的位置**. 协程函数可以捕获异常, 延迟异常甚至拒绝异常.\n",
    "12. 获得事件循环的***引用***.\n",
    "13. 启动 supervisor 协程函数直到他终止并且获取其返回值."
   ]
  },
  {
   "cell_type": "markdown",
   "metadata": {},
   "source": [
    "<center>重点:asyncio.Future 与 concurrent.future.Future 的不同</center>\n",
    "\n",
    "1. futures 对象是 results of scheduling something for execution. 在 asyncio 中, BaseEventLoop.creat_task() 接收一个协程函数, 调度它运行, 并且立刻返回一个 asyncio.Task 实例, Task 是 Future 的子类.\n",
    "2. 在 asyncio.Future 的 result() 方法没有参数, 你不能指定 timeout, 并且如果 future 没有完成, 它不会像 concurrent 中的 Future 那样阻塞主线程, 而是抛出\n",
    "   asyncio.InvalidStateError 异常.\n",
    "3. 但是如果使用 yield from 语句而不是 result() 方法, 那么 future 会自动等待完成, 并将结果赋值给 yield from 左边的表达式. **事件循环**不会阻塞; 运行 yield from 的 协程函数会挂起, 直到 yield from 完成."
   ]
  },
  {
   "cell_type": "markdown",
   "metadata": {},
   "source": [
    "有两种方法来创建 Task 对象:\n",
    "\n",
    "1. asyncio.async(coro_or_future, * , loop=None). 如果你传递了协程对象, async 将调用 loop.create_task() 来创建 Task 对象. 你亦可以指定事件循环, 如果不指定, 会调用 asyncio.get_event_loop() 获得**唯一的**事件循环.\n",
    "2. BaseEventLoop.creat_task(coro) 调度协程函数并且立刻返回一个 Task 对象."
   ]
  },
  {
   "cell_type": "markdown",
   "metadata": {},
   "source": [
    "下面给出 donwload_flag 的 asyncio 版本, 注意:\n",
    "\n",
    "1. 需要 python 3.7\n",
    "2. 无法在 jupyter notebook 中运行, 需要在命令行下运行"
   ]
  },
  {
   "cell_type": "code",
   "execution_count": 3,
   "metadata": {
    "ExecuteTime": {
     "end_time": "2019-08-06T06:19:22.903533Z",
     "start_time": "2019-08-06T06:19:22.900072Z"
    }
   },
   "outputs": [],
   "source": [
    "import os\n",
    "import time\n",
    "import sys\n",
    "\n",
    "import asyncio  # 1\n",
    "import aiohttp  # 2\n",
    "\n",
    "POP20_CC = ('CN IN US ID BR PK NG BD RU JP '\n",
    "            'MX PH VN ET EG DE IR TR CD FR').split()\n",
    "BASE_URL = 'http://flupy.org/data/flags'\n",
    "DEST_DIR = 'downloads/'\n",
    "\n",
    "\n",
    "def save_flag(img, filename):\n",
    "    path = os.path.join(DEST_DIR, filename)\n",
    "    with open(path, 'wb') as fp:\n",
    "        fp.write(img)\n",
    "\n",
    "\n",
    "async def get_flag(session, cc):  # 3 async 关键字 等同于 @asyncio.coroutine\n",
    "    url = '{}/{cc}/{cc}.gif'.format(BASE_URL, cc=cc.lower())\n",
    "    # 4 需要在 with 前加上 async, 因为 session.get是 IO bound 的,\n",
    "    async with session.get(url) as resp:\n",
    "                                         # 这一句等价于 resp = yield from aiohttp.request('GET', url)\n",
    "        return await resp.read()  # 5 等价于 return yield from resp.read()\n",
    "\n",
    "\n",
    "def show(text):\n",
    "    print(text, end=' ')\n",
    "    sys.stdout.flush()\n",
    "\n",
    "\n",
    "async def download_one(session, cc):  # 6 download_one 也是一个协程函数, 因为它调用了 get_flag 协程\n",
    "    # 7 等价于 yield from get_flag(session, cc)\n",
    "    image = await get_flag(session, cc)\n",
    "    show(cc)\n",
    "    save_flag(image, cc.lower() + '.gif')\n",
    "    return cc\n",
    "\n",
    "\n",
    "async def download_many(cc_list):\n",
    "    async with aiohttp.ClientSeesion() as session:  # 8 aiohttp 的 异步 session\n",
    "        res = await asyncio.gather(  # 9 你无须显示的调用事件循环了.\n",
    "            *[asyncio.creat_task(download_one(session, cc)) for cc in sorted(cc_list)]\n",
    "        )\n",
    "    return len(res)\n",
    "\n",
    "\n",
    "def main():\n",
    "    t0 = time.time()\n",
    "    count = asyncio.run(download_many(POP20_CC))\n",
    "    elapsed = time.time() - t0\n",
    "    msg = '\\n{} flags downloaded in {:.2f}s'\n",
    "    print(msg.format(count, elapsed))"
   ]
  },
  {
   "cell_type": "code",
   "execution_count": 14,
   "metadata": {
    "ExecuteTime": {
     "end_time": "2019-08-06T06:43:39.003691Z",
     "start_time": "2019-08-06T06:43:39.001286Z"
    }
   },
   "outputs": [],
   "source": [
    "# main()"
   ]
  },
  {
   "cell_type": "markdown",
   "metadata": {},
   "source": [
    "对比一下老版本的 asyncio 实现, 注意:\n",
    "\n",
    "1. 仍然需要在命令行下实现\n",
    "2. asyncio.wait 函数返回一个迭代器. wait 函数可以指定 **timeout 和 return_when** ;迭代器作为 loop.run_until_complete的参数后, run_until_complete\n",
    "   将返回一个元组: (已完成的futures, 未完成的futures)---默认行为是等待所有 futures 完成"
   ]
  },
  {
   "cell_type": "code",
   "execution_count": 17,
   "metadata": {
    "ExecuteTime": {
     "end_time": "2019-08-06T07:27:48.581705Z",
     "start_time": "2019-08-06T07:27:48.574172Z"
    }
   },
   "outputs": [],
   "source": [
    "import asyncio, aiohttp\n",
    "\n",
    "@asyncio.coroutine\n",
    "def get_flag(cc):\n",
    "    url = '{}/{cc}/{cc}.gif'.format(BASE_URL, cc=cc.lower())\n",
    "    resp = yield from aiohttp.request('GET', url)\n",
    "    image = yield from resp.read()\n",
    "    return image\n",
    "\n",
    "@asyncio.coroutine\n",
    "def download_one(cc):\n",
    "    image = yield from get_flag(cc)\n",
    "    show(cc)\n",
    "    save_flag(image, cc.lower() + '.gif')\n",
    "    return cc\n",
    "\n",
    "def download_many(cc_list):\n",
    "    \"\"\"这一版本的download_many需要显式地处理事件循环\n",
    "    \"\"\"\n",
    "    loop = asyncio.get_event_loop() #1 创建当前线程事件循环的引用\n",
    "    to_do = [download_one(cc) for cc in sorted(cc_list)] #2 创建生成器函数的list\n",
    "    wait_coro = asyncio.wait(to_do) #3 这不是一个阻塞函数. 他是一个协程函数, 接受可迭代的对象, 可迭代的对象里储存了 futures或协程函数 ,\n",
    "                                    #  当这些协程函数完成时, 它也完成.\n",
    "    res, _ = loop.run_until_complete(wait_coro) #4 执行事件循环直到 wait_coro 终止\n",
    "    loop.close() #5 关闭事件循环\n",
    "\n",
    "def main(download_many):  \n",
    "    t0 = time.time()\n",
    "    count = download_many(POP20_CC)\n",
    "    elapsed = time.time() - t0\n",
    "    msg = '\\n{} flags downloaded in {:.2f}s'\n",
    "    print(msg.format(count, elapsed))"
   ]
  },
  {
   "cell_type": "markdown",
   "metadata": {},
   "source": []
  }
 ],
 "metadata": {
  "kernelspec": {
   "display_name": "Python 3",
   "language": "python",
   "name": "python3"
  },
  "language_info": {
   "codemirror_mode": {
    "name": "ipython",
    "version": 3
   },
   "file_extension": ".py",
   "mimetype": "text/x-python",
   "name": "python",
   "nbconvert_exporter": "python",
   "pygments_lexer": "ipython3",
   "version": "3.6.7"
  },
  "toc": {
   "base_numbering": 1,
   "nav_menu": {},
   "number_sections": true,
   "sideBar": true,
   "skip_h1_title": true,
   "title_cell": "Table of Contents",
   "title_sidebar": "Contents",
   "toc_cell": true,
   "toc_position": {},
   "toc_section_display": true,
   "toc_window_display": false
  }
 },
 "nbformat": 4,
 "nbformat_minor": 2
}
