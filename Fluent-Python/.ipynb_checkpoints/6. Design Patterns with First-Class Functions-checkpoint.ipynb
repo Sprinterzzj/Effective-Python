{
 "cells": [
  {
   "cell_type": "markdown",
   "metadata": {
    "toc": true
   },
   "source": [
    "<h1>Table of Contents<span class=\"tocSkip\"></span></h1>\n",
    "<div class=\"toc\"><ul class=\"toc-item\"><li><span><a href=\"#Case-Study:-Refactoring-Strategy\" data-toc-modified-id=\"Case-Study:-Refactoring-Strategy-1\"><span class=\"toc-item-num\">1&nbsp;&nbsp;</span>Case Study: Refactoring Strategy</a></span></li></ul></div>"
   ]
  },
  {
   "cell_type": "markdown",
   "metadata": {},
   "source": [
    "###### Case Study: Refactoring Strategy\n",
    "\n",
    "Define a family of algorithms, encapsulate each one, and make them interchangeable.\n",
    "Strategy lets the algorithm vary independently from clients that use it."
   ]
  },
  {
   "cell_type": "markdown",
   "metadata": {},
   "source": [
    "![img/6_1.png](img/6_1.png)\n",
    "\n",
    "Context\n",
    "\n",
    "Provides a service by delegating some computation to interchangeable components that implement alternative algorithms. In the ecommerce example, the context is an Order, which is configured to apply a promotional discount according to one of several algorithms.\n",
    "\n",
    "Strategy\n",
    "\n",
    "The interface common to the components that implement the different algorithms.\n",
    "In our example, this role is played by an abstract class called Promotion.\n",
    "\n",
    "Concrete Strategy\n",
    "\n",
    "One of the concrete subclasses of Strategy. FidelityPromo, BulkPromo, and Large OrderPromo are the three concrete strategies implemented."
   ]
  },
  {
   "cell_type": "code",
   "execution_count": 4,
   "metadata": {
    "ExecuteTime": {
     "end_time": "2019-09-19T08:41:48.143800Z",
     "start_time": "2019-09-19T08:41:48.131736Z"
    }
   },
   "outputs": [],
   "source": [
    "from abc import ABC, abstractmethod\n",
    "from collections import namedtuple, Iterable\n",
    "\n",
    "Customer = namedtuple('Customer', 'name fidelity')\n",
    "\n",
    "\n",
    "class LineItem(object):\n",
    "\n",
    "    def __init__(self, product, quantity, price):\n",
    "\n",
    "        self.product = product\n",
    "        self.quantity = quantity\n",
    "        self.price = price\n",
    "\n",
    "    @property\n",
    "    def total(self):\n",
    "\n",
    "        return self.price * self.quantity\n",
    "\n",
    "\n",
    "class Order(object):\n",
    "    \"\"\"The context class\n",
    "    \"\"\"\n",
    "\n",
    "    def __init__(self, customer: str, cart: Iterable, promotion=None):\n",
    "\n",
    "        self.customer = customer\n",
    "        self.cart = list(cart)\n",
    "        self.promotion = promotion\n",
    "\n",
    "    @property\n",
    "    def total(self):\n",
    "\n",
    "        if not hasattr(self, '__total'):\n",
    "            self.__total = sum(item.total for item in self.cart)\n",
    "        return self.__total\n",
    "\n",
    "    @property\n",
    "    def due(self):\n",
    "        \"\"\"计算折扣\n",
    "        \"\"\"\n",
    "        if self.promotion is None:\n",
    "            discount = 0\n",
    "        else:\n",
    "            discount = self.promotion.discount(self)\n",
    "        return self.total() - discount\n",
    "\n",
    "    def __repr__(self):\n",
    "\n",
    "        fmt = '<Order total: {:.2f} due: {:.2f}>'\n",
    "        return fmt.format(self.total, self.due)\n",
    "\n",
    "    \n",
    "class Promotion(object):\n",
    "    \n",
    "    \n",
    "    @classmethod\n",
    "    @abstractmethod\n",
    "    def discount(cls, order:Order):\n",
    "        \n",
    "        raise NotImplementedError\n",
    "\n",
    "\n",
    "class FidelityPromo(Promotion):\n",
    "    \n",
    "    @classmethod\n",
    "    def discount(cls, order:Order):\n",
    "        \n",
    "        return order.total * .05 if order.customer.fidelity >= 1000 else 0\n",
    "\n",
    "\n",
    "class BulkItemPromo(Promotion):\n",
    "    \n",
    "    @classmethod\n",
    "    def discount(cls, order):\n",
    "        \n",
    "        discount = 0\n",
    "        for item in order.cart:\n",
    "            if item.quantity >=20:\n",
    "                discount += item.total * .1\n",
    "        return discount\n",
    "\n",
    "class LargeOrderPromo(Promotion):\n",
    "    \n",
    "    @classmethod\n",
    "    def discount(cls, order):\n",
    "        \n",
    "        distinct_items = {item.product for item in order.cart}\n",
    "        if len(distinct_items) >= 10:\n",
    "            return order.total * .07\n",
    "        else:\n",
    "            return 0\n",
    "    "
   ]
  },
  {
   "cell_type": "code",
   "execution_count": null,
   "metadata": {},
   "outputs": [],
   "source": []
  }
 ],
 "metadata": {
  "kernelspec": {
   "display_name": "Python 3",
   "language": "python",
   "name": "python3"
  },
  "language_info": {
   "codemirror_mode": {
    "name": "ipython",
    "version": 3
   },
   "file_extension": ".py",
   "mimetype": "text/x-python",
   "name": "python",
   "nbconvert_exporter": "python",
   "pygments_lexer": "ipython3",
   "version": "3.6.7"
  },
  "toc": {
   "base_numbering": 1,
   "nav_menu": {},
   "number_sections": true,
   "sideBar": true,
   "skip_h1_title": true,
   "title_cell": "Table of Contents",
   "title_sidebar": "Contents",
   "toc_cell": true,
   "toc_position": {},
   "toc_section_display": true,
   "toc_window_display": false
  }
 },
 "nbformat": 4,
 "nbformat_minor": 2
}
