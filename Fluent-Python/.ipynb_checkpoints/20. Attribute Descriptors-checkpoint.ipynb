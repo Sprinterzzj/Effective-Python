{
 "cells": [
  {
   "cell_type": "markdown",
   "metadata": {},
   "source": [
    "1. 属性描述符本质上是**类方法**.\n",
    "2. 和 property 一样. 实例的点运算操作会优先 access 描述符."
   ]
  },
  {
   "cell_type": "code",
   "execution_count": 1,
   "metadata": {
    "ExecuteTime": {
     "end_time": "2020-09-16T06:36:36.206017Z",
     "start_time": "2020-09-16T06:36:36.199879Z"
    }
   },
   "outputs": [],
   "source": [
    "class Quantity(object):\n",
    "    \"\"\"区别于生成 Property 的工厂函数,\n",
    "    这里使用属性描述符\n",
    "    \"\"\"\n",
    "\n",
    "    def __init__(self, storage_name):\n",
    "        self.storage_name = '__' + storage_name\n",
    "\n",
    "    def __set__(self, instance, value):\n",
    "        print('Calling setter.')\n",
    "        if value > 0:\n",
    "            # instance.__dict__[self.storage_name] = value\n",
    "            setattr(instance, self.storage_name, value)\n",
    "        else:\n",
    "            raise ValueError('value must be > 0')\n",
    "\n",
    "    def __get__(self, instance, instance_type):\n",
    "        print('calling getter.')\n",
    "        return instance.__dict__[self.storage_name]\n",
    "\n",
    "\n",
    "class LineItem(object):\n",
    "    weight = Quantity('weight')\n",
    "    price = Quantity('price')\n",
    "\n",
    "    def __init__(self, description, weight, price):\n",
    "        self.description = description\n",
    "        self.weight = weight\n",
    "        self.price = price\n",
    "\n",
    "    @property\n",
    "    def subtotal(self):\n",
    "        return self.weight * self.price"
   ]
  },
  {
   "cell_type": "code",
   "execution_count": 2,
   "metadata": {
    "ExecuteTime": {
     "end_time": "2020-09-16T06:37:13.754851Z",
     "start_time": "2020-09-16T06:37:13.751617Z"
    }
   },
   "outputs": [
    {
     "name": "stdout",
     "output_type": "stream",
     "text": [
      "Calling setter.\n",
      "Calling setter.\n",
      "{'description': 'zzj', '__weight': 90, '__price': 450}\n",
      "calling getter.\n",
      "90\n"
     ]
    }
   ],
   "source": [
    "x = LineItem('zzj', 90, 450)\n",
    "print(x.__dict__)\n",
    "print(x.weight)"
   ]
  },
  {
   "cell_type": "code",
   "execution_count": 3,
   "metadata": {
    "ExecuteTime": {
     "end_time": "2020-09-16T06:41:34.243781Z",
     "start_time": "2020-09-16T06:41:34.231060Z"
    }
   },
   "outputs": [],
   "source": [
    "# 这一版的代码我们自动生成属性的名字.\n",
    "# 我们希望:\n",
    "#     weight = Quantity()\n",
    "#     price = Quantity()\n",
    "# 而不是:\n",
    "#     weight = Quantity('weight')\n",
    "#     price = Quantity('price')\n",
    "\n",
    "\n",
    "class Quantity(object):\n",
    "    # 这个类成员是为了区分名字\n",
    "    __num_instance = 0\n",
    "\n",
    "    def __init__(self):\n",
    "        \n",
    "        cls = self.__class__\n",
    "        prefix = cls.__name__\n",
    "        index = cls.__num_instance\n",
    "        # 自己造一个属性名 ->_->\n",
    "        self.storage_name = f'__{prefix}_{index}'\n",
    "        cls.__num_instance += 1\n",
    "\n",
    "    def __get__(self, instance, instance_type):\n",
    "        if instance is None:\n",
    "            return self\n",
    "        return getattr(instance, self.storage_name)\n",
    "\n",
    "    def __set__(self, instance, value):\n",
    "        if value > 0:\n",
    "            setattr(instance, self.storage_name, value)\n",
    "        else:\n",
    "            raise ValueError('value must be > 0')\n",
    "\n",
    "    @classmethod\n",
    "    def counter(cls):\n",
    "        return cls.__num_instance\n",
    "\n",
    "\n",
    "class LineItem(object):\n",
    "    weight = Quantity()\n",
    "    price = Quantity()\n",
    "\n",
    "    def __init__(self, description, weight, price):\n",
    "        self.description = description\n",
    "        self.weight = weight\n",
    "        self.price = price\n",
    "\n",
    "    @property\n",
    "    def subtotal(self):\n",
    "        return self.weight * self.price"
   ]
  },
  {
   "cell_type": "code",
   "execution_count": 4,
   "metadata": {
    "ExecuteTime": {
     "end_time": "2020-09-16T06:41:35.562506Z",
     "start_time": "2020-09-16T06:41:35.558476Z"
    }
   },
   "outputs": [
    {
     "name": "stdout",
     "output_type": "stream",
     "text": [
      "{'description': 'zzj', '__Quantity_0': 90, '__Quantity_1': 450}\n",
      "90\n",
      "2\n"
     ]
    }
   ],
   "source": [
    "x = LineItem('zzj', 90, 450)\n",
    "print(x.__dict__)\n",
    "print(x.weight)\n",
    "print(Quantity.counter())"
   ]
  },
  {
   "cell_type": "markdown",
   "metadata": {},
   "source": [
    "###### A New Descriptor Type\n",
    "\n",
    "![img/20_1.png](img/20_1.png)"
   ]
  },
  {
   "cell_type": "code",
   "execution_count": 11,
   "metadata": {
    "ExecuteTime": {
     "end_time": "2020-09-16T06:53:07.807362Z",
     "start_time": "2020-09-16T06:53:07.796666Z"
    }
   },
   "outputs": [],
   "source": [
    "import abc\n",
    "\n",
    "\n",
    "class AutoStorage(object):\n",
    "    \"\"\"Descriptor class that manages storage attributes automatically.\n",
    "    实现了基本的 get 和 set 方法\n",
    "    \"\"\"\n",
    "    __counter = 0\n",
    "\n",
    "    def __init__(self):\n",
    "        # 初始化函数生成一个唯一的字符串, 它是私有实例属性的名字\n",
    "        cls = self.__class__\n",
    "        prefix = cls.__name__\n",
    "        index = cls.__counter\n",
    "        self.storage_name = f'__{prefix}_{index}'\n",
    "        cls.__counter += 1\n",
    "\n",
    "    def __get__(self, instance, instance_type):\n",
    "        if instance is None:\n",
    "            return self\n",
    "        else:\n",
    "            return getattr(instance, self.storage_name)\n",
    "\n",
    "    def __set__(self, instance, value):\n",
    "        setattr(instance, self.storage_name, value)"
   ]
  },
  {
   "cell_type": "code",
   "execution_count": 12,
   "metadata": {
    "ExecuteTime": {
     "end_time": "2020-09-16T06:53:08.193086Z",
     "start_time": "2020-09-16T06:53:08.189355Z"
    }
   },
   "outputs": [],
   "source": [
    "# 通常称 override 了 set 方法的描述符为 override descriptor\n",
    "class Validated(abc.ABC, AutoStorage):\n",
    "    \"\"\"AutoStorage abstract subclass that overrides the __set__ method, \n",
    "    calling a validate method that must be implemented by subclasses.\n",
    "    \"\"\"\n",
    "\n",
    "    def __set__(self, instance, value):\n",
    "        value = self.validate(instance, value)\n",
    "        super().__set__(instance, value)\n",
    "\n",
    "    @abc.abstractmethod\n",
    "    def validate(self, instance, value):\n",
    "        raise NotImplementedError"
   ]
  },
  {
   "cell_type": "code",
   "execution_count": 13,
   "metadata": {
    "ExecuteTime": {
     "end_time": "2020-09-16T06:53:08.799143Z",
     "start_time": "2020-09-16T06:53:08.795943Z"
    }
   },
   "outputs": [],
   "source": [
    "# Quantity 和 NonBlank 继承了 抽象类 Validated,\n",
    "# 实现了 validate 方法.\n",
    "# 注意: validate 方法的返回方式在 Validated 中被限制了.\n",
    "\n",
    "\n",
    "class Quantity(Validated):\n",
    "    def validate(self, instance, value):\n",
    "        if value <= 0:\n",
    "            raise ValueError('value must be > 0.')\n",
    "        else:\n",
    "            return value\n",
    "\n",
    "\n",
    "class NonBlank(Validated):\n",
    "    def validate(self, instance, value):\n",
    "        value = value.strip()\n",
    "        if len(value) == 0:\n",
    "            raise ValueError('value cannot be empty or blank.')\n",
    "        else:\n",
    "            return value"
   ]
  },
  {
   "cell_type": "code",
   "execution_count": 14,
   "metadata": {
    "ExecuteTime": {
     "end_time": "2020-09-16T06:53:09.560643Z",
     "start_time": "2020-09-16T06:53:09.556576Z"
    }
   },
   "outputs": [],
   "source": [
    "class LineItem(object):\n",
    "    description = NonBlank()\n",
    "    weight = Quantity()\n",
    "    price = Quantity()\n",
    "\n",
    "    def __init__(self, description, weight, price):\n",
    "        self.description = description\n",
    "        self.weight = weight\n",
    "        self.price = price\n",
    "\n",
    "    @property\n",
    "    def subtotal(self):\n",
    "        return self.weight * self.price"
   ]
  },
  {
   "cell_type": "code",
   "execution_count": 23,
   "metadata": {
    "ExecuteTime": {
     "end_time": "2020-09-16T06:56:57.993808Z",
     "start_time": "2020-09-16T06:56:57.990840Z"
    }
   },
   "outputs": [
    {
     "name": "stdout",
     "output_type": "stream",
     "text": [
      "{'__NonBlank_0': 'zzj', '__Quantity_0': 3, '__Quantity_1': 4}\n",
      "{'__NonBlank_0': 'zzj2', '__Quantity_0': 3.5, '__Quantity_1': 4.5}\n"
     ]
    }
   ],
   "source": [
    "a = LineItem('zzj', 3, 4)\n",
    "\n",
    "LineItem.__dict__['weight'].__dict__\n",
    "\n",
    "b = LineItem('zzj2', 3.5, 4.5)\n",
    "\n",
    "LineItem.__dict__['weight'].__dict__\n",
    "\n",
    "print(a.__dict__)\n",
    "\n",
    "print(b.__dict__)"
   ]
  },
  {
   "cell_type": "markdown",
   "metadata": {},
   "source": [
    "###### Overriding Versus Nonoverriding Descriptors"
   ]
  },
  {
   "cell_type": "code",
   "execution_count": 24,
   "metadata": {
    "ExecuteTime": {
     "end_time": "2020-09-16T07:08:04.515193Z",
     "start_time": "2020-09-16T07:08:04.509491Z"
    }
   },
   "outputs": [],
   "source": [
    "# 让我们定义一些辅助函数\n",
    "\n",
    "\n",
    "def cls_name(obj_or_cls):\n",
    "    cls = type(obj_or_cls)\n",
    "    if cls is type:\n",
    "        cls = obj_or_cls\n",
    "    return cls.__name__.split('.')[-1]\n",
    "\n",
    "\n",
    "def display(obj):\n",
    "    cls = type(obj)\n",
    "    if cls is type:\n",
    "        return f'<class {obj.__name__}>'\n",
    "    elif cls in [type(None), int]:\n",
    "        return repr(obj)\n",
    "    else:\n",
    "        return f'<{cls_name(obj)} object>'\n",
    "\n",
    "\n",
    "def print_args(name, *args):\n",
    "    pseudo_args = ', '.join(display(x) for x in args)\n",
    "    print(f'-> {cls_name(args[0])}.__{name}__({pseudo_args})')"
   ]
  },
  {
   "cell_type": "code",
   "execution_count": 25,
   "metadata": {
    "ExecuteTime": {
     "end_time": "2020-09-16T07:08:05.003886Z",
     "start_time": "2020-09-16T07:08:04.997836Z"
    }
   },
   "outputs": [],
   "source": [
    "class Overriding(object):\n",
    "    \"\"\"A typical overriding despritor with get and set\n",
    "    \"\"\"\n",
    "\n",
    "    def __get__(self, instance, instance_type):\n",
    "        print_args('get', self, instance, instance_type)\n",
    "\n",
    "    def __set__(self, instance, value):\n",
    "        print_args('set', self, instance, value)\n",
    "\n",
    "\n",
    "class OverridingNoGet(object):\n",
    "    def __set__(self, instance, value):\n",
    "        print_args('set', self, instance, value)\n",
    "\n",
    "\n",
    "class NonOverriding(object):\n",
    "    def __get__(self, instance, instance_type):\n",
    "        print_args('get', self, instance, instance_type)"
   ]
  },
  {
   "cell_type": "code",
   "execution_count": 40,
   "metadata": {
    "ExecuteTime": {
     "end_time": "2020-09-16T08:46:04.513769Z",
     "start_time": "2020-09-16T08:46:04.509536Z"
    }
   },
   "outputs": [],
   "source": [
    "class Managed(object):\n",
    "    over = Overriding()\n",
    "    over_no_get = OverridingNoGet()\n",
    "    non_over = NonOverriding()\n",
    "    def spam(self):\n",
    "        print(f'-> Managed.spam({display(self)})')"
   ]
  },
  {
   "cell_type": "code",
   "execution_count": 27,
   "metadata": {
    "ExecuteTime": {
     "end_time": "2020-09-16T07:08:06.335625Z",
     "start_time": "2020-09-16T07:08:06.331766Z"
    }
   },
   "outputs": [
    {
     "name": "stdout",
     "output_type": "stream",
     "text": [
      "-> Overriding.__get__(<Overriding object>, <Managed object>, <class Managed>)\n",
      "None\n",
      "-> Overriding.__get__(<Overriding object>, None, <class Managed>)\n",
      "None\n",
      "-> Overriding.__set__(<Overriding object>, <Managed object>, 7)\n",
      "-> Overriding.__get__(<Overriding object>, <Managed object>, <class Managed>)\n",
      "None\n",
      "{'over': 8}\n",
      "-> Overriding.__get__(<Overriding object>, <Managed object>, <class Managed>)\n",
      "None\n"
     ]
    }
   ],
   "source": [
    "# 让我们测试\n",
    "obj = Managed()\n",
    "\n",
    "# 下面两个点表达式都触发了描述符的 get 方法\n",
    "print(obj.over)\n",
    "print(Managed.over)\n",
    "\n",
    "# 赋值语句触发了描述符的 set 方法\n",
    "obj.over = 7\n",
    "print(obj.over)\n",
    "\n",
    "# 访问实例的 dict 不会触发同名的描述符的任何方法\n",
    "obj.__dict__['over'] = 8\n",
    "print(vars(obj))\n",
    "print(obj.over)"
   ]
  },
  {
   "cell_type": "code",
   "execution_count": 31,
   "metadata": {
    "ExecuteTime": {
     "end_time": "2020-09-16T07:16:40.676112Z",
     "start_time": "2020-09-16T07:16:40.669765Z"
    }
   },
   "outputs": [
    {
     "name": "stdout",
     "output_type": "stream",
     "text": [
      "<__main__.OverridingNoGet object at 0x7f8e1dc27910>\n",
      "<__main__.OverridingNoGet object at 0x7f8e1dc27910>\n",
      "-> OverridingNoGet.__set__(<OverridingNoGet object>, <Managed object>, 7)\n",
      "<__main__.OverridingNoGet object at 0x7f8e1dc27910>\n",
      "9\n",
      "-> OverridingNoGet.__set__(<OverridingNoGet object>, <Managed object>, 11)\n"
     ]
    }
   ],
   "source": [
    "# 让我们测试\n",
    "obj = Managed()\n",
    "\n",
    "# 对于没有实现 get 方法的描述符, 下面\n",
    "# 两个调用都会返回类属性本身\n",
    "print(obj.over_no_get)\n",
    "print(Managed.over_no_get)\n",
    "\n",
    "obj.over_no_get = 7\n",
    "print(obj.over_no_get)\n",
    "\n",
    "# 因为 over_no_get 描述符没有实现 get 方法\n",
    "# 所以当你添加了同名的实例属性后\n",
    "# 点运算符会屏蔽掉同名的描述符\n",
    "# 但是赋值语句仍然会调用描述符的 set 方法\n",
    "obj.__dict__['over_no_get'] = 9\n",
    "print(obj.over_no_get)\n",
    "obj.over_no_get = 11"
   ]
  },
  {
   "cell_type": "code",
   "execution_count": 33,
   "metadata": {
    "ExecuteTime": {
     "end_time": "2020-09-16T07:17:12.123428Z",
     "start_time": "2020-09-16T07:17:12.119653Z"
    }
   },
   "outputs": [
    {
     "name": "stdout",
     "output_type": "stream",
     "text": [
      "-> NonOverriding.__get__(<NonOverriding object>, <Managed object>, <class Managed>)\n",
      "None\n",
      "7\n",
      "-> NonOverriding.__get__(<NonOverriding object>, None, <class Managed>)\n",
      "None\n",
      "-> NonOverriding.__get__(<NonOverriding object>, <Managed object>, <class Managed>)\n",
      "None\n"
     ]
    }
   ],
   "source": [
    "# 让我们测试\n",
    "obj = Managed()\n",
    "\n",
    "# 对于只实现了 get 方法的描述符, reading 会调用 get 方法\n",
    "print(obj.non_over)\n",
    "# 但是赋值语句会直接创建一个\n",
    "# 同名的实例对象.\n",
    "# 然后这个同名的实例属性就会覆盖掉描述符的 get 方法!!!\n",
    "obj.non_over = 7\n",
    "print(obj.non_over)\n",
    "\n",
    "# 但是在类上调用之可以正常访问\n",
    "print(Managed.non_over)\n",
    "# del 语句会删除实例对象\n",
    "del obj.non_over\n",
    "print(obj.non_over)"
   ]
  },
  {
   "cell_type": "markdown",
   "metadata": {},
   "source": [
    "**Overwriting a descriptor in the class**\n",
    "Class.XXX 会调用相关描述符的__get__方法, 并且优先级高于同名的类属性; 但 Class.XXX 不会调用相关描述符的__set__方法而是会创建同名的实例属性, **原本的描述符会彻底丢失!**\n",
    "查找顺序(实例上点运算): 数据描述符->实例属性->非数据描述符->类属性   \n",
    "查找顺序(类上点运算): 描述符->类方法    \n",
    "注意不是覆盖顺序!!! "
   ]
  },
  {
   "cell_type": "code",
   "execution_count": 35,
   "metadata": {
    "ExecuteTime": {
     "end_time": "2020-09-16T08:42:42.506823Z",
     "start_time": "2020-09-16T08:42:42.501509Z"
    }
   },
   "outputs": [
    {
     "name": "stdout",
     "output_type": "stream",
     "text": [
      "{'__module__': '__main__', 'over': 1, 'over_no_get': 1, 'non_over': 1, 'spam': <function Managed.spam at 0x7f8e2c140680>, '__dict__': <attribute '__dict__' of 'Managed' objects>, '__weakref__': <attribute '__weakref__' of 'Managed' objects>, '__doc__': None}\n",
      "1 1 1\n",
      "1 1 1\n"
     ]
    }
   ],
   "source": [
    "# 任何的描述符都可以按如下的方法覆盖掉:\n",
    "\n",
    "obj = Managed()\n",
    "Managed.over = 1\n",
    "Managed.over_no_get = 1\n",
    "Managed.non_over = 1\n",
    "# 在 Managed class 的字典里, 同名的\n",
    "# 描述符全部被覆盖掉了\n",
    "print(Managed.__dict__)\n",
    "\n",
    "print(Managed.over, Managed.over_no_get, Managed.non_over)\n",
    "print(obj.over, obj.over_no_get, obj.non_over)"
   ]
  },
  {
   "cell_type": "markdown",
   "metadata": {},
   "source": [
    "###### Methods are Descriptors\n",
    "\n",
    "实例方法是一个 bound method, 因为它们有 \\_\\_get\\_\\_ 方法!!! 因此他们是 非数据描述符"
   ]
  },
  {
   "cell_type": "code",
   "execution_count": 40,
   "metadata": {
    "ExecuteTime": {
     "end_time": "2019-08-18T11:43:46.713319Z",
     "start_time": "2019-08-18T11:43:46.709978Z"
    }
   },
   "outputs": [
    {
     "name": "stdout",
     "output_type": "stream",
     "text": [
      "<bound method Managed.spam of <__main__.Managed object at 0x7fe630340cc0>>\n",
      "<function Managed.spam at 0x7fe6404b9f28>\n",
      "7\n"
     ]
    }
   ],
   "source": [
    "obj = Managed()\n",
    "# 注意 在实例上和在class上得到的是不同对象！！！\n",
    "# As usual with descriptors, \n",
    "# the __get__ of a function returns a reference to itself \n",
    "# when the access happens **through the managed class**. \n",
    "# But when the access goes **through an instance**, \n",
    "# the __get__ of the function returns a bound method object: \n",
    "# a callable that wraps the function and binds the managed instance \n",
    "# (e.g., obj) to the first argument of the function (i.e., self), \n",
    "# like the functools.partial function does.\n",
    "print(obj.spam)\n",
    "print(Managed.spam)\n",
    "\n",
    "obj.spam = 7\n",
    "print(obj.spam)"
   ]
  },
  {
   "cell_type": "code",
   "execution_count": 45,
   "metadata": {
    "ExecuteTime": {
     "end_time": "2020-09-16T08:53:34.561586Z",
     "start_time": "2020-09-16T08:53:34.558500Z"
    }
   },
   "outputs": [],
   "source": [
    "# 来看下面的例子\n",
    "\n",
    "import collections\n",
    "\n",
    "\n",
    "class Text(collections.UserString):\n",
    "\n",
    "    def __repr__(self):\n",
    "        return 'Text({!r})'.format(self.data)\n",
    "\n",
    "    def reverse(self):\n",
    "        return self[::-1]"
   ]
  },
  {
   "cell_type": "code",
   "execution_count": 46,
   "metadata": {
    "ExecuteTime": {
     "end_time": "2020-09-16T08:53:34.985537Z",
     "start_time": "2020-09-16T08:53:34.982150Z"
    }
   },
   "outputs": [
    {
     "name": "stdout",
     "output_type": "stream",
     "text": [
      "forward\n",
      "drawrof\n",
      "drawkcab\n"
     ]
    }
   ],
   "source": [
    "word = Text('forward')\n",
    "print(word)\n",
    "print(word.reverse())\n",
    "print(Text.reverse(Text('backward')))"
   ]
  },
  {
   "cell_type": "code",
   "execution_count": 47,
   "metadata": {
    "ExecuteTime": {
     "end_time": "2020-09-16T08:53:35.627014Z",
     "start_time": "2020-09-16T08:53:35.622486Z"
    }
   },
   "outputs": [
    {
     "name": "stdout",
     "output_type": "stream",
     "text": [
      "<class 'function'> <class 'method'>\n",
      "<bound method Text.reverse of Text('forward')>\n",
      "<function Text.reverse at 0x7f8e1dba37a0>\n",
      "<bound method Text.reverse of Text('forward')>\n",
      "forward\n",
      "True\n"
     ]
    }
   ],
   "source": [
    "# 这两个调用的返回值: 函数, bounded method\n",
    "print(type(Text.reverse), type(word.reverse))\n",
    "\n",
    "# 任何函数(注意不仅仅是实例方法)都是一个非数据描述符,\n",
    "# 调用它的 __get__ 方法将会得到一个 method bound to that instance\n",
    "print(Text.reverse.__get__(word))\n",
    "\n",
    "# 调用 函数对象的 __get__ 方法 并且 instance参数设置为 None 会返回\n",
    "# 函数本身\n",
    "print(Text.reverse.__get__(None, Text))\n",
    "\n",
    "# 等价于 Text.reverse.__get__(word)\n",
    "print(word.reverse)\n",
    "\n",
    "# bound method 有一个 __self__ 属性,\n",
    "# 返回绑定的实例的引用\n",
    "print(word.reverse.__self__)\n",
    "\n",
    "# bound method 有一个 __func__ 属性,\n",
    "# 返回原始函数的引用\n",
    "print(word.reverse.__func__ is Text.reverse)\n",
    "\n",
    "# The bound method object also has a __call__ method,\n",
    "# which handles the actual invo‐cation.\n",
    "# This method calls the original function referenced in __func__,\n",
    "# passing the __self__ attribute of the method as the first argument.\n",
    "# That’s how the implicit binding of the conventional self argument works."
   ]
  },
  {
   "cell_type": "markdown",
   "metadata": {},
   "source": [
    "<center>描述符用法小结</center>\n",
    "\n",
    "1. Use **property** to keep it simple. property 实际上是一个数据描述符. property 也是最简单的定义**只读属性**的方法.\n",
    "2. Read-only descriptors require \\_\\_set\\_\\_. 如果你用一个描述符实现了 read-only 的属性, 你需要记得实现 \\_\\_set\\_\\_ 和 \\_\\_get\\_\\_. 否则同名的赋值语句会覆盖掉描述符. 你的 \\_\\_set\\_\\_ 方法可以和 property 中的默认的 \\_\\_set\\_\\_ 方法一样抛出 AttributeError.\n",
    "3. validation descriptors can work with \\_\\_set\\_\\_ only. 比如上面的例子, validation descriptor 直接继承了父类的 \\_\\_get\\_\\_ 而拦截了父类的 \\_\\_set\\_\\_\n",
    "4. Caching can be done efficiently with \\_\\_get\\_\\_ only. If you code just the \\_\\_get\\_\\_ method, you have a nonoverriding descriptor. These are useful to make some expensive computation and then cache the result by setting an attribute by the same name on the instance. The namesake instance attribute will shadow the descriptor, so subsequent access to that attribute will fetch it directly from the instance \\_\\_dict\\_\\_ and not trigger the descriptor \\_\\_get\\_\\_ anymore.\n",
    "5. Nonspecial methods can be shadowed by instance attributes. Because functions and methods only implement \\_\\_get\\_\\_, they do not handle at‐tempts at setting instance attributes with the same name, so a simple assignment like my_obj.the_method = 7 means that further access to the_method through that instance will retrieve the number 7—without affecting the class or other instances. However, this issue does not interfere with special methods. The interpreter only looks for special methods in the class itself, in other words, repr(x) is executed as x.\\_\\_class\\_\\_.\\_\\_repr\\_\\_(x), so a \\_\\_repr\\_\\_ attribute defined in x has no effect on repr(x). For the same reason, the existence of an attribute named \\_\\_getattr\\_\\_ in an instance will not subvert the usual attribute access algorithm"
   ]
  },
  {
   "cell_type": "code",
   "execution_count": null,
   "metadata": {},
   "outputs": [],
   "source": []
  }
 ],
 "metadata": {
  "kernelspec": {
   "display_name": "Python 3",
   "language": "python",
   "name": "python3"
  },
  "language_info": {
   "codemirror_mode": {
    "name": "ipython",
    "version": 3
   },
   "file_extension": ".py",
   "mimetype": "text/x-python",
   "name": "python",
   "nbconvert_exporter": "python",
   "pygments_lexer": "ipython3",
   "version": "3.7.5"
  },
  "toc": {
   "base_numbering": 1,
   "nav_menu": {},
   "number_sections": true,
   "sideBar": true,
   "skip_h1_title": false,
   "title_cell": "Table of Contents",
   "title_sidebar": "Contents",
   "toc_cell": false,
   "toc_position": {},
   "toc_section_display": true,
   "toc_window_display": false
  }
 },
 "nbformat": 4,
 "nbformat_minor": 2
}
