{
 "cells": [
  {
   "cell_type": "markdown",
   "metadata": {},
   "source": [
    "If you are not authoring a framework, you should not be writing metaclasses—unless you’re doing it for fun or to practice the con‐cepts."
   ]
  },
  {
   "cell_type": "markdown",
   "metadata": {},
   "source": [
    "###### A Class Factory"
   ]
  },
  {
   "cell_type": "code",
   "execution_count": 20,
   "metadata": {
    "ExecuteTime": {
     "end_time": "2019-08-20T02:42:52.032434Z",
     "start_time": "2019-08-20T02:42:52.025623Z"
    }
   },
   "outputs": [],
   "source": [
    "def record_factory(cls_name, field_names):\n",
    "    \"\"\"一个生成类的工厂函数\n",
    "    \"\"\"\n",
    "    try:\n",
    "        field_names = field_names.replace(',', ' ').split() #1\n",
    "    except AttributeError:  # no. replace or .split\n",
    "        pass\n",
    "    field_names = tuple(field_names) #2\n",
    "\n",
    "    def __init__(self, *args, **kwargs): #3\n",
    "        # 按__slots__顺序分配属性的值, \n",
    "        # 如果 args 的数目小于 __slots__那么后面多余\n",
    "        # 的属性不会产生key\n",
    "        attrs = dict(zip(self.__slots__, args))\n",
    "        # print(attrs)\n",
    "        attrs.update(kwargs)\n",
    "        for name, value in attrs.items():\n",
    "            setattr(self, name, value)\n",
    "\n",
    "    def __iter__(self): #4\n",
    "        for name in self.__slots__:\n",
    "            yield getattr(self, name)\n",
    "\n",
    "    def __repr__(self): #5\n",
    "        print('self.__slots__: ', self.__slots__)\n",
    "        \n",
    "        # self 按照 __slots__ 的顺序初始化, 那么同时迭代\n",
    "        # __slots__ 和 self 可以得到属性名和相应的值\n",
    "        values = ', '.join('{}={!r}'.format(*i)\n",
    "                           for i in zip(self.__slots__, self))\n",
    "        return f'{self.__class__.__name__}({values})'\n",
    "\n",
    "    cls_attrs = dict(__slots__=field_names, #6\n",
    "                     __init__=__init__,\n",
    "                     __iter__=__iter__,\n",
    "                     __repr__=__repr__)\n",
    "\n",
    "    # type(class_name:str, bases:tuple, class_attributs:dict)\n",
    "    return type(cls_name, (object, ), cls_attrs) #7"
   ]
  },
  {
   "cell_type": "markdown",
   "metadata": {},
   "source": [
    "1. Duck typing in practice: 尝试替换逗号然后分割字符串. 如果失败了, 就默认 `field_name` 是可迭代的, 且非字符串.\n",
    "2. Build a tuple of attribute names. `field_name` 将会赋值给 \\_\\_slots\\_\\_.\n",
    "3. 初始化函数\n",
    "4. \\_\\_iter\\_\\_ 函数, 按照 \\_\\_slots\\_\\_ 的顺序迭代\n",
    "5. \\_\\_repr\\_\\_ 函数\n",
    "6. assemble dictionary of class atrributes.\n",
    "7. build and return the new class."
   ]
  },
  {
   "cell_type": "code",
   "execution_count": 21,
   "metadata": {
    "ExecuteTime": {
     "end_time": "2019-08-20T02:42:52.874881Z",
     "start_time": "2019-08-20T02:42:52.870713Z"
    }
   },
   "outputs": [],
   "source": [
    "Dog = record_factory('Dog', 'name weight owner')"
   ]
  },
  {
   "cell_type": "markdown",
   "metadata": {},
   "source": [
    "###### A Class Decorator for Customizing Descriptors"
   ]
  },
  {
   "cell_type": "code",
   "execution_count": 22,
   "metadata": {
    "ExecuteTime": {
     "end_time": "2019-08-20T04:39:26.807863Z",
     "start_time": "2019-08-20T04:39:26.802674Z"
    }
   },
   "outputs": [],
   "source": [
    "def entity(cls):\n",
    "    \"\"\"类装饰器, 在类定义后被调用, 接受类为唯一的参数.\n",
    "    遍历class的__dict__, 找到 Validated 的实例(它们是描述符)\n",
    "    然后更改storage_name属性\n",
    "    \"\"\"\n",
    "    for attr_name, attr_value in cls.__dict__.items():\n",
    "        if isinstance(attr_value, Validated):\n",
    "            type_name = type(attr_value).__name__\n",
    "            attr_value.storage_name = f'__{type_name}_{key}'\n",
    "        return cls"
   ]
  },
  {
   "cell_type": "markdown",
   "metadata": {},
   "source": [
    "###### A Metaclass for Customizing Descriptors\n",
    "Pyhton中所有的类都是 type 的实例, 但是只有元类是 type 的子类"
   ]
  },
  {
   "cell_type": "code",
   "execution_count": 47,
   "metadata": {
    "ExecuteTime": {
     "end_time": "2019-08-20T05:52:39.673988Z",
     "start_time": "2019-08-20T05:52:39.668515Z"
    }
   },
   "outputs": [],
   "source": [
    "class Validated(object):\n",
    "    \"\"\"我们的Validated descriptor 的代码\n",
    "    在 19. Dynamic Attributes and Properties.ipynb 里,\n",
    "    这里弄个假的.\n",
    "    \"\"\"\n",
    "    pass\n",
    "class EntityMeta(type):\n",
    "    \"\"\"Metaclass for business entities with validated fields\n",
    "    \"\"\"\n",
    "    def __init__(cls, class_name, bases, class_dict):\n",
    "        super().__init__(class_name, bases, class_dict)\n",
    "        for attr_name, attr in class_dict.items():\n",
    "            if isinstance(attr, Validated):\n",
    "                type_name = type(attr).__name__\n",
    "                attr.storage_name = f'__{type_name}_{attr_name}'\n",
    "\n",
    "#如果你不想使用metaclass=&&, 那么可以创建一个类然后让LineItem继承它\n",
    "class Entity(object, metaclass=EntityMeta):\n",
    "    pass"
   ]
  },
  {
   "cell_type": "markdown",
   "metadata": {},
   "source": [
    "###### The Metaclass __prepare__ Special Method\n",
    "Only available in Python 3"
   ]
  },
  {
   "cell_type": "code",
   "execution_count": 3,
   "metadata": {
    "ExecuteTime": {
     "end_time": "2019-08-20T07:42:17.774442Z",
     "start_time": "2019-08-20T07:42:17.767770Z"
    }
   },
   "outputs": [],
   "source": [
    "# 元类的 __new__ 和 __init__ 方法接受同样的四个参数.\n",
    "# class_dict 里面储存了所有的 class attribute.\n",
    "# 但是, 在 class body 里面的顺序信息就丢失了. Sometimes,\n",
    "# the order is useful.\n",
    "\n",
    "#解决方案: __prepare__\n",
    "# 在metaclass内部 __prepare__ --> __new__ --> __init__\n",
    "\n",
    "\n",
    "import collections\n",
    "\n",
    "\n",
    "class Validated(object):\n",
    "    \"\"\"我们的Validated descriptor 的代码\n",
    "    在 19. Dynamic Attributes and Properties.ipynb 里,\n",
    "    这里弄个假的.\n",
    "    \"\"\"\n",
    "    pass\n",
    "\n",
    "\n",
    "class EntityMeta(type):\n",
    "    @classmethod\n",
    "    def __prepare__(cls, class_name, bases):\n",
    "        \"\"\"__prepare__接受三个参数: cls, class_name, bases\n",
    "        **它必须返回一个mapping**, 这mapping也就是 __new__ 和\n",
    "        __init__ 的第四个参数.\n",
    "        \"\"\"\n",
    "        return collections.OrderedDict()  # 1\n",
    "\n",
    "    def __init__(cls, class_name, bases, class_dict):\n",
    "        super().__init__(class_name, bases, class_dict)\n",
    "        cls._field_names = []  # 2\n",
    "        for attr_name, attr in class_dict.items():  # 3\n",
    "            if isinstance(attr, Validated):\n",
    "                type_name = type(attr).__name__\n",
    "                attr.storage_name = f'__{type_name}_{attr_name}'\n",
    "                cls._field_names.append(attr_name)  # 4\n",
    "\n",
    "\n",
    "class Entity(object, metaclass=EntityMeta):\n",
    "\n",
    "    @classmethod\n",
    "    def field_names(cls): #5\n",
    "        for name in cls._field_names:\n",
    "            yield name"
   ]
  },
  {
   "cell_type": "markdown",
   "metadata": {},
   "source": [
    "1. \\_\\_prepare\\_\\_ 返回一个空的 OrderedDict 对象, 类对象将(在何时何处?)被储存在这里(好吧, Python 3.7 的默认字典就是保序的...)\n",
    "2. Create a \\_field\\_names class attribute\n",
    "3. 此处的 class\\_dict 是一个 OrderedDict\n",
    "4. 将 Validated 描述符 加入到 \\_field\\_names 中去\n",
    "5.  生成器函数"
   ]
  },
  {
   "cell_type": "code",
   "execution_count": null,
   "metadata": {},
   "outputs": [],
   "source": []
  }
 ],
 "metadata": {
  "kernelspec": {
   "display_name": "Python 3",
   "language": "python",
   "name": "python3"
  },
  "language_info": {
   "codemirror_mode": {
    "name": "ipython",
    "version": 3
   },
   "file_extension": ".py",
   "mimetype": "text/x-python",
   "name": "python",
   "nbconvert_exporter": "python",
   "pygments_lexer": "ipython3",
   "version": "3.6.8"
  },
  "toc": {
   "base_numbering": 1,
   "nav_menu": {},
   "number_sections": true,
   "sideBar": true,
   "skip_h1_title": false,
   "title_cell": "Table of Contents",
   "title_sidebar": "Contents",
   "toc_cell": false,
   "toc_position": {},
   "toc_section_display": true,
   "toc_window_display": false
  }
 },
 "nbformat": 4,
 "nbformat_minor": 2
}
