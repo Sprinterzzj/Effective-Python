{
 "cells": [
  {
   "cell_type": "markdown",
   "metadata": {},
   "source": [
    "1. 属性描述符本质上是**类方法**.\n",
    "2. 和 property 一样. 实例的点运算操作会优先 access 描述符."
   ]
  },
  {
   "cell_type": "code",
   "execution_count": 12,
   "metadata": {
    "ExecuteTime": {
     "end_time": "2019-08-16T07:24:32.575643Z",
     "start_time": "2019-08-16T07:24:32.567269Z"
    }
   },
   "outputs": [],
   "source": [
    "class Quantity(object):\n",
    "    \"\"\"区别于生成 Property 的工厂函数,\n",
    "    这里使用属性描述符\n",
    "    \"\"\"\n",
    "\n",
    "    def __init__(self, storage_name):\n",
    "        self.storage_name = '__' + storage_name\n",
    "\n",
    "    def __set__(self, instance, value):\n",
    "        print('Calling setter.')\n",
    "        if value > 0:\n",
    "            # instance.__dict__[self.storage_name] = value\n",
    "            setattr(instance, self.storage_name, value)\n",
    "        else:\n",
    "            raise ValueError('value must be > 0')\n",
    "\n",
    "    def __get__(self, instance, instance_type):\n",
    "        print('calling getter.')\n",
    "        return instance.__dict__[self.storage_name]\n",
    "\n",
    "\n",
    "class LineItem(object):\n",
    "    weight = Quantity('weight')\n",
    "    price = Quantity('price')\n",
    "\n",
    "    def __init__(self, description, weight, price):\n",
    "        self.description = description\n",
    "        self.weight = weight\n",
    "        self.price = price\n",
    "\n",
    "    @property\n",
    "    def subtotal(self):\n",
    "        return self.weight * self.price"
   ]
  },
  {
   "cell_type": "code",
   "execution_count": 16,
   "metadata": {
    "ExecuteTime": {
     "end_time": "2019-08-16T07:34:26.390174Z",
     "start_time": "2019-08-16T07:34:26.385426Z"
    }
   },
   "outputs": [
    {
     "name": "stdout",
     "output_type": "stream",
     "text": [
      "Calling setter.\n",
      "Calling setter.\n",
      "{'description': 'zzj', '__weight': 90, '__price': 450}\n",
      "calling getter.\n",
      "90\n"
     ]
    }
   ],
   "source": [
    "x = LineItem('zzj', 90, 450)\n",
    "print(x.__dict__)\n",
    "print(x.weight)"
   ]
  },
  {
   "cell_type": "code",
   "execution_count": 23,
   "metadata": {
    "ExecuteTime": {
     "end_time": "2019-08-16T08:00:44.662552Z",
     "start_time": "2019-08-16T08:00:44.655260Z"
    }
   },
   "outputs": [],
   "source": [
    "# 这一版的代码我们自动生成属性的名字.\n",
    "# 我们希望:\n",
    "#     weight = Quantity()\n",
    "#     price = Quantity()\n",
    "# 而不是:\n",
    "#     weight = Quantity('weight')\n",
    "#     price = Quantity('price')\n",
    "\n",
    "\n",
    "class Quantity(object):\n",
    "    # 这个类成员是为了区分名字\n",
    "    __num_instance = 0\n",
    "\n",
    "    def __init__(self):\n",
    "        cls = self.__class__\n",
    "        prefix = cls.__name__\n",
    "        index = cls.__num_instance\n",
    "        # 自己造一个属性名 ->_->\n",
    "        self.storage_name = f'__{prefix}_{index}'\n",
    "        cls.__num_instance += 1\n",
    "\n",
    "    def __get__(self, instance, instance_type):\n",
    "        if instance is None:\n",
    "            return self\n",
    "        return getattr(instance, self.storage_name)\n",
    "\n",
    "    def __set__(self, instance, value):\n",
    "        if value > 0:\n",
    "            setattr(instance, self.storage_name, value)\n",
    "        else:\n",
    "            raise ValueError('value must be > 0')\n",
    "\n",
    "    @classmethod\n",
    "    def counter(cls):\n",
    "        return cls.__num_instance\n",
    "\n",
    "\n",
    "class LineItem(object):\n",
    "    weight = Quantity()\n",
    "    price = Quantity()\n",
    "\n",
    "    def __init__(self, description, weight, price):\n",
    "        self.description = description\n",
    "        self.weight = weight\n",
    "        self.price = price\n",
    "\n",
    "    @property\n",
    "    def subtotal(self):\n",
    "        return self.weight * self.price"
   ]
  },
  {
   "cell_type": "code",
   "execution_count": 24,
   "metadata": {
    "ExecuteTime": {
     "end_time": "2019-08-16T08:00:45.437369Z",
     "start_time": "2019-08-16T08:00:45.432029Z"
    }
   },
   "outputs": [
    {
     "name": "stdout",
     "output_type": "stream",
     "text": [
      "{'description': 'zzj', '__Quantity_0': 90, '__Quantity_1': 450}\n",
      "90\n"
     ]
    }
   ],
   "source": [
    "x = LineItem('zzj', 90, 450)\n",
    "print(x.__dict__)\n",
    "print(x.weight)\n",
    "print(Quantity.counter())"
   ]
  },
  {
   "cell_type": "code",
   "execution_count": null,
   "metadata": {},
   "outputs": [],
   "source": []
  }
 ],
 "metadata": {
  "kernelspec": {
   "display_name": "Python 3",
   "language": "python",
   "name": "python3"
  },
  "language_info": {
   "codemirror_mode": {
    "name": "ipython",
    "version": 3
   },
   "file_extension": ".py",
   "mimetype": "text/x-python",
   "name": "python",
   "nbconvert_exporter": "python",
   "pygments_lexer": "ipython3",
   "version": "3.6.8"
  },
  "toc": {
   "base_numbering": 1,
   "nav_menu": {},
   "number_sections": true,
   "sideBar": true,
   "skip_h1_title": false,
   "title_cell": "Table of Contents",
   "title_sidebar": "Contents",
   "toc_cell": false,
   "toc_position": {},
   "toc_section_display": true,
   "toc_window_display": false
  }
 },
 "nbformat": 4,
 "nbformat_minor": 2
}
