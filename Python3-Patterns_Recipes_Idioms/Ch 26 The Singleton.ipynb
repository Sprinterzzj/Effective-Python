{
 "cells": [
  {
   "cell_type": "code",
   "execution_count": 1,
   "metadata": {
    "ExecuteTime": {
     "end_time": "2019-08-13T08:38:04.240878Z",
     "start_time": "2019-08-13T08:38:04.235044Z"
    }
   },
   "outputs": [],
   "source": [
    "# 第一个实现\n",
    "class OnlyOne(object):\n",
    "    \"\"\"你可以创建多个 OnlyOne 的实例,\n",
    "    但是内部的 __OnlyOne 实例是唯一的.\n",
    "    \"\"\"\n",
    "    class __OnlyOne(object):\n",
    "        def __init__(self, arg):\n",
    "            self.val = arg\n",
    "        def __str__(self):\n",
    "            return repr(self) + self.val\n",
    "    instance = None\n",
    "    def __init__(self, arg):\n",
    "        if OnlyOne.instance is None:\n",
    "            # 第一次初始化时, 将新的 __OnlyOne 实例赋值给\n",
    "            # instance.\n",
    "            OnlyOne.instance = OnlyOne.__OnlyOne(arg)\n",
    "        else:\n",
    "            # 如果 instance 已经存在, 那么更新其 val 属性\n",
    "            OnlyOne.instance.val = arg\n",
    "    # 重定向 getattr 接口\n",
    "    def __getattr__(self, name):\n",
    "        return getattr(self.instance, name)"
   ]
  },
  {
   "cell_type": "code",
   "execution_count": 9,
   "metadata": {
    "ExecuteTime": {
     "end_time": "2019-08-15T00:22:40.904682Z",
     "start_time": "2019-08-15T00:22:40.898528Z"
    }
   },
   "outputs": [],
   "source": [
    "# 第二个实现\n",
    "class OnlyOne(object):\n",
    "    class __OnlyOne(object):\n",
    "        def __init__(self):\n",
    "            self.val = None\n",
    "\n",
    "        def __str__(self):\n",
    "            return 'self : ' + str(self.val)\n",
    "    instance = None\n",
    "    # new 方法永远是一个类方法\n",
    "    def __new__(cls):\n",
    "        \"\"\"new 方法控制实例的构造; init 控制实例的初始化.\n",
    "        如果 new 方法 发现 instance 已经存在了, 就跳过构造\n",
    "        过程.\n",
    "        \"\"\"\n",
    "        if not cls.instance:\n",
    "            cls.instance = cls.__OnlyOne()\n",
    "        return cls.instance\n",
    "    def __getattr__(self, name):\n",
    "        return getattr(self.instance, name)\n",
    "    def __setattr__(self, name, value):\n",
    "        return setattr(self.instance, name, value)"
   ]
  },
  {
   "cell_type": "code",
   "execution_count": 15,
   "metadata": {
    "ExecuteTime": {
     "end_time": "2019-08-15T00:23:17.982618Z",
     "start_time": "2019-08-15T00:23:17.977866Z"
    }
   },
   "outputs": [],
   "source": [
    "x = OnlyOne()\n",
    "y = OnlyOne()\n",
    "assert x is y, 'Fuck no!'"
   ]
  },
  {
   "cell_type": "code",
   "execution_count": 17,
   "metadata": {
    "ExecuteTime": {
     "end_time": "2019-08-15T00:34:57.945916Z",
     "start_time": "2019-08-15T00:34:57.940711Z"
    }
   },
   "outputs": [],
   "source": [
    "# 第三个实现\n",
    "class Borg(object):\n",
    "    \"\"\"Borg class 的效果与上面两个实现相同, 但是\n",
    "    \"\"\"\n",
    "    _share_dict = {}\n",
    "\n",
    "    def __init__(self):\n",
    "        \"\"\"Borg 的子类初始化时, 共享相同的 __dict__\n",
    "        \"\"\"\n",
    "        self.__dict__ = self._share_dict\n",
    "\n",
    "\n",
    "class Singleton(Borg):\n",
    "    def __init__(self, arg):\n",
    "        super().__init__()\n",
    "        # 等价于 self.__dict__.update({'val':arg})\n",
    "        self.val = arg\n",
    "\n",
    "    def __str__(self):\n",
    "        return self.val"
   ]
  },
  {
   "cell_type": "code",
   "execution_count": 19,
   "metadata": {
    "ExecuteTime": {
     "end_time": "2019-08-15T00:38:24.981818Z",
     "start_time": "2019-08-15T00:38:24.976383Z"
    }
   },
   "outputs": [
    {
     "name": "stdout",
     "output_type": "stream",
     "text": [
      "False\n",
      "233\n"
     ]
    }
   ],
   "source": [
    "x = Singleton(123)\n",
    "y = Singleton(233)\n",
    "print(x is y)\n",
    "print(x.val)"
   ]
  },
  {
   "cell_type": "code",
   "execution_count": 21,
   "metadata": {
    "ExecuteTime": {
     "end_time": "2019-08-15T00:57:11.675137Z",
     "start_time": "2019-08-15T00:57:11.669699Z"
    }
   },
   "outputs": [],
   "source": [
    "# 第四个实现\n",
    "class SingleTone(object):\n",
    "    __instance = None\n",
    "\n",
    "    def __new__(cls, val):\n",
    "        \"\"\"SingleTone 的子类在创建实例时会调用之;\n",
    "        但是子类的参数在此处被初始化.\n",
    "        \"\"\"\n",
    "        if SingleTone.__instance is None:\n",
    "            SingleTone.__instance = super().__new__(cls)\n",
    "        SingleTone.__instance.val = val\n",
    "        return SingleTone.__instance\n",
    "\n",
    "\n",
    "class Singleton(SingleTone):\n",
    "    def __init__(self, arg):\n",
    "        pass"
   ]
  },
  {
   "cell_type": "code",
   "execution_count": 25,
   "metadata": {
    "ExecuteTime": {
     "end_time": "2019-08-15T00:59:45.234433Z",
     "start_time": "2019-08-15T00:59:45.229252Z"
    }
   },
   "outputs": [
    {
     "data": {
      "text/plain": [
       "True"
      ]
     },
     "execution_count": 25,
     "metadata": {},
     "output_type": "execute_result"
    }
   ],
   "source": [
    "x = Singleton(2)\n",
    "y = Singleton(3)\n",
    "x is y"
   ]
  },
  {
   "cell_type": "code",
   "execution_count": 27,
   "metadata": {
    "ExecuteTime": {
     "end_time": "2019-08-15T01:05:38.681680Z",
     "start_time": "2019-08-15T01:05:38.676205Z"
    }
   },
   "outputs": [],
   "source": [
    "# 第五个实现\n",
    "class SingletonDecorator(object):\n",
    "    def __init__(self, kclass):\n",
    "        self.kclass = kclass\n",
    "        self.instance = None\n",
    "    def __call__(self, *args, **kwargs):\n",
    "        if self.instance is None:\n",
    "            self.isinsace = self.kclass(*args, **kwargs)\n",
    "        return self.instance"
   ]
  },
  {
   "cell_type": "code",
   "execution_count": 28,
   "metadata": {
    "ExecuteTime": {
     "end_time": "2019-08-15T01:05:59.897347Z",
     "start_time": "2019-08-15T01:05:59.892959Z"
    }
   },
   "outputs": [],
   "source": [
    "@SingletonDecorator\n",
    "class foo(object):\n",
    "    pass"
   ]
  },
  {
   "cell_type": "code",
   "execution_count": 29,
   "metadata": {
    "ExecuteTime": {
     "end_time": "2019-08-15T01:06:09.852996Z",
     "start_time": "2019-08-15T01:06:09.847365Z"
    }
   },
   "outputs": [
    {
     "data": {
      "text/plain": [
       "True"
      ]
     },
     "execution_count": 29,
     "metadata": {},
     "output_type": "execute_result"
    }
   ],
   "source": [
    "x = foo()\n",
    "y = foo()\n",
    "x is y"
   ]
  },
  {
   "cell_type": "code",
   "execution_count": null,
   "metadata": {},
   "outputs": [],
   "source": [
    "# 第六个实现\n",
    "class Singleton(type):\n",
    "    def __init__(self, *args, **kwargs):\n",
    "        self.__instance = None\n",
    "        super().__init__(*args, **kwargs)\n",
    "    def __call__(self, *args, **kwargs):\n",
    "        if self.__instance is None:\n",
    "            self.__instance = super().__call__(*args, **kwargs)\n",
    "            return self.__instance\n",
    "        else:\n",
    "            return self.__instance"
   ]
  },
  {
   "cell_type": "code",
   "execution_count": 42,
   "metadata": {
    "ExecuteTime": {
     "end_time": "2019-08-15T01:40:52.641850Z",
     "start_time": "2019-08-15T01:40:52.635726Z"
    }
   },
   "outputs": [
    {
     "name": "stdout",
     "output_type": "stream",
     "text": [
      "call metaclass's init\n"
     ]
    }
   ],
   "source": [
    "# 第七个实现\n",
    "class Singleton(type):\n",
    "    def __init__(cls, class_name, bases, class_dict):\n",
    "        print('call metaclass\\'s init')\n",
    "        super().__init__(class_name, bases, class_dict)\n",
    "        original_new = cls.__new__\n",
    "        def my_new(cls, *args, **kwargs):\n",
    "            print('call new before init')\n",
    "            if cls.instance is None:\n",
    "                cls.instance = original_new(cls)\n",
    "            return cls.instance\n",
    "        cls.instance = None\n",
    "        cls.__new__ = my_new\n",
    "\n",
    "class bar(object, metaclass=Singleton):\n",
    "    def __init__(self, val):\n",
    "        self.val = val\n",
    "    def __str__(self):\n",
    "        return 'self : ' + str(val)\n",
    "    "
   ]
  },
  {
   "cell_type": "code",
   "execution_count": 43,
   "metadata": {
    "ExecuteTime": {
     "end_time": "2019-08-15T01:40:53.640509Z",
     "start_time": "2019-08-15T01:40:53.634716Z"
    }
   },
   "outputs": [
    {
     "name": "stdout",
     "output_type": "stream",
     "text": [
      "call new before init\n",
      "call new before init\n"
     ]
    },
    {
     "data": {
      "text/plain": [
       "True"
      ]
     },
     "execution_count": 43,
     "metadata": {},
     "output_type": "execute_result"
    }
   ],
   "source": [
    "a = bar(3)\n",
    "b= bar(4)\n",
    "a is b"
   ]
  },
  {
   "cell_type": "markdown",
   "metadata": {},
   "source": [
    "<center>使用场景</center>\n",
    "\n",
    "1.所有对象共同享有相同的 state/data."
   ]
  },
  {
   "cell_type": "code",
   "execution_count": null,
   "metadata": {},
   "outputs": [],
   "source": []
  }
 ],
 "metadata": {
  "kernelspec": {
   "display_name": "Python 3",
   "language": "python",
   "name": "python3"
  },
  "language_info": {
   "codemirror_mode": {
    "name": "ipython",
    "version": 3
   },
   "file_extension": ".py",
   "mimetype": "text/x-python",
   "name": "python",
   "nbconvert_exporter": "python",
   "pygments_lexer": "ipython3",
   "version": "3.6.8"
  },
  "toc": {
   "base_numbering": 1,
   "nav_menu": {},
   "number_sections": true,
   "sideBar": true,
   "skip_h1_title": false,
   "title_cell": "Table of Contents",
   "title_sidebar": "Contents",
   "toc_cell": false,
   "toc_position": {},
   "toc_section_display": true,
   "toc_window_display": false
  }
 },
 "nbformat": 4,
 "nbformat_minor": 2
}
