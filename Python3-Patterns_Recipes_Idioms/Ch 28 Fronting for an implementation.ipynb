{
 "cells": [
  {
   "cell_type": "markdown",
   "metadata": {},
   "source": [
    "代理\n",
    "\n",
    "代理模式 用来**控制 implementation 的访问**."
   ]
  },
  {
   "cell_type": "code",
   "execution_count": null,
   "metadata": {},
   "outputs": [],
   "source": [
    "# Simple demonstration of the Proxy pattern\n",
    "\n",
    "\n",
    "class Implementation(object):\n",
    "    def f(self):\n",
    "        print('***f***')\n",
    "        return\n",
    "\n",
    "    def g(self):\n",
    "        print('***g***')\n",
    "        return\n",
    "\n",
    "    def h(self):\n",
    "        print('***h***')\n",
    "        return\n",
    "\n",
    "class Proxy(object):\n",
    "    def __init__(self):\n",
    "        self.__implementation = Implementation()\n",
    "    \n",
    "    # Pass method calls to the implementation\n",
    "    def f(self):\n",
    "        self.__implementation.f()\n",
    "    def g(self):\n",
    "        self.__implementation.g()\n",
    "    def h(self):\n",
    "        self.__implementation.h()"
   ]
  },
  {
   "cell_type": "code",
   "execution_count": 3,
   "metadata": {
    "ExecuteTime": {
     "end_time": "2019-08-15T04:22:52.941239Z",
     "start_time": "2019-08-15T04:22:52.935112Z"
    }
   },
   "outputs": [],
   "source": [
    "# 当然我们可以用 Python 的特性\n",
    "\n",
    "class Implementation(object):\n",
    "    def f(self):\n",
    "        print('***f***')\n",
    "        return\n",
    "\n",
    "class Proxy(object):\n",
    "    def __init__(self):\n",
    "        self.__implementation = Implementation()\n",
    "    def __getattr__(self, name):\n",
    "        \"\"\"重定向 __getattr__ 方法\n",
    "        \"\"\"\n",
    "        return getattr(self.__implementation, name)"
   ]
  },
  {
   "cell_type": "markdown",
   "metadata": {},
   "source": [
    "State\n",
    "\n",
    "State pattern adds more implementations to Proxy. State 模式可以切换 Implementation 的种类"
   ]
  },
  {
   "cell_type": "code",
   "execution_count": 4,
   "metadata": {
    "ExecuteTime": {
     "end_time": "2019-08-15T04:30:37.439243Z",
     "start_time": "2019-08-15T04:30:37.433702Z"
    }
   },
   "outputs": [],
   "source": [
    "class State_d(object):\n",
    "    def __init__(self, imp):\n",
    "        self.__implementation = imp\n",
    "    def changeImp(self, newImp):\n",
    "        self.__implementation = newImp\n",
    "    \n",
    "    def __getattr__(self, name):\n",
    "        return getattr(self.__implementation, name)"
   ]
  },
  {
   "cell_type": "code",
   "execution_count": null,
   "metadata": {},
   "outputs": [],
   "source": []
  }
 ],
 "metadata": {
  "kernelspec": {
   "display_name": "Python 3",
   "language": "python",
   "name": "python3"
  },
  "language_info": {
   "codemirror_mode": {
    "name": "ipython",
    "version": 3
   },
   "file_extension": ".py",
   "mimetype": "text/x-python",
   "name": "python",
   "nbconvert_exporter": "python",
   "pygments_lexer": "ipython3",
   "version": "3.6.8"
  },
  "toc": {
   "base_numbering": 1,
   "nav_menu": {},
   "number_sections": true,
   "sideBar": true,
   "skip_h1_title": false,
   "title_cell": "Table of Contents",
   "title_sidebar": "Contents",
   "toc_cell": false,
   "toc_position": {},
   "toc_section_display": true,
   "toc_window_display": false
  }
 },
 "nbformat": 4,
 "nbformat_minor": 2
}
