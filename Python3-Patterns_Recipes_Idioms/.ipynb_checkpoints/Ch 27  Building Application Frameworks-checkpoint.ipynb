{
 "cells": [
  {
   "cell_type": "code",
   "execution_count": 2,
   "metadata": {
    "ExecuteTime": {
     "end_time": "2019-08-15T01:48:38.521178Z",
     "start_time": "2019-08-15T01:48:38.516456Z"
    }
   },
   "outputs": [],
   "source": [
    "class ApplicationFramework(object):\n",
    "    \"\"\"基类的构造器负责必要的初始化\n",
    "    \"\"\"\n",
    "    def __init__(self):\n",
    "        self.__templateMethod()\n",
    "\n",
    "    def __templateMethod(self):\n",
    "        print('This is a private Template Method.')\n",
    "        # 我们可以在子类中 override 这些方法.\n",
    "        self.customize1()\n",
    "        self.customize2()\n",
    "\n",
    "    def customize1(self):\n",
    "        raise NotImplementedError\n",
    "\n",
    "    def customize2(self):\n",
    "        raise NotImplementedError\n",
    "\n",
    "\n",
    "class MyApp(ApplicationFramework):\n",
    "    \"\"\"继承了 ApplicationFramework 并且\n",
    "    override 了 它的实例方法.\n",
    "    \"\"\"\n",
    "    def customize1(self):\n",
    "        print('This is my customize1.')\n",
    "    \n",
    "    def customize2(self):\n",
    "        print('This is my customize2.')"
   ]
  },
  {
   "cell_type": "code",
   "execution_count": null,
   "metadata": {},
   "outputs": [],
   "source": []
  }
 ],
 "metadata": {
  "kernelspec": {
   "display_name": "Python 3",
   "language": "python",
   "name": "python3"
  },
  "language_info": {
   "codemirror_mode": {
    "name": "ipython",
    "version": 3
   },
   "file_extension": ".py",
   "mimetype": "text/x-python",
   "name": "python",
   "nbconvert_exporter": "python",
   "pygments_lexer": "ipython3",
   "version": "3.6.8"
  },
  "toc": {
   "base_numbering": 1,
   "nav_menu": {},
   "number_sections": true,
   "sideBar": true,
   "skip_h1_title": false,
   "title_cell": "Table of Contents",
   "title_sidebar": "Contents",
   "toc_cell": false,
   "toc_position": {},
   "toc_section_display": true,
   "toc_window_display": false
  }
 },
 "nbformat": 4,
 "nbformat_minor": 2
}
