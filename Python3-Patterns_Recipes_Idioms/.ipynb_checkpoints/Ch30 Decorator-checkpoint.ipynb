{
 "cells": [
  {
   "cell_type": "markdown",
   "metadata": {},
   "source": [
    "The use of layered objects to dynamically and transparently add responsibilities to individual objects is referred to as the decorator pattern."
   ]
  },
  {
   "cell_type": "code",
   "execution_count": 10,
   "metadata": {
    "ExecuteTime": {
     "end_time": "2019-08-21T07:19:11.831920Z",
     "start_time": "2019-08-21T07:19:11.824591Z"
    }
   },
   "outputs": [],
   "source": [
    "# 一个咖啡店的例子\n",
    "\n",
    "\n",
    "class DrinkComponent(object):\n",
    "    \"\"\"所有饮品的基类\n",
    "    \"\"\"\n",
    "    _cost = 0\n",
    "    @property\n",
    "    def Description(self):\n",
    "        return self.__class__.__name__\n",
    "\n",
    "    @property\n",
    "    def Cost(self):\n",
    "        return self.__class__._cost\n",
    "\n",
    "\n",
    "class Decorator(DrinkComponent):\n",
    "    \"\"\"我们没有用 python 的 @decorator 特性\n",
    "    decortor 为 基类的两个属性添加了额外的操作,\n",
    "    也因此他必须和DrinkCompont提供相同的接口\n",
    "    \"\"\"\n",
    "\n",
    "    def __init__(self, drinkComponent):\n",
    "        \"\"\"\n",
    "\n",
    "        Parameters\n",
    "        ----------\n",
    "        drinkComponent: 一个 DrinkCompont的子类的实例\n",
    "        \"\"\"\n",
    "        self.drink = drinkComponent\n",
    "\n",
    "    @property\n",
    "    def Cost(self):\n",
    "        return self.drink.Cost + super().Cost\n",
    "\n",
    "    @property\n",
    "    def Description(self):\n",
    "        return super().Description +\\\n",
    "            ' : ' + self.drink.Description\n",
    "\n",
    "#下面的 class 继承了 DrinkComponent\n",
    "\n",
    "class Espresso(DrinkComponent):\n",
    "    _cost = .75\n",
    "\n",
    "class EspressoConPanna(DrinkComponent):\n",
    "    _cost = 1.\n",
    "\n",
    "class Cappuccino(DrinkComponent):\n",
    "    _cost = 1.\n",
    "\n",
    "class CafeLatte(DrinkComponent):\n",
    "    _cost = 1.\n",
    "\n",
    "class CafeMocha(DrinkComponent):\n",
    "    _cost = 1.25\n",
    "\n",
    "# 有的咖啡较上面的复杂, 比如加了牛奶的拿铁(我自己编的)\n",
    "# 他们继承的是 Decorator\n",
    "class Milked(Decorator):\n",
    "    _cost = 1.0"
   ]
  },
  {
   "cell_type": "code",
   "execution_count": 11,
   "metadata": {
    "ExecuteTime": {
     "end_time": "2019-08-21T07:19:12.256258Z",
     "start_time": "2019-08-21T07:19:12.251672Z"
    }
   },
   "outputs": [],
   "source": [
    "#现在我们需要加牛奶的拿铁\n",
    "#如果不用Python装饰器而要用上面的定义\n",
    "#我们就要在CafeLatte上面封装一层\n",
    "MilkedLatte = Milked(CafeLatte())"
   ]
  },
  {
   "cell_type": "code",
   "execution_count": 13,
   "metadata": {
    "ExecuteTime": {
     "end_time": "2019-08-21T07:20:22.981670Z",
     "start_time": "2019-08-21T07:20:22.976804Z"
    }
   },
   "outputs": [
    {
     "name": "stdout",
     "output_type": "stream",
     "text": [
      "Milked : CafeLatte\n",
      "2.0\n"
     ]
    }
   ],
   "source": [
    "print(MilkedLatte.Description)\n",
    "print(MilkedLatte.Cost)"
   ]
  },
  {
   "cell_type": "code",
   "execution_count": null,
   "metadata": {},
   "outputs": [],
   "source": []
  }
 ],
 "metadata": {
  "kernelspec": {
   "display_name": "Python 3",
   "language": "python",
   "name": "python3"
  },
  "language_info": {
   "codemirror_mode": {
    "name": "ipython",
    "version": 3
   },
   "file_extension": ".py",
   "mimetype": "text/x-python",
   "name": "python",
   "nbconvert_exporter": "python",
   "pygments_lexer": "ipython3",
   "version": "3.6.8"
  },
  "toc": {
   "base_numbering": 1,
   "nav_menu": {},
   "number_sections": true,
   "sideBar": true,
   "skip_h1_title": false,
   "title_cell": "Table of Contents",
   "title_sidebar": "Contents",
   "toc_cell": false,
   "toc_position": {},
   "toc_section_display": true,
   "toc_window_display": false
  }
 },
 "nbformat": 4,
 "nbformat_minor": 2
}
