{
 "cells": [
  {
   "cell_type": "code",
   "execution_count": 9,
   "metadata": {
    "ExecuteTime": {
     "end_time": "2019-08-15T06:40:17.566009Z",
     "start_time": "2019-08-15T06:40:17.561527Z"
    }
   },
   "outputs": [],
   "source": [
    "class State(object):\n",
    "    \"\"\"定义了单个状态的基类\n",
    "    \"\"\"\n",
    "\n",
    "    def run(self):\n",
    "        raise NotImplementedError\n",
    "\n",
    "    def next(self):\n",
    "        raise NotImplementedError\n",
    "\n",
    "\n",
    "class StateMachine(object):\n",
    "    \"\"\"状态机模板类\n",
    "    \"\"\"\n",
    "\n",
    "    def __init__(self, init_state:State):\n",
    "        \n",
    "        self.current_state = init_state\n",
    "        self.current_state.run()\n",
    "\n",
    "    def runAll(self, input_states:[State]):\n",
    "        \"\"\"Template method:\n",
    "        \"\"\"\n",
    "        for input_state in input_states:\n",
    "            print(input_state)\n",
    "            self.current_state = self.current_state.next(input_state)\n",
    "            self.current_state.run()"
   ]
  },
  {
   "cell_type": "code",
   "execution_count": 3,
   "metadata": {
    "ExecuteTime": {
     "end_time": "2019-08-15T06:37:55.137747Z",
     "start_time": "2019-08-15T06:37:55.122218Z"
    }
   },
   "outputs": [],
   "source": [
    "class MouseAction(object):\n",
    "    \"\"\"定义了🐀动作的类\n",
    "    \"\"\"\n",
    "\n",
    "    def __init__(self, action:str):\n",
    "        self.action = action\n",
    "\n",
    "    def __str__(self):\n",
    "        return self.action\n",
    "\n",
    "    def __eq__(self, other):\n",
    "        return self.action == other.action\n",
    "\n",
    "    def __hash__(self):\n",
    "        return hash(self.action)\n",
    "\n",
    "\n",
    "# Static fields; an enumeration of instances:\n",
    "MouseAction.appears = MouseAction('mouse appears')\n",
    "MouseAction.runsAway = MouseAction('mouse runs away')\n",
    "MouseAction.enters = MouseAction('mouse enters trap')\n",
    "MouseAction.escapes = MouseAction('mouse escapes')\n",
    "MouseAction.trapped = MouseAction('mouse trapped')\n",
    "MouseAction.removed = MouseAction('mouse removed')"
   ]
  },
  {
   "cell_type": "markdown",
   "metadata": {},
   "source": [
    "测试抓🐭"
   ]
  },
  {
   "cell_type": "code",
   "execution_count": 4,
   "metadata": {
    "ExecuteTime": {
     "end_time": "2019-08-15T06:37:55.834079Z",
     "start_time": "2019-08-15T06:37:55.826805Z"
    }
   },
   "outputs": [],
   "source": [
    "# Waiting, Luring, Trapping 和 Holding 定义了 陷阱的状态,\n",
    "# 它们都是 State 的子类\n",
    "# 它和 MouseAction 的实例交互\n",
    "class Waiting(State):\n",
    "    \"\"\"等待🐀\n",
    "    \"\"\"\n",
    "\n",
    "    def run(self):\n",
    "        print('Waiting: Broadcasting cheese smell.')\n",
    "\n",
    "    def next(self, input_state):\n",
    "#         print('The input state is: ', str(input_state))\n",
    "        if input_state == MouseAction.appears:\n",
    "            return MouseTrap.luring\n",
    "        else:\n",
    "            return MouseTrap.waiting\n",
    "\n",
    "\n",
    "class Luring(State):\n",
    "    \"\"\"诱惑🐀\n",
    "    \"\"\"\n",
    "\n",
    "    def run(self):\n",
    "        print('Luring: Presenting cheese, door open.')\n",
    "\n",
    "    def next(self, input_state):\n",
    "        if input_state == MouseAction.runsAway:\n",
    "            return MouseTrap.waiting\n",
    "        elif input_state == MouseAction.enters:\n",
    "            return MouseTrap.trapping\n",
    "        else:\n",
    "            return MouseTrap.luring\n",
    "\n",
    "\n",
    "class Trapping(State):\n",
    "    \"\"\"抓捕🐀\n",
    "    \"\"\"\n",
    "\n",
    "    def run(self):\n",
    "        print('Trapping: Closing door.')\n",
    "\n",
    "    def next(self, input_state):\n",
    "        if input_state == MouseAction.escapes:\n",
    "            return MouseTrap.waiting\n",
    "        elif input_state == MouseAction.trapped:\n",
    "            return MouseTrap.holding\n",
    "        else:\n",
    "            return MouseTrap.trapping\n",
    "\n",
    "\n",
    "class Holding(State):\n",
    "    \"\"\"抓到🐀了!!!!!\n",
    "    \"\"\"\n",
    "    def run(self):\n",
    "        print('Holding: Mouse caught.')\n",
    "\n",
    "    def next(self, input_state):\n",
    "        if input_state == MouseAction.removed:\n",
    "            return MouseTrap.waiting\n",
    "        else:\n",
    "            return MouseTrap.holding\n",
    "\n",
    "\n"
   ]
  },
  {
   "cell_type": "code",
   "execution_count": 5,
   "metadata": {
    "ExecuteTime": {
     "end_time": "2019-08-15T06:37:56.379674Z",
     "start_time": "2019-08-15T06:37:56.374496Z"
    }
   },
   "outputs": [],
   "source": [
    "class MouseTrap(StateMachine):\n",
    "    \"\"\"捕鼠器类是 StateMachine 的子类\n",
    "    \"\"\"\n",
    "    def __init__(self):\n",
    "        \"\"\"初始化捕鼠夹状态\n",
    "        \"\"\"\n",
    "        super().__init__(init_state=MouseTrap.waiting)\n",
    "\n",
    "# Static variable initialization\n",
    "MouseTrap.waiting = Waiting()\n",
    "MouseTrap.luring = Luring()\n",
    "MouseTrap.trapping = Trapping()\n",
    "MouseTrap.holding = Holding()"
   ]
  },
  {
   "cell_type": "code",
   "execution_count": 6,
   "metadata": {
    "ExecuteTime": {
     "end_time": "2019-08-15T06:37:56.742569Z",
     "start_time": "2019-08-15T06:37:56.738057Z"
    }
   },
   "outputs": [],
   "source": [
    "import string\n",
    "moves = []\n",
    "with open('MouseMoves.txt') as f:\n",
    "    for line in f.readlines():\n",
    "        moves.append(line.split('\\n')[0])"
   ]
  },
  {
   "cell_type": "code",
   "execution_count": 8,
   "metadata": {
    "ExecuteTime": {
     "end_time": "2019-08-15T06:37:58.219740Z",
     "start_time": "2019-08-15T06:37:58.214143Z"
    }
   },
   "outputs": [
    {
     "name": "stdout",
     "output_type": "stream",
     "text": [
      "Waiting: Broadcasting cheese smell.\n",
      "mouse appears\n",
      "Luring: Presenting cheese, door open.\n",
      "mouse runs away\n",
      "Waiting: Broadcasting cheese smell.\n",
      "mouse appears\n",
      "Luring: Presenting cheese, door open.\n",
      "mouse enters trap\n",
      "Trapping: Closing door.\n",
      "mouse escapes\n",
      "Waiting: Broadcasting cheese smell.\n",
      "mouse appears\n",
      "Luring: Presenting cheese, door open.\n",
      "mouse enters trap\n",
      "Trapping: Closing door.\n",
      "mouse trapped\n",
      "Holding: Mouse caught.\n",
      "mouse removed\n",
      "Waiting: Broadcasting cheese smell.\n",
      "mouse appears\n",
      "Luring: Presenting cheese, door open.\n",
      "mouse runs away\n",
      "Waiting: Broadcasting cheese smell.\n",
      "mouse appears\n",
      "Luring: Presenting cheese, door open.\n",
      "mouse enters trap\n",
      "Trapping: Closing door.\n",
      "mouse trapped\n",
      "Holding: Mouse caught.\n",
      "mouse removed\n",
      "Waiting: Broadcasting cheese smell.\n"
     ]
    }
   ],
   "source": [
    "MouseTrap().runAll(map(MouseAction, moves))"
   ]
  },
  {
   "cell_type": "markdown",
   "metadata": {},
   "source": [
    "一些改进\n",
    "\n",
    "通过惰性初始化, 移除了 cyclic initialization dependencies.\n",
    "\n",
    "定义 MouseAction --> 定义 Waiting/Luring/Trapping/Holding --> 定义 MouseTrap"
   ]
  },
  {
   "cell_type": "code",
   "execution_count": 10,
   "metadata": {
    "ExecuteTime": {
     "end_time": "2019-08-15T07:38:14.183909Z",
     "start_time": "2019-08-15T07:38:14.174810Z"
    }
   },
   "outputs": [],
   "source": [
    "class StateT(State):\n",
    "    \"\"\"状态机的节点类, 每个节点代表了陷阱的状态\n",
    "    输入: 老鼠的状态\n",
    "    输出: 陷阱的状态\n",
    "    \"\"\"\n",
    "    def __init__(self):\n",
    "        self.transitions = None\n",
    "\n",
    "    def next(self, input_state):\n",
    "        if input_state in self.transitions:\n",
    "            return self.transitions[input_state]\n",
    "        else:\n",
    "            raise KeyError('Input not supported'\n",
    "                           'for current state')\n",
    "\n",
    "\n",
    "class Waiting(StateT):\n",
    "    def run(self):\n",
    "        print(\"Waiting: Broadcasting cheese smell\")\n",
    "\n",
    "    def next(self, input_state):\n",
    "        \"\"\"Lazy initialization\n",
    "        \"\"\"\n",
    "        if self.transitions is None:\n",
    "            self.transitions = {\n",
    "                MouseAction.appears: MouseTrap.luring\n",
    "            }\n",
    "        return super().next(input_state)\n",
    "\n",
    "\n",
    "class Luring(StateT):\n",
    "    def run(self):\n",
    "        print(\"Luring: Presenting Cheese, door open\")\n",
    "\n",
    "    def next(self, input_state):\n",
    "        \"\"\"Lazy initialization\n",
    "        \"\"\"\n",
    "        if self.transitions is None:\n",
    "            self.transitions = {\n",
    "                MouseAction.enters: MouseTrap.trapping,\n",
    "                MouseAction.runsAway: MouseTrap.waiting\n",
    "            }\n",
    "        return super().next(input_state)\n",
    "\n",
    "\n",
    "class Trapping(StateT):\n",
    "    def run(self):\n",
    "        print(\"Trapping: Closing door\")\n",
    "\n",
    "    def next(self, input):\n",
    "        # Lazy initialization:\n",
    "        if not self.transitions:\n",
    "            self.transitions = {\n",
    "                MouseAction.escapes: MouseTrap.waiting,\n",
    "                MouseAction.trapped: MouseTrap.holding\n",
    "            }\n",
    "        return super().next(input_state)\n",
    "\n",
    "\n",
    "class Holding(StateT):\n",
    "    def run(self):\n",
    "        print(\"Holding: Mouse caught\")\n",
    "\n",
    "    def next(self, input):\n",
    "        # Lazy initialization:\n",
    "        if not self.transitions:\n",
    "            self.transitions = {\n",
    "                MouseAction.removed: MouseTrap.waiting\n",
    "            }\n",
    "        return super().next(input_state)\n",
    "\n",
    "\n",
    "class MouseTrap(StateMachine):\n",
    "    \"\"\"捕鼠器类是 StateMachine 的子类\n",
    "    \"\"\"\n",
    "\n",
    "    def __init__(self):\n",
    "        \"\"\"初始化捕鼠夹状态\n",
    "        \"\"\"\n",
    "        super().__init__(init_state=MouseTrap.waiting)\n",
    "\n",
    "\n",
    "# Static variable initialization\n",
    "MouseTrap.waiting = Waiting()\n",
    "MouseTrap.luring = Luring()\n",
    "MouseTrap.trapping = Trapping()\n",
    "MouseTrap.holding = Holding()"
   ]
  },
  {
   "cell_type": "markdown",
   "metadata": {},
   "source": [
    "###### Table-Driven State Machine"
   ]
  },
  {
   "cell_type": "code",
   "execution_count": 11,
   "metadata": {
    "ExecuteTime": {
     "end_time": "2019-08-15T07:54:09.281698Z",
     "start_time": "2019-08-15T07:54:09.276601Z"
    }
   },
   "outputs": [],
   "source": [
    "class State(object):\n",
    "    \"\"\"状态机的节点\n",
    "    \"\"\"\n",
    "    def __init__(self, name):\n",
    "        self.name = name\n",
    "\n",
    "    def __str__(self):\n",
    "        return str(self.name)\n",
    "\n",
    "\n",
    "class Input(object):\n",
    "    \"\"\"每个节点的接受的状态\n",
    "    \"\"\"\n",
    "    pass\n",
    "\n",
    "\n",
    "class Condition(object):\n",
    "    \"\"\"判断是否状态转移的类\n",
    "    \"\"\"\n",
    "    def condition(self, input_class):\n",
    "        raise NotImplementedError\n",
    "\n",
    "\n",
    "class Transition(object):\n",
    "    \"\"\"执行状态转移动作的类\n",
    "    \"\"\"\n",
    "    def transition(self, input_class):\n",
    "        raise NotImplementedError"
   ]
  },
  {
   "cell_type": "markdown",
   "metadata": {},
   "source": [
    "<center>Table</center>\n",
    "\n",
    "```python\n",
    "{\n",
    "(CurrentState, InputA) : (ConditionA, TransitionA, NextA), \n",
    "(CurrentState, InputB) : (ConditionB, TransitionB, NextB), \n",
    "(CurrentState, InputC) : (ConditionC, TransitionC, NextC)\n",
    "}\n",
    "```"
   ]
  },
  {
   "cell_type": "code",
   "execution_count": 12,
   "metadata": {
    "ExecuteTime": {
     "end_time": "2019-08-15T08:20:47.135335Z",
     "start_time": "2019-08-15T08:20:47.129825Z"
    }
   },
   "outputs": [],
   "source": [
    "class StateMachine(object):\n",
    "    \"\"\"A table-driven state machine\n",
    "    \"\"\"\n",
    "    def __init__(self, init_state:State, tranTable):\n",
    "        self.state = init_state\n",
    "        self.transition_table = tranTable\n",
    "    \n",
    "    \n",
    "    def next(self, input_state):\n",
    "        pass"
   ]
  },
  {
   "cell_type": "code",
   "execution_count": null,
   "metadata": {},
   "outputs": [],
   "source": []
  }
 ],
 "metadata": {
  "kernelspec": {
   "display_name": "Python 3",
   "language": "python",
   "name": "python3"
  },
  "language_info": {
   "codemirror_mode": {
    "name": "ipython",
    "version": 3
   },
   "file_extension": ".py",
   "mimetype": "text/x-python",
   "name": "python",
   "nbconvert_exporter": "python",
   "pygments_lexer": "ipython3",
   "version": "3.6.7"
  },
  "toc": {
   "base_numbering": 1,
   "nav_menu": {},
   "number_sections": true,
   "sideBar": true,
   "skip_h1_title": false,
   "title_cell": "Table of Contents",
   "title_sidebar": "Contents",
   "toc_cell": false,
   "toc_position": {},
   "toc_section_display": true,
   "toc_window_display": false
  }
 },
 "nbformat": 4,
 "nbformat_minor": 2
}
